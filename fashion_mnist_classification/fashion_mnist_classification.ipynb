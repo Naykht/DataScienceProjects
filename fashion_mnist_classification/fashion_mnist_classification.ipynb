{
 "cells": [
  {
   "cell_type": "markdown",
   "metadata": {
    "id": "LughUvUcVski"
   },
   "source": [
    "## Домашнее задание №1\n",
    "\n",
    "В этом домашнем задании вы познакомитесь с pytorch сами и сможете попрактиковаться в его применении. \n",
    "\n",
    "#### План:\n",
    "\n",
    "1. Простейшие операции в pytorch\n",
    "2. Пишем Adam и применяем его к ручной модели\n",
    "3. Обучаем свою первую нейросеть"
   ]
  },
  {
   "cell_type": "code",
   "execution_count": 1,
   "metadata": {
    "id": "vVwyVpJ6Vskl"
   },
   "outputs": [],
   "source": [
    "import os\n",
    "import sys\n",
    "import math\n",
    "import torch\n",
    "import random\n",
    "import numpy as np\n",
    "from tqdm import tqdm\n",
    "import torch.nn.functional as F\n",
    "import torch.nn as nn\n",
    "import matplotlib.pyplot as plt\n",
    "%matplotlib inline\n",
    "from IPython.display import clear_output\n",
    "import warnings\n",
    "warnings.filterwarnings(\"ignore\")\n",
    "# device = 'cuda'"
   ]
  },
  {
   "cell_type": "markdown",
   "metadata": {
    "id": "UwsMRnzzVsku"
   },
   "source": [
    "### Простейшие операции на pytorch (2 балла)"
   ]
  },
  {
   "cell_type": "markdown",
   "metadata": {
    "id": "gsjrxrxAVskv"
   },
   "source": [
    "**Task**: Cоздайте два случайных тензора (двумерных, не квадратных):"
   ]
  },
  {
   "cell_type": "code",
   "execution_count": 2,
   "metadata": {
    "colab": {
     "base_uri": "https://localhost:8080/"
    },
    "id": "vyzqDmhhVskw",
    "outputId": "e345de98-fb93-4cf6-a2a9-072c1fad5f97"
   },
   "outputs": [
    {
     "name": "stdout",
     "output_type": "stream",
     "text": [
      "tensor([[0.2753, 0.0723, 0.8169, 0.5994, 0.3870],\n",
      "        [0.5764, 0.9370, 0.9033, 0.8816, 0.0743],\n",
      "        [0.9324, 0.7174, 0.5179, 0.4330, 0.3887]])\n",
      "tensor([[0.9677, 0.1098, 0.2067],\n",
      "        [0.6903, 0.6088, 0.0303],\n",
      "        [0.8088, 0.0834, 0.8581],\n",
      "        [0.5173, 0.9422, 0.8875],\n",
      "        [0.2694, 0.5512, 0.3566]])\n"
     ]
    }
   ],
   "source": [
    "x = torch.rand(3, 5)\n",
    "y = torch.rand(5, 3)\n",
    "print(x)\n",
    "print(y)"
   ]
  },
  {
   "cell_type": "markdown",
   "metadata": {
    "id": "rLz_4A_eVsk6"
   },
   "source": [
    "**Task**: Умножьте их друг на друга, результат запишите в третий тензор без использования оператора `=`, для создания третьего тензора предлагается использовать `torch.empty`:"
   ]
  },
  {
   "cell_type": "code",
   "execution_count": 3,
   "metadata": {
    "colab": {
     "base_uri": "https://localhost:8080/"
    },
    "id": "WhMnOJUYVsk7",
    "outputId": "8ced1f53-9f9d-41d6-96f0-099cb62bea0c"
   },
   "outputs": [
    {
     "name": "stdout",
     "output_type": "stream",
     "text": [
      "tensor([[3.5631e+19, 3.0673e-41, 3.3631e-44],\n",
      "        [0.0000e+00,        nan, 5.7644e-01],\n",
      "        [1.1578e+27, 1.1362e+30, 7.1547e+22]])\n"
     ]
    }
   ],
   "source": [
    "z = torch.empty(3, 3)\n",
    "print(z)"
   ]
  },
  {
   "cell_type": "code",
   "execution_count": 4,
   "metadata": {
    "colab": {
     "base_uri": "https://localhost:8080/"
    },
    "id": "8fp_gTiGVslD",
    "outputId": "d7b8da6a-87b4-4eb6-896b-1f3f6c12c63b"
   },
   "outputs": [
    {
     "name": "stdout",
     "output_type": "stream",
     "text": [
      "tensor([[1.3914, 0.9205, 1.4300],\n",
      "        [2.4113, 1.5808, 1.7316],\n",
      "        [2.1452, 1.2046, 1.1818]])\n"
     ]
    }
   ],
   "source": [
    "torch.mm(x, y, out=z)\n",
    "print(z)"
   ]
  },
  {
   "cell_type": "markdown",
   "metadata": {
    "id": "g0JqcMzvVslI"
   },
   "source": [
    "**Task**: Реализуйте ReLU использую только pytorch, примените его к тензору `x` (запрещено использование модулей torch.nn и его подмодулей, а также функции torch.relu)"
   ]
  },
  {
   "cell_type": "code",
   "execution_count": 5,
   "metadata": {
    "id": "q3LnYGOFVslI"
   },
   "outputs": [],
   "source": [
    "def relu_forward(x):\n",
    "    x[x < 0] = 0\n",
    "    return x\n",
    "assert torch.all(F.relu(x) == relu_forward(x))"
   ]
  },
  {
   "cell_type": "markdown",
   "metadata": {
    "id": "t7H1JlkmVslO"
   },
   "source": [
    "**Task**: Сделайте тоже самое c ELU (запрещено использование модулей torch.nn и его подмодулей):"
   ]
  },
  {
   "cell_type": "code",
   "execution_count": 6,
   "metadata": {
    "id": "czihqpFaVslP"
   },
   "outputs": [],
   "source": [
    "def elu_forward(x):\n",
    "    x[x < 0] = torch.exp(x[x < 0]) - 1\n",
    "    return x\n",
    "    \n",
    "assert torch.allclose(\n",
    "    F.elu(x),\n",
    "    elu_forward(x), \n",
    "    1e-4\n",
    ")"
   ]
  },
  {
   "cell_type": "markdown",
   "metadata": {
    "id": "ukE9WOKvVslW"
   },
   "source": [
    "**Task**: LeakyReLU (запрещено использование модулей torch.nn и его подмодулей):"
   ]
  },
  {
   "cell_type": "code",
   "execution_count": 7,
   "metadata": {
    "id": "2FaqgG7ZVslY"
   },
   "outputs": [],
   "source": [
    "def lrelu_forward(x, alpha):\n",
    "    x[x < 0] = alpha * x[x < 0]\n",
    "    return x\n",
    "\n",
    "assert torch.all(F.leaky_relu(x, 0.01) == lrelu_forward(x, 0.01))"
   ]
  },
  {
   "cell_type": "markdown",
   "metadata": {
    "id": "gQYJ6WAKVsld"
   },
   "source": [
    "**Task**: Теперь перейдем к немного более современным функциям активаций, например Mish, напомним как она выглядит:\n",
    "\n",
    "$$x * tanh(ln(1+e^x))$$\n",
    "\n",
    "(запрещено использование модулей torch.nn и его подмодулей)"
   ]
  },
  {
   "cell_type": "code",
   "execution_count": 8,
   "metadata": {
    "id": "xfo7ZC75Vsle"
   },
   "outputs": [],
   "source": [
    "def mish(x):\n",
    "    x = x * torch.tanh(torch.log(1 + torch.exp(x)))\n",
    "    return x"
   ]
  },
  {
   "cell_type": "code",
   "execution_count": 9,
   "metadata": {
    "id": "sdeNnbTzVsll"
   },
   "outputs": [],
   "source": [
    "assert torch.allclose(\n",
    "    mish(torch.tensor([1, 1, 1], dtype=torch.float32)), \n",
    "    torch.tensor([0.8651, 0.8651, 0.8651]), \n",
    "    atol=1e-4\n",
    ")\n",
    "\n",
    "assert torch.allclose(\n",
    "    mish(torch.tensor([0.6376, 0.4021, 0.6656, 0.3726], dtype=torch.float64)), \n",
    "    torch.tensor([0.5014, 0.2908, 0.5280, 0.2663], dtype=torch.float64), \n",
    "    atol=1e-4\n",
    ")"
   ]
  },
  {
   "cell_type": "markdown",
   "metadata": {
    "id": "Wf4cC6CZVslr"
   },
   "source": [
    "**Task**: Теперь реализуем swish, напомним как она выглядит:\n",
    "\n",
    "$$x * \\sigma(x)$$\n",
    "\n",
    "(запрещено использование модулей torch.nn и его подмодулей)"
   ]
  },
  {
   "cell_type": "code",
   "execution_count": 10,
   "metadata": {
    "id": "d_He_vYOVslt"
   },
   "outputs": [],
   "source": [
    "def swish(x):\n",
    "    x = x * (1 / (1 + torch.exp(-x)))\n",
    "    return x"
   ]
  },
  {
   "cell_type": "code",
   "execution_count": 11,
   "metadata": {
    "id": "6LE76s1bVslz"
   },
   "outputs": [],
   "source": [
    "assert torch.allclose(\n",
    "    swish(torch.tensor([1, 1, 1], dtype=torch.float32)), \n",
    "    torch.tensor([0.7311, 0.7311, 0.7311]), \n",
    "    atol=1e-4\n",
    ")\n",
    "\n",
    "assert torch.allclose(\n",
    "    swish(torch.tensor([0.6376, 0.4021, 0.6656, 0.3726], dtype=torch.float64)), \n",
    "    torch.tensor([0.4171, 0.2409, 0.4396, 0.2206], dtype=torch.float64), \n",
    "    atol=1e-4\n",
    ")"
   ]
  },
  {
   "cell_type": "markdown",
   "metadata": {
    "id": "A7cfmVNfVsl4"
   },
   "source": [
    "### Пишем Adam и применяем его к логистической регрессии (4 балла)\n",
    "\n",
    "\n",
    "В данной секции вам нужно сделать две вещи: \n",
    "\n",
    "1. Написать свой собственный оптимизатор подобно тому, который мы писали на семинаре\n",
    "2. Обучить логистическую регрессию побатчево на картинках из датасета \n",
    "\n",
    "\n",
    "#### Adam\n",
    "\n",
    "\n",
    "$$\n",
    "\\begin{eqnarray}\n",
    "g &=& \\frac{1}{m}\\nabla_w \\sum_i L(f(x_{i};w), y_{i}) \\\\\n",
    "m &=& \\beta_1 m + (1 - \\beta_1) g \\\\\n",
    "v &=& \\beta_2 v + (1 - \\beta_2) diag(gg^{T}) \\\\\n",
    "\\hat{m} &=& \\frac{m}{1 - \\beta_1^{t}} \\\\\n",
    "\\hat{v} &=& \\frac{v}{1 - \\beta_2^{t}} \\\\\n",
    "w &=& w - \\frac{\\eta}{\\sqrt{\\hat{v} + \\epsilon}} \\odot \\hat{m}\n",
    "\\end{eqnarray}\n",
    "$$"
   ]
  },
  {
   "cell_type": "code",
   "execution_count": 12,
   "metadata": {
    "id": "t4UNfw7fVsl5"
   },
   "outputs": [],
   "source": [
    "# абстрактный класс, не обращайте внимания\n",
    "from torch.optim import Optimizer\n",
    "\n",
    "\n",
    "class InClassOptimizer(Optimizer):\n",
    "    def step(self):\n",
    "        \"\"\"Perform single optimization step.\"\"\"\n",
    "        with torch.no_grad(): # выключим градиенты\n",
    "            for group in self.param_groups:\n",
    "                self._group_step(group)\n",
    "\n",
    "    def _group_step(self, group):\n",
    "        # group ~ dict[str, ...]\n",
    "        \"\"\"\n",
    "        Private helper function to perform\n",
    "        single optimization step on model parameters.\n",
    "        \"\"\"\n",
    "        raise NotImplementedError()"
   ]
  },
  {
   "cell_type": "markdown",
   "metadata": {
    "id": "xMOpIwaPVsmA"
   },
   "source": [
    "**Task**: Напишите свою реализацию Adam:"
   ]
  },
  {
   "cell_type": "code",
   "execution_count": 13,
   "metadata": {
    "id": "QbXB2aeVVsmB"
   },
   "outputs": [],
   "source": [
    "class Adam(InClassOptimizer):\n",
    "    t = 0\n",
    "\n",
    "    def __init__(self, params, lr=0.001, eps=1e-13, beta_1=0.9, beta_2=0.999):\n",
    "        defaults = dict(lr=lr, eps=eps, beta_1=beta_1, beta_2=beta_2)\n",
    "        super().__init__(params, defaults)\n",
    "\n",
    "    def _group_step(self, group):\n",
    "        # One group contains information about values passed in init\n",
    "        # and model parameters to update\n",
    "        lr = group['lr']\n",
    "        eps = group['eps']\n",
    "        beta_1 = group['beta_1']\n",
    "        beta_2 = group['beta_2']\n",
    "        Adam.t += 1\n",
    "        for param in filter(lambda x: x.grad is not None, group['params']):\n",
    "            self._init_adam_buffer(param)\n",
    "            param_grad = param.grad\n",
    "            buffer = self._get_adam_buffer(param)\n",
    "            buffer['m'] = beta_1 * buffer['m'] + (1 - beta_1) * param_grad\n",
    "            buffer['u'] = beta_2 * buffer['u'] + (1 - beta_2) * param_grad ** 2\n",
    "            m_cap = buffer['m'] / (1 - beta_1 ** Adam.t)\n",
    "            u_cap = buffer['u'] / (1 - beta_2 ** Adam.t)\n",
    "            mul_adamar = m_cap / (torch.sqrt(u_cap) + eps)\n",
    "            param.add_(mul_adamar, alpha=-lr)\n",
    "\n",
    "    def _get_adam_buffer(self, param):\n",
    "        \"\"\"\n",
    "        Get accumulated gradients for Adam.\n",
    "\n",
    "        Parameters\n",
    "        ----------\n",
    "        param : `torch.Tensor`, required\n",
    "            Model parameter to get accumulated gradeints for Adagrad.\n",
    "\n",
    "        Returns\n",
    "        -------\n",
    "        Accumulated Adam gradients for parameter.\n",
    "        \"\"\"\n",
    "        param_state = self.state[param]\n",
    "        return param_state['adam_buffer']\n",
    "\n",
    "    def _init_adam_buffer(self, param):\n",
    "        \"\"\"\n",
    "        Initialize accumulated gradeints for adam.\n",
    "\n",
    "        Parameters\n",
    "        ----------\n",
    "        param : `torch.Tensor`, required\n",
    "            Model parameter to get accumulated gradeints for adam.\n",
    "        \"\"\"\n",
    "        param_state = self.state[param]\n",
    "        if 'adam_buffer' not in param_state:\n",
    "            param_state['adam_buffer'] = {'m': torch.zeros_like(param), 'u': torch.zeros_like(param)}"
   ]
  },
  {
   "cell_type": "markdown",
   "metadata": {
    "id": "76pzoYWMs6dC"
   },
   "source": [
    "Проверим, верно ли написан Adam."
   ]
  },
  {
   "cell_type": "code",
   "execution_count": 14,
   "metadata": {
    "id": "JMrJ9qSqsgfp"
   },
   "outputs": [],
   "source": [
    "from sklearn.datasets import make_regression\n",
    "\n",
    "def seed_everything(seed: int):\n",
    "    random.seed(seed)\n",
    "    os.environ[\"PYTHONHASHSEED\"] = str(seed)\n",
    "    np.random.seed(seed)\n",
    "    torch.manual_seed(seed)\n",
    "    torch.cuda.manual_seed(seed)\n",
    "    torch.backends.cudnn.deterministic = True\n",
    "\n",
    "X, y = map(\n",
    "    lambda x: torch.from_numpy(x).float(),\n",
    "    make_regression(n_samples=200, n_features=2)\n",
    ")\n",
    "\n",
    "\n",
    "def get_model():\n",
    "    seed_everything(13)\n",
    "    return torch.nn.Sequential(\n",
    "        torch.nn.Linear(2, 10),\n",
    "        torch.nn.Linear(10, 1)\n",
    "    )"
   ]
  },
  {
   "cell_type": "code",
   "execution_count": 15,
   "metadata": {
    "id": "e2fjtyHFtQkH"
   },
   "outputs": [],
   "source": [
    "def check_optimizer(model, optim, num_iter):\n",
    "    loss = torch.nn.MSELoss()\n",
    "    for i in range(num_iter):\n",
    "        output = loss(model(X), y.unsqueeze(-1))\n",
    "        output.backward()\n",
    "        optim.step()\n",
    "        optim.zero_grad()\n",
    "        if i % 100 == 0:\n",
    "            print(f'Iteration {i} loss:', output.item())"
   ]
  },
  {
   "cell_type": "code",
   "execution_count": 16,
   "metadata": {
    "colab": {
     "base_uri": "https://localhost:8080/"
    },
    "id": "agtYumuww2WA",
    "outputId": "43242f41-e076-4a12-c6fe-b3dc51f3db0a"
   },
   "outputs": [
    {
     "name": "stdout",
     "output_type": "stream",
     "text": [
      "Iteration 0 loss: 9216.2705078125\n",
      "Iteration 100 loss: 9107.80859375\n",
      "Iteration 200 loss: 8939.9140625\n",
      "Iteration 300 loss: 8687.439453125\n",
      "Iteration 400 loss: 8344.76171875\n",
      "Iteration 500 loss: 7914.60498046875\n",
      "Iteration 600 loss: 7409.1201171875\n",
      "Iteration 700 loss: 6848.03759765625\n",
      "Iteration 800 loss: 6255.61669921875\n",
      "Iteration 900 loss: 5653.826171875\n"
     ]
    }
   ],
   "source": [
    "model = get_model()\n",
    "optim = Adam(model.parameters(), lr=0.001)\n",
    "check_optimizer(model, optim, num_iter=1000)"
   ]
  },
  {
   "cell_type": "code",
   "execution_count": 17,
   "metadata": {
    "colab": {
     "base_uri": "https://localhost:8080/"
    },
    "id": "gVWSiEHPxCcL",
    "outputId": "eb966f8e-324a-4684-97dc-5e8f798c9e73"
   },
   "outputs": [
    {
     "name": "stdout",
     "output_type": "stream",
     "text": [
      "Iteration 0 loss: 9216.2705078125\n",
      "Iteration 100 loss: 9107.80859375\n",
      "Iteration 200 loss: 8939.9140625\n",
      "Iteration 300 loss: 8687.439453125\n",
      "Iteration 400 loss: 8344.76171875\n",
      "Iteration 500 loss: 7914.60498046875\n",
      "Iteration 600 loss: 7409.1201171875\n",
      "Iteration 700 loss: 6848.0361328125\n",
      "Iteration 800 loss: 6255.61767578125\n",
      "Iteration 900 loss: 5653.826171875\n"
     ]
    }
   ],
   "source": [
    "model = get_model()\n",
    "optim = torch.optim.Adam(model.parameters(), lr=0.001)\n",
    "check_optimizer(model, optim, num_iter=1000)"
   ]
  },
  {
   "cell_type": "markdown",
   "metadata": {
    "id": "b1-M158rfK_2"
   },
   "source": [
    "Адам написан верно!"
   ]
  },
  {
   "cell_type": "markdown",
   "metadata": {
    "id": "yRNPmdbeVsmJ"
   },
   "source": [
    "**Task**: Создайте параметры для обучения логистической регрессии, сделаем Xavier ициализацию, которая выглядит следующим образом: \n",
    "\n",
    "$$w \\sim U[-\\frac{\\sqrt{6}}{\\sqrt{n_{in} + n_{out}}}, \\frac{\\sqrt{6}}{\\sqrt{n_{in} + n_{out}}}]$$\n",
    "\n",
    "где: \n",
    "\n",
    "* $n_{in}$ -- размер входа (в нейронах) \n",
    "* $n_{out}$ -- размер выхода (в нейронах)\n",
    "\n",
    "Подумайте над выбором $n_{in}$ и $n_{out}$ самостоятельно. "
   ]
  },
  {
   "cell_type": "code",
   "execution_count": 18,
   "metadata": {
    "id": "jlbgnOp_QDp4"
   },
   "outputs": [],
   "source": [
    "def xavier(n_in, n_out):\n",
    "    return torch.Tensor(n_in, n_out).uniform_(-1, 1) * math.sqrt(6 / (n_in + n_out))"
   ]
  },
  {
   "cell_type": "code",
   "execution_count": 19,
   "metadata": {
    "id": "O4xm6qC5VsmK"
   },
   "outputs": [],
   "source": [
    "weights = xavier(28 * 28 * 1, 10).requires_grad_()\n",
    "intercept = torch.zeros(10, requires_grad=True)"
   ]
  },
  {
   "cell_type": "code",
   "execution_count": 20,
   "metadata": {
    "id": "DPgcJ2eCVsmP"
   },
   "outputs": [],
   "source": [
    "optimizer = Adam([weights, intercept])\n",
    "loss = nn.CrossEntropyLoss()"
   ]
  },
  {
   "cell_type": "markdown",
   "metadata": {
    "id": "smweJPylVsmU"
   },
   "source": [
    "Загрузим данные и создадим даталоадеры:"
   ]
  },
  {
   "cell_type": "code",
   "execution_count": 21,
   "metadata": {
    "id": "EgA_Vb3ho15t"
   },
   "outputs": [],
   "source": [
    "from torch.utils.data import DataLoader\n",
    "import torchvision\n",
    "import torchvision.transforms as transforms"
   ]
  },
  {
   "cell_type": "code",
   "execution_count": 22,
   "metadata": {
    "id": "nBYfEWo1VsmW"
   },
   "outputs": [],
   "source": [
    "fashion_mnist_train = torchvision.datasets.FashionMNIST(\n",
    "    './data',\n",
    "    download=True,\n",
    "    transform=transforms.Compose([transforms.ToTensor()])\n",
    ")\n",
    "train_dataloader = DataLoader(\n",
    "    fashion_mnist_train, batch_size=128, shuffle=True, num_workers=2\n",
    ")\n",
    "\n",
    "fashion_mnist_eval = torchvision.datasets.FashionMNIST(\n",
    "    './data',\n",
    "    train=False,\n",
    "    download=True,\n",
    "    transform=transforms.Compose([transforms.ToTensor()])\n",
    ")\n",
    "\n",
    "eval_dataloader = DataLoader(\n",
    "    fashion_mnist_eval, batch_size=128, num_workers=2\n",
    ")"
   ]
  },
  {
   "cell_type": "markdown",
   "metadata": {
    "id": "ArezjKMsVsmc"
   },
   "source": [
    "Напишите функцию для тренировки логистической регрессии, она должна: \n",
    "    * Делать предсказания \n",
    "    * Считать лосс \n",
    "    * Подсчитывать градиенты\n",
    "    * Делать шаг оптимизации\n",
    "    * Обнулять посчитанные градиенты\n",
    "    * Считать метрики \n",
    "    * Возвращать полученные метрики\n",
    "    \n",
    "После этого предусмотрите возможность визуализировать метрики, чтобы нарисовать картинки, а именно от вас требуется визуализировать: \n",
    "\n",
    "    * Зависимость лосса от количества итераций\n",
    "    * Зависимость доли правильных ответов от количества итераций"
   ]
  },
  {
   "cell_type": "code",
   "execution_count": 23,
   "metadata": {
    "id": "saJ8KPPlVsmd"
   },
   "outputs": [],
   "source": [
    "def train_logistic_regression(weights, bias, batch, loss, optimizer):\n",
    "    global train_loss_log\n",
    "    global train_acc_log\n",
    "    global train_loss\n",
    "    global train_size\n",
    "    global train_acc\n",
    "\n",
    "    x_train = batch[0]\n",
    "    x_train = x_train.view(x_train.shape[0], -1)\n",
    "    y_train = batch[1]\n",
    "\n",
    "    y_pred = x_train.mm(weights) + bias\n",
    "\n",
    "    loss_value = loss(y_pred, y_train)\n",
    "    train_loss += loss_value.item()\n",
    "    loss_value.backward()\n",
    "    optimizer.step()\n",
    "    optimizer.zero_grad()\n",
    "\n",
    "    train_loss += loss_value.item()\n",
    "    train_size += y_pred.size(0)\n",
    "    train_loss_log.append(loss_value.data / y_pred.size(0))\n",
    "\n",
    "    _, pred_classes = torch.max(y_pred, 1)\n",
    "    train_acc += (pred_classes == y_train).sum().item()\n",
    "    train_acc_log.append(np.mean((pred_classes == y_train).numpy()))"
   ]
  },
  {
   "cell_type": "code",
   "execution_count": 24,
   "metadata": {
    "id": "iTKMrewqXOMg"
   },
   "outputs": [],
   "source": [
    "class LogisticRegression(torch.nn.Module):\n",
    "    def _init_(self):\n",
    "        super(LogisticRegression, self)._init_()\n",
    "        self.fullc = torch.nn.Linear(in_features=1*28*28, out_features=10)\n",
    "\n",
    "    def forward(self, x):\n",
    "        x = self.fullc(x)\n",
    "        return x"
   ]
  },
  {
   "cell_type": "code",
   "execution_count": 25,
   "metadata": {
    "colab": {
     "base_uri": "https://localhost:8080/",
     "height": 370
    },
    "id": "QIIxyg7FVsmh",
    "outputId": "7084de97-73bf-4406-8733-27eab0e46eed"
   },
   "outputs": [
    {
     "data": {
      "image/png": "[encoded data removed]",
      "text/plain": [
       "<Figure size 864x360 with 2 Axes>"
      ]
     },
     "metadata": {
      "needs_background": "light",
      "tags": []
     },
     "output_type": "display_data"
    },
    {
     "name": "stdout",
     "output_type": "stream",
     "text": [
      "Train loss: 0.005474673781792323\n",
      "Train acc: 0.8764833333333333\n"
     ]
    }
   ],
   "source": [
    "train_loss_log = []\n",
    "train_acc_log = []\n",
    "\n",
    "for epoch in range(1, 100):\n",
    "    train_loss = 0.\n",
    "    train_size = 0.\n",
    "    train_acc = 0.\n",
    "\n",
    "    for batch in train_dataloader:\n",
    "          train_logistic_regression(weights, intercept, batch, loss, optimizer)\n",
    "\n",
    "fig, ax = plt.subplots(nrows=1, ncols=2, figsize=(12, 5))\n",
    "ax[1].plot(train_acc_log)\n",
    "ax[0].plot(train_loss_log)\n",
    "ax[0].set_xlabel('train steps')\n",
    "ax[1].set_xlabel('train steps')\n",
    "ax[0].set_ylabel('loss')\n",
    "ax[1].set_ylabel('accuracy')\n",
    "\n",
    "plt.grid()\n",
    "plt.show()\n",
    "\n",
    "print('Train loss:', train_loss / train_size)\n",
    "print('Train acc:', train_acc / train_size)"
   ]
  },
  {
   "cell_type": "markdown",
   "metadata": {
    "id": "lXICt3vvVsmn"
   },
   "source": [
    "#### Вопросы к секции: \n",
    "\n",
    "* Своими словами и без математики объясните благодаря чему Adam дает несмещенную оценку на квадрат градиента\n",
    "* Когда модель начала переобучаться? Как вы это поняли? Сделайте визуализацию и докажите свою точку зрения."
   ]
  },
  {
   "cell_type": "markdown",
   "metadata": {
    "id": "3HhIj4jOVsmo"
   },
   "source": [
    "### Моя первая нейросеть (4 балла)"
   ]
  },
  {
   "cell_type": "markdown",
   "metadata": {
    "id": "Om7mwIRgVsmp"
   },
   "source": [
    "В данной секции вам нужно сделать следующие вещи: \n",
    "\n",
    "* Реализовать три разных архитектуры нейросетей. Эти архитектуры должны принципиально отличаться друг от друга. Разрешается одной из архитекур брать полностью полносвязную модель. Остальные две должны быть сверточными и сильно отличаться друг от друга. К примеру, одна из таких архитектур может быть VGG подобная сеть, а другая ResNet подобная архитектура. \n",
    "\n",
    "* Написать цикл для обучения которым можно обучать все три модели без изменений кода\n",
    "\n",
    "* Попробовать каждую модель с двумя оптимизаторами: RMSprop и SGD with momentum\n",
    "\n",
    "* Визуализировать результаты перфоманса каждой модели (две метрики минимум для каждого сетапа, например, лосс и долю правильных ответов). В данном пункте мы ждем от вас визуализацию зависимости метрики от номера итерации обучения.\n",
    "\n",
    "* Сделать выводы какие были модели были лучше и как вы думаете почему?"
   ]
  },
  {
   "cell_type": "code",
   "execution_count": 26,
   "metadata": {
    "id": "vyHDwuyDZeAU"
   },
   "outputs": [],
   "source": [
    "def plot_history(train_history, val_history, title='loss'):\n",
    "    plt.figure()\n",
    "    plt.title('{}'.format(title))\n",
    "    plt.plot(train_history, label='train', zorder=1)\n",
    "    \n",
    "    points = np.array(val_history)\n",
    "    steps = list(range(0, len(train_history) + 1, int(len(train_history) / len(val_history))))[1:]\n",
    "    \n",
    "    plt.scatter(steps, val_history, marker='+', s=180, c='orange', label='val', zorder=2)\n",
    "    plt.xlabel('train steps')\n",
    "    \n",
    "    plt.legend(loc='best')\n",
    "    plt.grid()\n",
    "\n",
    "    plt.show()"
   ]
  },
  {
   "cell_type": "code",
   "execution_count": 27,
   "metadata": {
    "id": "Va23f22QVsmr"
   },
   "outputs": [],
   "source": [
    "def train_model(model, dataloader, optimizer):\n",
    "    train_loss_log = []\n",
    "    train_acc_log = []\n",
    "    val_loss_log = []\n",
    "    val_acc_log = []\n",
    "    \n",
    "    train_dataloader = dataloader[0]\n",
    "    test_dataloader = dataloader[1]\n",
    "    num_epoch = 4\n",
    "\n",
    "    for epoch in range(num_epoch):\n",
    "        train_loss = 0.\n",
    "        train_size = 0\n",
    "        train_acc = 0.\n",
    "\n",
    "        for x_train, y_train in train_dataloader:\n",
    "            y_pred = model(x_train)\n",
    "            loss = nn.CrossEntropyLoss()(y_pred, y_train)\n",
    "            loss.backward()\n",
    "            optimizer.step()\n",
    "            optimizer.zero_grad()\n",
    "            \n",
    "            train_loss += loss.item()\n",
    "            train_size += y_pred.size(0)\n",
    "            train_loss_log.append(loss.data / y_pred.size(0))\n",
    "\n",
    "            _, pred_classes = torch.max(y_pred, 1)\n",
    "            train_acc += (pred_classes == y_train).sum().item()\n",
    "            train_acc_log.append(np.mean((pred_classes == y_train).numpy()))\n",
    "\n",
    "        val_loss = 0.\n",
    "        val_size = 0\n",
    "        val_acc = 0.\n",
    "\n",
    "        with torch.no_grad():\n",
    "            for x_val, y_val in test_dataloader:\n",
    "                y_pred = model(x_val)\n",
    "                loss = nn.CrossEntropyLoss()(y_pred, y_val)\n",
    "\n",
    "                val_loss += loss.item()\n",
    "                val_size += y_pred.size(0)\n",
    "\n",
    "                _, pred_classes = torch.max(y_pred, 1)\n",
    "                val_acc += (pred_classes == y_val).sum().item()\n",
    "\n",
    "        val_loss_log.append(val_loss / val_size)\n",
    "        val_acc_log.append(val_acc / val_size)\n",
    "\n",
    "        # clear_output()\n",
    "    plot_history(train_loss_log, val_loss_log, 'loss')\n",
    "    plot_history(train_acc_log, val_acc_log, 'accuracy')\n",
    "\n",
    "    print('Train loss:', train_loss / train_size)\n",
    "    print('Train acc:', train_acc / train_size)\n",
    "    print('Val loss:', val_loss / val_size)\n",
    "    print('Val acc:', val_acc / val_size)"
   ]
  },
  {
   "cell_type": "markdown",
   "metadata": {
    "id": "CLD9H7xc0DE-"
   },
   "source": [
    "Архитектура первой модели - 3 полносвязных слоя с функцией активации ReLU после каждого:\n",
    "1. полносвязный слой с 300 выходами и нелинейностью ReLU;\n",
    "2. полносвязный слой со 100 выходами и нелинейностью ReLU;\n",
    "3. полносвязный слой с 10 выходами и softmax."
   ]
  },
  {
   "cell_type": "code",
   "execution_count": 28,
   "metadata": {
    "id": "ei5Ta4qwVsmw"
   },
   "outputs": [],
   "source": [
    "class FirstModel(nn.Module):\n",
    "    def __init__(self):\n",
    "        super(FirstModel, self).__init__()\n",
    "        self.fullc1 = nn.Linear(in_features=1*28*28, out_features=300)\n",
    "        self.fullc2 = nn.Linear(in_features=300, out_features=100)\n",
    "        self.fullc3 = nn.Linear(in_features=100, out_features=10)\n",
    "        # self.softmax = nn.Softmax()\n",
    "\n",
    "    def forward(self, x):\n",
    "        x = nn.Flatten()(x)\n",
    "        x = F.relu(self.fullc1(x))\n",
    "        x = F.relu(self.fullc2(x))\n",
    "        # x = self.softmax(self.fullc3(x))\n",
    "        x = self.fullc3(x)\n",
    "        return x"
   ]
  },
  {
   "cell_type": "markdown",
   "metadata": {
    "id": "6zf-Gnk20eM5"
   },
   "source": [
    "Архитектура второй модели - 1 блок VGG, в котором после каждого сверточного слоя стоит BatchNorm. После блока VGG слой Dropout. В части многослойного персептрона 2 полносвязных слоя, между которыми стоит функция активации ReLU, BatchNorm и Dropout слои, и softmax."
   ]
  },
  {
   "cell_type": "code",
   "execution_count": 29,
   "metadata": {
    "id": "4tiQnhbnVsm1"
   },
   "outputs": [],
   "source": [
    "second_model_1 = nn.Sequential(\n",
    "    nn.Conv2d(in_channels=1, out_channels=16, kernel_size=3, padding=1), # начало блока VGG\n",
    "    nn.BatchNorm2d(16),\n",
    "    nn.ReLU(),\n",
    "    nn.Conv2d(in_channels=16, out_channels=16, kernel_size=3, padding=1),\n",
    "    nn.BatchNorm2d(16),\n",
    "    nn.ReLU(),\n",
    "    nn.MaxPool2d(kernel_size=2, stride=2), # конец блока VGG\n",
    "    nn.Dropout(0.2),\n",
    "    nn.Flatten(),\n",
    "    nn.Linear(in_features=16*14*14, out_features=128), # начало многослойного персептрона\n",
    "    nn.BatchNorm1d(128),\n",
    "    nn.ReLU(),\n",
    "    nn.Dropout(0.5),\n",
    "    nn.Linear(in_features=128, out_features=10),\n",
    "    # nn.Softmax() \n",
    ")"
   ]
  },
  {
   "cell_type": "code",
   "execution_count": 30,
   "metadata": {
    "id": "YZYUGPN4bV6X"
   },
   "outputs": [],
   "source": [
    "second_model_2 = nn.Sequential(\n",
    "    nn.Conv2d(in_channels=1, out_channels=16, kernel_size=3, padding=1), # начало блока VGG\n",
    "    nn.BatchNorm2d(16),\n",
    "    nn.ReLU(),\n",
    "    nn.Conv2d(in_channels=16, out_channels=16, kernel_size=3, padding=1),\n",
    "    nn.BatchNorm2d(16),\n",
    "    nn.ReLU(),\n",
    "    nn.MaxPool2d(kernel_size=2, stride=2), # конец блока VGG\n",
    "    nn.Dropout(0.2),\n",
    "    nn.Flatten(),\n",
    "    nn.Linear(in_features=16*14*14, out_features=128), # начало многослойного персептрона\n",
    "    nn.BatchNorm1d(128),\n",
    "    nn.ReLU(),\n",
    "    nn.Dropout(0.5),\n",
    "    nn.Linear(in_features=128, out_features=10),\n",
    "    # nn.Softmax() \n",
    ")"
   ]
  },
  {
   "cell_type": "markdown",
   "metadata": {
    "id": "q1YknOLsTQ4Y"
   },
   "source": [
    "Архитектура третьей модели - AlexNet."
   ]
  },
  {
   "cell_type": "code",
   "execution_count": 31,
   "metadata": {
    "id": "VoE9JYXFnnHE"
   },
   "outputs": [],
   "source": [
    "class AlexNet(nn.Module):\n",
    "    def __init__(self):\n",
    "        super(AlexNet, self).__init__()\n",
    "        self.conv1 = nn.Conv2d(in_channels=1, out_channels=96, kernel_size=4)\n",
    "        self.maxpool1 = nn.MaxPool2d(kernel_size=2, stride=2)\n",
    "        self.conv2 = nn.Conv2d(in_channels=96, out_channels=256, kernel_size=5, padding=2)\n",
    "        self.maxpool2 = nn.MaxPool2d(kernel_size=2, stride=2)\n",
    "        self.conv3 = nn.Conv2d(in_channels=256, out_channels=384, kernel_size=3, padding=1)\n",
    "        self.conv4 = nn.Conv2d(in_channels=384, out_channels=384, kernel_size=3, padding=1)\n",
    "        self.conv5 = nn.Conv2d(in_channels=384, out_channels=256, kernel_size=3, padding=1)\n",
    "        self.maxpool3 = nn.MaxPool2d(kernel_size=2, stride=1)\n",
    "        self.fullc1 = nn.Linear(in_features=256*6*6, out_features=4096)\n",
    "        self.fullc2 = nn.Linear(in_features=4096, out_features=10)\n",
    "        # self.softmax = nn.Softmax()\n",
    "\n",
    "    def forward(self, x):\n",
    "        x = self.maxpool1(F.relu(self.conv1(x)))\n",
    "        x = self.maxpool2(F.relu(self.conv2(x)))\n",
    "        x = F.relu(self.conv3(x))\n",
    "        x = F.relu(self.conv4(x))\n",
    "        x = self.maxpool3(F.relu(self.conv5(x)))\n",
    "        x = nn.Flatten()(x)\n",
    "        x = F.relu(self.fullc1(x))\n",
    "        # x = self.softmax(F.relu(self.fullc2(x)))\n",
    "        x = F.relu(self.fullc2(x))\n",
    "        return x"
   ]
  },
  {
   "cell_type": "markdown",
   "metadata": {
    "id": "HOPgDQX0Htil"
   },
   "source": [
    "Архитектур четвер LeNet-5."
   ]
  },
  {
   "cell_type": "code",
   "execution_count": 32,
   "metadata": {
    "id": "f5WSMzedQNWS"
   },
   "outputs": [],
   "source": [
    "class LeNet5(nn.Module):\n",
    "    def __init__(self):\n",
    "        super(LeNet5, self).__init__()\n",
    "        self.conv1 = nn.Conv2d(in_channels=1, out_channels=6, kernel_size=5)\n",
    "        self.avgpool1 = nn.AvgPool2d(kernel_size=2, stride=2)\n",
    "        self.conv2 = nn.Conv2d(in_channels=6, out_channels=16, kernel_size=5)\n",
    "        self.avgpool2 = nn.AvgPool2d(kernel_size=1, stride=2)\n",
    "        self.fullc1 = nn.Linear(in_features=16*5*5, out_features=120)\n",
    "        self.fullc2 = nn.Linear(in_features=120, out_features=84)\n",
    "        self.fullc3 = nn.Linear(in_features=84, out_features=10)\n",
    "        # self.softmax = nn.Softmax()\n",
    "\n",
    "    def forward(self, x):\n",
    "        x = self.avgpool1(F.tanh(self.conv1(x)))\n",
    "        x = self.avgpool2(F.tanh(self.conv2(x)))\n",
    "        x = x.view(x.size(0), -1)\n",
    "        x = F.tanh(self.fullc1(x))\n",
    "        x = F.tanh(self.fullc2(x))\n",
    "        # x = self.softmax(F.relu(self.fullc2(x)))\n",
    "        x = self.fullc3(x)\n",
    "        return x"
   ]
  },
  {
   "cell_type": "code",
   "execution_count": 33,
   "metadata": {
    "id": "B9dk2hZgfXkN"
   },
   "outputs": [],
   "source": [
    "dataloader = [train_dataloader, eval_dataloader]"
   ]
  },
  {
   "cell_type": "code",
   "execution_count": 34,
   "metadata": {
    "colab": {
     "base_uri": "https://localhost:8080/",
     "height": 1000
    },
    "id": "4xnuUV51VsnI",
    "outputId": "97c36ecd-7d62-4d93-ac8a-33d5b1e03990"
   },
   "outputs": [
    {
     "name": "stdout",
     "output_type": "stream",
     "text": [
      "||| Модель - Полносвязный слой |||\n",
      "*** Оптимизатор - SGD with momentum ***\n"
     ]
    },
    {
     "data": {
      "image/png": "[encoded data removed]",
      "text/plain": [
       "<Figure size 432x288 with 1 Axes>"
      ]
     },
     "metadata": {
      "needs_background": "light",
      "tags": []
     },
     "output_type": "display_data"
    },
    {
     "data": {
      "image/png": "[encoded data removed]",
      "text/plain": [
       "<Figure size 432x288 with 1 Axes>"
      ]
     },
     "metadata": {
      "needs_background": "light",
      "tags": []
     },
     "output_type": "display_data"
    },
    {
     "name": "stdout",
     "output_type": "stream",
     "text": [
      "Train loss: 0.005210809735953808\n",
      "Train acc: 0.76365\n",
      "Val loss: 0.00514321820139885\n",
      "Val acc: 0.7663\n",
      "\n",
      "*** Оптимизатор - RMSprop ***\n"
     ]
    },
    {
     "data": {
      "image/png": "[encoded data removed]",
      "text/plain": [
       "<Figure size 432x288 with 1 Axes>"
      ]
     },
     "metadata": {
      "needs_background": "light",
      "tags": []
     },
     "output_type": "display_data"
    },
    {
     "data": {
      "image/png": "[encoded data removed]",
      "text/plain": [
       "<Figure size 432x288 with 1 Axes>"
      ]
     },
     "metadata": {
      "needs_background": "light",
      "tags": []
     },
     "output_type": "display_data"
    },
    {
     "name": "stdout",
     "output_type": "stream",
     "text": [
      "Train loss: 0.0025010496154427527\n",
      "Train acc: 0.8825\n",
      "Val loss: 0.002954730488359928\n",
      "Val acc: 0.8624\n"
     ]
    }
   ],
   "source": [
    "print('||| Модель - Полносвязный слой |||')\n",
    "first_model_1 = FirstModel()\n",
    "print('*** Оптимизатор - SGD with momentum ***')\n",
    "optimizer = torch.optim.SGD(first_model_1.parameters(), momentum=0.9, lr=0.001)\n",
    "train_model(first_model_1, dataloader, optimizer)\n",
    "print()\n",
    "first_model_2 = FirstModel()\n",
    "print('*** Оптимизатор - RMSprop ***')\n",
    "optimizer = torch.optim.RMSprop(first_model_2.parameters(), lr=0.001)\n",
    "train_model(first_model_2, dataloader, optimizer)"
   ]
  },
  {
   "cell_type": "code",
   "execution_count": 35,
   "metadata": {
    "colab": {
     "base_uri": "https://localhost:8080/",
     "height": 1000
    },
    "id": "O9i8wVjNlUDT",
    "outputId": "205c0829-dd2f-4b22-f6d0-2c6e54730f04"
   },
   "outputs": [
    {
     "name": "stdout",
     "output_type": "stream",
     "text": [
      "||| Модель - сеть с блоком VGG |||\n",
      "*** Оптимизатор - SGD with momentum ***\n"
     ]
    },
    {
     "data": {
      "image/png": "[encoded data removed]",
      "text/plain": [
       "<Figure size 432x288 with 1 Axes>"
      ]
     },
     "metadata": {
      "needs_background": "light",
      "tags": []
     },
     "output_type": "display_data"
    },
    {
     "data": {
      "image/png": "[encoded data removed]",
      "text/plain": [
       "<Figure size 432x288 with 1 Axes>"
      ]
     },
     "metadata": {
      "needs_background": "light",
      "tags": []
     },
     "output_type": "display_data"
    },
    {
     "name": "stdout",
     "output_type": "stream",
     "text": [
      "Train loss: 0.0029672453259428342\n",
      "Train acc: 0.8708166666666667\n",
      "Val loss: 0.003138307474553585\n",
      "Val acc: 0.8617\n",
      "\n",
      "*** Оптимизатор - RMSprop ***\n"
     ]
    },
    {
     "data": {
      "image/png": "[encoded data removed]",
      "text/plain": [
       "<Figure size 432x288 with 1 Axes>"
      ]
     },
     "metadata": {
      "needs_background": "light",
      "tags": []
     },
     "output_type": "display_data"
    },
    {
     "data": {
      "image/png": "[encoded data removed]",
      "text/plain": [
       "<Figure size 432x288 with 1 Axes>"
      ]
     },
     "metadata": {
      "needs_background": "light",
      "tags": []
     },
     "output_type": "display_data"
    },
    {
     "name": "stdout",
     "output_type": "stream",
     "text": [
      "Train loss: 0.0018202654883265495\n",
      "Train acc: 0.9153\n",
      "Val loss: 0.0021996107906103136\n",
      "Val acc: 0.8986\n"
     ]
    }
   ],
   "source": [
    "print('||| Модель - сеть с блоком VGG |||')\n",
    "print('*** Оптимизатор - SGD with momentum ***')\n",
    "optimizer = torch.optim.SGD(second_model_1.parameters(), momentum=0.9, lr=0.001)\n",
    "train_model(second_model_1, dataloader, optimizer)\n",
    "print()\n",
    "print('*** Оптимизатор - RMSprop ***')\n",
    "optimizer = torch.optim.RMSprop(second_model_2.parameters(), lr=0.001)\n",
    "train_model(second_model_2, dataloader, optimizer)"
   ]
  },
  {
   "cell_type": "code",
   "execution_count": 36,
   "metadata": {
    "id": "NGzAmEvZbrQa"
   },
   "outputs": [],
   "source": [
    "# print('||| Модель - AlexNet |||')\n",
    "# third_model_1 = AlexNet()\n",
    "# print('*** Оптимизатор - SGD with momentum ***')\n",
    "# optimizer = torch.optim.SGD(third_model_1.parameters(), momentum=0.9, lr=0.001)\n",
    "# train_model(third_model_1, dataloader, optimizer)\n",
    "# print()\n",
    "# third_model_2 = AlexNet()\n",
    "# print('*** Оптимизатор - RMSprop ***')\n",
    "# optimizer = torch.optim.RMSprop(third_model_2.parameters(), lr=0.001)\n",
    "# train_model(third_model_2, dataloader, optimizer)"
   ]
  },
  {
   "cell_type": "code",
   "execution_count": 37,
   "metadata": {
    "id": "Ejl-M46Aepsp"
   },
   "outputs": [],
   "source": [
    "# print('||| Модель - LeNet-5 |||')\n",
    "# third_model_1 = LeNet5()\n",
    "# print('*** Оптимизатор - SGD with momentum ***')\n",
    "# optimizer = torch.optim.SGD(third_model_1.parameters(), momentum=0.9, lr=0.001)\n",
    "# train_model(third_model_1, dataloader, optimizer)\n",
    "# print()\n",
    "# third_model_2 = LeNet5()\n",
    "# print('*** Оптимизатор - RMSprop ***')\n",
    "# optimizer = torch.optim.RMSprop(third_model_2.parameters(), lr=0.001)\n",
    "# train_model(third_model_2, dataloader, optimizer)"
   ]
  },
  {
   "cell_type": "markdown",
   "metadata": {
    "id": "COIGkD2JkFiU"
   },
   "source": [
    "Лучшей моделью стала сеть с VGG-блоком и оптимизатором RMSprop. Это модель стала лучшей потому, что в ней присутствуют сверточные слои, которые выделяют признаки для модели. Также оптимизатор RMSprop является адаптивным вариантом градиентного спуска, у которого веса подстраивают в процессе обучения на каждом шаге в отличие от SGD with momentum."
   ]
  },
  {
   "cell_type": "code",
   "execution_count": 37,
   "metadata": {
    "id": "aiyeXBXSlFXT"
   },
   "outputs": [],
   "source": []
  }
 ],
 "metadata": {
  "accelerator": "GPU",
  "colab": {
   "collapsed_sections": [
    "lXICt3vvVsmn"
   ],
   "name": "hw1.ipynb",
   "provenance": []
  },
  "kernelspec": {
   "display_name": "Python 3",
   "language": "python",
   "name": "python3"
  },
  "language_info": {
   "codemirror_mode": {
    "name": "ipython",
    "version": 3
   },
   "file_extension": ".py",
   "mimetype": "text/x-python",
   "name": "python",
   "nbconvert_exporter": "python",
   "pygments_lexer": "ipython3",
   "version": "3.7.4"
  }
 },
 "nbformat": 4,
 "nbformat_minor": 1
}
