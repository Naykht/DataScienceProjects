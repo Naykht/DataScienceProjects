{
 "cells": [
  {
   "cell_type": "code",
   "execution_count": 30,
   "metadata": {
    "id": "BVrrwTJNjuDt"
   },
   "outputs": [],
   "source": [
    "import numpy as np\n",
    "import pandas as pd\n",
    "\n",
    "import matplotlib.pyplot as plt\n",
    "%matplotlib inline\n",
    "\n",
    "from sklearn.preprocessing import normalize\n",
    "from sklearn.model_selection import train_test_split\n",
    "from sklearn.metrics import accuracy_score\n",
    "from sklearn.linear_model import LogisticRegression\n",
    "from sklearn.svm import LinearSVC\n",
    "from sklearn.feature_extraction.text import HashingVectorizer\n",
    "\n",
    "\n",
    "from nltk.tokenize import WordPunctTokenizer\n",
    "from pymystem3 import Mystem\n",
    "\n",
    "from tqdm import tqdm"
   ]
  },
  {
   "cell_type": "code",
   "execution_count": 56,
   "metadata": {
    "id": "BqEuoDhqNgoa",
    "outputId": "9a05c421-1c99-4625-f0da-819350b9d7a0"
   },
   "outputs": [
    {
     "data": {
      "text/html": [
       "<div>\n",
       "<style scoped>\n",
       "    .dataframe tbody tr th:only-of-type {\n",
       "        vertical-align: middle;\n",
       "    }\n",
       "\n",
       "    .dataframe tbody tr th {\n",
       "        vertical-align: top;\n",
       "    }\n",
       "\n",
       "    .dataframe thead th {\n",
       "        text-align: right;\n",
       "    }\n",
       "</style>\n",
       "<table border=\"1\" class=\"dataframe\">\n",
       "  <thead>\n",
       "    <tr style=\"text-align: right;\">\n",
       "      <th></th>\n",
       "      <th>title</th>\n",
       "      <th>description</th>\n",
       "      <th>Category_name</th>\n",
       "      <th>Category</th>\n",
       "    </tr>\n",
       "    <tr>\n",
       "      <th>id</th>\n",
       "      <th></th>\n",
       "      <th></th>\n",
       "      <th></th>\n",
       "      <th></th>\n",
       "    </tr>\n",
       "  </thead>\n",
       "  <tbody>\n",
       "    <tr>\n",
       "      <th>382220</th>\n",
       "      <td>Прихожая</td>\n",
       "      <td>В хорошем состоянии. Торг</td>\n",
       "      <td>Мебель и интерьер</td>\n",
       "      <td>20</td>\n",
       "    </tr>\n",
       "    <tr>\n",
       "      <th>397529</th>\n",
       "      <td>Кордиант 215/55/16 Летние</td>\n",
       "      <td>Кордиант 215/55/16 Летние/\\n /\\nАртикул: 1737l...</td>\n",
       "      <td>Запчасти и аксессуары</td>\n",
       "      <td>10</td>\n",
       "    </tr>\n",
       "    <tr>\n",
       "      <th>584569</th>\n",
       "      <td>Стол</td>\n",
       "      <td>Стол, 2 рабочих места . Стол серого цвета, в д...</td>\n",
       "      <td>Мебель и интерьер</td>\n",
       "      <td>20</td>\n",
       "    </tr>\n",
       "    <tr>\n",
       "      <th>2513100</th>\n",
       "      <td>Комбинезон</td>\n",
       "      <td>Размер-42/44</td>\n",
       "      <td>Одежда, обувь, аксессуары</td>\n",
       "      <td>27</td>\n",
       "    </tr>\n",
       "    <tr>\n",
       "      <th>1091886</th>\n",
       "      <td>Ветровка</td>\n",
       "      <td>На 2 года</td>\n",
       "      <td>Детская одежда и обувь</td>\n",
       "      <td>29</td>\n",
       "    </tr>\n",
       "  </tbody>\n",
       "</table>\n",
       "</div>"
      ],
      "text/plain": [
       "                             title  \\\n",
       "id                                   \n",
       "382220                    Прихожая   \n",
       "397529   Кордиант 215/55/16 Летние   \n",
       "584569                        Стол   \n",
       "2513100                 Комбинезон   \n",
       "1091886                   Ветровка   \n",
       "\n",
       "                                               description  \\\n",
       "id                                                           \n",
       "382220                           В хорошем состоянии. Торг   \n",
       "397529   Кордиант 215/55/16 Летние/\\n /\\nАртикул: 1737l...   \n",
       "584569   Стол, 2 рабочих места . Стол серого цвета, в д...   \n",
       "2513100                                       Размер-42/44   \n",
       "1091886                                          На 2 года   \n",
       "\n",
       "                     Category_name  Category  \n",
       "id                                            \n",
       "382220           Мебель и интерьер        20  \n",
       "397529       Запчасти и аксессуары        10  \n",
       "584569           Мебель и интерьер        20  \n",
       "2513100  Одежда, обувь, аксессуары        27  \n",
       "1091886     Детская одежда и обувь        29  "
      ]
     },
     "execution_count": 56,
     "metadata": {},
     "output_type": "execute_result"
    }
   ],
   "source": [
    "data = pd.read_csv(\"/kaggle/input/train_subset.csv\", index_col='id')\n",
    "\n",
    "data.head()"
   ]
  },
  {
   "cell_type": "code",
   "execution_count": 57,
   "metadata": {
    "id": "Kg8iPp7fiwGh",
    "outputId": "ed52d9fa-831c-4617-cec6-cb5c5def7631"
   },
   "outputs": [
    {
     "data": {
      "text/plain": [
       "(30000, 4)"
      ]
     },
     "execution_count": 57,
     "metadata": {},
     "output_type": "execute_result"
    }
   ],
   "source": [
    "data.shape"
   ]
  },
  {
   "cell_type": "code",
   "execution_count": 58,
   "metadata": {
    "id": "A1hvzAMETU2d"
   },
   "outputs": [],
   "source": [
    "X = data[['title', 'description']].to_numpy()\n",
    "y = data['Category'].to_numpy()\n",
    "\n",
    "del data"
   ]
  },
  {
   "cell_type": "code",
   "execution_count": 60,
   "metadata": {
    "id": "6fia4_3vNprp"
   },
   "outputs": [],
   "source": [
    "X_train, X_test, y_train, y_test = train_test_split(X, y, test_size=0.3, random_state=42)"
   ]
  },
  {
   "cell_type": "markdown",
   "metadata": {},
   "source": [
    "### Другие способы лемматизации (pymorphy2, spaCy) (2 балла)"
   ]
  },
  {
   "cell_type": "markdown",
   "metadata": {},
   "source": [
    "#### pymorphy2"
   ]
  },
  {
   "cell_type": "code",
   "execution_count": null,
   "metadata": {},
   "outputs": [],
   "source": [
    "!pip install pymorphy2"
   ]
  },
  {
   "cell_type": "code",
   "execution_count": null,
   "metadata": {},
   "outputs": [],
   "source": [
    "!pip install pymorphy2-dicts\n",
    "!pip install DAWG-Python"
   ]
  },
  {
   "cell_type": "code",
   "execution_count": null,
   "metadata": {},
   "outputs": [],
   "source": [
    "from pymorphy2 import MorphAnalyzer\n",
    "pymorphy2_analyzer = MorphAnalyzer()"
   ]
  },
  {
   "cell_type": "code",
   "execution_count": null,
   "metadata": {},
   "outputs": [],
   "source": [
    "def preprocess_py(text: str) -> str:\n",
    "    return pymorphy2_analyzer.parse(text.lower())[0].normal_form\n",
    "\n",
    "def tokenize_X_py(X):\n",
    "    for i in range(X.shape[0]):\n",
    "        for j in range(X.shape[1]):\n",
    "            help_list = []\n",
    "            for word in X[i][j].split(' '):\n",
    "                word_py = preprocess_py(word)\n",
    "                help_list.append(word_py)\n",
    "            X[i][j] = help_list\n",
    "    return X"
   ]
  },
  {
   "cell_type": "code",
   "execution_count": null,
   "metadata": {},
   "outputs": [],
   "source": [
    "X_train_py = tokenize_X_py(X_train)\n",
    "X_test_py = tokenize_X_py(X_test)"
   ]
  },
  {
   "cell_type": "code",
   "execution_count": 31,
   "metadata": {},
   "outputs": [
    {
     "data": {
      "text/plain": [
       "array([[list(['сапог', '', '', '46', '', '', 'размер', '', '', 'новый', '\\n']),\n",
       "        list(['сапог', '', '', '46', '', '', 'размер', '', '', 'новый', '\\n'])],\n",
       "       [list(['светильник', '', '', 'потолочный', '', '', 'swarovski', '\\n']),\n",
       "        list(['светильник', '', '', 'потолочный', '', '', 'swarovski', '', '', '6', '', '', 'штука', '', ',', '', 'цена', '', '', 'за', '', '', 'штука', '.', '', '', 'в', '', '', 'эксплуатация', '', '', '2', '', '', 'год', '', ',', '', 'продаваться', '', '', 'в', '', '', 'связь', '', '', 'с', '', '', 'смена', '', '', 'интерьер', '', '', 'в', '', '', 'квартира', '\\n'])],\n",
       "       [list(['iphone', '', '', '7', '', '', 'plus', '', '', '128gb', '', '', 'red', '', '', 'красный', '', '', 'в', '', '', 'наличие', '\\n']),\n",
       "        list(['\\xa0/\\n', '/\\n', '', '', 'данный', '', '', 'цена', '', '', 'только', '', '', 'для', '', '', 'подписчик', '', '', 'instagram', ':', '', 'iqmac', '/\\n', '/\\n', '', '', 'новый', '', '', 'красный', '', '', 'айфон', '', '', '7', '', '', 'plus', '', '', 'в', '', '', 'наличие', '', '', 'это', '', '', 'элегантный', '', '', 'и', '', '', 'мощный', '', '', 'смартфон', ',', '', 'который', '', '', 'готовый', '', '', 'в', '', '', 'полный', '', '', 'мера', '', '', 'раскрывать', '', '', 'новый', '', '', 'возможность', '', '', 'ios', '', '', '10', '.', '', '', 'аппарат', '', '', 'с', '', '', '4', '-', 'ядерный', '', '', 'процессор', '', '', 'а10', '', '', 'и', '', '', '3', '', '', 'гб', '', '', 'озу', '', '', 'с', '', '', 'лёгкость', '', '', 'решать', '', '', 'самый', '', '', 'ресурсоёмкий', '', '', 'задача', ',', '', 'позволять', '', '', 'наслаждаться', '', '', 'быстродействие', '', '«', 'тяжёлый', '»', '', 'приложение', '', '', 'и', '', '', 'игра', '', '', 'на', '', '', '5', ',', '5', '-', 'дюймовый', '', '', 'дисплей', '.', '', '', 'аппарат', '', '', 'получать', '', '', 'экран', ',', '', 'как', '', '', 'у', '', '', 'ipad', '', '', 'pro', ',', '', 'так', '', '', 'что', '', '', 'картинка', '', '', 'теперь', '', '', 'соответствовать', '', '', 'кинематографический', '', '', 'стандарт', '.', '\\n'])],\n",
       "       ...,\n",
       "       [list(['lada', '', '', 'kalina', ',', '', '2008', '\\n']),\n",
       "        list(['весь', '', '', 'информация', '', '', 'о', '', '', 'кредитование', '', '', 'можно', '', '', 'получать', '', '', 'у', '', '', 'сотрудник', '', '', 'петровский', '', '', 'автоцентр', '.', '/\\n', '/\\n', 'о', '', '', 'автомобиль', ':/\\n', '-', '', 'автомобиль', '', '', 'приобретаться', '', '', 'у', '', '', 'официальный', '', '', 'дилер', '/\\n', '-', '', '2', '', '', 'хозяин', '/\\n', '-', '', 'оригинал', '', '', 'птс', '/\\n', '-', '', 'полный', '', '', 'комплект', '', '', 'документ', '/\\n', '-', '', 'автомобиль', '', '', 'в', '', '', 'родной', '', '', 'краска', '/\\n', '-', '', 'автомобиль', '', '', 'принимать', '', '', 'в', '', '', 'зачёт', '', '', 'на', '', '', 'новый', '', '', 'renault', '/\\n', '/\\n', 'гарантировать', '', '', 'скидка', ':/\\n', '-', '', 'при', '', '', 'сдача', '', '', 'в', '', '', 'зачёт', '', '', 'свой', '', '', 'автомобиль', '', '/\\n', '-', '', 'при', '', '', 'покупка', '', '', 'в', '', '', 'кредит', '', '/\\n', '/\\n', 'скидка', '', '', 'суммироваться', '!', '/\\n', '/\\n', 'петровский', '', '', 'автоцентр', ',', '', 'официальный', '', '', 'дилер', '', '', 'марка', '', '', 'renault', '', '', 'на', '', '', 'протяжение', '', '', '23', '', '', 'год', '.', '', '/\\n', 'мы', '', '', 'являться', '', '', 'хороший', '', '', 'дилер', '', '', 'два', '', '', 'столица', '.', '/\\n', '/\\n', 'весь', '', '', 'автомобиль', '', '', 'проходить', '', '', 'подробный', '', '', 'технический', '', '', 'диагностика', '', '', 'по', '', '', '75', '', '', 'пункт', ',', '', 'проверяться', '', '', 'на', '', '', 'юридический', '', '', 'чистота', '', '', 'и', '', '', 'проходить', '', '', 'предпродажный', '', '', 'подготовка', '.', '', '', 'мы', '', '', 'предоставлять', '', '', 'вы', '', '', 'полный', '', '', 'и', '', '', 'объективный', '', '', 'информация', '', '', 'о', '', '', 'состояние', '', '', 'автомобиль', '.', '/\\n', 'приглашать', '', '', 'вы', '', '', 'на', '', '', 'проведение', '', '', 'пробный', '', '(', 'ознакомительный', ')', '', 'поездка', '!', '', '', 'у', '', '', 'мы', '', '', 'вы', '', '', 'мочь', '', '', 'проверять', '', '', 'кузов', '', '', 'на', '', '', 'предмет', '', '', 'окрашивать', '', '', 'деталь', '', '', 'с', '', '', 'прибор', ',', '', 'проводить', '', '', 'осмотр', '', '', 'на', '', '', 'подъёмник', '.', '/\\n', 'мы', '', '', 'готовый', '', '', 'предлагать', '', '', 'вы', '', '', 'полный', '', '', 'спектр', '', '', 'услуга', ':', '', 'обмен', '', '', 'ваш', '', '', 'автомобиль', '', '', 'с', '', '', 'пробег', '', '', 'по', '', '', 'система', '', '', 'trade', '-', 'in', ',', '', 'выкуп', '', '', 'ваш', '', '', 'автомобиль', ',', '', 'каско', ',', '', 'осаго', ',', '', 'зелёный', '', '', 'карта', ',', '', 'диагностический', '', '', 'карта', ',', '', 'постановка', '', '', 'автомобиль', '', '', 'на', '', '', 'учёт', '', '', 'в', '', '', 'гибдд', '.', '', '', 'у', '', '', 'мы', '', '', 'вы', '', '', 'смочь', '', '', 'приобретать', '', '', 'понравиться', '', '', 'автомобиль', '', '', 'в', '', '', 'кредит', '', '(', 'беспрецедентный', '', '', 'низкий', '', '', 'процентный', '', '', 'ставка', '', '–', '', 'от', '', '', '1', '%', '', 'в', '', '', 'месяц', '!', ')', '.', '', '', 'так', '', '', 'же', '', '', 'смочь', '', '', 'предлагать', '', '', 'дооснастить', '', '', 'ваш', '', '', 'автомобиль', '', '', 'необходимый', '', '', 'аксессуар', '.', '/\\n', 'мы', '', '', 'экономить', '', '', 'время', '', '', 'наш', '', '', 'клиент', ',', '', 'поэтому', '', '', 'покупка', '', '', 'автомобиль', '', '', 'в', '', '', 'наш', '', '', 'дц', '', '', 'занимать', '', '', 'у', '', '', 'вы', '', '', 'не', '', '', 'много', '', '', 'час', '!', '/\\n', '/\\n', 'птс', '', '', 'оригинал', '.', '/\\n', '/\\n', 'место', '', '', 'осмотр', '/\\n', '/\\n', 'осматривать', '', '', 'автомобиль', '', '', 'можно', '', '', 'по', '', '', 'адрес', ':', '', 'москва', ',', '', 'мытищи', ',', '', 'ул', '.', '', '', 'хлебозаводский', ',', '', '4', ',', '', 'петровский', '', '', 'автоцентр', '', '', 'мытищи', '/\\n', '/\\n', 'комплектация', ':/\\n', '/\\n', 'пассивный', '', '', 'безопасность', ':/\\n', '—', '', 'блокировка', '', '', 'замок', '', '', 'задний', '', '', 'дверь', '/\\n', 'противоугонный', '', '', 'система', ':/\\n', '—', '', 'сигнализация', '/\\n', '—', '', 'иммобилайзер', '/\\n', '—', '', 'центральный', '', '', 'замок', '/\\n', 'помощь', '', '', 'при', '', '', 'вождение', ':/\\n', '—', '', 'бортовый', '', '', 'компьютер', '/\\n', 'комфорт', ':/\\n', '—', '', 'регулировка', '', '', 'сидение', '', '', 'водитель', '/\\n', '—', '', 'регулировка', '', '', 'сидение', '', '', 'пассажир', '/\\n', 'управление', '', '', 'климат', '', '', 'и', '', '', 'обогрев', ':/\\n', '—', '', 'обогрев', '', '', 'задний', '', '', 'стекло', '/\\n', 'мультимедиа', '', '', 'и', '', '', 'навигация', ':/\\n', '—', '', 'cd', '/\\n', '—', '', 'mp3', '/\\n', '—', '', 'радио', '/\\n', '—', '', 'розетка', '', '', '12v', '/\\n', 'салон', '', '', 'и', '', '', 'интерьер', ':/\\n', '—', '', 'тканевый', '', '', 'обивка', '', '', 'салон', '/\\n', '—', '', 'тёмный', '', '', 'салон', '/\\n', '—', '', 'складываться', '', '', 'задний', '', '', 'сидение', '/\\n', 'экстерьер', ':/\\n', '—', '', 'лита', '', '', 'легкосплавный', '', '', 'диск', '/\\n', 'освещение', ':/\\n', '—', '', 'галогенный', '', '', 'фара', '/\\n', 'комплектность', ':/\\n', '—', '', 'птс', '/\\n', '—', '', 'свидетельство', '', '', 'о', '', '', 'регистрация', '/\\n', '—', '', 'балонный', '', '', 'ключ', '/\\n', '—', '', 'домкрат', '/\\n', '—', '', 'полноразмерный', '', '', 'запасный', '', '', 'колесо', '\\n'])],\n",
       "       [list(['фреон', '\\n']),\n",
       "        list(['балон', '', '', 'с', '', '', 'фриона', '\\n'])],\n",
       "       [list(['детский', '', '', 'водолазка', '\\n']),\n",
       "        list(['детский', '', '', 'водолазка', '.', '', '', 'размер', '', '', '3', '-', '4', '', '', 'год', '.', '', '', 'б', '/', 'у', '', '', 'пара', '', '', 'раз', '.', '', '', 'цвета', ':', '', 'тёмно-синий', '.', '\\n'])]],\n",
       "      dtype=object)"
      ]
     },
     "execution_count": 31,
     "metadata": {},
     "output_type": "execute_result"
    }
   ],
   "source": [
    "X_train_py"
   ]
  },
  {
   "cell_type": "markdown",
   "metadata": {},
   "source": [
    "#### spaCy"
   ]
  },
  {
   "cell_type": "code",
   "execution_count": 38,
   "metadata": {},
   "outputs": [
    {
     "name": "stdout",
     "output_type": "stream",
     "text": [
      "Collecting spacy==2.1.9\n",
      "  Downloading spacy-2.1.9-cp36-cp36m-manylinux1_x86_64.whl (30.8 MB)\n",
      "\u001b[K     |████████████████████████████████| 30.8 MB 116 kB/s eta 0:00:01\n",
      "\u001b[?25hRequirement already satisfied: requests<3.0.0,>=2.13.0 in /opt/conda/lib/python3.6/site-packages (from spacy==2.1.9) (2.22.0)\n",
      "Requirement already satisfied: plac<1.0.0,>=0.9.6 in /opt/conda/lib/python3.6/site-packages (from spacy==2.1.9) (0.9.6)\n",
      "Collecting blis<0.3.0,>=0.2.2\n",
      "  Downloading blis-0.2.4-cp36-cp36m-manylinux1_x86_64.whl (3.2 MB)\n",
      "\u001b[K     |████████████████████████████████| 3.2 MB 31.0 MB/s eta 0:00:01\n",
      "\u001b[?25hRequirement already satisfied: wasabi<1.1.0,>=0.2.0 in /opt/conda/lib/python3.6/site-packages (from spacy==2.1.9) (0.6.0)\n",
      "Requirement already satisfied: cymem<2.1.0,>=2.0.2 in /opt/conda/lib/python3.6/site-packages (from spacy==2.1.9) (2.0.3)\n",
      "Requirement already satisfied: murmurhash<1.1.0,>=0.28.0 in /opt/conda/lib/python3.6/site-packages (from spacy==2.1.9) (1.0.2)\n",
      "Collecting thinc<7.1.0,>=7.0.8\n",
      "  Downloading thinc-7.0.8-cp36-cp36m-manylinux1_x86_64.whl (2.1 MB)\n",
      "\u001b[K     |████████████████████████████████| 2.1 MB 34.6 MB/s eta 0:00:01\n",
      "\u001b[?25hCollecting preshed<2.1.0,>=2.0.1\n",
      "  Downloading preshed-2.0.1-cp36-cp36m-manylinux1_x86_64.whl (83 kB)\n",
      "\u001b[K     |████████████████████████████████| 83 kB 1.1 MB/s  eta 0:00:01\n",
      "\u001b[?25hRequirement already satisfied: srsly<1.1.0,>=0.0.6 in /opt/conda/lib/python3.6/site-packages (from spacy==2.1.9) (1.0.2)\n",
      "Requirement already satisfied: numpy>=1.15.0 in /opt/conda/lib/python3.6/site-packages (from spacy==2.1.9) (1.18.2)\n",
      "Requirement already satisfied: certifi>=2017.4.17 in /opt/conda/lib/python3.6/site-packages (from requests<3.0.0,>=2.13.0->spacy==2.1.9) (2019.11.28)\n",
      "Requirement already satisfied: chardet<3.1.0,>=3.0.2 in /opt/conda/lib/python3.6/site-packages (from requests<3.0.0,>=2.13.0->spacy==2.1.9) (3.0.4)\n",
      "Requirement already satisfied: urllib3!=1.25.0,!=1.25.1,<1.26,>=1.21.1 in /opt/conda/lib/python3.6/site-packages (from requests<3.0.0,>=2.13.0->spacy==2.1.9) (1.24.3)\n",
      "Requirement already satisfied: idna<2.9,>=2.5 in /opt/conda/lib/python3.6/site-packages (from requests<3.0.0,>=2.13.0->spacy==2.1.9) (2.8)\n",
      "Requirement already satisfied: tqdm<5.0.0,>=4.10.0 in /opt/conda/lib/python3.6/site-packages (from thinc<7.1.0,>=7.0.8->spacy==2.1.9) (4.42.0)\n",
      "\u001b[31mERROR: en-core-web-sm 2.2.5 has requirement spacy>=2.2.2, but you'll have spacy 2.1.9 which is incompatible.\u001b[0m\n",
      "\u001b[31mERROR: en-core-web-lg 2.2.5 has requirement spacy>=2.2.2, but you'll have spacy 2.1.9 which is incompatible.\u001b[0m\n",
      "Installing collected packages: blis, preshed, thinc, spacy\n",
      "  Attempting uninstall: blis\n",
      "    Found existing installation: blis 0.4.1\n",
      "    Uninstalling blis-0.4.1:\n",
      "      Successfully uninstalled blis-0.4.1\n",
      "  Attempting uninstall: preshed\n",
      "    Found existing installation: preshed 3.0.2\n",
      "    Uninstalling preshed-3.0.2:\n",
      "      Successfully uninstalled preshed-3.0.2\n",
      "  Attempting uninstall: thinc\n",
      "    Found existing installation: thinc 7.3.1\n",
      "    Uninstalling thinc-7.3.1:\n",
      "      Successfully uninstalled thinc-7.3.1\n",
      "  Attempting uninstall: spacy\n",
      "    Found existing installation: spacy 2.2.3\n",
      "    Uninstalling spacy-2.2.3:\n",
      "      Successfully uninstalled spacy-2.2.3\n",
      "Successfully installed blis-0.2.4 preshed-2.0.1 spacy-2.1.9 thinc-7.0.8\n"
     ]
    }
   ],
   "source": [
    "!pip install spacy==2.1.9"
   ]
  },
  {
   "cell_type": "code",
   "execution_count": 40,
   "metadata": {},
   "outputs": [
    {
     "name": "stdout",
     "output_type": "stream",
     "text": [
      "Collecting git+https://github.com/aatimofeev/spacy_russian_tokenizer\n",
      "  Cloning https://github.com/aatimofeev/spacy_russian_tokenizer to /tmp/pip-req-build-cp398lsp\n",
      "  Running command git clone -q https://github.com/aatimofeev/spacy_russian_tokenizer /tmp/pip-req-build-cp398lsp\n",
      "Requirement already satisfied: spacy in /opt/conda/lib/python3.6/site-packages (from spacy-russian-tokenizer==0.1.1) (2.1.9)\n",
      "Requirement already satisfied: numpy>=1.15.0 in /opt/conda/lib/python3.6/site-packages (from spacy->spacy-russian-tokenizer==0.1.1) (1.18.2)\n",
      "Requirement already satisfied: thinc<7.1.0,>=7.0.8 in /opt/conda/lib/python3.6/site-packages (from spacy->spacy-russian-tokenizer==0.1.1) (7.0.8)\n",
      "Requirement already satisfied: plac<1.0.0,>=0.9.6 in /opt/conda/lib/python3.6/site-packages (from spacy->spacy-russian-tokenizer==0.1.1) (0.9.6)\n",
      "Requirement already satisfied: cymem<2.1.0,>=2.0.2 in /opt/conda/lib/python3.6/site-packages (from spacy->spacy-russian-tokenizer==0.1.1) (2.0.3)\n",
      "Requirement already satisfied: wasabi<1.1.0,>=0.2.0 in /opt/conda/lib/python3.6/site-packages (from spacy->spacy-russian-tokenizer==0.1.1) (0.6.0)\n",
      "Requirement already satisfied: requests<3.0.0,>=2.13.0 in /opt/conda/lib/python3.6/site-packages (from spacy->spacy-russian-tokenizer==0.1.1) (2.22.0)\n",
      "Requirement already satisfied: srsly<1.1.0,>=0.0.6 in /opt/conda/lib/python3.6/site-packages (from spacy->spacy-russian-tokenizer==0.1.1) (1.0.2)\n",
      "Requirement already satisfied: preshed<2.1.0,>=2.0.1 in /opt/conda/lib/python3.6/site-packages (from spacy->spacy-russian-tokenizer==0.1.1) (2.0.1)\n",
      "Requirement already satisfied: murmurhash<1.1.0,>=0.28.0 in /opt/conda/lib/python3.6/site-packages (from spacy->spacy-russian-tokenizer==0.1.1) (1.0.2)\n",
      "Requirement already satisfied: blis<0.3.0,>=0.2.2 in /opt/conda/lib/python3.6/site-packages (from spacy->spacy-russian-tokenizer==0.1.1) (0.2.4)\n",
      "Requirement already satisfied: tqdm<5.0.0,>=4.10.0 in /opt/conda/lib/python3.6/site-packages (from thinc<7.1.0,>=7.0.8->spacy->spacy-russian-tokenizer==0.1.1) (4.42.0)\n",
      "Requirement already satisfied: certifi>=2017.4.17 in /opt/conda/lib/python3.6/site-packages (from requests<3.0.0,>=2.13.0->spacy->spacy-russian-tokenizer==0.1.1) (2019.11.28)\n",
      "Requirement already satisfied: idna<2.9,>=2.5 in /opt/conda/lib/python3.6/site-packages (from requests<3.0.0,>=2.13.0->spacy->spacy-russian-tokenizer==0.1.1) (2.8)\n",
      "Requirement already satisfied: urllib3!=1.25.0,!=1.25.1,<1.26,>=1.21.1 in /opt/conda/lib/python3.6/site-packages (from requests<3.0.0,>=2.13.0->spacy->spacy-russian-tokenizer==0.1.1) (1.24.3)\n",
      "Requirement already satisfied: chardet<3.1.0,>=3.0.2 in /opt/conda/lib/python3.6/site-packages (from requests<3.0.0,>=2.13.0->spacy->spacy-russian-tokenizer==0.1.1) (3.0.4)\n",
      "Building wheels for collected packages: spacy-russian-tokenizer\n",
      "  Building wheel for spacy-russian-tokenizer (setup.py) ... \u001b[?25ldone\n",
      "\u001b[?25h  Created wheel for spacy-russian-tokenizer: filename=spacy_russian_tokenizer-0.1.1-py3-none-any.whl size=12674 sha256=110867d5512283c62a23aa7123e57d529379c75eec0b0b1698748d5b7622a987\n",
      "  Stored in directory: /tmp/pip-ephem-wheel-cache-thysj_ee/wheels/c5/60/f5/9c8ef6b2fbe613a647d8099a6f5b0a0a8cad75c68c1d1e7f97\n",
      "Successfully built spacy-russian-tokenizer\n",
      "Installing collected packages: spacy-russian-tokenizer\n",
      "Successfully installed spacy-russian-tokenizer-0.1.1\n"
     ]
    }
   ],
   "source": [
    "!pip install git+https://github.com/aatimofeev/spacy_russian_tokenizer"
   ]
  },
  {
   "cell_type": "code",
   "execution_count": 42,
   "metadata": {},
   "outputs": [],
   "source": [
    "from spacy.lang.ru import Russian"
   ]
  },
  {
   "cell_type": "raw",
   "metadata": {},
   "source": [
    "nlp = Russian()"
   ]
  },
  {
   "cell_type": "code",
   "execution_count": 72,
   "metadata": {},
   "outputs": [],
   "source": [
    "def tokenize_X_spacy(X):\n",
    "    X_new = []\n",
    "    for item in X:\n",
    "        text = item[0] + ' ' + item[1]\n",
    "        doc = nlp(text)\n",
    "        X_new.append([[token.text for token in doc]])\n",
    "        return np.array(X_new)"
   ]
  },
  {
   "cell_type": "markdown",
   "metadata": {},
   "source": [
    "Остальное не делал :(\n",
    "\n",
    "N-Gram модели текстовой классификации\n",
    "* Признаки - mystem\n",
    "* n-gramm'ы - несколько слов подряд объединяются в один токен\n",
    "* Модели - только логистическая регрессия\n",
    "* Настоятельно рекомендуется использовать sparse-матрицы\n",
    "\n",
    "Использовать Vowpal Wabbit вместо sklearn\n",
    "* Признаки - обычный BoW title+description\n",
    "* Главный вызов - заставить работать библиотеку и подготовить признаки"
   ]
  },
  {
   "cell_type": "code",
   "execution_count": null,
   "metadata": {},
   "outputs": [],
   "source": []
  }
 ],
 "metadata": {
  "colab": {
   "collapsed_sections": [],
   "name": "HW3.ipynb",
   "provenance": []
  },
  "kernelspec": {
   "display_name": "Python 3",
   "language": "python",
   "name": "python3"
  },
  "language_info": {
   "codemirror_mode": {
    "name": "ipython",
    "version": 3
   },
   "file_extension": ".py",
   "mimetype": "text/x-python",
   "name": "python",
   "nbconvert_exporter": "python",
   "pygments_lexer": "ipython3",
   "version": "3.6.10"
  }
 },
 "nbformat": 4,
 "nbformat_minor": 4
}
