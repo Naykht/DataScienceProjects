{
 "cells": [
  {
   "cell_type": "markdown",
   "metadata": {},
   "source": [
    "# Рекомендация тарифов"
   ]
  },
  {
   "cell_type": "markdown",
   "metadata": {},
   "source": [
    "Необходимо построить модель для задачи классификации, которая выберет подходящий тариф. Достигнуть значения метрика качества:\n",
    "$$accuracy > 0.75.$$"
   ]
  },
  {
   "cell_type": "markdown",
   "metadata": {},
   "source": [
    "### Библиотеки и модули"
   ]
  },
  {
   "cell_type": "code",
   "execution_count": 1,
   "metadata": {},
   "outputs": [],
   "source": [
    "import pandas as pd\n",
    "from sklearn.model_selection import train_test_split, GridSearchCV\n",
    "from sklearn.neighbors import KNeighborsClassifier\n",
    "from sklearn.metrics import accuracy_score\n",
    "from sklearn.linear_model import LogisticRegression\n",
    "from sklearn.svm import SVC\n",
    "from sklearn.tree import DecisionTreeClassifier\n",
    "from sklearn.ensemble import RandomForestClassifier\n",
    "from sklearn.dummy import DummyClassifier"
   ]
  },
  {
   "cell_type": "code",
   "execution_count": 2,
   "metadata": {},
   "outputs": [],
   "source": [
    "import warnings\n",
    "warnings.filterwarnings(\"ignore\")"
   ]
  },
  {
   "cell_type": "markdown",
   "metadata": {},
   "source": [
    "### Содержание\n",
    "\n",
    "1. Изучение общей информации о данных\n",
    "2. Разбиение данных на выборки\n",
    "3. Исследование моделей\n",
    "4. Проверка модели на тестовой выборке\n",
    "5. Проверка модели на адекватность"
   ]
  },
  {
   "cell_type": "markdown",
   "metadata": {},
   "source": [
    "## Изучение общей информации о данных"
   ]
  },
  {
   "cell_type": "code",
   "execution_count": 3,
   "metadata": {},
   "outputs": [],
   "source": [
    "path = \"/datasets/users_behavior.csv\""
   ]
  },
  {
   "cell_type": "code",
   "execution_count": 4,
   "metadata": {},
   "outputs": [
    {
     "data": {
      "text/html": [
       "<div>\n",
       "<style scoped>\n",
       "    .dataframe tbody tr th:only-of-type {\n",
       "        vertical-align: middle;\n",
       "    }\n",
       "\n",
       "    .dataframe tbody tr th {\n",
       "        vertical-align: top;\n",
       "    }\n",
       "\n",
       "    .dataframe thead th {\n",
       "        text-align: right;\n",
       "    }\n",
       "</style>\n",
       "<table border=\"1\" class=\"dataframe\">\n",
       "  <thead>\n",
       "    <tr style=\"text-align: right;\">\n",
       "      <th></th>\n",
       "      <th>calls</th>\n",
       "      <th>minutes</th>\n",
       "      <th>messages</th>\n",
       "      <th>mb_used</th>\n",
       "      <th>is_ultra</th>\n",
       "    </tr>\n",
       "  </thead>\n",
       "  <tbody>\n",
       "    <tr>\n",
       "      <td>0</td>\n",
       "      <td>40.0</td>\n",
       "      <td>311.90</td>\n",
       "      <td>83.0</td>\n",
       "      <td>19915.42</td>\n",
       "      <td>0</td>\n",
       "    </tr>\n",
       "    <tr>\n",
       "      <td>1</td>\n",
       "      <td>85.0</td>\n",
       "      <td>516.75</td>\n",
       "      <td>56.0</td>\n",
       "      <td>22696.96</td>\n",
       "      <td>0</td>\n",
       "    </tr>\n",
       "    <tr>\n",
       "      <td>2</td>\n",
       "      <td>77.0</td>\n",
       "      <td>467.66</td>\n",
       "      <td>86.0</td>\n",
       "      <td>21060.45</td>\n",
       "      <td>0</td>\n",
       "    </tr>\n",
       "    <tr>\n",
       "      <td>3</td>\n",
       "      <td>106.0</td>\n",
       "      <td>745.53</td>\n",
       "      <td>81.0</td>\n",
       "      <td>8437.39</td>\n",
       "      <td>1</td>\n",
       "    </tr>\n",
       "    <tr>\n",
       "      <td>4</td>\n",
       "      <td>66.0</td>\n",
       "      <td>418.74</td>\n",
       "      <td>1.0</td>\n",
       "      <td>14502.75</td>\n",
       "      <td>0</td>\n",
       "    </tr>\n",
       "  </tbody>\n",
       "</table>\n",
       "</div>"
      ],
      "text/plain": [
       "   calls  minutes  messages   mb_used  is_ultra\n",
       "0   40.0   311.90      83.0  19915.42         0\n",
       "1   85.0   516.75      56.0  22696.96         0\n",
       "2   77.0   467.66      86.0  21060.45         0\n",
       "3  106.0   745.53      81.0   8437.39         1\n",
       "4   66.0   418.74       1.0  14502.75         0"
      ]
     },
     "execution_count": 4,
     "metadata": {},
     "output_type": "execute_result"
    }
   ],
   "source": [
    "data = pd.read_csv(path)\n",
    "data.head(5)"
   ]
  },
  {
   "cell_type": "code",
   "execution_count": 5,
   "metadata": {},
   "outputs": [
    {
     "name": "stdout",
     "output_type": "stream",
     "text": [
      "<class 'pandas.core.frame.DataFrame'>\n",
      "RangeIndex: 3214 entries, 0 to 3213\n",
      "Data columns (total 5 columns):\n",
      "calls       3214 non-null float64\n",
      "minutes     3214 non-null float64\n",
      "messages    3214 non-null float64\n",
      "mb_used     3214 non-null float64\n",
      "is_ultra    3214 non-null int64\n",
      "dtypes: float64(4), int64(1)\n",
      "memory usage: 125.7 KB\n"
     ]
    }
   ],
   "source": [
    "data.info()"
   ]
  },
  {
   "cell_type": "markdown",
   "metadata": {},
   "source": [
    "В наборе данных 3214 объектов. Пропусков нет. Типы данных соответствуют своим признакам. По условию задания предобработка не требуется."
   ]
  },
  {
   "cell_type": "markdown",
   "metadata": {},
   "source": [
    "## Разбиение данных на выборки"
   ]
  },
  {
   "cell_type": "markdown",
   "metadata": {},
   "source": [
    "Обозначим за X - матрицу объекты-признаки, а за y - вектор значений целевой переменной. Разделим выборку на три части: обучающую, валидационную и тестовую в отношении 3:1:1."
   ]
  },
  {
   "cell_type": "code",
   "execution_count": 6,
   "metadata": {},
   "outputs": [
    {
     "data": {
      "text/html": [
       "<div>\n",
       "<style scoped>\n",
       "    .dataframe tbody tr th:only-of-type {\n",
       "        vertical-align: middle;\n",
       "    }\n",
       "\n",
       "    .dataframe tbody tr th {\n",
       "        vertical-align: top;\n",
       "    }\n",
       "\n",
       "    .dataframe thead th {\n",
       "        text-align: right;\n",
       "    }\n",
       "</style>\n",
       "<table border=\"1\" class=\"dataframe\">\n",
       "  <thead>\n",
       "    <tr style=\"text-align: right;\">\n",
       "      <th></th>\n",
       "      <th>calls</th>\n",
       "      <th>minutes</th>\n",
       "      <th>messages</th>\n",
       "      <th>mb_used</th>\n",
       "    </tr>\n",
       "  </thead>\n",
       "  <tbody>\n",
       "    <tr>\n",
       "      <td>0</td>\n",
       "      <td>40.0</td>\n",
       "      <td>311.90</td>\n",
       "      <td>83.0</td>\n",
       "      <td>19915.42</td>\n",
       "    </tr>\n",
       "    <tr>\n",
       "      <td>1</td>\n",
       "      <td>85.0</td>\n",
       "      <td>516.75</td>\n",
       "      <td>56.0</td>\n",
       "      <td>22696.96</td>\n",
       "    </tr>\n",
       "    <tr>\n",
       "      <td>2</td>\n",
       "      <td>77.0</td>\n",
       "      <td>467.66</td>\n",
       "      <td>86.0</td>\n",
       "      <td>21060.45</td>\n",
       "    </tr>\n",
       "    <tr>\n",
       "      <td>3</td>\n",
       "      <td>106.0</td>\n",
       "      <td>745.53</td>\n",
       "      <td>81.0</td>\n",
       "      <td>8437.39</td>\n",
       "    </tr>\n",
       "    <tr>\n",
       "      <td>4</td>\n",
       "      <td>66.0</td>\n",
       "      <td>418.74</td>\n",
       "      <td>1.0</td>\n",
       "      <td>14502.75</td>\n",
       "    </tr>\n",
       "  </tbody>\n",
       "</table>\n",
       "</div>"
      ],
      "text/plain": [
       "   calls  minutes  messages   mb_used\n",
       "0   40.0   311.90      83.0  19915.42\n",
       "1   85.0   516.75      56.0  22696.96\n",
       "2   77.0   467.66      86.0  21060.45\n",
       "3  106.0   745.53      81.0   8437.39\n",
       "4   66.0   418.74       1.0  14502.75"
      ]
     },
     "execution_count": 6,
     "metadata": {},
     "output_type": "execute_result"
    }
   ],
   "source": [
    "X = data.loc[:, data.columns != 'is_ultra']\n",
    "X.head(5)"
   ]
  },
  {
   "cell_type": "code",
   "execution_count": 7,
   "metadata": {},
   "outputs": [
    {
     "data": {
      "text/plain": [
       "0    0\n",
       "1    0\n",
       "2    0\n",
       "3    1\n",
       "4    0\n",
       "Name: is_ultra, dtype: int64"
      ]
     },
     "execution_count": 7,
     "metadata": {},
     "output_type": "execute_result"
    }
   ],
   "source": [
    "y = data['is_ultra']\n",
    "y.head(5)"
   ]
  },
  {
   "cell_type": "code",
   "execution_count": 8,
   "metadata": {},
   "outputs": [
    {
     "data": {
      "text/plain": [
       "((2571, 4), (643, 4), (2571,), (643,))"
      ]
     },
     "execution_count": 8,
     "metadata": {},
     "output_type": "execute_result"
    }
   ],
   "source": [
    "X_train_valid, X_test, y_train_valid, y_test = train_test_split(X, y, test_size=0.2, random_state=7, shuffle=True)\n",
    "X_train_valid.shape, X_test.shape, y_train_valid.shape, y_test.shape"
   ]
  },
  {
   "cell_type": "code",
   "execution_count": 9,
   "metadata": {},
   "outputs": [
    {
     "data": {
      "text/plain": [
       "((1928, 4), (643, 4), (1928,), (643,))"
      ]
     },
     "execution_count": 9,
     "metadata": {},
     "output_type": "execute_result"
    }
   ],
   "source": [
    "X_train, X_valid, y_train, y_valid = train_test_split(X_train_valid, y_train_valid, random_state=7, test_size=0.25)\n",
    "X_train.shape, X_valid.shape, y_train.shape, y_valid.shape"
   ]
  },
  {
   "cell_type": "markdown",
   "metadata": {},
   "source": [
    "## Исследование моделей"
   ]
  },
  {
   "cell_type": "markdown",
   "metadata": {},
   "source": [
    "Перед нами стоит задача бинарной классификации. Задачу классификации можем решить с помощью следующих алгоритмов моделей классификации: kNN, Logistic Regression, SVM, Decision Tree, Random Forest."
   ]
  },
  {
   "cell_type": "markdown",
   "metadata": {},
   "source": [
    "Для того, чтобы подобрать наилучшие параметры для каждой из моделей, будем использовать кросс-валидацию."
   ]
  },
  {
   "cell_type": "markdown",
   "metadata": {},
   "source": [
    "### kNN"
   ]
  },
  {
   "cell_type": "code",
   "execution_count": 10,
   "metadata": {},
   "outputs": [],
   "source": [
    "gs_knn = GridSearchCV(\n",
    "    KNeighborsClassifier(),\n",
    "    param_grid={\n",
    "        'n_neighbors': range(1, 50),\n",
    "        'n_jobs': [-1]\n",
    "    },\n",
    "    cv=5,\n",
    ")"
   ]
  },
  {
   "cell_type": "code",
   "execution_count": 11,
   "metadata": {},
   "outputs": [],
   "source": [
    "model_knn = gs_knn.fit(X_train, y_train)\n",
    "y_pred = model_knn.predict(X_valid)"
   ]
  },
  {
   "cell_type": "code",
   "execution_count": 12,
   "metadata": {},
   "outputs": [
    {
     "name": "stdout",
     "output_type": "stream",
     "text": [
      "Лучшие параметры: {'n_jobs': -1, 'n_neighbors': 6}\n",
      "Accuracy kNN (на обуч.): 0.7894190871369294\n",
      "Accuracy kNN (на валид.): 0.7558320373250389\n",
      "Отклонение метрики accuracy: -4.255%\n"
     ]
    }
   ],
   "source": [
    "ac_train = accuracy_score(model_knn.predict(X_train), y_train)\n",
    "ac_valid = accuracy_score(y_pred, y_valid)\n",
    "print(f'Лучшие параметры: {model_knn.best_params_}')\n",
    "print(f'Accuracy kNN (на обуч.): {ac_train}')\n",
    "print(f'Accuracy kNN (на валид.): {ac_valid}')\n",
    "print(f'Отклонение метрики accuracy: {round(((ac_valid - ac_train) / ac_train * 100), 3)}%')"
   ]
  },
  {
   "cell_type": "markdown",
   "metadata": {},
   "source": [
    "### Logistic Regression"
   ]
  },
  {
   "cell_type": "code",
   "execution_count": 13,
   "metadata": {},
   "outputs": [],
   "source": [
    "gs_lor = GridSearchCV(\n",
    "    LogisticRegression(),\n",
    "    param_grid={\n",
    "        'penalty': ['l1', 'l2'],\n",
    "        'n_jobs': [-1]\n",
    "    },\n",
    "    cv=5\n",
    ")"
   ]
  },
  {
   "cell_type": "code",
   "execution_count": 14,
   "metadata": {},
   "outputs": [],
   "source": [
    "model_lor = gs_lor.fit(X_train, y_train)\n",
    "y_pred = model_lor.predict(X_valid)"
   ]
  },
  {
   "cell_type": "code",
   "execution_count": 15,
   "metadata": {},
   "outputs": [
    {
     "name": "stdout",
     "output_type": "stream",
     "text": [
      "Лучшие параметры: {'n_jobs': -1, 'penalty': 'l1'}\n",
      "Accuracy Logistic Regression (на обуч.): 0.7380705394190872\n",
      "Accuracy Logistic Regression (на валид.): 0.7573872472783826\n",
      "Отклонение метрики accuracy: 2.617%\n"
     ]
    }
   ],
   "source": [
    "ac_train = accuracy_score(model_lor.predict(X_train), y_train)\n",
    "ac_valid = accuracy_score(y_pred, y_valid)\n",
    "print(f'Лучшие параметры: {model_lor.best_params_}')\n",
    "print(f'Accuracy Logistic Regression (на обуч.): {accuracy_score(model_lor.predict(X_train), y_train)}')\n",
    "print(f'Accuracy Logistic Regression (на валид.): {accuracy_score(y_pred, y_valid)}')\n",
    "print(f'Отклонение метрики accuracy: {round(((ac_valid - ac_train) / ac_train * 100), 3)}%')"
   ]
  },
  {
   "cell_type": "markdown",
   "metadata": {},
   "source": [
    "### SVM"
   ]
  },
  {
   "cell_type": "code",
   "execution_count": 16,
   "metadata": {},
   "outputs": [],
   "source": [
    "svm = SVC()"
   ]
  },
  {
   "cell_type": "code",
   "execution_count": 17,
   "metadata": {},
   "outputs": [],
   "source": [
    "model_svm = svm.fit(X_train, y_train)\n",
    "y_pred = model_svm.predict(X_valid)"
   ]
  },
  {
   "cell_type": "code",
   "execution_count": 18,
   "metadata": {},
   "outputs": [
    {
     "name": "stdout",
     "output_type": "stream",
     "text": [
      "Accuracy SVM (на обуч.): 1.0\n",
      "Accuracy SVM (на валид.): 0.7013996889580093\n",
      "Отклонение метрики accuracy: -29.86%\n"
     ]
    }
   ],
   "source": [
    "ac_train = accuracy_score(model_svm.predict(X_train), y_train)\n",
    "ac_valid = accuracy_score(y_pred, y_valid)\n",
    "print(f'Accuracy SVM (на обуч.): {accuracy_score(model_svm.predict(X_train), y_train)}')\n",
    "print(f'Accuracy SVM (на валид.): {accuracy_score(y_pred, y_valid)}')\n",
    "print(f'Отклонение метрики accuracy: {round(((ac_valid - ac_train) / ac_train * 100), 3)}%')"
   ]
  },
  {
   "cell_type": "markdown",
   "metadata": {},
   "source": [
    "### Decision Tree"
   ]
  },
  {
   "cell_type": "code",
   "execution_count": 19,
   "metadata": {},
   "outputs": [],
   "source": [
    "gs_dt = GridSearchCV(\n",
    "    DecisionTreeClassifier(),\n",
    "    param_grid={\n",
    "        'criterion': ['gini', 'entropy'],\n",
    "        'max_depth': range(1, 20),\n",
    "    },\n",
    "    cv=5\n",
    ")"
   ]
  },
  {
   "cell_type": "code",
   "execution_count": 20,
   "metadata": {},
   "outputs": [],
   "source": [
    "model_dt = gs_dt.fit(X_train, y_train)\n",
    "y_pred = model_dt.predict(X_valid)"
   ]
  },
  {
   "cell_type": "code",
   "execution_count": 21,
   "metadata": {},
   "outputs": [
    {
     "name": "stdout",
     "output_type": "stream",
     "text": [
      "Лучшие параметры: {'criterion': 'gini', 'max_depth': 7}\n",
      "Accuracy Decision Tree (на обуч.): 0.8350622406639004\n",
      "Accuracy Decision Tree (на валид.): 0.7838258164852255\n",
      "Отклонение метрики accuracy: -6.136%\n"
     ]
    }
   ],
   "source": [
    "ac_train = accuracy_score(model_dt.predict(X_train), y_train)\n",
    "ac_valid = accuracy_score(y_pred, y_valid)\n",
    "print(f'Лучшие параметры: {model_dt.best_params_}')\n",
    "print(f'Accuracy Decision Tree (на обуч.): {accuracy_score(model_dt.predict(X_train), y_train)}')\n",
    "print(f'Accuracy Decision Tree (на валид.): {accuracy_score(y_pred, y_valid)}')\n",
    "print(f'Отклонение метрики accuracy: {round(((ac_valid - ac_train) / ac_train * 100), 3)}%')"
   ]
  },
  {
   "cell_type": "markdown",
   "metadata": {},
   "source": [
    "### Random Forest"
   ]
  },
  {
   "cell_type": "code",
   "execution_count": 22,
   "metadata": {},
   "outputs": [],
   "source": [
    "gs_rf = GridSearchCV(\n",
    "    RandomForestClassifier(),\n",
    "    param_grid={\n",
    "        'n_estimators': range(1, 20),\n",
    "        'max_depth': range(1, 20),\n",
    "        'n_jobs': [-1]\n",
    "    }\n",
    ")"
   ]
  },
  {
   "cell_type": "code",
   "execution_count": 23,
   "metadata": {},
   "outputs": [],
   "source": [
    "model_rf = gs_rf.fit(X_train, y_train)\n",
    "y_pred = model_rf.predict(X_valid)"
   ]
  },
  {
   "cell_type": "code",
   "execution_count": 24,
   "metadata": {},
   "outputs": [
    {
     "name": "stdout",
     "output_type": "stream",
     "text": [
      "Лучшие параметры: {'criterion': 'gini', 'max_depth': 7}\n",
      "Accuracy Random Forest (на обуч.): 0.8656639004149378\n",
      "Accuracy Random Forest (на валид.): 0.7947122861586314\n",
      "Отклонение метрики accuracy: -8.196%\n"
     ]
    }
   ],
   "source": [
    "ac_train = accuracy_score(model_rf.predict(X_train), y_train)\n",
    "ac_valid = accuracy_score(y_pred, y_valid)\n",
    "print(f'Лучшие параметры: {model_dt.best_params_}')\n",
    "print(f'Accuracy Random Forest (на обуч.): {accuracy_score(model_rf.predict(X_train), y_train)}')\n",
    "print(f'Accuracy Random Forest (на валид.): {accuracy_score(y_pred, y_valid)}')\n",
    "print(f'Отклонение метрики accuracy: {round(((ac_valid - ac_train) / ac_train * 100), 3)}%')"
   ]
  },
  {
   "cell_type": "markdown",
   "metadata": {},
   "source": [
    "Заметим, что метрика accuracy на обучаемой выборке больше, чем на валидацинной выборке, у моделей: kNN, SVM, Decision Tree, Random Forest. Это говорит о том, что данные модели склоны к переобучению. Больше всего к переобучению склона модель SVM (замечание, данная модель обучался без кросс-валидации. Из-за того, чтого она долго обучалася, решил обучить ее обычным способом), Decision Tree (почти такое же отклоение и у Random Forest). Модель kNN хоть и переобучается, однако не так сильно. А модель Logistic Regression точно не склона к переобучению."
   ]
  },
  {
   "cell_type": "markdown",
   "metadata": {},
   "source": [
    "Наибольше значение метрики accuracy у модели Random Forest. Берем ее за финанульную модель."
   ]
  },
  {
   "cell_type": "markdown",
   "metadata": {},
   "source": [
    "## Проверка модели на тестовой выборке"
   ]
  },
  {
   "cell_type": "code",
   "execution_count": 25,
   "metadata": {},
   "outputs": [
    {
     "name": "stdout",
     "output_type": "stream",
     "text": [
      "Accuracy Random Forest (на тесте): 0.8320373250388803\n"
     ]
    }
   ],
   "source": [
    "y_pred_test = model_rf.predict(X_test)\n",
    "print(f'Accuracy Random Forest (на тесте): {accuracy_score(y_pred_test, y_test)}')"
   ]
  },
  {
   "cell_type": "markdown",
   "metadata": {},
   "source": [
    "Данный результат вполне устраивает нас."
   ]
  },
  {
   "cell_type": "markdown",
   "metadata": {},
   "source": [
    "## Проверка модели на адекватность"
   ]
  },
  {
   "cell_type": "code",
   "execution_count": 26,
   "metadata": {},
   "outputs": [
    {
     "name": "stdout",
     "output_type": "stream",
     "text": [
      "Accuracy Dummy Classifier (на тесте): 0.5738724727838258\n"
     ]
    }
   ],
   "source": [
    "dc = DummyClassifier()\n",
    "model_dc = dc.fit(X_train, y_train)\n",
    "y_pred_test = model_dc.predict(X_test)\n",
    "print(f'Accuracy Dummy Classifier (на тесте): {accuracy_score(y_pred_test, y_test)}')"
   ]
  },
  {
   "cell_type": "markdown",
   "metadata": {},
   "source": [
    "Обученная модель случайного леса показывает результат по метрике качества accuracy намного выше, чем \"случайная\" модель. Получаем, что взятая за финальную модель прошла проверку на адекватность."
   ]
  },
  {
   "cell_type": "code",
   "execution_count": null,
   "metadata": {},
   "outputs": [],
   "source": []
  }
 ],
 "metadata": {
  "kernelspec": {
   "display_name": "Python 3",
   "language": "python",
   "name": "python3"
  },
  "language_info": {
   "codemirror_mode": {
    "name": "ipython",
    "version": 3
   },
   "file_extension": ".py",
   "mimetype": "text/x-python",
   "name": "python",
   "nbconvert_exporter": "python",
   "pygments_lexer": "ipython3",
   "version": "3.7.6"
  }
 },
 "nbformat": 4,
 "nbformat_minor": 2
}
