{
 "cells": [
  {
   "cell_type": "markdown",
   "metadata": {},
   "source": [
    "# Отток клиентов"
   ]
  },
  {
   "cell_type": "markdown",
   "metadata": {},
   "source": [
    "Необходимо спрогнозировать, уйдёт клиент из банка в ближайшее время или нет. Построить модель со значением метрики качества *F1* > 0.59."
   ]
  },
  {
   "cell_type": "markdown",
   "metadata": {},
   "source": [
    "### Описание данных\n",
    "\n",
    "- RowNumber — индекс строки в данных;\n",
    "- CustomerId — уникальный идентификатор клиента;\n",
    "- Surname — фамилия;\n",
    "- CreditScore — кредитный рейтинг;\n",
    "- Geography — страна проживания;\n",
    "- Gender — пол;\n",
    "- Age — возраст;\n",
    "- Tenure — количество недвижимости у клиента;\n",
    "- Balance — баланс на счёте;\n",
    "- NumOfProducts — количество продуктов банка, используемых клиентом;\n",
    "- HasCrCard — наличие кредитной карты;\n",
    "- IsActiveMember — активность клиента;\n",
    "- EstimatedSalary — предполагаемая зарплата;\n",
    "- Exited — факт ухода клиента."
   ]
  },
  {
   "cell_type": "markdown",
   "metadata": {},
   "source": [
    "Источник данных: [https://www.kaggle.com/barelydedicated/bank-customer-churn-modeling](https://www.kaggle.com/barelydedicated/bank-customer-churn-modeling)"
   ]
  },
  {
   "cell_type": "markdown",
   "metadata": {},
   "source": [
    "### Содержание"
   ]
  },
  {
   "cell_type": "markdown",
   "metadata": {},
   "source": [
    "1. Подготовка данных\n",
    "    - Изучение общей информации о данных\n",
    "    - Дубликаты\n",
    "    - Пропуски\n",
    "    - Удаление ненужных признаков\n",
    "    - Кодирование категориальных признаков\n",
    "    - Масштабирование признаков\n",
    "2. Исследование задачи\n",
    "    - Баланс классов\n",
    "    - Logistic Regression\n",
    "    - Random Forest\n",
    "3. Борьба с дисбалансом\n",
    "    - Взвешивание классов\n",
    "    - Upsamplimg\n",
    "    - Downsampling\n",
    "    - Изменение порога вероятности\n",
    "4. Тестирование модели"
   ]
  },
  {
   "cell_type": "markdown",
   "metadata": {},
   "source": [
    "### Загрузка библиотек и модулей"
   ]
  },
  {
   "cell_type": "code",
   "execution_count": 1,
   "metadata": {},
   "outputs": [],
   "source": [
    "import pandas as pd\n",
    "from sklearn.preprocessing import StandardScaler, OrdinalEncoder\n",
    "from sklearn.model_selection import train_test_split\n",
    "import matplotlib.pyplot as plt\n",
    "from sklearn.linear_model import LogisticRegression\n",
    "from sklearn.ensemble import RandomForestClassifier\n",
    "from sklearn.metrics import f1_score, roc_auc_score\n",
    "from sklearn.utils import shuffle\n",
    "import numpy as np"
   ]
  },
  {
   "cell_type": "markdown",
   "metadata": {},
   "source": [
    "## Подготовка данных"
   ]
  },
  {
   "cell_type": "markdown",
   "metadata": {},
   "source": [
    "### Изучение общей информации о данных"
   ]
  },
  {
   "cell_type": "code",
   "execution_count": 2,
   "metadata": {},
   "outputs": [],
   "source": [
    "data = pd.read_csv('/datasets/Churn.csv')"
   ]
  },
  {
   "cell_type": "code",
   "execution_count": 3,
   "metadata": {},
   "outputs": [
    {
     "data": {
      "text/html": [
       "<div>\n",
       "<style scoped>\n",
       "    .dataframe tbody tr th:only-of-type {\n",
       "        vertical-align: middle;\n",
       "    }\n",
       "\n",
       "    .dataframe tbody tr th {\n",
       "        vertical-align: top;\n",
       "    }\n",
       "\n",
       "    .dataframe thead th {\n",
       "        text-align: right;\n",
       "    }\n",
       "</style>\n",
       "<table border=\"1\" class=\"dataframe\">\n",
       "  <thead>\n",
       "    <tr style=\"text-align: right;\">\n",
       "      <th></th>\n",
       "      <th>RowNumber</th>\n",
       "      <th>CustomerId</th>\n",
       "      <th>Surname</th>\n",
       "      <th>CreditScore</th>\n",
       "      <th>Geography</th>\n",
       "      <th>Gender</th>\n",
       "      <th>Age</th>\n",
       "      <th>Tenure</th>\n",
       "      <th>Balance</th>\n",
       "      <th>NumOfProducts</th>\n",
       "      <th>HasCrCard</th>\n",
       "      <th>IsActiveMember</th>\n",
       "      <th>EstimatedSalary</th>\n",
       "      <th>Exited</th>\n",
       "    </tr>\n",
       "  </thead>\n",
       "  <tbody>\n",
       "    <tr>\n",
       "      <td>0</td>\n",
       "      <td>1</td>\n",
       "      <td>15634602</td>\n",
       "      <td>Hargrave</td>\n",
       "      <td>619</td>\n",
       "      <td>France</td>\n",
       "      <td>Female</td>\n",
       "      <td>42</td>\n",
       "      <td>2.0</td>\n",
       "      <td>0.00</td>\n",
       "      <td>1</td>\n",
       "      <td>1</td>\n",
       "      <td>1</td>\n",
       "      <td>101348.88</td>\n",
       "      <td>1</td>\n",
       "    </tr>\n",
       "    <tr>\n",
       "      <td>1</td>\n",
       "      <td>2</td>\n",
       "      <td>15647311</td>\n",
       "      <td>Hill</td>\n",
       "      <td>608</td>\n",
       "      <td>Spain</td>\n",
       "      <td>Female</td>\n",
       "      <td>41</td>\n",
       "      <td>1.0</td>\n",
       "      <td>83807.86</td>\n",
       "      <td>1</td>\n",
       "      <td>0</td>\n",
       "      <td>1</td>\n",
       "      <td>112542.58</td>\n",
       "      <td>0</td>\n",
       "    </tr>\n",
       "    <tr>\n",
       "      <td>2</td>\n",
       "      <td>3</td>\n",
       "      <td>15619304</td>\n",
       "      <td>Onio</td>\n",
       "      <td>502</td>\n",
       "      <td>France</td>\n",
       "      <td>Female</td>\n",
       "      <td>42</td>\n",
       "      <td>8.0</td>\n",
       "      <td>159660.80</td>\n",
       "      <td>3</td>\n",
       "      <td>1</td>\n",
       "      <td>0</td>\n",
       "      <td>113931.57</td>\n",
       "      <td>1</td>\n",
       "    </tr>\n",
       "    <tr>\n",
       "      <td>3</td>\n",
       "      <td>4</td>\n",
       "      <td>15701354</td>\n",
       "      <td>Boni</td>\n",
       "      <td>699</td>\n",
       "      <td>France</td>\n",
       "      <td>Female</td>\n",
       "      <td>39</td>\n",
       "      <td>1.0</td>\n",
       "      <td>0.00</td>\n",
       "      <td>2</td>\n",
       "      <td>0</td>\n",
       "      <td>0</td>\n",
       "      <td>93826.63</td>\n",
       "      <td>0</td>\n",
       "    </tr>\n",
       "    <tr>\n",
       "      <td>4</td>\n",
       "      <td>5</td>\n",
       "      <td>15737888</td>\n",
       "      <td>Mitchell</td>\n",
       "      <td>850</td>\n",
       "      <td>Spain</td>\n",
       "      <td>Female</td>\n",
       "      <td>43</td>\n",
       "      <td>2.0</td>\n",
       "      <td>125510.82</td>\n",
       "      <td>1</td>\n",
       "      <td>1</td>\n",
       "      <td>1</td>\n",
       "      <td>79084.10</td>\n",
       "      <td>0</td>\n",
       "    </tr>\n",
       "  </tbody>\n",
       "</table>\n",
       "</div>"
      ],
      "text/plain": [
       "   RowNumber  CustomerId   Surname  CreditScore Geography  Gender  Age  \\\n",
       "0          1    15634602  Hargrave          619    France  Female   42   \n",
       "1          2    15647311      Hill          608     Spain  Female   41   \n",
       "2          3    15619304      Onio          502    France  Female   42   \n",
       "3          4    15701354      Boni          699    France  Female   39   \n",
       "4          5    15737888  Mitchell          850     Spain  Female   43   \n",
       "\n",
       "   Tenure    Balance  NumOfProducts  HasCrCard  IsActiveMember  \\\n",
       "0     2.0       0.00              1          1               1   \n",
       "1     1.0   83807.86              1          0               1   \n",
       "2     8.0  159660.80              3          1               0   \n",
       "3     1.0       0.00              2          0               0   \n",
       "4     2.0  125510.82              1          1               1   \n",
       "\n",
       "   EstimatedSalary  Exited  \n",
       "0        101348.88       1  \n",
       "1        112542.58       0  \n",
       "2        113931.57       1  \n",
       "3         93826.63       0  \n",
       "4         79084.10       0  "
      ]
     },
     "execution_count": 3,
     "metadata": {},
     "output_type": "execute_result"
    }
   ],
   "source": [
    "data.head(5)"
   ]
  },
  {
   "cell_type": "code",
   "execution_count": 4,
   "metadata": {},
   "outputs": [
    {
     "name": "stdout",
     "output_type": "stream",
     "text": [
      "<class 'pandas.core.frame.DataFrame'>\n",
      "RangeIndex: 10000 entries, 0 to 9999\n",
      "Data columns (total 14 columns):\n",
      "RowNumber          10000 non-null int64\n",
      "CustomerId         10000 non-null int64\n",
      "Surname            10000 non-null object\n",
      "CreditScore        10000 non-null int64\n",
      "Geography          10000 non-null object\n",
      "Gender             10000 non-null object\n",
      "Age                10000 non-null int64\n",
      "Tenure             9091 non-null float64\n",
      "Balance            10000 non-null float64\n",
      "NumOfProducts      10000 non-null int64\n",
      "HasCrCard          10000 non-null int64\n",
      "IsActiveMember     10000 non-null int64\n",
      "EstimatedSalary    10000 non-null float64\n",
      "Exited             10000 non-null int64\n",
      "dtypes: float64(3), int64(8), object(3)\n",
      "memory usage: 1.1+ MB\n"
     ]
    }
   ],
   "source": [
    "data.info()"
   ]
  },
  {
   "cell_type": "code",
   "execution_count": 5,
   "metadata": {},
   "outputs": [
    {
     "data": {
      "text/html": [
       "<div>\n",
       "<style scoped>\n",
       "    .dataframe tbody tr th:only-of-type {\n",
       "        vertical-align: middle;\n",
       "    }\n",
       "\n",
       "    .dataframe tbody tr th {\n",
       "        vertical-align: top;\n",
       "    }\n",
       "\n",
       "    .dataframe thead th {\n",
       "        text-align: right;\n",
       "    }\n",
       "</style>\n",
       "<table border=\"1\" class=\"dataframe\">\n",
       "  <thead>\n",
       "    <tr style=\"text-align: right;\">\n",
       "      <th></th>\n",
       "      <th>RowNumber</th>\n",
       "      <th>CustomerId</th>\n",
       "      <th>CreditScore</th>\n",
       "      <th>Age</th>\n",
       "      <th>Tenure</th>\n",
       "      <th>Balance</th>\n",
       "      <th>NumOfProducts</th>\n",
       "      <th>HasCrCard</th>\n",
       "      <th>IsActiveMember</th>\n",
       "      <th>EstimatedSalary</th>\n",
       "      <th>Exited</th>\n",
       "    </tr>\n",
       "  </thead>\n",
       "  <tbody>\n",
       "    <tr>\n",
       "      <td>count</td>\n",
       "      <td>10000.00000</td>\n",
       "      <td>1.000000e+04</td>\n",
       "      <td>10000.000000</td>\n",
       "      <td>10000.000000</td>\n",
       "      <td>9091.000000</td>\n",
       "      <td>10000.000000</td>\n",
       "      <td>10000.000000</td>\n",
       "      <td>10000.00000</td>\n",
       "      <td>10000.000000</td>\n",
       "      <td>10000.000000</td>\n",
       "      <td>10000.000000</td>\n",
       "    </tr>\n",
       "    <tr>\n",
       "      <td>mean</td>\n",
       "      <td>5000.50000</td>\n",
       "      <td>1.569094e+07</td>\n",
       "      <td>650.528800</td>\n",
       "      <td>38.921800</td>\n",
       "      <td>4.997690</td>\n",
       "      <td>76485.889288</td>\n",
       "      <td>1.530200</td>\n",
       "      <td>0.70550</td>\n",
       "      <td>0.515100</td>\n",
       "      <td>100090.239881</td>\n",
       "      <td>0.203700</td>\n",
       "    </tr>\n",
       "    <tr>\n",
       "      <td>std</td>\n",
       "      <td>2886.89568</td>\n",
       "      <td>7.193619e+04</td>\n",
       "      <td>96.653299</td>\n",
       "      <td>10.487806</td>\n",
       "      <td>2.894723</td>\n",
       "      <td>62397.405202</td>\n",
       "      <td>0.581654</td>\n",
       "      <td>0.45584</td>\n",
       "      <td>0.499797</td>\n",
       "      <td>57510.492818</td>\n",
       "      <td>0.402769</td>\n",
       "    </tr>\n",
       "    <tr>\n",
       "      <td>min</td>\n",
       "      <td>1.00000</td>\n",
       "      <td>1.556570e+07</td>\n",
       "      <td>350.000000</td>\n",
       "      <td>18.000000</td>\n",
       "      <td>0.000000</td>\n",
       "      <td>0.000000</td>\n",
       "      <td>1.000000</td>\n",
       "      <td>0.00000</td>\n",
       "      <td>0.000000</td>\n",
       "      <td>11.580000</td>\n",
       "      <td>0.000000</td>\n",
       "    </tr>\n",
       "    <tr>\n",
       "      <td>25%</td>\n",
       "      <td>2500.75000</td>\n",
       "      <td>1.562853e+07</td>\n",
       "      <td>584.000000</td>\n",
       "      <td>32.000000</td>\n",
       "      <td>2.000000</td>\n",
       "      <td>0.000000</td>\n",
       "      <td>1.000000</td>\n",
       "      <td>0.00000</td>\n",
       "      <td>0.000000</td>\n",
       "      <td>51002.110000</td>\n",
       "      <td>0.000000</td>\n",
       "    </tr>\n",
       "    <tr>\n",
       "      <td>50%</td>\n",
       "      <td>5000.50000</td>\n",
       "      <td>1.569074e+07</td>\n",
       "      <td>652.000000</td>\n",
       "      <td>37.000000</td>\n",
       "      <td>5.000000</td>\n",
       "      <td>97198.540000</td>\n",
       "      <td>1.000000</td>\n",
       "      <td>1.00000</td>\n",
       "      <td>1.000000</td>\n",
       "      <td>100193.915000</td>\n",
       "      <td>0.000000</td>\n",
       "    </tr>\n",
       "    <tr>\n",
       "      <td>75%</td>\n",
       "      <td>7500.25000</td>\n",
       "      <td>1.575323e+07</td>\n",
       "      <td>718.000000</td>\n",
       "      <td>44.000000</td>\n",
       "      <td>7.000000</td>\n",
       "      <td>127644.240000</td>\n",
       "      <td>2.000000</td>\n",
       "      <td>1.00000</td>\n",
       "      <td>1.000000</td>\n",
       "      <td>149388.247500</td>\n",
       "      <td>0.000000</td>\n",
       "    </tr>\n",
       "    <tr>\n",
       "      <td>max</td>\n",
       "      <td>10000.00000</td>\n",
       "      <td>1.581569e+07</td>\n",
       "      <td>850.000000</td>\n",
       "      <td>92.000000</td>\n",
       "      <td>10.000000</td>\n",
       "      <td>250898.090000</td>\n",
       "      <td>4.000000</td>\n",
       "      <td>1.00000</td>\n",
       "      <td>1.000000</td>\n",
       "      <td>199992.480000</td>\n",
       "      <td>1.000000</td>\n",
       "    </tr>\n",
       "  </tbody>\n",
       "</table>\n",
       "</div>"
      ],
      "text/plain": [
       "         RowNumber    CustomerId   CreditScore           Age       Tenure  \\\n",
       "count  10000.00000  1.000000e+04  10000.000000  10000.000000  9091.000000   \n",
       "mean    5000.50000  1.569094e+07    650.528800     38.921800     4.997690   \n",
       "std     2886.89568  7.193619e+04     96.653299     10.487806     2.894723   \n",
       "min        1.00000  1.556570e+07    350.000000     18.000000     0.000000   \n",
       "25%     2500.75000  1.562853e+07    584.000000     32.000000     2.000000   \n",
       "50%     5000.50000  1.569074e+07    652.000000     37.000000     5.000000   \n",
       "75%     7500.25000  1.575323e+07    718.000000     44.000000     7.000000   \n",
       "max    10000.00000  1.581569e+07    850.000000     92.000000    10.000000   \n",
       "\n",
       "             Balance  NumOfProducts    HasCrCard  IsActiveMember  \\\n",
       "count   10000.000000   10000.000000  10000.00000    10000.000000   \n",
       "mean    76485.889288       1.530200      0.70550        0.515100   \n",
       "std     62397.405202       0.581654      0.45584        0.499797   \n",
       "min         0.000000       1.000000      0.00000        0.000000   \n",
       "25%         0.000000       1.000000      0.00000        0.000000   \n",
       "50%     97198.540000       1.000000      1.00000        1.000000   \n",
       "75%    127644.240000       2.000000      1.00000        1.000000   \n",
       "max    250898.090000       4.000000      1.00000        1.000000   \n",
       "\n",
       "       EstimatedSalary        Exited  \n",
       "count     10000.000000  10000.000000  \n",
       "mean     100090.239881      0.203700  \n",
       "std       57510.492818      0.402769  \n",
       "min          11.580000      0.000000  \n",
       "25%       51002.110000      0.000000  \n",
       "50%      100193.915000      0.000000  \n",
       "75%      149388.247500      0.000000  \n",
       "max      199992.480000      1.000000  "
      ]
     },
     "execution_count": 5,
     "metadata": {},
     "output_type": "execute_result"
    }
   ],
   "source": [
    "data.describe()"
   ]
  },
  {
   "cell_type": "markdown",
   "metadata": {},
   "source": [
    "Видим, что присутствуют пропуски в столбце Tenure. Как появились: возможно в результатет того, что банк не получил информацию от клиентов по этому параметру, или возможно это техническая проблема, возникщая при выгрузке данных. Что за пропуски: пока не понятно. Что делать с пропусками: заполнить, чтобы не терять другую важную информациб об объектах и чтобы данные можно было использовать при работе с алгоритмами машинного обучения. Как заполнять: поскольку количество недвижимости да как-то коррелирует с тем, какой возраст у человека, то разобьем людей по возрастным группам. В каждой группе найдем моду по количеству недвижимости. И будем использовать эти значения мод для пропусков. Возрастные группы: молодежь (18-30), взрослые (31-55) и пожилые и старые (больше 55 лет)."
   ]
  },
  {
   "cell_type": "markdown",
   "metadata": {},
   "source": [
    "Также в таблице присутствуют переменные, которые не несут никакой полезной информации для того, чтобы ее можно было использовать для предсказания: RowNumber, CustomerId, Surname. Поэтому можем просто выкинуть их из нашей таблицы."
   ]
  },
  {
   "cell_type": "markdown",
   "metadata": {},
   "source": [
    "Типы данных корректные плюс-минус. Можно только их оптимизировать, но это не настолько важно сейчас, чтобы делать."
   ]
  },
  {
   "cell_type": "markdown",
   "metadata": {},
   "source": [
    "Нужно проверить данные на момент наличия дубликатов."
   ]
  },
  {
   "cell_type": "markdown",
   "metadata": {},
   "source": [
    "### Дубликаты"
   ]
  },
  {
   "cell_type": "code",
   "execution_count": 6,
   "metadata": {},
   "outputs": [
    {
     "data": {
      "text/plain": [
       "0"
      ]
     },
     "execution_count": 6,
     "metadata": {},
     "output_type": "execute_result"
    }
   ],
   "source": [
    "data.duplicated().sum()"
   ]
  },
  {
   "cell_type": "markdown",
   "metadata": {},
   "source": [
    "Дубликатов в данных нет."
   ]
  },
  {
   "cell_type": "markdown",
   "metadata": {},
   "source": [
    "### Пропуски"
   ]
  },
  {
   "cell_type": "markdown",
   "metadata": {},
   "source": [
    "#### Tenure"
   ]
  },
  {
   "cell_type": "code",
   "execution_count": 7,
   "metadata": {},
   "outputs": [],
   "source": [
    "def age_categories(age):\n",
    "    if 18 <= age <= 30:\n",
    "        return 'молодежь'\n",
    "    elif 30 < age <= 55:\n",
    "        return 'взрослые'\n",
    "    return 'пожилые и старые'"
   ]
  },
  {
   "cell_type": "code",
   "execution_count": 8,
   "metadata": {},
   "outputs": [],
   "source": [
    "data['age_category'] = data['Age'].apply(age_categories)"
   ]
  },
  {
   "cell_type": "code",
   "execution_count": 9,
   "metadata": {},
   "outputs": [
    {
     "data": {
      "text/html": [
       "<div>\n",
       "<style scoped>\n",
       "    .dataframe tbody tr th:only-of-type {\n",
       "        vertical-align: middle;\n",
       "    }\n",
       "\n",
       "    .dataframe tbody tr th {\n",
       "        vertical-align: top;\n",
       "    }\n",
       "\n",
       "    .dataframe thead th {\n",
       "        text-align: right;\n",
       "    }\n",
       "</style>\n",
       "<table border=\"1\" class=\"dataframe\">\n",
       "  <thead>\n",
       "    <tr style=\"text-align: right;\">\n",
       "      <th></th>\n",
       "      <th>CustomerId</th>\n",
       "    </tr>\n",
       "    <tr>\n",
       "      <th>age_category</th>\n",
       "      <th></th>\n",
       "    </tr>\n",
       "  </thead>\n",
       "  <tbody>\n",
       "    <tr>\n",
       "      <td>взрослые</td>\n",
       "      <td>7232</td>\n",
       "    </tr>\n",
       "    <tr>\n",
       "      <td>молодежь</td>\n",
       "      <td>1968</td>\n",
       "    </tr>\n",
       "    <tr>\n",
       "      <td>пожилые и старые</td>\n",
       "      <td>800</td>\n",
       "    </tr>\n",
       "  </tbody>\n",
       "</table>\n",
       "</div>"
      ],
      "text/plain": [
       "                  CustomerId\n",
       "age_category                \n",
       "взрослые                7232\n",
       "молодежь                1968\n",
       "пожилые и старые         800"
      ]
     },
     "execution_count": 9,
     "metadata": {},
     "output_type": "execute_result"
    }
   ],
   "source": [
    "data.pivot_table(index='age_category', values='CustomerId', aggfunc='count')"
   ]
  },
  {
   "cell_type": "markdown",
   "metadata": {},
   "source": [
    "Около 72% взрослы, около 20% молодежи и 8% пожилых и старых."
   ]
  },
  {
   "cell_type": "code",
   "execution_count": 10,
   "metadata": {},
   "outputs": [
    {
     "data": {
      "text/html": [
       "<div>\n",
       "<style scoped>\n",
       "    .dataframe tbody tr th:only-of-type {\n",
       "        vertical-align: middle;\n",
       "    }\n",
       "\n",
       "    .dataframe tbody tr th {\n",
       "        vertical-align: top;\n",
       "    }\n",
       "\n",
       "    .dataframe thead th {\n",
       "        text-align: right;\n",
       "    }\n",
       "</style>\n",
       "<table border=\"1\" class=\"dataframe\">\n",
       "  <thead>\n",
       "    <tr style=\"text-align: right;\">\n",
       "      <th></th>\n",
       "      <th>RowNumber</th>\n",
       "      <th>CustomerId</th>\n",
       "      <th>Surname</th>\n",
       "      <th>CreditScore</th>\n",
       "      <th>Geography</th>\n",
       "      <th>Gender</th>\n",
       "      <th>Age</th>\n",
       "      <th>Tenure</th>\n",
       "      <th>Balance</th>\n",
       "      <th>NumOfProducts</th>\n",
       "      <th>HasCrCard</th>\n",
       "      <th>IsActiveMember</th>\n",
       "      <th>EstimatedSalary</th>\n",
       "      <th>Exited</th>\n",
       "      <th>age_category</th>\n",
       "    </tr>\n",
       "  </thead>\n",
       "  <tbody>\n",
       "    <tr>\n",
       "      <td>0</td>\n",
       "      <td>1</td>\n",
       "      <td>15634602</td>\n",
       "      <td>Hargrave</td>\n",
       "      <td>619</td>\n",
       "      <td>France</td>\n",
       "      <td>Female</td>\n",
       "      <td>42</td>\n",
       "      <td>2.0</td>\n",
       "      <td>0.00</td>\n",
       "      <td>1</td>\n",
       "      <td>1</td>\n",
       "      <td>1</td>\n",
       "      <td>101348.88</td>\n",
       "      <td>1</td>\n",
       "      <td>взрослые</td>\n",
       "    </tr>\n",
       "    <tr>\n",
       "      <td>1</td>\n",
       "      <td>2</td>\n",
       "      <td>15647311</td>\n",
       "      <td>Hill</td>\n",
       "      <td>608</td>\n",
       "      <td>Spain</td>\n",
       "      <td>Female</td>\n",
       "      <td>41</td>\n",
       "      <td>1.0</td>\n",
       "      <td>83807.86</td>\n",
       "      <td>1</td>\n",
       "      <td>0</td>\n",
       "      <td>1</td>\n",
       "      <td>112542.58</td>\n",
       "      <td>0</td>\n",
       "      <td>взрослые</td>\n",
       "    </tr>\n",
       "    <tr>\n",
       "      <td>2</td>\n",
       "      <td>3</td>\n",
       "      <td>15619304</td>\n",
       "      <td>Onio</td>\n",
       "      <td>502</td>\n",
       "      <td>France</td>\n",
       "      <td>Female</td>\n",
       "      <td>42</td>\n",
       "      <td>8.0</td>\n",
       "      <td>159660.80</td>\n",
       "      <td>3</td>\n",
       "      <td>1</td>\n",
       "      <td>0</td>\n",
       "      <td>113931.57</td>\n",
       "      <td>1</td>\n",
       "      <td>взрослые</td>\n",
       "    </tr>\n",
       "    <tr>\n",
       "      <td>3</td>\n",
       "      <td>4</td>\n",
       "      <td>15701354</td>\n",
       "      <td>Boni</td>\n",
       "      <td>699</td>\n",
       "      <td>France</td>\n",
       "      <td>Female</td>\n",
       "      <td>39</td>\n",
       "      <td>1.0</td>\n",
       "      <td>0.00</td>\n",
       "      <td>2</td>\n",
       "      <td>0</td>\n",
       "      <td>0</td>\n",
       "      <td>93826.63</td>\n",
       "      <td>0</td>\n",
       "      <td>взрослые</td>\n",
       "    </tr>\n",
       "    <tr>\n",
       "      <td>4</td>\n",
       "      <td>5</td>\n",
       "      <td>15737888</td>\n",
       "      <td>Mitchell</td>\n",
       "      <td>850</td>\n",
       "      <td>Spain</td>\n",
       "      <td>Female</td>\n",
       "      <td>43</td>\n",
       "      <td>2.0</td>\n",
       "      <td>125510.82</td>\n",
       "      <td>1</td>\n",
       "      <td>1</td>\n",
       "      <td>1</td>\n",
       "      <td>79084.10</td>\n",
       "      <td>0</td>\n",
       "      <td>взрослые</td>\n",
       "    </tr>\n",
       "  </tbody>\n",
       "</table>\n",
       "</div>"
      ],
      "text/plain": [
       "   RowNumber  CustomerId   Surname  CreditScore Geography  Gender  Age  \\\n",
       "0          1    15634602  Hargrave          619    France  Female   42   \n",
       "1          2    15647311      Hill          608     Spain  Female   41   \n",
       "2          3    15619304      Onio          502    France  Female   42   \n",
       "3          4    15701354      Boni          699    France  Female   39   \n",
       "4          5    15737888  Mitchell          850     Spain  Female   43   \n",
       "\n",
       "   Tenure    Balance  NumOfProducts  HasCrCard  IsActiveMember  \\\n",
       "0     2.0       0.00              1          1               1   \n",
       "1     1.0   83807.86              1          0               1   \n",
       "2     8.0  159660.80              3          1               0   \n",
       "3     1.0       0.00              2          0               0   \n",
       "4     2.0  125510.82              1          1               1   \n",
       "\n",
       "   EstimatedSalary  Exited age_category  \n",
       "0        101348.88       1     взрослые  \n",
       "1        112542.58       0     взрослые  \n",
       "2        113931.57       1     взрослые  \n",
       "3         93826.63       0     взрослые  \n",
       "4         79084.10       0     взрослые  "
      ]
     },
     "execution_count": 10,
     "metadata": {},
     "output_type": "execute_result"
    }
   ],
   "source": [
    "data.head(5)"
   ]
  },
  {
   "cell_type": "code",
   "execution_count": 11,
   "metadata": {},
   "outputs": [
    {
     "name": "stdout",
     "output_type": "stream",
     "text": [
      "Мода для взрослых: 2.0\n",
      "Мода для молодежи: 4.0\n",
      "Мода для старых и пожилых: 1.0\n"
     ]
    }
   ],
   "source": [
    "mode_adults = data.query('age_category == \"взрослые\"')['Tenure'].mode().tolist()[0]\n",
    "print(f'Мода для взрослых: {mode_adults}')\n",
    "mode_young = data.query('age_category == \"молодежь\"')['Tenure'].mode().tolist()[0]\n",
    "print(f'Мода для молодежи: {mode_young}')\n",
    "mode_elderly = data.query('age_category == \"пожилые и старые\"')['Tenure'].mode().tolist()[0]\n",
    "print(f'Мода для старых и пожилых: {mode_elderly}')"
   ]
  },
  {
   "cell_type": "code",
   "execution_count": 12,
   "metadata": {},
   "outputs": [],
   "source": [
    "data.loc[(data['Tenure'].isnull() == True) & (data['age_category'] == 'молодежь'), 'Tenure'] = mode_young\n",
    "data.loc[(data['Tenure'].isnull() == True) & (data['age_category'] == 'взрослые'), 'Tenure'] = mode_adults\n",
    "data.loc[(data['Tenure'].isnull() == True) & (data['age_category'] == 'пожилые и старые'), 'Tenure'] = mode_elderly"
   ]
  },
  {
   "cell_type": "code",
   "execution_count": 13,
   "metadata": {},
   "outputs": [
    {
     "data": {
      "text/plain": [
       "0"
      ]
     },
     "execution_count": 13,
     "metadata": {},
     "output_type": "execute_result"
    }
   ],
   "source": [
    "data['Tenure'].isnull().sum()"
   ]
  },
  {
   "cell_type": "markdown",
   "metadata": {},
   "source": [
    "Пропуски заполнены. Признак категории возраста оставим. Возможно он будет полезным в нашей модели."
   ]
  },
  {
   "cell_type": "markdown",
   "metadata": {},
   "source": [
    "### Удаление ненужных признаков"
   ]
  },
  {
   "cell_type": "code",
   "execution_count": 14,
   "metadata": {},
   "outputs": [],
   "source": [
    "data = data.drop(['RowNumber', 'CustomerId', 'Surname'], axis=1)"
   ]
  },
  {
   "cell_type": "code",
   "execution_count": 15,
   "metadata": {},
   "outputs": [
    {
     "data": {
      "text/html": [
       "<div>\n",
       "<style scoped>\n",
       "    .dataframe tbody tr th:only-of-type {\n",
       "        vertical-align: middle;\n",
       "    }\n",
       "\n",
       "    .dataframe tbody tr th {\n",
       "        vertical-align: top;\n",
       "    }\n",
       "\n",
       "    .dataframe thead th {\n",
       "        text-align: right;\n",
       "    }\n",
       "</style>\n",
       "<table border=\"1\" class=\"dataframe\">\n",
       "  <thead>\n",
       "    <tr style=\"text-align: right;\">\n",
       "      <th></th>\n",
       "      <th>CreditScore</th>\n",
       "      <th>Geography</th>\n",
       "      <th>Gender</th>\n",
       "      <th>Age</th>\n",
       "      <th>Tenure</th>\n",
       "      <th>Balance</th>\n",
       "      <th>NumOfProducts</th>\n",
       "      <th>HasCrCard</th>\n",
       "      <th>IsActiveMember</th>\n",
       "      <th>EstimatedSalary</th>\n",
       "      <th>Exited</th>\n",
       "      <th>age_category</th>\n",
       "    </tr>\n",
       "  </thead>\n",
       "  <tbody>\n",
       "    <tr>\n",
       "      <td>0</td>\n",
       "      <td>619</td>\n",
       "      <td>France</td>\n",
       "      <td>Female</td>\n",
       "      <td>42</td>\n",
       "      <td>2.0</td>\n",
       "      <td>0.00</td>\n",
       "      <td>1</td>\n",
       "      <td>1</td>\n",
       "      <td>1</td>\n",
       "      <td>101348.88</td>\n",
       "      <td>1</td>\n",
       "      <td>взрослые</td>\n",
       "    </tr>\n",
       "    <tr>\n",
       "      <td>1</td>\n",
       "      <td>608</td>\n",
       "      <td>Spain</td>\n",
       "      <td>Female</td>\n",
       "      <td>41</td>\n",
       "      <td>1.0</td>\n",
       "      <td>83807.86</td>\n",
       "      <td>1</td>\n",
       "      <td>0</td>\n",
       "      <td>1</td>\n",
       "      <td>112542.58</td>\n",
       "      <td>0</td>\n",
       "      <td>взрослые</td>\n",
       "    </tr>\n",
       "    <tr>\n",
       "      <td>2</td>\n",
       "      <td>502</td>\n",
       "      <td>France</td>\n",
       "      <td>Female</td>\n",
       "      <td>42</td>\n",
       "      <td>8.0</td>\n",
       "      <td>159660.80</td>\n",
       "      <td>3</td>\n",
       "      <td>1</td>\n",
       "      <td>0</td>\n",
       "      <td>113931.57</td>\n",
       "      <td>1</td>\n",
       "      <td>взрослые</td>\n",
       "    </tr>\n",
       "    <tr>\n",
       "      <td>3</td>\n",
       "      <td>699</td>\n",
       "      <td>France</td>\n",
       "      <td>Female</td>\n",
       "      <td>39</td>\n",
       "      <td>1.0</td>\n",
       "      <td>0.00</td>\n",
       "      <td>2</td>\n",
       "      <td>0</td>\n",
       "      <td>0</td>\n",
       "      <td>93826.63</td>\n",
       "      <td>0</td>\n",
       "      <td>взрослые</td>\n",
       "    </tr>\n",
       "    <tr>\n",
       "      <td>4</td>\n",
       "      <td>850</td>\n",
       "      <td>Spain</td>\n",
       "      <td>Female</td>\n",
       "      <td>43</td>\n",
       "      <td>2.0</td>\n",
       "      <td>125510.82</td>\n",
       "      <td>1</td>\n",
       "      <td>1</td>\n",
       "      <td>1</td>\n",
       "      <td>79084.10</td>\n",
       "      <td>0</td>\n",
       "      <td>взрослые</td>\n",
       "    </tr>\n",
       "  </tbody>\n",
       "</table>\n",
       "</div>"
      ],
      "text/plain": [
       "   CreditScore Geography  Gender  Age  Tenure    Balance  NumOfProducts  \\\n",
       "0          619    France  Female   42     2.0       0.00              1   \n",
       "1          608     Spain  Female   41     1.0   83807.86              1   \n",
       "2          502    France  Female   42     8.0  159660.80              3   \n",
       "3          699    France  Female   39     1.0       0.00              2   \n",
       "4          850     Spain  Female   43     2.0  125510.82              1   \n",
       "\n",
       "   HasCrCard  IsActiveMember  EstimatedSalary  Exited age_category  \n",
       "0          1               1        101348.88       1     взрослые  \n",
       "1          0               1        112542.58       0     взрослые  \n",
       "2          1               0        113931.57       1     взрослые  \n",
       "3          0               0         93826.63       0     взрослые  \n",
       "4          1               1         79084.10       0     взрослые  "
      ]
     },
     "execution_count": 15,
     "metadata": {},
     "output_type": "execute_result"
    }
   ],
   "source": [
    "data.head(5)"
   ]
  },
  {
   "cell_type": "markdown",
   "metadata": {},
   "source": [
    "### Кодирование категориальных признаков"
   ]
  },
  {
   "cell_type": "markdown",
   "metadata": {},
   "source": [
    "Кодировать категориальные признаки будем с помощью One-Hot-Encoding (прямое кодирование). Во время использования моделей решающего дерева и случайного леса будем использовать Ordinal Encoding."
   ]
  },
  {
   "cell_type": "markdown",
   "metadata": {},
   "source": [
    "#### One-Hot-Encoding"
   ]
  },
  {
   "cell_type": "code",
   "execution_count": 16,
   "metadata": {},
   "outputs": [],
   "source": [
    "data_ohe = pd.get_dummies(data, drop_first=True)"
   ]
  },
  {
   "cell_type": "code",
   "execution_count": 17,
   "metadata": {
    "scrolled": true
   },
   "outputs": [
    {
     "data": {
      "text/html": [
       "<div>\n",
       "<style scoped>\n",
       "    .dataframe tbody tr th:only-of-type {\n",
       "        vertical-align: middle;\n",
       "    }\n",
       "\n",
       "    .dataframe tbody tr th {\n",
       "        vertical-align: top;\n",
       "    }\n",
       "\n",
       "    .dataframe thead th {\n",
       "        text-align: right;\n",
       "    }\n",
       "</style>\n",
       "<table border=\"1\" class=\"dataframe\">\n",
       "  <thead>\n",
       "    <tr style=\"text-align: right;\">\n",
       "      <th></th>\n",
       "      <th>CreditScore</th>\n",
       "      <th>Age</th>\n",
       "      <th>Tenure</th>\n",
       "      <th>Balance</th>\n",
       "      <th>NumOfProducts</th>\n",
       "      <th>HasCrCard</th>\n",
       "      <th>IsActiveMember</th>\n",
       "      <th>EstimatedSalary</th>\n",
       "      <th>Exited</th>\n",
       "      <th>Geography_Germany</th>\n",
       "      <th>Geography_Spain</th>\n",
       "      <th>Gender_Male</th>\n",
       "      <th>age_category_молодежь</th>\n",
       "      <th>age_category_пожилые и старые</th>\n",
       "    </tr>\n",
       "  </thead>\n",
       "  <tbody>\n",
       "    <tr>\n",
       "      <td>0</td>\n",
       "      <td>619</td>\n",
       "      <td>42</td>\n",
       "      <td>2.0</td>\n",
       "      <td>0.00</td>\n",
       "      <td>1</td>\n",
       "      <td>1</td>\n",
       "      <td>1</td>\n",
       "      <td>101348.88</td>\n",
       "      <td>1</td>\n",
       "      <td>0</td>\n",
       "      <td>0</td>\n",
       "      <td>0</td>\n",
       "      <td>0</td>\n",
       "      <td>0</td>\n",
       "    </tr>\n",
       "    <tr>\n",
       "      <td>1</td>\n",
       "      <td>608</td>\n",
       "      <td>41</td>\n",
       "      <td>1.0</td>\n",
       "      <td>83807.86</td>\n",
       "      <td>1</td>\n",
       "      <td>0</td>\n",
       "      <td>1</td>\n",
       "      <td>112542.58</td>\n",
       "      <td>0</td>\n",
       "      <td>0</td>\n",
       "      <td>1</td>\n",
       "      <td>0</td>\n",
       "      <td>0</td>\n",
       "      <td>0</td>\n",
       "    </tr>\n",
       "    <tr>\n",
       "      <td>2</td>\n",
       "      <td>502</td>\n",
       "      <td>42</td>\n",
       "      <td>8.0</td>\n",
       "      <td>159660.80</td>\n",
       "      <td>3</td>\n",
       "      <td>1</td>\n",
       "      <td>0</td>\n",
       "      <td>113931.57</td>\n",
       "      <td>1</td>\n",
       "      <td>0</td>\n",
       "      <td>0</td>\n",
       "      <td>0</td>\n",
       "      <td>0</td>\n",
       "      <td>0</td>\n",
       "    </tr>\n",
       "    <tr>\n",
       "      <td>3</td>\n",
       "      <td>699</td>\n",
       "      <td>39</td>\n",
       "      <td>1.0</td>\n",
       "      <td>0.00</td>\n",
       "      <td>2</td>\n",
       "      <td>0</td>\n",
       "      <td>0</td>\n",
       "      <td>93826.63</td>\n",
       "      <td>0</td>\n",
       "      <td>0</td>\n",
       "      <td>0</td>\n",
       "      <td>0</td>\n",
       "      <td>0</td>\n",
       "      <td>0</td>\n",
       "    </tr>\n",
       "    <tr>\n",
       "      <td>4</td>\n",
       "      <td>850</td>\n",
       "      <td>43</td>\n",
       "      <td>2.0</td>\n",
       "      <td>125510.82</td>\n",
       "      <td>1</td>\n",
       "      <td>1</td>\n",
       "      <td>1</td>\n",
       "      <td>79084.10</td>\n",
       "      <td>0</td>\n",
       "      <td>0</td>\n",
       "      <td>1</td>\n",
       "      <td>0</td>\n",
       "      <td>0</td>\n",
       "      <td>0</td>\n",
       "    </tr>\n",
       "  </tbody>\n",
       "</table>\n",
       "</div>"
      ],
      "text/plain": [
       "   CreditScore  Age  Tenure    Balance  NumOfProducts  HasCrCard  \\\n",
       "0          619   42     2.0       0.00              1          1   \n",
       "1          608   41     1.0   83807.86              1          0   \n",
       "2          502   42     8.0  159660.80              3          1   \n",
       "3          699   39     1.0       0.00              2          0   \n",
       "4          850   43     2.0  125510.82              1          1   \n",
       "\n",
       "   IsActiveMember  EstimatedSalary  Exited  Geography_Germany  \\\n",
       "0               1        101348.88       1                  0   \n",
       "1               1        112542.58       0                  0   \n",
       "2               0        113931.57       1                  0   \n",
       "3               0         93826.63       0                  0   \n",
       "4               1         79084.10       0                  0   \n",
       "\n",
       "   Geography_Spain  Gender_Male  age_category_молодежь  \\\n",
       "0                0            0                      0   \n",
       "1                1            0                      0   \n",
       "2                0            0                      0   \n",
       "3                0            0                      0   \n",
       "4                1            0                      0   \n",
       "\n",
       "   age_category_пожилые и старые  \n",
       "0                              0  \n",
       "1                              0  \n",
       "2                              0  \n",
       "3                              0  \n",
       "4                              0  "
      ]
     },
     "execution_count": 17,
     "metadata": {},
     "output_type": "execute_result"
    }
   ],
   "source": [
    "data_ohe.head(5)"
   ]
  },
  {
   "cell_type": "markdown",
   "metadata": {},
   "source": [
    "#### Ordinal Encoding"
   ]
  },
  {
   "cell_type": "code",
   "execution_count": 18,
   "metadata": {},
   "outputs": [],
   "source": [
    "ord_enc = OrdinalEncoder()\n",
    "data_ordinal = pd.DataFrame(ord_enc.fit_transform(data), columns=data.columns)"
   ]
  },
  {
   "cell_type": "code",
   "execution_count": 19,
   "metadata": {},
   "outputs": [
    {
     "data": {
      "text/html": [
       "<div>\n",
       "<style scoped>\n",
       "    .dataframe tbody tr th:only-of-type {\n",
       "        vertical-align: middle;\n",
       "    }\n",
       "\n",
       "    .dataframe tbody tr th {\n",
       "        vertical-align: top;\n",
       "    }\n",
       "\n",
       "    .dataframe thead th {\n",
       "        text-align: right;\n",
       "    }\n",
       "</style>\n",
       "<table border=\"1\" class=\"dataframe\">\n",
       "  <thead>\n",
       "    <tr style=\"text-align: right;\">\n",
       "      <th></th>\n",
       "      <th>CreditScore</th>\n",
       "      <th>Geography</th>\n",
       "      <th>Gender</th>\n",
       "      <th>Age</th>\n",
       "      <th>Tenure</th>\n",
       "      <th>Balance</th>\n",
       "      <th>NumOfProducts</th>\n",
       "      <th>HasCrCard</th>\n",
       "      <th>IsActiveMember</th>\n",
       "      <th>EstimatedSalary</th>\n",
       "      <th>Exited</th>\n",
       "      <th>age_category</th>\n",
       "    </tr>\n",
       "  </thead>\n",
       "  <tbody>\n",
       "    <tr>\n",
       "      <td>0</td>\n",
       "      <td>228.0</td>\n",
       "      <td>0.0</td>\n",
       "      <td>0.0</td>\n",
       "      <td>24.0</td>\n",
       "      <td>2.0</td>\n",
       "      <td>0.0</td>\n",
       "      <td>0.0</td>\n",
       "      <td>1.0</td>\n",
       "      <td>1.0</td>\n",
       "      <td>5068.0</td>\n",
       "      <td>1.0</td>\n",
       "      <td>0.0</td>\n",
       "    </tr>\n",
       "    <tr>\n",
       "      <td>1</td>\n",
       "      <td>217.0</td>\n",
       "      <td>2.0</td>\n",
       "      <td>0.0</td>\n",
       "      <td>23.0</td>\n",
       "      <td>1.0</td>\n",
       "      <td>743.0</td>\n",
       "      <td>0.0</td>\n",
       "      <td>0.0</td>\n",
       "      <td>1.0</td>\n",
       "      <td>5639.0</td>\n",
       "      <td>0.0</td>\n",
       "      <td>0.0</td>\n",
       "    </tr>\n",
       "    <tr>\n",
       "      <td>2</td>\n",
       "      <td>111.0</td>\n",
       "      <td>0.0</td>\n",
       "      <td>0.0</td>\n",
       "      <td>24.0</td>\n",
       "      <td>8.0</td>\n",
       "      <td>5793.0</td>\n",
       "      <td>2.0</td>\n",
       "      <td>1.0</td>\n",
       "      <td>0.0</td>\n",
       "      <td>5707.0</td>\n",
       "      <td>1.0</td>\n",
       "      <td>0.0</td>\n",
       "    </tr>\n",
       "    <tr>\n",
       "      <td>3</td>\n",
       "      <td>308.0</td>\n",
       "      <td>0.0</td>\n",
       "      <td>0.0</td>\n",
       "      <td>21.0</td>\n",
       "      <td>1.0</td>\n",
       "      <td>0.0</td>\n",
       "      <td>1.0</td>\n",
       "      <td>0.0</td>\n",
       "      <td>0.0</td>\n",
       "      <td>4704.0</td>\n",
       "      <td>0.0</td>\n",
       "      <td>0.0</td>\n",
       "    </tr>\n",
       "    <tr>\n",
       "      <td>4</td>\n",
       "      <td>459.0</td>\n",
       "      <td>2.0</td>\n",
       "      <td>0.0</td>\n",
       "      <td>25.0</td>\n",
       "      <td>2.0</td>\n",
       "      <td>3696.0</td>\n",
       "      <td>0.0</td>\n",
       "      <td>1.0</td>\n",
       "      <td>1.0</td>\n",
       "      <td>3925.0</td>\n",
       "      <td>0.0</td>\n",
       "      <td>0.0</td>\n",
       "    </tr>\n",
       "  </tbody>\n",
       "</table>\n",
       "</div>"
      ],
      "text/plain": [
       "   CreditScore  Geography  Gender   Age  Tenure  Balance  NumOfProducts  \\\n",
       "0        228.0        0.0     0.0  24.0     2.0      0.0            0.0   \n",
       "1        217.0        2.0     0.0  23.0     1.0    743.0            0.0   \n",
       "2        111.0        0.0     0.0  24.0     8.0   5793.0            2.0   \n",
       "3        308.0        0.0     0.0  21.0     1.0      0.0            1.0   \n",
       "4        459.0        2.0     0.0  25.0     2.0   3696.0            0.0   \n",
       "\n",
       "   HasCrCard  IsActiveMember  EstimatedSalary  Exited  age_category  \n",
       "0        1.0             1.0           5068.0     1.0           0.0  \n",
       "1        0.0             1.0           5639.0     0.0           0.0  \n",
       "2        1.0             0.0           5707.0     1.0           0.0  \n",
       "3        0.0             0.0           4704.0     0.0           0.0  \n",
       "4        1.0             1.0           3925.0     0.0           0.0  "
      ]
     },
     "execution_count": 19,
     "metadata": {},
     "output_type": "execute_result"
    }
   ],
   "source": [
    "data_ordinal.head(5)"
   ]
  },
  {
   "cell_type": "markdown",
   "metadata": {},
   "source": [
    "### Масштабирование признаков"
   ]
  },
  {
   "cell_type": "markdown",
   "metadata": {},
   "source": [
    "Масштабировать признаки будем с помощью стандартизации."
   ]
  },
  {
   "cell_type": "code",
   "execution_count": 20,
   "metadata": {},
   "outputs": [],
   "source": [
    "scaler = StandardScaler()"
   ]
  },
  {
   "cell_type": "markdown",
   "metadata": {},
   "source": [
    "Перед этим разобьем наши данные на три пары выборок: тренировочную, валидационную и тестовую."
   ]
  },
  {
   "cell_type": "markdown",
   "metadata": {},
   "source": [
    "#### Для выборок OHE"
   ]
  },
  {
   "cell_type": "code",
   "execution_count": 21,
   "metadata": {},
   "outputs": [],
   "source": [
    "X = data_ohe.drop(['Exited'], axis=1)\n",
    "y = data_ohe['Exited']"
   ]
  },
  {
   "cell_type": "code",
   "execution_count": 22,
   "metadata": {},
   "outputs": [
    {
     "data": {
      "text/plain": [
       "((8000, 13), (2000, 13), (8000,), (2000,))"
      ]
     },
     "execution_count": 22,
     "metadata": {},
     "output_type": "execute_result"
    }
   ],
   "source": [
    "X_train_valid, X_test, y_train_valid, y_test = train_test_split(X, y, test_size=0.2, random_state=7)\n",
    "X_train_valid.shape, X_test.shape, y_train_valid.shape, y_test.shape"
   ]
  },
  {
   "cell_type": "code",
   "execution_count": 23,
   "metadata": {},
   "outputs": [
    {
     "data": {
      "text/plain": [
       "((6000, 13), (2000, 13), (6000,), (2000,))"
      ]
     },
     "execution_count": 23,
     "metadata": {},
     "output_type": "execute_result"
    }
   ],
   "source": [
    "X_train, X_valid, y_train, y_valid = train_test_split(X_train_valid, y_train_valid, test_size=0.25, random_state=7)\n",
    "X_train.shape, X_valid.shape, y_train.shape, y_valid.shape"
   ]
  },
  {
   "cell_type": "code",
   "execution_count": 24,
   "metadata": {},
   "outputs": [
    {
     "data": {
      "text/plain": [
       "['CreditScore',\n",
       " 'Age',\n",
       " 'Tenure',\n",
       " 'Balance',\n",
       " 'NumOfProducts',\n",
       " 'HasCrCard',\n",
       " 'IsActiveMember',\n",
       " 'EstimatedSalary',\n",
       " 'Geography_Germany',\n",
       " 'Geography_Spain',\n",
       " 'Gender_Male',\n",
       " 'age_category_молодежь',\n",
       " 'age_category_пожилые и старые']"
      ]
     },
     "execution_count": 24,
     "metadata": {},
     "output_type": "execute_result"
    }
   ],
   "source": [
    "X_columns = X.columns.tolist()\n",
    "X_columns"
   ]
  },
  {
   "cell_type": "markdown",
   "metadata": {},
   "source": [
    "Обучим наш scaler на тренировочных данных."
   ]
  },
  {
   "cell_type": "code",
   "execution_count": 25,
   "metadata": {},
   "outputs": [
    {
     "data": {
      "text/plain": [
       "StandardScaler(copy=True, with_mean=True, with_std=True)"
      ]
     },
     "execution_count": 25,
     "metadata": {},
     "output_type": "execute_result"
    }
   ],
   "source": [
    "scaler.fit(X_train[X_columns])"
   ]
  },
  {
   "cell_type": "code",
   "execution_count": 26,
   "metadata": {},
   "outputs": [
    {
     "name": "stderr",
     "output_type": "stream",
     "text": [
      "/opt/conda/lib/python3.7/site-packages/ipykernel_launcher.py:1: SettingWithCopyWarning: \n",
      "A value is trying to be set on a copy of a slice from a DataFrame.\n",
      "Try using .loc[row_indexer,col_indexer] = value instead\n",
      "\n",
      "See the caveats in the documentation: http://pandas.pydata.org/pandas-docs/stable/user_guide/indexing.html#returning-a-view-versus-a-copy\n",
      "  \"\"\"Entry point for launching an IPython kernel.\n",
      "/opt/conda/lib/python3.7/site-packages/pandas/core/indexing.py:494: SettingWithCopyWarning: \n",
      "A value is trying to be set on a copy of a slice from a DataFrame.\n",
      "Try using .loc[row_indexer,col_indexer] = value instead\n",
      "\n",
      "See the caveats in the documentation: http://pandas.pydata.org/pandas-docs/stable/user_guide/indexing.html#returning-a-view-versus-a-copy\n",
      "  self.obj[item] = s\n",
      "/opt/conda/lib/python3.7/site-packages/ipykernel_launcher.py:2: SettingWithCopyWarning: \n",
      "A value is trying to be set on a copy of a slice from a DataFrame.\n",
      "Try using .loc[row_indexer,col_indexer] = value instead\n",
      "\n",
      "See the caveats in the documentation: http://pandas.pydata.org/pandas-docs/stable/user_guide/indexing.html#returning-a-view-versus-a-copy\n",
      "  \n",
      "/opt/conda/lib/python3.7/site-packages/pandas/core/indexing.py:494: SettingWithCopyWarning: \n",
      "A value is trying to be set on a copy of a slice from a DataFrame.\n",
      "Try using .loc[row_indexer,col_indexer] = value instead\n",
      "\n",
      "See the caveats in the documentation: http://pandas.pydata.org/pandas-docs/stable/user_guide/indexing.html#returning-a-view-versus-a-copy\n",
      "  self.obj[item] = s\n"
     ]
    }
   ],
   "source": [
    "X_train[X_columns] = scaler.transform(X_train[X_columns])\n",
    "X_valid[X_columns] = scaler.transform(X_valid[X_columns])"
   ]
  },
  {
   "cell_type": "code",
   "execution_count": 27,
   "metadata": {},
   "outputs": [
    {
     "data": {
      "text/html": [
       "<div>\n",
       "<style scoped>\n",
       "    .dataframe tbody tr th:only-of-type {\n",
       "        vertical-align: middle;\n",
       "    }\n",
       "\n",
       "    .dataframe tbody tr th {\n",
       "        vertical-align: top;\n",
       "    }\n",
       "\n",
       "    .dataframe thead th {\n",
       "        text-align: right;\n",
       "    }\n",
       "</style>\n",
       "<table border=\"1\" class=\"dataframe\">\n",
       "  <thead>\n",
       "    <tr style=\"text-align: right;\">\n",
       "      <th></th>\n",
       "      <th>CreditScore</th>\n",
       "      <th>Age</th>\n",
       "      <th>Tenure</th>\n",
       "      <th>Balance</th>\n",
       "      <th>NumOfProducts</th>\n",
       "      <th>HasCrCard</th>\n",
       "      <th>IsActiveMember</th>\n",
       "      <th>EstimatedSalary</th>\n",
       "      <th>Geography_Germany</th>\n",
       "      <th>Geography_Spain</th>\n",
       "      <th>Gender_Male</th>\n",
       "      <th>age_category_молодежь</th>\n",
       "      <th>age_category_пожилые и старые</th>\n",
       "    </tr>\n",
       "  </thead>\n",
       "  <tbody>\n",
       "    <tr>\n",
       "      <td>1433</td>\n",
       "      <td>1.080912</td>\n",
       "      <td>2.168221</td>\n",
       "      <td>-1.305642</td>\n",
       "      <td>0.815008</td>\n",
       "      <td>0.797618</td>\n",
       "      <td>-1.555250</td>\n",
       "      <td>0.969466</td>\n",
       "      <td>0.740865</td>\n",
       "      <td>-0.574784</td>\n",
       "      <td>-0.575811</td>\n",
       "      <td>0.911254</td>\n",
       "      <td>-0.494786</td>\n",
       "      <td>3.379698</td>\n",
       "    </tr>\n",
       "    <tr>\n",
       "      <td>3212</td>\n",
       "      <td>-0.412302</td>\n",
       "      <td>-0.378060</td>\n",
       "      <td>1.803715</td>\n",
       "      <td>-1.231515</td>\n",
       "      <td>-0.904876</td>\n",
       "      <td>0.642983</td>\n",
       "      <td>0.969466</td>\n",
       "      <td>-1.321161</td>\n",
       "      <td>-0.574784</td>\n",
       "      <td>-0.575811</td>\n",
       "      <td>0.911254</td>\n",
       "      <td>-0.494786</td>\n",
       "      <td>-0.295884</td>\n",
       "    </tr>\n",
       "    <tr>\n",
       "      <td>4314</td>\n",
       "      <td>-0.132324</td>\n",
       "      <td>-0.472367</td>\n",
       "      <td>-0.960158</td>\n",
       "      <td>0.907875</td>\n",
       "      <td>-0.904876</td>\n",
       "      <td>-1.555250</td>\n",
       "      <td>0.969466</td>\n",
       "      <td>0.971154</td>\n",
       "      <td>-0.574784</td>\n",
       "      <td>-0.575811</td>\n",
       "      <td>0.911254</td>\n",
       "      <td>-0.494786</td>\n",
       "      <td>-0.295884</td>\n",
       "    </tr>\n",
       "    <tr>\n",
       "      <td>1855</td>\n",
       "      <td>1.391998</td>\n",
       "      <td>0.753621</td>\n",
       "      <td>1.458231</td>\n",
       "      <td>0.724069</td>\n",
       "      <td>-0.904876</td>\n",
       "      <td>0.642983</td>\n",
       "      <td>0.969466</td>\n",
       "      <td>-1.143649</td>\n",
       "      <td>-0.574784</td>\n",
       "      <td>-0.575811</td>\n",
       "      <td>-1.097389</td>\n",
       "      <td>-0.494786</td>\n",
       "      <td>-0.295884</td>\n",
       "    </tr>\n",
       "    <tr>\n",
       "      <td>6926</td>\n",
       "      <td>0.095806</td>\n",
       "      <td>-0.472367</td>\n",
       "      <td>-1.305642</td>\n",
       "      <td>-1.231515</td>\n",
       "      <td>0.797618</td>\n",
       "      <td>0.642983</td>\n",
       "      <td>-1.031496</td>\n",
       "      <td>-1.562565</td>\n",
       "      <td>-0.574784</td>\n",
       "      <td>-0.575811</td>\n",
       "      <td>0.911254</td>\n",
       "      <td>-0.494786</td>\n",
       "      <td>-0.295884</td>\n",
       "    </tr>\n",
       "  </tbody>\n",
       "</table>\n",
       "</div>"
      ],
      "text/plain": [
       "      CreditScore       Age    Tenure   Balance  NumOfProducts  HasCrCard  \\\n",
       "1433     1.080912  2.168221 -1.305642  0.815008       0.797618  -1.555250   \n",
       "3212    -0.412302 -0.378060  1.803715 -1.231515      -0.904876   0.642983   \n",
       "4314    -0.132324 -0.472367 -0.960158  0.907875      -0.904876  -1.555250   \n",
       "1855     1.391998  0.753621  1.458231  0.724069      -0.904876   0.642983   \n",
       "6926     0.095806 -0.472367 -1.305642 -1.231515       0.797618   0.642983   \n",
       "\n",
       "      IsActiveMember  EstimatedSalary  Geography_Germany  Geography_Spain  \\\n",
       "1433        0.969466         0.740865          -0.574784        -0.575811   \n",
       "3212        0.969466        -1.321161          -0.574784        -0.575811   \n",
       "4314        0.969466         0.971154          -0.574784        -0.575811   \n",
       "1855        0.969466        -1.143649          -0.574784        -0.575811   \n",
       "6926       -1.031496        -1.562565          -0.574784        -0.575811   \n",
       "\n",
       "      Gender_Male  age_category_молодежь  age_category_пожилые и старые  \n",
       "1433     0.911254              -0.494786                       3.379698  \n",
       "3212     0.911254              -0.494786                      -0.295884  \n",
       "4314     0.911254              -0.494786                      -0.295884  \n",
       "1855    -1.097389              -0.494786                      -0.295884  \n",
       "6926     0.911254              -0.494786                      -0.295884  "
      ]
     },
     "execution_count": 27,
     "metadata": {},
     "output_type": "execute_result"
    }
   ],
   "source": [
    "X_train.head(5)"
   ]
  },
  {
   "cell_type": "code",
   "execution_count": 28,
   "metadata": {},
   "outputs": [
    {
     "data": {
      "text/html": [
       "<div>\n",
       "<style scoped>\n",
       "    .dataframe tbody tr th:only-of-type {\n",
       "        vertical-align: middle;\n",
       "    }\n",
       "\n",
       "    .dataframe tbody tr th {\n",
       "        vertical-align: top;\n",
       "    }\n",
       "\n",
       "    .dataframe thead th {\n",
       "        text-align: right;\n",
       "    }\n",
       "</style>\n",
       "<table border=\"1\" class=\"dataframe\">\n",
       "  <thead>\n",
       "    <tr style=\"text-align: right;\">\n",
       "      <th></th>\n",
       "      <th>CreditScore</th>\n",
       "      <th>Age</th>\n",
       "      <th>Tenure</th>\n",
       "      <th>Balance</th>\n",
       "      <th>NumOfProducts</th>\n",
       "      <th>HasCrCard</th>\n",
       "      <th>IsActiveMember</th>\n",
       "      <th>EstimatedSalary</th>\n",
       "      <th>Geography_Germany</th>\n",
       "      <th>Geography_Spain</th>\n",
       "      <th>Gender_Male</th>\n",
       "      <th>age_category_молодежь</th>\n",
       "      <th>age_category_пожилые и старые</th>\n",
       "    </tr>\n",
       "  </thead>\n",
       "  <tbody>\n",
       "    <tr>\n",
       "      <td>1019</td>\n",
       "      <td>-0.184172</td>\n",
       "      <td>-0.755287</td>\n",
       "      <td>-1.305642</td>\n",
       "      <td>-1.231515</td>\n",
       "      <td>-0.904876</td>\n",
       "      <td>0.642983</td>\n",
       "      <td>-1.031496</td>\n",
       "      <td>-0.887011</td>\n",
       "      <td>-0.574784</td>\n",
       "      <td>-0.575811</td>\n",
       "      <td>0.911254</td>\n",
       "      <td>-0.494786</td>\n",
       "      <td>-0.295884</td>\n",
       "    </tr>\n",
       "    <tr>\n",
       "      <td>8719</td>\n",
       "      <td>0.417262</td>\n",
       "      <td>0.470701</td>\n",
       "      <td>0.421779</td>\n",
       "      <td>0.916925</td>\n",
       "      <td>0.797618</td>\n",
       "      <td>0.642983</td>\n",
       "      <td>0.969466</td>\n",
       "      <td>1.699053</td>\n",
       "      <td>-0.574784</td>\n",
       "      <td>-0.575811</td>\n",
       "      <td>-1.097389</td>\n",
       "      <td>-0.494786</td>\n",
       "      <td>-0.295884</td>\n",
       "    </tr>\n",
       "    <tr>\n",
       "      <td>7446</td>\n",
       "      <td>0.697239</td>\n",
       "      <td>-0.378060</td>\n",
       "      <td>-0.614674</td>\n",
       "      <td>0.331909</td>\n",
       "      <td>-0.904876</td>\n",
       "      <td>0.642983</td>\n",
       "      <td>0.969466</td>\n",
       "      <td>-0.801859</td>\n",
       "      <td>-0.574784</td>\n",
       "      <td>-0.575811</td>\n",
       "      <td>0.911254</td>\n",
       "      <td>-0.494786</td>\n",
       "      <td>-0.295884</td>\n",
       "    </tr>\n",
       "    <tr>\n",
       "      <td>2056</td>\n",
       "      <td>-1.158908</td>\n",
       "      <td>-0.095140</td>\n",
       "      <td>-0.960158</td>\n",
       "      <td>-1.231515</td>\n",
       "      <td>-0.904876</td>\n",
       "      <td>0.642983</td>\n",
       "      <td>0.969466</td>\n",
       "      <td>0.923188</td>\n",
       "      <td>-0.574784</td>\n",
       "      <td>1.736682</td>\n",
       "      <td>0.911254</td>\n",
       "      <td>-0.494786</td>\n",
       "      <td>-0.295884</td>\n",
       "    </tr>\n",
       "    <tr>\n",
       "      <td>510</td>\n",
       "      <td>-1.314451</td>\n",
       "      <td>-0.755287</td>\n",
       "      <td>1.803715</td>\n",
       "      <td>-0.153995</td>\n",
       "      <td>0.797618</td>\n",
       "      <td>0.642983</td>\n",
       "      <td>0.969466</td>\n",
       "      <td>1.078234</td>\n",
       "      <td>1.739783</td>\n",
       "      <td>-0.575811</td>\n",
       "      <td>-1.097389</td>\n",
       "      <td>-0.494786</td>\n",
       "      <td>-0.295884</td>\n",
       "    </tr>\n",
       "  </tbody>\n",
       "</table>\n",
       "</div>"
      ],
      "text/plain": [
       "      CreditScore       Age    Tenure   Balance  NumOfProducts  HasCrCard  \\\n",
       "1019    -0.184172 -0.755287 -1.305642 -1.231515      -0.904876   0.642983   \n",
       "8719     0.417262  0.470701  0.421779  0.916925       0.797618   0.642983   \n",
       "7446     0.697239 -0.378060 -0.614674  0.331909      -0.904876   0.642983   \n",
       "2056    -1.158908 -0.095140 -0.960158 -1.231515      -0.904876   0.642983   \n",
       "510     -1.314451 -0.755287  1.803715 -0.153995       0.797618   0.642983   \n",
       "\n",
       "      IsActiveMember  EstimatedSalary  Geography_Germany  Geography_Spain  \\\n",
       "1019       -1.031496        -0.887011          -0.574784        -0.575811   \n",
       "8719        0.969466         1.699053          -0.574784        -0.575811   \n",
       "7446        0.969466        -0.801859          -0.574784        -0.575811   \n",
       "2056        0.969466         0.923188          -0.574784         1.736682   \n",
       "510         0.969466         1.078234           1.739783        -0.575811   \n",
       "\n",
       "      Gender_Male  age_category_молодежь  age_category_пожилые и старые  \n",
       "1019     0.911254              -0.494786                      -0.295884  \n",
       "8719    -1.097389              -0.494786                      -0.295884  \n",
       "7446     0.911254              -0.494786                      -0.295884  \n",
       "2056     0.911254              -0.494786                      -0.295884  \n",
       "510     -1.097389              -0.494786                      -0.295884  "
      ]
     },
     "execution_count": 28,
     "metadata": {},
     "output_type": "execute_result"
    }
   ],
   "source": [
    "X_valid.head(5)"
   ]
  },
  {
   "cell_type": "code",
   "execution_count": 29,
   "metadata": {},
   "outputs": [
    {
     "name": "stderr",
     "output_type": "stream",
     "text": [
      "/opt/conda/lib/python3.7/site-packages/ipykernel_launcher.py:1: SettingWithCopyWarning: \n",
      "A value is trying to be set on a copy of a slice from a DataFrame.\n",
      "Try using .loc[row_indexer,col_indexer] = value instead\n",
      "\n",
      "See the caveats in the documentation: http://pandas.pydata.org/pandas-docs/stable/user_guide/indexing.html#returning-a-view-versus-a-copy\n",
      "  \"\"\"Entry point for launching an IPython kernel.\n",
      "/opt/conda/lib/python3.7/site-packages/pandas/core/indexing.py:494: SettingWithCopyWarning: \n",
      "A value is trying to be set on a copy of a slice from a DataFrame.\n",
      "Try using .loc[row_indexer,col_indexer] = value instead\n",
      "\n",
      "See the caveats in the documentation: http://pandas.pydata.org/pandas-docs/stable/user_guide/indexing.html#returning-a-view-versus-a-copy\n",
      "  self.obj[item] = s\n"
     ]
    }
   ],
   "source": [
    "X_test[X_columns] = scaler.transform(X_test[X_columns])"
   ]
  },
  {
   "cell_type": "code",
   "execution_count": 30,
   "metadata": {},
   "outputs": [
    {
     "data": {
      "text/html": [
       "<div>\n",
       "<style scoped>\n",
       "    .dataframe tbody tr th:only-of-type {\n",
       "        vertical-align: middle;\n",
       "    }\n",
       "\n",
       "    .dataframe tbody tr th {\n",
       "        vertical-align: top;\n",
       "    }\n",
       "\n",
       "    .dataframe thead th {\n",
       "        text-align: right;\n",
       "    }\n",
       "</style>\n",
       "<table border=\"1\" class=\"dataframe\">\n",
       "  <thead>\n",
       "    <tr style=\"text-align: right;\">\n",
       "      <th></th>\n",
       "      <th>CreditScore</th>\n",
       "      <th>Age</th>\n",
       "      <th>Tenure</th>\n",
       "      <th>Balance</th>\n",
       "      <th>NumOfProducts</th>\n",
       "      <th>HasCrCard</th>\n",
       "      <th>IsActiveMember</th>\n",
       "      <th>EstimatedSalary</th>\n",
       "      <th>Geography_Germany</th>\n",
       "      <th>Geography_Spain</th>\n",
       "      <th>Gender_Male</th>\n",
       "      <th>age_category_молодежь</th>\n",
       "      <th>age_category_пожилые и старые</th>\n",
       "    </tr>\n",
       "  </thead>\n",
       "  <tbody>\n",
       "    <tr>\n",
       "      <td>1977</td>\n",
       "      <td>0.686870</td>\n",
       "      <td>-0.378060</td>\n",
       "      <td>-1.305642</td>\n",
       "      <td>-1.231515</td>\n",
       "      <td>2.500112</td>\n",
       "      <td>-1.555250</td>\n",
       "      <td>-1.031496</td>\n",
       "      <td>1.303202</td>\n",
       "      <td>-0.574784</td>\n",
       "      <td>1.736682</td>\n",
       "      <td>0.911254</td>\n",
       "      <td>-0.494786</td>\n",
       "      <td>-0.295884</td>\n",
       "    </tr>\n",
       "    <tr>\n",
       "      <td>3880</td>\n",
       "      <td>0.272088</td>\n",
       "      <td>3.111289</td>\n",
       "      <td>1.112747</td>\n",
       "      <td>-1.231515</td>\n",
       "      <td>0.797618</td>\n",
       "      <td>0.642983</td>\n",
       "      <td>0.969466</td>\n",
       "      <td>0.935763</td>\n",
       "      <td>-0.574784</td>\n",
       "      <td>-0.575811</td>\n",
       "      <td>-1.097389</td>\n",
       "      <td>-0.494786</td>\n",
       "      <td>3.379698</td>\n",
       "    </tr>\n",
       "    <tr>\n",
       "      <td>52</td>\n",
       "      <td>1.423107</td>\n",
       "      <td>-0.566673</td>\n",
       "      <td>0.076294</td>\n",
       "      <td>-1.231515</td>\n",
       "      <td>0.797618</td>\n",
       "      <td>-1.555250</td>\n",
       "      <td>-1.031496</td>\n",
       "      <td>0.299927</td>\n",
       "      <td>-0.574784</td>\n",
       "      <td>-0.575811</td>\n",
       "      <td>-1.097389</td>\n",
       "      <td>-0.494786</td>\n",
       "      <td>-0.295884</td>\n",
       "    </tr>\n",
       "    <tr>\n",
       "      <td>2551</td>\n",
       "      <td>-1.179647</td>\n",
       "      <td>1.319461</td>\n",
       "      <td>-0.614674</td>\n",
       "      <td>-1.231515</td>\n",
       "      <td>-0.904876</td>\n",
       "      <td>0.642983</td>\n",
       "      <td>0.969466</td>\n",
       "      <td>-0.143999</td>\n",
       "      <td>-0.574784</td>\n",
       "      <td>-0.575811</td>\n",
       "      <td>-1.097389</td>\n",
       "      <td>-0.494786</td>\n",
       "      <td>-0.295884</td>\n",
       "    </tr>\n",
       "    <tr>\n",
       "      <td>2246</td>\n",
       "      <td>0.686870</td>\n",
       "      <td>-0.000833</td>\n",
       "      <td>0.421779</td>\n",
       "      <td>-1.231515</td>\n",
       "      <td>0.797618</td>\n",
       "      <td>0.642983</td>\n",
       "      <td>-1.031496</td>\n",
       "      <td>-0.111553</td>\n",
       "      <td>-0.574784</td>\n",
       "      <td>1.736682</td>\n",
       "      <td>-1.097389</td>\n",
       "      <td>-0.494786</td>\n",
       "      <td>-0.295884</td>\n",
       "    </tr>\n",
       "  </tbody>\n",
       "</table>\n",
       "</div>"
      ],
      "text/plain": [
       "      CreditScore       Age    Tenure   Balance  NumOfProducts  HasCrCard  \\\n",
       "1977     0.686870 -0.378060 -1.305642 -1.231515       2.500112  -1.555250   \n",
       "3880     0.272088  3.111289  1.112747 -1.231515       0.797618   0.642983   \n",
       "52       1.423107 -0.566673  0.076294 -1.231515       0.797618  -1.555250   \n",
       "2551    -1.179647  1.319461 -0.614674 -1.231515      -0.904876   0.642983   \n",
       "2246     0.686870 -0.000833  0.421779 -1.231515       0.797618   0.642983   \n",
       "\n",
       "      IsActiveMember  EstimatedSalary  Geography_Germany  Geography_Spain  \\\n",
       "1977       -1.031496         1.303202          -0.574784         1.736682   \n",
       "3880        0.969466         0.935763          -0.574784        -0.575811   \n",
       "52         -1.031496         0.299927          -0.574784        -0.575811   \n",
       "2551        0.969466        -0.143999          -0.574784        -0.575811   \n",
       "2246       -1.031496        -0.111553          -0.574784         1.736682   \n",
       "\n",
       "      Gender_Male  age_category_молодежь  age_category_пожилые и старые  \n",
       "1977     0.911254              -0.494786                      -0.295884  \n",
       "3880    -1.097389              -0.494786                       3.379698  \n",
       "52      -1.097389              -0.494786                      -0.295884  \n",
       "2551    -1.097389              -0.494786                      -0.295884  \n",
       "2246    -1.097389              -0.494786                      -0.295884  "
      ]
     },
     "execution_count": 30,
     "metadata": {},
     "output_type": "execute_result"
    }
   ],
   "source": [
    "X_test.head(5)"
   ]
  },
  {
   "cell_type": "markdown",
   "metadata": {},
   "source": [
    "#### Для выборок Ordinal Encoding"
   ]
  },
  {
   "cell_type": "code",
   "execution_count": 31,
   "metadata": {},
   "outputs": [],
   "source": [
    "Xo = data_ordinal.drop(['Exited'], axis=1)\n",
    "yo = data_ordinal['Exited']"
   ]
  },
  {
   "cell_type": "code",
   "execution_count": 32,
   "metadata": {},
   "outputs": [
    {
     "data": {
      "text/plain": [
       "((8000, 11), (2000, 11), (8000,), (2000,))"
      ]
     },
     "execution_count": 32,
     "metadata": {},
     "output_type": "execute_result"
    }
   ],
   "source": [
    "Xo_train_valid, Xo_test, yo_train_valid, yo_test = train_test_split(Xo, yo, test_size=0.2, random_state=7)\n",
    "Xo_train_valid.shape, Xo_test.shape, yo_train_valid.shape, yo_test.shape"
   ]
  },
  {
   "cell_type": "code",
   "execution_count": 33,
   "metadata": {},
   "outputs": [
    {
     "data": {
      "text/plain": [
       "((6000, 11), (2000, 11), (6000,), (2000,))"
      ]
     },
     "execution_count": 33,
     "metadata": {},
     "output_type": "execute_result"
    }
   ],
   "source": [
    "Xo_train, Xo_valid, yo_train, yo_valid = train_test_split(Xo_train_valid, yo_train_valid, test_size=0.25, random_state=7)\n",
    "Xo_train.shape, Xo_valid.shape, yo_train.shape, yo_valid.shape"
   ]
  },
  {
   "cell_type": "code",
   "execution_count": 34,
   "metadata": {},
   "outputs": [
    {
     "data": {
      "text/plain": [
       "['CreditScore',\n",
       " 'Geography',\n",
       " 'Gender',\n",
       " 'Age',\n",
       " 'Tenure',\n",
       " 'Balance',\n",
       " 'NumOfProducts',\n",
       " 'HasCrCard',\n",
       " 'IsActiveMember',\n",
       " 'EstimatedSalary',\n",
       " 'Exited',\n",
       " 'age_category']"
      ]
     },
     "execution_count": 34,
     "metadata": {},
     "output_type": "execute_result"
    }
   ],
   "source": [
    "data_ordinal.columns.tolist()"
   ]
  },
  {
   "cell_type": "code",
   "execution_count": 35,
   "metadata": {},
   "outputs": [],
   "source": [
    "Xo_columns = ['CreditScore',\n",
    " 'Geography',\n",
    " 'Gender',\n",
    " 'Age',\n",
    " 'Tenure',\n",
    " 'Balance',\n",
    " 'NumOfProducts',\n",
    " 'HasCrCard',\n",
    " 'IsActiveMember',\n",
    " 'EstimatedSalary',\n",
    " 'age_category']"
   ]
  },
  {
   "cell_type": "code",
   "execution_count": 36,
   "metadata": {},
   "outputs": [],
   "source": [
    "scaler_ordinal = StandardScaler()"
   ]
  },
  {
   "cell_type": "code",
   "execution_count": 37,
   "metadata": {},
   "outputs": [
    {
     "data": {
      "text/plain": [
       "StandardScaler(copy=True, with_mean=True, with_std=True)"
      ]
     },
     "execution_count": 37,
     "metadata": {},
     "output_type": "execute_result"
    }
   ],
   "source": [
    "scaler_ordinal.fit(Xo_train[Xo_columns])"
   ]
  },
  {
   "cell_type": "code",
   "execution_count": 38,
   "metadata": {},
   "outputs": [
    {
     "name": "stderr",
     "output_type": "stream",
     "text": [
      "/opt/conda/lib/python3.7/site-packages/ipykernel_launcher.py:1: SettingWithCopyWarning: \n",
      "A value is trying to be set on a copy of a slice from a DataFrame.\n",
      "Try using .loc[row_indexer,col_indexer] = value instead\n",
      "\n",
      "See the caveats in the documentation: http://pandas.pydata.org/pandas-docs/stable/user_guide/indexing.html#returning-a-view-versus-a-copy\n",
      "  \"\"\"Entry point for launching an IPython kernel.\n",
      "/opt/conda/lib/python3.7/site-packages/pandas/core/frame.py:3498: SettingWithCopyWarning: \n",
      "A value is trying to be set on a copy of a slice from a DataFrame\n",
      "\n",
      "See the caveats in the documentation: http://pandas.pydata.org/pandas-docs/stable/user_guide/indexing.html#returning-a-view-versus-a-copy\n",
      "  self.loc._setitem_with_indexer((slice(None), indexer), value)\n",
      "/opt/conda/lib/python3.7/site-packages/pandas/core/frame.py:3469: SettingWithCopyWarning: \n",
      "A value is trying to be set on a copy of a slice from a DataFrame\n",
      "\n",
      "See the caveats in the documentation: http://pandas.pydata.org/pandas-docs/stable/user_guide/indexing.html#returning-a-view-versus-a-copy\n",
      "  self._setitem_array(key, value)\n",
      "/opt/conda/lib/python3.7/site-packages/ipykernel_launcher.py:2: SettingWithCopyWarning: \n",
      "A value is trying to be set on a copy of a slice from a DataFrame.\n",
      "Try using .loc[row_indexer,col_indexer] = value instead\n",
      "\n",
      "See the caveats in the documentation: http://pandas.pydata.org/pandas-docs/stable/user_guide/indexing.html#returning-a-view-versus-a-copy\n",
      "  \n",
      "/opt/conda/lib/python3.7/site-packages/pandas/core/frame.py:3498: SettingWithCopyWarning: \n",
      "A value is trying to be set on a copy of a slice from a DataFrame\n",
      "\n",
      "See the caveats in the documentation: http://pandas.pydata.org/pandas-docs/stable/user_guide/indexing.html#returning-a-view-versus-a-copy\n",
      "  self.loc._setitem_with_indexer((slice(None), indexer), value)\n",
      "/opt/conda/lib/python3.7/site-packages/pandas/core/frame.py:3469: SettingWithCopyWarning: \n",
      "A value is trying to be set on a copy of a slice from a DataFrame\n",
      "\n",
      "See the caveats in the documentation: http://pandas.pydata.org/pandas-docs/stable/user_guide/indexing.html#returning-a-view-versus-a-copy\n",
      "  self._setitem_array(key, value)\n",
      "/opt/conda/lib/python3.7/site-packages/ipykernel_launcher.py:3: SettingWithCopyWarning: \n",
      "A value is trying to be set on a copy of a slice from a DataFrame.\n",
      "Try using .loc[row_indexer,col_indexer] = value instead\n",
      "\n",
      "See the caveats in the documentation: http://pandas.pydata.org/pandas-docs/stable/user_guide/indexing.html#returning-a-view-versus-a-copy\n",
      "  This is separate from the ipykernel package so we can avoid doing imports until\n",
      "/opt/conda/lib/python3.7/site-packages/pandas/core/frame.py:3498: SettingWithCopyWarning: \n",
      "A value is trying to be set on a copy of a slice from a DataFrame\n",
      "\n",
      "See the caveats in the documentation: http://pandas.pydata.org/pandas-docs/stable/user_guide/indexing.html#returning-a-view-versus-a-copy\n",
      "  self.loc._setitem_with_indexer((slice(None), indexer), value)\n",
      "/opt/conda/lib/python3.7/site-packages/pandas/core/frame.py:3469: SettingWithCopyWarning: \n",
      "A value is trying to be set on a copy of a slice from a DataFrame\n",
      "\n",
      "See the caveats in the documentation: http://pandas.pydata.org/pandas-docs/stable/user_guide/indexing.html#returning-a-view-versus-a-copy\n",
      "  self._setitem_array(key, value)\n"
     ]
    }
   ],
   "source": [
    "Xo_train[Xo_columns] = scaler_ordinal.transform(Xo_train[Xo_columns])\n",
    "Xo_valid[Xo_columns] = scaler_ordinal.transform(Xo_valid[Xo_columns])\n",
    "Xo_test[Xo_columns] = scaler_ordinal.transform(Xo_test[Xo_columns])"
   ]
  },
  {
   "cell_type": "code",
   "execution_count": 39,
   "metadata": {},
   "outputs": [
    {
     "data": {
      "text/html": [
       "<div>\n",
       "<style scoped>\n",
       "    .dataframe tbody tr th:only-of-type {\n",
       "        vertical-align: middle;\n",
       "    }\n",
       "\n",
       "    .dataframe tbody tr th {\n",
       "        vertical-align: top;\n",
       "    }\n",
       "\n",
       "    .dataframe thead th {\n",
       "        text-align: right;\n",
       "    }\n",
       "</style>\n",
       "<table border=\"1\" class=\"dataframe\">\n",
       "  <thead>\n",
       "    <tr style=\"text-align: right;\">\n",
       "      <th></th>\n",
       "      <th>CreditScore</th>\n",
       "      <th>Geography</th>\n",
       "      <th>Gender</th>\n",
       "      <th>Age</th>\n",
       "      <th>Tenure</th>\n",
       "      <th>Balance</th>\n",
       "      <th>NumOfProducts</th>\n",
       "      <th>HasCrCard</th>\n",
       "      <th>IsActiveMember</th>\n",
       "      <th>EstimatedSalary</th>\n",
       "      <th>age_category</th>\n",
       "    </tr>\n",
       "  </thead>\n",
       "  <tbody>\n",
       "    <tr>\n",
       "      <td>1433</td>\n",
       "      <td>1.081938</td>\n",
       "      <td>-0.90023</td>\n",
       "      <td>0.911254</td>\n",
       "      <td>2.168561</td>\n",
       "      <td>-1.305642</td>\n",
       "      <td>0.863140</td>\n",
       "      <td>0.797618</td>\n",
       "      <td>-1.555250</td>\n",
       "      <td>0.969466</td>\n",
       "      <td>0.748373</td>\n",
       "      <td>2.627343</td>\n",
       "    </tr>\n",
       "    <tr>\n",
       "      <td>3212</td>\n",
       "      <td>-0.413381</td>\n",
       "      <td>-0.90023</td>\n",
       "      <td>0.911254</td>\n",
       "      <td>-0.378082</td>\n",
       "      <td>1.803715</td>\n",
       "      <td>-0.962032</td>\n",
       "      <td>-0.904876</td>\n",
       "      <td>0.642983</td>\n",
       "      <td>0.969466</td>\n",
       "      <td>-1.322331</td>\n",
       "      <td>-0.572182</td>\n",
       "    </tr>\n",
       "    <tr>\n",
       "      <td>4314</td>\n",
       "      <td>-0.133009</td>\n",
       "      <td>-0.90023</td>\n",
       "      <td>0.911254</td>\n",
       "      <td>-0.472402</td>\n",
       "      <td>-0.960158</td>\n",
       "      <td>1.085596</td>\n",
       "      <td>-0.904876</td>\n",
       "      <td>-1.555250</td>\n",
       "      <td>0.969466</td>\n",
       "      <td>0.970419</td>\n",
       "      <td>-0.572182</td>\n",
       "    </tr>\n",
       "    <tr>\n",
       "      <td>1855</td>\n",
       "      <td>1.393463</td>\n",
       "      <td>-0.90023</td>\n",
       "      <td>-1.097389</td>\n",
       "      <td>0.753759</td>\n",
       "      <td>1.458231</td>\n",
       "      <td>0.625666</td>\n",
       "      <td>-0.904876</td>\n",
       "      <td>0.642983</td>\n",
       "      <td>0.969466</td>\n",
       "      <td>-1.149398</td>\n",
       "      <td>-0.572182</td>\n",
       "    </tr>\n",
       "    <tr>\n",
       "      <td>6926</td>\n",
       "      <td>0.095443</td>\n",
       "      <td>-0.90023</td>\n",
       "      <td>0.911254</td>\n",
       "      <td>-0.472402</td>\n",
       "      <td>-1.305642</td>\n",
       "      <td>-0.962032</td>\n",
       "      <td>0.797618</td>\n",
       "      <td>0.642983</td>\n",
       "      <td>-1.031496</td>\n",
       "      <td>-1.551295</td>\n",
       "      <td>-0.572182</td>\n",
       "    </tr>\n",
       "  </tbody>\n",
       "</table>\n",
       "</div>"
      ],
      "text/plain": [
       "      CreditScore  Geography    Gender       Age    Tenure   Balance  \\\n",
       "1433     1.081938   -0.90023  0.911254  2.168561 -1.305642  0.863140   \n",
       "3212    -0.413381   -0.90023  0.911254 -0.378082  1.803715 -0.962032   \n",
       "4314    -0.133009   -0.90023  0.911254 -0.472402 -0.960158  1.085596   \n",
       "1855     1.393463   -0.90023 -1.097389  0.753759  1.458231  0.625666   \n",
       "6926     0.095443   -0.90023  0.911254 -0.472402 -1.305642 -0.962032   \n",
       "\n",
       "      NumOfProducts  HasCrCard  IsActiveMember  EstimatedSalary  age_category  \n",
       "1433       0.797618  -1.555250        0.969466         0.748373      2.627343  \n",
       "3212      -0.904876   0.642983        0.969466        -1.322331     -0.572182  \n",
       "4314      -0.904876  -1.555250        0.969466         0.970419     -0.572182  \n",
       "1855      -0.904876   0.642983        0.969466        -1.149398     -0.572182  \n",
       "6926       0.797618   0.642983       -1.031496        -1.551295     -0.572182  "
      ]
     },
     "execution_count": 39,
     "metadata": {},
     "output_type": "execute_result"
    }
   ],
   "source": [
    "Xo_train.head(5)"
   ]
  },
  {
   "cell_type": "markdown",
   "metadata": {},
   "source": [
    "## Исследование задачи"
   ]
  },
  {
   "cell_type": "markdown",
   "metadata": {},
   "source": [
    "### Баланс классов"
   ]
  },
  {
   "cell_type": "markdown",
   "metadata": {},
   "source": [
    "Посмотрим на баланс классов."
   ]
  },
  {
   "cell_type": "code",
   "execution_count": 40,
   "metadata": {},
   "outputs": [
    {
     "data": {
      "image/png": "[encoded data removed]",
      "text/plain": [
       "<Figure size 432x288 with 1 Axes>"
      ]
     },
     "metadata": {
      "needs_background": "light"
     },
     "output_type": "display_data"
    }
   ],
   "source": [
    "class_frequency = y.value_counts(normalize=True)\n",
    "class_frequency.plot(kind='bar')\n",
    "plt.show()"
   ]
  },
  {
   "cell_type": "markdown",
   "metadata": {},
   "source": [
    "Видим, что наблюдается явный дисбаланс классов. Положительных объектов 20% во всей выборки, а отрицательных, соотвественно, - 80%."
   ]
  },
  {
   "cell_type": "markdown",
   "metadata": {},
   "source": [
    "Также посмотрим на баланс классов в обучающей выборке."
   ]
  },
  {
   "cell_type": "code",
   "execution_count": 41,
   "metadata": {},
   "outputs": [
    {
     "data": {
      "image/png": "[encoded data removed]",
      "text/plain": [
       "<Figure size 432x288 with 1 Axes>"
      ]
     },
     "metadata": {
      "needs_background": "light"
     },
     "output_type": "display_data"
    }
   ],
   "source": [
    "class_frequency = y_train.value_counts(normalize=True)\n",
    "class_frequency.plot(kind='bar')\n",
    "plt.show()"
   ]
  },
  {
   "cell_type": "code",
   "execution_count": 42,
   "metadata": {},
   "outputs": [
    {
     "data": {
      "image/png": "[encoded data removed]",
      "text/plain": [
       "<Figure size 432x288 with 1 Axes>"
      ]
     },
     "metadata": {
      "needs_background": "light"
     },
     "output_type": "display_data"
    }
   ],
   "source": [
    "class_frequency = yo_train.value_counts(normalize=True)\n",
    "class_frequency.plot(kind='bar')\n",
    "plt.show()"
   ]
  },
  {
   "cell_type": "markdown",
   "metadata": {},
   "source": [
    "Аналогично."
   ]
  },
  {
   "cell_type": "markdown",
   "metadata": {},
   "source": [
    "В данном проекте используем такие алгоритмы классификации машинного обучения как Logisitic Regression, Random Forest."
   ]
  },
  {
   "cell_type": "markdown",
   "metadata": {},
   "source": [
    "### Logistic Regression"
   ]
  },
  {
   "cell_type": "code",
   "execution_count": 43,
   "metadata": {},
   "outputs": [],
   "source": [
    "model_lr = LogisticRegression(solver='liblinear', n_jobs=-1, random_state=7)"
   ]
  },
  {
   "cell_type": "code",
   "execution_count": 44,
   "metadata": {},
   "outputs": [
    {
     "data": {
      "text/plain": [
       "LogisticRegression(C=1.0, class_weight=None, dual=False, fit_intercept=True,\n",
       "                   intercept_scaling=1, l1_ratio=None, max_iter=100,\n",
       "                   multi_class='warn', n_jobs=-1, penalty='l2', random_state=7,\n",
       "                   solver='liblinear', tol=0.0001, verbose=0, warm_start=False)"
      ]
     },
     "execution_count": 44,
     "metadata": {},
     "output_type": "execute_result"
    }
   ],
   "source": [
    "model_lr.fit(X_train, y_train)"
   ]
  },
  {
   "cell_type": "code",
   "execution_count": 45,
   "metadata": {},
   "outputs": [
    {
     "name": "stdout",
     "output_type": "stream",
     "text": [
      "Метрика качества F1 без учета дисбаланаса на модели линейного классификатора: 0.3148148148148148\n",
      "Метрика качества ROC-AUC без учета дисбаланаса на модели линейного классификатора: 0.7722881130063965\n"
     ]
    }
   ],
   "source": [
    "y_predict = model_lr.predict(X_valid)\n",
    "print(f'Метрика качества F1 без учета дисбаланаса на модели линейного классификатора: {f1_score(y_valid, y_predict)}')\n",
    "y_predict_proba = model_lr.predict_proba(X_valid)\n",
    "y_predict_proba_one = y_predict_proba[:, 1]\n",
    "print(f'Метрика качества ROC-AUC без учета дисбаланаса на модели линейного классификатора: {roc_auc_score(y_valid, y_predict_proba_one)}')"
   ]
  },
  {
   "cell_type": "markdown",
   "metadata": {},
   "source": [
    "### Random Forest"
   ]
  },
  {
   "cell_type": "code",
   "execution_count": 46,
   "metadata": {},
   "outputs": [
    {
     "name": "stdout",
     "output_type": "stream",
     "text": [
      "Для глубины: 1\n",
      "Метрика качества F1 без учета дисбаланаса на модели случайного леса: 0.0\n",
      "Метрика качества ROC-AUC без учета дисбаланаса на модели случайного леса: 0.779317697228145\n",
      "\n"
     ]
    },
    {
     "name": "stderr",
     "output_type": "stream",
     "text": [
      "/opt/conda/lib/python3.7/site-packages/sklearn/metrics/classification.py:1437: UndefinedMetricWarning: F-score is ill-defined and being set to 0.0 due to no predicted samples.\n",
      "  'precision', 'predicted', average, warn_for)\n"
     ]
    },
    {
     "name": "stdout",
     "output_type": "stream",
     "text": [
      "Для глубины: 2\n",
      "Метрика качества F1 без учета дисбаланаса на модели случайного леса: 0.15094339622641506\n",
      "Метрика качества ROC-AUC без учета дисбаланаса на модели случайного леса: 0.8084624708092192\n",
      "\n",
      "Для глубины: 3\n",
      "Метрика качества F1 без учета дисбаланаса на модели случайного леса: 0.26898047722342733\n",
      "Метрика качества ROC-AUC без учета дисбаланаса на модели случайного леса: 0.8170261574779165\n",
      "\n",
      "Для глубины: 4\n",
      "Метрика качества F1 без учета дисбаланаса на модели случайного леса: 0.35080645161290325\n",
      "Метрика качества ROC-AUC без учета дисбаланаса на модели случайного леса: 0.8247728195755913\n",
      "\n",
      "Для глубины: 5\n",
      "Метрика качества F1 без учета дисбаланаса на модели случайного леса: 0.4285714285714285\n",
      "Метрика качества ROC-AUC без учета дисбаланаса на модели случайного леса: 0.8311598893288659\n",
      "\n",
      "Для глубины: 6\n",
      "Метрика качества F1 без учета дисбаланаса на модели случайного леса: 0.48028673835125446\n",
      "Метрика качества ROC-AUC без учета дисбаланаса на модели случайного леса: 0.8389128972484516\n",
      "\n",
      "Для глубины: 7\n",
      "Метрика качества F1 без учета дисбаланаса на модели случайного леса: 0.47857142857142854\n",
      "Метрика качества ROC-AUC без учета дисбаланаса на модели случайного леса: 0.8378864605543711\n",
      "\n",
      "Для глубины: 8\n",
      "Метрика качества F1 без учета дисбаланаса на модели случайного леса: 0.5078260869565216\n",
      "Метрика качества ROC-AUC без учета дисбаланаса на модели случайного леса: 0.8449921946390496\n",
      "\n",
      "Для глубины: 9\n",
      "Метрика качества F1 без учета дисбаланаса на модели случайного леса: 0.5223367697594502\n",
      "Метрика качества ROC-AUC без учета дисбаланаса на модели случайного леса: 0.8438483602396183\n",
      "\n",
      "Для глубины: 10\n",
      "Метрика качества F1 без учета дисбаланаса на модели случайного леса: 0.5229202037351443\n",
      "Метрика качества ROC-AUC без учета дисбаланаса на модели случайного леса: 0.8460376687988629\n",
      "\n",
      "Для глубины: 11\n",
      "Метрика качества F1 без учета дисбаланаса на модели случайного леса: 0.5337837837837838\n",
      "Метрика качества ROC-AUC без учета дисбаланаса на модели случайного леса: 0.8470387222053001\n",
      "\n",
      "Для глубины: 12\n",
      "Метрика качества F1 без учета дисбаланаса на модели случайного леса: 0.5382059800664452\n",
      "Метрика качества ROC-AUC без учета дисбаланаса на модели случайного леса: 0.8432518529799979\n",
      "\n",
      "Для глубины: 13\n",
      "Метрика качества F1 без учета дисбаланаса на модели случайного леса: 0.5357737104825291\n",
      "Метрика качества ROC-AUC без учета дисбаланаса на модели случайного леса: 0.8430979667986597\n",
      "\n",
      "Для глубины: 14\n",
      "Метрика качества F1 без учета дисбаланаса на модели случайного леса: 0.5296052631578947\n",
      "Метрика качества ROC-AUC без учета дисбаланаса на модели случайного леса: 0.8438911945375165\n",
      "\n",
      "Для глубины: 15\n",
      "Метрика качества F1 без учета дисбаланаса на модели случайного леса: 0.5522875816993464\n",
      "Метрика качества ROC-AUC без учета дисбаланаса на модели случайного леса: 0.8401550918875014\n",
      "\n",
      "Для глубины: 16\n",
      "Метрика качества F1 без учета дисбаланаса на модели случайного леса: 0.5487012987012987\n",
      "Метрика качества ROC-AUC без учета дисбаланаса на модели случайного леса: 0.8447764366940806\n",
      "\n",
      "Для глубины: 17\n",
      "Метрика качества F1 без учета дисбаланаса на модели случайного леса: 0.5439739413680782\n",
      "Метрика качества ROC-AUC без учета дисбаланаса на модели случайного леса: 0.8413647641892578\n",
      "\n",
      "Для глубины: 18\n",
      "Метрика качества F1 без учета дисбаланаса на модели случайного леса: 0.530278232405892\n",
      "Метрика качества ROC-AUC без учета дисбаланаса на модели случайного леса: 0.8436746433648087\n",
      "\n",
      "Для глубины: 19\n",
      "Метрика качества F1 без учета дисбаланаса на модели случайного леса: 0.5346534653465347\n",
      "Метрика качества ROC-AUC без учета дисбаланаса на модели случайного леса: 0.8409237295664536\n",
      "\n"
     ]
    }
   ],
   "source": [
    "for depth in range(1, 20, 1):\n",
    "    model_rf = RandomForestClassifier(max_depth=depth, n_estimators=100, random_state=7, n_jobs=-1)    \n",
    "    model_rf.fit(Xo_train, yo_train)\n",
    "    y_predict = model_rf.predict(Xo_valid)\n",
    "    print(f'Для глубины: {depth}')\n",
    "    print(f'Метрика качества F1 без учета дисбаланаса на модели случайного леса: {f1_score(yo_valid, y_predict)}')\n",
    "    y_predict_proba = model_rf.predict_proba(Xo_valid)\n",
    "    y_predict_proba_one = y_predict_proba[:, 1]\n",
    "    print(f'Метрика качества ROC-AUC без учета дисбаланаса на модели случайного леса: {roc_auc_score(yo_valid, y_predict_proba_one)}')\n",
    "    print()"
   ]
  },
  {
   "cell_type": "markdown",
   "metadata": {},
   "source": [
    "Видим, что обе метрики прямопропорциональны друг другу. Увеличвает одно, увеличивает другая, и наоборот. Наибольшее значение метрик достигается при глубине 15. Однако возьмем глубину 14, так как на 16 идет уменьшение метрик, что может быть синалом к тому, что модель начала переобучаться. Так мы задаем побольше свободы для уникальных случаев в тестовых и валидационных выборках, которых не было во время обучения."
   ]
  },
  {
   "cell_type": "markdown",
   "metadata": {},
   "source": [
    "На самом деле преимущество случайного леса в том, что он не подвержен переобучение при любом количестве деревьев. Чем больше деревьев будет принимать участие в голосование тем, качество окажется выше, однако время обучения от этого увеличится. Зададим гиперпараметр количества деревьев 300."
   ]
  },
  {
   "cell_type": "code",
   "execution_count": 47,
   "metadata": {},
   "outputs": [
    {
     "name": "stdout",
     "output_type": "stream",
     "text": [
      "Метрика качества F1 без учета дисбаланаса на модели случайного леса: 0.5451559934318555\n",
      "Метрика качества ROC-AUC без учета дисбаланаса на модели случайного леса: 0.8452412681490505\n"
     ]
    }
   ],
   "source": [
    "model_rf = RandomForestClassifier(max_depth=14, n_estimators=300, random_state=7, n_jobs=-1)    \n",
    "model_rf.fit(Xo_train, yo_train)\n",
    "y_predict = model_rf.predict(Xo_valid)\n",
    "print(f'Метрика качества F1 без учета дисбаланаса на модели случайного леса: {f1_score(yo_valid, y_predict)}')\n",
    "y_predict_proba = model_rf.predict_proba(Xo_valid)\n",
    "y_predict_proba_one = y_predict_proba[:, 1]\n",
    "print(f'Метрика качества ROC-AUC без учета дисбаланаса на модели случайного леса: {roc_auc_score(yo_valid, y_predict_proba_one)}')"
   ]
  },
  {
   "cell_type": "markdown",
   "metadata": {},
   "source": [
    "В итоге, имеем, что лучшая модель - случайный лес с метриками качества на валидационной выборке:\n",
    "- F1: 0.5451;\n",
    "- ROC-AUC: 0.845."
   ]
  },
  {
   "cell_type": "markdown",
   "metadata": {},
   "source": [
    "## Борьба с дисбалансом"
   ]
  },
  {
   "cell_type": "markdown",
   "metadata": {},
   "source": [
    "Существует несколько способов решить проблему дисбаланса классов:\n",
    "- взвешивание классов;\n",
    "- увеличение выборки;\n",
    "- уменьшение выборки;\n",
    "- изменение порога вероятности."
   ]
  },
  {
   "cell_type": "markdown",
   "metadata": {},
   "source": [
    "Попробуем использовать все подходы борьбы с дисбалансом и отберем тот, при котором метрики качества будут наибольшими."
   ]
  },
  {
   "cell_type": "markdown",
   "metadata": {},
   "source": [
    "### Взвешивание классов"
   ]
  },
  {
   "cell_type": "markdown",
   "metadata": {},
   "source": [
    "Для этого задаем гиперпараметр class_weight='balanced'."
   ]
  },
  {
   "cell_type": "code",
   "execution_count": 48,
   "metadata": {},
   "outputs": [
    {
     "name": "stdout",
     "output_type": "stream",
     "text": [
      "Метрика качества F1 с учетом дисбаланаса на модели случайного леса: 0.5622119815668203\n",
      "Метрика качества ROC-AUC с учетом дисбаланаса на модели случайного леса: 0.8454855822926184\n"
     ]
    }
   ],
   "source": [
    "model_rf = RandomForestClassifier(max_depth=14, n_estimators=300, random_state=7, n_jobs=-1, class_weight='balanced')    \n",
    "model_rf.fit(Xo_train, yo_train)\n",
    "y_predict = model_rf.predict(Xo_valid)\n",
    "print(f'Метрика качества F1 с учетом дисбаланаса на модели случайного леса: {f1_score(yo_valid, y_predict)}')\n",
    "y_predict_proba = model_rf.predict_proba(Xo_valid)\n",
    "y_predict_proba_one = y_predict_proba[:, 1]\n",
    "print(f'Метрика качества ROC-AUC с учетом дисбаланаса на модели случайного леса: {roc_auc_score(yo_valid, y_predict_proba_one)}')"
   ]
  },
  {
   "cell_type": "markdown",
   "metadata": {},
   "source": [
    "Видим, увеличение метрики F1!"
   ]
  },
  {
   "cell_type": "markdown",
   "metadata": {},
   "source": [
    "### Увеличение выборки (upsampling)"
   ]
  },
  {
   "cell_type": "code",
   "execution_count": 49,
   "metadata": {},
   "outputs": [],
   "source": [
    "def upsample(X, y, repeat):\n",
    "    X_zeros = X[y == 0]\n",
    "    X_ones = X[y == 1]\n",
    "    y_zeros = y[y == 0]\n",
    "    y_ones = y[y == 1]\n",
    "    \n",
    "    X_upsampled = pd.concat([X_zeros] + [X_ones] * repeat)\n",
    "    y_upsampled = pd.concat([y_zeros] + [y_ones] * repeat)\n",
    "    \n",
    "    X_upsampled, y_upsampled = shuffle(X_upsampled, y_upsampled, random_state=7)\n",
    "    \n",
    "    return X_upsampled, y_upsampled"
   ]
  },
  {
   "cell_type": "markdown",
   "metadata": {},
   "source": [
    "Чтобы уравнять число объекто в двух классов нужно увеличить число объектов в классе 1 примерно в 4 раза."
   ]
  },
  {
   "cell_type": "code",
   "execution_count": 50,
   "metadata": {},
   "outputs": [
    {
     "name": "stdout",
     "output_type": "stream",
     "text": [
      "Увеличили выборку в 4 раз.\n",
      "Метрика качества F1 с учетом дисбаланаса на модели случайного леса: 0.5873015873015873\n",
      "Метрика качества ROC-AUC с учетом дисбаланаса на модели случайного леса: 0.8460567062645955\n"
     ]
    }
   ],
   "source": [
    "X_train_up, y_train_up = upsample(Xo_train, yo_train, 4)\n",
    "model_rf = RandomForestClassifier(max_depth=14, n_estimators=300, random_state=7, n_jobs=-1)    \n",
    "model_rf.fit(X_train_up, y_train_up)\n",
    "y_predict = model_rf.predict(Xo_valid)\n",
    "print(f'Увеличили выборку в 4 раз.')\n",
    "print(f'Метрика качества F1 с учетом дисбаланаса на модели случайного леса: {f1_score(y_valid, y_predict)}')\n",
    "y_predict_proba = model_rf.predict_proba(Xo_valid)\n",
    "y_predict_proba_one = y_predict_proba[:, 1]\n",
    "print(f'Метрика качества ROC-AUC с учетом дисбаланаса на модели случайного леса: {roc_auc_score(yo_valid, y_predict_proba_one)}')"
   ]
  },
  {
   "cell_type": "markdown",
   "metadata": {},
   "source": [
    "При увеличении в 4 раза получаем наибольшую метрику F1 по сравнению с предыдущими."
   ]
  },
  {
   "cell_type": "markdown",
   "metadata": {},
   "source": [
    "### Уменьшение выборки (downsampling)"
   ]
  },
  {
   "cell_type": "markdown",
   "metadata": {},
   "source": [
    "Данный подход корректно использовать на больших объемах данных. Его использование ведет к риску того, что модель будет некачественной из-за потери важных объекто при уменьшении объектов в данных."
   ]
  },
  {
   "cell_type": "code",
   "execution_count": 51,
   "metadata": {},
   "outputs": [],
   "source": [
    "def downsample(X, y, fraction):\n",
    "    X_zeros = X[y == 0]\n",
    "    X_ones = X[y == 1]\n",
    "    y_zeros = y[y == 0]\n",
    "    y_ones = y[y == 1]\n",
    "    \n",
    "    X_downsampled = pd.concat([X_zeros.sample(frac=fraction, random_state=7)] + [X_ones])\n",
    "    y_downsampled = pd.concat([y_zeros.sample(frac=fraction, random_state=7)] + [y_ones])\n",
    "    \n",
    "    X_downsampled, y_downsampled = shuffle(X_downsampled, y_downsampled, random_state=7)\n",
    "\n",
    "    return X_downsampled, y_downsampled"
   ]
  },
  {
   "cell_type": "markdown",
   "metadata": {},
   "source": [
    "Чтобы уравнять число объекто в двух классах нужно взять долю обеъектов класса 0, равную 0.25."
   ]
  },
  {
   "cell_type": "code",
   "execution_count": 52,
   "metadata": {},
   "outputs": [
    {
     "name": "stdout",
     "output_type": "stream",
     "text": [
      "Для доли: 0.25\n",
      "Метрика качества F1 с учетом дисбаланаса на модели случайного леса: 0.5588822355289422\n",
      "Метрика качества ROC-AUC с учетом дисбаланаса на модели случайного леса: 0.8428996598639455\n"
     ]
    }
   ],
   "source": [
    "X_train_down, y_train_down = downsample(Xo_train, yo_train, 0.25)\n",
    "model_rf = RandomForestClassifier(max_depth=14, n_estimators=300, random_state=7, n_jobs=-1)    \n",
    "model_rf.fit(X_train_down, y_train_down)\n",
    "y_predict = model_rf.predict(Xo_valid)\n",
    "print(f'Для доли: 0.25')\n",
    "print(f'Метрика качества F1 с учетом дисбаланаса на модели случайного леса: {f1_score(yo_valid, y_predict)}')\n",
    "y_predict_proba = model_rf.predict_proba(Xo_valid)\n",
    "y_predict_proba_one = y_predict_proba[:, 1]\n",
    "print(f'Метрика качества ROC-AUC с учетом дисбаланаса на модели случайного леса: {roc_auc_score(yo_valid, y_predict_proba_one)}')"
   ]
  },
  {
   "cell_type": "markdown",
   "metadata": {},
   "source": [
    "### Изменение порога вероятности"
   ]
  },
  {
   "cell_type": "code",
   "execution_count": 53,
   "metadata": {},
   "outputs": [
    {
     "name": "stdout",
     "output_type": "stream",
     "text": [
      "Для порога: 0.0\n",
      "Метрика качества F1 с учетом дисбаланаса на модели случайного леса: 0.3277591973244147\n",
      "Метрика качества ROC-AUC с учетом дисбаланаса на модели случайного леса: 0.8452412681490505\n",
      "\n",
      "Для порога: 0.1\n",
      "Метрика качества F1 с учетом дисбаланаса на модели случайного леса: 0.47826086956521735\n",
      "Метрика качества ROC-AUC с учетом дисбаланаса на модели случайного леса: 0.8452412681490505\n",
      "\n",
      "Для порога: 0.2\n",
      "Метрика качества F1 с учетом дисбаланаса на модели случайного леса: 0.5598455598455598\n",
      "Метрика качества ROC-AUC с учетом дисбаланаса на модели случайного леса: 0.8452412681490505\n",
      "\n",
      "Для порога: 0.30000000000000004\n",
      "Метрика качества F1 с учетом дисбаланаса на модели случайного леса: 0.593939393939394\n",
      "Метрика качества ROC-AUC с учетом дисбаланаса на модели случайного леса: 0.8452412681490505\n",
      "\n",
      "Для порога: 0.4\n",
      "Метрика качества F1 с учетом дисбаланаса на модели случайного леса: 0.5942857142857143\n",
      "Метрика качества ROC-AUC с учетом дисбаланаса на модели случайного леса: 0.8452412681490505\n",
      "\n",
      "Для порога: 0.5\n",
      "Метрика качества F1 с учетом дисбаланаса на модели случайного леса: 0.5451559934318555\n",
      "Метрика качества ROC-AUC с учетом дисбаланаса на модели случайного леса: 0.8452412681490505\n",
      "\n",
      "Для порога: 0.6000000000000001\n",
      "Метрика качества F1 с учетом дисбаланаса на модели случайного леса: 0.4489051094890511\n",
      "Метрика качества ROC-AUC с учетом дисбаланаса на модели случайного леса: 0.8452412681490505\n",
      "\n",
      "Для порога: 0.7000000000000001\n",
      "Метрика качества F1 с учетом дисбаланаса на модели случайного леса: 0.3898635477582846\n",
      "Метрика качества ROC-AUC с учетом дисбаланаса на модели случайного леса: 0.8452412681490505\n",
      "\n",
      "Для порога: 0.8\n",
      "Метрика качества F1 с учетом дисбаланаса на модели случайного леса: 0.2929936305732484\n",
      "Метрика качества ROC-AUC с учетом дисбаланаса на модели случайного леса: 0.8452412681490505\n",
      "\n",
      "Для порога: 0.9\n",
      "Метрика качества F1 с учетом дисбаланаса на модели случайного леса: 0.17169373549883987\n",
      "Метрика качества ROC-AUC с учетом дисбаланаса на модели случайного леса: 0.8452412681490505\n",
      "\n"
     ]
    }
   ],
   "source": [
    "model_rf = RandomForestClassifier(max_depth=14, n_estimators=300, random_state=7, n_jobs=-1)    \n",
    "model_rf.fit(Xo_train, yo_train)\n",
    "probabilities = model_rf.predict_proba(Xo_valid)\n",
    "probabilities_one = probabilities[:, 1]\n",
    "\n",
    "for threshold in np.arange(0, 1, 0.1):\n",
    "    y_predict = probabilities_one > threshold\n",
    "    print(f'Для порога: {threshold}')\n",
    "    print(f'Метрика качества F1 с учетом дисбаланаса на модели случайного леса: {f1_score(yo_valid, y_predict)}')\n",
    "    y_predict_proba = model_rf.predict_proba(Xo_valid)\n",
    "    y_predict_proba_one = y_predict_proba[:, 1]\n",
    "    print(f'Метрика качества ROC-AUC с учетом дисбаланаса на модели случайного леса: {roc_auc_score(yo_valid, y_predict_proba_one)}')\n",
    "    print()"
   ]
  },
  {
   "cell_type": "markdown",
   "metadata": {},
   "source": [
    "При пороге 0.4 получаем наибольшее значение метрики F1 :)"
   ]
  },
  {
   "cell_type": "markdown",
   "metadata": {},
   "source": [
    "В итоге, получаем, что наибольшее значение метрики F1 равно 0.5942 при этом ROC-AUC равно 0.8452. Использовалась модель случайного леса с 300 деревьями и глубиной 14. Дисбаланс классов решен с помощью изменения порога, где порог на уровне 0.4."
   ]
  },
  {
   "cell_type": "markdown",
   "metadata": {},
   "source": [
    "## Тестирование модели"
   ]
  },
  {
   "cell_type": "code",
   "execution_count": 54,
   "metadata": {},
   "outputs": [
    {
     "name": "stdout",
     "output_type": "stream",
     "text": [
      "Метрика качества F1 с учетом дисбаланаса на модели случайного леса: 0.5975443383356072\n",
      "Метрика качества ROC-AUC с учетом дисбаланаса на модели случайного леса: 0.8545352093697698\n"
     ]
    }
   ],
   "source": [
    "probabilities = model_rf.predict_proba(Xo_test)\n",
    "probabilities_one = probabilities[:, 1]\n",
    "\n",
    "y_predict = probabilities_one > 0.4\n",
    "print(f'Метрика качества F1 с учетом дисбаланаса на модели случайного леса: {f1_score(yo_test, y_predict)}')\n",
    "print(f'Метрика качества ROC-AUC с учетом дисбаланаса на модели случайного леса: {roc_auc_score(yo_test, probabilities_one)}')"
   ]
  },
  {
   "cell_type": "markdown",
   "metadata": {},
   "source": [
    "Получаем, что метрика F1 на тесте равна 0.5975, а ROC-AUC - 0.8545. Успех!"
   ]
  },
  {
   "cell_type": "code",
   "execution_count": null,
   "metadata": {},
   "outputs": [],
   "source": []
  }
 ],
 "metadata": {
  "kernelspec": {
   "display_name": "Python 3",
   "language": "python",
   "name": "python3"
  },
  "language_info": {
   "codemirror_mode": {
    "name": "ipython",
    "version": 3
   },
   "file_extension": ".py",
   "mimetype": "text/x-python",
   "name": "python",
   "nbconvert_exporter": "python",
   "pygments_lexer": "ipython3",
   "version": "3.7.6"
  }
 },
 "nbformat": 4,
 "nbformat_minor": 2
}
