{
 "cells": [
  {
   "cell_type": "markdown",
   "metadata": {
    "id": "acsZhmZ97qo3"
   },
   "source": [
    "# Домашнее задание 2. Классификация, детекция."
   ]
  },
  {
   "cell_type": "markdown",
   "metadata": {
    "id": "fIn6tio17qo4"
   },
   "source": [
    "Оценка за часть 1 и часть 2 в этом дз -- по 5 баллов."
   ]
  },
  {
   "cell_type": "markdown",
   "metadata": {
    "id": "dJxbdknR7qo4"
   },
   "source": [
    "## Часть 1. Классификация\n",
    "\n",
    "В этом задании потребуется обучить классификатор изображений. Будем работать с датасетом, название которого раскрывать не будем. Можете посмотреть самостоятельно на картинки, которые в датасете есть. В нём 200 классов и около 5 тысяч картинок на каждый класс. Классы пронумерованы, как нетрудно догадаться, от 0 до 199. Скачать датасет можно вот [тут](https://yadi.sk/d/BNR41Vu3y0c7qA).\n",
    "\n",
    "Структура датасета простая -- есть директории train и val, в которых лежат обучающие и валидационные данные. В train/ и val/ лежат директориии, соответствующие классам изображений, в которых лежат собственно сами изображения.\n",
    " \n",
    "__Задание__. Добейтесь accuracy **не менее 0.44**. Напишите краткий отчёт о проделанных экспериментах. Что сработало и что не сработало? Почему вы решили, сделать так, а не иначе? Обязательно указывайте ссылки на чужой код, если вы его используете. Обязательно ссылайтесь на статьи/блогпосты/вопросы на stackoverflow/видосы от (индийских) ютуберов/курсы/подсказки от Дяди Васи и прочие дополнительные материалы, если вы их используете. \n",
    "\n",
    "В коде ниже необходимо, чтобы код проходил все `assert`'ы.\n",
    "\n",
    "Необходимо написать функцию `predict` по шаблону ниже. Эта функция принимает на вход модель, даталоадер с валидационнами данными, criterion для подсчёта лосса и device, на котором будут производиться вычисления (определён ниже) и возвращает список лоссов по всем объектам, список из предсказанных классов для каждого объекта из из даталоалера и список из настоящих классов для каждого объекта в даталоадере (и именно в таком порядке).\n",
    "\n",
    "__Использовать внешние данные для обучения строго запрещено__. Можно использовать предобученные модели из `torchvision`.\n",
    "\n",
    "__Критерии оценки__: Оценка вычисляется по простой формуле: min(5, 5 * Ваша accuracy / 0.44). Оценка округляется до десятых по арифметическим правилам.\n",
    "\n",
    "__Советы и указания__:\n",
    " - Наверняка вам потребуется много гуглить о классификации и о том, как заставить её работать. Это нормально, все гуглят. Но не забывайте, что нужно быть готовым за скатанный код отвечать на защите :)\n",
    " - Используйте аугментации. Для этого пользуйтесь модулем torchvision.transforms или библиотекой [albumentations](https://github.com/albumentations-team/albumentations)\n",
    " - (ещё раз) Можно файнтюнить предобученные модели из `torchvision`.\n",
    " - Рекомендуем написать вам сначала класс-датасет (или воспользоваться классом ImageFolder), который возвращает картинки и соответствующие им классы, а затем функции для трейна по шаблонам ниже. Однако делать это мы не заставляем. Если вам так неудобно, то можете писать код в удобном стиле. Однако учтите, что чрезмерное изменение нижеперечисленных шаблонов увеличит количество вопросов к вашему коду и повысит вероятность вызова на защиту :)\n",
    " - Валидируйте. Трекайте ошибки как можно раньше, чтобы не тратить время впустую.\n",
    " - Чтобы отладить код, пробуйте обучаться на маленькой части датасета. Когда вы поняли, что смогли всё отдебажить, переходите обучению по всему датасету\n",
    " - На каждый запуск делайте ровно одно изменение в модели/аугментации/оптимайзере, чтобы понять, что и как влияет на результат.\n",
    " - Фиксируйте random seed.\n",
    " - Начинайте с простых моделей и постепенно переходите к сложным. Обучение лёгких моделей экономит много времени.\n",
    " - Ставьте расписание на learning rate. Уменьшайте его, когда лосс на валидации перестаёт убывать.\n",
    " - Советуем использовать гпу. Если у вас его нет, используйте google colab. Если вам неудобно его использовать на постоянной основе, напишите и отладьте весь код локально на CPU, а затем запустите уже написанный ноутбук в колабе. Авторское решение задания достигает требуемой точности в колабе за 15 минут обучения.\n",
    " \n",
    "Good luck & have fun! :)"
   ]
  },
  {
   "cell_type": "code",
   "execution_count": 1,
   "metadata": {
    "colab": {
     "base_uri": "https://localhost:8080/"
    },
    "id": "IGJZCJyTHnE_",
    "outputId": "c266adb7-064b-4cbf-b223-7995432637a0"
   },
   "outputs": [
    {
     "name": "stdout",
     "output_type": "stream",
     "text": [
      "--2020-11-30 23:33:00--  https://www.dropbox.com/s/kzxc2f3b2i6ipxn/dataset.zip\n",
      "Resolving www.dropbox.com (www.dropbox.com)... 162.125.6.1, 2620:100:601b:1::a27d:801\n",
      "Connecting to www.dropbox.com (www.dropbox.com)|162.125.6.1|:443... connected.\n",
      "HTTP request sent, awaiting response... 301 Moved Permanently\n",
      "Location: /s/raw/kzxc2f3b2i6ipxn/dataset.zip [following]\n",
      "--2020-11-30 23:33:00--  https://www.dropbox.com/s/raw/kzxc2f3b2i6ipxn/dataset.zip\n",
      "Reusing existing connection to www.dropbox.com:443.\n",
      "HTTP request sent, awaiting response... 302 Found\n",
      "Location: https://uc47be71f9f13197e13694f9f62e.dl.dropboxusercontent.com/cd/0/inline/BENCGIO7g70z9Y4od-BB1MOWt098AmAVBXhTjnBKYbPCJ4p_vbOt-1DqGs-fptAWB1iUxTFaDQ-5GXBwWr-ihvuy53a3XgFB8NhiqAd3a291xBzf6Pw_LcY2VzGM-c9cw1M/file# [following]\n",
      "--2020-11-30 23:33:01--  https://uc47be71f9f13197e13694f9f62e.dl.dropboxusercontent.com/cd/0/inline/BENCGIO7g70z9Y4od-BB1MOWt098AmAVBXhTjnBKYbPCJ4p_vbOt-1DqGs-fptAWB1iUxTFaDQ-5GXBwWr-ihvuy53a3XgFB8NhiqAd3a291xBzf6Pw_LcY2VzGM-c9cw1M/file\n",
      "Resolving uc47be71f9f13197e13694f9f62e.dl.dropboxusercontent.com (uc47be71f9f13197e13694f9f62e.dl.dropboxusercontent.com)... 162.125.6.15, 2620:100:601c:15::a27d:60f\n",
      "Connecting to uc47be71f9f13197e13694f9f62e.dl.dropboxusercontent.com (uc47be71f9f13197e13694f9f62e.dl.dropboxusercontent.com)|162.125.6.15|:443... connected.\n",
      "HTTP request sent, awaiting response... 302 Found\n",
      "Location: /cd/0/inline2/BEP2qWI13GqO7ged61rJKD38L0efMnPEVmlSddwnrO-FA8JBfP70KXFKPm0ebg5W1QWc-93M3cGYzhG8sdd1tvPA51JnTndPiUfDMqwNrBPpusVk-FDxOTVZJWrJsyhw-i3LTG_5a4J6Eie_2V-j2SUKfvfCaNRnAh5y2Mm7VCVF0fx7E_cx5Uq88yurU99qYV7VOtqUO7v-0SnyK_jYmQn4y-_Isk6UWAc_OjW8hop3iVz06-XAO4sT0W34pYEqf6ykgrmvMvgsFI063aHzmexc2djnOGOgoPHwjAb0qK3yED0LqF-ZDOnwlZ96R6ydpH9PSI5jxNZ0OZSmgMxw63eU13P5rRzPl_7cI77qF7GoZQ/file [following]\n",
      "--2020-11-30 23:33:01--  https://uc47be71f9f13197e13694f9f62e.dl.dropboxusercontent.com/cd/0/inline2/BEP2qWI13GqO7ged61rJKD38L0efMnPEVmlSddwnrO-FA8JBfP70KXFKPm0ebg5W1QWc-93M3cGYzhG8sdd1tvPA51JnTndPiUfDMqwNrBPpusVk-FDxOTVZJWrJsyhw-i3LTG_5a4J6Eie_2V-j2SUKfvfCaNRnAh5y2Mm7VCVF0fx7E_cx5Uq88yurU99qYV7VOtqUO7v-0SnyK_jYmQn4y-_Isk6UWAc_OjW8hop3iVz06-XAO4sT0W34pYEqf6ykgrmvMvgsFI063aHzmexc2djnOGOgoPHwjAb0qK3yED0LqF-ZDOnwlZ96R6ydpH9PSI5jxNZ0OZSmgMxw63eU13P5rRzPl_7cI77qF7GoZQ/file\n",
      "Reusing existing connection to uc47be71f9f13197e13694f9f62e.dl.dropboxusercontent.com:443.\n",
      "HTTP request sent, awaiting response... 200 OK\n",
      "Length: 220318689 (210M) [application/zip]\n",
      "Saving to: ‘dataset.zip’\n",
      "\n",
      "dataset.zip         100%[===================>] 210.11M   146MB/s    in 1.4s    \n",
      "\n",
      "2020-11-30 23:33:03 (146 MB/s) - ‘dataset.zip’ saved [220318689/220318689]\n",
      "\n",
      "total 215168\n",
      "drwxr-xr-x 3 root root      4096 Nov  9 18:09 dataset\n",
      "-rw-r--r-- 1 root root 220318689 Nov 30 23:33 dataset.zip\n",
      "drwxr-xr-x 1 root root      4096 Nov 13 17:33 sample_data\n"
     ]
    }
   ],
   "source": [
    "!wget https://www.dropbox.com/s/kzxc2f3b2i6ipxn/dataset.zip\n",
    "!unzip -q dataset.zip\n",
    "!ls -l"
   ]
  },
  {
   "cell_type": "code",
   "execution_count": 2,
   "metadata": {
    "id": "kw585XFt9mDR"
   },
   "outputs": [],
   "source": [
    "import torch\n",
    "import torchvision\n",
    "from torch import nn\n",
    "from torch.nn import functional as F\n",
    "import numpy as np\n",
    "from torchvision.datasets import ImageFolder\n",
    "from torchvision import transforms\n",
    "from torchvision.models import resnet18\n",
    "import sys\n",
    "from tqdm import tqdm\n",
    "from sklearn.metrics import accuracy_score\n",
    "import time\n",
    "# You may add any imports you need"
   ]
  },
  {
   "cell_type": "markdown",
   "metadata": {
    "id": "FPKRdbRK9wCV"
   },
   "source": [
    "На этом момент начал смотртеть следующее видео \"#4: Image Transforms, ImageFolder, DataLoader, Sampler, use data from Google Drive\": https://www.youtube.com/watch?v=5rW_PZI4B2I&feature=emb_logo"
   ]
  },
  {
   "cell_type": "code",
   "execution_count": 3,
   "metadata": {
    "id": "y8pJFAFA9r82"
   },
   "outputs": [],
   "source": [
    "train_dir = './dataset/dataset/train'\n",
    "val_dir = './dataset/dataset/val'"
   ]
  },
  {
   "cell_type": "code",
   "execution_count": 4,
   "metadata": {
    "id": "ES3Y3atY91xf"
   },
   "outputs": [],
   "source": [
    "norm_means = torch.from_numpy(np.array([0.485, 0.456, 0.406]))\n",
    "norm_stds = torch.from_numpy(np.array([0.229, 0.224, 0.225]))"
   ]
  },
  {
   "cell_type": "code",
   "execution_count": 7,
   "metadata": {
    "id": "X8KklepO7qo5"
   },
   "outputs": [],
   "source": [
    "train_transform = transforms.Compose([\n",
    "        transforms.Resize(224),\n",
    "        transforms.RandomRotation(45),\n",
    "        # transforms.RandomResizedCrop(224),\n",
    "        transforms.RandomHorizontalFlip(),\n",
    "        transforms.ToTensor(),\n",
    "        transforms.Normalize(mean=norm_means, std=norm_stds)\n",
    "])\n",
    "val_transform = transforms.Compose([\n",
    "        transforms.Resize(224),\n",
    "        # transforms.CenterCrop(224),\n",
    "        transforms.ToTensor(),\n",
    "        transforms.Normalize(mean=norm_means, std=norm_stds)\n",
    "])\n",
    "# YOU CAN DEFINE AUGMENTATIONS HERE\n",
    "\n",
    "train_dataset = ImageFolder(train_dir, transform=train_transform)\n",
    "val_dataset = ImageFolder(val_dir, transform=val_transform)\n",
    "# REPLACE ./dataset/dataset WITH THE FOLDER WHERE YOU DOWNLOADED AND UNZIPPED THE DATASET\n",
    "# OR USE torchvision.datasets.ImageFolder INSTEAD OF MyDataset"
   ]
  },
  {
   "cell_type": "code",
   "execution_count": 8,
   "metadata": {
    "colab": {
     "base_uri": "https://localhost:8080/"
    },
    "id": "SmKH5yJj7qo5",
    "outputId": "ab5caf17-2d39-43ed-ed7a-7d7f81ec4a1f"
   },
   "outputs": [
    {
     "name": "stdout",
     "output_type": "stream",
     "text": [
      "tests passed\n"
     ]
    }
   ],
   "source": [
    "# Just very simple checks\n",
    "assert isinstance(train_dataset[0], tuple)\n",
    "assert len(train_dataset[0]) == 2\n",
    "assert isinstance(train_dataset[1][1], int)\n",
    "print(\"tests passed\")"
   ]
  },
  {
   "cell_type": "code",
   "execution_count": 9,
   "metadata": {
    "colab": {
     "base_uri": "https://localhost:8080/"
    },
    "id": "PClVDaTWGABL",
    "outputId": "8b97c397-0a0d-46c1-c8a7-30703a07f9b4"
   },
   "outputs": [
    {
     "data": {
      "text/plain": [
       "True"
      ]
     },
     "execution_count": 9,
     "metadata": {
      "tags": []
     },
     "output_type": "execute_result"
    }
   ],
   "source": [
    "device = 'cuda:0'\n",
    "torch.cuda.is_available()"
   ]
  },
  {
   "cell_type": "markdown",
   "metadata": {
    "id": "FrvAyp0EOmT7"
   },
   "source": [
    "Взял код из 5-6 семинара."
   ]
  },
  {
   "cell_type": "code",
   "execution_count": 10,
   "metadata": {
    "id": "GZbT_pfF7qo6"
   },
   "outputs": [],
   "source": [
    "def train_one_epoch(model, train_dataloader, criterion, optimizer, device=\"cuda:0\"):\n",
    "    # YOUR CODE\n",
    "    # TRAIN YOUR MODEL HERE\n",
    "    model = model.to(device).train()\n",
    "\n",
    "    with tqdm(total=len(train_dataloader), file=sys.stdout) as prbar:\n",
    "        for images, labels in train_dataloader: \n",
    "          images = images.to(device)\n",
    "          labels = labels.to(device)\n",
    "\n",
    "          outputs = model(images)\n",
    "          loss = criterion(outputs, labels)\n",
    "          \n",
    "          optimizer.zero_grad()\n",
    "          loss.backward()\n",
    "          optimizer.step()\n",
    "\n",
    "          accuracy = (outputs.argmax(1) == labels).float().mean()\n",
    "              \n",
    "          prbar.set_description(\n",
    "                  f\"Loss: {round(loss.item(), 4)} \"\n",
    "                  f\"Accuracy: {round(accuracy.item() * 100, 4)}\"\n",
    "          )\n",
    "          prbar.update(1)\n",
    "\n",
    "\n",
    "def predict(model, val_dataloder, criterion, device=\"cuda:0\"):\n",
    "    # YOUR CODE\n",
    "    # predict val_dataloader and print and return the validation accuracy\n",
    "    model = model.eval()\n",
    "\n",
    "    losses = np.array([])\n",
    "    predicted_classes = np.array([])\n",
    "    true_classes = np.array([])\n",
    "    batches = 0\n",
    "    total_loss = 0\n",
    "    losses = []\n",
    "\n",
    "    with tqdm(total=len(val_dataloader), file=sys.stdout) as prbar:\n",
    "        for images, labels in val_dataloader: \n",
    "          images = images.to(device)\n",
    "          labels = labels.to(device)\n",
    "\n",
    "          outputs = model(images)\n",
    "          loss = criterion(outputs, labels)\n",
    "\n",
    "          accuracy = (outputs.argmax(1) == labels).float().mean()\n",
    "              \n",
    "          prbar.set_description(\n",
    "                  f\"Loss: {round(loss.item(), 4)} \"\n",
    "                  f\"Accuracy: {round(accuracy.item() * 100, 4)}\"\n",
    "          )\n",
    "          prbar.update(1)\n",
    "\n",
    "          batches += 1\n",
    "          total_loss += loss.item()\n",
    "          predicted_classes = np.append(predicted_classes, outputs.argmax(1).cpu().detach().numpy())\n",
    "          true_classes = np.append(true_classes, labels.cpu().detach().numpy())\n",
    "          losses.append(loss.detach().item())\n",
    "\n",
    "        return losses, predicted_classes, true_classes\n",
    "\n",
    "\n",
    "def train(model, train_dataloader, val_dataloader, criterion, optimizer, device=\"cuda:0\", n_epochs=10, scheduler=None):\n",
    "    # YOUR CODE\n",
    "    # Train, evaluate, print accuracy, make a step of scheduler or whatever you want...\n",
    "    model.to(device)\n",
    "    for epoch in range(n_epochs): \n",
    "      print(\"EPOCH {}/{}\".format(epoch + 1, n_epochs))\n",
    "      start = time.time()\n",
    "      print('Train')\n",
    "      train_one_epoch(model, train_dataloader, criterion, optimizer, device)\n",
    "      print('Val')\n",
    "      with torch.no_grad(): \n",
    "        losses, predicted_classes, true_classes = predict(model, val_dataloader, criterion, device=device)\n",
    "      end = time.time()\n",
    "      print(\"epoch {} done in {}s\".format(epoch, round(end - start, 2)))\n",
    "      print(\"Accuracy after epoch {} is {}:\".format(epoch + 1, round(accuracy_score(true_classes, predicted_classes) * 100, 2)))"
   ]
  },
  {
   "cell_type": "code",
   "execution_count": 11,
   "metadata": {
    "colab": {
     "base_uri": "https://localhost:8080/",
     "height": 84,
     "referenced_widgets": [
      "1f0a25add4574003aaf1c4a1d2ae523e",
      "03f9432fbfca4025b4f9e9b7c1723257",
      "d53370aba16c4648b00ccab7f9c48cd9",
      "dea87c36be4c4bc7ba8a39ebed9a2fe2",
      "f849e787c1fa436abcbad2d86da6f77c",
      "fd590d75607e44ebac41ddf257c30d89",
      "d45231766be34b5192b77811d6639782",
      "db0ad512f5c64357b0e059a2e219712c"
     ]
    },
    "id": "Z_woED4u7qo6",
    "outputId": "b2023c16-9fb5-4577-f377-324890670443",
    "scrolled": true
   },
   "outputs": [
    {
     "name": "stderr",
     "output_type": "stream",
     "text": [
      "Downloading: \"https://download.pytorch.org/models/resnet18-5c106cde.pth\" to /root/.cache/torch/hub/checkpoints/resnet18-5c106cde.pth\n"
     ]
    },
    {
     "data": {
      "application/vnd.jupyter.widget-view+json": {
       "model_id": "1f0a25add4574003aaf1c4a1d2ae523e",
       "version_major": 2,
       "version_minor": 0
      },
      "text/plain": [
       "HBox(children=(FloatProgress(value=0.0, max=46827520.0), HTML(value='')))"
      ]
     },
     "metadata": {
      "tags": []
     },
     "output_type": "display_data"
    },
    {
     "name": "stdout",
     "output_type": "stream",
     "text": [
      "\n"
     ]
    }
   ],
   "source": [
    "model_1 = resnet18(pretrained=True) # THE MODEL THAT YOU CHOOSE\n",
    "for param in model_1.parameters():\n",
    "    param.requires_grad = False\n",
    "model_1.fc = nn.Linear(512, 200)\n",
    "model_1.to(device)\n",
    "\n",
    "optimizer = torch.optim.Adam(model_1.fc.parameters(), 1e-4) # YOUR OPTIMIZER\n",
    "train_dataloader = torch.utils.data.DataLoader(train_dataset, batch_size=256, shuffle=True, num_workers=1) # TRAIN DATALOADER WHICH YOU CONSTRUCT\n",
    "val_dataloader = torch.utils.data.DataLoader(val_dataset, batch_size=256, shuffle=True, num_workers=1) # VAL DATALOADER WHICH YOU CONSTRUCT\n",
    "criterion = nn.CrossEntropyLoss() # LOSS THAT YOU OPTIMIZE (SHOLD BE CROSS ENTROPY OR SMTH ELSE)\n",
    "scheduler = None # LR SCHEDULE THAT YOU PROBABLY CHOOSE\n",
    "n_epochs = 4 # NUMBER OF EPOCHS\n",
    "device = torch.device(\"cuda:0\") if torch.cuda.is_available() else torch.device(\"cpu\")"
   ]
  },
  {
   "cell_type": "markdown",
   "metadata": {
    "id": "cTwAvoVF7qo6"
   },
   "source": [
    "Простой тест на проверку правильности написанного кода"
   ]
  },
  {
   "cell_type": "code",
   "execution_count": 13,
   "metadata": {
    "colab": {
     "base_uri": "https://localhost:8080/"
    },
    "id": "vlFyamev7qo6",
    "outputId": "f00d2f37-3f86-452e-ab07-cb95c78d1146"
   },
   "outputs": [
    {
     "name": "stdout",
     "output_type": "stream",
     "text": [
      "Loss: 5.4272 Accuracy: 0.0: 100%|██████████| 40/40 [00:25<00:00,  1.55it/s]\n",
      "tests passed\n"
     ]
    }
   ],
   "source": [
    "all_losses, predicted_labels, true_labels = predict(model_1, val_dataloader, criterion, device)\n",
    "assert len(predicted_labels) == len(val_dataset)\n",
    "accuracy = accuracy_score(predicted_labels, true_labels)\n",
    "print(\"tests passed\")"
   ]
  },
  {
   "cell_type": "markdown",
   "metadata": {
    "id": "0aDtNnEw7qo6"
   },
   "source": [
    "Запустить обучение можно в ячейке ниже."
   ]
  },
  {
   "cell_type": "markdown",
   "metadata": {
    "id": "v4KpWL1paNUk"
   },
   "source": [
    "ЭКСПЕРИМЕНТ 1"
   ]
  },
  {
   "cell_type": "code",
   "execution_count": 15,
   "metadata": {
    "colab": {
     "base_uri": "https://localhost:8080/"
    },
    "id": "HhFezkYF7qo6",
    "outputId": "29edcc2d-4b92-4201-8bf1-4cf657c8039b"
   },
   "outputs": [
    {
     "name": "stdout",
     "output_type": "stream",
     "text": [
      "EPOCH 1/4\n",
      "Train\n",
      "Loss: 4.6799 Accuracy: 15.0: 100%|██████████| 391/391 [04:54<00:00,  1.33it/s]\n",
      "Val\n",
      "Loss: 4.6699 Accuracy: 12.5: 100%|██████████| 40/40 [00:25<00:00,  1.58it/s]\n",
      "epoch 0 done in 319.5s\n",
      "Accuracy after epoch 1 is 11.89:\n",
      "EPOCH 2/4\n",
      "Train\n",
      "Loss: 4.2401 Accuracy: 21.875: 100%|██████████| 391/391 [04:51<00:00,  1.34it/s]\n",
      "Val\n",
      "Loss: 3.9912 Accuracy: 25.0: 100%|██████████| 40/40 [00:25<00:00,  1.56it/s]\n",
      "epoch 1 done in 317.03s\n",
      "Accuracy after epoch 2 is 23.59:\n",
      "EPOCH 3/4\n",
      "Train\n",
      "Loss: 3.8354 Accuracy: 28.125: 100%|██████████| 391/391 [04:53<00:00,  1.33it/s]\n",
      "Val\n",
      "Loss: 3.6022 Accuracy: 31.25: 100%|██████████| 40/40 [00:25<00:00,  1.56it/s]\n",
      "epoch 2 done in 319.7s\n",
      "Accuracy after epoch 3 is 30.02:\n",
      "EPOCH 4/4\n",
      "Train\n",
      "Loss: 3.4013 Accuracy: 38.125: 100%|██████████| 391/391 [04:54<00:00,  1.33it/s]\n",
      "Val\n",
      "Loss: 3.0667 Accuracy: 31.25: 100%|██████████| 40/40 [00:25<00:00,  1.56it/s]\n",
      "epoch 3 done in 320.02s\n",
      "Accuracy after epoch 4 is 34.61:\n"
     ]
    }
   ],
   "source": [
    "train(model_1, train_dataloader, val_dataloader, criterion, optimizer, device, n_epochs, scheduler)"
   ]
  },
  {
   "cell_type": "markdown",
   "metadata": {
    "id": "sId_GyjJaRCN"
   },
   "source": [
    "ЭСПЕРИМЕНТ 2"
   ]
  },
  {
   "cell_type": "markdown",
   "metadata": {
    "id": "nWGVswTWaTgm"
   },
   "source": [
    "В аугментации были такие параметры как transforms.RandomRotation(45), transforms.RandomHorizontalFlip(). Попробуем их убрать и посмортеть на то, какое качество покажет ResNet18 за 4 эпохи."
   ]
  },
  {
   "cell_type": "code",
   "execution_count": 20,
   "metadata": {
    "id": "bDnKjbc8aLi6"
   },
   "outputs": [],
   "source": [
    "train_transform = transforms.Compose([\n",
    "        transforms.Resize(224),\n",
    "        transforms.ToTensor(),\n",
    "        transforms.Normalize(mean=norm_means, std=norm_stds)\n",
    "])\n",
    "val_transform = transforms.Compose([\n",
    "        transforms.Resize(224),\n",
    "        transforms.ToTensor(),\n",
    "        transforms.Normalize(mean=norm_means, std=norm_stds)\n",
    "])\n",
    "# YOU CAN DEFINE AUGMENTATIONS HERE\n",
    "\n",
    "train_dataset = ImageFolder(train_dir, transform=train_transform)\n",
    "val_dataset = ImageFolder(val_dir, transform=val_transform)\n",
    "# REPLACE ./dataset/dataset WITH THE FOLDER WHERE YOU DOWNLOADED AND UNZIPPED THE DATASET\n",
    "# OR USE torchvision.datasets.ImageFolder INSTEAD OF MyDataset"
   ]
  },
  {
   "cell_type": "code",
   "execution_count": 21,
   "metadata": {
    "id": "zkynoztMbSEi"
   },
   "outputs": [],
   "source": [
    "model_2 = resnet18(pretrained=True) # THE MODEL THAT YOU CHOOSE\n",
    "for param in model_2.parameters():\n",
    "    param.requires_grad = False\n",
    "model_2.fc = nn.Linear(512, 200)\n",
    "model_2.to(device)\n",
    "\n",
    "optimizer = torch.optim.Adam(model_2.fc.parameters(), 1e-4) # YOUR OPTIMIZER\n",
    "train_dataloader = torch.utils.data.DataLoader(train_dataset, batch_size=256, shuffle=True, num_workers=1) # TRAIN DATALOADER WHICH YOU CONSTRUCT\n",
    "val_dataloader = torch.utils.data.DataLoader(val_dataset, batch_size=256, shuffle=True, num_workers=1) # VAL DATALOADER WHICH YOU CONSTRUCT\n",
    "criterion = nn.CrossEntropyLoss() # LOSS THAT YOU OPTIMIZE (SHOLD BE CROSS ENTROPY OR SMTH ELSE)\n",
    "scheduler = None # LR SCHEDULE THAT YOU PROBABLY CHOOSE\n",
    "n_epochs = 4 # NUMBER OF EPOCHS\n",
    "device = torch.device(\"cuda:0\") if torch.cuda.is_available() else torch.device(\"cpu\")"
   ]
  },
  {
   "cell_type": "code",
   "execution_count": 22,
   "metadata": {
    "colab": {
     "base_uri": "https://localhost:8080/"
    },
    "id": "MAch5kMZbBml",
    "outputId": "d8e33c80-2c06-4109-f369-0efc3082adb1"
   },
   "outputs": [
    {
     "name": "stdout",
     "output_type": "stream",
     "text": [
      "EPOCH 1/4\n",
      "Train\n",
      "Loss: 4.1909 Accuracy: 25.625: 100%|██████████| 391/391 [04:06<00:00,  1.59it/s]\n",
      "Val\n",
      "Loss: 4.2177 Accuracy: 18.75: 100%|██████████| 40/40 [00:24<00:00,  1.63it/s]\n",
      "epoch 0 done in 271.21s\n",
      "Accuracy after epoch 1 is 27.61:\n",
      "EPOCH 2/4\n",
      "Train\n",
      "Loss: 3.4254 Accuracy: 38.125: 100%|██████████| 391/391 [03:54<00:00,  1.67it/s]\n",
      "Val\n",
      "Loss: 3.5503 Accuracy: 18.75: 100%|██████████| 40/40 [00:23<00:00,  1.72it/s]\n",
      "epoch 1 done in 257.56s\n",
      "Accuracy after epoch 2 is 42.02:\n",
      "EPOCH 3/4\n",
      "Train\n",
      "Loss: 2.9349 Accuracy: 46.875: 100%|██████████| 391/391 [03:49<00:00,  1.70it/s]\n",
      "Val\n",
      "Loss: 2.6445 Accuracy: 50.0: 100%|██████████| 40/40 [00:23<00:00,  1.72it/s]\n",
      "epoch 2 done in 252.69s\n",
      "Accuracy after epoch 3 is 48.02:\n",
      "EPOCH 4/4\n",
      "Train\n",
      "Loss: 2.4712 Accuracy: 52.5: 100%|██████████| 391/391 [03:49<00:00,  1.70it/s]\n",
      "Val\n",
      "Loss: 2.4405 Accuracy: 43.75: 100%|██████████| 40/40 [00:23<00:00,  1.72it/s]\n",
      "epoch 3 done in 253.05s\n",
      "Accuracy after epoch 4 is 50.92:\n"
     ]
    }
   ],
   "source": [
    "train(model_2, train_dataloader, val_dataloader, criterion, optimizer, device, n_epochs, scheduler)"
   ]
  },
  {
   "cell_type": "markdown",
   "metadata": {
    "id": "tkpE1Q49hUls"
   },
   "source": [
    "ЭКСПЕРИМЕНТ 3"
   ]
  },
  {
   "cell_type": "markdown",
   "metadata": {
    "id": "HFXGUsORhXfu"
   },
   "source": [
    "Попробуем изменить оптимизатор с Adam на SGD with Momentum при использовании аугментаций из эксперимента 2."
   ]
  },
  {
   "cell_type": "code",
   "execution_count": 23,
   "metadata": {
    "id": "BMq1M1LXhe6u"
   },
   "outputs": [],
   "source": [
    "train_transform = transforms.Compose([\n",
    "        transforms.Resize(224),\n",
    "        transforms.ToTensor(),\n",
    "        transforms.Normalize(mean=norm_means, std=norm_stds)\n",
    "])\n",
    "val_transform = transforms.Compose([\n",
    "        transforms.Resize(224),\n",
    "        transforms.ToTensor(),\n",
    "        transforms.Normalize(mean=norm_means, std=norm_stds)\n",
    "])\n",
    "# YOU CAN DEFINE AUGMENTATIONS HERE\n",
    "\n",
    "train_dataset = ImageFolder(train_dir, transform=train_transform)\n",
    "val_dataset = ImageFolder(val_dir, transform=val_transform)\n",
    "# REPLACE ./dataset/dataset WITH THE FOLDER WHERE YOU DOWNLOADED AND UNZIPPED THE DATASET\n",
    "# OR USE torchvision.datasets.ImageFolder INSTEAD OF MyDataset"
   ]
  },
  {
   "cell_type": "code",
   "execution_count": 24,
   "metadata": {
    "id": "uGMhp6w7hoMf"
   },
   "outputs": [],
   "source": [
    "model_3 = resnet18(pretrained=True) # THE MODEL THAT YOU CHOOSE\n",
    "for param in model_3.parameters():\n",
    "    param.requires_grad = False\n",
    "model_3.fc = nn.Linear(512, 200)\n",
    "model_3.to(device)\n",
    "\n",
    "optimizer = torch.optim.SGD(model_3.fc.parameters(), lr=0.005, momentum=0.9) # YOUR OPTIMIZER\n",
    "train_dataloader = torch.utils.data.DataLoader(train_dataset, batch_size=256, shuffle=True, num_workers=1) # TRAIN DATALOADER WHICH YOU CONSTRUCT\n",
    "val_dataloader = torch.utils.data.DataLoader(val_dataset, batch_size=256, shuffle=True, num_workers=1) # VAL DATALOADER WHICH YOU CONSTRUCT\n",
    "criterion = nn.CrossEntropyLoss() # LOSS THAT YOU OPTIMIZE (SHOLD BE CROSS ENTROPY OR SMTH ELSE)\n",
    "scheduler = None # LR SCHEDULE THAT YOU PROBABLY CHOOSE\n",
    "n_epochs = 4 # NUMBER OF EPOCHS\n",
    "device = torch.device(\"cuda:0\") if torch.cuda.is_available() else torch.device(\"cpu\")"
   ]
  },
  {
   "cell_type": "code",
   "execution_count": 25,
   "metadata": {
    "colab": {
     "base_uri": "https://localhost:8080/"
    },
    "id": "eUwE51GnnR9H",
    "outputId": "9dcb534e-b339-4788-a895-f1dd468e5155"
   },
   "outputs": [
    {
     "name": "stdout",
     "output_type": "stream",
     "text": [
      "EPOCH 1/4\n",
      "Train\n",
      "Loss: 2.5861 Accuracy: 51.25: 100%|██████████| 391/391 [03:50<00:00,  1.69it/s]\n",
      "Val\n",
      "Loss: 2.8396 Accuracy: 37.5: 100%|██████████| 40/40 [00:23<00:00,  1.74it/s]\n",
      "epoch 0 done in 253.94s\n",
      "Accuracy after epoch 1 is 47.67:\n",
      "EPOCH 2/4\n",
      "Train\n",
      "Loss: 2.2892 Accuracy: 50.625: 100%|██████████| 391/391 [03:50<00:00,  1.70it/s]\n",
      "Val\n",
      "Loss: 1.8585 Accuracy: 56.25: 100%|██████████| 40/40 [00:23<00:00,  1.72it/s]\n",
      "epoch 1 done in 253.66s\n",
      "Accuracy after epoch 2 is 53.69:\n",
      "EPOCH 3/4\n",
      "Train\n",
      "Loss: 2.0444 Accuracy: 51.25: 100%|██████████| 391/391 [03:50<00:00,  1.70it/s]\n",
      "Val\n",
      "Loss: 1.9066 Accuracy: 62.5: 100%|██████████| 40/40 [00:23<00:00,  1.72it/s]\n",
      "epoch 2 done in 253.62s\n",
      "Accuracy after epoch 3 is 55.58:\n",
      "EPOCH 4/4\n",
      "Train\n",
      "Loss: 1.6554 Accuracy: 58.125: 100%|██████████| 391/391 [03:50<00:00,  1.70it/s]\n",
      "Val\n",
      "Loss: 1.7289 Accuracy: 56.25: 100%|██████████| 40/40 [00:23<00:00,  1.73it/s]\n",
      "epoch 3 done in 253.65s\n",
      "Accuracy after epoch 4 is 56.6:\n"
     ]
    }
   ],
   "source": [
    "train(model_3, train_dataloader, val_dataloader, criterion, optimizer, device, n_epochs, scheduler)"
   ]
  },
  {
   "cell_type": "markdown",
   "metadata": {
    "id": "YDdztxhb7qo6"
   },
   "source": [
    "После всех экспериментов которые вы проделали, выберите лучшую из своих моделей, запустите функцию evaluate. Эта функция должна брать на вход модель и даталоадер с валидационными данными и возврашать accuracy, посчитанную на этом датасете."
   ]
  },
  {
   "cell_type": "markdown",
   "metadata": {
    "id": "soLUNoszwol5"
   },
   "source": [
    "Лучшая модель 3!"
   ]
  },
  {
   "cell_type": "code",
   "execution_count": 27,
   "metadata": {
    "colab": {
     "base_uri": "https://localhost:8080/"
    },
    "id": "wZgQeyJZ7qo6",
    "outputId": "6587fee8-e334-4706-8db5-37f6d227ac4b"
   },
   "outputs": [
    {
     "name": "stdout",
     "output_type": "stream",
     "text": [
      "Loss: 1.8757 Accuracy: 56.25: 100%|██████████| 40/40 [00:23<00:00,  1.70it/s]\n",
      "Оценка за это задание составит 5 баллов\n"
     ]
    }
   ],
   "source": [
    "all_losses, predicted_labels, true_labels = predict(model_3, val_dataloader, criterion, device)\n",
    "assert len(predicted_labels) == len(val_dataset)\n",
    "accuracy = accuracy_score(true_labels, predicted_labels)\n",
    "print(\"Оценка за это задание составит {} баллов\".format(min(5, 5*accuracy / 0.44)))"
   ]
  },
  {
   "cell_type": "markdown",
   "metadata": {
    "id": "9ijQsF1s7qo6"
   },
   "source": [
    "__Ваш отчёт о проделанных экспериментах__:\n",
    "1. при добавлении параметров в аугментации (ransforms.RandomRotation(45), transforms.RandomHorizontalFlip()) доля правильных ответов после 4 эпох ниже на 16.31%, чем без них;\n",
    "2. при замене оптимизатора с Adam на SGD with Momentum качество модели выросло, на 5.33% по сравнению с экспериментом 2."
   ]
  },
  {
   "cell_type": "markdown",
   "metadata": {
    "id": "Zd-MPDDA7qo6"
   },
   "source": [
    "## Часть 2. Object detection.\n",
    "\n",
    "В этом задании потребуется обучить детектор фруктов на изображении. Датасет можно скачать [отсюда](https://yadi.sk/d/UPwQB7OZrB48qQ)."
   ]
  },
  {
   "cell_type": "code",
   "execution_count": 1,
   "metadata": {
    "id": "9-YT-8Nq7qo7"
   },
   "outputs": [],
   "source": [
    "import pandas as pd\n",
    "import numpy as np\n",
    "import torch\n",
    "from torch import nn\n",
    "from torch.nn import functional as F\n",
    "from torch.utils.data import Dataset, DataLoader"
   ]
  },
  {
   "cell_type": "code",
   "execution_count": 2,
   "metadata": {
    "colab": {
     "base_uri": "https://localhost:8080/"
    },
    "id": "UL3zP6EM7qo7",
    "outputId": "43b8ae6b-30b9-45ea-fa62-94d4a3cfc604"
   },
   "outputs": [
    {
     "name": "stdout",
     "output_type": "stream",
     "text": [
      "Requirement already satisfied: xmltodict in /usr/local/lib/python3.6/dist-packages (0.12.0)\n"
     ]
    }
   ],
   "source": [
    "# we will need this library to process the labeling\n",
    "!pip install xmltodict"
   ]
  },
  {
   "cell_type": "code",
   "execution_count": 3,
   "metadata": {
    "id": "ejzv7TUH7qo7"
   },
   "outputs": [],
   "source": [
    "import xmltodict, json"
   ]
  },
  {
   "cell_type": "markdown",
   "metadata": {
    "id": "gSmf59X47qo7"
   },
   "source": [
    "Датасет мы за вас написали."
   ]
  },
  {
   "cell_type": "code",
   "execution_count": 4,
   "metadata": {
    "id": "YV7GSWgm7qo7"
   },
   "outputs": [],
   "source": [
    "import pandas as pd\n",
    "import numpy as np\n",
    "import torch\n",
    "from torch import nn\n",
    "from torch.nn import functional as F\n",
    "from torch.utils.data import Dataset, DataLoader\n",
    "import xmltodict\n",
    "import json\n",
    "import glob\n",
    "import cv2\n",
    "import os\n",
    "import torchvision\n",
    "import matplotlib.pyplot as plt\n",
    "from sklearn.metrics import auc\n",
    "# add any imports you need\n",
    "\n",
    "class2tag = {\"apple\": 1, \"orange\": 2, \"banana\": 3}\n",
    "\n",
    "\n",
    "class FruitDataset(Dataset):\n",
    "    def __init__(self, data_dir, transform=None):\n",
    "        self.images = []\n",
    "        self.annotations = []\n",
    "        self.transform = transform\n",
    "        for annotation in glob.glob(data_dir + \"/*xml\"):\n",
    "            image_fname = os.path.splitext(annotation)[0] + \".jpg\"\n",
    "            self.images.append(cv2.cvtColor(cv2.imread(image_fname), cv2.COLOR_BGR2RGB))\n",
    "            with open(annotation) as f:\n",
    "                annotation_dict = xmltodict.parse(f.read())\n",
    "            bboxes = []\n",
    "            labels = []\n",
    "            objects = annotation_dict[\"annotation\"][\"object\"]\n",
    "            if not isinstance(objects, list):\n",
    "                objects = [objects]\n",
    "            for obj in objects:\n",
    "                bndbox = obj[\"bndbox\"]\n",
    "                bbox = [bndbox[\"xmin\"], bndbox[\"ymin\"], bndbox[\"xmax\"], bndbox[\"ymax\"]]\n",
    "                bbox = list(map(int, bbox))\n",
    "                bboxes.append(torch.tensor(bbox))\n",
    "                labels.append(class2tag[obj[\"name\"]])\n",
    "            self.annotations.append(\n",
    "                {\"boxes\": torch.stack(bboxes).float(), \"labels\": torch.tensor(labels)}\n",
    "            )\n",
    "\n",
    "    def __getitem__(self, i):\n",
    "        if self.transform:\n",
    "            # the following code is correct if you use albumentations\n",
    "            # if you use torchvision transforms you have to modify it =)\n",
    "            res = self.transform(\n",
    "                image=self.images[i],\n",
    "                bboxes=self.annotations[i][\"boxes\"],\n",
    "                labels=self.annotations[i][\"labels\"],\n",
    "            )\n",
    "            return res[\"image\"], {\n",
    "                \"boxes\": torch.tensor(res[\"bboxes\"]),\n",
    "                \"labels\": torch.tensor(res[\"labels\"]),\n",
    "            }\n",
    "        else:\n",
    "            return self.images[i], self.annotations[i]\n",
    "\n",
    "    def __len__(self):\n",
    "        return len(self.images)"
   ]
  },
  {
   "cell_type": "markdown",
   "metadata": {
    "id": "kPfOARib7qo7"
   },
   "source": [
    "Выпишем кое-какую техническую работу, которая уже была на семинаре."
   ]
  },
  {
   "cell_type": "code",
   "execution_count": 5,
   "metadata": {
    "id": "gTQnbNGg7qo7"
   },
   "outputs": [],
   "source": [
    "def intersection_over_union(dt_bbox, gt_bbox):\n",
    "    \"\"\"\n",
    "    Intersection over Union between two bboxes\n",
    "    :param dt_bbox: list or numpy array of size (4,) [x0, y0, x1, y1]\n",
    "    :param gt_bbox: list or numpy array of size (4,) [x0, y0, x1, y1]\n",
    "    :return : intersection over union\n",
    "    \"\"\"\n",
    "\n",
    "    ## TODO YOUR CODE\n",
    "\n",
    "    intersection_bbox = np.array(\n",
    "        [\n",
    "            max(dt_bbox[0], gt_bbox[0]),\n",
    "            max(dt_bbox[1], gt_bbox[1]),\n",
    "            min(dt_bbox[2], gt_bbox[2]),\n",
    "            min(dt_bbox[3], gt_bbox[3]),\n",
    "        ]\n",
    "    )\n",
    "\n",
    "    intersection_area = max(intersection_bbox[2] - intersection_bbox[0], 0) * max(\n",
    "        intersection_bbox[3] - intersection_bbox[1], 0\n",
    "    )\n",
    "    area_dt = (dt_bbox[2] - dt_bbox[0]) * (dt_bbox[3] - dt_bbox[1])\n",
    "    area_gt = (gt_bbox[2] - gt_bbox[0]) * (gt_bbox[3] - gt_bbox[1])\n",
    "\n",
    "    union_area = area_dt + area_gt - intersection_area\n",
    "\n",
    "    iou = intersection_area / union_area\n",
    "    return iou\n",
    "\n",
    "def evaluate_sample(target_pred, target_true, iou_threshold=0.5):\n",
    "    gt_bboxes = target_true[\"boxes\"].numpy()\n",
    "    gt_labels = target_true[\"labels\"].numpy()\n",
    "\n",
    "    dt_bboxes = target_pred[\"boxes\"].numpy()\n",
    "    dt_labels = target_pred[\"labels\"].numpy()\n",
    "    dt_scores = target_pred[\"scores\"].numpy()\n",
    "\n",
    "    results = []\n",
    "    for detection_id in range(len(dt_labels)):\n",
    "        dt_bbox = dt_bboxes[detection_id, :]\n",
    "        dt_label = dt_labels[detection_id]\n",
    "        dt_score = dt_scores[detection_id]\n",
    "\n",
    "        detection_result_dict = {\"score\": dt_score}\n",
    "\n",
    "        max_IoU = 0\n",
    "        max_gt_id = -1\n",
    "        for gt_id in range(len(gt_labels)):\n",
    "            gt_bbox = gt_bboxes[gt_id, :]\n",
    "            gt_label = gt_labels[gt_id]\n",
    "\n",
    "            if gt_label != dt_label:\n",
    "                continue\n",
    "\n",
    "            if intersection_over_union(dt_bbox, gt_bbox) > max_IoU:\n",
    "                max_IoU = intersection_over_union(dt_bbox, gt_bbox)\n",
    "                max_gt_id = gt_id\n",
    "\n",
    "        if max_gt_id >= 0 and max_IoU >= iou_threshold:\n",
    "            detection_result_dict[\"TP\"] = 1\n",
    "            gt_labels = np.delete(gt_labels, max_gt_id, axis=0)\n",
    "            gt_bboxes = np.delete(gt_bboxes, max_gt_id, axis=0)\n",
    "\n",
    "        else:\n",
    "            detection_result_dict[\"TP\"] = 0\n",
    "\n",
    "        results.append(detection_result_dict)\n",
    "\n",
    "    return results\n",
    "\n",
    "\n",
    "def evaluate(model, test_loader, device):\n",
    "    results = []\n",
    "    model.eval()\n",
    "    nbr_boxes = 0\n",
    "    with torch.no_grad():\n",
    "        for batch, (images, targets_true) in enumerate(test_loader):\n",
    "            images = list(image.to(device).float() for image in images)\n",
    "            targets_pred = model(images)\n",
    "            targets_true = [\n",
    "                {k: v.cpu().float() for k, v in t.items()} for t in targets_true\n",
    "            ]\n",
    "            targets_pred = [\n",
    "                {k: v.cpu().float() for k, v in t.items()} for t in targets_pred\n",
    "            ]\n",
    "\n",
    "            for i in range(len(targets_true)):\n",
    "                target_true = targets_true[i]\n",
    "                target_pred = targets_pred[i]\n",
    "                nbr_boxes += target_true[\"labels\"].shape[0]\n",
    "\n",
    "                results.extend(evaluate_sample(target_pred, target_true))\n",
    "\n",
    "    results = sorted(results, key=lambda k: k[\"score\"], reverse=True)\n",
    "\n",
    "    acc_TP = np.zeros(len(results))\n",
    "    acc_FP = np.zeros(len(results))\n",
    "    recall = np.zeros(len(results))\n",
    "    precision = np.zeros(len(results))\n",
    "\n",
    "    if results[0][\"TP\"] == 1:\n",
    "        acc_TP[0] = 1\n",
    "    else:\n",
    "        acc_FP[0] = 1\n",
    "\n",
    "    for i in range(1, len(results)):\n",
    "        acc_TP[i] = results[i][\"TP\"] + acc_TP[i - 1]\n",
    "        acc_FP[i] = (1 - results[i][\"TP\"]) + acc_FP[i - 1]\n",
    "\n",
    "        precision[i] = acc_TP[i] / (acc_TP[i] + acc_FP[i])\n",
    "        recall[i] = acc_TP[i] / nbr_boxes\n",
    "\n",
    "    return auc(recall, precision)"
   ]
  },
  {
   "cell_type": "markdown",
   "metadata": {
    "id": "FEmZpHG97qo7"
   },
   "source": [
    "Вам мы оставляем творческую часть =)\n",
    "\n",
    "__Задание__. Обучите модель для object detection на __обучающем__ датасете и добейтесь PR-AUC не менее __0.91__ на  __тестовом__.\n",
    "\n",
    " - Создайте модель и оптимайзер\n",
    " - Напишите функцию обучения модели\n",
    " - Используйте аугментации\n",
    " \n",
    "Использовать аугментации для обучения __обязательно__. Они дадут 1 балл из 5. Пользуйтесь модулем torchvision.transforms или библиотекой albumentations (о которой говорилось ранее). Последняя библиотека особенно удобна, поскольку умеет сама вычислять новые координаты bounding box'ов после трансформаций картинки. Советуем обратить внимание на следующий [гайд](https://albumentations.ai/docs/getting_started/bounding_boxes_augmentation/). Обратите внимание, что код, написанный в датасете выше, верен только если вы используете albumentations. Если вы выбрали путь torchvision.transforms, вам потребуется метод `__getitem__` изменить (что-то типа `return self.transform(self.images[i])`; однако в таком случае вычислять новые координаты bounding box'ов после трансформаций вам придётся вручную =))\n",
    "\n",
    "Оставшиеся 4 балла вычисляются по простой формуле: __min(4, 4 * Ваш auc / 0.91)__."
   ]
  },
  {
   "cell_type": "code",
   "execution_count": 6,
   "metadata": {
    "id": "kx6KkcfPVxWZ"
   },
   "outputs": [],
   "source": [
    "# !wget https://www.dropbox.com/s/myiqayt22ronuox/archive.zip\n",
    "# !unzip -q archive.zip\n",
    "# !ls -l"
   ]
  },
  {
   "cell_type": "markdown",
   "metadata": {
    "id": "X5IdqSc71g9V"
   },
   "source": [
    "Фотографии имеют разрешение 349x349."
   ]
  },
  {
   "cell_type": "markdown",
   "metadata": {
    "id": "W2imdY9gleaL"
   },
   "source": [
    "Загружаю библиотеку albumentations для того, чтобы с помощью нее производить аугментации картинок."
   ]
  },
  {
   "cell_type": "code",
   "execution_count": 8,
   "metadata": {
    "colab": {
     "base_uri": "https://localhost:8080/"
    },
    "id": "Sjmz97F7lcOM",
    "outputId": "e696bb57-f189-4f5f-ce30-6d6e8a6efbab"
   },
   "outputs": [
    {
     "name": "stdout",
     "output_type": "stream",
     "text": [
      "Requirement already up-to-date: albumentations in /usr/local/lib/python3.6/dist-packages (0.5.2)\n",
      "Requirement already satisfied, skipping upgrade: scipy in /usr/local/lib/python3.6/dist-packages (from albumentations) (1.4.1)\n",
      "Requirement already satisfied, skipping upgrade: numpy>=1.11.1 in /usr/local/lib/python3.6/dist-packages (from albumentations) (1.18.5)\n",
      "Requirement already satisfied, skipping upgrade: PyYAML in /usr/local/lib/python3.6/dist-packages (from albumentations) (3.13)\n",
      "Requirement already satisfied, skipping upgrade: imgaug>=0.4.0 in /usr/local/lib/python3.6/dist-packages (from albumentations) (0.4.0)\n",
      "Requirement already satisfied, skipping upgrade: opencv-python-headless>=4.1.1 in /usr/local/lib/python3.6/dist-packages (from albumentations) (4.4.0.46)\n",
      "Requirement already satisfied, skipping upgrade: scikit-image>=0.16.1 in /usr/local/lib/python3.6/dist-packages (from albumentations) (0.16.2)\n",
      "Requirement already satisfied, skipping upgrade: opencv-python in /usr/local/lib/python3.6/dist-packages (from imgaug>=0.4.0->albumentations) (4.1.2.30)\n",
      "Requirement already satisfied, skipping upgrade: imageio in /usr/local/lib/python3.6/dist-packages (from imgaug>=0.4.0->albumentations) (2.4.1)\n",
      "Requirement already satisfied, skipping upgrade: Shapely in /usr/local/lib/python3.6/dist-packages (from imgaug>=0.4.0->albumentations) (1.7.1)\n",
      "Requirement already satisfied, skipping upgrade: six in /usr/local/lib/python3.6/dist-packages (from imgaug>=0.4.0->albumentations) (1.15.0)\n",
      "Requirement already satisfied, skipping upgrade: matplotlib in /usr/local/lib/python3.6/dist-packages (from imgaug>=0.4.0->albumentations) (3.2.2)\n",
      "Requirement already satisfied, skipping upgrade: Pillow in /usr/local/lib/python3.6/dist-packages (from imgaug>=0.4.0->albumentations) (7.0.0)\n",
      "Requirement already satisfied, skipping upgrade: networkx>=2.0 in /usr/local/lib/python3.6/dist-packages (from scikit-image>=0.16.1->albumentations) (2.5)\n",
      "Requirement already satisfied, skipping upgrade: PyWavelets>=0.4.0 in /usr/local/lib/python3.6/dist-packages (from scikit-image>=0.16.1->albumentations) (1.1.1)\n",
      "Requirement already satisfied, skipping upgrade: pyparsing!=2.0.4,!=2.1.2,!=2.1.6,>=2.0.1 in /usr/local/lib/python3.6/dist-packages (from matplotlib->imgaug>=0.4.0->albumentations) (2.4.7)\n",
      "Requirement already satisfied, skipping upgrade: cycler>=0.10 in /usr/local/lib/python3.6/dist-packages (from matplotlib->imgaug>=0.4.0->albumentations) (0.10.0)\n",
      "Requirement already satisfied, skipping upgrade: python-dateutil>=2.1 in /usr/local/lib/python3.6/dist-packages (from matplotlib->imgaug>=0.4.0->albumentations) (2.8.1)\n",
      "Requirement already satisfied, skipping upgrade: kiwisolver>=1.0.1 in /usr/local/lib/python3.6/dist-packages (from matplotlib->imgaug>=0.4.0->albumentations) (1.3.1)\n",
      "Requirement already satisfied, skipping upgrade: decorator>=4.3.0 in /usr/local/lib/python3.6/dist-packages (from networkx>=2.0->scikit-image>=0.16.1->albumentations) (4.4.2)\n"
     ]
    }
   ],
   "source": [
    "!pip install -U albumentations"
   ]
  },
  {
   "cell_type": "code",
   "execution_count": 7,
   "metadata": {
    "id": "S6kOWcf_mYqQ"
   },
   "outputs": [],
   "source": [
    "import albumentations as A\n",
    "from albumentations.pytorch import ToTensor"
   ]
  },
  {
   "cell_type": "code",
   "execution_count": 9,
   "metadata": {
    "id": "mZilFJYa7qo7"
   },
   "outputs": [],
   "source": [
    "def train_one_epoch(model, train_dataloader, optimizer, device):\n",
    "    # YOUR CODE\n",
    "    # TRAIN YOUR MODEL ON THE train_dataloader\n",
    "\n",
    "    model.train()\n",
    "    n = 0\n",
    "    global_loss = 0\n",
    "    for images, targets in train_dataloader:\n",
    "        images = list(image.to(device).float() for image in images)\n",
    "        targets = [{k: v.to(device) for k, v in t.items()} for t in targets]\n",
    "\n",
    "        dict_loss = model(images, targets)\n",
    "        losses = sum(loss for loss in dict_loss.values())\n",
    "\n",
    "        optimizer.zero_grad()\n",
    "        losses.backward()\n",
    "        optimizer.step()\n",
    "\n",
    "        n += 1\n",
    "        global_loss += float(losses.cpu().detach().numpy())\n",
    "\n",
    "        if n % 10 == 0:\n",
    "            print(\"Loss value after {} batches is {}\".format(n, round(global_loss / n, 2)))\n",
    "\n",
    "    return global_loss\n",
    "\n",
    "\n",
    "def train(model, train_dataloader, val_dataloader, optimizer, device, n_epochs=10):\n",
    "    for epoch in range(n_epochs):\n",
    "        train_one_epoch(model, train_dataloader, optimizer, device=device)\n",
    "        model.eval()\n",
    "        a = evaluate(model, val_dataloader, device=device)\n",
    "        print(\"AUC ON TEST: {}\".format(a))"
   ]
  },
  {
   "cell_type": "code",
   "execution_count": 10,
   "metadata": {
    "id": "2Stdx1iarhkA"
   },
   "outputs": [],
   "source": [
    "train_dir_2 = './train_zip/train'\n",
    "val_dir_2 = './test_zip/test'"
   ]
  },
  {
   "cell_type": "code",
   "execution_count": 12,
   "metadata": {
    "id": "N4sGrSfM8ch9"
   },
   "outputs": [],
   "source": [
    "from torchvision.models.detection.faster_rcnn import FastRCNNPredictor\n",
    "from torchvision.models.detection import fasterrcnn_resnet50_fpn"
   ]
  },
  {
   "cell_type": "markdown",
   "metadata": {
    "id": "8o3FfqwD8pAR"
   },
   "source": [
    "В качестве модели возьмем FastRCNNPredictor, у которой на выходе будет 4 класса: яблоко (1), апельсин (2), банан (3), фон (4). Данная функция взята из 7 семинара."
   ]
  },
  {
   "cell_type": "code",
   "execution_count": 13,
   "metadata": {
    "id": "ZE0wVgqR9G5T"
   },
   "outputs": [],
   "source": [
    "def get_detection_model(num_classes=4):\n",
    "    model = fasterrcnn_resnet50_fpn(pretrained=True)\n",
    "    # get the number of input features for the classifier\n",
    "    in_features = model.roi_heads.box_predictor.cls_score.in_features\n",
    "    # replace the pre-trained head with a new one\n",
    "    model.roi_heads.box_predictor = FastRCNNPredictor(in_features, num_classes)\n",
    "\n",
    "    return model"
   ]
  },
  {
   "cell_type": "code",
   "execution_count": 14,
   "metadata": {
    "id": "CMWqR74Y9kTc"
   },
   "outputs": [],
   "source": [
    "def collate_fn(batch):\n",
    "    return tuple(zip(*batch))"
   ]
  },
  {
   "cell_type": "code",
   "execution_count": 15,
   "metadata": {
    "id": "BQb30H2HCPHV"
   },
   "outputs": [],
   "source": [
    "device = torch.device('cuda') if torch.cuda.is_available() else torch.device('cpu')"
   ]
  },
  {
   "cell_type": "code",
   "execution_count": 17,
   "metadata": {
    "colab": {
     "base_uri": "https://localhost:8080/",
     "height": 1000,
     "referenced_widgets": [
      "9e7a5e7032ae47afbd78dd969a0d5705",
      "d7302d4d85024f8aa2ceabb2b752ee54",
      "b62b451adc39434b8f560f2162b6089d",
      "2e32a40872de45c0a0568eb621d96849",
      "d130aea8e4cb4090b192fdd3638d5ea8",
      "5b6dd8ed7c42408890cd97fd826672e5",
      "9eeff7b460ed481bb6fb7376825598d2",
      "ebfa6d229bcd494a81b034aa1652387e"
     ]
    },
    "id": "PhRe7Jxx7qo7",
    "outputId": "70d7544d-8c03-4cee-8025-c9563df61edd"
   },
   "outputs": [
    {
     "name": "stderr",
     "output_type": "stream",
     "text": [
      "Downloading: \"https://download.pytorch.org/models/fasterrcnn_resnet50_fpn_coco-258fb6c6.pth\" to /root/.cache/torch/hub/checkpoints/fasterrcnn_resnet50_fpn_coco-258fb6c6.pth\n"
     ]
    },
    {
     "data": {
      "application/vnd.jupyter.widget-view+json": {
       "model_id": "9e7a5e7032ae47afbd78dd969a0d5705",
       "version_major": 2,
       "version_minor": 0
      },
      "text/plain": [
       "HBox(children=(FloatProgress(value=0.0, max=167502836.0), HTML(value='')))"
      ]
     },
     "metadata": {
      "tags": []
     },
     "output_type": "display_data"
    },
    {
     "name": "stdout",
     "output_type": "stream",
     "text": [
      "\n",
      "Loss value after 10 batches is 0.85\n",
      "Loss value after 20 batches is 0.68\n",
      "Loss value after 30 batches is 0.58\n",
      "Loss value after 40 batches is 0.52\n",
      "Loss value after 50 batches is 0.49\n",
      "Loss value after 60 batches is 0.46\n",
      "Loss value after 70 batches is 0.46\n",
      "Loss value after 80 batches is 0.45\n",
      "Loss value after 90 batches is 0.45\n",
      "Loss value after 100 batches is 0.45\n",
      "Loss value after 110 batches is 0.43\n",
      "Loss value after 120 batches is 0.42\n"
     ]
    },
    {
     "name": "stderr",
     "output_type": "stream",
     "text": [
      "/usr/local/lib/python3.6/dist-packages/ipykernel_launcher.py:55: UserWarning: To copy construct from a tensor, it is recommended to use sourceTensor.clone().detach() or sourceTensor.clone().detach().requires_grad_(True), rather than torch.tensor(sourceTensor).\n",
      "/usr/local/lib/python3.6/dist-packages/ipykernel_launcher.py:56: UserWarning: To copy construct from a tensor, it is recommended to use sourceTensor.clone().detach() or sourceTensor.clone().detach().requires_grad_(True), rather than torch.tensor(sourceTensor).\n",
      "/usr/local/lib/python3.6/dist-packages/ipykernel_launcher.py:55: UserWarning: To copy construct from a tensor, it is recommended to use sourceTensor.clone().detach() or sourceTensor.clone().detach().requires_grad_(True), rather than torch.tensor(sourceTensor).\n",
      "/usr/local/lib/python3.6/dist-packages/ipykernel_launcher.py:56: UserWarning: To copy construct from a tensor, it is recommended to use sourceTensor.clone().detach() or sourceTensor.clone().detach().requires_grad_(True), rather than torch.tensor(sourceTensor).\n",
      "/usr/local/lib/python3.6/dist-packages/ipykernel_launcher.py:55: UserWarning: To copy construct from a tensor, it is recommended to use sourceTensor.clone().detach() or sourceTensor.clone().detach().requires_grad_(True), rather than torch.tensor(sourceTensor).\n",
      "/usr/local/lib/python3.6/dist-packages/ipykernel_launcher.py:56: UserWarning: To copy construct from a tensor, it is recommended to use sourceTensor.clone().detach() or sourceTensor.clone().detach().requires_grad_(True), rather than torch.tensor(sourceTensor).\n",
      "/usr/local/lib/python3.6/dist-packages/ipykernel_launcher.py:55: UserWarning: To copy construct from a tensor, it is recommended to use sourceTensor.clone().detach() or sourceTensor.clone().detach().requires_grad_(True), rather than torch.tensor(sourceTensor).\n",
      "/usr/local/lib/python3.6/dist-packages/ipykernel_launcher.py:56: UserWarning: To copy construct from a tensor, it is recommended to use sourceTensor.clone().detach() or sourceTensor.clone().detach().requires_grad_(True), rather than torch.tensor(sourceTensor).\n"
     ]
    },
    {
     "name": "stdout",
     "output_type": "stream",
     "text": [
      "AUC ON TEST: 0.4641288351392388\n",
      "Loss value after 10 batches is 0.29\n",
      "Loss value after 20 batches is 0.25\n",
      "Loss value after 30 batches is 0.3\n",
      "Loss value after 40 batches is 0.3\n",
      "Loss value after 50 batches is 0.3\n",
      "Loss value after 60 batches is 0.31\n",
      "Loss value after 70 batches is 0.3\n",
      "Loss value after 80 batches is 0.31\n",
      "Loss value after 90 batches is 0.3\n",
      "Loss value after 100 batches is 0.29\n",
      "Loss value after 110 batches is 0.28\n",
      "Loss value after 120 batches is 0.29\n"
     ]
    },
    {
     "name": "stderr",
     "output_type": "stream",
     "text": [
      "/usr/local/lib/python3.6/dist-packages/ipykernel_launcher.py:55: UserWarning: To copy construct from a tensor, it is recommended to use sourceTensor.clone().detach() or sourceTensor.clone().detach().requires_grad_(True), rather than torch.tensor(sourceTensor).\n",
      "/usr/local/lib/python3.6/dist-packages/ipykernel_launcher.py:55: UserWarning: To copy construct from a tensor, it is recommended to use sourceTensor.clone().detach() or sourceTensor.clone().detach().requires_grad_(True), rather than torch.tensor(sourceTensor).\n",
      "/usr/local/lib/python3.6/dist-packages/ipykernel_launcher.py:56: UserWarning: To copy construct from a tensor, it is recommended to use sourceTensor.clone().detach() or sourceTensor.clone().detach().requires_grad_(True), rather than torch.tensor(sourceTensor).\n",
      "/usr/local/lib/python3.6/dist-packages/ipykernel_launcher.py:56: UserWarning: To copy construct from a tensor, it is recommended to use sourceTensor.clone().detach() or sourceTensor.clone().detach().requires_grad_(True), rather than torch.tensor(sourceTensor).\n",
      "/usr/local/lib/python3.6/dist-packages/ipykernel_launcher.py:55: UserWarning: To copy construct from a tensor, it is recommended to use sourceTensor.clone().detach() or sourceTensor.clone().detach().requires_grad_(True), rather than torch.tensor(sourceTensor).\n",
      "/usr/local/lib/python3.6/dist-packages/ipykernel_launcher.py:56: UserWarning: To copy construct from a tensor, it is recommended to use sourceTensor.clone().detach() or sourceTensor.clone().detach().requires_grad_(True), rather than torch.tensor(sourceTensor).\n",
      "/usr/local/lib/python3.6/dist-packages/ipykernel_launcher.py:55: UserWarning: To copy construct from a tensor, it is recommended to use sourceTensor.clone().detach() or sourceTensor.clone().detach().requires_grad_(True), rather than torch.tensor(sourceTensor).\n",
      "/usr/local/lib/python3.6/dist-packages/ipykernel_launcher.py:56: UserWarning: To copy construct from a tensor, it is recommended to use sourceTensor.clone().detach() or sourceTensor.clone().detach().requires_grad_(True), rather than torch.tensor(sourceTensor).\n"
     ]
    },
    {
     "name": "stdout",
     "output_type": "stream",
     "text": [
      "AUC ON TEST: 0.6460676020287709\n",
      "Loss value after 10 batches is 0.39\n",
      "Loss value after 20 batches is 0.3\n",
      "Loss value after 30 batches is 0.27\n",
      "Loss value after 40 batches is 0.28\n",
      "Loss value after 50 batches is 0.26\n",
      "Loss value after 60 batches is 0.25\n",
      "Loss value after 70 batches is 0.25\n",
      "Loss value after 80 batches is 0.25\n",
      "Loss value after 90 batches is 0.24\n",
      "Loss value after 100 batches is 0.24\n",
      "Loss value after 110 batches is 0.23\n",
      "Loss value after 120 batches is 0.24\n"
     ]
    },
    {
     "name": "stderr",
     "output_type": "stream",
     "text": [
      "/usr/local/lib/python3.6/dist-packages/ipykernel_launcher.py:55: UserWarning: To copy construct from a tensor, it is recommended to use sourceTensor.clone().detach() or sourceTensor.clone().detach().requires_grad_(True), rather than torch.tensor(sourceTensor).\n",
      "/usr/local/lib/python3.6/dist-packages/ipykernel_launcher.py:56: UserWarning: To copy construct from a tensor, it is recommended to use sourceTensor.clone().detach() or sourceTensor.clone().detach().requires_grad_(True), rather than torch.tensor(sourceTensor).\n",
      "/usr/local/lib/python3.6/dist-packages/ipykernel_launcher.py:55: UserWarning: To copy construct from a tensor, it is recommended to use sourceTensor.clone().detach() or sourceTensor.clone().detach().requires_grad_(True), rather than torch.tensor(sourceTensor).\n",
      "/usr/local/lib/python3.6/dist-packages/ipykernel_launcher.py:56: UserWarning: To copy construct from a tensor, it is recommended to use sourceTensor.clone().detach() or sourceTensor.clone().detach().requires_grad_(True), rather than torch.tensor(sourceTensor).\n",
      "/usr/local/lib/python3.6/dist-packages/ipykernel_launcher.py:55: UserWarning: To copy construct from a tensor, it is recommended to use sourceTensor.clone().detach() or sourceTensor.clone().detach().requires_grad_(True), rather than torch.tensor(sourceTensor).\n",
      "/usr/local/lib/python3.6/dist-packages/ipykernel_launcher.py:56: UserWarning: To copy construct from a tensor, it is recommended to use sourceTensor.clone().detach() or sourceTensor.clone().detach().requires_grad_(True), rather than torch.tensor(sourceTensor).\n",
      "/usr/local/lib/python3.6/dist-packages/ipykernel_launcher.py:55: UserWarning: To copy construct from a tensor, it is recommended to use sourceTensor.clone().detach() or sourceTensor.clone().detach().requires_grad_(True), rather than torch.tensor(sourceTensor).\n",
      "/usr/local/lib/python3.6/dist-packages/ipykernel_launcher.py:56: UserWarning: To copy construct from a tensor, it is recommended to use sourceTensor.clone().detach() or sourceTensor.clone().detach().requires_grad_(True), rather than torch.tensor(sourceTensor).\n"
     ]
    },
    {
     "name": "stdout",
     "output_type": "stream",
     "text": [
      "AUC ON TEST: 0.7730949008381933\n",
      "Loss value after 10 batches is 0.19\n",
      "Loss value after 20 batches is 0.19\n",
      "Loss value after 30 batches is 0.21\n",
      "Loss value after 40 batches is 0.21\n",
      "Loss value after 50 batches is 0.22\n",
      "Loss value after 60 batches is 0.22\n",
      "Loss value after 70 batches is 0.22\n",
      "Loss value after 80 batches is 0.21\n",
      "Loss value after 90 batches is 0.2\n",
      "Loss value after 100 batches is 0.2\n",
      "Loss value after 110 batches is 0.2\n",
      "Loss value after 120 batches is 0.2\n"
     ]
    },
    {
     "name": "stderr",
     "output_type": "stream",
     "text": [
      "/usr/local/lib/python3.6/dist-packages/ipykernel_launcher.py:55: UserWarning: To copy construct from a tensor, it is recommended to use sourceTensor.clone().detach() or sourceTensor.clone().detach().requires_grad_(True), rather than torch.tensor(sourceTensor).\n",
      "/usr/local/lib/python3.6/dist-packages/ipykernel_launcher.py:56: UserWarning: To copy construct from a tensor, it is recommended to use sourceTensor.clone().detach() or sourceTensor.clone().detach().requires_grad_(True), rather than torch.tensor(sourceTensor).\n",
      "/usr/local/lib/python3.6/dist-packages/ipykernel_launcher.py:55: UserWarning: To copy construct from a tensor, it is recommended to use sourceTensor.clone().detach() or sourceTensor.clone().detach().requires_grad_(True), rather than torch.tensor(sourceTensor).\n",
      "/usr/local/lib/python3.6/dist-packages/ipykernel_launcher.py:56: UserWarning: To copy construct from a tensor, it is recommended to use sourceTensor.clone().detach() or sourceTensor.clone().detach().requires_grad_(True), rather than torch.tensor(sourceTensor).\n",
      "/usr/local/lib/python3.6/dist-packages/ipykernel_launcher.py:55: UserWarning: To copy construct from a tensor, it is recommended to use sourceTensor.clone().detach() or sourceTensor.clone().detach().requires_grad_(True), rather than torch.tensor(sourceTensor).\n",
      "/usr/local/lib/python3.6/dist-packages/ipykernel_launcher.py:56: UserWarning: To copy construct from a tensor, it is recommended to use sourceTensor.clone().detach() or sourceTensor.clone().detach().requires_grad_(True), rather than torch.tensor(sourceTensor).\n",
      "/usr/local/lib/python3.6/dist-packages/ipykernel_launcher.py:55: UserWarning: To copy construct from a tensor, it is recommended to use sourceTensor.clone().detach() or sourceTensor.clone().detach().requires_grad_(True), rather than torch.tensor(sourceTensor).\n",
      "/usr/local/lib/python3.6/dist-packages/ipykernel_launcher.py:56: UserWarning: To copy construct from a tensor, it is recommended to use sourceTensor.clone().detach() or sourceTensor.clone().detach().requires_grad_(True), rather than torch.tensor(sourceTensor).\n"
     ]
    },
    {
     "name": "stdout",
     "output_type": "stream",
     "text": [
      "AUC ON TEST: 0.8073663612275868\n"
     ]
    }
   ],
   "source": [
    "train_transform = A.Compose([\n",
    "    # A.Resize(width=224, height=224),\n",
    "    A.HorizontalFlip(p=0.5),\n",
    "    A.Normalize(mean=norm_means, std=norm_stds),\n",
    "    ToTensor()\n",
    "], bbox_params=A.BboxParams(format='pascal_voc', min_visibility=0.3, label_fields=['labels'])) # YOUR CODE FOR AUGMENTATIONS\n",
    "val_transform = A.Compose([\n",
    "    # A.Resize(width=224, height=224),\n",
    "    A.Normalize(mean=norm_means, std=norm_stds),\n",
    "    ToTensor()\n",
    "], bbox_params=A.BboxParams(format='pascal_voc', min_visibility=0.3, label_fields=['labels'])) # YOUR CODE FOR VALIDATION AUGMENTATIONS\n",
    "# HINT: TRAIN TRANSFORM OBVIOUSLY SHOULD BE HARDER THAN THOSE FOR VALIDATION\n",
    "\n",
    "train_dataset = FruitDataset(train_dir_2, transform=train_transform)\n",
    "val_dataset = FruitDataset(val_dir_2, transform=val_transform)\n",
    "\n",
    "num_classes = 4\n",
    "model_detect = get_detection_model(num_classes)\n",
    "model_detect.to(device)\n",
    "# YOUR CODE, CREATE MODEL FOR OBJECT DETECTION\n",
    "# HINT: USE MATERIALS FROM THE SEMINAR\n",
    "# YOU CAN USE torchvision.models AND torchvision.models.detection\n",
    "# READ OFFICIAL DOCS FOR MORE INFO\n",
    "\n",
    "params = model_detect.parameters()\n",
    "optimizer = torch.optim.Adam(params, 1e-4) # SELECT YOUR OPTIMIZER\n",
    "train_dataloader = torch.utils.data.DataLoader(\n",
    "    train_dataset, batch_size=2, shuffle=True, num_workers=4, collate_fn=collate_fn) # CREATE YOUR DATALOADER, SELECT APPROPRIATE batch_size\n",
    "val_dataloader = torch.utils.data.DataLoader(\n",
    "    val_dataset, batch_size=2, shuffle=False, num_workers=4, collate_fn=collate_fn) # CREATE VALIDATION DATALOADER\n",
    "n_epochs = 4 # SELECT APPROPRIZTE NUMBER OF EPOCHS\n",
    "\n",
    "train(model_detect, train_dataloader, val_dataloader, optimizer, device, n_epochs)"
   ]
  },
  {
   "cell_type": "markdown",
   "metadata": {
    "id": "t1vnNGDX7qo7"
   },
   "source": [
    "__Выведите итоговое качество модели__."
   ]
  },
  {
   "cell_type": "code",
   "execution_count": 18,
   "metadata": {
    "colab": {
     "base_uri": "https://localhost:8080/"
    },
    "id": "pnra4yDe7qo7",
    "outputId": "86b48633-f7a3-4256-b157-02f0af8b4e17"
   },
   "outputs": [
    {
     "name": "stderr",
     "output_type": "stream",
     "text": [
      "/usr/local/lib/python3.6/dist-packages/ipykernel_launcher.py:55: UserWarning: To copy construct from a tensor, it is recommended to use sourceTensor.clone().detach() or sourceTensor.clone().detach().requires_grad_(True), rather than torch.tensor(sourceTensor).\n",
      "/usr/local/lib/python3.6/dist-packages/ipykernel_launcher.py:56: UserWarning: To copy construct from a tensor, it is recommended to use sourceTensor.clone().detach() or sourceTensor.clone().detach().requires_grad_(True), rather than torch.tensor(sourceTensor).\n",
      "/usr/local/lib/python3.6/dist-packages/ipykernel_launcher.py:55: UserWarning: To copy construct from a tensor, it is recommended to use sourceTensor.clone().detach() or sourceTensor.clone().detach().requires_grad_(True), rather than torch.tensor(sourceTensor).\n",
      "/usr/local/lib/python3.6/dist-packages/ipykernel_launcher.py:56: UserWarning: To copy construct from a tensor, it is recommended to use sourceTensor.clone().detach() or sourceTensor.clone().detach().requires_grad_(True), rather than torch.tensor(sourceTensor).\n",
      "/usr/local/lib/python3.6/dist-packages/ipykernel_launcher.py:55: UserWarning: To copy construct from a tensor, it is recommended to use sourceTensor.clone().detach() or sourceTensor.clone().detach().requires_grad_(True), rather than torch.tensor(sourceTensor).\n",
      "/usr/local/lib/python3.6/dist-packages/ipykernel_launcher.py:56: UserWarning: To copy construct from a tensor, it is recommended to use sourceTensor.clone().detach() or sourceTensor.clone().detach().requires_grad_(True), rather than torch.tensor(sourceTensor).\n",
      "/usr/local/lib/python3.6/dist-packages/ipykernel_launcher.py:55: UserWarning: To copy construct from a tensor, it is recommended to use sourceTensor.clone().detach() or sourceTensor.clone().detach().requires_grad_(True), rather than torch.tensor(sourceTensor).\n",
      "/usr/local/lib/python3.6/dist-packages/ipykernel_launcher.py:56: UserWarning: To copy construct from a tensor, it is recommended to use sourceTensor.clone().detach() or sourceTensor.clone().detach().requires_grad_(True), rather than torch.tensor(sourceTensor).\n"
     ]
    },
    {
     "name": "stdout",
     "output_type": "stream",
     "text": [
      "Оценка за это задание составит 3.5488631262751067 баллов\n"
     ]
    }
   ],
   "source": [
    "auc = evaluate(model_detect, val_dataloader, device)\n",
    "print(\"Оценка за это задание составит {} баллов\".format(min(4, 4 * auc / 0.91)))"
   ]
  },
  {
   "cell_type": "markdown",
   "metadata": {
    "id": "1wz-aeqW7qo7"
   },
   "source": [
    "Нарисуйте предсказанные bounding box'ы для любых двух картинок из __тестового__ датасета."
   ]
  },
  {
   "cell_type": "code",
   "execution_count": 19,
   "metadata": {
    "id": "sxhD2Q1Z7qo7"
   },
   "outputs": [],
   "source": [
    "image, labels = next(iter(train_dataset))\n",
    "pred = model_detect(image.unsqueeze(0).to(device))[0]"
   ]
  },
  {
   "cell_type": "code",
   "execution_count": 20,
   "metadata": {
    "colab": {
     "base_uri": "https://localhost:8080/",
     "height": 370
    },
    "id": "nStM3Kvq7qo8",
    "outputId": "5a8bb2f9-14c3-4999-83f2-9cc5380a2bc4"
   },
   "outputs": [
    {
     "data": {
      "image/png": "[encoded data removed]",
      "text/plain": [
       "<PIL.Image.Image image mode=RGB size=450x353 at 0x7FEF382194E0>"
      ]
     },
     "execution_count": 20,
     "metadata": {
      "tags": []
     },
     "output_type": "execute_result"
    }
   ],
   "source": [
    "from PIL import ImageDraw\n",
    "\n",
    "image = torchvision.transforms.ToPILImage()(image)\n",
    "draw = ImageDraw.Draw(image)\n",
    "for box in labels['boxes']:\n",
    "    draw.rectangle([(box[0], box[1]), (box[2], box[3])])\n",
    "    \n",
    "for box in pred['boxes']:\n",
    "    draw.rectangle([(box[0], box[1]), (box[2], box[3])], outline='red')\n",
    "image"
   ]
  },
  {
   "cell_type": "markdown",
   "metadata": {
    "id": "qiX-A8R-7qo8"
   },
   "source": [
    "## Бонус (10 баллов).\n",
    "\n",
    "__Задание__. В части с классификацией добейтесь accuracy не менее 0.52. Напишите отчёт о проделанных экспериментах.\n",
    "\n",
    "__Критерии оценки__. Оценка за бонусную часть равна 10, если вы преодолели качество 0.52 и 0 в противном случае.\n",
    "\n",
    "__Иных оценок кроме 0 и 10 не предусмотрено__."
   ]
  },
  {
   "cell_type": "code",
   "execution_count": null,
   "metadata": {
    "id": "N0HXhZ7E7qo8"
   },
   "outputs": [],
   "source": [
    "# YOUR CODE"
   ]
  },
  {
   "cell_type": "markdown",
   "metadata": {
    "id": "xGLyb1f67qo8"
   },
   "source": [
    "## Бонус (0 баллов).\n",
    "\n",
    "__Задание 1__. Скиньте ниже смешную картинку, желательно про машинное обучение. На картинке не должно быть никаких упоминаний лектора, семинаристов и ассистентов этого курса.\n",
    "\n",
    "__Задание 2__. Расскажите, как вам задание? Что понравилось, что не понравилось, что можно улучшить? Мы примем во внимание любой фидбек."
   ]
  }
 ],
 "metadata": {
  "accelerator": "GPU",
  "colab": {
   "collapsed_sections": [],
   "name": "hw2_final.ipynb",
   "provenance": [],
   "toc_visible": true
  },
  "kernelspec": {
   "display_name": "Python 3",
   "language": "python",
   "name": "python3"
  },
  "language_info": {
   "codemirror_mode": {
    "name": "ipython",
    "version": 3
   },
   "file_extension": ".py",
   "mimetype": "text/x-python",
   "name": "python",
   "nbconvert_exporter": "python",
   "pygments_lexer": "ipython3",
   "version": "3.7.4"
  },
  "widgets": {
   "application/vnd.jupyter.widget-state+json": {
    "03f9432fbfca4025b4f9e9b7c1723257": {
     "model_module": "@jupyter-widgets/base",
     "model_name": "LayoutModel",
     "state": {
      "_model_module": "@jupyter-widgets/base",
      "_model_module_version": "1.2.0",
      "_model_name": "LayoutModel",
      "_view_count": null,
      "_view_module": "@jupyter-widgets/base",
      "_view_module_version": "1.2.0",
      "_view_name": "LayoutView",
      "align_content": null,
      "align_items": null,
      "align_self": null,
      "border": null,
      "bottom": null,
      "display": null,
      "flex": null,
      "flex_flow": null,
      "grid_area": null,
      "grid_auto_columns": null,
      "grid_auto_flow": null,
      "grid_auto_rows": null,
      "grid_column": null,
      "grid_gap": null,
      "grid_row": null,
      "grid_template_areas": null,
      "grid_template_columns": null,
      "grid_template_rows": null,
      "height": null,
      "justify_content": null,
      "justify_items": null,
      "left": null,
      "margin": null,
      "max_height": null,
      "max_width": null,
      "min_height": null,
      "min_width": null,
      "object_fit": null,
      "object_position": null,
      "order": null,
      "overflow": null,
      "overflow_x": null,
      "overflow_y": null,
      "padding": null,
      "right": null,
      "top": null,
      "visibility": null,
      "width": null
     }
    },
    "1f0a25add4574003aaf1c4a1d2ae523e": {
     "model_module": "@jupyter-widgets/controls",
     "model_name": "HBoxModel",
     "state": {
      "_dom_classes": [],
      "_model_module": "@jupyter-widgets/controls",
      "_model_module_version": "1.5.0",
      "_model_name": "HBoxModel",
      "_view_count": null,
      "_view_module": "@jupyter-widgets/controls",
      "_view_module_version": "1.5.0",
      "_view_name": "HBoxView",
      "box_style": "",
      "children": [
       "IPY_MODEL_d53370aba16c4648b00ccab7f9c48cd9",
       "IPY_MODEL_dea87c36be4c4bc7ba8a39ebed9a2fe2"
      ],
      "layout": "IPY_MODEL_03f9432fbfca4025b4f9e9b7c1723257"
     }
    },
    "2e32a40872de45c0a0568eb621d96849": {
     "model_module": "@jupyter-widgets/controls",
     "model_name": "HTMLModel",
     "state": {
      "_dom_classes": [],
      "_model_module": "@jupyter-widgets/controls",
      "_model_module_version": "1.5.0",
      "_model_name": "HTMLModel",
      "_view_count": null,
      "_view_module": "@jupyter-widgets/controls",
      "_view_module_version": "1.5.0",
      "_view_name": "HTMLView",
      "description": "",
      "description_tooltip": null,
      "layout": "IPY_MODEL_ebfa6d229bcd494a81b034aa1652387e",
      "placeholder": "​",
      "style": "IPY_MODEL_9eeff7b460ed481bb6fb7376825598d2",
      "value": " 160M/160M [02:27&lt;00:00, 1.14MB/s]"
     }
    },
    "5b6dd8ed7c42408890cd97fd826672e5": {
     "model_module": "@jupyter-widgets/base",
     "model_name": "LayoutModel",
     "state": {
      "_model_module": "@jupyter-widgets/base",
      "_model_module_version": "1.2.0",
      "_model_name": "LayoutModel",
      "_view_count": null,
      "_view_module": "@jupyter-widgets/base",
      "_view_module_version": "1.2.0",
      "_view_name": "LayoutView",
      "align_content": null,
      "align_items": null,
      "align_self": null,
      "border": null,
      "bottom": null,
      "display": null,
      "flex": null,
      "flex_flow": null,
      "grid_area": null,
      "grid_auto_columns": null,
      "grid_auto_flow": null,
      "grid_auto_rows": null,
      "grid_column": null,
      "grid_gap": null,
      "grid_row": null,
      "grid_template_areas": null,
      "grid_template_columns": null,
      "grid_template_rows": null,
      "height": null,
      "justify_content": null,
      "justify_items": null,
      "left": null,
      "margin": null,
      "max_height": null,
      "max_width": null,
      "min_height": null,
      "min_width": null,
      "object_fit": null,
      "object_position": null,
      "order": null,
      "overflow": null,
      "overflow_x": null,
      "overflow_y": null,
      "padding": null,
      "right": null,
      "top": null,
      "visibility": null,
      "width": null
     }
    },
    "9e7a5e7032ae47afbd78dd969a0d5705": {
     "model_module": "@jupyter-widgets/controls",
     "model_name": "HBoxModel",
     "state": {
      "_dom_classes": [],
      "_model_module": "@jupyter-widgets/controls",
      "_model_module_version": "1.5.0",
      "_model_name": "HBoxModel",
      "_view_count": null,
      "_view_module": "@jupyter-widgets/controls",
      "_view_module_version": "1.5.0",
      "_view_name": "HBoxView",
      "box_style": "",
      "children": [
       "IPY_MODEL_b62b451adc39434b8f560f2162b6089d",
       "IPY_MODEL_2e32a40872de45c0a0568eb621d96849"
      ],
      "layout": "IPY_MODEL_d7302d4d85024f8aa2ceabb2b752ee54"
     }
    },
    "9eeff7b460ed481bb6fb7376825598d2": {
     "model_module": "@jupyter-widgets/controls",
     "model_name": "DescriptionStyleModel",
     "state": {
      "_model_module": "@jupyter-widgets/controls",
      "_model_module_version": "1.5.0",
      "_model_name": "DescriptionStyleModel",
      "_view_count": null,
      "_view_module": "@jupyter-widgets/base",
      "_view_module_version": "1.2.0",
      "_view_name": "StyleView",
      "description_width": ""
     }
    },
    "b62b451adc39434b8f560f2162b6089d": {
     "model_module": "@jupyter-widgets/controls",
     "model_name": "FloatProgressModel",
     "state": {
      "_dom_classes": [],
      "_model_module": "@jupyter-widgets/controls",
      "_model_module_version": "1.5.0",
      "_model_name": "FloatProgressModel",
      "_view_count": null,
      "_view_module": "@jupyter-widgets/controls",
      "_view_module_version": "1.5.0",
      "_view_name": "ProgressView",
      "bar_style": "success",
      "description": "100%",
      "description_tooltip": null,
      "layout": "IPY_MODEL_5b6dd8ed7c42408890cd97fd826672e5",
      "max": 167502836,
      "min": 0,
      "orientation": "horizontal",
      "style": "IPY_MODEL_d130aea8e4cb4090b192fdd3638d5ea8",
      "value": 167502836
     }
    },
    "d130aea8e4cb4090b192fdd3638d5ea8": {
     "model_module": "@jupyter-widgets/controls",
     "model_name": "ProgressStyleModel",
     "state": {
      "_model_module": "@jupyter-widgets/controls",
      "_model_module_version": "1.5.0",
      "_model_name": "ProgressStyleModel",
      "_view_count": null,
      "_view_module": "@jupyter-widgets/base",
      "_view_module_version": "1.2.0",
      "_view_name": "StyleView",
      "bar_color": null,
      "description_width": "initial"
     }
    },
    "d45231766be34b5192b77811d6639782": {
     "model_module": "@jupyter-widgets/controls",
     "model_name": "DescriptionStyleModel",
     "state": {
      "_model_module": "@jupyter-widgets/controls",
      "_model_module_version": "1.5.0",
      "_model_name": "DescriptionStyleModel",
      "_view_count": null,
      "_view_module": "@jupyter-widgets/base",
      "_view_module_version": "1.2.0",
      "_view_name": "StyleView",
      "description_width": ""
     }
    },
    "d53370aba16c4648b00ccab7f9c48cd9": {
     "model_module": "@jupyter-widgets/controls",
     "model_name": "FloatProgressModel",
     "state": {
      "_dom_classes": [],
      "_model_module": "@jupyter-widgets/controls",
      "_model_module_version": "1.5.0",
      "_model_name": "FloatProgressModel",
      "_view_count": null,
      "_view_module": "@jupyter-widgets/controls",
      "_view_module_version": "1.5.0",
      "_view_name": "ProgressView",
      "bar_style": "success",
      "description": "100%",
      "description_tooltip": null,
      "layout": "IPY_MODEL_fd590d75607e44ebac41ddf257c30d89",
      "max": 46827520,
      "min": 0,
      "orientation": "horizontal",
      "style": "IPY_MODEL_f849e787c1fa436abcbad2d86da6f77c",
      "value": 46827520
     }
    },
    "d7302d4d85024f8aa2ceabb2b752ee54": {
     "model_module": "@jupyter-widgets/base",
     "model_name": "LayoutModel",
     "state": {
      "_model_module": "@jupyter-widgets/base",
      "_model_module_version": "1.2.0",
      "_model_name": "LayoutModel",
      "_view_count": null,
      "_view_module": "@jupyter-widgets/base",
      "_view_module_version": "1.2.0",
      "_view_name": "LayoutView",
      "align_content": null,
      "align_items": null,
      "align_self": null,
      "border": null,
      "bottom": null,
      "display": null,
      "flex": null,
      "flex_flow": null,
      "grid_area": null,
      "grid_auto_columns": null,
      "grid_auto_flow": null,
      "grid_auto_rows": null,
      "grid_column": null,
      "grid_gap": null,
      "grid_row": null,
      "grid_template_areas": null,
      "grid_template_columns": null,
      "grid_template_rows": null,
      "height": null,
      "justify_content": null,
      "justify_items": null,
      "left": null,
      "margin": null,
      "max_height": null,
      "max_width": null,
      "min_height": null,
      "min_width": null,
      "object_fit": null,
      "object_position": null,
      "order": null,
      "overflow": null,
      "overflow_x": null,
      "overflow_y": null,
      "padding": null,
      "right": null,
      "top": null,
      "visibility": null,
      "width": null
     }
    },
    "db0ad512f5c64357b0e059a2e219712c": {
     "model_module": "@jupyter-widgets/base",
     "model_name": "LayoutModel",
     "state": {
      "_model_module": "@jupyter-widgets/base",
      "_model_module_version": "1.2.0",
      "_model_name": "LayoutModel",
      "_view_count": null,
      "_view_module": "@jupyter-widgets/base",
      "_view_module_version": "1.2.0",
      "_view_name": "LayoutView",
      "align_content": null,
      "align_items": null,
      "align_self": null,
      "border": null,
      "bottom": null,
      "display": null,
      "flex": null,
      "flex_flow": null,
      "grid_area": null,
      "grid_auto_columns": null,
      "grid_auto_flow": null,
      "grid_auto_rows": null,
      "grid_column": null,
      "grid_gap": null,
      "grid_row": null,
      "grid_template_areas": null,
      "grid_template_columns": null,
      "grid_template_rows": null,
      "height": null,
      "justify_content": null,
      "justify_items": null,
      "left": null,
      "margin": null,
      "max_height": null,
      "max_width": null,
      "min_height": null,
      "min_width": null,
      "object_fit": null,
      "object_position": null,
      "order": null,
      "overflow": null,
      "overflow_x": null,
      "overflow_y": null,
      "padding": null,
      "right": null,
      "top": null,
      "visibility": null,
      "width": null
     }
    },
    "dea87c36be4c4bc7ba8a39ebed9a2fe2": {
     "model_module": "@jupyter-widgets/controls",
     "model_name": "HTMLModel",
     "state": {
      "_dom_classes": [],
      "_model_module": "@jupyter-widgets/controls",
      "_model_module_version": "1.5.0",
      "_model_name": "HTMLModel",
      "_view_count": null,
      "_view_module": "@jupyter-widgets/controls",
      "_view_module_version": "1.5.0",
      "_view_name": "HTMLView",
      "description": "",
      "description_tooltip": null,
      "layout": "IPY_MODEL_db0ad512f5c64357b0e059a2e219712c",
      "placeholder": "​",
      "style": "IPY_MODEL_d45231766be34b5192b77811d6639782",
      "value": " 44.7M/44.7M [00:35&lt;00:00, 1.33MB/s]"
     }
    },
    "ebfa6d229bcd494a81b034aa1652387e": {
     "model_module": "@jupyter-widgets/base",
     "model_name": "LayoutModel",
     "state": {
      "_model_module": "@jupyter-widgets/base",
      "_model_module_version": "1.2.0",
      "_model_name": "LayoutModel",
      "_view_count": null,
      "_view_module": "@jupyter-widgets/base",
      "_view_module_version": "1.2.0",
      "_view_name": "LayoutView",
      "align_content": null,
      "align_items": null,
      "align_self": null,
      "border": null,
      "bottom": null,
      "display": null,
      "flex": null,
      "flex_flow": null,
      "grid_area": null,
      "grid_auto_columns": null,
      "grid_auto_flow": null,
      "grid_auto_rows": null,
      "grid_column": null,
      "grid_gap": null,
      "grid_row": null,
      "grid_template_areas": null,
      "grid_template_columns": null,
      "grid_template_rows": null,
      "height": null,
      "justify_content": null,
      "justify_items": null,
      "left": null,
      "margin": null,
      "max_height": null,
      "max_width": null,
      "min_height": null,
      "min_width": null,
      "object_fit": null,
      "object_position": null,
      "order": null,
      "overflow": null,
      "overflow_x": null,
      "overflow_y": null,
      "padding": null,
      "right": null,
      "top": null,
      "visibility": null,
      "width": null
     }
    },
    "f849e787c1fa436abcbad2d86da6f77c": {
     "model_module": "@jupyter-widgets/controls",
     "model_name": "ProgressStyleModel",
     "state": {
      "_model_module": "@jupyter-widgets/controls",
      "_model_module_version": "1.5.0",
      "_model_name": "ProgressStyleModel",
      "_view_count": null,
      "_view_module": "@jupyter-widgets/base",
      "_view_module_version": "1.2.0",
      "_view_name": "StyleView",
      "bar_color": null,
      "description_width": "initial"
     }
    },
    "fd590d75607e44ebac41ddf257c30d89": {
     "model_module": "@jupyter-widgets/base",
     "model_name": "LayoutModel",
     "state": {
      "_model_module": "@jupyter-widgets/base",
      "_model_module_version": "1.2.0",
      "_model_name": "LayoutModel",
      "_view_count": null,
      "_view_module": "@jupyter-widgets/base",
      "_view_module_version": "1.2.0",
      "_view_name": "LayoutView",
      "align_content": null,
      "align_items": null,
      "align_self": null,
      "border": null,
      "bottom": null,
      "display": null,
      "flex": null,
      "flex_flow": null,
      "grid_area": null,
      "grid_auto_columns": null,
      "grid_auto_flow": null,
      "grid_auto_rows": null,
      "grid_column": null,
      "grid_gap": null,
      "grid_row": null,
      "grid_template_areas": null,
      "grid_template_columns": null,
      "grid_template_rows": null,
      "height": null,
      "justify_content": null,
      "justify_items": null,
      "left": null,
      "margin": null,
      "max_height": null,
      "max_width": null,
      "min_height": null,
      "min_width": null,
      "object_fit": null,
      "object_position": null,
      "order": null,
      "overflow": null,
      "overflow_x": null,
      "overflow_y": null,
      "padding": null,
      "right": null,
      "top": null,
      "visibility": null,
      "width": null
     }
    }
   }
  }
 },
 "nbformat": 4,
 "nbformat_minor": 1
}
