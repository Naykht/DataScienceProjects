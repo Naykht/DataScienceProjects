{
 "cells": [
  {
   "cell_type": "markdown",
   "metadata": {
    "id": "ExuV3ktSQYrH"
   },
   "source": [
    "# Введение"
   ]
  },
  {
   "cell_type": "markdown",
   "metadata": {
    "id": "ef6180WvQbD-"
   },
   "source": [
    "В этом задании Вы продолжите работать с данными из семинара [Articles Sharing and Reading from CI&T Deskdrop](https://www.kaggle.com/gspmoreira/articles-sharing-reading-from-cit-deskdrop)."
   ]
  },
  {
   "cell_type": "code",
   "execution_count": 3,
   "metadata": {
    "id": "M5mH3ZolSlcm"
   },
   "outputs": [],
   "source": [
    "import pandas as pd\n",
    "import numpy as np\n",
    "import math"
   ]
  },
  {
   "cell_type": "markdown",
   "metadata": {
    "id": "nSV_mxD9TciM"
   },
   "source": [
    "## Загрузка и предобработка данных"
   ]
  },
  {
   "cell_type": "markdown",
   "metadata": {
    "id": "PRQVuRvER0hd"
   },
   "source": [
    "Загрузим данные и проведем предобраотку данных как на семинаре."
   ]
  },
  {
   "cell_type": "code",
   "execution_count": 4,
   "metadata": {
    "id": "8E837g9kQTbb"
   },
   "outputs": [],
   "source": [
    "!wget -q -N https://www.dropbox.com/s/z8syrl5trawxs0n/articles.zip?dl=0 -O articles.zip\n",
    "!unzip -o -q articles.zip"
   ]
  },
  {
   "cell_type": "code",
   "execution_count": 5,
   "metadata": {
    "colab": {
     "base_uri": "https://localhost:8080/",
     "height": 379
    },
    "id": "hdM1xSchR9jt",
    "outputId": "28939a6d-1d6b-4c2a-df5b-8ce5051f5a00"
   },
   "outputs": [
    {
     "data": {
      "text/html": [
       "<div>\n",
       "<style scoped>\n",
       "    .dataframe tbody tr th:only-of-type {\n",
       "        vertical-align: middle;\n",
       "    }\n",
       "\n",
       "    .dataframe tbody tr th {\n",
       "        vertical-align: top;\n",
       "    }\n",
       "\n",
       "    .dataframe thead th {\n",
       "        text-align: right;\n",
       "    }\n",
       "</style>\n",
       "<table border=\"1\" class=\"dataframe\">\n",
       "  <thead>\n",
       "    <tr style=\"text-align: right;\">\n",
       "      <th></th>\n",
       "      <th>timestamp</th>\n",
       "      <th>eventType</th>\n",
       "      <th>contentId</th>\n",
       "      <th>authorPersonId</th>\n",
       "      <th>authorSessionId</th>\n",
       "      <th>authorUserAgent</th>\n",
       "      <th>authorRegion</th>\n",
       "      <th>authorCountry</th>\n",
       "      <th>contentType</th>\n",
       "      <th>url</th>\n",
       "      <th>title</th>\n",
       "      <th>text</th>\n",
       "      <th>lang</th>\n",
       "    </tr>\n",
       "  </thead>\n",
       "  <tbody>\n",
       "    <tr>\n",
       "      <th>1</th>\n",
       "      <td>1459193988</td>\n",
       "      <td>CONTENT SHARED</td>\n",
       "      <td>-4110354420726924665</td>\n",
       "      <td>4340306774493623681</td>\n",
       "      <td>8940341205206233829</td>\n",
       "      <td>NaN</td>\n",
       "      <td>NaN</td>\n",
       "      <td>NaN</td>\n",
       "      <td>HTML</td>\n",
       "      <td>http://www.nytimes.com/2016/03/28/business/dea...</td>\n",
       "      <td>Ethereum, a Virtual Currency, Enables Transact...</td>\n",
       "      <td>All of this work is still very early. The firs...</td>\n",
       "      <td>en</td>\n",
       "    </tr>\n",
       "    <tr>\n",
       "      <th>2</th>\n",
       "      <td>1459194146</td>\n",
       "      <td>CONTENT SHARED</td>\n",
       "      <td>-7292285110016212249</td>\n",
       "      <td>4340306774493623681</td>\n",
       "      <td>8940341205206233829</td>\n",
       "      <td>NaN</td>\n",
       "      <td>NaN</td>\n",
       "      <td>NaN</td>\n",
       "      <td>HTML</td>\n",
       "      <td>http://cointelegraph.com/news/bitcoin-future-w...</td>\n",
       "      <td>Bitcoin Future: When GBPcoin of Branson Wins O...</td>\n",
       "      <td>The alarm clock wakes me at 8:00 with stream o...</td>\n",
       "      <td>en</td>\n",
       "    </tr>\n",
       "  </tbody>\n",
       "</table>\n",
       "</div>"
      ],
      "text/plain": [
       "    timestamp  ... lang\n",
       "1  1459193988  ...   en\n",
       "2  1459194146  ...   en\n",
       "\n",
       "[2 rows x 13 columns]"
      ]
     },
     "execution_count": 5,
     "metadata": {
      "tags": []
     },
     "output_type": "execute_result"
    }
   ],
   "source": [
    "articles_df = pd.read_csv('articles/shared_articles.csv')\n",
    "articles_df = articles_df[articles_df['eventType'] == 'CONTENT SHARED']\n",
    "articles_df.head(2)"
   ]
  },
  {
   "cell_type": "code",
   "execution_count": 6,
   "metadata": {
    "colab": {
     "base_uri": "https://localhost:8080/",
     "height": 106
    },
    "id": "KK9wMAkvSjbk",
    "outputId": "8ca93606-a1a6-4fae-c944-9af791f4f0fe"
   },
   "outputs": [
    {
     "data": {
      "text/html": [
       "<div>\n",
       "<style scoped>\n",
       "    .dataframe tbody tr th:only-of-type {\n",
       "        vertical-align: middle;\n",
       "    }\n",
       "\n",
       "    .dataframe tbody tr th {\n",
       "        vertical-align: top;\n",
       "    }\n",
       "\n",
       "    .dataframe thead th {\n",
       "        text-align: right;\n",
       "    }\n",
       "</style>\n",
       "<table border=\"1\" class=\"dataframe\">\n",
       "  <thead>\n",
       "    <tr style=\"text-align: right;\">\n",
       "      <th></th>\n",
       "      <th>timestamp</th>\n",
       "      <th>eventType</th>\n",
       "      <th>contentId</th>\n",
       "      <th>personId</th>\n",
       "      <th>sessionId</th>\n",
       "      <th>userAgent</th>\n",
       "      <th>userRegion</th>\n",
       "      <th>userCountry</th>\n",
       "    </tr>\n",
       "  </thead>\n",
       "  <tbody>\n",
       "    <tr>\n",
       "      <th>0</th>\n",
       "      <td>1465413032</td>\n",
       "      <td>VIEW</td>\n",
       "      <td>-3499919498720038879</td>\n",
       "      <td>-8845298781299428018</td>\n",
       "      <td>1264196770339959068</td>\n",
       "      <td>NaN</td>\n",
       "      <td>NaN</td>\n",
       "      <td>NaN</td>\n",
       "    </tr>\n",
       "    <tr>\n",
       "      <th>1</th>\n",
       "      <td>1465412560</td>\n",
       "      <td>VIEW</td>\n",
       "      <td>8890720798209849691</td>\n",
       "      <td>-1032019229384696495</td>\n",
       "      <td>3621737643587579081</td>\n",
       "      <td>Mozilla/5.0 (Macintosh; Intel Mac OS X 10_11_2...</td>\n",
       "      <td>NY</td>\n",
       "      <td>US</td>\n",
       "    </tr>\n",
       "  </tbody>\n",
       "</table>\n",
       "</div>"
      ],
      "text/plain": [
       "    timestamp eventType  ...  userRegion  userCountry\n",
       "0  1465413032      VIEW  ...         NaN          NaN\n",
       "1  1465412560      VIEW  ...          NY           US\n",
       "\n",
       "[2 rows x 8 columns]"
      ]
     },
     "execution_count": 6,
     "metadata": {
      "tags": []
     },
     "output_type": "execute_result"
    }
   ],
   "source": [
    "interactions_df = pd.read_csv('articles/users_interactions.csv')\n",
    "interactions_df.head(2)"
   ]
  },
  {
   "cell_type": "code",
   "execution_count": 7,
   "metadata": {
    "id": "5nQScdSTTzNG"
   },
   "outputs": [],
   "source": [
    "interactions_df.personId = interactions_df.personId.astype(str)\n",
    "interactions_df.contentId = interactions_df.contentId.astype(str)\n",
    "articles_df.contentId = articles_df.contentId.astype(str)"
   ]
  },
  {
   "cell_type": "code",
   "execution_count": 8,
   "metadata": {
    "id": "eu6R9rDQT2P4"
   },
   "outputs": [],
   "source": [
    "# зададим словарь определяющий силу взаимодействия\n",
    "event_type_strength = {\n",
    "   'VIEW': 1.0,\n",
    "   'LIKE': 2.0, \n",
    "   'BOOKMARK': 2.5, \n",
    "   'FOLLOW': 3.0,\n",
    "   'COMMENT CREATED': 4.0,  \n",
    "}\n",
    "\n",
    "interactions_df['eventStrength'] = interactions_df.eventType.apply(lambda x: event_type_strength[x])"
   ]
  },
  {
   "cell_type": "markdown",
   "metadata": {
    "id": "ATO5PRRwUkQ0"
   },
   "source": [
    "Оставляем только тех пользователей, которые произамодействовали более чем с пятью статьями."
   ]
  },
  {
   "cell_type": "code",
   "execution_count": 9,
   "metadata": {
    "colab": {
     "base_uri": "https://localhost:8080/"
    },
    "id": "d-0HoboYUBm5",
    "outputId": "ee7cce70-859d-46e1-b485-c4702ee43e91"
   },
   "outputs": [
    {
     "name": "stdout",
     "output_type": "stream",
     "text": [
      "# users: 1895\n",
      "# users with at least 5 interactions: 1140\n"
     ]
    }
   ],
   "source": [
    "users_interactions_count_df = (\n",
    "    interactions_df\n",
    "    .groupby(['personId', 'contentId'])\n",
    "    .first()\n",
    "    .reset_index()\n",
    "    .groupby('personId').size())\n",
    "print('# users:', len(users_interactions_count_df))\n",
    "\n",
    "users_with_enough_interactions_df = \\\n",
    "    users_interactions_count_df[users_interactions_count_df >= 5].reset_index()[['personId']]\n",
    "print('# users with at least 5 interactions:',len(users_with_enough_interactions_df))"
   ]
  },
  {
   "cell_type": "markdown",
   "metadata": {
    "id": "gQagI3DHUuX5"
   },
   "source": [
    "Оставляем только те взаимодействия, которые относятся к отфильтрованным пользователям."
   ]
  },
  {
   "cell_type": "code",
   "execution_count": 10,
   "metadata": {
    "id": "34rrdGdpUFgk"
   },
   "outputs": [],
   "source": [
    "interactions_from_selected_users_df = interactions_df.loc[np.in1d(interactions_df.personId,\n",
    "            users_with_enough_interactions_df)]"
   ]
  },
  {
   "cell_type": "code",
   "execution_count": 11,
   "metadata": {
    "colab": {
     "base_uri": "https://localhost:8080/"
    },
    "id": "Hd3VS_BgU9HN",
    "outputId": "28851c67-bc65-4410-8b95-8cee6b3adec1"
   },
   "outputs": [
    {
     "name": "stdout",
     "output_type": "stream",
     "text": [
      "# interactions before: (72312, 9)\n",
      "# interactions after: (69868, 9)\n"
     ]
    }
   ],
   "source": [
    "print('# interactions before:', interactions_df.shape)\n",
    "print('# interactions after:', interactions_from_selected_users_df.shape)"
   ]
  },
  {
   "cell_type": "markdown",
   "metadata": {
    "id": "FYpRiFkQVR6B"
   },
   "source": [
    "Объединяем все взаимодействия пользователя по каждой статье и сглаживаем полученный результат, взяв от него логарифм."
   ]
  },
  {
   "cell_type": "code",
   "execution_count": 12,
   "metadata": {
    "colab": {
     "base_uri": "https://localhost:8080/",
     "height": 194
    },
    "id": "mtPtAehKVEUu",
    "outputId": "d9e89bfc-4ff3-4dc4-c2db-e3ad6c80fc2a"
   },
   "outputs": [
    {
     "data": {
      "text/html": [
       "<div>\n",
       "<style scoped>\n",
       "    .dataframe tbody tr th:only-of-type {\n",
       "        vertical-align: middle;\n",
       "    }\n",
       "\n",
       "    .dataframe tbody tr th {\n",
       "        vertical-align: top;\n",
       "    }\n",
       "\n",
       "    .dataframe thead th {\n",
       "        text-align: right;\n",
       "    }\n",
       "</style>\n",
       "<table border=\"1\" class=\"dataframe\">\n",
       "  <thead>\n",
       "    <tr style=\"text-align: right;\">\n",
       "      <th></th>\n",
       "      <th>personId</th>\n",
       "      <th>contentId</th>\n",
       "      <th>eventStrength</th>\n",
       "      <th>last_timestamp</th>\n",
       "    </tr>\n",
       "  </thead>\n",
       "  <tbody>\n",
       "    <tr>\n",
       "      <th>0</th>\n",
       "      <td>-1007001694607905623</td>\n",
       "      <td>-5065077552540450930</td>\n",
       "      <td>1.000000</td>\n",
       "      <td>1470395911</td>\n",
       "    </tr>\n",
       "    <tr>\n",
       "      <th>1</th>\n",
       "      <td>-1007001694607905623</td>\n",
       "      <td>-6623581327558800021</td>\n",
       "      <td>1.000000</td>\n",
       "      <td>1487240080</td>\n",
       "    </tr>\n",
       "    <tr>\n",
       "      <th>2</th>\n",
       "      <td>-1007001694607905623</td>\n",
       "      <td>-793729620925729327</td>\n",
       "      <td>1.000000</td>\n",
       "      <td>1472834892</td>\n",
       "    </tr>\n",
       "    <tr>\n",
       "      <th>3</th>\n",
       "      <td>-1007001694607905623</td>\n",
       "      <td>1469580151036142903</td>\n",
       "      <td>1.000000</td>\n",
       "      <td>1487240062</td>\n",
       "    </tr>\n",
       "    <tr>\n",
       "      <th>4</th>\n",
       "      <td>-1007001694607905623</td>\n",
       "      <td>7270966256391553686</td>\n",
       "      <td>1.584963</td>\n",
       "      <td>1485994324</td>\n",
       "    </tr>\n",
       "  </tbody>\n",
       "</table>\n",
       "</div>"
      ],
      "text/plain": [
       "               personId             contentId  eventStrength  last_timestamp\n",
       "0  -1007001694607905623  -5065077552540450930       1.000000      1470395911\n",
       "1  -1007001694607905623  -6623581327558800021       1.000000      1487240080\n",
       "2  -1007001694607905623   -793729620925729327       1.000000      1472834892\n",
       "3  -1007001694607905623   1469580151036142903       1.000000      1487240062\n",
       "4  -1007001694607905623   7270966256391553686       1.584963      1485994324"
      ]
     },
     "execution_count": 12,
     "metadata": {
      "tags": []
     },
     "output_type": "execute_result"
    }
   ],
   "source": [
    "def smooth_user_preference(x):\n",
    "    return math.log(1+x, 2)\n",
    "    \n",
    "interactions_full_df = (\n",
    "    interactions_from_selected_users_df\n",
    "    .groupby(['personId', 'contentId']).eventStrength.sum()\n",
    "    .apply(smooth_user_preference)\n",
    "    .reset_index().set_index(['personId', 'contentId'])\n",
    ")\n",
    "interactions_full_df['last_timestamp'] = (\n",
    "    interactions_from_selected_users_df\n",
    "    .groupby(['personId', 'contentId'])['timestamp'].last()\n",
    ")\n",
    "        \n",
    "interactions_full_df = interactions_full_df.reset_index()\n",
    "interactions_full_df.head(5)"
   ]
  },
  {
   "cell_type": "markdown",
   "metadata": {
    "id": "ODJYMtnNWM5w"
   },
   "source": [
    "Разобьём выборку на обучение и контроль по времени."
   ]
  },
  {
   "cell_type": "code",
   "execution_count": 13,
   "metadata": {
    "colab": {
     "base_uri": "https://localhost:8080/",
     "height": 435
    },
    "id": "3F2CfAwoVrfo",
    "outputId": "19e3966c-ee74-494e-f74b-a920da497bbc"
   },
   "outputs": [
    {
     "name": "stdout",
     "output_type": "stream",
     "text": [
      "# interactions on Train set: 29329\n",
      "# interactions on Test set: 9777\n"
     ]
    },
    {
     "data": {
      "text/html": [
       "<div>\n",
       "<style scoped>\n",
       "    .dataframe tbody tr th:only-of-type {\n",
       "        vertical-align: middle;\n",
       "    }\n",
       "\n",
       "    .dataframe tbody tr th {\n",
       "        vertical-align: top;\n",
       "    }\n",
       "\n",
       "    .dataframe thead th {\n",
       "        text-align: right;\n",
       "    }\n",
       "</style>\n",
       "<table border=\"1\" class=\"dataframe\">\n",
       "  <thead>\n",
       "    <tr style=\"text-align: right;\">\n",
       "      <th></th>\n",
       "      <th>personId</th>\n",
       "      <th>contentId</th>\n",
       "      <th>eventStrength</th>\n",
       "      <th>last_timestamp</th>\n",
       "    </tr>\n",
       "  </thead>\n",
       "  <tbody>\n",
       "    <tr>\n",
       "      <th>0</th>\n",
       "      <td>-1007001694607905623</td>\n",
       "      <td>-5065077552540450930</td>\n",
       "      <td>1.0</td>\n",
       "      <td>1470395911</td>\n",
       "    </tr>\n",
       "    <tr>\n",
       "      <th>2</th>\n",
       "      <td>-1007001694607905623</td>\n",
       "      <td>-793729620925729327</td>\n",
       "      <td>1.0</td>\n",
       "      <td>1472834892</td>\n",
       "    </tr>\n",
       "    <tr>\n",
       "      <th>6</th>\n",
       "      <td>-1032019229384696495</td>\n",
       "      <td>-1006791494035379303</td>\n",
       "      <td>1.0</td>\n",
       "      <td>1469129122</td>\n",
       "    </tr>\n",
       "    <tr>\n",
       "      <th>7</th>\n",
       "      <td>-1032019229384696495</td>\n",
       "      <td>-1039912738963181810</td>\n",
       "      <td>1.0</td>\n",
       "      <td>1459376415</td>\n",
       "    </tr>\n",
       "    <tr>\n",
       "      <th>8</th>\n",
       "      <td>-1032019229384696495</td>\n",
       "      <td>-1081723567492738167</td>\n",
       "      <td>2.0</td>\n",
       "      <td>1464054093</td>\n",
       "    </tr>\n",
       "    <tr>\n",
       "      <th>...</th>\n",
       "      <td>...</td>\n",
       "      <td>...</td>\n",
       "      <td>...</td>\n",
       "      <td>...</td>\n",
       "    </tr>\n",
       "    <tr>\n",
       "      <th>39099</th>\n",
       "      <td>997469202936578234</td>\n",
       "      <td>9112765177685685246</td>\n",
       "      <td>2.0</td>\n",
       "      <td>1472479493</td>\n",
       "    </tr>\n",
       "    <tr>\n",
       "      <th>39100</th>\n",
       "      <td>998688566268269815</td>\n",
       "      <td>-1255189867397298842</td>\n",
       "      <td>1.0</td>\n",
       "      <td>1474567164</td>\n",
       "    </tr>\n",
       "    <tr>\n",
       "      <th>39101</th>\n",
       "      <td>998688566268269815</td>\n",
       "      <td>-401664538366009049</td>\n",
       "      <td>1.0</td>\n",
       "      <td>1474567449</td>\n",
       "    </tr>\n",
       "    <tr>\n",
       "      <th>39103</th>\n",
       "      <td>998688566268269815</td>\n",
       "      <td>6881796783400625893</td>\n",
       "      <td>1.0</td>\n",
       "      <td>1474567675</td>\n",
       "    </tr>\n",
       "    <tr>\n",
       "      <th>39105</th>\n",
       "      <td>998688566268269815</td>\n",
       "      <td>739747367187387064</td>\n",
       "      <td>1.0</td>\n",
       "      <td>1474567514</td>\n",
       "    </tr>\n",
       "  </tbody>\n",
       "</table>\n",
       "<p>29329 rows × 4 columns</p>\n",
       "</div>"
      ],
      "text/plain": [
       "                   personId  ... last_timestamp\n",
       "0      -1007001694607905623  ...     1470395911\n",
       "2      -1007001694607905623  ...     1472834892\n",
       "6      -1032019229384696495  ...     1469129122\n",
       "7      -1032019229384696495  ...     1459376415\n",
       "8      -1032019229384696495  ...     1464054093\n",
       "...                     ...  ...            ...\n",
       "39099    997469202936578234  ...     1472479493\n",
       "39100    998688566268269815  ...     1474567164\n",
       "39101    998688566268269815  ...     1474567449\n",
       "39103    998688566268269815  ...     1474567675\n",
       "39105    998688566268269815  ...     1474567514\n",
       "\n",
       "[29329 rows x 4 columns]"
      ]
     },
     "execution_count": 13,
     "metadata": {
      "tags": []
     },
     "output_type": "execute_result"
    }
   ],
   "source": [
    "from sklearn.model_selection import train_test_split\n",
    "\n",
    "split_ts = 1475519530\n",
    "interactions_train_df = interactions_full_df.loc[interactions_full_df.last_timestamp < split_ts].copy()\n",
    "interactions_test_df = interactions_full_df.loc[interactions_full_df.last_timestamp >= split_ts].copy()\n",
    "\n",
    "print('# interactions on Train set: %d' % len(interactions_train_df))\n",
    "print('# interactions on Test set: %d' % len(interactions_test_df))\n",
    "\n",
    "interactions_train_df"
   ]
  },
  {
   "cell_type": "markdown",
   "metadata": {
    "id": "h5G3FTYOXLVg"
   },
   "source": [
    "Для удобства подсчёта качества запишем данные в формате, где строка соответствует пользователю, а столбцы будут истинными метками и предсказаниями в виде списков."
   ]
  },
  {
   "cell_type": "code",
   "execution_count": 14,
   "metadata": {
    "colab": {
     "base_uri": "https://localhost:8080/",
     "height": 106
    },
    "id": "RT-_toqfXOa2",
    "outputId": "5d1df358-8df8-461b-bcd2-fc988d1122ed"
   },
   "outputs": [
    {
     "data": {
      "text/html": [
       "<div>\n",
       "<style scoped>\n",
       "    .dataframe tbody tr th:only-of-type {\n",
       "        vertical-align: middle;\n",
       "    }\n",
       "\n",
       "    .dataframe tbody tr th {\n",
       "        vertical-align: top;\n",
       "    }\n",
       "\n",
       "    .dataframe thead th {\n",
       "        text-align: right;\n",
       "    }\n",
       "</style>\n",
       "<table border=\"1\" class=\"dataframe\">\n",
       "  <thead>\n",
       "    <tr style=\"text-align: right;\">\n",
       "      <th></th>\n",
       "      <th>true_train</th>\n",
       "      <th>true_test</th>\n",
       "    </tr>\n",
       "    <tr>\n",
       "      <th>personId</th>\n",
       "      <th></th>\n",
       "      <th></th>\n",
       "    </tr>\n",
       "  </thead>\n",
       "  <tbody>\n",
       "    <tr>\n",
       "      <th>-1007001694607905623</th>\n",
       "      <td>[-5065077552540450930, -793729620925729327]</td>\n",
       "      <td>[-6623581327558800021, 1469580151036142903, 72...</td>\n",
       "    </tr>\n",
       "  </tbody>\n",
       "</table>\n",
       "</div>"
      ],
      "text/plain": [
       "                                                       true_train                                          true_test\n",
       "personId                                                                                                            \n",
       "-1007001694607905623  [-5065077552540450930, -793729620925729327]  [-6623581327558800021, 1469580151036142903, 72..."
      ]
     },
     "execution_count": 14,
     "metadata": {
      "tags": []
     },
     "output_type": "execute_result"
    }
   ],
   "source": [
    "interactions = (\n",
    "    interactions_train_df\n",
    "    .groupby('personId')['contentId'].agg(lambda x: list(x))\n",
    "    .reset_index()\n",
    "    .rename(columns={'contentId': 'true_train'})\n",
    "    .set_index('personId')\n",
    ")\n",
    "\n",
    "interactions['true_test'] = (\n",
    "    interactions_test_df\n",
    "    .groupby('personId')['contentId'].agg(lambda x: list(x))\n",
    ")\n",
    "\n",
    "# заполнение пропусков пустыми списками\n",
    "interactions.loc[pd.isnull(interactions.true_test), 'true_test'] = [\n",
    "    list() for x in range(len(interactions.loc[pd.isnull(interactions.true_test), 'true_test']))]\n",
    "\n",
    "interactions.head(1)"
   ]
  },
  {
   "cell_type": "markdown",
   "metadata": {
    "id": "-UWDyWKsamSa"
   },
   "source": [
    "## Библиотека LightFM"
   ]
  },
  {
   "cell_type": "markdown",
   "metadata": {
    "id": "L-iXjvdZa25Z"
   },
   "source": [
    "Для рекомендации Вы будете пользоваться библиотекой [LightFM](https://making.lyst.com/lightfm/docs/home.html), в которой реализованы популярные алгоритмы. Для оценивания качества рекомендации, как и на семинаре, будем пользоваться метрикой *precision@10*."
   ]
  },
  {
   "cell_type": "code",
   "execution_count": 30,
   "metadata": {
    "colab": {
     "base_uri": "https://localhost:8080/"
    },
    "id": "Qtyn38PZXPLf",
    "outputId": "11b29da2-a0b7-491a-97b7-3235615a9004"
   },
   "outputs": [
    {
     "name": "stdout",
     "output_type": "stream",
     "text": [
      "Collecting lightfm\n",
      "\u001b[?25l  Downloading https://files.pythonhosted.org/packages/5e/fe/8864d723daa8e5afc74080ce510c30f7ad52facf6a157d4b42dec83dfab4/lightfm-1.16.tar.gz (310kB)\n",
      "\u001b[K     |████████████████████████████████| 317kB 4.3MB/s \n",
      "\u001b[?25hRequirement already satisfied: numpy in /usr/local/lib/python3.7/dist-packages (from lightfm) (1.19.5)\n",
      "Requirement already satisfied: scipy>=0.17.0 in /usr/local/lib/python3.7/dist-packages (from lightfm) (1.4.1)\n",
      "Requirement already satisfied: requests in /usr/local/lib/python3.7/dist-packages (from lightfm) (2.23.0)\n",
      "Requirement already satisfied: scikit-learn in /usr/local/lib/python3.7/dist-packages (from lightfm) (0.22.2.post1)\n",
      "Requirement already satisfied: urllib3!=1.25.0,!=1.25.1,<1.26,>=1.21.1 in /usr/local/lib/python3.7/dist-packages (from requests->lightfm) (1.24.3)\n",
      "Requirement already satisfied: chardet<4,>=3.0.2 in /usr/local/lib/python3.7/dist-packages (from requests->lightfm) (3.0.4)\n",
      "Requirement already satisfied: certifi>=2017.4.17 in /usr/local/lib/python3.7/dist-packages (from requests->lightfm) (2020.12.5)\n",
      "Requirement already satisfied: idna<3,>=2.5 in /usr/local/lib/python3.7/dist-packages (from requests->lightfm) (2.10)\n",
      "Requirement already satisfied: joblib>=0.11 in /usr/local/lib/python3.7/dist-packages (from scikit-learn->lightfm) (1.0.1)\n",
      "Building wheels for collected packages: lightfm\n",
      "  Building wheel for lightfm (setup.py) ... \u001b[?25l\u001b[?25hdone\n",
      "  Created wheel for lightfm: filename=lightfm-1.16-cp37-cp37m-linux_x86_64.whl size=705354 sha256=a25f4c91dbe57302a37d078fc3869b722a19aae91e6acbe43d84194cc31731c6\n",
      "  Stored in directory: /root/.cache/pip/wheels/c6/64/d4/673c7277f71ac4c5ad4835b94708c01b653ef2d3aa78ef20aa\n",
      "Successfully built lightfm\n",
      "Installing collected packages: lightfm\n",
      "Successfully installed lightfm-1.16\n"
     ]
    }
   ],
   "source": [
    "!pip install lightfm\n",
    "from lightfm import LightFM\n",
    "from lightfm.evaluation import precision_at_k"
   ]
  },
  {
   "cell_type": "markdown",
   "metadata": {
    "id": "0CjyGqulcZTf"
   },
   "source": [
    "## Задание 1. (2 балла)"
   ]
  },
  {
   "cell_type": "markdown",
   "metadata": {
    "id": "4Sof6V5Dd4h9"
   },
   "source": [
    "Модели в LightFM работают с разреженными матрицами. Создайте разреженные матрицы `data_train` и `data_test` (размером количество пользователей на количество статей), такие что на пересечении строки пользователя и столбца статьи стоит сила их взаимодействия, если взаимодействие было, и стоит ноль, если взаимодействия не было."
   ]
  },
  {
   "cell_type": "code",
   "execution_count": 45,
   "metadata": {
    "id": "MpKngUy1w4Qx"
   },
   "outputs": [],
   "source": [
    "from scipy.sparse import csr_matrix\n",
    "from lightfm.data import Dataset"
   ]
  },
  {
   "cell_type": "code",
   "execution_count": null,
   "metadata": {
    "id": "1cLZ5ga4eIdg"
   },
   "outputs": [],
   "source": [
    "# Ваш код здесь\n",
    "# data_train = csr_matrix(pd.pivot_table(\n",
    "#     interactions_train_df,\n",
    "#     values='eventStrength',\n",
    "#     index='personId',\n",
    "#     columns='contentId').fillna(0))\n",
    "\n",
    "# data_test = csr_matrix(pd.pivot_table(\n",
    "#     interactions_test_df,\n",
    "#     values='eventStrength',\n",
    "#     index='personId',\n",
    "#     columns='contentId').fillna(0))"
   ]
  },
  {
   "cell_type": "code",
   "execution_count": null,
   "metadata": {
    "id": "MKyniTwRFRZD"
   },
   "outputs": [],
   "source": [
    "# data_train"
   ]
  },
  {
   "cell_type": "code",
   "execution_count": null,
   "metadata": {
    "id": "ECrcvt8NxZy4"
   },
   "outputs": [],
   "source": [
    "# data_test"
   ]
  },
  {
   "cell_type": "markdown",
   "metadata": {
    "id": "EThccVy9HHXa"
   },
   "source": [
    "Ранее была ошибка: Incorrect number of features in item_features в случае, если создавал разреженные матрицы путем выше."
   ]
  },
  {
   "cell_type": "markdown",
   "metadata": {
    "id": "a2Ng_v2QHfY2"
   },
   "source": [
    "Пошел другим путем с помощью этого: https://stackoverflow.com/questions/51144061/how-to-create-a-sparsematrix-from-dataframe-in-a-specific-format"
   ]
  },
  {
   "cell_type": "code",
   "execution_count": 32,
   "metadata": {
    "id": "-FEpIbVJAS2X"
   },
   "outputs": [],
   "source": [
    "data = Dataset()\n",
    "data.fit(interactions_full_df.personId.unique(), interactions_full_df.contentId.unique())\n",
    "interactions_matrix_train, weights_matrix_train = data.build_interactions([tuple(i) for i in interactions_train_df.drop(['last_timestamp'], axis=1).values])\n",
    "interactions_matrix_test, weights_matrix_test = data.build_interactions([tuple(i) for i in interactions_test_df.drop(['last_timestamp'], axis=1).values])"
   ]
  },
  {
   "cell_type": "code",
   "execution_count": null,
   "metadata": {
    "colab": {
     "base_uri": "https://localhost:8080/"
    },
    "id": "EtO0SEHuyhUv",
    "outputId": "b9b4407c-ec7d-4889-da51-dfdff976db7f"
   },
   "outputs": [
    {
     "data": {
      "text/plain": [
       "<1140x2984 sparse matrix of type '<class 'numpy.int32'>'\n",
       "\twith 29329 stored elements in COOrdinate format>"
      ]
     },
     "execution_count": 19,
     "metadata": {
      "tags": []
     },
     "output_type": "execute_result"
    }
   ],
   "source": [
    "interactions_matrix_train"
   ]
  },
  {
   "cell_type": "code",
   "execution_count": null,
   "metadata": {
    "colab": {
     "base_uri": "https://localhost:8080/"
    },
    "id": "cPRMDkwFGIk1",
    "outputId": "6520b02e-03c2-4bf7-b869-fedf49d901e7"
   },
   "outputs": [
    {
     "data": {
      "text/plain": [
       "<1140x2984 sparse matrix of type '<class 'numpy.int32'>'\n",
       "\twith 9777 stored elements in COOrdinate format>"
      ]
     },
     "execution_count": 20,
     "metadata": {
      "tags": []
     },
     "output_type": "execute_result"
    }
   ],
   "source": [
    "interactions_matrix_test"
   ]
  },
  {
   "cell_type": "markdown",
   "metadata": {
    "id": "AiNGVzTveRXE"
   },
   "source": [
    "## Задание 2. (1 балл)"
   ]
  },
  {
   "cell_type": "markdown",
   "metadata": {
    "id": "ZPfVK3STeryM"
   },
   "source": [
    "Обучите модель LightFM с `loss='warp'` и посчитайте *precision@10* на тесте."
   ]
  },
  {
   "cell_type": "code",
   "execution_count": null,
   "metadata": {
    "colab": {
     "base_uri": "https://localhost:8080/"
    },
    "id": "YFQxeHw8eVLz",
    "outputId": "fe3fe260-b74a-476d-82bf-7782b0d597ac"
   },
   "outputs": [
    {
     "data": {
      "text/plain": [
       "<lightfm.lightfm.LightFM at 0x7f25f4fee910>"
      ]
     },
     "execution_count": 21,
     "metadata": {
      "tags": []
     },
     "output_type": "execute_result"
    }
   ],
   "source": [
    "# Ваш код здесь\n",
    "lfm = LightFM(loss='warp', random_state=7, k=10)\n",
    "lfm.fit(interactions=interactions_matrix_train, sample_weight=weights_matrix_train)"
   ]
  },
  {
   "cell_type": "code",
   "execution_count": null,
   "metadata": {
    "colab": {
     "base_uri": "https://localhost:8080/"
    },
    "id": "ap_10K5LwYOe",
    "outputId": "3e643855-287c-4dc9-ae5d-2c328923a425"
   },
   "outputs": [
    {
     "name": "stdout",
     "output_type": "stream",
     "text": [
      "precision@10 на тесте: 0.0032586557790637016\n"
     ]
    }
   ],
   "source": [
    "precision_at_10 = precision_at_k(model=lfm, test_interactions=interactions_matrix_test, k=10).mean()\n",
    "print(f'precision@10 на тесте: {precision_at_10}')"
   ]
  },
  {
   "cell_type": "markdown",
   "metadata": {
    "id": "qZDsG1iAfdrl"
   },
   "source": [
    "## Задание 3. (3 балла)"
   ]
  },
  {
   "cell_type": "markdown",
   "metadata": {
    "id": "F93chvtbgA9N"
   },
   "source": [
    "При вызове метода `fit` LightFM позволяет передавать в `item_features` признаковое описание объектов. Воспользуемся этим. Будем получать признаковое описание из текста статьи в виде [TF-IDF](https://ru.wikipedia.org/wiki/TF-IDF) (можно воспользоваться `TfidfVectorizer` из scikit-learn). Создайте матрицу `feat` размером количество статей на размер признакового описание и обучите LightFM с `loss='warp'` и посчитайте precision@10 на тесте."
   ]
  },
  {
   "cell_type": "code",
   "execution_count": null,
   "metadata": {
    "colab": {
     "base_uri": "https://localhost:8080/",
     "height": 379
    },
    "id": "wy_t5j-VXkmR",
    "outputId": "88924e03-8204-42ab-fd1a-0605e71d68f8"
   },
   "outputs": [
    {
     "data": {
      "text/html": [
       "<div>\n",
       "<style scoped>\n",
       "    .dataframe tbody tr th:only-of-type {\n",
       "        vertical-align: middle;\n",
       "    }\n",
       "\n",
       "    .dataframe tbody tr th {\n",
       "        vertical-align: top;\n",
       "    }\n",
       "\n",
       "    .dataframe thead th {\n",
       "        text-align: right;\n",
       "    }\n",
       "</style>\n",
       "<table border=\"1\" class=\"dataframe\">\n",
       "  <thead>\n",
       "    <tr style=\"text-align: right;\">\n",
       "      <th></th>\n",
       "      <th>timestamp</th>\n",
       "      <th>eventType</th>\n",
       "      <th>contentId</th>\n",
       "      <th>authorPersonId</th>\n",
       "      <th>authorSessionId</th>\n",
       "      <th>authorUserAgent</th>\n",
       "      <th>authorRegion</th>\n",
       "      <th>authorCountry</th>\n",
       "      <th>contentType</th>\n",
       "      <th>url</th>\n",
       "      <th>title</th>\n",
       "      <th>text</th>\n",
       "      <th>lang</th>\n",
       "    </tr>\n",
       "  </thead>\n",
       "  <tbody>\n",
       "    <tr>\n",
       "      <th>1</th>\n",
       "      <td>1459193988</td>\n",
       "      <td>CONTENT SHARED</td>\n",
       "      <td>-4110354420726924665</td>\n",
       "      <td>4340306774493623681</td>\n",
       "      <td>8940341205206233829</td>\n",
       "      <td>NaN</td>\n",
       "      <td>NaN</td>\n",
       "      <td>NaN</td>\n",
       "      <td>HTML</td>\n",
       "      <td>http://www.nytimes.com/2016/03/28/business/dea...</td>\n",
       "      <td>Ethereum, a Virtual Currency, Enables Transact...</td>\n",
       "      <td>All of this work is still very early. The firs...</td>\n",
       "      <td>en</td>\n",
       "    </tr>\n",
       "    <tr>\n",
       "      <th>2</th>\n",
       "      <td>1459194146</td>\n",
       "      <td>CONTENT SHARED</td>\n",
       "      <td>-7292285110016212249</td>\n",
       "      <td>4340306774493623681</td>\n",
       "      <td>8940341205206233829</td>\n",
       "      <td>NaN</td>\n",
       "      <td>NaN</td>\n",
       "      <td>NaN</td>\n",
       "      <td>HTML</td>\n",
       "      <td>http://cointelegraph.com/news/bitcoin-future-w...</td>\n",
       "      <td>Bitcoin Future: When GBPcoin of Branson Wins O...</td>\n",
       "      <td>The alarm clock wakes me at 8:00 with stream o...</td>\n",
       "      <td>en</td>\n",
       "    </tr>\n",
       "  </tbody>\n",
       "</table>\n",
       "</div>"
      ],
      "text/plain": [
       "    timestamp  ... lang\n",
       "1  1459193988  ...   en\n",
       "2  1459194146  ...   en\n",
       "\n",
       "[2 rows x 13 columns]"
      ]
     },
     "execution_count": 23,
     "metadata": {
      "tags": []
     },
     "output_type": "execute_result"
    }
   ],
   "source": [
    "articles_df.head(2)"
   ]
  },
  {
   "cell_type": "code",
   "execution_count": 37,
   "metadata": {
    "colab": {
     "base_uri": "https://localhost:8080/"
    },
    "id": "19Dy2Y8TWOVg",
    "outputId": "b30342fb-67d5-4bc5-c98c-e99bee4b2510"
   },
   "outputs": [
    {
     "name": "stdout",
     "output_type": "stream",
     "text": [
      "[nltk_data] Downloading package punkt to /root/nltk_data...\n",
      "[nltk_data]   Unzipping tokenizers/punkt.zip.\n",
      "[nltk_data] Downloading package wordnet to /root/nltk_data...\n",
      "[nltk_data]   Unzipping corpora/wordnet.zip.\n",
      "[nltk_data] Downloading package stopwords to /root/nltk_data...\n",
      "[nltk_data]   Unzipping corpora/stopwords.zip.\n"
     ]
    }
   ],
   "source": [
    "import nltk\n",
    "nltk.download('punkt')\n",
    "from nltk.tokenize import word_tokenize\n",
    "from sklearn.feature_extraction.text import TfidfVectorizer\n",
    "nltk.download('wordnet')\n",
    "nltk.download('stopwords')\n",
    "from nltk.stem import WordNetLemmatizer \n",
    "from nltk.corpus import stopwords\n",
    "import string"
   ]
  },
  {
   "cell_type": "code",
   "execution_count": 38,
   "metadata": {
    "id": "nKK4I--yYCIZ"
   },
   "outputs": [],
   "source": [
    "def tokenize_text(text):\n",
    "    return word_tokenize(text)"
   ]
  },
  {
   "cell_type": "code",
   "execution_count": 39,
   "metadata": {
    "colab": {
     "base_uri": "https://localhost:8080/",
     "height": 399
    },
    "id": "ROeIWce4aKbS",
    "outputId": "14efb00a-aa2b-44bf-d9f4-4ad617952386"
   },
   "outputs": [
    {
     "data": {
      "text/html": [
       "<div>\n",
       "<style scoped>\n",
       "    .dataframe tbody tr th:only-of-type {\n",
       "        vertical-align: middle;\n",
       "    }\n",
       "\n",
       "    .dataframe tbody tr th {\n",
       "        vertical-align: top;\n",
       "    }\n",
       "\n",
       "    .dataframe thead th {\n",
       "        text-align: right;\n",
       "    }\n",
       "</style>\n",
       "<table border=\"1\" class=\"dataframe\">\n",
       "  <thead>\n",
       "    <tr style=\"text-align: right;\">\n",
       "      <th></th>\n",
       "      <th>contentId</th>\n",
       "      <th>text</th>\n",
       "    </tr>\n",
       "  </thead>\n",
       "  <tbody>\n",
       "    <tr>\n",
       "      <th>0</th>\n",
       "      <td>-4110354420726924665</td>\n",
       "      <td>All of this work is still very early. The firs...</td>\n",
       "    </tr>\n",
       "    <tr>\n",
       "      <th>1</th>\n",
       "      <td>-7292285110016212249</td>\n",
       "      <td>The alarm clock wakes me at 8:00 with stream o...</td>\n",
       "    </tr>\n",
       "    <tr>\n",
       "      <th>2</th>\n",
       "      <td>-6151852268067518688</td>\n",
       "      <td>We're excited to share the Google Data Center ...</td>\n",
       "    </tr>\n",
       "    <tr>\n",
       "      <th>3</th>\n",
       "      <td>2448026894306402386</td>\n",
       "      <td>The Aite Group projects the blockchain market ...</td>\n",
       "    </tr>\n",
       "    <tr>\n",
       "      <th>4</th>\n",
       "      <td>-2826566343807132236</td>\n",
       "      <td>One of the largest and oldest organizations fo...</td>\n",
       "    </tr>\n",
       "    <tr>\n",
       "      <th>...</th>\n",
       "      <td>...</td>\n",
       "      <td>...</td>\n",
       "    </tr>\n",
       "    <tr>\n",
       "      <th>3042</th>\n",
       "      <td>9213260650272029784</td>\n",
       "      <td>A Liga Ventures, aceleradora de startups espec...</td>\n",
       "    </tr>\n",
       "    <tr>\n",
       "      <th>3043</th>\n",
       "      <td>-3295913657316686039</td>\n",
       "      <td>Amazon has launched Chime, a video conferencin...</td>\n",
       "    </tr>\n",
       "    <tr>\n",
       "      <th>3044</th>\n",
       "      <td>3618271604906293310</td>\n",
       "      <td>February 9, 2017 - We begin each year with a l...</td>\n",
       "    </tr>\n",
       "    <tr>\n",
       "      <th>3045</th>\n",
       "      <td>6607431762270322325</td>\n",
       "      <td>At JPMorgan Chase &amp; Co., a learning machine is...</td>\n",
       "    </tr>\n",
       "    <tr>\n",
       "      <th>3046</th>\n",
       "      <td>4109618890343020064</td>\n",
       "      <td>The Acquia Partner Awards Program is comprised...</td>\n",
       "    </tr>\n",
       "  </tbody>\n",
       "</table>\n",
       "<p>3047 rows × 2 columns</p>\n",
       "</div>"
      ],
      "text/plain": [
       "                 contentId                                               text\n",
       "0     -4110354420726924665  All of this work is still very early. The firs...\n",
       "1     -7292285110016212249  The alarm clock wakes me at 8:00 with stream o...\n",
       "2     -6151852268067518688  We're excited to share the Google Data Center ...\n",
       "3      2448026894306402386  The Aite Group projects the blockchain market ...\n",
       "4     -2826566343807132236  One of the largest and oldest organizations fo...\n",
       "...                    ...                                                ...\n",
       "3042   9213260650272029784  A Liga Ventures, aceleradora de startups espec...\n",
       "3043  -3295913657316686039  Amazon has launched Chime, a video conferencin...\n",
       "3044   3618271604906293310  February 9, 2017 - We begin each year with a l...\n",
       "3045   6607431762270322325  At JPMorgan Chase & Co., a learning machine is...\n",
       "3046   4109618890343020064  The Acquia Partner Awards Program is comprised...\n",
       "\n",
       "[3047 rows x 2 columns]"
      ]
     },
     "execution_count": 39,
     "metadata": {
      "tags": []
     },
     "output_type": "execute_result"
    }
   ],
   "source": [
    "articles_df_unique = articles_df[['contentId', 'text']].drop_duplicates(ignore_index=True)\n",
    "articles_df_unique"
   ]
  },
  {
   "cell_type": "code",
   "execution_count": 40,
   "metadata": {
    "colab": {
     "base_uri": "https://localhost:8080/"
    },
    "id": "7h-QsVQVbkzA",
    "outputId": "3c9b4606-85ee-4524-f7d8-da7982db5e33"
   },
   "outputs": [
    {
     "data": {
      "text/plain": [
       "True"
      ]
     },
     "execution_count": 40,
     "metadata": {
      "tags": []
     },
     "output_type": "execute_result"
    }
   ],
   "source": [
    "articles_df_unique.contentId.count() == articles_df_unique.contentId.nunique() # Проверка на то, что в столбце contentId точно находятся уникальные значения"
   ]
  },
  {
   "cell_type": "code",
   "execution_count": 41,
   "metadata": {
    "colab": {
     "base_uri": "https://localhost:8080/",
     "height": 106
    },
    "id": "5SvUi_Fofgf5",
    "outputId": "eade58ce-e039-4a19-fadd-567bd14aca4a"
   },
   "outputs": [
    {
     "data": {
      "text/html": [
       "<div>\n",
       "<style scoped>\n",
       "    .dataframe tbody tr th:only-of-type {\n",
       "        vertical-align: middle;\n",
       "    }\n",
       "\n",
       "    .dataframe tbody tr th {\n",
       "        vertical-align: top;\n",
       "    }\n",
       "\n",
       "    .dataframe thead th {\n",
       "        text-align: right;\n",
       "    }\n",
       "</style>\n",
       "<table border=\"1\" class=\"dataframe\">\n",
       "  <thead>\n",
       "    <tr style=\"text-align: right;\">\n",
       "      <th></th>\n",
       "      <th>contentId</th>\n",
       "      <th>text</th>\n",
       "      <th>text_tokenize</th>\n",
       "    </tr>\n",
       "  </thead>\n",
       "  <tbody>\n",
       "    <tr>\n",
       "      <th>0</th>\n",
       "      <td>-4110354420726924665</td>\n",
       "      <td>All of this work is still very early. The firs...</td>\n",
       "      <td>[All, of, this, work, is, still, very, early, ...</td>\n",
       "    </tr>\n",
       "    <tr>\n",
       "      <th>1</th>\n",
       "      <td>-7292285110016212249</td>\n",
       "      <td>The alarm clock wakes me at 8:00 with stream o...</td>\n",
       "      <td>[The, alarm, clock, wakes, me, at, 8:00, with,...</td>\n",
       "    </tr>\n",
       "  </tbody>\n",
       "</table>\n",
       "</div>"
      ],
      "text/plain": [
       "              contentId  ...                                      text_tokenize\n",
       "0  -4110354420726924665  ...  [All, of, this, work, is, still, very, early, ...\n",
       "1  -7292285110016212249  ...  [The, alarm, clock, wakes, me, at, 8:00, with,...\n",
       "\n",
       "[2 rows x 3 columns]"
      ]
     },
     "execution_count": 41,
     "metadata": {
      "tags": []
     },
     "output_type": "execute_result"
    }
   ],
   "source": [
    "# Ваш код здесь\n",
    "articles_df_unique['text_tokenize'] = articles_df_unique['text'].apply(tokenize_text)\n",
    "articles_df_unique.head(2)"
   ]
  },
  {
   "cell_type": "code",
   "execution_count": 42,
   "metadata": {
    "id": "0LnosofEc9Ud"
   },
   "outputs": [],
   "source": [
    "text = [' '.join(i) for i in articles_df_unique['text_tokenize']]"
   ]
  },
  {
   "cell_type": "code",
   "execution_count": 43,
   "metadata": {
    "id": "tfRqqbGhYJVP"
   },
   "outputs": [],
   "source": [
    "tfidf_vect = TfidfVectorizer()\n",
    "feat = tfidf_vect.fit_transform(text)"
   ]
  },
  {
   "cell_type": "code",
   "execution_count": 44,
   "metadata": {
    "colab": {
     "base_uri": "https://localhost:8080/"
    },
    "id": "qbIiInQ_wgZS",
    "outputId": "2d5230a6-5d94-4144-b18c-321756acac81"
   },
   "outputs": [
    {
     "data": {
      "text/plain": [
       "<3047x72603 sparse matrix of type '<class 'numpy.float64'>'\n",
       "\twith 1061708 stored elements in Compressed Sparse Row format>"
      ]
     },
     "execution_count": 44,
     "metadata": {
      "tags": []
     },
     "output_type": "execute_result"
    }
   ],
   "source": [
    "feat"
   ]
  },
  {
   "cell_type": "code",
   "execution_count": null,
   "metadata": {
    "colab": {
     "base_uri": "https://localhost:8080/"
    },
    "id": "V3CMo5xKdax5",
    "outputId": "b60e4728-7b8f-400a-adab-73ca1deb342e"
   },
   "outputs": [
    {
     "data": {
      "text/plain": [
       "<lightfm.lightfm.LightFM at 0x7f25e3ccc7d0>"
      ]
     },
     "execution_count": 31,
     "metadata": {
      "tags": []
     },
     "output_type": "execute_result"
    }
   ],
   "source": [
    "lfm_feat = LightFM(loss='warp', random_state=7, k=10)\n",
    "lfm_feat.fit(interactions=interactions_matrix_train, sample_weight=weights_matrix_train, item_features=feat)"
   ]
  },
  {
   "cell_type": "code",
   "execution_count": null,
   "metadata": {
    "colab": {
     "base_uri": "https://localhost:8080/"
    },
    "id": "6cvpSCK7dnYz",
    "outputId": "54be0fc1-723d-4f24-f5c6-24fc05fafcf8"
   },
   "outputs": [
    {
     "name": "stdout",
     "output_type": "stream",
     "text": [
      "precision@10 на тесте после добавления feat: 0.0022403260227292776\n"
     ]
    }
   ],
   "source": [
    "precision_at_10_feat = precision_at_k(model=lfm_feat, test_interactions=interactions_matrix_test, k=10, item_features=feat).mean()\n",
    "print(f'precision@10 на тесте после добавления feat: {precision_at_10_feat}')"
   ]
  },
  {
   "cell_type": "markdown",
   "metadata": {
    "id": "8Lwuex6PpsFw"
   },
   "source": [
    "## Задание 4. (2 балла)"
   ]
  },
  {
   "cell_type": "markdown",
   "metadata": {
    "id": "5aZcHjSzp2cZ"
   },
   "source": [
    "В задании 3 мы использовали сырой текст статей. В этом задании необходимо сначала сделать предобработку текста (привести к нижнему регистру, убрать стоп слова, привести слова к нормальной форме и т.д.), после чего обучите модель и оценить качество на тестовых данных."
   ]
  },
  {
   "cell_type": "code",
   "execution_count": null,
   "metadata": {
    "id": "HDSaOLiJpdGj"
   },
   "outputs": [],
   "source": [
    "# Ваш код здесь\n",
    "lemmatizer = WordNetLemmatizer()\n",
    "stop_words = set(stopwords.words('english'))\n",
    "\n",
    "def process_text(text):\n",
    "    return [lemmatizer.lemmatize(word) for word in word_tokenize(text.lower()) if (word not in string.punctuation) and (word not in stop_words)]"
   ]
  },
  {
   "cell_type": "code",
   "execution_count": null,
   "metadata": {
    "colab": {
     "base_uri": "https://localhost:8080/",
     "height": 106
    },
    "id": "2wTNRK5Bg-HD",
    "outputId": "676c008c-07c4-44a6-f68d-3ee0915ae422"
   },
   "outputs": [
    {
     "data": {
      "text/html": [
       "<div>\n",
       "<style scoped>\n",
       "    .dataframe tbody tr th:only-of-type {\n",
       "        vertical-align: middle;\n",
       "    }\n",
       "\n",
       "    .dataframe tbody tr th {\n",
       "        vertical-align: top;\n",
       "    }\n",
       "\n",
       "    .dataframe thead th {\n",
       "        text-align: right;\n",
       "    }\n",
       "</style>\n",
       "<table border=\"1\" class=\"dataframe\">\n",
       "  <thead>\n",
       "    <tr style=\"text-align: right;\">\n",
       "      <th></th>\n",
       "      <th>contentId</th>\n",
       "      <th>text</th>\n",
       "      <th>text_tokenize</th>\n",
       "      <th>text_process</th>\n",
       "    </tr>\n",
       "  </thead>\n",
       "  <tbody>\n",
       "    <tr>\n",
       "      <th>0</th>\n",
       "      <td>-4110354420726924665</td>\n",
       "      <td>All of this work is still very early. The firs...</td>\n",
       "      <td>[All, of, this, work, is, still, very, early, ...</td>\n",
       "      <td>[work, still, early, first, full, public, vers...</td>\n",
       "    </tr>\n",
       "    <tr>\n",
       "      <th>1</th>\n",
       "      <td>-7292285110016212249</td>\n",
       "      <td>The alarm clock wakes me at 8:00 with stream o...</td>\n",
       "      <td>[The, alarm, clock, wakes, me, at, 8:00, with,...</td>\n",
       "      <td>[alarm, clock, wake, 8:00, stream, advert-free...</td>\n",
       "    </tr>\n",
       "  </tbody>\n",
       "</table>\n",
       "</div>"
      ],
      "text/plain": [
       "              contentId  ...                                       text_process\n",
       "0  -4110354420726924665  ...  [work, still, early, first, full, public, vers...\n",
       "1  -7292285110016212249  ...  [alarm, clock, wake, 8:00, stream, advert-free...\n",
       "\n",
       "[2 rows x 4 columns]"
      ]
     },
     "execution_count": 34,
     "metadata": {
      "tags": []
     },
     "output_type": "execute_result"
    }
   ],
   "source": [
    "articles_df_unique['text_process'] = articles_df_unique['text'].apply(process_text)\n",
    "articles_df_unique.head(2)"
   ]
  },
  {
   "cell_type": "code",
   "execution_count": null,
   "metadata": {
    "id": "hUwwkF_ciiB-"
   },
   "outputs": [],
   "source": [
    "text_process = [' '.join(i) for i in articles_df_unique['text_process']]"
   ]
  },
  {
   "cell_type": "code",
   "execution_count": null,
   "metadata": {
    "id": "W0VK_uKmis5k"
   },
   "outputs": [],
   "source": [
    "tfidf_vect_process = TfidfVectorizer()\n",
    "feat_process = tfidf_vect_process.fit_transform(text_process)"
   ]
  },
  {
   "cell_type": "code",
   "execution_count": null,
   "metadata": {
    "colab": {
     "base_uri": "https://localhost:8080/"
    },
    "id": "eVCU9KRwhvxc",
    "outputId": "305838e0-3e08-40e4-fa1e-bf6445aec935"
   },
   "outputs": [
    {
     "data": {
      "text/plain": [
       "<lightfm.lightfm.LightFM at 0x7f25d70a9dd0>"
      ]
     },
     "execution_count": 61,
     "metadata": {
      "tags": []
     },
     "output_type": "execute_result"
    }
   ],
   "source": [
    "lfm_feat_process = LightFM(loss='warp', random_state=7, k=10)\n",
    "lfm_feat_process.fit(interactions=interactions_matrix_train, sample_weight=weights_matrix_train, item_features=feat_process)"
   ]
  },
  {
   "cell_type": "code",
   "execution_count": null,
   "metadata": {
    "colab": {
     "base_uri": "https://localhost:8080/"
    },
    "id": "PBMhUBkPi-MQ",
    "outputId": "e7b91f7d-1fad-4a45-931a-c3723e2e82d1"
   },
   "outputs": [
    {
     "name": "stdout",
     "output_type": "stream",
     "text": [
      "precision@10 на тесте после добавления feat и проведения process: 0.004175153095275164\n"
     ]
    }
   ],
   "source": [
    "precision_at_10_feat_process = precision_at_k(model=lfm_feat_process, test_interactions=interactions_matrix_test, k=10, item_features=feat_process).mean()\n",
    "print(f'precision@10 на тесте после добавления feat и проведения process: {precision_at_10_feat_process}')"
   ]
  },
  {
   "cell_type": "markdown",
   "metadata": {
    "id": "VgayAPRpqn7L"
   },
   "source": [
    "Улучшилось ли качество предсказания?"
   ]
  },
  {
   "cell_type": "markdown",
   "metadata": {
    "id": "N9W2XARVjP3D"
   },
   "source": [
    "Да, качество рекомендаций улучшилось!"
   ]
  },
  {
   "cell_type": "markdown",
   "metadata": {
    "id": "XKRzLLodq3gq"
   },
   "source": [
    "## Задание 5. (2 балла)"
   ]
  },
  {
   "cell_type": "markdown",
   "metadata": {
    "id": "brjHl49Aq8su"
   },
   "source": [
    "Подберите гиперпараметры модели LightFM (`no_components` и др.) для улучшения качества модели."
   ]
  },
  {
   "cell_type": "code",
   "execution_count": null,
   "metadata": {
    "id": "PlwaeCiZqncD"
   },
   "outputs": [],
   "source": [
    "# Ваш код здесь\n",
    "list_no_components = list(range(10, 80, 20))\n",
    "list_loss = ['logistic', 'bpr', 'warp']\n",
    "list_learning_rates = [0.05, 0.1, 0.3, 0.5, 0.8]"
   ]
  },
  {
   "cell_type": "code",
   "execution_count": null,
   "metadata": {
    "id": "FeCx_aVrnd2B"
   },
   "outputs": [],
   "source": [
    "precision_at_10_no_components = []\n",
    "for no_component in list_no_components:\n",
    "  lfm_feat_process = LightFM(loss='warp', random_state=7, k=10, no_components=no_component)\n",
    "  lfm_feat_process.fit(interactions=interactions_matrix_train, sample_weight=weights_matrix_train, item_features=feat_process)\n",
    "\n",
    "  precision_at_10_feat_process = precision_at_k(model=lfm_feat_process, test_interactions=interactions_matrix_test, k=10, item_features=feat_process).mean()\n",
    "  precision_at_10_no_components.append(precision_at_10_feat_process)"
   ]
  },
  {
   "cell_type": "code",
   "execution_count": null,
   "metadata": {
    "id": "NDBAUJYxxSJs"
   },
   "outputs": [],
   "source": [
    "import matplotlib.pyplot as plt\n",
    "import seaborn as sns"
   ]
  },
  {
   "cell_type": "code",
   "execution_count": null,
   "metadata": {
    "colab": {
     "base_uri": "https://localhost:8080/",
     "height": 513
    },
    "id": "VZrVLgazrbg5",
    "outputId": "efc000fe-4401-4c80-c881-c64aebeecc35"
   },
   "outputs": [
    {
     "data": {
      "image/png": "[encoded data removed]",
      "text/plain": [
       "<Figure size 1080x576 with 1 Axes>"
      ]
     },
     "metadata": {
      "needs_background": "light",
      "tags": []
     },
     "output_type": "display_data"
    }
   ],
   "source": [
    "fig, ax = plt.subplots(1, 1, figsize=(15, 8))\n",
    "sns.lineplot(x=list_no_components, y=precision_at_10_no_components)\n",
    "ax.set_title('no_components')\n",
    "ax.set_xlabel('component')\n",
    "ax.set_ylabel('precision_at_10')\n",
    "ax.grid()\n",
    "\n",
    "plt.show()"
   ]
  },
  {
   "cell_type": "code",
   "execution_count": null,
   "metadata": {
    "id": "bzKp1TEdxeHC"
   },
   "outputs": [],
   "source": [
    "precision_at_10_loss = []\n",
    "for loss in list_loss:\n",
    "  lfm_feat_process = LightFM(loss=loss, random_state=7, k=10, no_components=20)\n",
    "  lfm_feat_process.fit(interactions=interactions_matrix_train, sample_weight=weights_matrix_train, item_features=feat_process)\n",
    "\n",
    "  precision_at_10_feat_process = precision_at_k(model=lfm_feat_process, test_interactions=interactions_matrix_test, k=10, item_features=feat_process).mean()\n",
    "  precision_at_10_loss.append(precision_at_10_feat_process)"
   ]
  },
  {
   "cell_type": "code",
   "execution_count": null,
   "metadata": {
    "colab": {
     "base_uri": "https://localhost:8080/",
     "height": 514
    },
    "id": "KUllj877xt1x",
    "outputId": "4fe7a433-abdf-475b-f452-b407c501f9d4"
   },
   "outputs": [
    {
     "data": {
      "image/png": "[encoded data removed]",
      "text/plain": [
       "<Figure size 1080x576 with 1 Axes>"
      ]
     },
     "metadata": {
      "needs_background": "light",
      "tags": []
     },
     "output_type": "display_data"
    }
   ],
   "source": [
    "fig, ax = plt.subplots(1, 1, figsize=(15, 8))\n",
    "sns.lineplot(x=list_loss, y=precision_at_10_loss)\n",
    "ax.set_title('loss')\n",
    "ax.set_xlabel('loss_type')\n",
    "ax.set_ylabel('precision_at_10')\n",
    "ax.grid()\n",
    "\n",
    "plt.show()"
   ]
  },
  {
   "cell_type": "code",
   "execution_count": null,
   "metadata": {
    "id": "relOJId5yZ6U"
   },
   "outputs": [],
   "source": [
    "precision_at_10_learning_rates = []\n",
    "for learning_rate in list_learning_rates:\n",
    "  lfm_feat_process = LightFM(loss='warp', random_state=7, k=10, no_components=20, learning_rate=learning_rate)\n",
    "  lfm_feat_process.fit(interactions=interactions_matrix_train, sample_weight=weights_matrix_train, item_features=feat_process)\n",
    "\n",
    "  precision_at_10_feat_process = precision_at_k(model=lfm_feat_process, test_interactions=interactions_matrix_test, k=10, item_features=feat_process).mean()\n",
    "  precision_at_10_learning_rates.append(precision_at_10_feat_process)"
   ]
  },
  {
   "cell_type": "code",
   "execution_count": null,
   "metadata": {
    "colab": {
     "base_uri": "https://localhost:8080/",
     "height": 514
    },
    "id": "0JSMZrrXy29S",
    "outputId": "f5f3dbae-e1ad-41d4-bc49-998bbb7a1fa2"
   },
   "outputs": [
    {
     "data": {
      "image/png": "[encoded data removed]",
      "text/plain": [
       "<Figure size 1080x576 with 1 Axes>"
      ]
     },
     "metadata": {
      "needs_background": "light",
      "tags": []
     },
     "output_type": "display_data"
    }
   ],
   "source": [
    "fig, ax = plt.subplots(1, 1, figsize=(15, 8))\n",
    "sns.lineplot(x=list_learning_rates, y=precision_at_10_learning_rates)\n",
    "ax.set_title('learning_rates')\n",
    "ax.set_xlabel('learning_rate')\n",
    "ax.set_ylabel('precision_at_10')\n",
    "ax.grid()\n",
    "\n",
    "plt.show()"
   ]
  },
  {
   "cell_type": "markdown",
   "metadata": {
    "id": "oo25B9iD0We8"
   },
   "source": [
    "Финальная модель"
   ]
  },
  {
   "cell_type": "code",
   "execution_count": null,
   "metadata": {
    "colab": {
     "base_uri": "https://localhost:8080/"
    },
    "id": "EEVyKsOi0VGu",
    "outputId": "96bfcbc0-0c12-4dbe-b96d-cd033619eefc"
   },
   "outputs": [
    {
     "name": "stdout",
     "output_type": "stream",
     "text": [
      "precision@10 на тесте после оптимизации гиперпараметров: 0.00539714889600873\n"
     ]
    }
   ],
   "source": [
    "lfm_feat_process = LightFM(loss='warp', random_state=7, k=10, no_components=20, learning_rate=0.8)\n",
    "lfm_feat_process.fit(interactions=interactions_matrix_train, sample_weight=weights_matrix_train, item_features=feat_process)\n",
    "\n",
    "precision_at_10_feat_process = precision_at_k(model=lfm_feat_process, test_interactions=interactions_matrix_test, k=10, item_features=feat_process).mean()\n",
    "print(f'precision@10 на тесте после оптимизации гиперпараметров: {precision_at_10_feat_process}')"
   ]
  },
  {
   "cell_type": "markdown",
   "metadata": {
    "id": "xJA7v07NrYSF"
   },
   "source": [
    "## Бонусное задание. (3 балла)"
   ]
  },
  {
   "cell_type": "markdown",
   "metadata": {
    "id": "veLFUoVRrisk"
   },
   "source": [
    "Выше мы использовали достаточно простое представление текста статьи в виде TF-IDF. В этом задании Вам нужно представить текст статьи (можно вместе с заголовком) в виде эмбеддинга полученного с помощью рекуррентной сети или трансформера (можно использовать любую предобученную модель, которая Вам нравится). Обучите модель с ипользованием этих эмбеддингов и сравните результаты с предыдущими."
   ]
  },
  {
   "cell_type": "code",
   "execution_count": 1,
   "metadata": {
    "colab": {
     "base_uri": "https://localhost:8080/"
    },
    "id": "6v2eaPVRpH-N",
    "outputId": "7ece3465-9aae-4476-ac92-95d52ba67479"
   },
   "outputs": [
    {
     "name": "stdout",
     "output_type": "stream",
     "text": [
      "Collecting sentence-transformers\n",
      "\u001b[?25l  Downloading https://files.pythonhosted.org/packages/c4/87/49dc49e13ac107ce912c2f3f3fd92252c6d4221e88d1e6c16747044a11d8/sentence-transformers-1.1.0.tar.gz (78kB)\n",
      "\u001b[K     |████████████████████████████████| 81kB 3.5MB/s \n",
      "\u001b[?25hCollecting transformers<5.0.0,>=3.1.0\n",
      "\u001b[?25l  Downloading https://files.pythonhosted.org/packages/d8/b2/57495b5309f09fa501866e225c84532d1fd89536ea62406b2181933fb418/transformers-4.5.1-py3-none-any.whl (2.1MB)\n",
      "\u001b[K     |████████████████████████████████| 2.1MB 5.2MB/s \n",
      "\u001b[?25hRequirement already satisfied, skipping upgrade: tqdm in /usr/local/lib/python3.7/dist-packages (from sentence-transformers) (4.41.1)\n",
      "Requirement already satisfied, skipping upgrade: torch>=1.6.0 in /usr/local/lib/python3.7/dist-packages (from sentence-transformers) (1.8.1+cu101)\n",
      "Requirement already satisfied, skipping upgrade: numpy in /usr/local/lib/python3.7/dist-packages (from sentence-transformers) (1.19.5)\n",
      "Requirement already satisfied, skipping upgrade: scikit-learn in /usr/local/lib/python3.7/dist-packages (from sentence-transformers) (0.22.2.post1)\n",
      "Requirement already satisfied, skipping upgrade: scipy in /usr/local/lib/python3.7/dist-packages (from sentence-transformers) (1.4.1)\n",
      "Requirement already satisfied, skipping upgrade: nltk in /usr/local/lib/python3.7/dist-packages (from sentence-transformers) (3.2.5)\n",
      "Collecting sentencepiece\n",
      "\u001b[?25l  Downloading https://files.pythonhosted.org/packages/f5/99/e0808cb947ba10f575839c43e8fafc9cc44e4a7a2c8f79c60db48220a577/sentencepiece-0.1.95-cp37-cp37m-manylinux2014_x86_64.whl (1.2MB)\n",
      "\u001b[K     |████████████████████████████████| 1.2MB 18.1MB/s \n",
      "\u001b[?25hCollecting tokenizers<0.11,>=0.10.1\n",
      "\u001b[?25l  Downloading https://files.pythonhosted.org/packages/ae/04/5b870f26a858552025a62f1649c20d29d2672c02ff3c3fb4c688ca46467a/tokenizers-0.10.2-cp37-cp37m-manylinux2010_x86_64.whl (3.3MB)\n",
      "\u001b[K     |████████████████████████████████| 3.3MB 26.7MB/s \n",
      "\u001b[?25hCollecting sacremoses\n",
      "\u001b[?25l  Downloading https://files.pythonhosted.org/packages/75/ee/67241dc87f266093c533a2d4d3d69438e57d7a90abb216fa076e7d475d4a/sacremoses-0.0.45-py3-none-any.whl (895kB)\n",
      "\u001b[K     |████████████████████████████████| 901kB 36.2MB/s \n",
      "\u001b[?25hRequirement already satisfied, skipping upgrade: importlib-metadata; python_version < \"3.8\" in /usr/local/lib/python3.7/dist-packages (from transformers<5.0.0,>=3.1.0->sentence-transformers) (3.10.1)\n",
      "Requirement already satisfied, skipping upgrade: requests in /usr/local/lib/python3.7/dist-packages (from transformers<5.0.0,>=3.1.0->sentence-transformers) (2.23.0)\n",
      "Requirement already satisfied, skipping upgrade: regex!=2019.12.17 in /usr/local/lib/python3.7/dist-packages (from transformers<5.0.0,>=3.1.0->sentence-transformers) (2019.12.20)\n",
      "Requirement already satisfied, skipping upgrade: filelock in /usr/local/lib/python3.7/dist-packages (from transformers<5.0.0,>=3.1.0->sentence-transformers) (3.0.12)\n",
      "Requirement already satisfied, skipping upgrade: packaging in /usr/local/lib/python3.7/dist-packages (from transformers<5.0.0,>=3.1.0->sentence-transformers) (20.9)\n",
      "Requirement already satisfied, skipping upgrade: typing-extensions in /usr/local/lib/python3.7/dist-packages (from torch>=1.6.0->sentence-transformers) (3.7.4.3)\n",
      "Requirement already satisfied, skipping upgrade: joblib>=0.11 in /usr/local/lib/python3.7/dist-packages (from scikit-learn->sentence-transformers) (1.0.1)\n",
      "Requirement already satisfied, skipping upgrade: six in /usr/local/lib/python3.7/dist-packages (from nltk->sentence-transformers) (1.15.0)\n",
      "Requirement already satisfied, skipping upgrade: click in /usr/local/lib/python3.7/dist-packages (from sacremoses->transformers<5.0.0,>=3.1.0->sentence-transformers) (7.1.2)\n",
      "Requirement already satisfied, skipping upgrade: zipp>=0.5 in /usr/local/lib/python3.7/dist-packages (from importlib-metadata; python_version < \"3.8\"->transformers<5.0.0,>=3.1.0->sentence-transformers) (3.4.1)\n",
      "Requirement already satisfied, skipping upgrade: chardet<4,>=3.0.2 in /usr/local/lib/python3.7/dist-packages (from requests->transformers<5.0.0,>=3.1.0->sentence-transformers) (3.0.4)\n",
      "Requirement already satisfied, skipping upgrade: certifi>=2017.4.17 in /usr/local/lib/python3.7/dist-packages (from requests->transformers<5.0.0,>=3.1.0->sentence-transformers) (2020.12.5)\n",
      "Requirement already satisfied, skipping upgrade: urllib3!=1.25.0,!=1.25.1,<1.26,>=1.21.1 in /usr/local/lib/python3.7/dist-packages (from requests->transformers<5.0.0,>=3.1.0->sentence-transformers) (1.24.3)\n",
      "Requirement already satisfied, skipping upgrade: idna<3,>=2.5 in /usr/local/lib/python3.7/dist-packages (from requests->transformers<5.0.0,>=3.1.0->sentence-transformers) (2.10)\n",
      "Requirement already satisfied, skipping upgrade: pyparsing>=2.0.2 in /usr/local/lib/python3.7/dist-packages (from packaging->transformers<5.0.0,>=3.1.0->sentence-transformers) (2.4.7)\n",
      "Building wheels for collected packages: sentence-transformers\n",
      "  Building wheel for sentence-transformers (setup.py) ... \u001b[?25l\u001b[?25hdone\n",
      "  Created wheel for sentence-transformers: filename=sentence_transformers-1.1.0-cp37-none-any.whl size=119615 sha256=5410cd28644b77ee817b70aa08cb744ee6395ae74278ac5452a1c5d674bb69d1\n",
      "  Stored in directory: /root/.cache/pip/wheels/84/cb/21/1066bff3027215c760ca14a198f698bca8fccb92e33e2327eb\n",
      "Successfully built sentence-transformers\n",
      "Installing collected packages: tokenizers, sacremoses, transformers, sentencepiece, sentence-transformers\n",
      "Successfully installed sacremoses-0.0.45 sentence-transformers-1.1.0 sentencepiece-0.1.95 tokenizers-0.10.2 transformers-4.5.1\n"
     ]
    }
   ],
   "source": [
    "!pip install -U sentence-transformers"
   ]
  },
  {
   "cell_type": "code",
   "execution_count": 15,
   "metadata": {
    "colab": {
     "base_uri": "https://localhost:8080/",
     "height": 399
    },
    "id": "DB2RJ7cCp-65",
    "outputId": "4e0e5092-4eeb-4466-a2ba-6256e1f772ff"
   },
   "outputs": [
    {
     "data": {
      "text/html": [
       "<div>\n",
       "<style scoped>\n",
       "    .dataframe tbody tr th:only-of-type {\n",
       "        vertical-align: middle;\n",
       "    }\n",
       "\n",
       "    .dataframe tbody tr th {\n",
       "        vertical-align: top;\n",
       "    }\n",
       "\n",
       "    .dataframe thead th {\n",
       "        text-align: right;\n",
       "    }\n",
       "</style>\n",
       "<table border=\"1\" class=\"dataframe\">\n",
       "  <thead>\n",
       "    <tr style=\"text-align: right;\">\n",
       "      <th></th>\n",
       "      <th>contentId</th>\n",
       "      <th>title</th>\n",
       "      <th>text</th>\n",
       "    </tr>\n",
       "  </thead>\n",
       "  <tbody>\n",
       "    <tr>\n",
       "      <th>0</th>\n",
       "      <td>-4110354420726924665</td>\n",
       "      <td>Ethereum, a Virtual Currency, Enables Transact...</td>\n",
       "      <td>All of this work is still very early. The firs...</td>\n",
       "    </tr>\n",
       "    <tr>\n",
       "      <th>1</th>\n",
       "      <td>-7292285110016212249</td>\n",
       "      <td>Bitcoin Future: When GBPcoin of Branson Wins O...</td>\n",
       "      <td>The alarm clock wakes me at 8:00 with stream o...</td>\n",
       "    </tr>\n",
       "    <tr>\n",
       "      <th>2</th>\n",
       "      <td>-6151852268067518688</td>\n",
       "      <td>Google Data Center 360° Tour</td>\n",
       "      <td>We're excited to share the Google Data Center ...</td>\n",
       "    </tr>\n",
       "    <tr>\n",
       "      <th>3</th>\n",
       "      <td>2448026894306402386</td>\n",
       "      <td>IBM Wants to \"Evolve the Internet\" With Blockc...</td>\n",
       "      <td>The Aite Group projects the blockchain market ...</td>\n",
       "    </tr>\n",
       "    <tr>\n",
       "      <th>4</th>\n",
       "      <td>-2826566343807132236</td>\n",
       "      <td>IEEE to Talk Blockchain at Cloud Computing Oxf...</td>\n",
       "      <td>One of the largest and oldest organizations fo...</td>\n",
       "    </tr>\n",
       "    <tr>\n",
       "      <th>...</th>\n",
       "      <td>...</td>\n",
       "      <td>...</td>\n",
       "      <td>...</td>\n",
       "    </tr>\n",
       "    <tr>\n",
       "      <th>3042</th>\n",
       "      <td>9213260650272029784</td>\n",
       "      <td>Conheça a Liga IoT, plataforma de inovação abe...</td>\n",
       "      <td>A Liga Ventures, aceleradora de startups espec...</td>\n",
       "    </tr>\n",
       "    <tr>\n",
       "      <th>3043</th>\n",
       "      <td>-3295913657316686039</td>\n",
       "      <td>Amazon takes on Skype and GoToMeeting with its...</td>\n",
       "      <td>Amazon has launched Chime, a video conferencin...</td>\n",
       "    </tr>\n",
       "    <tr>\n",
       "      <th>3044</th>\n",
       "      <td>3618271604906293310</td>\n",
       "      <td>Code.org 2016 Annual Report</td>\n",
       "      <td>February 9, 2017 - We begin each year with a l...</td>\n",
       "    </tr>\n",
       "    <tr>\n",
       "      <th>3045</th>\n",
       "      <td>6607431762270322325</td>\n",
       "      <td>JPMorgan Software Does in Seconds What Took La...</td>\n",
       "      <td>At JPMorgan Chase &amp; Co., a learning machine is...</td>\n",
       "    </tr>\n",
       "    <tr>\n",
       "      <th>3046</th>\n",
       "      <td>4109618890343020064</td>\n",
       "      <td>The 2017 Acquia Partners of the Year</td>\n",
       "      <td>The Acquia Partner Awards Program is comprised...</td>\n",
       "    </tr>\n",
       "  </tbody>\n",
       "</table>\n",
       "<p>3047 rows × 3 columns</p>\n",
       "</div>"
      ],
      "text/plain": [
       "                 contentId  ...                                               text\n",
       "0     -4110354420726924665  ...  All of this work is still very early. The firs...\n",
       "1     -7292285110016212249  ...  The alarm clock wakes me at 8:00 with stream o...\n",
       "2     -6151852268067518688  ...  We're excited to share the Google Data Center ...\n",
       "3      2448026894306402386  ...  The Aite Group projects the blockchain market ...\n",
       "4     -2826566343807132236  ...  One of the largest and oldest organizations fo...\n",
       "...                    ...  ...                                                ...\n",
       "3042   9213260650272029784  ...  A Liga Ventures, aceleradora de startups espec...\n",
       "3043  -3295913657316686039  ...  Amazon has launched Chime, a video conferencin...\n",
       "3044   3618271604906293310  ...  February 9, 2017 - We begin each year with a l...\n",
       "3045   6607431762270322325  ...  At JPMorgan Chase & Co., a learning machine is...\n",
       "3046   4109618890343020064  ...  The Acquia Partner Awards Program is comprised...\n",
       "\n",
       "[3047 rows x 3 columns]"
      ]
     },
     "execution_count": 15,
     "metadata": {
      "tags": []
     },
     "output_type": "execute_result"
    }
   ],
   "source": [
    "articles_df_unique_title = articles_df[['contentId', 'title', 'text']].drop_duplicates(ignore_index=True)\n",
    "articles_df_unique_title"
   ]
  },
  {
   "cell_type": "code",
   "execution_count": 18,
   "metadata": {
    "colab": {
     "base_uri": "https://localhost:8080/"
    },
    "id": "cBgye8AQrCMs",
    "outputId": "db70f781-d9cc-4f9c-8b49-d9738bb46b9c"
   },
   "outputs": [
    {
     "data": {
      "text/plain": [
       "True"
      ]
     },
     "execution_count": 18,
     "metadata": {
      "tags": []
     },
     "output_type": "execute_result"
    }
   ],
   "source": [
    "articles_df_unique_title.contentId.count() == articles_df_unique_title.contentId.nunique() # Проверка на то, что в столбце contentId точно находятся уникальные значения"
   ]
  },
  {
   "cell_type": "code",
   "execution_count": 17,
   "metadata": {
    "colab": {
     "base_uri": "https://localhost:8080/",
     "height": 399
    },
    "id": "u8j0tfyYqoq_",
    "outputId": "0b115512-d0a1-4783-d369-4c69eed0afd8"
   },
   "outputs": [
    {
     "data": {
      "text/html": [
       "<div>\n",
       "<style scoped>\n",
       "    .dataframe tbody tr th:only-of-type {\n",
       "        vertical-align: middle;\n",
       "    }\n",
       "\n",
       "    .dataframe tbody tr th {\n",
       "        vertical-align: top;\n",
       "    }\n",
       "\n",
       "    .dataframe thead th {\n",
       "        text-align: right;\n",
       "    }\n",
       "</style>\n",
       "<table border=\"1\" class=\"dataframe\">\n",
       "  <thead>\n",
       "    <tr style=\"text-align: right;\">\n",
       "      <th></th>\n",
       "      <th>contentId</th>\n",
       "      <th>title</th>\n",
       "      <th>text</th>\n",
       "      <th>text_title</th>\n",
       "    </tr>\n",
       "  </thead>\n",
       "  <tbody>\n",
       "    <tr>\n",
       "      <th>0</th>\n",
       "      <td>-4110354420726924665</td>\n",
       "      <td>Ethereum, a Virtual Currency, Enables Transact...</td>\n",
       "      <td>All of this work is still very early. The firs...</td>\n",
       "      <td>Ethereum, a Virtual Currency, Enables Transact...</td>\n",
       "    </tr>\n",
       "    <tr>\n",
       "      <th>1</th>\n",
       "      <td>-7292285110016212249</td>\n",
       "      <td>Bitcoin Future: When GBPcoin of Branson Wins O...</td>\n",
       "      <td>The alarm clock wakes me at 8:00 with stream o...</td>\n",
       "      <td>Bitcoin Future: When GBPcoin of Branson Wins O...</td>\n",
       "    </tr>\n",
       "    <tr>\n",
       "      <th>2</th>\n",
       "      <td>-6151852268067518688</td>\n",
       "      <td>Google Data Center 360° Tour</td>\n",
       "      <td>We're excited to share the Google Data Center ...</td>\n",
       "      <td>Google Data Center 360° Tour We're excited to ...</td>\n",
       "    </tr>\n",
       "    <tr>\n",
       "      <th>3</th>\n",
       "      <td>2448026894306402386</td>\n",
       "      <td>IBM Wants to \"Evolve the Internet\" With Blockc...</td>\n",
       "      <td>The Aite Group projects the blockchain market ...</td>\n",
       "      <td>IBM Wants to \"Evolve the Internet\" With Blockc...</td>\n",
       "    </tr>\n",
       "    <tr>\n",
       "      <th>4</th>\n",
       "      <td>-2826566343807132236</td>\n",
       "      <td>IEEE to Talk Blockchain at Cloud Computing Oxf...</td>\n",
       "      <td>One of the largest and oldest organizations fo...</td>\n",
       "      <td>IEEE to Talk Blockchain at Cloud Computing Oxf...</td>\n",
       "    </tr>\n",
       "    <tr>\n",
       "      <th>...</th>\n",
       "      <td>...</td>\n",
       "      <td>...</td>\n",
       "      <td>...</td>\n",
       "      <td>...</td>\n",
       "    </tr>\n",
       "    <tr>\n",
       "      <th>3042</th>\n",
       "      <td>9213260650272029784</td>\n",
       "      <td>Conheça a Liga IoT, plataforma de inovação abe...</td>\n",
       "      <td>A Liga Ventures, aceleradora de startups espec...</td>\n",
       "      <td>Conheça a Liga IoT, plataforma de inovação abe...</td>\n",
       "    </tr>\n",
       "    <tr>\n",
       "      <th>3043</th>\n",
       "      <td>-3295913657316686039</td>\n",
       "      <td>Amazon takes on Skype and GoToMeeting with its...</td>\n",
       "      <td>Amazon has launched Chime, a video conferencin...</td>\n",
       "      <td>Amazon takes on Skype and GoToMeeting with its...</td>\n",
       "    </tr>\n",
       "    <tr>\n",
       "      <th>3044</th>\n",
       "      <td>3618271604906293310</td>\n",
       "      <td>Code.org 2016 Annual Report</td>\n",
       "      <td>February 9, 2017 - We begin each year with a l...</td>\n",
       "      <td>Code.org 2016 Annual Report February 9, 2017 -...</td>\n",
       "    </tr>\n",
       "    <tr>\n",
       "      <th>3045</th>\n",
       "      <td>6607431762270322325</td>\n",
       "      <td>JPMorgan Software Does in Seconds What Took La...</td>\n",
       "      <td>At JPMorgan Chase &amp; Co., a learning machine is...</td>\n",
       "      <td>JPMorgan Software Does in Seconds What Took La...</td>\n",
       "    </tr>\n",
       "    <tr>\n",
       "      <th>3046</th>\n",
       "      <td>4109618890343020064</td>\n",
       "      <td>The 2017 Acquia Partners of the Year</td>\n",
       "      <td>The Acquia Partner Awards Program is comprised...</td>\n",
       "      <td>The 2017 Acquia Partners of the Year The Acqui...</td>\n",
       "    </tr>\n",
       "  </tbody>\n",
       "</table>\n",
       "<p>3047 rows × 4 columns</p>\n",
       "</div>"
      ],
      "text/plain": [
       "                 contentId  ...                                         text_title\n",
       "0     -4110354420726924665  ...  Ethereum, a Virtual Currency, Enables Transact...\n",
       "1     -7292285110016212249  ...  Bitcoin Future: When GBPcoin of Branson Wins O...\n",
       "2     -6151852268067518688  ...  Google Data Center 360° Tour We're excited to ...\n",
       "3      2448026894306402386  ...  IBM Wants to \"Evolve the Internet\" With Blockc...\n",
       "4     -2826566343807132236  ...  IEEE to Talk Blockchain at Cloud Computing Oxf...\n",
       "...                    ...  ...                                                ...\n",
       "3042   9213260650272029784  ...  Conheça a Liga IoT, plataforma de inovação abe...\n",
       "3043  -3295913657316686039  ...  Amazon takes on Skype and GoToMeeting with its...\n",
       "3044   3618271604906293310  ...  Code.org 2016 Annual Report February 9, 2017 -...\n",
       "3045   6607431762270322325  ...  JPMorgan Software Does in Seconds What Took La...\n",
       "3046   4109618890343020064  ...  The 2017 Acquia Partners of the Year The Acqui...\n",
       "\n",
       "[3047 rows x 4 columns]"
      ]
     },
     "execution_count": 17,
     "metadata": {
      "tags": []
     },
     "output_type": "execute_result"
    }
   ],
   "source": [
    "articles_df_unique_title['text_title'] = articles_df_unique_title['title'] + ' ' + articles_df_unique_title['text']\n",
    "articles_df_unique_title"
   ]
  },
  {
   "cell_type": "code",
   "execution_count": 21,
   "metadata": {
    "id": "dJwvYeFCq7Rs"
   },
   "outputs": [],
   "source": [
    "sentences = articles_df_unique_title.text_title.tolist()"
   ]
  },
  {
   "cell_type": "code",
   "execution_count": 22,
   "metadata": {
    "colab": {
     "base_uri": "https://localhost:8080/"
    },
    "id": "fVXjB6MTsAZo",
    "outputId": "229ba9e2-bdbf-44da-fa2d-ed34bc125d98"
   },
   "outputs": [
    {
     "data": {
      "text/plain": [
       "['Ethereum, a Virtual Currency, Enables Transactions That Rival Bitcoin\\'s All of this work is still very early. The first full public version of the Ethereum software was recently released, and the system could face some of the same technical and legal problems that have tarnished Bitcoin. Many Bitcoin advocates say Ethereum will face more security problems than Bitcoin because of the greater complexity of the software. Thus far, Ethereum has faced much less testing, and many fewer attacks, than Bitcoin. The novel design of Ethereum may also invite intense scrutiny by authorities given that potentially fraudulent contracts, like the Ponzi schemes, can be written directly into the Ethereum system. But the sophisticated capabilities of the system have made it fascinating to some executives in corporate America. IBM said last year that it was experimenting with Ethereum as a way to control real world objects in the so-called Internet of things. Microsoft has been working on several projects that make it easier to use Ethereum on its computing cloud, Azure. \"Ethereum is a general platform where you can solve problems in many industries using a fairly elegant solution - the most elegant solution we have seen to date,\" said Marley Gray, a director of business development and strategy at Microsoft. Mr. Gray is responsible for Microsoft\\'s work with blockchains, the database concept that Bitcoin introduced. Blockchains are designed to store transactions and data without requiring any central authority or repository. Blockchain ledgers are generally maintained and updated by networks of computers working together - somewhat similar to the way that Wikipedia is updated and maintained by all its users. Many corporations, though, have created their own Ethereum networks with private blockchains, independent of the public system, and that could ultimately detract from the value of the individual unit in the Ethereum system - known as an Ether - that people have recently been buying. The interest in Ethereum is one sign of the corporate fascination with blockchains. Most major banks have expressed an interest in using them to make trading and money transfer faster and more efficient. On Tuesday, executives from the largest banks will gather for a conference, \"Blockchain: Tapping I nto the Real Potential , Cutting Through the Hype.\" Many of these banks have recently been looking at how some version of Ethereum might be put to use. JPMorgan, for instance, has created a specific tool, Masala, that allows some of its internal databases to interact with an Ethereum blockchain. Michael Novogratz, a former top executive at the private equity firm Fortress Investing Group, who helped lead Fortress\\'s investment in Bitcoin, has been looking at Ethereum since he left Fortress last fall. Mr. Novogratz said that he made a \"significant\" purchase of Ether in January. He has also heard how the financial industry\\'s chatter about the virtual currency has evolved. \"A lot of the more established players were thinking, \\'It\\'s still an experiment,\\' \" he said. \"It feels like in the last two to three months that experiment is at least getting a lot more validation.\" Since the beginning of the year, the value of an individual unit of Ether has soared as high as $12 from around $1. That has brought the value of all existing Ether to over $1 billion at times, significantly more than any virtual currency other than Bitcoin, which had over $6 billion in value outstanding last week. Since Bitcoin was invented, there have been many so-called alt-coins that have tried to improve on Bitcoin, but none have won the following of Ethereum. Unlike Bitcoin, which was released in 2009 by a mysterious creator known as Satoshi Nakamoto, Ethereum was created in a more transparent fashion by a 21-year-old Russian-Canadian, Vitalik Buterin, after he dropped out of Waterloo University in Ontario. The most basic aim of Ethereum was to make it possible to program binding agreements into the blockchain - the smart contract concept. Two people, for instance, could program a bet on a sports game directly into the Ethereum blockchain. Once the final score came in from a mutually agreed upon source - say, The Associated Press - the money would be automatically transferred to the winning party. Ether can be used as a currency in this system, but Ether are also necessary to pay for the network power needed to process the bet. The Ethereum system has sometimes been described as a single shared computer that is run by the network of users and on which resources are parceled out and paid for by Ether. A team of seven co-founders helped Mr. Buterin write up the software after he released the initial description of the system. Mr. Buterin\\'s team raised $18 million in 2014 through a presale of Ether, which helped fund the Ethereum Foundation, which supports the software\\'s development. Like Bitcoin, Ethereum has succeeded by attracting a dedicated network of followers who have helped support the software, partly in the hope that their Ether will increase in value if the system succeeds. Last week, there were 5,800 computers - or nodes - helping support the network around the world. The Bitcoin network had about 7,400 nodes. One of Mr. Buterin\\'s co-founders, Joseph Lubin, has set up ConsenSys, a company based in Brooklyn that has hired over 50 developers to build applications on the Ethereum system, including one that enables music distribution and another that allows for a new kind of financial auditing. The ConsenSys offices are in an old industrial building in the Bushwick section of Brooklyn. The office is essentially one large room, with all the messy trademarks of a start-up operation, including white boards on the walls and computer parts lying around. Mr. Lubin said he had thrown himself into Ethereum after starting to think that it delivered on some of the failed promise of Bitcoin, especially when it came to allowing new kinds of online contracts and markets. \"Bitcoin presented the broad strokes vision, and Ethereum presented the crystallization of how to deliver that vision,\" he said. Joseph Bonneau, a computer science researcher at Stanford who studies so-called crypto-currencies, said Ethereum was the first system that had really caught his interest since Bitcoin. It is far from a sure thing, he cautioned. \"Bitcoin is still probably the safest bet, but Ethereum is certainly No. 2, and some folks will say it is more likely to be around in 10 years,\" Mr. Bonneau said. \"It will depend if any real markets develop around it. If there is some actual application.\"',\n",
       " 'Bitcoin Future: When GBPcoin of Branson Wins Over USDcoin of Trump The alarm clock wakes me at 8:00 with stream of advert-free broadcasting, charged at one satoshi per second. The current BTC exchange rate makes that snooze button a costly proposition! So I get up, make coffee and go to my computer to check the overnight performance of my bots. TradeBot earns me on Trump and Branson TradeBot, which allocates funds between the main chain and various national currency side-chains, generated a lucrative 0.24 BTC return. TradeBot has been reliably profitable ever since I set it to trade USDcoin according to political prediction market data. As expected, the latest poll numbers came in as highly supportive of Trump\\'s re-election as USDcoin CEO. Trump\\'s resistance to de-anonymizing public spending, by moving USDcoin off the Confidential Transactions layer, continues to erode his coin\\'s credibility. In his latest speech, Trump maintains that full CT-privacy is essential to \"combatting CNYcoin\\'s sinister ring-signature scheming.\" I make a note to increase my long position in GBPcoin. Following CEO Branson\\'s memo to the effect that government finances and national banks be brought into compliance with the public blockchain , British corruption indices have flatlined. As the first national econmy to \"go light,\" Britain leads the global recovery from the Great Debt Default of \\'20. Happy with the GoatData Project I check TeachBot and note that it\\'s performing in-line with expectations. TeachBot serves as an autonomous info-agent between various contracting AIs and data providers. The 0.5 BTC bounty it awarded to a team of Sherpas to outfit a herd of Tibetan mountain goats with full motion-sensing rigs has already been repaid...I check the latest figures... four times over! My best TeachBot strategy to date, the GoatData project provides valuable data to WinterHoof, the Artificial General Intelligence in charge of the Swiss military\\'s quadripedal robotics program. At this rate, I\\'ll soon have enough BTC to retire to Satoshi City on Mars!',\n",
       " \"Google Data Center 360° Tour We're excited to share the Google Data Center 360° Tour - a YouTube 360° video that gives you an unprecedented and immersive look inside one of our data centers. There are several ways to view this video: On desktop using Google Chrome use your mouse or trackpad to change your view while the video plays YouTube app on mobile - move your device around to look at all angles while the video plays And the most immersive way to view - using Google Cardboard (currently supported by the Android YouTube app only, iOS support is coming soon!) Load the video in the YouTube app and tap on the Cardboard icon when the video starts to play. Insert your phone in Cardboard and look around. A little background . . . Several months ago, those of us on the Google Cloud Developer Advocacy Team had a rare opportunity to tour the Google data center in The Dalles, Oregon. Many of us had seen other non-Google data centers in our careers, but this experience was beyond anything we ever imagined. We were blown away by the scale, the incredible attention to security and privacy, and the amazing efforts to make the data center extremely efficient and green. Additionally, we were proud to meet some of the brilliant people that design, build and maintain these data centers. If you are a Google Cloud Platform customer, then this is your data center as much as it is our data center, so we want you to experience what we experienced. We hope you enjoy it! - Posted by Greg Wilson, Head of Developer Advocacy, Google Cloud Platform\",\n",
       " 'IBM Wants to \"Evolve the Internet\" With Blockchain Technology The Aite Group projects the blockchain market could be valued at $400 million by 2019. For that reason, some of the biggest names in banking, industry and technology have entered into the space to evaluate how this technology could change the financial world. IBM and Linux, for instance, have brought together some of the brightest minds in the industry and technology to work on blockchain technology through the Hyperledger Project. The Hyperledger Project is under the umbrella of the Linux Foundation, and seeks to incorporate findings by blockchain projects such as Blockstream, Ripple, Digital Asset Holdings and others in order to make blockchain technology useful for the world\\'s biggest corporations. IBM has also contributed its own code to the project. According to John Wolpert, IBM\\'s Global Blockchain Offering Director, when IBM and Linux began working together on the blockchain project, Linux made clear it wanted to \"disrupt the disruption,\" in part with their findings, as well as the data gathered by projects such as Ripple, Ethereum and others exploring the blockchain. The Linux foundation announced its Hyperledger project on December 17, 2015. Just one day later, 2,300 companies had requested to join. The second-largest open source foundation in the history of open source had only 450 inquiries. \"So, it\\'s either going to be a holy mess or it\\'s going to change the world,\" Wolpert said at The Blockchain Conference in San Francisco presented by Lighthouse Partners. As Wolford puts it, a team of IBMers is \"on a quest\" to understand and \"do something important\" with blockchain technology. \"I don\\'t know why we got this rap in the \\'70s, way back, that we are not cool, that we\\'re kind of stodgy, and that is not the IBM of my experience,\" Wolpert, who founded the taxi service Flywheel, explained. \"We\\'re the original crazy people. The craziest people are the guys at IBM in the \\'60s and \\'70s -- you can imagine what they were doing in the \\'60s -- they are wild-eyed revolutionaries.\" Although this is not the image IBM markets, their work in quantum computing, quantum teleportation and neuro semantic chips count among some of the \"cool stuff\" IBM does, says Wolpert. IBM also approaches projects in the spirit of open innovation, and not proprietarily. \"Our method of operations is open, and it\\'s often our MO to back not-our-thing,\" he said of IBM since the 1990s. Wolpert cites Java as one such project: \"You would not know about Java today if it weren\\'t for IBM.\" As a \"pretty young dude,\" Wolpert was in the room when IBM made a billion-dollar decision to back Linux over its own technology. He also cites IBM\\'s work on XML as an example of IBM\\'s dedication to open innovation. Currently, IBM has employees working on crypto-security and distributed systems who have been working on consensus algorithms for their entire careers, some for more than 30 years. \"They\\'re crazy smart, we\\'re planetary, we\\'ve gone from a couple of guys in a canoe, to a platoon and approaching an army of people working on blockchain,\" Wolpert said. \"So it feels a lot like my first job at IBM which was making Java real for business.\" This has led old and new friends to contact the the multinational technology and consulting corporation. \"Banks who have been calling us constantly ... saying \\'What\\'s your view on blockchain?\\' or \\'Hey, let\\'s do a project together on blockchain,\\'\" Wolpert said. \"We\\'ve been doing all these crazy projects on blockchain, every kind of blockchain, and learning a lot, been doing that for a couple years and really started to accelerate last year.\" Today, there is a whole unit dedicated to blockchain technology at Linux Foundation. \"We went all-in on blockchain,\" he explained. What\\'s it all about for Wolpert? \"It\\'s about evolving the Internet.\" Bitcoin is important for moving money around without a single authority. \"[Bitcoin] is a solution to a problem, a specific problem, of people who need to move money around in environments where you don\\'t trust the government,\" Wolpert said. \"I think we can all agree we are approaching the end of the era where a single authority manages trust and gets compensated for the risk in doing so.\" In Wolpert\\'s view, finance does not need to go from today\\'s system of trust -- where consumers trust institutions to handle their money -- to one of complete trustlessness, like the Bitcoin system in which a protocol, not a centralized authority, manages the movement of value. \"It doesn\\'t follow, having one single trust authority to trustlessness on everything,\" he said. \"There is a false dichotomy between the notion of trust and trustlessness, that you have to have a walled garden on one side and Bitcoin on the other.\" He doesn\\'t compare Bitcoin to the Internet, saying that\\'s a wrong analogy. \"It is not apt to say the Internet is like Bitcoin; the Internet is, from the perspective of Bitcoin, a permissioned walled garden,\" he said. \"Ever heard of ICANN? It\\'s permissive, but it\\'s permissioned.\" Bitcoin, Ripple and Ethereum are \"Iteration 1\" of blockchain technology, the three time IBMer told his audience. Wolpert thinks blockchain technology will soon evolve to \"Iteration 2.\" The problem with it? \"The Internet is constrained,\" Wolpert said. \"You have a fabric that allows for lots of competition on platforms and huge amounts of competition on solutions and applications on top of it, so we need to evolve the Internet to become economically aware, and that Internet isn\\'t going to be an application, it is going to be a fabric and then lots of applications on top of that.\" This doesn\\'t mean blockchain 2.0 technologies such as Blockstream, Ethereum and Ripple are lost causes that must now completely retool. The Linux Foundation, in fact, works with Ethereum and Ripple employees. With its blockchain projects, IBM is not focused on moving a cryptocurrency. \"Lots of banks pay us lots of money and we like that, and we want to radically improve them,\" Wolpert explained. \"[Bankers] are gonna try like heck to radically improve what is going on ahead of the disruption, disrupt themselves if you will. If you look at things like [Overstock\\'s] t0, that\\'s happening, might happen on Bitcoin protocol, but might not, and there\\'s plenty of ways to solve it, when you commit to it. And sure, Bitcoin has woken [banks] up to this, so it\\'s doing its job, it\\'s disrupting the thinking and maybe that is all that is necessary.\" Wolpert wonders aloud during his speech if the world would have iTunes were it not for Napster, or Netflix if it weren\\'t for BitTorrent. The former head of products for IBM\\'s Watson Ecosystem says IBM currently has a \"boomtown with giant numbers of people at IBM and everywhere else\" investigating the blockchain problem and how distributed technology can be made useful for industry. He details how oftentimes IBM tinkers with open innovations itself to make the technology ready for industry. That\\'s not the route being taken with Bitcoin. That the Bitcoin network is on par with Ireland for energy consumption, and that mining consortiums could eventually dictate that market, scares the firm away from dealing directly with Bitcoin. \"What I want to see, what we want to see, is a world full of companies who I can know, who I can identify, who are so spread out, like the Internet,\" he said. Wolpert cites the Arab Spring, and the role the Internet played in that uprising, as how a permissioned, yet permissive, structure functions. Websites, albeit technology permissioned by ICANN, remained online during the protests and played a major role. What\\'s the risk in experimenting with blockchain? \"The risk is we go crazy, we have an unruly mess,\" Wolpert warned. \"[But] it\\'s the Linux Foundation, we\\'ve been in this movie before. While there\\'s a lot of really smart guys working on Bitcoin and startups, we\\'ve got equally amount of people who also have 20 or 30 years of experience with open source and open innovation, and I think we have a good shot at maintaining restraints, keeping it scoped down, keeping it simple, but getting it to something that is useful.\"',\n",
       " \"IEEE to Talk Blockchain at Cloud Computing Oxford-Con - CoinDesk One of the largest and oldest organizations for computing professionals will kick off its annual conference on the future of mobile cloud computing tomorrow, where blockchain is scheduled to be one of the attractions. With more than 421,000 members in 260 countries, the Institute of Electrical and Electronics Engineers (IEEE) holding such a high-profile event has the potential to accelerate the rate of blockchain adoption by the engineering community. At the four-day conference, beginning Tuesday, the IEEE will host five blockchain seminars at the 702-year-old Exeter College of Oxford. The conference, IEEE Mobile Cloud 2016, is the organization's fourth annual event dedicated to mobile cloud computing services and engineering. Speaking at the event, hosted at Oxford University, professor Wei-Tek Tsai of the School of Computing, Informatics and Decision Systems engineering at Arizona State University will talk about the future of blockchain technology as an academic topic of research. Computing shift While this looks to be the first IEEE conference to deal so closely with blockchain, its presence at an event dedicated to cloud computing is no surprise. 2016 is shaping up to be the year many stopped talking about bitcoin as a decentralized ledger and started talking about it as a database. Last month, IBM made a huge splash in the blockchain ecosystem when it announced among a wide range of other news, that it would be offering a wide range of blockchain-related initiatives. Further, in November, Microsoft coined the term Blockchain-as-a-Service (BaaS) to describe its sandbox environment where developers could experiment with tools hosted on the company's Azure Cloud platform. Companies including ConsenSys, Augur, BitShares and Slock.it have joined that effort. Oxford University via Shutterstock\",\n",
       " 'Banks Need To Collaborate With Bitcoin and Fintech Developers It will take time until banks come around to the idea of embracing Bitcoin or Fintech, though. Banks need to innovate at an accelerated pace, yet are unable to do so on their own. Allowing third-party developers to work together with the bank through API access would be a significant step in the right direction, as there is valuable input to be gathered from the Bitcoin and Fintech industries. Banks and other established financial players have not taken a liking to Fintech and digital currency just yet, as they see both industries as major competitors to their offerings. While it is certainly true Bitcoin and Fintech can bring significant improvements to the table, they should be seen as complementary allies who will bring success to the banking industry. Or that is what the Monetary Authority of Singapore seems to be thinking, at least. Also read: Bitcoin Price Technical Analysis For 03/28/2016 - Looking To Buy BTC? Embracing Bitcoin And Fintech As A Bank Is Necessary There is no denying the banking sector has seen very little to no real innovation for quite some time now, opening the door for other players to step in and offer something entirely different. In fact, a lot of financial experts see and as two major threats to the banking system, which would explain the vocal opposition to any solution that is not controlled by a bank or government. But the Monetary Authority of Singapore sees things different, as they feel both Fintech and Bitcoin are capable of complementing the current financial infrastructure, rather than be competing with banks. A combination of traditional banking with innovative technology and services has the potential to create a powerful and versatile financial ecosystem all over the globe. Fintech startups and entrepreneurs are renowned for thinking outside of the proverbial box when it comes to accessing financial services. Particularly where the money lending and peer-to-peer aspect is concerned, most Fintech companies have a leg up over their more traditional counterparts. But that does not mean these startups are looking to overthrow the banking system, although they might be able to in the long run. Any bank that is too slow - or simply unwilling - to innovate will be left behind in the long term, though. Collaborating with Fintech players is a far more preferable solution to this alternative, although it may involve swallowing some of the pride that are associated with the banking system. Fintech companies are, by design, more capable of embracing new and advanced technological features, which makes them invaluable allies for traditional banks. A Senior Regulator of the Monetary Authority of Singapore stated: \"MAS\\' approach to fintech is to use the power of technology to help banks to succeed. It\\'s not a game of disruptors versus enablers. We see fintech as an enabler... The good news is fintech companies by design are creating far superior technology products, and where success lies is in partnering with banks, and enabling banks to succeed.\" But Bitcoin has a role to play in the financial world as well, although this system is completely outside of the control of banks and governments. Despite those barriers, the popular digital currency is available in every country in the world, allowing for frictionless and real-time transfers of value, regardless of previous access to financial services by consumers and businesses. So far, most of the major banks around the world have taking a page out of the Bitcoin playbook, by trying to develop their own blockchain technology solutions. But that is not all, as several countries are considering to issue their own digital currency, rather than embracing Bitcoin. Whether or not that will be the right decision, in the end, remains to be seen. It will take time until banks come around to the idea of embracing Bitcoin or Fintech, though. Banks need to innovate at an accelerated pace, yet are unable to do so on their own. Allowing third-party developers to work together with the bank through API access would be a significant step in the right direction as there is valuable input to be gathered from the Bitcoin and Fintech industries.',\n",
       " 'Blockchain Technology Could Put Bank Auditors Out of Work When most people think about computers and robots taking jobs away from humans, the images that usually come to mind are robots moving inventory around in an Amazon warehouse or McDonald\\'s customers placing their order via a tablet instead of a cashier . But the robots are coming for much more sophisticated jobs as well. For example, blockchain technology is out to eat the lunches of some professionals in the traditional financial system. There\\'s a Lot of Mistrust in the Banking System At a recent blockchain-focused event in Toronto, Bitcoin Core contributor Peter Todd was asked to explain the reasoning behind Wall Street\\'s increased interest in blockchain technology. During his initial response, Todd pointed out some of the mistrust that exists in the current financial system: \"The dirty secret is [the banks] don\\'t actually trust [their databases]. I mean, they don\\'t trust their own employees. ... They don\\'t trust each other. There\\'s so many levels of mistrust here.\" Todd then discussed the massive industry built around financial audits. He noted: \"If they did trust all this stuff, why are there so many auditors? Why is there this massive infrastructure of labor-intensive human beings sitting there poring over transactions and trying to figure out where the money got created out of thin air. Where did the money disappear? Who moved what where? Was it all legit?\" Many financial institutions are interested in the concept of creating new systems for record-keeping, which would replace the current closed-ledger system with a more open alternative, similar to Bitcoin. Many believe this open system would enable more efficient and transparent auditing of financial activity. The Status Quo Is Doing All Right But It\\'s Hard to Improve Todd also pointed out that financial institutions are already pretty good at what they do in terms of audits. He stated, \"For the most part, bank fraud is at tolerable levels, it seems.\" Todd noted that maintaining a proper history of financial activity is one of the issues with increasing the speed of settlement . Because audits are labor intensive and require man hours to complete, it\\'s difficult to essentially come to consensus on the correct version of events in a nearly instantaneous manner. He added, \"The faster money can move around, the faster you could lose it all due to some hacker.\" How Does the Blockchain Help? Todd spoke on the perceived advantages of blockchains over the current way things work, which relies on placing trust in database admins and the people with the keys to the system. From this perspective, a blockchain simply looks like a strong audit log. Todd gave a specific example of how this technology can help: \"It could be something as simple as when I, as a bank employee, type something in, we really do want a cryptographic signature that\\'s actually tied to my keycard or something. And that should go into a database. Well, what does that look like? It looks like a blockchain.\" The longtime Bitcoin researcher also pointed out that this is sort of what banks were already looking at doing before blockchain technology started to receive a lot of attention. He explained: \"I think where they\\'re thinking of going naturally looks like blockchains, so when they hear all this blockchain stuff it\\'s like, \\'Oh yeah. This is roughly what we were looking at doing anyway.\\'\" Replacing Humans Is the Point At one point during the recent event in Toronto, Todd was asked if the trend is that blockchains will eventually replace human auditors. Todd responded: \"All this blockchain stuff is really about: How good can we make the security to get to the point where we can imagine getting rid of human beings?\" Indeed, Todd\\'s comments appear to fit well with Satoshi Nakamoto \\'s original Bitcoin white paper . In the paper, Nakamoto stated: \"What is needed is an electronic payment system based on cryptographic proof instead of trust....\" Going back further, cypherpunk Nick Szabo has written about the concept that third parties are security holes. In addition to improving security by cutting out trusted parties, financial institutions can cut costs by replacing human labor with computer code. Kyle Torpey is a freelance journalist who has been following Bitcoin since 2011. His work has been featured on VICE Motherboard, Business Insider, NASDAQ, RT\\'s Keiser Report and many other media outlets. You can follow @kyletorpey on Twitter.',\n",
       " 'Why Decentralized Conglomerates Will Scale Better than Bitcoin - Interview with OpenLedger CEO - Bitcoin News Bitcoin.com spoke with the OpenLedger CEO, Ronny Boesing to get deeper insight of how decentralized conglomerates will challenge the status quo, why they will bring greater financial freedom to the public, and the disadvantages of Bitcoin when it comes to enterprise scaling compared to DC\\'s. Also read: Deloitte: Blockchain Will \\'Gain Significant Traction\\' by 2020 The Coming Age of \\'Decentralized Conglomerates\\' As the OpenLedger team recently its Global Enterprise 3.0 program, its universal shared application called \"Decentralized Conglomerate\" (DC) is poised to revolutionize how we look at big business in the 21st century. For a long time, the traditional conglomerate model went unchallenged (e.g. Berkshire Hathaway, Philip Morris etc.) until the emergence of the Internet and increasing global interconnectivity. A new digital conglomerate structure began to emerge with the likes of Google (and its Alphabet Inc. parent company), which became more efficient at managing the production and distribution of their products. Nevertheless, the formal top-down structure of these new digital age conglomerates remained, including the the traditional way of how profits are distributed - that is, until now. \"Decentralized Conglomerates are the next logical step.\" - Ronny Boesing Bitcoin.com (BC): Conglomerates first existed in physical form such as Berkshire Hathaway, after which we saw the advent of digital ones such as Google and Alphabet. Are decentralized autonomous conglomerates the next logical step in this evolution? Ronny Boesing (RB): Without question, Decentralized Conglomerates are the next logical step. It should be noted that there will be Autonomous and Semi-Autonomous organizations that emerge. The difference being the level of organizational influence exerted over the universal platform. In an Autonomous Conglomerate, the contracts and workers would be completely independent of having any external influence or association with another entity, but may simply be using the same platform as another organization. In a Semi-Autonomous Conglomerate, there will be some level of external influence, support, or association with an official business. This means that an organization has special interest in the associated operations of the Conglomerate, and some semblance of top-down influence may occur. BC: What are the basic advantages of decentralized conglomerate over a centralized one like Google, for example? RB: A Decentralized Conglomerate allows organizations to join the forces of their communities on a universal platform that allows cross promotion and profit sharing, but does not force it. This paradigm also allows individual brand identities to flourish within the Conglomerate without having to worry about the interests of the Universal Platform conflicting with the interests of any given brand using the platform. In a traditional or even a digital conglomerate, the mission of the parent company guides the decisions of the subsidiaries. BC: Is anyone free to join such an online conglomerate community? RB: The system is agnostic, so that anyone who wants to create an asset for their organization or commodity has the capacity to do so. All tokens do not have equal risk, and some are far less risky than others to purchase. BC: Some could argue that MLM pyramid structured companies are also \"profit sharing\" communities, though this entails a lot of risk as we all know. What kind of risk is there for people choosing to enter and buy the digital tokens of a decentralized conglomerate or its constituents? RB: The risk of purchasing such tokens depends on many things, such as the market capitalization of the DC, the number of organizations connected to the DC, the capacity to exchange tokens for other forms of currency or products, the size of the reserve backing a given token. All tokens do not have equal risk, and some are far less risky than others to purchase. Everyone should do their due diligence to know how solid the infrastructure is behind any given token or DC. BC: Can\\'t Bitcoin be considered the world\\'s first decentralized conglomerate? RB: Bitcoin is not a conglomerate. It is a decentralized ledger. The only purpose of Bitcoin\\'s blockchain was to keep track of transactions. Many organizations expanded upon the original protocol to create colored coins and languages that permitted applications to be built on top of the Bitcoin blockchain. However, this was not the original intention of \"Bitcoin\" proper, and specifically talking about \"Bitcoin,\" it is apolitical, without special interest, and has no official organizational associations. [A decentralized conglomerate] was not the original intention of \\'Bitcoin\\' proper, [...] it is apolitical, without special interest, and has no official organizational associations. Bitcoin is the world\\'s first globally accepted currency that has no organizational associations, and that is simultaneously the best and worst aspect about it. Since there is no organization association, the problems that Bitcoin encounters rely on the community to come together and make a unilateral decision. As we have seen with the blocksize scaling issue , the transaction time debate , the recent DDoS attack, and the blockchain halt due to transaction costs; Bitcoin has some real problems that need to be addressed in order for it to be usable for enterprise scale organizations or countries alike. In that regard, since Bitcoin is apolitical, it doesn\\'t really make logical sense for any country to switch to something which they have no control over as their main currency. So in that regard, Bitcoin is not only not a conglomerate, the apolitical aspect serves to keep organizations away from holding the currency during the fluctuations, as there is no real organization that has vested interest in keeping Bitcoin stable. BC: What exactly is OpenLedger\\'s \"Bitcoin 3.0\" technology and what are Bitcoin\\'s disadvantages compared to it when using it within the DC context? RB: As mentioned, Bitcoin has no associations. This means that the token can be purchased and amassed by any organization or country around the globe, leaving the token subject to wild swings due to margin trading. You see examples with organizations like Ether , Factom , or OpenLedger that have created a token that has organizational backing, and their respective tokens steadily increased in value instead of having wild unpredictable swings. Having an organization that has special interest in the Universal Ledger establishes a community and ecosystem which Bitcoin is lacking. It is the same type of culture that Apple has created using \"I\" branding that can be achieved with organizational associations. Bitcoin does not have this capacity. Having an organization that has special interest in the Universal Ledger establishes a community and ecosystem which Bitcoin is lacking. In order to get mass adoption or successful utilization, it is crucial to have a unified approach to the interface, and this becomes another major failing point of Bitcoin. Openledger has streamlined the UX/UI of digital currency transactions, and this represents a much more user-friendly approach with a smaller learning curve. Having development teams that can do research and development and then modify the UX based on user feedback is a great benefit that DC\\'s have over Bitcoin. BC: Can you talk a little bit about the first partnerships between communities on this platform, namely OBITS and BitTeaser? RB: Every month, 70% of BitTeaser\\'s monthly Bitcoin profits will be used to buyback BTSR and OBITS on the respective markets on OpenLedger. OBITS does it on the BTC (10%) and BTS (90%) market, and with BTSR it is done on BTS, BTC, USD and ETH markets 25% each. BTSR holders will receive 80% of this share, while OBITS holders will receive 20%. In the long term, BTSR holders may see an increase in the value per unit of their investment based on supply and demand, as well as having the tokens burned from every buyback thus reducing overall available supply. BitTeaser operates in a similar way to Google Adwords - revenue is generated based on providing advertising space for websites, companies and products. It currently serves over 1,000 webmasters, with monthly growth of around 15 to 20%. BC: Do they use smart-contracts to establish the terms? How is consensus achieved? RB: Yes, the system uses smart contracts to establish terms of service and reward. The consensus is achieved by third party confirmation that both sides have accomplished their respective tasks, whether it is putting money in escrow, or completing a contract request. BC: What was the approximate payout to the writers and bloggers using the platform? Will this amount increase as the overall platform grows? RB: At the last payment, some 11 BTC worth (currently around $4,500 USD) of BTSR and OBITS was sent to participating bloggers. That amount will increase as the network size and reach of the DC increases. OpenLedger has made it available for users to directly change tokens to USD, EUR, and CNY and have them directly deposited into their bank account. BC: How does the DC model interact with traditional fiat currency? Do users have to use an exchange to cash out their rewards? RB: \"In the same way that foreign currencies or bitcoin need to be exchanged before being used, any DC token will need to be changed to be used outside of the infrastructure. If an organization within the DC offers products or services that are desired, a direct purchase using a token could then be made without any exchange. Now, OpenLedger has made it available for users to directly change tokens to USD, EUR, and CNY and have them directly deposited into their bank account. No longer will a user have to have the hassle of going through an additional step of going to a bitcoin exchange to convert their smart money into fiat. Once a user has been validated he/she is prompted to attempt a withdrawal. Once the withdrawal request is made on OpenLedger for whatever currency is asked, the money is then sent to the user\\'s bank account with a 3% withdrawal fee. Users can enjoy a fee-free deposit period that ends in August. [Note: Special thanks to Larry C. Bates, out of Bloomington, Indiana, the architect behind the great description of the DC, a good partner of OpenLedger and his assistance in giving answer to the questions.] Do you think decentralized conglomerates will change big business around the globe? Let us know your thoughts in the comments below! Images courtesy of OpenLedger, bitcoinwiki.co Editor, Content Creator @Bitcoin.com',\n",
       " 'The Rise And Growth of Ethereum Gets Mainstream Coverage Ethereum, considered by many to be the most promising altcoin, has grabbed the attention of The New York Times. The \"newspaper of record\" has run a big feature story on Ethereum, noting its value has spiraled 1,000% in the last three months and is attracting interest from major financial companies that are using it for private blockchains and smart contracts. The story notes the first public version of Ethereum was recently released. The story noted there are numerous applications built on Ethereum that allow new ways to place bets, pay bills and even launch Ponzi schemes. Some cryptocurrency observers claim Ethereum will face more security issues than bitcoin due to its more complex software. The alt. currency system has faced less testing and suffered fewer attacks than bitcoin. The unusual design could also invite more regulatory scrutiny considering some potentially fraudulent contracts can be written into the system. Capabilities Draw Interest However, the system\\'s capabilities have drawn interest from major corporations. Last year, IBM announced it was testing the alt.currency system as a way to manage real-world objects in the Internet of Things. Microsoft has been working on various projects that make it easier to use Ethereum on its Azure computing cloud. Marley Gray, a business development and strategy director at Microsoft, said Ethereum is a platform for solving problems in different industries. He called it the most \"elegant\" solution seen to date. Private Blockchains Expand Many companies have created private blockchains using Ethereum. These private blockchains could eventually undermine the value of the Ether, the individual unit in the alt.currency system that people have been buying. Major banks have shown interest in using blockchains to make transferring and trading money more efficient. Several banks have examined how to use Ethereum. JPMorgan has developed a tool called Masala that enables its internal databases to interact with an Ethereum-blockchain. Michael Novogratz, who helped lead Fortress Investing Group invest in bitcoin, has been examining Ethereum since leaving Fortress last fall. He said he has made a significant purchase of Ether. Novogratz said in the last few months that the alt.currency is getting more validation. Ethereum Value Soars Ether\\'s value has increased to as high as $12 from $1 since the beginning of the year, taking the value of all Ether currency to above $1 billion at times. This surpasses the value of any virtual currency besides bitcoin, which claimed more than $6 billion in value last week. Ethereum leads all altcoins in the size of its following One difference between Ethereum and bitcoin is that the latter came into being in a more transparent fashion. Where bitcoin was created by Satoshi Nakamoto, whose identity remains a mystery, Ethereum was developed by Vitalik Buterin , a 21-year-old Russian, who created it after dropping out of Waterloo University in Ontario. Aim Was Smart Contracts Ethereum\\'s basic aim was to make it possible to program agreements into the blockchain. This is the smart contract concept. Two people could, for instance, program a sport bet directly into the Ethereum blockchain. Once a mutually-accepted source announced the final score (such as the Associated Press), the winnings would transfer automatically to the winner. Ether can be used as currency. Ether is also necessary to pay for the network power required to process the bet. Ethereum has been characterized as a single-shared computer operated by the network of users on which resources are doled out and paid for by Ether. Buterin\\'s team raised $18 million through an Ether presale in 2014 to help fund the Ethereum Foundation, which supports the development of the software. Also read: Ether co-founder Vitalik Buterin on public and private blockchains Ethereum\\'s Following Ethereum has attracted followers who have supported the software and hope that Ether will rise in value. There were 5,800 nodes, or computers, last week supporting the network. The bitcoin network had about 7,400 nodes. Joseph Lubin, a co-founder, established ConsenSys, which has hired more than 50 developers to create applications on the alt.currency system. One enables music distribution while another permits a new type of financial auditing. Lubin said he became interested in Ethereum after determining it delivered on some of bitcoin\\'s failed promise, particularly when it came to permitting new types of online markets and contracts. He said Ethereum presented the crystallization of how to deliver on the broad strokes vision that bitcoin presented. Joseph Bonneau, a Stanford computer science researcher, said Ethereum is the first system that caught his interest since bitcoin. Ethereum is nonetheless far from a certainty, Bonneau said. He said bitcoin is still most likely the safest bet, with Ethereum number two. He said Ethereum\\'s longevity will depend on real markets developing around it. Featured image from Shutterstock.',\n",
       " 'Situação financeira ruim de varejistas pressiona shoppings e eleva renegociações - Home - iG A queda nas vendas e a deterioração na situação financeira de varejistas têm forçado shoppings a renegociar algumas das obrigações dos lojistas nos custos de ocupação de pontos de venda. O cenário se intensificou para além da negociação de descontos pontuais, com parcelamentos que miram evitar a inadimplência e até mesmo o aumento das taxas de vacância. Arquivo/Agência Brasil Shopping centers estão entre os estabelecimentos que mais contratam no fim de ano O diretor de expansão da varejista Hope, Sylvio Korytowski, relata que muitos shoppings aceitaram congelar o vencimento de parcelas das chamadas \"luvas\", tarifas cobradas de novos locatários para garantir o \"direito\" de utilização de um determinado ponto em um shopping. As quantias, que variam de acordo com a demanda, normalmente são parceladas em 12 ou 24 meses, mas agora lojistas têm conseguido uma espécie de \"perdão temporário\", passando algum tempo sem pagar e conseguindo mais meses para quitar os valores. O preço pode ser negociado entre um lojista que sai do local e um que está chegando, mas geralmente parte do montante é destinada ao operador do shopping. \"Às vezes, quando um shopping vai mal, tem empreendedor que oferece um aluguel quase zerado para o lojista porque, se o espaço fica vago, quem paga o custo de energia, segurança, limpeza e outras coisas do dia a dia é o shopping\", explica um executivo do setor, que preferiu não se identificar. \"Nesse casos, não existe nenhuma possibilidade de o shopping cobrar luvas\", acrescenta. O esforço dos shoppings é impedir que lojas importantes fechem em meio a alta de custos e venda fraca, mas a renegociação também ofusca eventuais riscos de um estouro de inadimplência. A CEO da GS&AGR Consultores, Ana Paula Tozzi, avalia que os efeitos do quadro financeiro ruim dos varejistas ainda não aparecem totalmente nas provisões para inadimplência dos operadores de shopping, mas considera que muitos lojistas estão em dificuldade para pagar obrigações e pedindo refinanciamentos e renegociações. Fato é que a inadimplência tem aumentado em alguns centros de compras. Nos empreendimentos da BRMalls, a expectativa é que a taxa tenha um \"aumento pequeno\" no primeiro trimestre em comparação com igual intervalo do ano passado, quando estava em 4,4%. Já os atrasos superiores a 25 dias no pagamento de alugueis nos shopping centers da Multiplan subiram para 1,9% no quarto trimestre de 2015, de 1,7% em igual período do ano anterior. No mesmo período, a taxa de perda de aluguel aumentou para 1,2%, de 0,6%. O momento de enfraquecimento das vendas tem levado algumas lojas a dificuldades financeiras e, em alguns casos, culminado em processos de recuperação judicial. É o que ocorreu com o grupo GEP, dono das marcas Luigi Bertolli, Cori e franqueado da marca norte-americana GAP no Brasil. O grupo, que opera 97 lojas no Brasil, a maioria em shoppings, afirmou no pedido de recuperação judicial que \"o volume de vendas diminuiu consideravelmente\" em meio a crise macroeconômica. Varejistas relatam ainda que concessões estão sendo feitas mesmo em shoppings considerados \"de primeira linha\", ou seja, os que têm maior fluxo de clientes. Um exemplo citado por representantes de grandes redes do varejo é o da Iguatemi. Segundo eles, a companhia está concedendo descontos em shoppings da capital paulista em troca de impedir que as redes fechem lojas em centros comerciais da grande São Paulo e interior, os quais os varejistas veem com menos interesse. Ao Broadcast, serviço em tempo real da Agência Estaado, a diretora financeira e de relações com investidores da Iguatemi, Cristina Betts, diz que não há uma política única em relação aos descontos. \"Depende muito dos grupos de varejo de que estamos falando e dos locais onde temos lojas com eles. Não dá para dizer que existe uma lógica apenas\", afirma. Por ter concedido mais descontos, a companhia conseguiu reduzir sua taxa de inadimplência para 1,1% no quarto trimestre de 2015, saindo de 1 8% em igual período do ano anterior. \"Tivemos em 2015 um esforço de antecipar movimentos de descontos, principalmente em shoppings em maturação\", diz. \"Preferimos que o lojista fique bem e sobreviva, diminuindo a inadimplência. Houve um aumento de desconto em 2015, mas esperamos que fique estável em 2016\", acrescenta. Para Korytowski, o desafio das negociações hoje é que há uma massa muito grande de lojistas em dificuldades e pedindo ajuda. Isso torna difícil a tarefa do shopping de identificar quem de fato pode sobreviver com algum tipo de renegociação, já que em alguns casos isso não é suficiente para evitar o fechamento das lojas. \"No cenário atual, todo mundo pede ajuda, quem precisa e quem não precisa. Faz parte do nosso trabalho identificar quem precisa e quem queremos dentro dos shoppings. Não adianta tentar ajudar um lojista que não tem futuro\", afirma a diretora do Iguatemi, ao lembrar o fechamento da Nôa Nôa no Iguatemi São Paulo, em 2008, que abriu espaço para a chegada da Channel. \"Em épocas de mais dificuldades, tem um movimento mais acelerado de substituição de marcas que não mostram um desempenho tão bom. São poucas as marcas eternas\", acrescenta. Veja fotos dos Mall of the World, o maior shopping do mundo']"
      ]
     },
     "execution_count": 22,
     "metadata": {
      "tags": []
     },
     "output_type": "execute_result"
    }
   ],
   "source": [
    "sentences[:10]"
   ]
  },
  {
   "cell_type": "markdown",
   "metadata": {
    "id": "iQJkcN-hyaBD"
   },
   "source": [
    "Сайт, позволивший понять, как использовать модель трансформеров на тексте: https://pypi.org/project/sentence-transformers/"
   ]
  },
  {
   "cell_type": "code",
   "execution_count": 23,
   "metadata": {
    "colab": {
     "base_uri": "https://localhost:8080/",
     "height": 67,
     "referenced_widgets": [
      "991552adf06f4906ad41a63d7c59d34a",
      "a2b4da8d75fc4b1795fcbbf4aec5a109",
      "bba122324948469c90056b9e88e20b15",
      "0828ca67da9c4727a318027ffbe1bc3a",
      "bdaaa79157db4cab8b5675584abf5f96",
      "a24245c7fbc24229b8eebe1589f2df2f",
      "4708b0f6d80a4c2baabc02e4c7f367ef",
      "0b0729409316416b9f9a9e925f163aa3"
     ]
    },
    "id": "CQmn1cb-rXU3",
    "outputId": "df67b7e4-3d35-41a7-f337-ff3e45d40296"
   },
   "outputs": [
    {
     "data": {
      "application/vnd.jupyter.widget-view+json": {
       "model_id": "991552adf06f4906ad41a63d7c59d34a",
       "version_major": 2,
       "version_minor": 0
      },
      "text/plain": [
       "HBox(children=(FloatProgress(value=0.0, max=305584576.0), HTML(value='')))"
      ]
     },
     "metadata": {
      "tags": []
     },
     "output_type": "display_data"
    },
    {
     "name": "stdout",
     "output_type": "stream",
     "text": [
      "\n"
     ]
    }
   ],
   "source": [
    "# Ваш код здесь\n",
    "from sentence_transformers import SentenceTransformer\n",
    "model = SentenceTransformer('paraphrase-distilroberta-base-v1')"
   ]
  },
  {
   "cell_type": "code",
   "execution_count": 24,
   "metadata": {
    "id": "Pb_B5ZkMshtr"
   },
   "outputs": [],
   "source": [
    "sentence_embeddings = model.encode(sentences)"
   ]
  },
  {
   "cell_type": "code",
   "execution_count": 35,
   "metadata": {
    "colab": {
     "base_uri": "https://localhost:8080/"
    },
    "id": "Iz71yQlsuYnK",
    "outputId": "248e6c92-c4d3-4a0d-92e1-ae303d42715b"
   },
   "outputs": [
    {
     "data": {
      "text/plain": [
       "array([[ 0.1973576 ,  0.50956154,  0.23380049, ..., -0.39237437,\n",
       "        -0.0825353 , -0.02109084],\n",
       "       [ 0.16097409,  0.5209409 , -0.04146318, ..., -0.36265427,\n",
       "        -0.2625935 ,  0.05058622],\n",
       "       [ 0.10259512, -0.2960002 , -0.1746758 , ...,  0.14292888,\n",
       "         0.2668699 ,  0.21371497],\n",
       "       ...,\n",
       "       [ 0.08270508,  0.14912824,  0.18687919, ...,  0.65920615,\n",
       "         0.270247  ,  0.13755783],\n",
       "       [ 0.17717537,  0.5094814 ,  0.451231  , ..., -0.22586793,\n",
       "        -0.01641685, -0.08321832],\n",
       "       [-0.35089543,  0.18360656,  0.12991531, ..., -0.10436612,\n",
       "         0.23535646,  0.40436813]], dtype=float32)"
      ]
     },
     "execution_count": 35,
     "metadata": {
      "tags": []
     },
     "output_type": "execute_result"
    }
   ],
   "source": [
    "sentence_embeddings"
   ]
  },
  {
   "cell_type": "code",
   "execution_count": 46,
   "metadata": {
    "colab": {
     "base_uri": "https://localhost:8080/"
    },
    "id": "JKD--x8CwuA6",
    "outputId": "69db3400-5eca-49de-aa52-f1d28dfbc7ab"
   },
   "outputs": [
    {
     "data": {
      "text/plain": [
       "<3047x768 sparse matrix of type '<class 'numpy.float32'>'\n",
       "\twith 2340096 stored elements in Compressed Sparse Row format>"
      ]
     },
     "execution_count": 46,
     "metadata": {
      "tags": []
     },
     "output_type": "execute_result"
    }
   ],
   "source": [
    "sentence_embeddings = csr_matrix(sentence_embeddings)\n",
    "sentence_embeddings"
   ]
  },
  {
   "cell_type": "code",
   "execution_count": 26,
   "metadata": {
    "colab": {
     "base_uri": "https://localhost:8080/"
    },
    "id": "P6U2EkuusjR5",
    "outputId": "1271dd9d-fc61-4b7b-b4f0-8b90d3b3a4fd"
   },
   "outputs": [
    {
     "name": "stdout",
     "output_type": "stream",
     "text": [
      "Sentence: Ethereum, a Virtual Currency, Enables Transactions That Rival Bitcoin's All of this work is still very early. The first full public version of the Ethereum software was recently released, and the system could face some of the same technical and legal problems that have tarnished Bitcoin. Many Bitcoin advocates say Ethereum will face more security problems than Bitcoin because of the greater complexity of the software. Thus far, Ethereum has faced much less testing, and many fewer attacks, than Bitcoin. The novel design of Ethereum may also invite intense scrutiny by authorities given that potentially fraudulent contracts, like the Ponzi schemes, can be written directly into the Ethereum system. But the sophisticated capabilities of the system have made it fascinating to some executives in corporate America. IBM said last year that it was experimenting with Ethereum as a way to control real world objects in the so-called Internet of things. Microsoft has been working on several projects that make it easier to use Ethereum on its computing cloud, Azure. \"Ethereum is a general platform where you can solve problems in many industries using a fairly elegant solution - the most elegant solution we have seen to date,\" said Marley Gray, a director of business development and strategy at Microsoft. Mr. Gray is responsible for Microsoft's work with blockchains, the database concept that Bitcoin introduced. Blockchains are designed to store transactions and data without requiring any central authority or repository. Blockchain ledgers are generally maintained and updated by networks of computers working together - somewhat similar to the way that Wikipedia is updated and maintained by all its users. Many corporations, though, have created their own Ethereum networks with private blockchains, independent of the public system, and that could ultimately detract from the value of the individual unit in the Ethereum system - known as an Ether - that people have recently been buying. The interest in Ethereum is one sign of the corporate fascination with blockchains. Most major banks have expressed an interest in using them to make trading and money transfer faster and more efficient. On Tuesday, executives from the largest banks will gather for a conference, \"Blockchain: Tapping I nto the Real Potential , Cutting Through the Hype.\" Many of these banks have recently been looking at how some version of Ethereum might be put to use. JPMorgan, for instance, has created a specific tool, Masala, that allows some of its internal databases to interact with an Ethereum blockchain. Michael Novogratz, a former top executive at the private equity firm Fortress Investing Group, who helped lead Fortress's investment in Bitcoin, has been looking at Ethereum since he left Fortress last fall. Mr. Novogratz said that he made a \"significant\" purchase of Ether in January. He has also heard how the financial industry's chatter about the virtual currency has evolved. \"A lot of the more established players were thinking, 'It's still an experiment,' \" he said. \"It feels like in the last two to three months that experiment is at least getting a lot more validation.\" Since the beginning of the year, the value of an individual unit of Ether has soared as high as $12 from around $1. That has brought the value of all existing Ether to over $1 billion at times, significantly more than any virtual currency other than Bitcoin, which had over $6 billion in value outstanding last week. Since Bitcoin was invented, there have been many so-called alt-coins that have tried to improve on Bitcoin, but none have won the following of Ethereum. Unlike Bitcoin, which was released in 2009 by a mysterious creator known as Satoshi Nakamoto, Ethereum was created in a more transparent fashion by a 21-year-old Russian-Canadian, Vitalik Buterin, after he dropped out of Waterloo University in Ontario. The most basic aim of Ethereum was to make it possible to program binding agreements into the blockchain - the smart contract concept. Two people, for instance, could program a bet on a sports game directly into the Ethereum blockchain. Once the final score came in from a mutually agreed upon source - say, The Associated Press - the money would be automatically transferred to the winning party. Ether can be used as a currency in this system, but Ether are also necessary to pay for the network power needed to process the bet. The Ethereum system has sometimes been described as a single shared computer that is run by the network of users and on which resources are parceled out and paid for by Ether. A team of seven co-founders helped Mr. Buterin write up the software after he released the initial description of the system. Mr. Buterin's team raised $18 million in 2014 through a presale of Ether, which helped fund the Ethereum Foundation, which supports the software's development. Like Bitcoin, Ethereum has succeeded by attracting a dedicated network of followers who have helped support the software, partly in the hope that their Ether will increase in value if the system succeeds. Last week, there were 5,800 computers - or nodes - helping support the network around the world. The Bitcoin network had about 7,400 nodes. One of Mr. Buterin's co-founders, Joseph Lubin, has set up ConsenSys, a company based in Brooklyn that has hired over 50 developers to build applications on the Ethereum system, including one that enables music distribution and another that allows for a new kind of financial auditing. The ConsenSys offices are in an old industrial building in the Bushwick section of Brooklyn. The office is essentially one large room, with all the messy trademarks of a start-up operation, including white boards on the walls and computer parts lying around. Mr. Lubin said he had thrown himself into Ethereum after starting to think that it delivered on some of the failed promise of Bitcoin, especially when it came to allowing new kinds of online contracts and markets. \"Bitcoin presented the broad strokes vision, and Ethereum presented the crystallization of how to deliver that vision,\" he said. Joseph Bonneau, a computer science researcher at Stanford who studies so-called crypto-currencies, said Ethereum was the first system that had really caught his interest since Bitcoin. It is far from a sure thing, he cautioned. \"Bitcoin is still probably the safest bet, but Ethereum is certainly No. 2, and some folks will say it is more likely to be around in 10 years,\" Mr. Bonneau said. \"It will depend if any real markets develop around it. If there is some actual application.\"\n",
      "Embedding: [ 1.97357595e-01  5.09561539e-01  2.33800486e-01  5.71637414e-04\n",
      "  2.73222804e-01  5.75586796e-01  9.70921665e-03 -2.79700488e-01\n",
      "  8.88590515e-02 -3.47248197e-01  6.28089726e-01  7.28158355e-02\n",
      "  3.33491743e-01 -2.19223827e-01  6.09320045e-01 -6.77025616e-01\n",
      " -1.78431913e-01  4.36293095e-01 -1.04979202e-01  2.05739275e-01\n",
      " -5.81009015e-02 -1.20633021e-01  1.90865453e-02 -6.36784017e-01\n",
      " -1.12686343e-02  3.96631807e-01  2.64475673e-01  5.90967480e-03\n",
      "  2.56602764e-01 -7.06624538e-02 -1.93810612e-01 -2.84504145e-01\n",
      "  2.84545064e-01  2.78699160e-01 -3.91419888e-01  3.22055370e-01\n",
      "  2.60088444e-01  1.71100199e-01 -8.29477161e-02 -3.13328743e-01\n",
      "  6.11716628e-01  4.90232617e-01 -5.68871379e-01  4.03112113e-01\n",
      "  2.60314405e-01 -2.43973047e-01 -5.60018182e-01  5.21981083e-02\n",
      "  2.08320946e-01 -1.27654240e-01  2.29654368e-02  4.23557669e-01\n",
      " -1.42700821e-01 -1.64070010e-01  1.21248372e-01 -2.52043277e-01\n",
      " -9.91586968e-02  2.63424397e-01 -1.26805678e-01  5.01512647e-01\n",
      " -1.11646920e-01 -6.64421916e-01  2.44088978e-01  9.41461205e-01\n",
      "  2.85242856e-01 -4.08298790e-01  3.49964201e-01  4.07455564e-01\n",
      "  1.16695017e-01  3.10706973e-01  9.96681750e-02 -9.25754756e-02\n",
      "  2.13777870e-01 -1.63945146e-02  2.54639387e-01 -9.37538669e-02\n",
      " -2.18144238e-01  5.05422056e-03  7.31384829e-02  1.98770240e-01\n",
      "  7.35120177e-02 -1.01774931e-05 -3.94805744e-02  2.73153365e-01\n",
      " -7.90420949e-01 -6.28293604e-02  5.79781756e-02 -5.48898160e-01\n",
      " -1.47464335e-01 -1.16305239e-03 -2.89813709e-02 -2.93723822e-01\n",
      " -6.36594743e-02 -4.18548584e-01  3.07338238e-02  1.02730848e-01\n",
      " -3.01491439e-01  1.33142233e-01  1.05369978e-01 -7.25035965e-02\n",
      "  1.95971817e-01 -2.99481034e-01 -3.46823670e-02  1.10961325e-01\n",
      " -2.92099237e-01  2.60656476e-01 -5.58545411e-01  1.63945258e-01\n",
      " -8.31367727e-03 -4.41546410e-01 -2.04145223e-01  1.28599644e-01\n",
      "  4.91788797e-03 -2.26896971e-01  2.07797408e-01 -8.37500840e-02\n",
      "  2.97018021e-01 -1.45329595e-01 -2.84197122e-01 -5.39455451e-02\n",
      " -1.21777222e-01 -2.11559057e-01 -1.23594069e+00  1.42465569e-02\n",
      " -6.21766746e-02 -4.82734889e-02 -1.03877634e-01 -2.70702243e-01\n",
      " -2.51560777e-01 -1.21072531e-01 -1.71554148e-01 -1.09920971e-01\n",
      " -3.48629318e-02 -1.94411650e-02  4.12691474e-01 -3.24932277e-01\n",
      " -3.95170748e-02  2.34347448e-01  3.38703906e-03  1.51589394e-01\n",
      " -3.76368284e-01  1.29026324e-01 -8.69441032e-02 -2.45068267e-01\n",
      "  1.60464704e-01 -1.67186022e-01  5.45911677e-02 -1.53201874e-02\n",
      "  6.52265906e-01  3.28002274e-01  3.19039896e-02  3.17211628e-01\n",
      "  3.43055308e-01 -5.13555622e-03  4.71593812e-02 -7.39692301e-02\n",
      " -7.22248405e-02 -6.48650467e-01  1.93271011e-01 -1.98061168e-01\n",
      "  1.49626374e-01 -1.45898730e-01  2.49134302e-01 -1.79913476e-01\n",
      " -4.33147475e-02  3.59804928e-01 -9.07628462e-02 -5.11291862e-01\n",
      " -3.42980802e-01 -3.37778419e-01 -3.81037116e-01  2.39269495e-01\n",
      "  1.38519704e-01 -1.21661440e-01  1.68029636e-01  1.72878712e-01\n",
      " -4.27465945e-01 -1.82086259e-01  2.86931694e-01  4.30025697e-01\n",
      "  2.74411023e-01 -7.07002059e-02 -2.09370628e-02  4.54871029e-01\n",
      "  4.70090210e-01 -2.10549422e-02  5.00208437e-02  8.20967972e-01\n",
      "  3.06358784e-01  2.82958984e-01 -6.36917710e-01  1.27927929e-01\n",
      " -4.65390921e-01  3.72158647e-01  3.83537769e-01  5.18106818e-01\n",
      "  4.30599719e-01  4.01022658e-02  3.49704474e-01 -1.24724153e-02\n",
      " -1.95332423e-01  1.19901538e-01  1.46175817e-01 -3.81783158e-01\n",
      "  2.45976016e-01  3.52747381e-01  2.05210209e-01 -7.78908795e-03\n",
      "  2.80811667e-01 -2.67681152e-01 -4.42566663e-01  3.95390242e-01\n",
      "  4.24395055e-01 -5.58685541e-01  3.90500963e-01  1.43426687e-01\n",
      " -1.81342095e-01  3.71262223e-01 -5.10345459e-01 -3.02065343e-01\n",
      "  4.03861821e-01  3.81056666e-01  1.81404009e-01  1.14422396e-01\n",
      "  2.91944534e-01  1.63314581e-01  1.34938374e-01  9.81311426e-02\n",
      "  1.83624089e-01 -2.56433904e-01  1.61616296e-01 -9.17963237e-02\n",
      "  3.40950370e-01 -5.83265662e-01  6.22133687e-02  2.18361616e-01\n",
      " -8.42963606e-02  9.30062085e-02 -1.41155059e-02  3.50792482e-02\n",
      "  1.53179616e-02 -1.28340304e-01  3.83432239e-01 -1.70741051e-01\n",
      " -5.55746779e-02  9.28545073e-02  6.31111488e-03 -3.44845891e-01\n",
      " -3.33138295e-02 -2.04417750e-01 -1.43466890e-01 -3.04496795e-01\n",
      "  1.14552200e-01  3.12792301e-01  6.47644639e-01 -2.46281758e-01\n",
      "  1.01241007e-01 -5.11981025e-02 -1.71648592e-01  2.82670081e-01\n",
      " -1.89096272e-01 -2.47983918e-01 -3.05212617e-01 -4.22541142e-01\n",
      "  9.79180187e-02 -4.10680473e-01  1.55952945e-01 -1.76680043e-01\n",
      "  1.08841985e-01 -1.88226983e-01 -3.30084771e-01 -2.98980415e-01\n",
      " -9.47798043e-02  6.27110749e-02 -4.18751910e-02  8.96473527e-02\n",
      " -3.69414806e-01 -2.38519236e-02  3.42308939e-01  2.07419604e-01\n",
      "  3.78234506e-01 -3.64576787e-01  1.82316899e-01 -1.07079230e-01\n",
      "  2.26455361e-01 -3.29909086e-01  5.40718958e-02 -2.82410026e-01\n",
      " -4.37263429e-01 -1.51184509e-02 -7.94944074e-03 -4.07819241e-01\n",
      " -4.92916673e-01  5.34037314e-03 -2.05817029e-01  7.74964988e-02\n",
      " -2.00641751e-01 -6.65251762e-02  3.91206704e-02 -7.69618154e-02\n",
      "  7.63154030e-02  1.18535832e-01  6.79193377e-01  1.18939608e-01\n",
      " -2.66606808e-01 -2.57272452e-01 -7.77050480e-03  1.70022383e-01\n",
      "  1.18131220e-01  1.46663949e-01 -1.31686404e-03 -5.04796430e-02\n",
      "  2.80819565e-01  3.80504280e-01  1.05801031e-01  5.97863197e-02\n",
      "  8.97922143e-02 -3.16774905e-01 -1.56054765e-01 -1.31473035e-01\n",
      "  2.35033572e-01  4.07725573e-01 -3.51069421e-02 -1.58398598e-01\n",
      "  5.22908926e-01 -3.61001119e-02 -5.21411151e-02  2.47650698e-01\n",
      " -1.56381488e-01 -5.91883302e-01  8.55563462e-01  5.20746410e-02\n",
      "  3.73563580e-02  2.68602252e-01 -2.83893228e-01 -7.51459301e-02\n",
      "  1.22746341e-02 -3.08700204e-01 -1.57434911e-01 -2.68832505e-01\n",
      "  5.50724864e-01  3.47438574e-01  1.29170239e-01  5.75502887e-02\n",
      " -3.02109212e-01 -1.68942466e-01 -8.68284423e-03  1.57971442e-01\n",
      "  2.27405190e-01  8.93809497e-02  7.61766881e-02  1.08046003e-01\n",
      " -6.12799749e-02  1.14038303e-01  1.16472930e-01 -3.77008200e-01\n",
      "  9.40725803e-02  7.73942545e-02  3.57772410e-01  5.89272380e-01\n",
      " -2.04121172e-01 -7.83879980e-02  3.00583661e-01 -2.43059516e-01\n",
      " -3.43414284e-02  8.19401965e-02 -8.81127536e-01  2.46363476e-01\n",
      "  3.15807275e-02 -1.18336268e-02  2.17246413e-01  6.38157427e-02\n",
      "  1.39743313e-01 -2.41496891e-01  2.08642364e-01  9.97140929e-02\n",
      "  7.82450661e-03  3.19954693e-01 -5.07162772e-02  2.19599381e-01\n",
      " -5.65882660e-02  1.85318008e-01 -8.47020596e-02  1.23166531e-01\n",
      "  3.37047696e-01  2.87769958e-02  2.32848495e-01  2.09753782e-01\n",
      " -5.35398185e-01 -6.91030174e-02 -2.58503258e-01  7.50998035e-02\n",
      "  1.71003222e-01 -8.92473385e-02 -2.16332495e-01  2.68573582e-01\n",
      " -3.64889979e-01 -1.16741583e-01  3.13348621e-02  2.38011017e-01\n",
      " -2.58264452e-01 -5.23353517e-01 -5.12835979e-02  2.30600223e-01\n",
      " -7.86817968e-01  4.40369025e-02 -2.94865608e-01 -5.77135906e-02\n",
      " -5.48629045e-01  4.19654965e-01  5.26220091e-02 -1.76498115e-01\n",
      "  6.51030689e-02 -6.69581443e-02  9.39887017e-03  2.56706357e-01\n",
      "  3.22103500e-01 -5.32553554e-01  9.79244262e-02 -4.00343612e-02\n",
      " -4.43790019e-01 -2.54851401e-01  8.82559866e-02  3.32922302e-02\n",
      "  2.39408597e-01  2.78963715e-01 -1.26402993e-02 -5.62797952e-03\n",
      "  1.32669166e-01  1.12601258e-01 -1.34600133e-01 -5.25995530e-03\n",
      " -4.41469103e-02 -2.16742977e-01  1.43338174e-01  1.69898570e-01\n",
      "  1.64425358e-01  1.18263423e-01  2.21785039e-01 -1.70456991e-02\n",
      " -5.62924385e-01  3.73268783e-01 -3.66008878e-02  1.66706175e-01\n",
      "  1.74454436e-01  5.08491993e-01 -5.66300631e-01 -2.07055479e-01\n",
      " -4.27686870e-02  3.43479589e-02  5.43335900e-02 -6.25604033e-01\n",
      " -1.99713126e-01 -1.38509303e-01 -2.23203190e-02 -3.02472681e-01\n",
      "  9.09128636e-02  1.16523311e-01 -1.31701872e-01  5.91546632e-02\n",
      "  8.92082080e-02  4.93214056e-02 -1.18021071e-01  3.08541149e-01\n",
      " -1.07228704e-01  1.53029755e-01  1.99180394e-01  2.96138883e-01\n",
      "  1.33900046e-01  2.70707875e-01  7.86367208e-02  2.77219713e-01\n",
      "  6.09416105e-02  2.04321533e-01  1.47719026e-01  5.63537404e-02\n",
      " -3.30232769e-01  2.27394775e-01 -2.63301998e-01 -2.76642740e-01\n",
      " -1.19472407e-02 -4.72128868e-01  3.15091252e-01 -2.22823575e-01\n",
      " -4.68578219e-01  3.96784633e-01 -2.53103465e-01 -2.66943365e-01\n",
      " -1.45991400e-01  2.81277150e-01  4.71651554e-02 -8.13915431e-02\n",
      " -4.51847523e-01  1.73799902e-01  3.57966304e-01 -1.13122709e-01\n",
      " -4.00370061e-01  8.63167048e-02  1.60613552e-01  9.66224968e-02\n",
      " -1.63973302e-01 -5.15232384e-02 -3.76616791e-02 -2.86832809e-01\n",
      " -1.59127206e-01  1.51193470e-01  1.82247818e-01  1.28911436e-01\n",
      "  2.28567999e-02  7.52303842e-03  1.96520090e-01 -9.95603800e-02\n",
      " -1.52717352e-01  2.12516993e-01 -1.11294128e-01  6.15063787e-01\n",
      " -1.51808023e-01  1.86569035e-01  2.62119383e-01  1.43383414e-01\n",
      "  1.58712566e-01  5.78979373e-01  1.19737118e-01 -1.62545085e-01\n",
      " -1.50203899e-01 -2.60965049e-01 -5.18668629e-02  3.22517157e-02\n",
      " -1.44694280e-03  1.47706777e-01  6.91522658e-02 -3.53626132e-01\n",
      " -1.03348196e-02  1.36519670e-01  1.75882563e-01 -4.23468232e-01\n",
      "  4.33290511e-01  7.82115012e-02 -3.27232122e-01 -1.87556207e-01\n",
      "  1.86356336e-01  5.23333609e-01  1.75645337e-01 -3.20665061e-01\n",
      "  1.32269412e-01 -3.99202228e-01  4.19951499e-01  2.18700528e-01\n",
      "  1.34858608e-01 -3.14152718e-01 -5.26870005e-02  4.18556839e-01\n",
      " -3.12630653e-01  1.63309932e-01  3.31876837e-02  2.12128982e-01\n",
      "  1.44023836e-01 -2.95119584e-01  1.07582629e-01 -2.58873291e-02\n",
      "  3.88119161e-01  2.16314316e-01  6.79784566e-02  2.38060370e-01\n",
      " -1.30768165e-01  1.65847376e-01  2.33861968e-01 -4.45389926e-01\n",
      "  3.78678516e-02  6.99853152e-02  2.13319808e-01  2.04101175e-01\n",
      " -4.11208212e-01 -9.01603997e-02 -7.43010119e-02 -3.56852740e-01\n",
      "  2.98227966e-01  3.44608605e-01 -2.24234372e-01 -3.50091815e-01\n",
      " -1.57179013e-01  1.10843576e-01 -3.47710639e-01  1.53821766e-01\n",
      "  6.34329841e-02  3.10660213e-01  7.91341662e-02 -2.06718266e-01\n",
      "  2.68915296e-01  2.23969579e-01  5.99255227e-03 -6.74916357e-02\n",
      "  2.08889768e-02 -1.01922050e-01  2.53604680e-01 -5.80088019e-01\n",
      " -2.39423722e-01 -3.63410234e-01  1.43633127e-01  9.66758579e-02\n",
      "  3.36164460e-02  3.56799334e-01  1.81539148e-01  2.65397191e-01\n",
      "  8.00197423e-02  2.96481192e-01  2.28219256e-02  1.68408245e-01\n",
      " -2.06356078e-01 -5.80628514e-01 -1.95207626e-01  1.79043710e-02\n",
      " -7.17080310e-02 -5.85240312e-04  3.46323848e-02  1.42698195e-02\n",
      " -1.81722432e-01 -3.86988372e-02 -1.10888958e-01 -1.07988104e-01\n",
      " -1.53937101e-01 -3.40969749e-02  8.85666087e-02  7.63180733e-01\n",
      "  9.83845145e-02 -1.69713229e-01  2.31461138e-01  2.73696393e-01\n",
      " -1.61893502e-01  1.13384962e-01 -1.85160249e-01 -1.21256396e-01\n",
      " -4.27966528e-02 -4.26150590e-01 -8.93493667e-02  3.44488658e-02\n",
      "  2.09061652e-01  5.82735538e-01 -2.12233633e-01  1.73785761e-02\n",
      "  5.02003878e-02 -1.90429166e-01 -6.06038086e-02 -3.78936976e-01\n",
      "  7.92369545e-02 -1.97534919e-01  4.86749023e-01 -4.94376011e-02\n",
      "  6.59563318e-02 -7.57007301e-02  1.87500715e-01 -6.28482252e-02\n",
      "  9.45242047e-02  2.69168049e-01 -4.13973629e-01  6.73647344e-01\n",
      " -4.73526001e-01  1.23876825e-01 -1.27872169e-01  3.84911567e-01\n",
      "  8.62234384e-02  2.10509703e-01  1.16425768e-01  2.66155209e-02\n",
      "  4.69972670e-01  1.19786084e-01  5.91582730e-02 -8.20661783e-02\n",
      " -3.65519561e-02 -2.26239756e-01 -1.07346587e-02  4.35001194e-01\n",
      " -7.75609314e-02 -2.45332003e-01  3.86868358e-01 -8.83710831e-02\n",
      "  8.36652756e-01  4.67072397e-01  2.98236251e-01  6.86452538e-02\n",
      "  5.18117905e-01 -9.90083963e-02  1.42401174e-01  5.88918850e-02\n",
      " -3.26228440e-01  2.04568535e-01  3.38380039e-01  1.81473851e-01\n",
      "  2.21124068e-02 -2.24255472e-01  9.11118388e-02 -1.90172046e-01\n",
      " -2.81351566e-01  2.48649102e-02  1.16279423e-01  9.88250002e-02\n",
      " -1.39049947e-01  3.26363385e-01 -2.23358974e-01  3.28470230e-01\n",
      " -3.24599117e-01  1.72408909e-01  1.56201422e-01  1.84045404e-01\n",
      " -2.14836434e-01  7.19469935e-02  1.03851194e-02  6.82327271e-01\n",
      "  1.25870526e-01 -3.83995567e-03  1.23151988e-01  6.94162250e-02\n",
      " -4.32808436e-02  1.76355839e-01 -5.09878583e-02 -3.82902086e-01\n",
      " -1.57145560e-02 -2.05458373e-01 -9.18365940e-02  1.74593151e-01\n",
      "  4.90053296e-01 -4.75727558e-01  9.38895345e-02 -7.67813474e-02\n",
      " -3.13397497e-01 -3.73573080e-02  3.31296921e-01 -1.35318428e-01\n",
      " -2.12550774e-01 -2.96059817e-01  4.15078640e-01  9.27603170e-02\n",
      "  2.97252119e-01  9.28711742e-02  2.49257132e-01 -1.09294593e-01\n",
      " -4.02435362e-01 -1.65558711e-01 -1.50859386e-01 -3.53894979e-01\n",
      " -3.60790603e-02 -6.65107906e-01  3.13645065e-01 -3.30182940e-01\n",
      " -7.61844069e-02  2.94675082e-01  6.04180619e-02 -1.17337331e-01\n",
      " -4.12213266e-01  2.80394435e-01  1.76466137e-01  7.47446656e-01\n",
      " -1.57034814e-01 -2.00287551e-01  3.85074079e-01 -2.75551416e-02\n",
      "  2.94859886e-01  3.02083790e-03  1.74442649e-01  3.57958794e-01\n",
      "  8.57285410e-02 -4.34802659e-02 -2.30447933e-01  1.61337420e-01\n",
      "  3.09386194e-01 -3.92374367e-01 -8.25352967e-02 -2.10908428e-02]\n",
      "\n",
      "Sentence: Bitcoin Future: When GBPcoin of Branson Wins Over USDcoin of Trump The alarm clock wakes me at 8:00 with stream of advert-free broadcasting, charged at one satoshi per second. The current BTC exchange rate makes that snooze button a costly proposition! So I get up, make coffee and go to my computer to check the overnight performance of my bots. TradeBot earns me on Trump and Branson TradeBot, which allocates funds between the main chain and various national currency side-chains, generated a lucrative 0.24 BTC return. TradeBot has been reliably profitable ever since I set it to trade USDcoin according to political prediction market data. As expected, the latest poll numbers came in as highly supportive of Trump's re-election as USDcoin CEO. Trump's resistance to de-anonymizing public spending, by moving USDcoin off the Confidential Transactions layer, continues to erode his coin's credibility. In his latest speech, Trump maintains that full CT-privacy is essential to \"combatting CNYcoin's sinister ring-signature scheming.\" I make a note to increase my long position in GBPcoin. Following CEO Branson's memo to the effect that government finances and national banks be brought into compliance with the public blockchain , British corruption indices have flatlined. As the first national econmy to \"go light,\" Britain leads the global recovery from the Great Debt Default of '20. Happy with the GoatData Project I check TeachBot and note that it's performing in-line with expectations. TeachBot serves as an autonomous info-agent between various contracting AIs and data providers. The 0.5 BTC bounty it awarded to a team of Sherpas to outfit a herd of Tibetan mountain goats with full motion-sensing rigs has already been repaid...I check the latest figures... four times over! My best TeachBot strategy to date, the GoatData project provides valuable data to WinterHoof, the Artificial General Intelligence in charge of the Swiss military's quadripedal robotics program. At this rate, I'll soon have enough BTC to retire to Satoshi City on Mars!\n",
      "Embedding: [ 1.60974085e-01  5.20940900e-01 -4.14631814e-02 -1.19969614e-01\n",
      "  9.95427072e-02  9.74400938e-02 -3.32833454e-03  1.94708034e-02\n",
      "  4.27359790e-02 -7.00060353e-02  3.35493922e-01  5.06996810e-01\n",
      " -7.82101452e-02  9.30217952e-02  8.58791694e-02  3.22645724e-01\n",
      " -1.27963588e-01  7.02866316e-02  7.11019617e-03  2.43157178e-01\n",
      "  1.38401866e-01  1.84536576e-01  5.14249861e-01  2.53804237e-01\n",
      " -5.09202480e-02 -3.30577418e-03  3.06102447e-02  1.05290234e-01\n",
      " -7.31243864e-02 -6.04352094e-02  1.28503323e-01 -3.32536310e-01\n",
      "  1.33667797e-01  3.46254110e-01 -1.28428668e-01  4.17844057e-01\n",
      "  1.47490934e-01  1.47764012e-01 -5.23521900e-01 -4.29485142e-01\n",
      "  2.08245695e-01  4.01861757e-01  3.70066702e-01  1.76732063e-01\n",
      "  2.28428110e-01  1.06565572e-01 -1.28742516e-01  4.58544761e-01\n",
      " -7.11823404e-02 -6.39707685e-01  1.45821869e-01  1.15212962e-01\n",
      "  1.22121759e-02 -5.87490462e-02  1.60756484e-01 -1.17239103e-01\n",
      "  1.31017879e-01 -1.84118435e-01 -1.65496901e-01 -1.29281059e-01\n",
      "  3.90143573e-01 -4.01009798e-01 -6.27203733e-02  3.17318112e-01\n",
      " -9.67758596e-02  6.75505549e-02 -7.62845129e-02  1.54324681e-01\n",
      "  9.41710472e-02  4.75541234e-01 -2.83049922e-02  8.89609307e-02\n",
      "  2.24892139e-01  2.46466577e-01  1.83814019e-02 -1.72757119e-01\n",
      " -1.31103963e-01  6.49724156e-03  8.82540178e-03  1.63824216e-01\n",
      " -1.75047472e-01 -4.01442140e-01  1.81357250e-01  2.46108443e-01\n",
      "  1.71219632e-01  3.71036619e-01  1.76463760e-02 -2.52985716e-01\n",
      "  1.11019500e-02 -2.34124154e-01 -3.27988565e-01  2.04517752e-01\n",
      " -2.54531920e-01  1.46571487e-01 -1.08216003e-01 -2.51465738e-01\n",
      " -3.81480381e-02  1.23071000e-01  4.16347682e-02  1.76634997e-01\n",
      " -1.71594441e-01  1.30706996e-01  4.29861844e-01 -2.35419750e-01\n",
      " -1.20198093e-02  2.56098062e-01 -2.10940897e-01 -4.77286160e-01\n",
      "  1.10124543e-01 -1.56939656e-01 -6.52746260e-02  2.08734572e-01\n",
      " -3.45144629e-01 -2.85602152e-01 -3.68145816e-02 -3.63138109e-01\n",
      "  1.44692838e-01  7.35596195e-02 -1.23206906e-01 -1.22283533e-01\n",
      " -2.97438204e-01 -8.75862315e-02 -7.24731684e-01 -2.07065001e-01\n",
      "  7.22805262e-02  1.59416392e-01 -3.00066210e-02  4.05286103e-02\n",
      " -2.62707353e-01 -3.87771904e-01  2.63597757e-01 -7.36783862e-01\n",
      " -3.90610158e-01  2.33356252e-01  1.67331487e-01  3.33476514e-02\n",
      "  4.11613464e-01  4.87366458e-03 -1.11446112e-01  2.54315078e-01\n",
      " -2.86453031e-02 -1.15729980e-01 -3.15097928e-01 -1.61447395e-02\n",
      "  5.50159693e-01 -3.01013410e-01  2.71400034e-01  2.69497424e-01\n",
      "  4.38921809e-01 -1.72630213e-02  4.28746864e-02  1.04592048e-01\n",
      "  1.24042019e-01 -1.41580194e-01 -7.52658546e-02 -3.44300270e-01\n",
      " -4.18292910e-01 -1.16868362e-01  2.44165748e-01  6.50562644e-02\n",
      "  1.15570828e-01 -3.57265532e-01  1.61646113e-01 -1.61831453e-01\n",
      "  3.19723725e-01 -3.29621732e-02 -9.51919705e-02 -2.32641801e-01\n",
      " -2.87872493e-01 -6.27178371e-01 -1.04280703e-01 -9.62307677e-02\n",
      "  1.61794111e-01  1.82596333e-02  7.16331452e-02  3.68620425e-01\n",
      " -2.04701081e-01 -1.75877869e-01  2.35075235e-01 -7.88113102e-02\n",
      "  2.94383109e-01  3.32539797e-01  3.28092486e-01  2.72635907e-01\n",
      " -2.23327905e-01 -1.71820447e-01  5.46109676e-01  3.84434044e-01\n",
      "  3.80312085e-01  5.23925245e-01 -4.01222780e-02  1.79960072e-01\n",
      "  1.36135742e-01 -2.07359158e-02  6.93885423e-03  3.53256881e-01\n",
      "  9.82357487e-02  2.24459339e-02  5.78759909e-01 -1.20198287e-01\n",
      " -1.37057364e-01 -3.59320007e-02 -5.21923490e-02 -3.94795500e-02\n",
      " -1.09741116e+00  1.15922786e-01  2.11715728e-01  1.57770008e-01\n",
      "  2.05336988e-01 -3.06391239e-01 -2.53124446e-01  4.90811348e-01\n",
      " -3.69540639e-02 -3.29133570e-01 -7.06896186e-01 -3.51261497e-01\n",
      " -5.26307344e-01  1.27820522e-01 -1.09428130e-01 -2.62882411e-01\n",
      "  3.00448388e-01  1.05005175e-01  5.61502814e-01 -2.76309758e-01\n",
      "  1.03731143e+00 -2.96869278e-01 -1.97226033e-02 -9.95023400e-02\n",
      " -7.59257078e-02 -4.76219594e-01  9.27800462e-02 -1.05856657e-01\n",
      "  4.30866361e-01  1.63103253e-01  4.41853225e-01  4.10384759e-02\n",
      " -1.21068805e-01  5.01502082e-02  6.73225224e-02  9.38760191e-02\n",
      "  2.85181642e-01 -5.28438836e-02 -9.13431197e-02  2.04415292e-01\n",
      "  6.65478781e-02 -2.11663112e-01 -2.27276728e-01 -4.53810334e-01\n",
      "  1.73243180e-01 -5.28660417e-01 -1.81085348e-01 -1.27387568e-01\n",
      " -3.52948964e-01  2.08162367e-01 -8.45130347e-03  4.91527691e-02\n",
      "  9.85899568e-02 -2.06836849e-01 -1.59851760e-01 -1.61704943e-02\n",
      "  7.35666901e-02 -8.07269067e-02  1.49803579e-01 -1.11368019e-02\n",
      " -3.04455042e-01  3.82033110e-01  1.32860288e-01  9.96905714e-02\n",
      "  2.74033070e-01 -1.02560163e-01  4.42091823e-01 -3.13719094e-01\n",
      "  1.47112280e-01  2.59552002e-01 -8.02055672e-02  7.64799267e-02\n",
      " -3.91042233e-01 -1.69382878e-02  2.64697433e-01  1.17764547e-01\n",
      "  1.08800121e-01 -6.05795998e-03  1.45702630e-01 -1.90525234e-01\n",
      "  6.38770461e-02  1.44291461e-01 -8.34970847e-02 -7.95881748e-01\n",
      " -2.49863323e-02 -1.08389936e-01  1.60870865e-01 -2.58361306e-02\n",
      "  7.52997864e-03 -1.14244409e-02  1.23180434e-01 -5.93074299e-02\n",
      " -4.60731983e-02  3.64760220e-01  2.45031416e-01  2.34158561e-02\n",
      " -8.55268538e-01  5.64957689e-03  6.03749156e-01  2.70915180e-01\n",
      " -3.00510317e-01  4.13403139e-02  5.74579649e-03 -2.46055797e-03\n",
      " -4.06788409e-01 -6.70947880e-02  2.39256784e-01 -6.78731948e-02\n",
      "  6.93292737e-01  1.19506858e-01  1.80445999e-01 -1.27114430e-02\n",
      "  2.31823921e-01 -6.26514554e-02  1.91895127e-01 -1.24533087e-01\n",
      "  1.08818978e-01  2.40254641e-01 -1.55698761e-01  5.06763235e-02\n",
      " -3.05125833e-01  2.66060561e-01  1.19746856e-01 -1.66861922e-01\n",
      "  1.27641559e-01 -2.91834235e-01  3.84351611e-01 -3.48776728e-01\n",
      " -2.08042532e-01  5.27318381e-02  1.12203181e-01 -5.13715530e-03\n",
      "  9.57129151e-02  1.67475238e-01  9.29124802e-02  2.01029241e-01\n",
      "  3.33971411e-01  2.56915927e-01  5.38203120e-01  1.14160031e-01\n",
      "  5.69931045e-03 -3.31885787e-03 -2.67570794e-01  6.36291862e-01\n",
      "  9.91700217e-02  5.06179512e-01 -1.90931961e-01 -1.26679271e-01\n",
      "  5.78486323e-01 -3.36465776e-01 -1.01850398e-01  7.29090944e-02\n",
      " -1.29300371e-01 -2.88834304e-01 -1.15552828e-01 -8.60198215e-03\n",
      "  1.78019516e-02  5.31901360e-01  3.91447276e-01 -3.62748913e-02\n",
      "  3.24414968e-01  5.62493242e-02 -3.98559839e-01  2.26626918e-02\n",
      " -2.46700600e-01  1.87350795e-01 -2.17119440e-01  5.34484349e-02\n",
      " -1.38857424e-01  3.68115246e-01  9.14944261e-02  7.25160241e-02\n",
      "  1.95074186e-01  3.60061288e-01  2.66263187e-01  5.10698020e-01\n",
      "  2.39000276e-01 -3.57562825e-02  3.07521850e-01 -7.51882792e-04\n",
      "  2.84029990e-01 -4.07211006e-01  1.78718001e-01 -3.77667636e-01\n",
      "  5.87435782e-01 -3.46191347e-01  9.63106602e-02  2.50419497e-01\n",
      " -2.31987417e-01 -2.37902343e-01  8.92008469e-02 -7.17328191e-02\n",
      " -2.83003777e-01 -5.55408478e-01  7.49788344e-01 -4.79249544e-02\n",
      "  1.15475245e-01  3.00846875e-01 -1.58450872e-01  2.21031651e-01\n",
      " -2.73703396e-01  1.87588155e-01  1.55082017e-01 -1.11385159e-01\n",
      "  2.53817856e-01 -1.14418590e+00 -2.17699468e-01 -1.57837629e-01\n",
      " -8.23871419e-02 -5.54673150e-02 -3.00800204e-01 -3.17617327e-01\n",
      " -3.01952690e-01  1.27805173e-02 -2.37529173e-01  2.86670864e-01\n",
      " -2.44805485e-01  2.68276781e-04 -6.61152601e-02  2.92290658e-01\n",
      "  4.90086496e-01  4.91440356e-01 -3.09347995e-02  2.05576301e-01\n",
      " -1.56879455e-01 -1.14358611e-01 -1.56122029e-01 -1.17809802e-01\n",
      " -7.20236480e-01 -1.56812951e-01 -1.17258586e-01 -2.97638401e-02\n",
      "  7.29349256e-02  1.20495493e-02  5.19355312e-02  1.49252504e-01\n",
      " -9.31182921e-01  2.26287901e-01  1.42714381e-02 -3.59070987e-01\n",
      "  6.32254958e-01  7.95199201e-02 -3.58623356e-01 -4.58237641e-02\n",
      " -1.54913262e-01  2.51190096e-01 -9.07804444e-03  9.74141341e-03\n",
      " -4.29236293e-01 -3.95401508e-01 -7.87017792e-02 -2.01995090e-01\n",
      " -8.94299597e-02  4.20564324e-01 -2.89458007e-01  3.94530520e-02\n",
      " -3.86048853e-02 -1.91063240e-01 -3.11218381e-01  2.92135775e-01\n",
      " -4.85128731e-01  9.08702165e-02  1.31028369e-01  2.56112367e-01\n",
      " -1.26164436e-01  2.91302465e-02  2.33913049e-01  1.99510872e-01\n",
      " -1.03591643e-02  1.31173775e-01 -2.74948299e-01 -1.97904035e-01\n",
      "  1.36016876e-01 -3.13748747e-01 -1.04450747e-01  5.82837582e-01\n",
      "  1.10358939e-01  2.48683900e-01 -4.67711315e-03 -1.48190603e-01\n",
      " -5.01126051e-04  3.92219812e-01  3.20733726e-01  3.15185130e-01\n",
      "  1.88152522e-01 -5.15470877e-02 -1.25184149e-01  1.70964688e-01\n",
      " -2.42428452e-01 -2.58147083e-02  2.21495748e-01 -1.15614317e-01\n",
      " -3.86745036e-02 -9.85564068e-02  1.15902431e-01  5.96009269e-02\n",
      "  1.17267214e-01  1.18612431e-01  2.22616702e-01 -3.61298740e-01\n",
      " -2.26154163e-01  8.11548755e-02 -4.96728346e-03 -1.23507753e-02\n",
      "  1.29373252e-01 -2.52209324e-02 -1.79412097e-01  1.40061945e-01\n",
      "  3.40535678e-03  2.32710510e-01  1.62607104e-01  3.73731762e-01\n",
      " -1.84286591e-02  9.15619284e-02  8.37362409e-01 -2.87108421e-01\n",
      " -3.81092839e-02 -1.35228828e-01 -1.68463327e-02  4.08880785e-03\n",
      "  1.55898213e-01 -7.58623779e-02  8.74019265e-01  2.09073395e-01\n",
      "  7.33204931e-02 -2.53849834e-01 -9.38868672e-02  2.80406773e-01\n",
      " -8.40082541e-02 -5.17117903e-02  1.40622497e-01 -8.01103860e-02\n",
      " -2.14749929e-02  1.37372818e-02 -3.73175144e-01 -4.52775478e-01\n",
      " -6.23178959e-01  3.57752651e-01 -1.51915625e-01 -1.00109354e-01\n",
      " -1.08473167e-01 -2.92165726e-01  3.98816943e-01  7.59034455e-02\n",
      "  6.56126998e-03  4.16732162e-01 -2.01540336e-01  1.30704433e-01\n",
      " -1.50571950e-02 -3.68132710e-01  1.15023263e-01  1.59201503e-01\n",
      "  1.77436084e-01  1.55734807e-01 -8.26719999e-02  6.26224056e-02\n",
      "  1.63147151e-01  3.62585634e-01 -2.39824399e-01  1.06408603e-01\n",
      " -4.90392119e-01  2.18007684e-01  8.09653252e-02 -2.01383859e-01\n",
      "  1.27436072e-01  2.21111178e-01 -5.04518032e-01  2.85664141e-01\n",
      "  8.26366395e-02 -4.36356813e-01  2.32615024e-01  6.37571886e-02\n",
      "  2.88561404e-01  1.75456539e-01  1.30866572e-01  2.40450017e-02\n",
      "  4.46362793e-03  2.23848164e-01 -2.55943239e-01  2.40247905e-01\n",
      "  2.24747166e-01 -9.97454226e-02  2.24174678e-01  2.55329795e-02\n",
      "  2.83726275e-01  2.64030039e-01 -1.21602267e-02  3.71363573e-02\n",
      "  3.77920002e-01  3.08928937e-02  1.66904368e-03  1.80576462e-02\n",
      " -2.30636850e-01 -1.51892751e-01  2.50526130e-01  4.05356288e-02\n",
      " -2.70204633e-01 -4.09661382e-02  1.44547403e-01  1.60365298e-01\n",
      " -2.63911575e-01  6.49841949e-02  2.84718692e-01 -8.30547065e-02\n",
      "  9.98307467e-02 -3.04766241e-02 -1.70256704e-01  2.18448877e-01\n",
      " -3.48663270e-01  1.26380265e-01  4.59168144e-02  8.94073248e-02\n",
      "  8.64426345e-02 -1.02401942e-01 -2.84790456e-01  3.16261590e-01\n",
      "  2.82900274e-01  3.30202579e-01  2.57223845e-01  2.51457006e-01\n",
      "  1.06968492e-01 -2.96129882e-01  8.92054558e-01  3.79004866e-01\n",
      "  1.18393786e-02 -1.08236738e-01 -4.28362459e-01  1.98167175e-01\n",
      " -4.88345325e-03 -1.32484138e-01 -4.64560688e-02 -4.31036297e-03\n",
      " -1.65294223e-02  3.01491439e-01 -2.18285352e-01  1.16489194e-01\n",
      "  1.72126427e-01 -3.21734935e-01  5.82465418e-02 -1.15045488e-01\n",
      "  6.28409162e-02 -2.03147665e-01  2.60557145e-01 -5.74862003e-01\n",
      " -3.19353282e-01 -3.24368626e-02  5.24005413e-01 -4.38602716e-02\n",
      "  4.54529226e-01  3.84618700e-01 -3.62871379e-01  7.07630157e-01\n",
      "  7.94638276e-01 -2.00773865e-01  3.67519617e-01 -4.04750369e-02\n",
      "  3.18783164e-01  5.30630052e-01  1.54004455e-01 -7.12982178e-01\n",
      "  8.46569240e-03  1.98615164e-01 -2.81642415e-02 -6.51171684e-01\n",
      " -1.58256739e-01  3.59767497e-01 -2.82667965e-01 -7.72982538e-02\n",
      "  8.46324563e-02  7.13655204e-02 -1.63820922e-01 -1.60099089e-01\n",
      "  5.61524749e-01  5.29496074e-01  3.02637480e-02 -2.75883287e-01\n",
      "  1.68910414e-01  1.73325196e-01 -4.24388908e-02  1.66907385e-01\n",
      " -3.55121315e-01 -2.38567851e-02 -1.73347294e-01 -1.50759012e-01\n",
      "  2.13797659e-01 -1.15069069e-01  3.36758010e-02 -7.92149454e-02\n",
      "  1.17383562e-01  2.71634728e-01 -4.60811108e-01 -2.18115926e-01\n",
      "  1.52496040e-01  2.75434315e-01 -4.01792936e-02 -4.95005101e-01\n",
      " -6.08031034e-01 -2.46809199e-01  3.25324386e-02 -3.11718941e-01\n",
      "  1.05536848e-01 -8.12468082e-02 -2.04894111e-01 -3.17363501e-01\n",
      "  1.53377235e-01 -3.13409150e-01 -2.63105392e-01  1.06923357e-01\n",
      " -2.49824136e-01 -6.70155287e-02  1.54716168e-02  1.86187103e-02\n",
      "  1.41863763e-01 -1.15521932e-02 -1.10282317e-01  3.11089396e-01\n",
      "  4.87402827e-02  1.02507330e-01  2.99223781e-01 -1.46374717e-01\n",
      " -3.91536713e-01  8.31357092e-02  4.82250780e-01 -3.43663335e-01\n",
      " -7.69278035e-02 -2.05301091e-01 -3.33430946e-01 -4.37558293e-02\n",
      "  2.06734419e-01  2.05166370e-01  5.10787740e-02 -2.41182446e-01\n",
      "  1.31752463e-02 -1.22649148e-01 -5.82379520e-01 -4.48494256e-01\n",
      "  5.21508753e-01 -3.86468947e-01  3.95783901e-01 -5.63917980e-02\n",
      "  2.27652431e-01 -8.09083283e-02  1.26784854e-02  3.53905320e-01\n",
      " -4.59685981e-01  4.03961539e-01 -5.96796870e-01  4.82538715e-03\n",
      "  4.55725491e-01  1.51390582e-01  6.23791337e-01  2.81630039e-01\n",
      " -5.34517653e-02 -1.55816793e-01  2.10192502e-01 -3.69923770e-01\n",
      " -8.21358114e-02 -2.14519668e-02 -2.48582989e-01  1.76674426e-01\n",
      " -4.36185420e-01 -3.62654269e-01 -2.62593508e-01  5.05862199e-02]\n",
      "\n"
     ]
    }
   ],
   "source": [
    "i = 0\n",
    "for sentence, embedding in zip(sentences, sentence_embeddings):\n",
    "    if i < 2:\n",
    "        print(\"Sentence:\", sentence)\n",
    "        print(\"Embedding:\", embedding)\n",
    "        print(\"\")\n",
    "        i += 1\n",
    "    else:\n",
    "        break"
   ]
  },
  {
   "cell_type": "code",
   "execution_count": 48,
   "metadata": {
    "colab": {
     "base_uri": "https://localhost:8080/"
    },
    "id": "UfUio9lmtPbs",
    "outputId": "c5a38ca7-6172-464b-b15e-231cb02e642a"
   },
   "outputs": [
    {
     "name": "stdout",
     "output_type": "stream",
     "text": [
      "precision@10 на тесте после применения трансформера: 0.0057026478461921215\n"
     ]
    }
   ],
   "source": [
    "lfm_feat_transformer = LightFM(loss='warp', random_state=7, k=10, no_components=20, learning_rate=0.8)\n",
    "lfm_feat_transformer.fit(interactions=interactions_matrix_train, sample_weight=weights_matrix_train, item_features=sentence_embeddings)\n",
    "\n",
    "precision_at_10_feat_transformer = precision_at_k(model=lfm_feat_transformer, test_interactions=interactions_matrix_test, k=10, item_features=sentence_embeddings).mean()\n",
    "print(f'precision@10 на тесте после применения трансформера: {precision_at_10_feat_transformer}')"
   ]
  },
  {
   "cell_type": "markdown",
   "metadata": {
    "id": "CfCvl-SmyFBL"
   },
   "source": [
    "Качество модели с использованием трансформера увеличилось на 4 десятитысячных."
   ]
  },
  {
   "cell_type": "code",
   "execution_count": null,
   "metadata": {
    "id": "2JDFBNWDyQOX"
   },
   "outputs": [],
   "source": []
  }
 ],
 "metadata": {
  "accelerator": "GPU",
  "colab": {
   "collapsed_sections": [],
   "name": "HW3.ipynb",
   "provenance": []
  },
  "kernelspec": {
   "display_name": "Python 3",
   "language": "python",
   "name": "python3"
  },
  "language_info": {
   "codemirror_mode": {
    "name": "ipython",
    "version": 3
   },
   "file_extension": ".py",
   "mimetype": "text/x-python",
   "name": "python",
   "nbconvert_exporter": "python",
   "pygments_lexer": "ipython3",
   "version": "3.7.4"
  },
  "widgets": {
   "application/vnd.jupyter.widget-state+json": {
    "0828ca67da9c4727a318027ffbe1bc3a": {
     "model_module": "@jupyter-widgets/controls",
     "model_name": "HTMLModel",
     "state": {
      "_dom_classes": [],
      "_model_module": "@jupyter-widgets/controls",
      "_model_module_version": "1.5.0",
      "_model_name": "HTMLModel",
      "_view_count": null,
      "_view_module": "@jupyter-widgets/controls",
      "_view_module_version": "1.5.0",
      "_view_name": "HTMLView",
      "description": "",
      "description_tooltip": null,
      "layout": "IPY_MODEL_0b0729409316416b9f9a9e925f163aa3",
      "placeholder": "​",
      "style": "IPY_MODEL_4708b0f6d80a4c2baabc02e4c7f367ef",
      "value": " 306M/306M [00:39&lt;00:00, 7.80MB/s]"
     }
    },
    "0b0729409316416b9f9a9e925f163aa3": {
     "model_module": "@jupyter-widgets/base",
     "model_name": "LayoutModel",
     "state": {
      "_model_module": "@jupyter-widgets/base",
      "_model_module_version": "1.2.0",
      "_model_name": "LayoutModel",
      "_view_count": null,
      "_view_module": "@jupyter-widgets/base",
      "_view_module_version": "1.2.0",
      "_view_name": "LayoutView",
      "align_content": null,
      "align_items": null,
      "align_self": null,
      "border": null,
      "bottom": null,
      "display": null,
      "flex": null,
      "flex_flow": null,
      "grid_area": null,
      "grid_auto_columns": null,
      "grid_auto_flow": null,
      "grid_auto_rows": null,
      "grid_column": null,
      "grid_gap": null,
      "grid_row": null,
      "grid_template_areas": null,
      "grid_template_columns": null,
      "grid_template_rows": null,
      "height": null,
      "justify_content": null,
      "justify_items": null,
      "left": null,
      "margin": null,
      "max_height": null,
      "max_width": null,
      "min_height": null,
      "min_width": null,
      "object_fit": null,
      "object_position": null,
      "order": null,
      "overflow": null,
      "overflow_x": null,
      "overflow_y": null,
      "padding": null,
      "right": null,
      "top": null,
      "visibility": null,
      "width": null
     }
    },
    "4708b0f6d80a4c2baabc02e4c7f367ef": {
     "model_module": "@jupyter-widgets/controls",
     "model_name": "DescriptionStyleModel",
     "state": {
      "_model_module": "@jupyter-widgets/controls",
      "_model_module_version": "1.5.0",
      "_model_name": "DescriptionStyleModel",
      "_view_count": null,
      "_view_module": "@jupyter-widgets/base",
      "_view_module_version": "1.2.0",
      "_view_name": "StyleView",
      "description_width": ""
     }
    },
    "991552adf06f4906ad41a63d7c59d34a": {
     "model_module": "@jupyter-widgets/controls",
     "model_name": "HBoxModel",
     "state": {
      "_dom_classes": [],
      "_model_module": "@jupyter-widgets/controls",
      "_model_module_version": "1.5.0",
      "_model_name": "HBoxModel",
      "_view_count": null,
      "_view_module": "@jupyter-widgets/controls",
      "_view_module_version": "1.5.0",
      "_view_name": "HBoxView",
      "box_style": "",
      "children": [
       "IPY_MODEL_bba122324948469c90056b9e88e20b15",
       "IPY_MODEL_0828ca67da9c4727a318027ffbe1bc3a"
      ],
      "layout": "IPY_MODEL_a2b4da8d75fc4b1795fcbbf4aec5a109"
     }
    },
    "a24245c7fbc24229b8eebe1589f2df2f": {
     "model_module": "@jupyter-widgets/base",
     "model_name": "LayoutModel",
     "state": {
      "_model_module": "@jupyter-widgets/base",
      "_model_module_version": "1.2.0",
      "_model_name": "LayoutModel",
      "_view_count": null,
      "_view_module": "@jupyter-widgets/base",
      "_view_module_version": "1.2.0",
      "_view_name": "LayoutView",
      "align_content": null,
      "align_items": null,
      "align_self": null,
      "border": null,
      "bottom": null,
      "display": null,
      "flex": null,
      "flex_flow": null,
      "grid_area": null,
      "grid_auto_columns": null,
      "grid_auto_flow": null,
      "grid_auto_rows": null,
      "grid_column": null,
      "grid_gap": null,
      "grid_row": null,
      "grid_template_areas": null,
      "grid_template_columns": null,
      "grid_template_rows": null,
      "height": null,
      "justify_content": null,
      "justify_items": null,
      "left": null,
      "margin": null,
      "max_height": null,
      "max_width": null,
      "min_height": null,
      "min_width": null,
      "object_fit": null,
      "object_position": null,
      "order": null,
      "overflow": null,
      "overflow_x": null,
      "overflow_y": null,
      "padding": null,
      "right": null,
      "top": null,
      "visibility": null,
      "width": null
     }
    },
    "a2b4da8d75fc4b1795fcbbf4aec5a109": {
     "model_module": "@jupyter-widgets/base",
     "model_name": "LayoutModel",
     "state": {
      "_model_module": "@jupyter-widgets/base",
      "_model_module_version": "1.2.0",
      "_model_name": "LayoutModel",
      "_view_count": null,
      "_view_module": "@jupyter-widgets/base",
      "_view_module_version": "1.2.0",
      "_view_name": "LayoutView",
      "align_content": null,
      "align_items": null,
      "align_self": null,
      "border": null,
      "bottom": null,
      "display": null,
      "flex": null,
      "flex_flow": null,
      "grid_area": null,
      "grid_auto_columns": null,
      "grid_auto_flow": null,
      "grid_auto_rows": null,
      "grid_column": null,
      "grid_gap": null,
      "grid_row": null,
      "grid_template_areas": null,
      "grid_template_columns": null,
      "grid_template_rows": null,
      "height": null,
      "justify_content": null,
      "justify_items": null,
      "left": null,
      "margin": null,
      "max_height": null,
      "max_width": null,
      "min_height": null,
      "min_width": null,
      "object_fit": null,
      "object_position": null,
      "order": null,
      "overflow": null,
      "overflow_x": null,
      "overflow_y": null,
      "padding": null,
      "right": null,
      "top": null,
      "visibility": null,
      "width": null
     }
    },
    "bba122324948469c90056b9e88e20b15": {
     "model_module": "@jupyter-widgets/controls",
     "model_name": "FloatProgressModel",
     "state": {
      "_dom_classes": [],
      "_model_module": "@jupyter-widgets/controls",
      "_model_module_version": "1.5.0",
      "_model_name": "FloatProgressModel",
      "_view_count": null,
      "_view_module": "@jupyter-widgets/controls",
      "_view_module_version": "1.5.0",
      "_view_name": "ProgressView",
      "bar_style": "success",
      "description": "100%",
      "description_tooltip": null,
      "layout": "IPY_MODEL_a24245c7fbc24229b8eebe1589f2df2f",
      "max": 305584576,
      "min": 0,
      "orientation": "horizontal",
      "style": "IPY_MODEL_bdaaa79157db4cab8b5675584abf5f96",
      "value": 305584576
     }
    },
    "bdaaa79157db4cab8b5675584abf5f96": {
     "model_module": "@jupyter-widgets/controls",
     "model_name": "ProgressStyleModel",
     "state": {
      "_model_module": "@jupyter-widgets/controls",
      "_model_module_version": "1.5.0",
      "_model_name": "ProgressStyleModel",
      "_view_count": null,
      "_view_module": "@jupyter-widgets/base",
      "_view_module_version": "1.2.0",
      "_view_name": "StyleView",
      "bar_color": null,
      "description_width": "initial"
     }
    }
   }
  }
 },
 "nbformat": 4,
 "nbformat_minor": 1
}
