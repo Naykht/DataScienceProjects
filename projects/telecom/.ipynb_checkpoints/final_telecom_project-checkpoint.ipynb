{
 "cells": [
  {
   "cell_type": "markdown",
   "metadata": {},
   "source": [
    "# Телеком"
   ]
  },
  {
   "cell_type": "markdown",
   "metadata": {},
   "source": [
    "Оператор связи «Ниединогоразрыва.ком» хочет научиться прогнозировать отток клиентов. Если выяснится, что пользователь планирует уйти, ему будут предложены промокоды и специальные условия. Команда оператора собрала персональные данные о некоторых клиентах, информацию об их тарифах и договорах."
   ]
  },
  {
   "cell_type": "markdown",
   "metadata": {},
   "source": [
    "#### Описание услуг"
   ]
  },
  {
   "cell_type": "markdown",
   "metadata": {},
   "source": [
    "Оператор предоставляет два основных типа услуг: \n",
    "1. Стационарную телефонную связь. Возможно подключение телефонного аппарата к нескольким линиям одновременно.\n",
    "2. Интернет. Подключение может быть двух типов: через телефонную линию (DSL*,* от англ. *digital subscriber line*, «цифровая абонентская линия») или оптоволоконный кабель (*Fiber optic*).  \n",
    "\n",
    "Также доступны такие услуги:\n",
    "- Интернет-безопасность: антивирус (*DeviceProtection*) и блокировка небезопасных сайтов (*OnlineSecurity*);\n",
    "- Выделенная линия технической поддержки (*TechSupport*);\n",
    "- Облачное хранилище файлов для резервного копирования данных (*OnlineBackup*);\n",
    "- Стриминговое телевидение (*StreamingTV*) и каталог фильмов (*StreamingMovies*).\n",
    "\n",
    "За услуги клиенты могут платить каждый месяц или заключить договор на 1–2 года. Доступны различные способы расчёта и возможность получения электронного чека."
   ]
  },
  {
   "cell_type": "markdown",
   "metadata": {},
   "source": [
    "### Описание данных"
   ]
  },
  {
   "cell_type": "markdown",
   "metadata": {},
   "source": [
    "Таблицы:\n",
    "- contract.csv — информация о договоре;\n",
    "- personal.csv — персональные данные клиента;\n",
    "- internet.csv — информация об интернет-услугах;\n",
    "- phone.csv — информация об услугах телефонии.\n",
    "\n",
    "Во всех файлах столбец customerID содержит код клиента.\n",
    "\n",
    "Информация о договорах актуальна на 1 февраля 2020."
   ]
  },
  {
   "cell_type": "markdown",
   "metadata": {},
   "source": [
    "### Библиотеки и модули"
   ]
  },
  {
   "cell_type": "code",
   "execution_count": 173,
   "metadata": {},
   "outputs": [],
   "source": [
    "import pandas as pd\n",
    "import matplotlib.pyplot as plt\n",
    "import seaborn as sns\n",
    "%matplotlib inline\n",
    "import numpy as np\n",
    "\n",
    "from sklearn.cluster import KMeans\n",
    "from sklearn.model_selection import train_test_split, KFold, GridSearchCV, cross_val_score\n",
    "from sklearn.preprocessing import StandardScaler\n",
    "from sklearn.neighbors import KNeighborsClassifier\n",
    "from sklearn.linear_model import LogisticRegression\n",
    "from sklearn.ensemble import RandomForestClassifier\n",
    "from sklearn.metrics import make_scorer, roc_auc_score, accuracy_score\n",
    "from sklearn.utils import shuffle\n",
    "from sklearn.utils.class_weight import compute_class_weight\n",
    "from sklearn.decomposition import PCA\n",
    "from sklearn.manifold import TSNE\n",
    "from sklearn.dummy import DummyClassifier\n",
    "\n",
    "from catboost import CatBoostClassifier\n",
    "\n",
    "import joblib\n",
    "\n",
    "import warnings\n",
    "warnings.filterwarnings('ignore')"
   ]
  },
  {
   "cell_type": "markdown",
   "metadata": {},
   "source": [
    "### Содержание\n",
    "1. Изучение общей информации о данных\n",
    "2. Исследовательский анализ данных\n",
    "    - contract\n",
    "    - internet\n",
    "    - personal\n",
    "    - phone\n",
    "    - Удаление ранних клиентов\n",
    "3. Соединение таблиц\n",
    "4. Предобработка данных\n",
    "    - Работа с пропусками\n",
    "    - Работа с признаками\n",
    "    - Кодирование категориальных признаков\n",
    "    - Кластеризация\n",
    "    - Оптимизация памяти\n",
    "    - Разбиение выборки\n",
    "    - Масштабирование признаков\n",
    "8. Баланс классов\n",
    "9. Моделирование\n",
    "    - kNN\n",
    "    - Logistic Regression\n",
    "    - Random Forest\n",
    "    - Cat Boost\n",
    "    - Борьба с несбалансированной классификацией\n",
    "10. Тестирование модели\n",
    "    - Визуализация\n",
    "    - Важность признаков\n",
    "11. Проверка модели на адекватность\n",
    "12. Вывод\n",
    "13. Сохранение модели"
   ]
  },
  {
   "cell_type": "markdown",
   "metadata": {},
   "source": [
    "## Изучение общей информации о данных"
   ]
  },
  {
   "cell_type": "code",
   "execution_count": 2,
   "metadata": {},
   "outputs": [],
   "source": [
    "folder = \"C:/Users/kiril/OneDrive/Рабочий стол/Дата Саенс/Проекты (в процессе)/Финальный проект/final_provider\"\n",
    "contract = pd.read_csv(folder + '/contract.csv')\n",
    "internet = pd.read_csv(folder + '/internet.csv')\n",
    "personal = pd.read_csv(folder + '/personal.csv')\n",
    "phone = pd.read_csv(folder + '/phone.csv')"
   ]
  },
  {
   "cell_type": "markdown",
   "metadata": {},
   "source": [
    "#### contract"
   ]
  },
  {
   "cell_type": "code",
   "execution_count": 3,
   "metadata": {},
   "outputs": [
    {
     "data": {
      "text/html": [
       "<div>\n",
       "<style scoped>\n",
       "    .dataframe tbody tr th:only-of-type {\n",
       "        vertical-align: middle;\n",
       "    }\n",
       "\n",
       "    .dataframe tbody tr th {\n",
       "        vertical-align: top;\n",
       "    }\n",
       "\n",
       "    .dataframe thead th {\n",
       "        text-align: right;\n",
       "    }\n",
       "</style>\n",
       "<table border=\"1\" class=\"dataframe\">\n",
       "  <thead>\n",
       "    <tr style=\"text-align: right;\">\n",
       "      <th></th>\n",
       "      <th>customerID</th>\n",
       "      <th>BeginDate</th>\n",
       "      <th>EndDate</th>\n",
       "      <th>Type</th>\n",
       "      <th>PaperlessBilling</th>\n",
       "      <th>PaymentMethod</th>\n",
       "      <th>MonthlyCharges</th>\n",
       "      <th>TotalCharges</th>\n",
       "    </tr>\n",
       "  </thead>\n",
       "  <tbody>\n",
       "    <tr>\n",
       "      <th>0</th>\n",
       "      <td>7590-VHVEG</td>\n",
       "      <td>2020-01-01</td>\n",
       "      <td>No</td>\n",
       "      <td>Month-to-month</td>\n",
       "      <td>Yes</td>\n",
       "      <td>Electronic check</td>\n",
       "      <td>29.85</td>\n",
       "      <td>29.85</td>\n",
       "    </tr>\n",
       "    <tr>\n",
       "      <th>1</th>\n",
       "      <td>5575-GNVDE</td>\n",
       "      <td>2017-04-01</td>\n",
       "      <td>No</td>\n",
       "      <td>One year</td>\n",
       "      <td>No</td>\n",
       "      <td>Mailed check</td>\n",
       "      <td>56.95</td>\n",
       "      <td>1889.5</td>\n",
       "    </tr>\n",
       "    <tr>\n",
       "      <th>2</th>\n",
       "      <td>3668-QPYBK</td>\n",
       "      <td>2019-10-01</td>\n",
       "      <td>2019-12-01 00:00:00</td>\n",
       "      <td>Month-to-month</td>\n",
       "      <td>Yes</td>\n",
       "      <td>Mailed check</td>\n",
       "      <td>53.85</td>\n",
       "      <td>108.15</td>\n",
       "    </tr>\n",
       "    <tr>\n",
       "      <th>3</th>\n",
       "      <td>7795-CFOCW</td>\n",
       "      <td>2016-05-01</td>\n",
       "      <td>No</td>\n",
       "      <td>One year</td>\n",
       "      <td>No</td>\n",
       "      <td>Bank transfer (automatic)</td>\n",
       "      <td>42.30</td>\n",
       "      <td>1840.75</td>\n",
       "    </tr>\n",
       "    <tr>\n",
       "      <th>4</th>\n",
       "      <td>9237-HQITU</td>\n",
       "      <td>2019-09-01</td>\n",
       "      <td>2019-11-01 00:00:00</td>\n",
       "      <td>Month-to-month</td>\n",
       "      <td>Yes</td>\n",
       "      <td>Electronic check</td>\n",
       "      <td>70.70</td>\n",
       "      <td>151.65</td>\n",
       "    </tr>\n",
       "  </tbody>\n",
       "</table>\n",
       "</div>"
      ],
      "text/plain": [
       "   customerID   BeginDate              EndDate            Type  \\\n",
       "0  7590-VHVEG  2020-01-01                   No  Month-to-month   \n",
       "1  5575-GNVDE  2017-04-01                   No        One year   \n",
       "2  3668-QPYBK  2019-10-01  2019-12-01 00:00:00  Month-to-month   \n",
       "3  7795-CFOCW  2016-05-01                   No        One year   \n",
       "4  9237-HQITU  2019-09-01  2019-11-01 00:00:00  Month-to-month   \n",
       "\n",
       "  PaperlessBilling              PaymentMethod  MonthlyCharges TotalCharges  \n",
       "0              Yes           Electronic check           29.85        29.85  \n",
       "1               No               Mailed check           56.95       1889.5  \n",
       "2              Yes               Mailed check           53.85       108.15  \n",
       "3               No  Bank transfer (automatic)           42.30      1840.75  \n",
       "4              Yes           Electronic check           70.70       151.65  "
      ]
     },
     "execution_count": 3,
     "metadata": {},
     "output_type": "execute_result"
    }
   ],
   "source": [
    "contract.head(5)"
   ]
  },
  {
   "cell_type": "code",
   "execution_count": 4,
   "metadata": {},
   "outputs": [
    {
     "name": "stdout",
     "output_type": "stream",
     "text": [
      "<class 'pandas.core.frame.DataFrame'>\n",
      "RangeIndex: 7043 entries, 0 to 7042\n",
      "Data columns (total 8 columns):\n",
      " #   Column            Non-Null Count  Dtype  \n",
      "---  ------            --------------  -----  \n",
      " 0   customerID        7043 non-null   object \n",
      " 1   BeginDate         7043 non-null   object \n",
      " 2   EndDate           7043 non-null   object \n",
      " 3   Type              7043 non-null   object \n",
      " 4   PaperlessBilling  7043 non-null   object \n",
      " 5   PaymentMethod     7043 non-null   object \n",
      " 6   MonthlyCharges    7043 non-null   float64\n",
      " 7   TotalCharges      7043 non-null   object \n",
      "dtypes: float64(1), object(7)\n",
      "memory usage: 440.3+ KB\n"
     ]
    }
   ],
   "source": [
    "contract.info()"
   ]
  },
  {
   "cell_type": "markdown",
   "metadata": {},
   "source": [
    "Пропусков не наблюдается в таблице. Не корректный тип данных у следующих колонок:\n",
    "- BeginDate: object -> datetime64[ns];\n",
    "- EndDate: object -> datetime64[ns];\n",
    "- TotalCharges: object -> float64."
   ]
  },
  {
   "cell_type": "markdown",
   "metadata": {},
   "source": [
    "#### internet"
   ]
  },
  {
   "cell_type": "code",
   "execution_count": 5,
   "metadata": {},
   "outputs": [
    {
     "data": {
      "text/html": [
       "<div>\n",
       "<style scoped>\n",
       "    .dataframe tbody tr th:only-of-type {\n",
       "        vertical-align: middle;\n",
       "    }\n",
       "\n",
       "    .dataframe tbody tr th {\n",
       "        vertical-align: top;\n",
       "    }\n",
       "\n",
       "    .dataframe thead th {\n",
       "        text-align: right;\n",
       "    }\n",
       "</style>\n",
       "<table border=\"1\" class=\"dataframe\">\n",
       "  <thead>\n",
       "    <tr style=\"text-align: right;\">\n",
       "      <th></th>\n",
       "      <th>customerID</th>\n",
       "      <th>InternetService</th>\n",
       "      <th>OnlineSecurity</th>\n",
       "      <th>OnlineBackup</th>\n",
       "      <th>DeviceProtection</th>\n",
       "      <th>TechSupport</th>\n",
       "      <th>StreamingTV</th>\n",
       "      <th>StreamingMovies</th>\n",
       "    </tr>\n",
       "  </thead>\n",
       "  <tbody>\n",
       "    <tr>\n",
       "      <th>0</th>\n",
       "      <td>7590-VHVEG</td>\n",
       "      <td>DSL</td>\n",
       "      <td>No</td>\n",
       "      <td>Yes</td>\n",
       "      <td>No</td>\n",
       "      <td>No</td>\n",
       "      <td>No</td>\n",
       "      <td>No</td>\n",
       "    </tr>\n",
       "    <tr>\n",
       "      <th>1</th>\n",
       "      <td>5575-GNVDE</td>\n",
       "      <td>DSL</td>\n",
       "      <td>Yes</td>\n",
       "      <td>No</td>\n",
       "      <td>Yes</td>\n",
       "      <td>No</td>\n",
       "      <td>No</td>\n",
       "      <td>No</td>\n",
       "    </tr>\n",
       "    <tr>\n",
       "      <th>2</th>\n",
       "      <td>3668-QPYBK</td>\n",
       "      <td>DSL</td>\n",
       "      <td>Yes</td>\n",
       "      <td>Yes</td>\n",
       "      <td>No</td>\n",
       "      <td>No</td>\n",
       "      <td>No</td>\n",
       "      <td>No</td>\n",
       "    </tr>\n",
       "    <tr>\n",
       "      <th>3</th>\n",
       "      <td>7795-CFOCW</td>\n",
       "      <td>DSL</td>\n",
       "      <td>Yes</td>\n",
       "      <td>No</td>\n",
       "      <td>Yes</td>\n",
       "      <td>Yes</td>\n",
       "      <td>No</td>\n",
       "      <td>No</td>\n",
       "    </tr>\n",
       "    <tr>\n",
       "      <th>4</th>\n",
       "      <td>9237-HQITU</td>\n",
       "      <td>Fiber optic</td>\n",
       "      <td>No</td>\n",
       "      <td>No</td>\n",
       "      <td>No</td>\n",
       "      <td>No</td>\n",
       "      <td>No</td>\n",
       "      <td>No</td>\n",
       "    </tr>\n",
       "  </tbody>\n",
       "</table>\n",
       "</div>"
      ],
      "text/plain": [
       "   customerID InternetService OnlineSecurity OnlineBackup DeviceProtection  \\\n",
       "0  7590-VHVEG             DSL             No          Yes               No   \n",
       "1  5575-GNVDE             DSL            Yes           No              Yes   \n",
       "2  3668-QPYBK             DSL            Yes          Yes               No   \n",
       "3  7795-CFOCW             DSL            Yes           No              Yes   \n",
       "4  9237-HQITU     Fiber optic             No           No               No   \n",
       "\n",
       "  TechSupport StreamingTV StreamingMovies  \n",
       "0          No          No              No  \n",
       "1          No          No              No  \n",
       "2          No          No              No  \n",
       "3         Yes          No              No  \n",
       "4          No          No              No  "
      ]
     },
     "execution_count": 5,
     "metadata": {},
     "output_type": "execute_result"
    }
   ],
   "source": [
    "internet.head(5)"
   ]
  },
  {
   "cell_type": "code",
   "execution_count": 6,
   "metadata": {},
   "outputs": [
    {
     "name": "stdout",
     "output_type": "stream",
     "text": [
      "<class 'pandas.core.frame.DataFrame'>\n",
      "RangeIndex: 5517 entries, 0 to 5516\n",
      "Data columns (total 8 columns):\n",
      " #   Column            Non-Null Count  Dtype \n",
      "---  ------            --------------  ----- \n",
      " 0   customerID        5517 non-null   object\n",
      " 1   InternetService   5517 non-null   object\n",
      " 2   OnlineSecurity    5517 non-null   object\n",
      " 3   OnlineBackup      5517 non-null   object\n",
      " 4   DeviceProtection  5517 non-null   object\n",
      " 5   TechSupport       5517 non-null   object\n",
      " 6   StreamingTV       5517 non-null   object\n",
      " 7   StreamingMovies   5517 non-null   object\n",
      "dtypes: object(8)\n",
      "memory usage: 344.9+ KB\n"
     ]
    }
   ],
   "source": [
    "internet.info()"
   ]
  },
  {
   "cell_type": "markdown",
   "metadata": {},
   "source": [
    "Пропусков нет. Типы данных корректные."
   ]
  },
  {
   "cell_type": "markdown",
   "metadata": {},
   "source": [
    "#### personal"
   ]
  },
  {
   "cell_type": "code",
   "execution_count": 7,
   "metadata": {},
   "outputs": [
    {
     "data": {
      "text/html": [
       "<div>\n",
       "<style scoped>\n",
       "    .dataframe tbody tr th:only-of-type {\n",
       "        vertical-align: middle;\n",
       "    }\n",
       "\n",
       "    .dataframe tbody tr th {\n",
       "        vertical-align: top;\n",
       "    }\n",
       "\n",
       "    .dataframe thead th {\n",
       "        text-align: right;\n",
       "    }\n",
       "</style>\n",
       "<table border=\"1\" class=\"dataframe\">\n",
       "  <thead>\n",
       "    <tr style=\"text-align: right;\">\n",
       "      <th></th>\n",
       "      <th>customerID</th>\n",
       "      <th>gender</th>\n",
       "      <th>SeniorCitizen</th>\n",
       "      <th>Partner</th>\n",
       "      <th>Dependents</th>\n",
       "    </tr>\n",
       "  </thead>\n",
       "  <tbody>\n",
       "    <tr>\n",
       "      <th>0</th>\n",
       "      <td>7590-VHVEG</td>\n",
       "      <td>Female</td>\n",
       "      <td>0</td>\n",
       "      <td>Yes</td>\n",
       "      <td>No</td>\n",
       "    </tr>\n",
       "    <tr>\n",
       "      <th>1</th>\n",
       "      <td>5575-GNVDE</td>\n",
       "      <td>Male</td>\n",
       "      <td>0</td>\n",
       "      <td>No</td>\n",
       "      <td>No</td>\n",
       "    </tr>\n",
       "    <tr>\n",
       "      <th>2</th>\n",
       "      <td>3668-QPYBK</td>\n",
       "      <td>Male</td>\n",
       "      <td>0</td>\n",
       "      <td>No</td>\n",
       "      <td>No</td>\n",
       "    </tr>\n",
       "    <tr>\n",
       "      <th>3</th>\n",
       "      <td>7795-CFOCW</td>\n",
       "      <td>Male</td>\n",
       "      <td>0</td>\n",
       "      <td>No</td>\n",
       "      <td>No</td>\n",
       "    </tr>\n",
       "    <tr>\n",
       "      <th>4</th>\n",
       "      <td>9237-HQITU</td>\n",
       "      <td>Female</td>\n",
       "      <td>0</td>\n",
       "      <td>No</td>\n",
       "      <td>No</td>\n",
       "    </tr>\n",
       "  </tbody>\n",
       "</table>\n",
       "</div>"
      ],
      "text/plain": [
       "   customerID  gender  SeniorCitizen Partner Dependents\n",
       "0  7590-VHVEG  Female              0     Yes         No\n",
       "1  5575-GNVDE    Male              0      No         No\n",
       "2  3668-QPYBK    Male              0      No         No\n",
       "3  7795-CFOCW    Male              0      No         No\n",
       "4  9237-HQITU  Female              0      No         No"
      ]
     },
     "execution_count": 7,
     "metadata": {},
     "output_type": "execute_result"
    }
   ],
   "source": [
    "personal.head(5)"
   ]
  },
  {
   "cell_type": "code",
   "execution_count": 8,
   "metadata": {},
   "outputs": [
    {
     "name": "stdout",
     "output_type": "stream",
     "text": [
      "<class 'pandas.core.frame.DataFrame'>\n",
      "RangeIndex: 7043 entries, 0 to 7042\n",
      "Data columns (total 5 columns):\n",
      " #   Column         Non-Null Count  Dtype \n",
      "---  ------         --------------  ----- \n",
      " 0   customerID     7043 non-null   object\n",
      " 1   gender         7043 non-null   object\n",
      " 2   SeniorCitizen  7043 non-null   int64 \n",
      " 3   Partner        7043 non-null   object\n",
      " 4   Dependents     7043 non-null   object\n",
      "dtypes: int64(1), object(4)\n",
      "memory usage: 275.2+ KB\n"
     ]
    }
   ],
   "source": [
    "personal.info()"
   ]
  },
  {
   "cell_type": "markdown",
   "metadata": {},
   "source": [
    "Пропусков нет. Тип данных признака *SeniorCitizen*: int64 -> object, т.к. это бинарный признак."
   ]
  },
  {
   "cell_type": "markdown",
   "metadata": {},
   "source": [
    "#### phone"
   ]
  },
  {
   "cell_type": "code",
   "execution_count": 9,
   "metadata": {},
   "outputs": [
    {
     "data": {
      "text/html": [
       "<div>\n",
       "<style scoped>\n",
       "    .dataframe tbody tr th:only-of-type {\n",
       "        vertical-align: middle;\n",
       "    }\n",
       "\n",
       "    .dataframe tbody tr th {\n",
       "        vertical-align: top;\n",
       "    }\n",
       "\n",
       "    .dataframe thead th {\n",
       "        text-align: right;\n",
       "    }\n",
       "</style>\n",
       "<table border=\"1\" class=\"dataframe\">\n",
       "  <thead>\n",
       "    <tr style=\"text-align: right;\">\n",
       "      <th></th>\n",
       "      <th>customerID</th>\n",
       "      <th>MultipleLines</th>\n",
       "    </tr>\n",
       "  </thead>\n",
       "  <tbody>\n",
       "    <tr>\n",
       "      <th>0</th>\n",
       "      <td>5575-GNVDE</td>\n",
       "      <td>No</td>\n",
       "    </tr>\n",
       "    <tr>\n",
       "      <th>1</th>\n",
       "      <td>3668-QPYBK</td>\n",
       "      <td>No</td>\n",
       "    </tr>\n",
       "    <tr>\n",
       "      <th>2</th>\n",
       "      <td>9237-HQITU</td>\n",
       "      <td>No</td>\n",
       "    </tr>\n",
       "    <tr>\n",
       "      <th>3</th>\n",
       "      <td>9305-CDSKC</td>\n",
       "      <td>Yes</td>\n",
       "    </tr>\n",
       "    <tr>\n",
       "      <th>4</th>\n",
       "      <td>1452-KIOVK</td>\n",
       "      <td>Yes</td>\n",
       "    </tr>\n",
       "  </tbody>\n",
       "</table>\n",
       "</div>"
      ],
      "text/plain": [
       "   customerID MultipleLines\n",
       "0  5575-GNVDE            No\n",
       "1  3668-QPYBK            No\n",
       "2  9237-HQITU            No\n",
       "3  9305-CDSKC           Yes\n",
       "4  1452-KIOVK           Yes"
      ]
     },
     "execution_count": 9,
     "metadata": {},
     "output_type": "execute_result"
    }
   ],
   "source": [
    "phone.head(5)"
   ]
  },
  {
   "cell_type": "code",
   "execution_count": 10,
   "metadata": {},
   "outputs": [
    {
     "name": "stdout",
     "output_type": "stream",
     "text": [
      "<class 'pandas.core.frame.DataFrame'>\n",
      "RangeIndex: 6361 entries, 0 to 6360\n",
      "Data columns (total 2 columns):\n",
      " #   Column         Non-Null Count  Dtype \n",
      "---  ------         --------------  ----- \n",
      " 0   customerID     6361 non-null   object\n",
      " 1   MultipleLines  6361 non-null   object\n",
      "dtypes: object(2)\n",
      "memory usage: 99.5+ KB\n"
     ]
    }
   ],
   "source": [
    "phone.info()"
   ]
  },
  {
   "cell_type": "markdown",
   "metadata": {},
   "source": [
    "## Исследовательский анализ данных"
   ]
  },
  {
   "cell_type": "markdown",
   "metadata": {},
   "source": [
    "### contract"
   ]
  },
  {
   "cell_type": "code",
   "execution_count": 11,
   "metadata": {},
   "outputs": [
    {
     "data": {
      "text/html": [
       "<div>\n",
       "<style scoped>\n",
       "    .dataframe tbody tr th:only-of-type {\n",
       "        vertical-align: middle;\n",
       "    }\n",
       "\n",
       "    .dataframe tbody tr th {\n",
       "        vertical-align: top;\n",
       "    }\n",
       "\n",
       "    .dataframe thead th {\n",
       "        text-align: right;\n",
       "    }\n",
       "</style>\n",
       "<table border=\"1\" class=\"dataframe\">\n",
       "  <thead>\n",
       "    <tr style=\"text-align: right;\">\n",
       "      <th></th>\n",
       "      <th>customerID</th>\n",
       "      <th>BeginDate</th>\n",
       "      <th>EndDate</th>\n",
       "      <th>Type</th>\n",
       "      <th>PaperlessBilling</th>\n",
       "      <th>PaymentMethod</th>\n",
       "      <th>MonthlyCharges</th>\n",
       "      <th>TotalCharges</th>\n",
       "    </tr>\n",
       "  </thead>\n",
       "  <tbody>\n",
       "    <tr>\n",
       "      <th>0</th>\n",
       "      <td>7590-VHVEG</td>\n",
       "      <td>2020-01-01</td>\n",
       "      <td>No</td>\n",
       "      <td>Month-to-month</td>\n",
       "      <td>Yes</td>\n",
       "      <td>Electronic check</td>\n",
       "      <td>29.85</td>\n",
       "      <td>29.85</td>\n",
       "    </tr>\n",
       "    <tr>\n",
       "      <th>1</th>\n",
       "      <td>5575-GNVDE</td>\n",
       "      <td>2017-04-01</td>\n",
       "      <td>No</td>\n",
       "      <td>One year</td>\n",
       "      <td>No</td>\n",
       "      <td>Mailed check</td>\n",
       "      <td>56.95</td>\n",
       "      <td>1889.5</td>\n",
       "    </tr>\n",
       "    <tr>\n",
       "      <th>2</th>\n",
       "      <td>3668-QPYBK</td>\n",
       "      <td>2019-10-01</td>\n",
       "      <td>2019-12-01 00:00:00</td>\n",
       "      <td>Month-to-month</td>\n",
       "      <td>Yes</td>\n",
       "      <td>Mailed check</td>\n",
       "      <td>53.85</td>\n",
       "      <td>108.15</td>\n",
       "    </tr>\n",
       "    <tr>\n",
       "      <th>3</th>\n",
       "      <td>7795-CFOCW</td>\n",
       "      <td>2016-05-01</td>\n",
       "      <td>No</td>\n",
       "      <td>One year</td>\n",
       "      <td>No</td>\n",
       "      <td>Bank transfer (automatic)</td>\n",
       "      <td>42.30</td>\n",
       "      <td>1840.75</td>\n",
       "    </tr>\n",
       "    <tr>\n",
       "      <th>4</th>\n",
       "      <td>9237-HQITU</td>\n",
       "      <td>2019-09-01</td>\n",
       "      <td>2019-11-01 00:00:00</td>\n",
       "      <td>Month-to-month</td>\n",
       "      <td>Yes</td>\n",
       "      <td>Electronic check</td>\n",
       "      <td>70.70</td>\n",
       "      <td>151.65</td>\n",
       "    </tr>\n",
       "  </tbody>\n",
       "</table>\n",
       "</div>"
      ],
      "text/plain": [
       "   customerID   BeginDate              EndDate            Type  \\\n",
       "0  7590-VHVEG  2020-01-01                   No  Month-to-month   \n",
       "1  5575-GNVDE  2017-04-01                   No        One year   \n",
       "2  3668-QPYBK  2019-10-01  2019-12-01 00:00:00  Month-to-month   \n",
       "3  7795-CFOCW  2016-05-01                   No        One year   \n",
       "4  9237-HQITU  2019-09-01  2019-11-01 00:00:00  Month-to-month   \n",
       "\n",
       "  PaperlessBilling              PaymentMethod  MonthlyCharges TotalCharges  \n",
       "0              Yes           Electronic check           29.85        29.85  \n",
       "1               No               Mailed check           56.95       1889.5  \n",
       "2              Yes               Mailed check           53.85       108.15  \n",
       "3               No  Bank transfer (automatic)           42.30      1840.75  \n",
       "4              Yes           Electronic check           70.70       151.65  "
      ]
     },
     "execution_count": 11,
     "metadata": {},
     "output_type": "execute_result"
    }
   ],
   "source": [
    "contract.head(5)"
   ]
  },
  {
   "cell_type": "markdown",
   "metadata": {},
   "source": [
    "#### Изменение названия признаков"
   ]
  },
  {
   "cell_type": "code",
   "execution_count": 12,
   "metadata": {},
   "outputs": [],
   "source": [
    "contract.columns = ['customer_id', 'begin_date', 'end_date', 'type', 'paperless_billing', 'payment_method', 'monthly_charges', 'total_charges']"
   ]
  },
  {
   "cell_type": "markdown",
   "metadata": {},
   "source": [
    "#### Изменение типов данных"
   ]
  },
  {
   "cell_type": "code",
   "execution_count": 13,
   "metadata": {},
   "outputs": [
    {
     "data": {
      "text/plain": [
       "array(['No', '2019-12-01 00:00:00', '2019-11-01 00:00:00',\n",
       "       '2019-10-01 00:00:00', '2020-01-01 00:00:00'], dtype=object)"
      ]
     },
     "execution_count": 13,
     "metadata": {},
     "output_type": "execute_result"
    }
   ],
   "source": [
    "contract['end_date'].unique()"
   ]
  },
  {
   "cell_type": "markdown",
   "metadata": {},
   "source": [
    "Не имеет смысла хранить в признаке *EndDate* часть со временем."
   ]
  },
  {
   "cell_type": "code",
   "execution_count": 14,
   "metadata": {},
   "outputs": [],
   "source": [
    "contract['begin_date'] = pd.to_datetime(contract['begin_date'], format='%Y-%m-%d')"
   ]
  },
  {
   "cell_type": "code",
   "execution_count": 15,
   "metadata": {},
   "outputs": [],
   "source": [
    "contract.loc[contract['end_date'] != 'No', 'end_date'] = pd.to_datetime(contract.loc[contract['end_date'] != 'No', 'end_date']).dt.strftime('%Y-%m-%d')"
   ]
  },
  {
   "cell_type": "markdown",
   "metadata": {},
   "source": [
    "Поскольку в столбце *EndDate* хранятся строковые значения, не получится привести его к типу datatime64[ns]."
   ]
  },
  {
   "cell_type": "code",
   "execution_count": 16,
   "metadata": {},
   "outputs": [
    {
     "data": {
      "text/plain": [
       "array(['29.85', '1889.5', '108.15', ..., '346.45', '306.6', '6844.5'],\n",
       "      dtype=object)"
      ]
     },
     "execution_count": 16,
     "metadata": {},
     "output_type": "execute_result"
    }
   ],
   "source": [
    "contract['total_charges'].unique()"
   ]
  },
  {
   "cell_type": "code",
   "execution_count": 17,
   "metadata": {},
   "outputs": [],
   "source": [
    "contract['total_charges'] = pd.to_numeric(contract['total_charges'], errors='coerce')"
   ]
  },
  {
   "cell_type": "code",
   "execution_count": 18,
   "metadata": {},
   "outputs": [
    {
     "data": {
      "text/plain": [
       "11"
      ]
     },
     "execution_count": 18,
     "metadata": {},
     "output_type": "execute_result"
    }
   ],
   "source": [
    "contract['total_charges'].isnull().sum()"
   ]
  },
  {
   "cell_type": "markdown",
   "metadata": {},
   "source": [
    "Имеем 11 значений NaN в столбце *TotalCharges*. Поскольку данные пользователи присоединились только с 1 февраля 2020 года, удалим их из анализа. **Но важно удалить их также из остальных таблиц!**"
   ]
  },
  {
   "cell_type": "code",
   "execution_count": 19,
   "metadata": {},
   "outputs": [
    {
     "data": {
      "text/html": [
       "<div>\n",
       "<style scoped>\n",
       "    .dataframe tbody tr th:only-of-type {\n",
       "        vertical-align: middle;\n",
       "    }\n",
       "\n",
       "    .dataframe tbody tr th {\n",
       "        vertical-align: top;\n",
       "    }\n",
       "\n",
       "    .dataframe thead th {\n",
       "        text-align: right;\n",
       "    }\n",
       "</style>\n",
       "<table border=\"1\" class=\"dataframe\">\n",
       "  <thead>\n",
       "    <tr style=\"text-align: right;\">\n",
       "      <th></th>\n",
       "      <th>customer_id</th>\n",
       "      <th>begin_date</th>\n",
       "      <th>end_date</th>\n",
       "      <th>type</th>\n",
       "      <th>paperless_billing</th>\n",
       "      <th>payment_method</th>\n",
       "      <th>monthly_charges</th>\n",
       "      <th>total_charges</th>\n",
       "    </tr>\n",
       "  </thead>\n",
       "  <tbody>\n",
       "    <tr>\n",
       "      <th>488</th>\n",
       "      <td>4472-LVYGI</td>\n",
       "      <td>2020-02-01</td>\n",
       "      <td>No</td>\n",
       "      <td>Two year</td>\n",
       "      <td>Yes</td>\n",
       "      <td>Bank transfer (automatic)</td>\n",
       "      <td>52.55</td>\n",
       "      <td>NaN</td>\n",
       "    </tr>\n",
       "    <tr>\n",
       "      <th>753</th>\n",
       "      <td>3115-CZMZD</td>\n",
       "      <td>2020-02-01</td>\n",
       "      <td>No</td>\n",
       "      <td>Two year</td>\n",
       "      <td>No</td>\n",
       "      <td>Mailed check</td>\n",
       "      <td>20.25</td>\n",
       "      <td>NaN</td>\n",
       "    </tr>\n",
       "    <tr>\n",
       "      <th>936</th>\n",
       "      <td>5709-LVOEQ</td>\n",
       "      <td>2020-02-01</td>\n",
       "      <td>No</td>\n",
       "      <td>Two year</td>\n",
       "      <td>No</td>\n",
       "      <td>Mailed check</td>\n",
       "      <td>80.85</td>\n",
       "      <td>NaN</td>\n",
       "    </tr>\n",
       "    <tr>\n",
       "      <th>1082</th>\n",
       "      <td>4367-NUYAO</td>\n",
       "      <td>2020-02-01</td>\n",
       "      <td>No</td>\n",
       "      <td>Two year</td>\n",
       "      <td>No</td>\n",
       "      <td>Mailed check</td>\n",
       "      <td>25.75</td>\n",
       "      <td>NaN</td>\n",
       "    </tr>\n",
       "    <tr>\n",
       "      <th>1340</th>\n",
       "      <td>1371-DWPAZ</td>\n",
       "      <td>2020-02-01</td>\n",
       "      <td>No</td>\n",
       "      <td>Two year</td>\n",
       "      <td>No</td>\n",
       "      <td>Credit card (automatic)</td>\n",
       "      <td>56.05</td>\n",
       "      <td>NaN</td>\n",
       "    </tr>\n",
       "    <tr>\n",
       "      <th>3331</th>\n",
       "      <td>7644-OMVMY</td>\n",
       "      <td>2020-02-01</td>\n",
       "      <td>No</td>\n",
       "      <td>Two year</td>\n",
       "      <td>No</td>\n",
       "      <td>Mailed check</td>\n",
       "      <td>19.85</td>\n",
       "      <td>NaN</td>\n",
       "    </tr>\n",
       "    <tr>\n",
       "      <th>3826</th>\n",
       "      <td>3213-VVOLG</td>\n",
       "      <td>2020-02-01</td>\n",
       "      <td>No</td>\n",
       "      <td>Two year</td>\n",
       "      <td>No</td>\n",
       "      <td>Mailed check</td>\n",
       "      <td>25.35</td>\n",
       "      <td>NaN</td>\n",
       "    </tr>\n",
       "    <tr>\n",
       "      <th>4380</th>\n",
       "      <td>2520-SGTTA</td>\n",
       "      <td>2020-02-01</td>\n",
       "      <td>No</td>\n",
       "      <td>Two year</td>\n",
       "      <td>No</td>\n",
       "      <td>Mailed check</td>\n",
       "      <td>20.00</td>\n",
       "      <td>NaN</td>\n",
       "    </tr>\n",
       "    <tr>\n",
       "      <th>5218</th>\n",
       "      <td>2923-ARZLG</td>\n",
       "      <td>2020-02-01</td>\n",
       "      <td>No</td>\n",
       "      <td>One year</td>\n",
       "      <td>Yes</td>\n",
       "      <td>Mailed check</td>\n",
       "      <td>19.70</td>\n",
       "      <td>NaN</td>\n",
       "    </tr>\n",
       "    <tr>\n",
       "      <th>6670</th>\n",
       "      <td>4075-WKNIU</td>\n",
       "      <td>2020-02-01</td>\n",
       "      <td>No</td>\n",
       "      <td>Two year</td>\n",
       "      <td>No</td>\n",
       "      <td>Mailed check</td>\n",
       "      <td>73.35</td>\n",
       "      <td>NaN</td>\n",
       "    </tr>\n",
       "    <tr>\n",
       "      <th>6754</th>\n",
       "      <td>2775-SEFEE</td>\n",
       "      <td>2020-02-01</td>\n",
       "      <td>No</td>\n",
       "      <td>Two year</td>\n",
       "      <td>Yes</td>\n",
       "      <td>Bank transfer (automatic)</td>\n",
       "      <td>61.90</td>\n",
       "      <td>NaN</td>\n",
       "    </tr>\n",
       "  </tbody>\n",
       "</table>\n",
       "</div>"
      ],
      "text/plain": [
       "     customer_id begin_date end_date      type paperless_billing  \\\n",
       "488   4472-LVYGI 2020-02-01       No  Two year               Yes   \n",
       "753   3115-CZMZD 2020-02-01       No  Two year                No   \n",
       "936   5709-LVOEQ 2020-02-01       No  Two year                No   \n",
       "1082  4367-NUYAO 2020-02-01       No  Two year                No   \n",
       "1340  1371-DWPAZ 2020-02-01       No  Two year                No   \n",
       "3331  7644-OMVMY 2020-02-01       No  Two year                No   \n",
       "3826  3213-VVOLG 2020-02-01       No  Two year                No   \n",
       "4380  2520-SGTTA 2020-02-01       No  Two year                No   \n",
       "5218  2923-ARZLG 2020-02-01       No  One year               Yes   \n",
       "6670  4075-WKNIU 2020-02-01       No  Two year                No   \n",
       "6754  2775-SEFEE 2020-02-01       No  Two year               Yes   \n",
       "\n",
       "                 payment_method  monthly_charges  total_charges  \n",
       "488   Bank transfer (automatic)            52.55            NaN  \n",
       "753                Mailed check            20.25            NaN  \n",
       "936                Mailed check            80.85            NaN  \n",
       "1082               Mailed check            25.75            NaN  \n",
       "1340    Credit card (automatic)            56.05            NaN  \n",
       "3331               Mailed check            19.85            NaN  \n",
       "3826               Mailed check            25.35            NaN  \n",
       "4380               Mailed check            20.00            NaN  \n",
       "5218               Mailed check            19.70            NaN  \n",
       "6670               Mailed check            73.35            NaN  \n",
       "6754  Bank transfer (automatic)            61.90            NaN  "
      ]
     },
     "execution_count": 19,
     "metadata": {},
     "output_type": "execute_result"
    }
   ],
   "source": [
    "contract.loc[contract['total_charges'].isnull() == True]"
   ]
  },
  {
   "cell_type": "code",
   "execution_count": 20,
   "metadata": {},
   "outputs": [
    {
     "data": {
      "text/plain": [
       "['4472-LVYGI',\n",
       " '3115-CZMZD',\n",
       " '5709-LVOEQ',\n",
       " '4367-NUYAO',\n",
       " '1371-DWPAZ',\n",
       " '7644-OMVMY',\n",
       " '3213-VVOLG',\n",
       " '2520-SGTTA',\n",
       " '2923-ARZLG',\n",
       " '4075-WKNIU',\n",
       " '2775-SEFEE']"
      ]
     },
     "execution_count": 20,
     "metadata": {},
     "output_type": "execute_result"
    }
   ],
   "source": [
    "id_clients = contract.loc[contract['total_charges'].isnull() == True, 'customer_id'].tolist()\n",
    "id_clients"
   ]
  },
  {
   "cell_type": "code",
   "execution_count": 21,
   "metadata": {},
   "outputs": [
    {
     "data": {
      "text/plain": [
       "[488, 753, 936, 1082, 1340, 3331, 3826, 4380, 5218, 6670, 6754]"
      ]
     },
     "execution_count": 21,
     "metadata": {},
     "output_type": "execute_result"
    }
   ],
   "source": [
    "contract.query('customer_id in @id_clients').index.tolist()"
   ]
  },
  {
   "cell_type": "code",
   "execution_count": 22,
   "metadata": {},
   "outputs": [
    {
     "data": {
      "text/html": [
       "<div>\n",
       "<style scoped>\n",
       "    .dataframe tbody tr th:only-of-type {\n",
       "        vertical-align: middle;\n",
       "    }\n",
       "\n",
       "    .dataframe tbody tr th {\n",
       "        vertical-align: top;\n",
       "    }\n",
       "\n",
       "    .dataframe thead th {\n",
       "        text-align: right;\n",
       "    }\n",
       "</style>\n",
       "<table border=\"1\" class=\"dataframe\">\n",
       "  <thead>\n",
       "    <tr style=\"text-align: right;\">\n",
       "      <th></th>\n",
       "      <th>customer_id</th>\n",
       "      <th>begin_date</th>\n",
       "      <th>end_date</th>\n",
       "      <th>type</th>\n",
       "      <th>paperless_billing</th>\n",
       "      <th>payment_method</th>\n",
       "      <th>monthly_charges</th>\n",
       "      <th>total_charges</th>\n",
       "    </tr>\n",
       "  </thead>\n",
       "  <tbody>\n",
       "  </tbody>\n",
       "</table>\n",
       "</div>"
      ],
      "text/plain": [
       "Empty DataFrame\n",
       "Columns: [customer_id, begin_date, end_date, type, paperless_billing, payment_method, monthly_charges, total_charges]\n",
       "Index: []"
      ]
     },
     "execution_count": 22,
     "metadata": {},
     "output_type": "execute_result"
    }
   ],
   "source": [
    "contract.drop(contract.query('customer_id in @id_clients').index.tolist(), axis=0, inplace=True)\n",
    "contract.loc[contract['total_charges'].isnull() == True]"
   ]
  },
  {
   "cell_type": "code",
   "execution_count": 23,
   "metadata": {},
   "outputs": [
    {
     "data": {
      "text/html": [
       "<div>\n",
       "<style scoped>\n",
       "    .dataframe tbody tr th:only-of-type {\n",
       "        vertical-align: middle;\n",
       "    }\n",
       "\n",
       "    .dataframe tbody tr th {\n",
       "        vertical-align: top;\n",
       "    }\n",
       "\n",
       "    .dataframe thead th {\n",
       "        text-align: right;\n",
       "    }\n",
       "</style>\n",
       "<table border=\"1\" class=\"dataframe\">\n",
       "  <thead>\n",
       "    <tr style=\"text-align: right;\">\n",
       "      <th></th>\n",
       "      <th>customer_id</th>\n",
       "      <th>begin_date</th>\n",
       "      <th>end_date</th>\n",
       "      <th>type</th>\n",
       "      <th>paperless_billing</th>\n",
       "      <th>payment_method</th>\n",
       "      <th>monthly_charges</th>\n",
       "      <th>total_charges</th>\n",
       "    </tr>\n",
       "  </thead>\n",
       "  <tbody>\n",
       "    <tr>\n",
       "      <th>0</th>\n",
       "      <td>7590-VHVEG</td>\n",
       "      <td>2020-01-01</td>\n",
       "      <td>No</td>\n",
       "      <td>Month-to-month</td>\n",
       "      <td>Yes</td>\n",
       "      <td>Electronic check</td>\n",
       "      <td>29.85</td>\n",
       "      <td>29.85</td>\n",
       "    </tr>\n",
       "    <tr>\n",
       "      <th>1</th>\n",
       "      <td>5575-GNVDE</td>\n",
       "      <td>2017-04-01</td>\n",
       "      <td>No</td>\n",
       "      <td>One year</td>\n",
       "      <td>No</td>\n",
       "      <td>Mailed check</td>\n",
       "      <td>56.95</td>\n",
       "      <td>1889.50</td>\n",
       "    </tr>\n",
       "    <tr>\n",
       "      <th>2</th>\n",
       "      <td>3668-QPYBK</td>\n",
       "      <td>2019-10-01</td>\n",
       "      <td>2019-12-01</td>\n",
       "      <td>Month-to-month</td>\n",
       "      <td>Yes</td>\n",
       "      <td>Mailed check</td>\n",
       "      <td>53.85</td>\n",
       "      <td>108.15</td>\n",
       "    </tr>\n",
       "    <tr>\n",
       "      <th>3</th>\n",
       "      <td>7795-CFOCW</td>\n",
       "      <td>2016-05-01</td>\n",
       "      <td>No</td>\n",
       "      <td>One year</td>\n",
       "      <td>No</td>\n",
       "      <td>Bank transfer (automatic)</td>\n",
       "      <td>42.30</td>\n",
       "      <td>1840.75</td>\n",
       "    </tr>\n",
       "    <tr>\n",
       "      <th>4</th>\n",
       "      <td>9237-HQITU</td>\n",
       "      <td>2019-09-01</td>\n",
       "      <td>2019-11-01</td>\n",
       "      <td>Month-to-month</td>\n",
       "      <td>Yes</td>\n",
       "      <td>Electronic check</td>\n",
       "      <td>70.70</td>\n",
       "      <td>151.65</td>\n",
       "    </tr>\n",
       "  </tbody>\n",
       "</table>\n",
       "</div>"
      ],
      "text/plain": [
       "  customer_id begin_date    end_date            type paperless_billing  \\\n",
       "0  7590-VHVEG 2020-01-01          No  Month-to-month               Yes   \n",
       "1  5575-GNVDE 2017-04-01          No        One year                No   \n",
       "2  3668-QPYBK 2019-10-01  2019-12-01  Month-to-month               Yes   \n",
       "3  7795-CFOCW 2016-05-01          No        One year                No   \n",
       "4  9237-HQITU 2019-09-01  2019-11-01  Month-to-month               Yes   \n",
       "\n",
       "              payment_method  monthly_charges  total_charges  \n",
       "0           Electronic check            29.85          29.85  \n",
       "1               Mailed check            56.95        1889.50  \n",
       "2               Mailed check            53.85         108.15  \n",
       "3  Bank transfer (automatic)            42.30        1840.75  \n",
       "4           Electronic check            70.70         151.65  "
      ]
     },
     "execution_count": 23,
     "metadata": {},
     "output_type": "execute_result"
    }
   ],
   "source": [
    "contract.head(5)"
   ]
  },
  {
   "cell_type": "code",
   "execution_count": 24,
   "metadata": {},
   "outputs": [
    {
     "name": "stdout",
     "output_type": "stream",
     "text": [
      "<class 'pandas.core.frame.DataFrame'>\n",
      "Int64Index: 7032 entries, 0 to 7042\n",
      "Data columns (total 8 columns):\n",
      " #   Column             Non-Null Count  Dtype         \n",
      "---  ------             --------------  -----         \n",
      " 0   customer_id        7032 non-null   object        \n",
      " 1   begin_date         7032 non-null   datetime64[ns]\n",
      " 2   end_date           7032 non-null   object        \n",
      " 3   type               7032 non-null   object        \n",
      " 4   paperless_billing  7032 non-null   object        \n",
      " 5   payment_method     7032 non-null   object        \n",
      " 6   monthly_charges    7032 non-null   float64       \n",
      " 7   total_charges      7032 non-null   float64       \n",
      "dtypes: datetime64[ns](1), float64(2), object(5)\n",
      "memory usage: 494.4+ KB\n"
     ]
    }
   ],
   "source": [
    "contract.info()"
   ]
  },
  {
   "cell_type": "markdown",
   "metadata": {},
   "source": [
    "#### end_date и begin_date"
   ]
  },
  {
   "cell_type": "markdown",
   "metadata": {},
   "source": [
    "Посмотрим на то, договор каких клиентов закончился (при условии, что информации актуальна на 1 февраля 2020)."
   ]
  },
  {
   "cell_type": "code",
   "execution_count": 25,
   "metadata": {},
   "outputs": [
    {
     "data": {
      "text/html": [
       "<div>\n",
       "<style scoped>\n",
       "    .dataframe tbody tr th:only-of-type {\n",
       "        vertical-align: middle;\n",
       "    }\n",
       "\n",
       "    .dataframe tbody tr th {\n",
       "        vertical-align: top;\n",
       "    }\n",
       "\n",
       "    .dataframe thead th {\n",
       "        text-align: right;\n",
       "    }\n",
       "</style>\n",
       "<table border=\"1\" class=\"dataframe\">\n",
       "  <thead>\n",
       "    <tr style=\"text-align: right;\">\n",
       "      <th></th>\n",
       "      <th>customer_id</th>\n",
       "      <th>begin_date</th>\n",
       "      <th>end_date</th>\n",
       "      <th>type</th>\n",
       "      <th>paperless_billing</th>\n",
       "      <th>payment_method</th>\n",
       "      <th>monthly_charges</th>\n",
       "      <th>total_charges</th>\n",
       "    </tr>\n",
       "  </thead>\n",
       "  <tbody>\n",
       "    <tr>\n",
       "      <th>2</th>\n",
       "      <td>3668-QPYBK</td>\n",
       "      <td>2019-10-01</td>\n",
       "      <td>2019-12-01</td>\n",
       "      <td>Month-to-month</td>\n",
       "      <td>Yes</td>\n",
       "      <td>Mailed check</td>\n",
       "      <td>53.85</td>\n",
       "      <td>108.15</td>\n",
       "    </tr>\n",
       "    <tr>\n",
       "      <th>4</th>\n",
       "      <td>9237-HQITU</td>\n",
       "      <td>2019-09-01</td>\n",
       "      <td>2019-11-01</td>\n",
       "      <td>Month-to-month</td>\n",
       "      <td>Yes</td>\n",
       "      <td>Electronic check</td>\n",
       "      <td>70.70</td>\n",
       "      <td>151.65</td>\n",
       "    </tr>\n",
       "    <tr>\n",
       "      <th>5</th>\n",
       "      <td>9305-CDSKC</td>\n",
       "      <td>2019-03-01</td>\n",
       "      <td>2019-11-01</td>\n",
       "      <td>Month-to-month</td>\n",
       "      <td>Yes</td>\n",
       "      <td>Electronic check</td>\n",
       "      <td>99.65</td>\n",
       "      <td>820.50</td>\n",
       "    </tr>\n",
       "    <tr>\n",
       "      <th>8</th>\n",
       "      <td>7892-POOKP</td>\n",
       "      <td>2017-07-01</td>\n",
       "      <td>2019-11-01</td>\n",
       "      <td>Month-to-month</td>\n",
       "      <td>Yes</td>\n",
       "      <td>Electronic check</td>\n",
       "      <td>104.80</td>\n",
       "      <td>3046.05</td>\n",
       "    </tr>\n",
       "    <tr>\n",
       "      <th>13</th>\n",
       "      <td>0280-XJGEX</td>\n",
       "      <td>2015-09-01</td>\n",
       "      <td>2019-10-01</td>\n",
       "      <td>Month-to-month</td>\n",
       "      <td>Yes</td>\n",
       "      <td>Bank transfer (automatic)</td>\n",
       "      <td>103.70</td>\n",
       "      <td>5036.30</td>\n",
       "    </tr>\n",
       "    <tr>\n",
       "      <th>...</th>\n",
       "      <td>...</td>\n",
       "      <td>...</td>\n",
       "      <td>...</td>\n",
       "      <td>...</td>\n",
       "      <td>...</td>\n",
       "      <td>...</td>\n",
       "      <td>...</td>\n",
       "      <td>...</td>\n",
       "    </tr>\n",
       "    <tr>\n",
       "      <th>7021</th>\n",
       "      <td>1699-HPSBG</td>\n",
       "      <td>2018-11-01</td>\n",
       "      <td>2019-11-01</td>\n",
       "      <td>One year</td>\n",
       "      <td>Yes</td>\n",
       "      <td>Electronic check</td>\n",
       "      <td>59.80</td>\n",
       "      <td>727.80</td>\n",
       "    </tr>\n",
       "    <tr>\n",
       "      <th>7026</th>\n",
       "      <td>8775-CEBBJ</td>\n",
       "      <td>2019-02-01</td>\n",
       "      <td>2019-11-01</td>\n",
       "      <td>Month-to-month</td>\n",
       "      <td>Yes</td>\n",
       "      <td>Bank transfer (automatic)</td>\n",
       "      <td>44.20</td>\n",
       "      <td>403.35</td>\n",
       "    </tr>\n",
       "    <tr>\n",
       "      <th>7032</th>\n",
       "      <td>6894-LFHLY</td>\n",
       "      <td>2019-10-01</td>\n",
       "      <td>2019-11-01</td>\n",
       "      <td>Month-to-month</td>\n",
       "      <td>Yes</td>\n",
       "      <td>Electronic check</td>\n",
       "      <td>75.75</td>\n",
       "      <td>75.75</td>\n",
       "    </tr>\n",
       "    <tr>\n",
       "      <th>7034</th>\n",
       "      <td>0639-TSIQW</td>\n",
       "      <td>2014-03-01</td>\n",
       "      <td>2019-10-01</td>\n",
       "      <td>Month-to-month</td>\n",
       "      <td>Yes</td>\n",
       "      <td>Credit card (automatic)</td>\n",
       "      <td>102.95</td>\n",
       "      <td>6886.25</td>\n",
       "    </tr>\n",
       "    <tr>\n",
       "      <th>7041</th>\n",
       "      <td>8361-LTMKD</td>\n",
       "      <td>2019-07-01</td>\n",
       "      <td>2019-11-01</td>\n",
       "      <td>Month-to-month</td>\n",
       "      <td>Yes</td>\n",
       "      <td>Mailed check</td>\n",
       "      <td>74.40</td>\n",
       "      <td>306.60</td>\n",
       "    </tr>\n",
       "  </tbody>\n",
       "</table>\n",
       "<p>1869 rows × 8 columns</p>\n",
       "</div>"
      ],
      "text/plain": [
       "     customer_id begin_date    end_date            type paperless_billing  \\\n",
       "2     3668-QPYBK 2019-10-01  2019-12-01  Month-to-month               Yes   \n",
       "4     9237-HQITU 2019-09-01  2019-11-01  Month-to-month               Yes   \n",
       "5     9305-CDSKC 2019-03-01  2019-11-01  Month-to-month               Yes   \n",
       "8     7892-POOKP 2017-07-01  2019-11-01  Month-to-month               Yes   \n",
       "13    0280-XJGEX 2015-09-01  2019-10-01  Month-to-month               Yes   \n",
       "...          ...        ...         ...             ...               ...   \n",
       "7021  1699-HPSBG 2018-11-01  2019-11-01        One year               Yes   \n",
       "7026  8775-CEBBJ 2019-02-01  2019-11-01  Month-to-month               Yes   \n",
       "7032  6894-LFHLY 2019-10-01  2019-11-01  Month-to-month               Yes   \n",
       "7034  0639-TSIQW 2014-03-01  2019-10-01  Month-to-month               Yes   \n",
       "7041  8361-LTMKD 2019-07-01  2019-11-01  Month-to-month               Yes   \n",
       "\n",
       "                 payment_method  monthly_charges  total_charges  \n",
       "2                  Mailed check            53.85         108.15  \n",
       "4              Electronic check            70.70         151.65  \n",
       "5              Electronic check            99.65         820.50  \n",
       "8              Electronic check           104.80        3046.05  \n",
       "13    Bank transfer (automatic)           103.70        5036.30  \n",
       "...                         ...              ...            ...  \n",
       "7021           Electronic check            59.80         727.80  \n",
       "7026  Bank transfer (automatic)            44.20         403.35  \n",
       "7032           Electronic check            75.75          75.75  \n",
       "7034    Credit card (automatic)           102.95        6886.25  \n",
       "7041               Mailed check            74.40         306.60  \n",
       "\n",
       "[1869 rows x 8 columns]"
      ]
     },
     "execution_count": 25,
     "metadata": {},
     "output_type": "execute_result"
    }
   ],
   "source": [
    "contract.query(\"end_date <= '2020-02-01'\")"
   ]
  },
  {
   "cell_type": "code",
   "execution_count": 26,
   "metadata": {},
   "outputs": [
    {
     "data": {
      "text/plain": [
       "array(['No'], dtype=object)"
      ]
     },
     "execution_count": 26,
     "metadata": {},
     "output_type": "execute_result"
    }
   ],
   "source": [
    "contract.query(\"end_date > '2020-02-01'\")['end_date'].unique()"
   ]
  },
  {
   "cell_type": "markdown",
   "metadata": {},
   "source": [
    "Проверка. Видим, что нет закрытых договоров > 1 ферваля 2020."
   ]
  },
  {
   "cell_type": "markdown",
   "metadata": {},
   "source": [
    "Посмотрим на количество закрытых договоров в рамках времени. Для этого построим график временного ряда."
   ]
  },
  {
   "cell_type": "code",
   "execution_count": 27,
   "metadata": {},
   "outputs": [
    {
     "data": {
      "text/html": [
       "<div>\n",
       "<style scoped>\n",
       "    .dataframe tbody tr th:only-of-type {\n",
       "        vertical-align: middle;\n",
       "    }\n",
       "\n",
       "    .dataframe tbody tr th {\n",
       "        vertical-align: top;\n",
       "    }\n",
       "\n",
       "    .dataframe thead th {\n",
       "        text-align: right;\n",
       "    }\n",
       "</style>\n",
       "<table border=\"1\" class=\"dataframe\">\n",
       "  <thead>\n",
       "    <tr style=\"text-align: right;\">\n",
       "      <th></th>\n",
       "      <th>count_clients_end</th>\n",
       "    </tr>\n",
       "    <tr>\n",
       "      <th>end_date</th>\n",
       "      <th></th>\n",
       "    </tr>\n",
       "  </thead>\n",
       "  <tbody>\n",
       "    <tr>\n",
       "      <th>2019-10-01</th>\n",
       "      <td>458</td>\n",
       "    </tr>\n",
       "    <tr>\n",
       "      <th>2019-11-01</th>\n",
       "      <td>485</td>\n",
       "    </tr>\n",
       "    <tr>\n",
       "      <th>2019-12-01</th>\n",
       "      <td>466</td>\n",
       "    </tr>\n",
       "    <tr>\n",
       "      <th>2020-01-01</th>\n",
       "      <td>460</td>\n",
       "    </tr>\n",
       "  </tbody>\n",
       "</table>\n",
       "</div>"
      ],
      "text/plain": [
       "            count_clients_end\n",
       "end_date                     \n",
       "2019-10-01                458\n",
       "2019-11-01                485\n",
       "2019-12-01                466\n",
       "2020-01-01                460"
      ]
     },
     "execution_count": 27,
     "metadata": {},
     "output_type": "execute_result"
    }
   ],
   "source": [
    "count_enddate = contract.query(\"end_date != 'No'\").pivot_table(index='end_date', values='customer_id', aggfunc='count')\n",
    "count_enddate.reset_index(inplace=True)\n",
    "count_enddate.columns = ['end_date', 'count_clients_end']\n",
    "count_enddate['end_date'] = pd.to_datetime(count_enddate['end_date'])\n",
    "count_enddate.set_index('end_date', inplace=True)\n",
    "count_enddate.head(5)"
   ]
  },
  {
   "cell_type": "code",
   "execution_count": 28,
   "metadata": {},
   "outputs": [
    {
     "data": {
      "text/html": [
       "<div>\n",
       "<style scoped>\n",
       "    .dataframe tbody tr th:only-of-type {\n",
       "        vertical-align: middle;\n",
       "    }\n",
       "\n",
       "    .dataframe tbody tr th {\n",
       "        vertical-align: top;\n",
       "    }\n",
       "\n",
       "    .dataframe thead th {\n",
       "        text-align: right;\n",
       "    }\n",
       "</style>\n",
       "<table border=\"1\" class=\"dataframe\">\n",
       "  <thead>\n",
       "    <tr style=\"text-align: right;\">\n",
       "      <th></th>\n",
       "      <th>count_clients_begin</th>\n",
       "    </tr>\n",
       "    <tr>\n",
       "      <th>begin_date</th>\n",
       "      <th></th>\n",
       "    </tr>\n",
       "  </thead>\n",
       "  <tbody>\n",
       "    <tr>\n",
       "      <th>2013-10-01</th>\n",
       "      <td>3</td>\n",
       "    </tr>\n",
       "    <tr>\n",
       "      <th>2013-11-01</th>\n",
       "      <td>2</td>\n",
       "    </tr>\n",
       "    <tr>\n",
       "      <th>2013-12-01</th>\n",
       "      <td>3</td>\n",
       "    </tr>\n",
       "    <tr>\n",
       "      <th>2014-01-01</th>\n",
       "      <td>7</td>\n",
       "    </tr>\n",
       "    <tr>\n",
       "      <th>2014-02-01</th>\n",
       "      <td>366</td>\n",
       "    </tr>\n",
       "  </tbody>\n",
       "</table>\n",
       "</div>"
      ],
      "text/plain": [
       "            count_clients_begin\n",
       "begin_date                     \n",
       "2013-10-01                    3\n",
       "2013-11-01                    2\n",
       "2013-12-01                    3\n",
       "2014-01-01                    7\n",
       "2014-02-01                  366"
      ]
     },
     "execution_count": 28,
     "metadata": {},
     "output_type": "execute_result"
    }
   ],
   "source": [
    "count_begindate = contract.pivot_table(index='begin_date', values='customer_id', aggfunc='count')\n",
    "count_begindate.reset_index(inplace=True)\n",
    "count_begindate.columns = ['begin_date', 'count_clients_begin']\n",
    "count_begindate['begin_date'] = pd.to_datetime(count_begindate['begin_date'])\n",
    "count_begindate.set_index('begin_date', inplace=True)\n",
    "count_begindate.head(5)"
   ]
  },
  {
   "cell_type": "code",
   "execution_count": 29,
   "metadata": {},
   "outputs": [
    {
     "data": {
      "image/png": "[encoded data removed]",
      "text/plain": [
       "<Figure size 1080x576 with 2 Axes>"
      ]
     },
     "metadata": {
      "needs_background": "light"
     },
     "output_type": "display_data"
    }
   ],
   "source": [
    "fig, ax = plt.subplots(2, 1, figsize=(15, 8), sharex=True)\n",
    "sns.set(style='whitegrid')\n",
    "sns.lineplot(data=count_enddate, palette='magma', ax=ax[0], ci=None)\n",
    "sns.lineplot(data=count_begindate, palette='magma', ax=ax[1], ci=None)\n",
    "ax[0].set_ylabel('Количество закрытых договоров')\n",
    "ax[1].set_ylabel('Количество открытых договоров')\n",
    "ax[1].set_xlabel('Время')\n",
    "ax[0].set_title('График зависимости количества закрытых договоров от времени')\n",
    "ax[1].set_title('График зависимости количества открытых договоров от времени')\n",
    "plt.xticks(rotation=90)\n",
    "plt.show()"
   ]
  },
  {
   "cell_type": "markdown",
   "metadata": {},
   "source": [
    "Договора начали заключаться с 2013 года, а закрываться с 2019. При этом в 2014 году наблюдаем пик по количеству открытых контрактов. Начиная, с середины 2014 года до конца 2019 наблюдается устойчивое количество заключенных договоров. В 2019 году идет подъем по числу контрактов. В начале 2020 резкий спад. При этом конец 2019 года был самым большим по количеству закрытых договоров."
   ]
  },
  {
   "cell_type": "code",
   "execution_count": 30,
   "metadata": {},
   "outputs": [
    {
     "data": {
      "image/png": "[encoded data removed]",
      "text/plain": [
       "<Figure size 1080x576 with 1 Axes>"
      ]
     },
     "metadata": {},
     "output_type": "display_data"
    }
   ],
   "source": [
    "fig, ax = plt.subplots(1, 1, figsize=(15, 8))\n",
    "sns.set(style='whitegrid')\n",
    "sns.lineplot(data=count_enddate, palette='magma', ax=ax, ci=None)\n",
    "ax.set_ylabel('Количество закрытых договоров')\n",
    "ax.set_xlabel('Время')\n",
    "ax.set_title('График зависимости количества закрытых договоров от времени')\n",
    "plt.xticks(rotation=90)\n",
    "plt.show()"
   ]
  },
  {
   "cell_type": "markdown",
   "metadata": {},
   "source": [
    "Видим, что договора стали закрываться с 1 октября 2019 года. Наибольшее количество закрытых договоров приходится на 1 ноября 2019 - 485."
   ]
  },
  {
   "cell_type": "markdown",
   "metadata": {},
   "source": [
    "#### customer_id"
   ]
  },
  {
   "cell_type": "markdown",
   "metadata": {},
   "source": [
    "Проверим есть ли дубликаты."
   ]
  },
  {
   "cell_type": "code",
   "execution_count": 31,
   "metadata": {},
   "outputs": [
    {
     "data": {
      "text/plain": [
       "0"
      ]
     },
     "execution_count": 31,
     "metadata": {},
     "output_type": "execute_result"
    }
   ],
   "source": [
    "contract['customer_id'].duplicated().sum()"
   ]
  },
  {
   "cell_type": "markdown",
   "metadata": {},
   "source": [
    "#### type"
   ]
  },
  {
   "cell_type": "code",
   "execution_count": 32,
   "metadata": {},
   "outputs": [],
   "source": [
    "def value_counts_table(table, feature):\n",
    "    table_feature = table[feature].value_counts().reset_index()\n",
    "    table_feature.columns = [feature, 'count_customers']\n",
    "    return table_feature"
   ]
  },
  {
   "cell_type": "code",
   "execution_count": 33,
   "metadata": {},
   "outputs": [],
   "source": [
    "def graph(table, feature):\n",
    "    fig, ax = plt.subplots(1, 1, figsize=(5, 5))\n",
    "    sns.barplot(data=table, x=feature, y='count_customers')\n",
    "    ax.set_xlabel(feature)\n",
    "    ax.set_ylabel('Количество')\n",
    "    plt.xticks(rotation=90)\n",
    "    plt.show()"
   ]
  },
  {
   "cell_type": "code",
   "execution_count": 34,
   "metadata": {},
   "outputs": [
    {
     "data": {
      "text/html": [
       "<div>\n",
       "<style scoped>\n",
       "    .dataframe tbody tr th:only-of-type {\n",
       "        vertical-align: middle;\n",
       "    }\n",
       "\n",
       "    .dataframe tbody tr th {\n",
       "        vertical-align: top;\n",
       "    }\n",
       "\n",
       "    .dataframe thead th {\n",
       "        text-align: right;\n",
       "    }\n",
       "</style>\n",
       "<table border=\"1\" class=\"dataframe\">\n",
       "  <thead>\n",
       "    <tr style=\"text-align: right;\">\n",
       "      <th></th>\n",
       "      <th>type</th>\n",
       "      <th>count_customers</th>\n",
       "    </tr>\n",
       "  </thead>\n",
       "  <tbody>\n",
       "    <tr>\n",
       "      <th>0</th>\n",
       "      <td>Month-to-month</td>\n",
       "      <td>3875</td>\n",
       "    </tr>\n",
       "    <tr>\n",
       "      <th>1</th>\n",
       "      <td>Two year</td>\n",
       "      <td>1685</td>\n",
       "    </tr>\n",
       "    <tr>\n",
       "      <th>2</th>\n",
       "      <td>One year</td>\n",
       "      <td>1472</td>\n",
       "    </tr>\n",
       "  </tbody>\n",
       "</table>\n",
       "</div>"
      ],
      "text/plain": [
       "             type  count_customers\n",
       "0  Month-to-month             3875\n",
       "1        Two year             1685\n",
       "2        One year             1472"
      ]
     },
     "execution_count": 34,
     "metadata": {},
     "output_type": "execute_result"
    }
   ],
   "source": [
    "contract_types = value_counts_table(contract, 'type')\n",
    "contract_types.head(5)"
   ]
  },
  {
   "cell_type": "code",
   "execution_count": 35,
   "metadata": {},
   "outputs": [
    {
     "data": {
      "image/png": "[encoded data removed]",
      "text/plain": [
       "<Figure size 360x360 with 1 Axes>"
      ]
     },
     "metadata": {},
     "output_type": "display_data"
    }
   ],
   "source": [
    "graph(contract_types, 'type')"
   ]
  },
  {
   "cell_type": "markdown",
   "metadata": {},
   "source": [
    "Имеем только следующие виды контрактов: month-to-month, two year, one year. И соответствующее распределение по количеству: 3875, 1695, 1473. Преимущественно заключают контракты на месяц. Примерно одинаковое число заключенных договоров на год и два года."
   ]
  },
  {
   "cell_type": "markdown",
   "metadata": {},
   "source": [
    "#### paperless_billing"
   ]
  },
  {
   "cell_type": "markdown",
   "metadata": {},
   "source": [
    "Это бинарный признак. Изменим его значения следующим образом."
   ]
  },
  {
   "cell_type": "code",
   "execution_count": 36,
   "metadata": {},
   "outputs": [],
   "source": [
    "contract.loc[contract[\"paperless_billing\"] == 'Yes', 'paperless_billing'] = 1\n",
    "contract.loc[contract[\"paperless_billing\"] == 'No', 'paperless_billing'] = 0"
   ]
  },
  {
   "cell_type": "code",
   "execution_count": 37,
   "metadata": {},
   "outputs": [
    {
     "data": {
      "text/html": [
       "<div>\n",
       "<style scoped>\n",
       "    .dataframe tbody tr th:only-of-type {\n",
       "        vertical-align: middle;\n",
       "    }\n",
       "\n",
       "    .dataframe tbody tr th {\n",
       "        vertical-align: top;\n",
       "    }\n",
       "\n",
       "    .dataframe thead th {\n",
       "        text-align: right;\n",
       "    }\n",
       "</style>\n",
       "<table border=\"1\" class=\"dataframe\">\n",
       "  <thead>\n",
       "    <tr style=\"text-align: right;\">\n",
       "      <th></th>\n",
       "      <th>paperless_billing</th>\n",
       "      <th>count_customers</th>\n",
       "    </tr>\n",
       "  </thead>\n",
       "  <tbody>\n",
       "    <tr>\n",
       "      <th>0</th>\n",
       "      <td>1</td>\n",
       "      <td>4168</td>\n",
       "    </tr>\n",
       "    <tr>\n",
       "      <th>1</th>\n",
       "      <td>0</td>\n",
       "      <td>2864</td>\n",
       "    </tr>\n",
       "  </tbody>\n",
       "</table>\n",
       "</div>"
      ],
      "text/plain": [
       "   paperless_billing  count_customers\n",
       "0                  1             4168\n",
       "1                  0             2864"
      ]
     },
     "execution_count": 37,
     "metadata": {},
     "output_type": "execute_result"
    }
   ],
   "source": [
    "contract_billing = value_counts_table(contract, 'paperless_billing')\n",
    "contract_billing.head(5)"
   ]
  },
  {
   "cell_type": "code",
   "execution_count": 38,
   "metadata": {},
   "outputs": [
    {
     "data": {
      "image/png": "[encoded data removed]",
      "text/plain": [
       "<Figure size 360x360 with 1 Axes>"
      ]
     },
     "metadata": {},
     "output_type": "display_data"
    }
   ],
   "source": [
    "graph(contract_billing, 'paperless_billing')"
   ]
  },
  {
   "cell_type": "markdown",
   "metadata": {},
   "source": [
    "#### payment_method"
   ]
  },
  {
   "cell_type": "code",
   "execution_count": 39,
   "metadata": {},
   "outputs": [
    {
     "data": {
      "text/html": [
       "<div>\n",
       "<style scoped>\n",
       "    .dataframe tbody tr th:only-of-type {\n",
       "        vertical-align: middle;\n",
       "    }\n",
       "\n",
       "    .dataframe tbody tr th {\n",
       "        vertical-align: top;\n",
       "    }\n",
       "\n",
       "    .dataframe thead th {\n",
       "        text-align: right;\n",
       "    }\n",
       "</style>\n",
       "<table border=\"1\" class=\"dataframe\">\n",
       "  <thead>\n",
       "    <tr style=\"text-align: right;\">\n",
       "      <th></th>\n",
       "      <th>payment_method</th>\n",
       "      <th>count_customers</th>\n",
       "    </tr>\n",
       "  </thead>\n",
       "  <tbody>\n",
       "    <tr>\n",
       "      <th>0</th>\n",
       "      <td>Electronic check</td>\n",
       "      <td>2365</td>\n",
       "    </tr>\n",
       "    <tr>\n",
       "      <th>1</th>\n",
       "      <td>Mailed check</td>\n",
       "      <td>1604</td>\n",
       "    </tr>\n",
       "    <tr>\n",
       "      <th>2</th>\n",
       "      <td>Bank transfer (automatic)</td>\n",
       "      <td>1542</td>\n",
       "    </tr>\n",
       "    <tr>\n",
       "      <th>3</th>\n",
       "      <td>Credit card (automatic)</td>\n",
       "      <td>1521</td>\n",
       "    </tr>\n",
       "  </tbody>\n",
       "</table>\n",
       "</div>"
      ],
      "text/plain": [
       "              payment_method  count_customers\n",
       "0           Electronic check             2365\n",
       "1               Mailed check             1604\n",
       "2  Bank transfer (automatic)             1542\n",
       "3    Credit card (automatic)             1521"
      ]
     },
     "execution_count": 39,
     "metadata": {},
     "output_type": "execute_result"
    }
   ],
   "source": [
    "contract_method = value_counts_table(contract, 'payment_method')\n",
    "contract_method.head(5)"
   ]
  },
  {
   "cell_type": "code",
   "execution_count": 40,
   "metadata": {},
   "outputs": [
    {
     "data": {
      "image/png": "[encoded data removed]",
      "text/plain": [
       "<Figure size 360x360 with 1 Axes>"
      ]
     },
     "metadata": {},
     "output_type": "display_data"
    }
   ],
   "source": [
    "graph(contract_method, 'payment_method')"
   ]
  },
  {
   "cell_type": "markdown",
   "metadata": {},
   "source": [
    "Большинство клиентов оплачивает с помощью электронного чека. И примерно одинаковое число людей по почтовом чеку, по автоплатежу через банк и по автоплатежу через карту."
   ]
  },
  {
   "cell_type": "markdown",
   "metadata": {},
   "source": [
    "#### monthly_charges"
   ]
  },
  {
   "cell_type": "markdown",
   "metadata": {},
   "source": [
    "Рассмотрим распределение месячных расходов."
   ]
  },
  {
   "cell_type": "code",
   "execution_count": 41,
   "metadata": {},
   "outputs": [
    {
     "data": {
      "image/png": "[encoded data removed]",
      "text/plain": [
       "<Figure size 720x360 with 1 Axes>"
      ]
     },
     "metadata": {},
     "output_type": "display_data"
    }
   ],
   "source": [
    "fig, ax = plt.subplots(1, 1, figsize=(10, 5))\n",
    "sns.distplot(contract['monthly_charges'])\n",
    "ax.set_title('График распределения месячных расходов')\n",
    "ax.set_xlabel('Месячные расходы')\n",
    "plt.show()"
   ]
  },
  {
   "cell_type": "markdown",
   "metadata": {},
   "source": [
    "Имеет три пика: один пик в районе 20, второй в районе - 50 и третий - 80. Больше всего расходов совершают на сумму 20."
   ]
  },
  {
   "cell_type": "markdown",
   "metadata": {},
   "source": [
    "#### total_charges"
   ]
  },
  {
   "cell_type": "code",
   "execution_count": 42,
   "metadata": {},
   "outputs": [
    {
     "data": {
      "image/png": "[encoded data removed]",
      "text/plain": [
       "<Figure size 720x360 with 1 Axes>"
      ]
     },
     "metadata": {},
     "output_type": "display_data"
    }
   ],
   "source": [
    "fig, ax = plt.subplots(1, 1, figsize=(10, 5))\n",
    "sns.distplot(contract['total_charges'])\n",
    "ax.set_title('График распределения общих расходов')\n",
    "ax.set_xlabel('Общие расходы')\n",
    "plt.show()"
   ]
  },
  {
   "cell_type": "markdown",
   "metadata": {},
   "source": [
    "Распределение является распределением Парето."
   ]
  },
  {
   "cell_type": "markdown",
   "metadata": {},
   "source": [
    "### internet"
   ]
  },
  {
   "cell_type": "code",
   "execution_count": 43,
   "metadata": {},
   "outputs": [
    {
     "data": {
      "text/html": [
       "<div>\n",
       "<style scoped>\n",
       "    .dataframe tbody tr th:only-of-type {\n",
       "        vertical-align: middle;\n",
       "    }\n",
       "\n",
       "    .dataframe tbody tr th {\n",
       "        vertical-align: top;\n",
       "    }\n",
       "\n",
       "    .dataframe thead th {\n",
       "        text-align: right;\n",
       "    }\n",
       "</style>\n",
       "<table border=\"1\" class=\"dataframe\">\n",
       "  <thead>\n",
       "    <tr style=\"text-align: right;\">\n",
       "      <th></th>\n",
       "      <th>customerID</th>\n",
       "      <th>InternetService</th>\n",
       "      <th>OnlineSecurity</th>\n",
       "      <th>OnlineBackup</th>\n",
       "      <th>DeviceProtection</th>\n",
       "      <th>TechSupport</th>\n",
       "      <th>StreamingTV</th>\n",
       "      <th>StreamingMovies</th>\n",
       "    </tr>\n",
       "  </thead>\n",
       "  <tbody>\n",
       "    <tr>\n",
       "      <th>0</th>\n",
       "      <td>7590-VHVEG</td>\n",
       "      <td>DSL</td>\n",
       "      <td>No</td>\n",
       "      <td>Yes</td>\n",
       "      <td>No</td>\n",
       "      <td>No</td>\n",
       "      <td>No</td>\n",
       "      <td>No</td>\n",
       "    </tr>\n",
       "    <tr>\n",
       "      <th>1</th>\n",
       "      <td>5575-GNVDE</td>\n",
       "      <td>DSL</td>\n",
       "      <td>Yes</td>\n",
       "      <td>No</td>\n",
       "      <td>Yes</td>\n",
       "      <td>No</td>\n",
       "      <td>No</td>\n",
       "      <td>No</td>\n",
       "    </tr>\n",
       "    <tr>\n",
       "      <th>2</th>\n",
       "      <td>3668-QPYBK</td>\n",
       "      <td>DSL</td>\n",
       "      <td>Yes</td>\n",
       "      <td>Yes</td>\n",
       "      <td>No</td>\n",
       "      <td>No</td>\n",
       "      <td>No</td>\n",
       "      <td>No</td>\n",
       "    </tr>\n",
       "    <tr>\n",
       "      <th>3</th>\n",
       "      <td>7795-CFOCW</td>\n",
       "      <td>DSL</td>\n",
       "      <td>Yes</td>\n",
       "      <td>No</td>\n",
       "      <td>Yes</td>\n",
       "      <td>Yes</td>\n",
       "      <td>No</td>\n",
       "      <td>No</td>\n",
       "    </tr>\n",
       "    <tr>\n",
       "      <th>4</th>\n",
       "      <td>9237-HQITU</td>\n",
       "      <td>Fiber optic</td>\n",
       "      <td>No</td>\n",
       "      <td>No</td>\n",
       "      <td>No</td>\n",
       "      <td>No</td>\n",
       "      <td>No</td>\n",
       "      <td>No</td>\n",
       "    </tr>\n",
       "  </tbody>\n",
       "</table>\n",
       "</div>"
      ],
      "text/plain": [
       "   customerID InternetService OnlineSecurity OnlineBackup DeviceProtection  \\\n",
       "0  7590-VHVEG             DSL             No          Yes               No   \n",
       "1  5575-GNVDE             DSL            Yes           No              Yes   \n",
       "2  3668-QPYBK             DSL            Yes          Yes               No   \n",
       "3  7795-CFOCW             DSL            Yes           No              Yes   \n",
       "4  9237-HQITU     Fiber optic             No           No               No   \n",
       "\n",
       "  TechSupport StreamingTV StreamingMovies  \n",
       "0          No          No              No  \n",
       "1          No          No              No  \n",
       "2          No          No              No  \n",
       "3         Yes          No              No  \n",
       "4          No          No              No  "
      ]
     },
     "execution_count": 43,
     "metadata": {},
     "output_type": "execute_result"
    }
   ],
   "source": [
    "internet.head(5)"
   ]
  },
  {
   "cell_type": "markdown",
   "metadata": {},
   "source": [
    "#### Изменение названия признаков"
   ]
  },
  {
   "cell_type": "code",
   "execution_count": 44,
   "metadata": {},
   "outputs": [],
   "source": [
    "internet.columns = ['customer_id', 'internet_service', 'online_security', 'online_backup', 'device_protection', 'tech_support', 'streaming_tv', 'streaming_movies']"
   ]
  },
  {
   "cell_type": "markdown",
   "metadata": {},
   "source": [
    "#### customer_id"
   ]
  },
  {
   "cell_type": "code",
   "execution_count": 45,
   "metadata": {},
   "outputs": [
    {
     "data": {
      "text/plain": [
       "0"
      ]
     },
     "execution_count": 45,
     "metadata": {},
     "output_type": "execute_result"
    }
   ],
   "source": [
    "internet['customer_id'].duplicated().sum()"
   ]
  },
  {
   "cell_type": "markdown",
   "metadata": {},
   "source": [
    "#### internet_service"
   ]
  },
  {
   "cell_type": "code",
   "execution_count": 46,
   "metadata": {},
   "outputs": [
    {
     "data": {
      "text/html": [
       "<div>\n",
       "<style scoped>\n",
       "    .dataframe tbody tr th:only-of-type {\n",
       "        vertical-align: middle;\n",
       "    }\n",
       "\n",
       "    .dataframe tbody tr th {\n",
       "        vertical-align: top;\n",
       "    }\n",
       "\n",
       "    .dataframe thead th {\n",
       "        text-align: right;\n",
       "    }\n",
       "</style>\n",
       "<table border=\"1\" class=\"dataframe\">\n",
       "  <thead>\n",
       "    <tr style=\"text-align: right;\">\n",
       "      <th></th>\n",
       "      <th>internet_service</th>\n",
       "      <th>count_customers</th>\n",
       "    </tr>\n",
       "  </thead>\n",
       "  <tbody>\n",
       "    <tr>\n",
       "      <th>0</th>\n",
       "      <td>Fiber optic</td>\n",
       "      <td>3096</td>\n",
       "    </tr>\n",
       "    <tr>\n",
       "      <th>1</th>\n",
       "      <td>DSL</td>\n",
       "      <td>2421</td>\n",
       "    </tr>\n",
       "  </tbody>\n",
       "</table>\n",
       "</div>"
      ],
      "text/plain": [
       "  internet_service  count_customers\n",
       "0      Fiber optic             3096\n",
       "1              DSL             2421"
      ]
     },
     "execution_count": 46,
     "metadata": {},
     "output_type": "execute_result"
    }
   ],
   "source": [
    "internet_service = value_counts_table(internet, 'internet_service')\n",
    "internet_service.head(5)"
   ]
  },
  {
   "cell_type": "code",
   "execution_count": 47,
   "metadata": {},
   "outputs": [
    {
     "data": {
      "image/png": "[encoded data removed]",
      "text/plain": [
       "<Figure size 360x360 with 1 Axes>"
      ]
     },
     "metadata": {},
     "output_type": "display_data"
    }
   ],
   "source": [
    "graph(internet_service, 'internet_service')"
   ]
  },
  {
   "cell_type": "markdown",
   "metadata": {},
   "source": [
    "#### Бинарные признаки"
   ]
  },
  {
   "cell_type": "code",
   "execution_count": 48,
   "metadata": {},
   "outputs": [],
   "source": [
    "def make_bi_features(bi_feature_names, table):\n",
    "    for bi_feat in bi_feature_names:\n",
    "        table.loc[table[bi_feat] == 'Yes', bi_feat] = 1\n",
    "        table.loc[table[bi_feat] == 'Male', bi_feat] = 0\n",
    "        table.loc[table[bi_feat] == 'No', bi_feat] = 1\n",
    "        table.loc[table[bi_feat] == 'Female', bi_feat] = 0\n",
    "    return table"
   ]
  },
  {
   "cell_type": "code",
   "execution_count": 49,
   "metadata": {},
   "outputs": [],
   "source": [
    "bi_features = ['online_security', 'online_backup', 'device_protection', 'tech_support', 'streaming_tv', 'streaming_movies']"
   ]
  },
  {
   "cell_type": "code",
   "execution_count": 50,
   "metadata": {},
   "outputs": [],
   "source": [
    "internet = make_bi_features(bi_features, internet)"
   ]
  },
  {
   "cell_type": "code",
   "execution_count": 51,
   "metadata": {},
   "outputs": [],
   "source": [
    "def graph_features(feature_names, table):\n",
    "    for bi_feat in feature_names:\n",
    "        interm_df = table[bi_feat].value_counts().reset_index()\n",
    "        interm_df.columns = [bi_feat, 'count_customers']\n",
    "        sns.barplot(data=interm_df, x=bi_feat, y='count_customers')\n",
    "        plt.ylabel('Количество')\n",
    "        plt.xlabel(bi_feat)\n",
    "        plt.xticks(rotation=90)\n",
    "        plt.show()"
   ]
  },
  {
   "cell_type": "code",
   "execution_count": 52,
   "metadata": {},
   "outputs": [
    {
     "data": {
      "image/png": "[encoded data removed]",
      "text/plain": [
       "<Figure size 432x288 with 1 Axes>"
      ]
     },
     "metadata": {},
     "output_type": "display_data"
    },
    {
     "data": {
      "image/png": "[encoded data removed]",
      "text/plain": [
       "<Figure size 432x288 with 1 Axes>"
      ]
     },
     "metadata": {},
     "output_type": "display_data"
    },
    {
     "data": {
      "image/png": "[encoded data removed]",
      "text/plain": [
       "<Figure size 432x288 with 1 Axes>"
      ]
     },
     "metadata": {},
     "output_type": "display_data"
    },
    {
     "data": {
      "image/png": "[encoded data removed]",
      "text/plain": [
       "<Figure size 432x288 with 1 Axes>"
      ]
     },
     "metadata": {},
     "output_type": "display_data"
    },
    {
     "data": {
      "image/png": "[encoded data removed]",
      "text/plain": [
       "<Figure size 432x288 with 1 Axes>"
      ]
     },
     "metadata": {},
     "output_type": "display_data"
    },
    {
     "data": {
      "image/png": "[encoded data removed]",
      "text/plain": [
       "<Figure size 432x288 with 1 Axes>"
      ]
     },
     "metadata": {},
     "output_type": "display_data"
    }
   ],
   "source": [
    "graph_features(bi_features, internet)"
   ]
  },
  {
   "cell_type": "markdown",
   "metadata": {},
   "source": [
    "Примерно одинаковое количество людей приобретают и не приобретают услуги streaming_tv и streaming_movies. В два раз меньше людей пользуются услугами tech_support и online_security. Чуть меньше людей относительно тех, кто не пользуется, приобретают услуги device_protection и online_backup."
   ]
  },
  {
   "cell_type": "markdown",
   "metadata": {},
   "source": [
    "### personal"
   ]
  },
  {
   "cell_type": "code",
   "execution_count": 53,
   "metadata": {},
   "outputs": [
    {
     "data": {
      "text/html": [
       "<div>\n",
       "<style scoped>\n",
       "    .dataframe tbody tr th:only-of-type {\n",
       "        vertical-align: middle;\n",
       "    }\n",
       "\n",
       "    .dataframe tbody tr th {\n",
       "        vertical-align: top;\n",
       "    }\n",
       "\n",
       "    .dataframe thead th {\n",
       "        text-align: right;\n",
       "    }\n",
       "</style>\n",
       "<table border=\"1\" class=\"dataframe\">\n",
       "  <thead>\n",
       "    <tr style=\"text-align: right;\">\n",
       "      <th></th>\n",
       "      <th>customerID</th>\n",
       "      <th>gender</th>\n",
       "      <th>SeniorCitizen</th>\n",
       "      <th>Partner</th>\n",
       "      <th>Dependents</th>\n",
       "    </tr>\n",
       "  </thead>\n",
       "  <tbody>\n",
       "    <tr>\n",
       "      <th>0</th>\n",
       "      <td>7590-VHVEG</td>\n",
       "      <td>Female</td>\n",
       "      <td>0</td>\n",
       "      <td>Yes</td>\n",
       "      <td>No</td>\n",
       "    </tr>\n",
       "    <tr>\n",
       "      <th>1</th>\n",
       "      <td>5575-GNVDE</td>\n",
       "      <td>Male</td>\n",
       "      <td>0</td>\n",
       "      <td>No</td>\n",
       "      <td>No</td>\n",
       "    </tr>\n",
       "    <tr>\n",
       "      <th>2</th>\n",
       "      <td>3668-QPYBK</td>\n",
       "      <td>Male</td>\n",
       "      <td>0</td>\n",
       "      <td>No</td>\n",
       "      <td>No</td>\n",
       "    </tr>\n",
       "    <tr>\n",
       "      <th>3</th>\n",
       "      <td>7795-CFOCW</td>\n",
       "      <td>Male</td>\n",
       "      <td>0</td>\n",
       "      <td>No</td>\n",
       "      <td>No</td>\n",
       "    </tr>\n",
       "    <tr>\n",
       "      <th>4</th>\n",
       "      <td>9237-HQITU</td>\n",
       "      <td>Female</td>\n",
       "      <td>0</td>\n",
       "      <td>No</td>\n",
       "      <td>No</td>\n",
       "    </tr>\n",
       "  </tbody>\n",
       "</table>\n",
       "</div>"
      ],
      "text/plain": [
       "   customerID  gender  SeniorCitizen Partner Dependents\n",
       "0  7590-VHVEG  Female              0     Yes         No\n",
       "1  5575-GNVDE    Male              0      No         No\n",
       "2  3668-QPYBK    Male              0      No         No\n",
       "3  7795-CFOCW    Male              0      No         No\n",
       "4  9237-HQITU  Female              0      No         No"
      ]
     },
     "execution_count": 53,
     "metadata": {},
     "output_type": "execute_result"
    }
   ],
   "source": [
    "personal.head(5)"
   ]
  },
  {
   "cell_type": "markdown",
   "metadata": {},
   "source": [
    "#### Изменение названия признаков"
   ]
  },
  {
   "cell_type": "code",
   "execution_count": 54,
   "metadata": {},
   "outputs": [],
   "source": [
    "personal.columns = ['customer_id', 'gender', 'senior_citizen', 'partner', 'dependents']"
   ]
  },
  {
   "cell_type": "markdown",
   "metadata": {},
   "source": [
    "#### Изменение типов данных"
   ]
  },
  {
   "cell_type": "code",
   "execution_count": 55,
   "metadata": {},
   "outputs": [],
   "source": [
    "personal = make_bi_features(['senior_citizen'], personal)"
   ]
  },
  {
   "cell_type": "code",
   "execution_count": 56,
   "metadata": {},
   "outputs": [
    {
     "name": "stdout",
     "output_type": "stream",
     "text": [
      "<class 'pandas.core.frame.DataFrame'>\n",
      "RangeIndex: 7043 entries, 0 to 7042\n",
      "Data columns (total 5 columns):\n",
      " #   Column          Non-Null Count  Dtype \n",
      "---  ------          --------------  ----- \n",
      " 0   customer_id     7043 non-null   object\n",
      " 1   gender          7043 non-null   object\n",
      " 2   senior_citizen  7043 non-null   int64 \n",
      " 3   partner         7043 non-null   object\n",
      " 4   dependents      7043 non-null   object\n",
      "dtypes: int64(1), object(4)\n",
      "memory usage: 275.2+ KB\n"
     ]
    }
   ],
   "source": [
    "personal.info()"
   ]
  },
  {
   "cell_type": "markdown",
   "metadata": {},
   "source": [
    "#### customer_id"
   ]
  },
  {
   "cell_type": "code",
   "execution_count": 57,
   "metadata": {},
   "outputs": [
    {
     "data": {
      "text/plain": [
       "0"
      ]
     },
     "execution_count": 57,
     "metadata": {},
     "output_type": "execute_result"
    }
   ],
   "source": [
    "personal['customer_id'].duplicated().sum()"
   ]
  },
  {
   "cell_type": "markdown",
   "metadata": {},
   "source": [
    "#### senior_citizen, partner, dependents, gender"
   ]
  },
  {
   "cell_type": "code",
   "execution_count": 58,
   "metadata": {},
   "outputs": [],
   "source": [
    "bi_features = ['partner', 'dependents', 'gender']"
   ]
  },
  {
   "cell_type": "code",
   "execution_count": 59,
   "metadata": {},
   "outputs": [],
   "source": [
    "personal = make_bi_features(bi_features, personal)"
   ]
  },
  {
   "cell_type": "code",
   "execution_count": 60,
   "metadata": {},
   "outputs": [],
   "source": [
    "bi_features = ['partner', 'dependents', 'senior_citizen', 'gender']"
   ]
  },
  {
   "cell_type": "code",
   "execution_count": 61,
   "metadata": {},
   "outputs": [
    {
     "data": {
      "image/png": "[encoded data removed]",
      "text/plain": [
       "<Figure size 432x288 with 1 Axes>"
      ]
     },
     "metadata": {},
     "output_type": "display_data"
    },
    {
     "data": {
      "image/png": "[encoded data removed]",
      "text/plain": [
       "<Figure size 432x288 with 1 Axes>"
      ]
     },
     "metadata": {},
     "output_type": "display_data"
    },
    {
     "data": {
      "image/png": "[encoded data removed]",
      "text/plain": [
       "<Figure size 432x288 with 1 Axes>"
      ]
     },
     "metadata": {},
     "output_type": "display_data"
    },
    {
     "data": {
      "image/png": "[encoded data removed]",
      "text/plain": [
       "<Figure size 432x288 with 1 Axes>"
      ]
     },
     "metadata": {},
     "output_type": "display_data"
    }
   ],
   "source": [
    "graph_features(bi_features, personal)"
   ]
  },
  {
   "cell_type": "markdown",
   "metadata": {},
   "source": [
    "Примерно у одинакового количества людей как есть, так и нет партнера. В 6 раз больше клиентов, не входящих в категорию пенсионеров. В 2.5 раза меньше людей, у которых есть дети. Мужчин и женщин, которые пользуются услугами компании, равное количество."
   ]
  },
  {
   "cell_type": "markdown",
   "metadata": {},
   "source": [
    "### phone"
   ]
  },
  {
   "cell_type": "code",
   "execution_count": 62,
   "metadata": {},
   "outputs": [
    {
     "data": {
      "text/html": [
       "<div>\n",
       "<style scoped>\n",
       "    .dataframe tbody tr th:only-of-type {\n",
       "        vertical-align: middle;\n",
       "    }\n",
       "\n",
       "    .dataframe tbody tr th {\n",
       "        vertical-align: top;\n",
       "    }\n",
       "\n",
       "    .dataframe thead th {\n",
       "        text-align: right;\n",
       "    }\n",
       "</style>\n",
       "<table border=\"1\" class=\"dataframe\">\n",
       "  <thead>\n",
       "    <tr style=\"text-align: right;\">\n",
       "      <th></th>\n",
       "      <th>customerID</th>\n",
       "      <th>MultipleLines</th>\n",
       "    </tr>\n",
       "  </thead>\n",
       "  <tbody>\n",
       "    <tr>\n",
       "      <th>0</th>\n",
       "      <td>5575-GNVDE</td>\n",
       "      <td>No</td>\n",
       "    </tr>\n",
       "    <tr>\n",
       "      <th>1</th>\n",
       "      <td>3668-QPYBK</td>\n",
       "      <td>No</td>\n",
       "    </tr>\n",
       "    <tr>\n",
       "      <th>2</th>\n",
       "      <td>9237-HQITU</td>\n",
       "      <td>No</td>\n",
       "    </tr>\n",
       "    <tr>\n",
       "      <th>3</th>\n",
       "      <td>9305-CDSKC</td>\n",
       "      <td>Yes</td>\n",
       "    </tr>\n",
       "    <tr>\n",
       "      <th>4</th>\n",
       "      <td>1452-KIOVK</td>\n",
       "      <td>Yes</td>\n",
       "    </tr>\n",
       "  </tbody>\n",
       "</table>\n",
       "</div>"
      ],
      "text/plain": [
       "   customerID MultipleLines\n",
       "0  5575-GNVDE            No\n",
       "1  3668-QPYBK            No\n",
       "2  9237-HQITU            No\n",
       "3  9305-CDSKC           Yes\n",
       "4  1452-KIOVK           Yes"
      ]
     },
     "execution_count": 62,
     "metadata": {},
     "output_type": "execute_result"
    }
   ],
   "source": [
    "phone.head(5)"
   ]
  },
  {
   "cell_type": "markdown",
   "metadata": {},
   "source": [
    "#### Изменение названия признаков"
   ]
  },
  {
   "cell_type": "code",
   "execution_count": 63,
   "metadata": {},
   "outputs": [],
   "source": [
    "phone.columns = ['customer_id', 'multiple_lines']"
   ]
  },
  {
   "cell_type": "markdown",
   "metadata": {},
   "source": [
    "#### customer_id"
   ]
  },
  {
   "cell_type": "code",
   "execution_count": 64,
   "metadata": {},
   "outputs": [
    {
     "data": {
      "text/plain": [
       "0"
      ]
     },
     "execution_count": 64,
     "metadata": {},
     "output_type": "execute_result"
    }
   ],
   "source": [
    "phone['customer_id'].duplicated().sum()"
   ]
  },
  {
   "cell_type": "markdown",
   "metadata": {},
   "source": [
    "#### multiple_lines"
   ]
  },
  {
   "cell_type": "code",
   "execution_count": 65,
   "metadata": {},
   "outputs": [],
   "source": [
    "phone = make_bi_features(['multiple_lines'], phone)"
   ]
  },
  {
   "cell_type": "code",
   "execution_count": 66,
   "metadata": {},
   "outputs": [],
   "source": [
    "phone_lines = value_counts_table(phone, 'multiple_lines')"
   ]
  },
  {
   "cell_type": "code",
   "execution_count": 67,
   "metadata": {},
   "outputs": [
    {
     "data": {
      "image/png": "[encoded data removed]",
      "text/plain": [
       "<Figure size 360x360 with 1 Axes>"
      ]
     },
     "metadata": {},
     "output_type": "display_data"
    }
   ],
   "source": [
    "graph(phone_lines, 'multiple_lines')"
   ]
  },
  {
   "cell_type": "markdown",
   "metadata": {},
   "source": [
    "Людей, которые не пользуются подключением к нескольким линиям одновременно, на 500 больше, чем других."
   ]
  },
  {
   "cell_type": "markdown",
   "metadata": {},
   "source": [
    "### Удаление ранних клиентов"
   ]
  },
  {
   "cell_type": "code",
   "execution_count": 68,
   "metadata": {},
   "outputs": [
    {
     "data": {
      "text/html": [
       "<div>\n",
       "<style scoped>\n",
       "    .dataframe tbody tr th:only-of-type {\n",
       "        vertical-align: middle;\n",
       "    }\n",
       "\n",
       "    .dataframe tbody tr th {\n",
       "        vertical-align: top;\n",
       "    }\n",
       "\n",
       "    .dataframe thead th {\n",
       "        text-align: right;\n",
       "    }\n",
       "</style>\n",
       "<table border=\"1\" class=\"dataframe\">\n",
       "  <thead>\n",
       "    <tr style=\"text-align: right;\">\n",
       "      <th></th>\n",
       "      <th>customer_id</th>\n",
       "      <th>gender</th>\n",
       "      <th>senior_citizen</th>\n",
       "      <th>partner</th>\n",
       "      <th>dependents</th>\n",
       "    </tr>\n",
       "  </thead>\n",
       "  <tbody>\n",
       "  </tbody>\n",
       "</table>\n",
       "</div>"
      ],
      "text/plain": [
       "Empty DataFrame\n",
       "Columns: [customer_id, gender, senior_citizen, partner, dependents]\n",
       "Index: []"
      ]
     },
     "execution_count": 68,
     "metadata": {},
     "output_type": "execute_result"
    }
   ],
   "source": [
    "personal.drop(personal.query('customer_id in @id_clients').index.tolist(), axis=0, inplace=True)\n",
    "personal.query('customer_id in @id_clients')"
   ]
  },
  {
   "cell_type": "code",
   "execution_count": 69,
   "metadata": {},
   "outputs": [
    {
     "data": {
      "text/html": [
       "<div>\n",
       "<style scoped>\n",
       "    .dataframe tbody tr th:only-of-type {\n",
       "        vertical-align: middle;\n",
       "    }\n",
       "\n",
       "    .dataframe tbody tr th {\n",
       "        vertical-align: top;\n",
       "    }\n",
       "\n",
       "    .dataframe thead th {\n",
       "        text-align: right;\n",
       "    }\n",
       "</style>\n",
       "<table border=\"1\" class=\"dataframe\">\n",
       "  <thead>\n",
       "    <tr style=\"text-align: right;\">\n",
       "      <th></th>\n",
       "      <th>customer_id</th>\n",
       "      <th>internet_service</th>\n",
       "      <th>online_security</th>\n",
       "      <th>online_backup</th>\n",
       "      <th>device_protection</th>\n",
       "      <th>tech_support</th>\n",
       "      <th>streaming_tv</th>\n",
       "      <th>streaming_movies</th>\n",
       "    </tr>\n",
       "  </thead>\n",
       "  <tbody>\n",
       "  </tbody>\n",
       "</table>\n",
       "</div>"
      ],
      "text/plain": [
       "Empty DataFrame\n",
       "Columns: [customer_id, internet_service, online_security, online_backup, device_protection, tech_support, streaming_tv, streaming_movies]\n",
       "Index: []"
      ]
     },
     "execution_count": 69,
     "metadata": {},
     "output_type": "execute_result"
    }
   ],
   "source": [
    "internet.drop(internet.query('customer_id in @id_clients').index.tolist(), axis=0, inplace=True)\n",
    "internet.query('customer_id in @id_clients')"
   ]
  },
  {
   "cell_type": "code",
   "execution_count": 70,
   "metadata": {},
   "outputs": [
    {
     "data": {
      "text/html": [
       "<div>\n",
       "<style scoped>\n",
       "    .dataframe tbody tr th:only-of-type {\n",
       "        vertical-align: middle;\n",
       "    }\n",
       "\n",
       "    .dataframe tbody tr th {\n",
       "        vertical-align: top;\n",
       "    }\n",
       "\n",
       "    .dataframe thead th {\n",
       "        text-align: right;\n",
       "    }\n",
       "</style>\n",
       "<table border=\"1\" class=\"dataframe\">\n",
       "  <thead>\n",
       "    <tr style=\"text-align: right;\">\n",
       "      <th></th>\n",
       "      <th>customer_id</th>\n",
       "      <th>multiple_lines</th>\n",
       "    </tr>\n",
       "  </thead>\n",
       "  <tbody>\n",
       "  </tbody>\n",
       "</table>\n",
       "</div>"
      ],
      "text/plain": [
       "Empty DataFrame\n",
       "Columns: [customer_id, multiple_lines]\n",
       "Index: []"
      ]
     },
     "execution_count": 70,
     "metadata": {},
     "output_type": "execute_result"
    }
   ],
   "source": [
    "phone.drop(phone.query('customer_id in @id_clients').index.tolist(), axis=0, inplace=True)\n",
    "phone.query('customer_id in @id_clients')"
   ]
  },
  {
   "cell_type": "markdown",
   "metadata": {},
   "source": [
    "## Соединение таблиц"
   ]
  },
  {
   "cell_type": "markdown",
   "metadata": {},
   "source": [
    "Соединим все 4 таблицы вместе по ключу customer_id."
   ]
  },
  {
   "cell_type": "code",
   "execution_count": 71,
   "metadata": {},
   "outputs": [
    {
     "name": "stdout",
     "output_type": "stream",
     "text": [
      "<class 'pandas.core.frame.DataFrame'>\n",
      "Int64Index: 7032 entries, 0 to 7031\n",
      "Data columns (total 15 columns):\n",
      " #   Column             Non-Null Count  Dtype         \n",
      "---  ------             --------------  -----         \n",
      " 0   customer_id        7032 non-null   object        \n",
      " 1   begin_date         7032 non-null   datetime64[ns]\n",
      " 2   end_date           7032 non-null   object        \n",
      " 3   type               7032 non-null   object        \n",
      " 4   paperless_billing  7032 non-null   object        \n",
      " 5   payment_method     7032 non-null   object        \n",
      " 6   monthly_charges    7032 non-null   float64       \n",
      " 7   total_charges      7032 non-null   float64       \n",
      " 8   internet_service   5512 non-null   object        \n",
      " 9   online_security    5512 non-null   object        \n",
      " 10  online_backup      5512 non-null   object        \n",
      " 11  device_protection  5512 non-null   object        \n",
      " 12  tech_support       5512 non-null   object        \n",
      " 13  streaming_tv       5512 non-null   object        \n",
      " 14  streaming_movies   5512 non-null   object        \n",
      "dtypes: datetime64[ns](1), float64(2), object(12)\n",
      "memory usage: 879.0+ KB\n"
     ]
    }
   ],
   "source": [
    "telecom = contract.merge(internet, how='outer', on='customer_id')\n",
    "telecom.info()"
   ]
  },
  {
   "cell_type": "code",
   "execution_count": 72,
   "metadata": {},
   "outputs": [
    {
     "name": "stdout",
     "output_type": "stream",
     "text": [
      "<class 'pandas.core.frame.DataFrame'>\n",
      "Int64Index: 7032 entries, 0 to 7031\n",
      "Data columns (total 19 columns):\n",
      " #   Column             Non-Null Count  Dtype         \n",
      "---  ------             --------------  -----         \n",
      " 0   customer_id        7032 non-null   object        \n",
      " 1   begin_date         7032 non-null   datetime64[ns]\n",
      " 2   end_date           7032 non-null   object        \n",
      " 3   type               7032 non-null   object        \n",
      " 4   paperless_billing  7032 non-null   object        \n",
      " 5   payment_method     7032 non-null   object        \n",
      " 6   monthly_charges    7032 non-null   float64       \n",
      " 7   total_charges      7032 non-null   float64       \n",
      " 8   internet_service   5512 non-null   object        \n",
      " 9   online_security    5512 non-null   object        \n",
      " 10  online_backup      5512 non-null   object        \n",
      " 11  device_protection  5512 non-null   object        \n",
      " 12  tech_support       5512 non-null   object        \n",
      " 13  streaming_tv       5512 non-null   object        \n",
      " 14  streaming_movies   5512 non-null   object        \n",
      " 15  gender             7032 non-null   object        \n",
      " 16  senior_citizen     7032 non-null   int64         \n",
      " 17  partner            7032 non-null   object        \n",
      " 18  dependents         7032 non-null   object        \n",
      "dtypes: datetime64[ns](1), float64(2), int64(1), object(15)\n",
      "memory usage: 1.1+ MB\n"
     ]
    }
   ],
   "source": [
    "telecom = telecom.merge(personal, how='outer', on='customer_id')\n",
    "telecom.info()"
   ]
  },
  {
   "cell_type": "code",
   "execution_count": 73,
   "metadata": {},
   "outputs": [
    {
     "name": "stdout",
     "output_type": "stream",
     "text": [
      "<class 'pandas.core.frame.DataFrame'>\n",
      "Int64Index: 7032 entries, 0 to 7031\n",
      "Data columns (total 20 columns):\n",
      " #   Column             Non-Null Count  Dtype         \n",
      "---  ------             --------------  -----         \n",
      " 0   customer_id        7032 non-null   object        \n",
      " 1   begin_date         7032 non-null   datetime64[ns]\n",
      " 2   end_date           7032 non-null   object        \n",
      " 3   type               7032 non-null   object        \n",
      " 4   paperless_billing  7032 non-null   object        \n",
      " 5   payment_method     7032 non-null   object        \n",
      " 6   monthly_charges    7032 non-null   float64       \n",
      " 7   total_charges      7032 non-null   float64       \n",
      " 8   internet_service   5512 non-null   object        \n",
      " 9   online_security    5512 non-null   object        \n",
      " 10  online_backup      5512 non-null   object        \n",
      " 11  device_protection  5512 non-null   object        \n",
      " 12  tech_support       5512 non-null   object        \n",
      " 13  streaming_tv       5512 non-null   object        \n",
      " 14  streaming_movies   5512 non-null   object        \n",
      " 15  gender             7032 non-null   object        \n",
      " 16  senior_citizen     7032 non-null   int64         \n",
      " 17  partner            7032 non-null   object        \n",
      " 18  dependents         7032 non-null   object        \n",
      " 19  multiple_lines     6352 non-null   object        \n",
      "dtypes: datetime64[ns](1), float64(2), int64(1), object(16)\n",
      "memory usage: 1.1+ MB\n"
     ]
    }
   ],
   "source": [
    "telecom = telecom.merge(phone, how='outer', on='customer_id')\n",
    "telecom.info()"
   ]
  },
  {
   "cell_type": "code",
   "execution_count": 74,
   "metadata": {},
   "outputs": [
    {
     "data": {
      "text/html": [
       "<div>\n",
       "<style scoped>\n",
       "    .dataframe tbody tr th:only-of-type {\n",
       "        vertical-align: middle;\n",
       "    }\n",
       "\n",
       "    .dataframe tbody tr th {\n",
       "        vertical-align: top;\n",
       "    }\n",
       "\n",
       "    .dataframe thead th {\n",
       "        text-align: right;\n",
       "    }\n",
       "</style>\n",
       "<table border=\"1\" class=\"dataframe\">\n",
       "  <thead>\n",
       "    <tr style=\"text-align: right;\">\n",
       "      <th></th>\n",
       "      <th>customer_id</th>\n",
       "      <th>begin_date</th>\n",
       "      <th>end_date</th>\n",
       "      <th>type</th>\n",
       "      <th>paperless_billing</th>\n",
       "      <th>payment_method</th>\n",
       "      <th>monthly_charges</th>\n",
       "      <th>total_charges</th>\n",
       "      <th>internet_service</th>\n",
       "      <th>online_security</th>\n",
       "      <th>online_backup</th>\n",
       "      <th>device_protection</th>\n",
       "      <th>tech_support</th>\n",
       "      <th>streaming_tv</th>\n",
       "      <th>streaming_movies</th>\n",
       "      <th>gender</th>\n",
       "      <th>senior_citizen</th>\n",
       "      <th>partner</th>\n",
       "      <th>dependents</th>\n",
       "      <th>multiple_lines</th>\n",
       "    </tr>\n",
       "  </thead>\n",
       "  <tbody>\n",
       "    <tr>\n",
       "      <th>0</th>\n",
       "      <td>7590-VHVEG</td>\n",
       "      <td>2020-01-01</td>\n",
       "      <td>No</td>\n",
       "      <td>Month-to-month</td>\n",
       "      <td>1</td>\n",
       "      <td>Electronic check</td>\n",
       "      <td>29.85</td>\n",
       "      <td>29.85</td>\n",
       "      <td>DSL</td>\n",
       "      <td>1</td>\n",
       "      <td>1</td>\n",
       "      <td>1</td>\n",
       "      <td>1</td>\n",
       "      <td>1</td>\n",
       "      <td>1</td>\n",
       "      <td>0</td>\n",
       "      <td>0</td>\n",
       "      <td>1</td>\n",
       "      <td>1</td>\n",
       "      <td>NaN</td>\n",
       "    </tr>\n",
       "    <tr>\n",
       "      <th>1</th>\n",
       "      <td>5575-GNVDE</td>\n",
       "      <td>2017-04-01</td>\n",
       "      <td>No</td>\n",
       "      <td>One year</td>\n",
       "      <td>0</td>\n",
       "      <td>Mailed check</td>\n",
       "      <td>56.95</td>\n",
       "      <td>1889.50</td>\n",
       "      <td>DSL</td>\n",
       "      <td>1</td>\n",
       "      <td>1</td>\n",
       "      <td>1</td>\n",
       "      <td>1</td>\n",
       "      <td>1</td>\n",
       "      <td>1</td>\n",
       "      <td>0</td>\n",
       "      <td>0</td>\n",
       "      <td>1</td>\n",
       "      <td>1</td>\n",
       "      <td>1</td>\n",
       "    </tr>\n",
       "    <tr>\n",
       "      <th>2</th>\n",
       "      <td>3668-QPYBK</td>\n",
       "      <td>2019-10-01</td>\n",
       "      <td>2019-12-01</td>\n",
       "      <td>Month-to-month</td>\n",
       "      <td>1</td>\n",
       "      <td>Mailed check</td>\n",
       "      <td>53.85</td>\n",
       "      <td>108.15</td>\n",
       "      <td>DSL</td>\n",
       "      <td>1</td>\n",
       "      <td>1</td>\n",
       "      <td>1</td>\n",
       "      <td>1</td>\n",
       "      <td>1</td>\n",
       "      <td>1</td>\n",
       "      <td>0</td>\n",
       "      <td>0</td>\n",
       "      <td>1</td>\n",
       "      <td>1</td>\n",
       "      <td>1</td>\n",
       "    </tr>\n",
       "    <tr>\n",
       "      <th>3</th>\n",
       "      <td>7795-CFOCW</td>\n",
       "      <td>2016-05-01</td>\n",
       "      <td>No</td>\n",
       "      <td>One year</td>\n",
       "      <td>0</td>\n",
       "      <td>Bank transfer (automatic)</td>\n",
       "      <td>42.30</td>\n",
       "      <td>1840.75</td>\n",
       "      <td>DSL</td>\n",
       "      <td>1</td>\n",
       "      <td>1</td>\n",
       "      <td>1</td>\n",
       "      <td>1</td>\n",
       "      <td>1</td>\n",
       "      <td>1</td>\n",
       "      <td>0</td>\n",
       "      <td>0</td>\n",
       "      <td>1</td>\n",
       "      <td>1</td>\n",
       "      <td>NaN</td>\n",
       "    </tr>\n",
       "    <tr>\n",
       "      <th>4</th>\n",
       "      <td>9237-HQITU</td>\n",
       "      <td>2019-09-01</td>\n",
       "      <td>2019-11-01</td>\n",
       "      <td>Month-to-month</td>\n",
       "      <td>1</td>\n",
       "      <td>Electronic check</td>\n",
       "      <td>70.70</td>\n",
       "      <td>151.65</td>\n",
       "      <td>Fiber optic</td>\n",
       "      <td>1</td>\n",
       "      <td>1</td>\n",
       "      <td>1</td>\n",
       "      <td>1</td>\n",
       "      <td>1</td>\n",
       "      <td>1</td>\n",
       "      <td>0</td>\n",
       "      <td>0</td>\n",
       "      <td>1</td>\n",
       "      <td>1</td>\n",
       "      <td>1</td>\n",
       "    </tr>\n",
       "  </tbody>\n",
       "</table>\n",
       "</div>"
      ],
      "text/plain": [
       "  customer_id begin_date    end_date            type paperless_billing  \\\n",
       "0  7590-VHVEG 2020-01-01          No  Month-to-month                 1   \n",
       "1  5575-GNVDE 2017-04-01          No        One year                 0   \n",
       "2  3668-QPYBK 2019-10-01  2019-12-01  Month-to-month                 1   \n",
       "3  7795-CFOCW 2016-05-01          No        One year                 0   \n",
       "4  9237-HQITU 2019-09-01  2019-11-01  Month-to-month                 1   \n",
       "\n",
       "              payment_method  monthly_charges  total_charges internet_service  \\\n",
       "0           Electronic check            29.85          29.85              DSL   \n",
       "1               Mailed check            56.95        1889.50              DSL   \n",
       "2               Mailed check            53.85         108.15              DSL   \n",
       "3  Bank transfer (automatic)            42.30        1840.75              DSL   \n",
       "4           Electronic check            70.70         151.65      Fiber optic   \n",
       "\n",
       "  online_security online_backup device_protection tech_support streaming_tv  \\\n",
       "0               1             1                 1            1            1   \n",
       "1               1             1                 1            1            1   \n",
       "2               1             1                 1            1            1   \n",
       "3               1             1                 1            1            1   \n",
       "4               1             1                 1            1            1   \n",
       "\n",
       "  streaming_movies gender  senior_citizen partner dependents multiple_lines  \n",
       "0                1      0               0       1          1            NaN  \n",
       "1                1      0               0       1          1              1  \n",
       "2                1      0               0       1          1              1  \n",
       "3                1      0               0       1          1            NaN  \n",
       "4                1      0               0       1          1              1  "
      ]
     },
     "execution_count": 74,
     "metadata": {},
     "output_type": "execute_result"
    }
   ],
   "source": [
    "telecom.head(5)"
   ]
  },
  {
   "cell_type": "markdown",
   "metadata": {},
   "source": [
    "## Предобработка данных"
   ]
  },
  {
   "cell_type": "markdown",
   "metadata": {},
   "source": [
    "### Работа с пропусками"
   ]
  },
  {
   "cell_type": "markdown",
   "metadata": {},
   "source": [
    "Пропуски допущены в следующих признаках: \n",
    "- *internet_service*, *online_security*, *online_backup*, *device_protection*, *tech_support*, *streaming_tv*, *streaming_movie*;\n",
    "- *multiple_lines*."
   ]
  },
  {
   "cell_type": "markdown",
   "metadata": {},
   "source": [
    "Проставим 0 в данных пропусках, так как это значит просто то, что клиенты не пользуются данными услугами."
   ]
  },
  {
   "cell_type": "code",
   "execution_count": 75,
   "metadata": {},
   "outputs": [],
   "source": [
    "miss_features = ['internet_service', 'online_security', 'online_backup', 'device_protection', 'tech_support', 'streaming_tv', 'streaming_movie', 'multiple_lines']"
   ]
  },
  {
   "cell_type": "code",
   "execution_count": 76,
   "metadata": {},
   "outputs": [],
   "source": [
    "telecom.fillna(0, inplace=True)"
   ]
  },
  {
   "cell_type": "code",
   "execution_count": 77,
   "metadata": {},
   "outputs": [
    {
     "name": "stdout",
     "output_type": "stream",
     "text": [
      "<class 'pandas.core.frame.DataFrame'>\n",
      "Int64Index: 7032 entries, 0 to 7031\n",
      "Data columns (total 20 columns):\n",
      " #   Column             Non-Null Count  Dtype         \n",
      "---  ------             --------------  -----         \n",
      " 0   customer_id        7032 non-null   object        \n",
      " 1   begin_date         7032 non-null   datetime64[ns]\n",
      " 2   end_date           7032 non-null   object        \n",
      " 3   type               7032 non-null   object        \n",
      " 4   paperless_billing  7032 non-null   int64         \n",
      " 5   payment_method     7032 non-null   object        \n",
      " 6   monthly_charges    7032 non-null   float64       \n",
      " 7   total_charges      7032 non-null   float64       \n",
      " 8   internet_service   7032 non-null   object        \n",
      " 9   online_security    7032 non-null   int64         \n",
      " 10  online_backup      7032 non-null   int64         \n",
      " 11  device_protection  7032 non-null   int64         \n",
      " 12  tech_support       7032 non-null   int64         \n",
      " 13  streaming_tv       7032 non-null   int64         \n",
      " 14  streaming_movies   7032 non-null   int64         \n",
      " 15  gender             7032 non-null   int64         \n",
      " 16  senior_citizen     7032 non-null   int64         \n",
      " 17  partner            7032 non-null   int64         \n",
      " 18  dependents         7032 non-null   int64         \n",
      " 19  multiple_lines     7032 non-null   int64         \n",
      "dtypes: datetime64[ns](1), float64(2), int64(12), object(5)\n",
      "memory usage: 1.1+ MB\n"
     ]
    }
   ],
   "source": [
    "telecom.info()"
   ]
  },
  {
   "cell_type": "markdown",
   "metadata": {},
   "source": [
    "### Работа с признаками"
   ]
  },
  {
   "cell_type": "markdown",
   "metadata": {},
   "source": [
    "#### Удаление ненужных признаков"
   ]
  },
  {
   "cell_type": "code",
   "execution_count": 78,
   "metadata": {},
   "outputs": [],
   "source": [
    "telecom.drop(['customer_id'], axis=1, inplace=True)"
   ]
  },
  {
   "cell_type": "markdown",
   "metadata": {},
   "source": [
    "#### Целевой признак"
   ]
  },
  {
   "cell_type": "markdown",
   "metadata": {},
   "source": [
    "Целевой признак можно выделить из столбца *end_date*."
   ]
  },
  {
   "cell_type": "code",
   "execution_count": 79,
   "metadata": {},
   "outputs": [],
   "source": [
    "telecom.loc[telecom['end_date'] == 'No', 'target'] = 0\n",
    "telecom.loc[telecom['end_date'] != 'No', 'target'] = 1"
   ]
  },
  {
   "cell_type": "code",
   "execution_count": 80,
   "metadata": {},
   "outputs": [
    {
     "data": {
      "text/html": [
       "<div>\n",
       "<style scoped>\n",
       "    .dataframe tbody tr th:only-of-type {\n",
       "        vertical-align: middle;\n",
       "    }\n",
       "\n",
       "    .dataframe tbody tr th {\n",
       "        vertical-align: top;\n",
       "    }\n",
       "\n",
       "    .dataframe thead th {\n",
       "        text-align: right;\n",
       "    }\n",
       "</style>\n",
       "<table border=\"1\" class=\"dataframe\">\n",
       "  <thead>\n",
       "    <tr style=\"text-align: right;\">\n",
       "      <th></th>\n",
       "      <th>begin_date</th>\n",
       "      <th>end_date</th>\n",
       "      <th>type</th>\n",
       "      <th>paperless_billing</th>\n",
       "      <th>payment_method</th>\n",
       "      <th>monthly_charges</th>\n",
       "      <th>total_charges</th>\n",
       "      <th>internet_service</th>\n",
       "      <th>online_security</th>\n",
       "      <th>online_backup</th>\n",
       "      <th>device_protection</th>\n",
       "      <th>tech_support</th>\n",
       "      <th>streaming_tv</th>\n",
       "      <th>streaming_movies</th>\n",
       "      <th>gender</th>\n",
       "      <th>senior_citizen</th>\n",
       "      <th>partner</th>\n",
       "      <th>dependents</th>\n",
       "      <th>multiple_lines</th>\n",
       "      <th>target</th>\n",
       "    </tr>\n",
       "  </thead>\n",
       "  <tbody>\n",
       "    <tr>\n",
       "      <th>0</th>\n",
       "      <td>2020-01-01</td>\n",
       "      <td>No</td>\n",
       "      <td>Month-to-month</td>\n",
       "      <td>1</td>\n",
       "      <td>Electronic check</td>\n",
       "      <td>29.85</td>\n",
       "      <td>29.85</td>\n",
       "      <td>DSL</td>\n",
       "      <td>1</td>\n",
       "      <td>1</td>\n",
       "      <td>1</td>\n",
       "      <td>1</td>\n",
       "      <td>1</td>\n",
       "      <td>1</td>\n",
       "      <td>0</td>\n",
       "      <td>0</td>\n",
       "      <td>1</td>\n",
       "      <td>1</td>\n",
       "      <td>0</td>\n",
       "      <td>0.0</td>\n",
       "    </tr>\n",
       "    <tr>\n",
       "      <th>1</th>\n",
       "      <td>2017-04-01</td>\n",
       "      <td>No</td>\n",
       "      <td>One year</td>\n",
       "      <td>0</td>\n",
       "      <td>Mailed check</td>\n",
       "      <td>56.95</td>\n",
       "      <td>1889.50</td>\n",
       "      <td>DSL</td>\n",
       "      <td>1</td>\n",
       "      <td>1</td>\n",
       "      <td>1</td>\n",
       "      <td>1</td>\n",
       "      <td>1</td>\n",
       "      <td>1</td>\n",
       "      <td>0</td>\n",
       "      <td>0</td>\n",
       "      <td>1</td>\n",
       "      <td>1</td>\n",
       "      <td>1</td>\n",
       "      <td>0.0</td>\n",
       "    </tr>\n",
       "    <tr>\n",
       "      <th>2</th>\n",
       "      <td>2019-10-01</td>\n",
       "      <td>2019-12-01</td>\n",
       "      <td>Month-to-month</td>\n",
       "      <td>1</td>\n",
       "      <td>Mailed check</td>\n",
       "      <td>53.85</td>\n",
       "      <td>108.15</td>\n",
       "      <td>DSL</td>\n",
       "      <td>1</td>\n",
       "      <td>1</td>\n",
       "      <td>1</td>\n",
       "      <td>1</td>\n",
       "      <td>1</td>\n",
       "      <td>1</td>\n",
       "      <td>0</td>\n",
       "      <td>0</td>\n",
       "      <td>1</td>\n",
       "      <td>1</td>\n",
       "      <td>1</td>\n",
       "      <td>1.0</td>\n",
       "    </tr>\n",
       "  </tbody>\n",
       "</table>\n",
       "</div>"
      ],
      "text/plain": [
       "  begin_date    end_date            type  paperless_billing    payment_method  \\\n",
       "0 2020-01-01          No  Month-to-month                  1  Electronic check   \n",
       "1 2017-04-01          No        One year                  0      Mailed check   \n",
       "2 2019-10-01  2019-12-01  Month-to-month                  1      Mailed check   \n",
       "\n",
       "   monthly_charges  total_charges internet_service  online_security  \\\n",
       "0            29.85          29.85              DSL                1   \n",
       "1            56.95        1889.50              DSL                1   \n",
       "2            53.85         108.15              DSL                1   \n",
       "\n",
       "   online_backup  device_protection  tech_support  streaming_tv  \\\n",
       "0              1                  1             1             1   \n",
       "1              1                  1             1             1   \n",
       "2              1                  1             1             1   \n",
       "\n",
       "   streaming_movies  gender  senior_citizen  partner  dependents  \\\n",
       "0                 1       0               0        1           1   \n",
       "1                 1       0               0        1           1   \n",
       "2                 1       0               0        1           1   \n",
       "\n",
       "   multiple_lines  target  \n",
       "0               0     0.0  \n",
       "1               1     0.0  \n",
       "2               1     1.0  "
      ]
     },
     "execution_count": 80,
     "metadata": {},
     "output_type": "execute_result"
    }
   ],
   "source": [
    "telecom.head(3)"
   ]
  },
  {
   "cell_type": "code",
   "execution_count": 81,
   "metadata": {},
   "outputs": [],
   "source": [
    "telecom['target'] = telecom['target'].astype('int')"
   ]
  },
  {
   "cell_type": "code",
   "execution_count": 82,
   "metadata": {},
   "outputs": [
    {
     "data": {
      "text/html": [
       "<div>\n",
       "<style scoped>\n",
       "    .dataframe tbody tr th:only-of-type {\n",
       "        vertical-align: middle;\n",
       "    }\n",
       "\n",
       "    .dataframe tbody tr th {\n",
       "        vertical-align: top;\n",
       "    }\n",
       "\n",
       "    .dataframe thead th {\n",
       "        text-align: right;\n",
       "    }\n",
       "</style>\n",
       "<table border=\"1\" class=\"dataframe\">\n",
       "  <thead>\n",
       "    <tr style=\"text-align: right;\">\n",
       "      <th></th>\n",
       "      <th>begin_date</th>\n",
       "      <th>end_date</th>\n",
       "      <th>type</th>\n",
       "      <th>paperless_billing</th>\n",
       "      <th>payment_method</th>\n",
       "      <th>monthly_charges</th>\n",
       "      <th>total_charges</th>\n",
       "      <th>internet_service</th>\n",
       "      <th>online_security</th>\n",
       "      <th>online_backup</th>\n",
       "      <th>device_protection</th>\n",
       "      <th>tech_support</th>\n",
       "      <th>streaming_tv</th>\n",
       "      <th>streaming_movies</th>\n",
       "      <th>gender</th>\n",
       "      <th>senior_citizen</th>\n",
       "      <th>partner</th>\n",
       "      <th>dependents</th>\n",
       "      <th>multiple_lines</th>\n",
       "      <th>target</th>\n",
       "    </tr>\n",
       "  </thead>\n",
       "  <tbody>\n",
       "    <tr>\n",
       "      <th>0</th>\n",
       "      <td>2020-01-01</td>\n",
       "      <td>No</td>\n",
       "      <td>Month-to-month</td>\n",
       "      <td>1</td>\n",
       "      <td>Electronic check</td>\n",
       "      <td>29.85</td>\n",
       "      <td>29.85</td>\n",
       "      <td>DSL</td>\n",
       "      <td>1</td>\n",
       "      <td>1</td>\n",
       "      <td>1</td>\n",
       "      <td>1</td>\n",
       "      <td>1</td>\n",
       "      <td>1</td>\n",
       "      <td>0</td>\n",
       "      <td>0</td>\n",
       "      <td>1</td>\n",
       "      <td>1</td>\n",
       "      <td>0</td>\n",
       "      <td>0</td>\n",
       "    </tr>\n",
       "    <tr>\n",
       "      <th>1</th>\n",
       "      <td>2017-04-01</td>\n",
       "      <td>No</td>\n",
       "      <td>One year</td>\n",
       "      <td>0</td>\n",
       "      <td>Mailed check</td>\n",
       "      <td>56.95</td>\n",
       "      <td>1889.50</td>\n",
       "      <td>DSL</td>\n",
       "      <td>1</td>\n",
       "      <td>1</td>\n",
       "      <td>1</td>\n",
       "      <td>1</td>\n",
       "      <td>1</td>\n",
       "      <td>1</td>\n",
       "      <td>0</td>\n",
       "      <td>0</td>\n",
       "      <td>1</td>\n",
       "      <td>1</td>\n",
       "      <td>1</td>\n",
       "      <td>0</td>\n",
       "    </tr>\n",
       "    <tr>\n",
       "      <th>2</th>\n",
       "      <td>2019-10-01</td>\n",
       "      <td>2019-12-01</td>\n",
       "      <td>Month-to-month</td>\n",
       "      <td>1</td>\n",
       "      <td>Mailed check</td>\n",
       "      <td>53.85</td>\n",
       "      <td>108.15</td>\n",
       "      <td>DSL</td>\n",
       "      <td>1</td>\n",
       "      <td>1</td>\n",
       "      <td>1</td>\n",
       "      <td>1</td>\n",
       "      <td>1</td>\n",
       "      <td>1</td>\n",
       "      <td>0</td>\n",
       "      <td>0</td>\n",
       "      <td>1</td>\n",
       "      <td>1</td>\n",
       "      <td>1</td>\n",
       "      <td>1</td>\n",
       "    </tr>\n",
       "  </tbody>\n",
       "</table>\n",
       "</div>"
      ],
      "text/plain": [
       "  begin_date    end_date            type  paperless_billing    payment_method  \\\n",
       "0 2020-01-01          No  Month-to-month                  1  Electronic check   \n",
       "1 2017-04-01          No        One year                  0      Mailed check   \n",
       "2 2019-10-01  2019-12-01  Month-to-month                  1      Mailed check   \n",
       "\n",
       "   monthly_charges  total_charges internet_service  online_security  \\\n",
       "0            29.85          29.85              DSL                1   \n",
       "1            56.95        1889.50              DSL                1   \n",
       "2            53.85         108.15              DSL                1   \n",
       "\n",
       "   online_backup  device_protection  tech_support  streaming_tv  \\\n",
       "0              1                  1             1             1   \n",
       "1              1                  1             1             1   \n",
       "2              1                  1             1             1   \n",
       "\n",
       "   streaming_movies  gender  senior_citizen  partner  dependents  \\\n",
       "0                 1       0               0        1           1   \n",
       "1                 1       0               0        1           1   \n",
       "2                 1       0               0        1           1   \n",
       "\n",
       "   multiple_lines  target  \n",
       "0               0       0  \n",
       "1               1       0  \n",
       "2               1       1  "
      ]
     },
     "execution_count": 82,
     "metadata": {},
     "output_type": "execute_result"
    }
   ],
   "source": [
    "telecom.head(3)"
   ]
  },
  {
   "cell_type": "markdown",
   "metadata": {},
   "source": [
    "#### Переменные"
   ]
  },
  {
   "cell_type": "markdown",
   "metadata": {},
   "source": [
    "Создадим новый признак, который будет показывать количество дней, которые клиент являлся (является) клиентом компании - lifetime."
   ]
  },
  {
   "cell_type": "markdown",
   "metadata": {},
   "source": [
    "Имея значения *No* в столбце *end_date*, не получится рассчитать дни для каких-то пользователей. Поскольку данные акутальны на 01.02.2020, заменим значения *No* на 01.02.2020."
   ]
  },
  {
   "cell_type": "code",
   "execution_count": 83,
   "metadata": {},
   "outputs": [],
   "source": [
    "telecom.loc[telecom['end_date'] == 'No', 'end_date'] = '2020-02-01'"
   ]
  },
  {
   "cell_type": "code",
   "execution_count": 84,
   "metadata": {},
   "outputs": [
    {
     "data": {
      "text/plain": [
       "dtype('O')"
      ]
     },
     "execution_count": 84,
     "metadata": {},
     "output_type": "execute_result"
    }
   ],
   "source": [
    "telecom['end_date'].dtypes"
   ]
  },
  {
   "cell_type": "code",
   "execution_count": 85,
   "metadata": {},
   "outputs": [],
   "source": [
    "telecom['end_date'] = pd.to_datetime(telecom['end_date'], format='%Y-%m-%d')"
   ]
  },
  {
   "cell_type": "code",
   "execution_count": 86,
   "metadata": {},
   "outputs": [
    {
     "data": {
      "text/plain": [
       "dtype('<M8[ns]')"
      ]
     },
     "execution_count": 86,
     "metadata": {},
     "output_type": "execute_result"
    }
   ],
   "source": [
    "telecom['end_date'].dtypes"
   ]
  },
  {
   "cell_type": "code",
   "execution_count": 87,
   "metadata": {},
   "outputs": [
    {
     "data": {
      "text/plain": [
       "dtype('<M8[ns]')"
      ]
     },
     "execution_count": 87,
     "metadata": {},
     "output_type": "execute_result"
    }
   ],
   "source": [
    "telecom['begin_date'].dtypes"
   ]
  },
  {
   "cell_type": "code",
   "execution_count": 88,
   "metadata": {},
   "outputs": [],
   "source": [
    "telecom['lifetime'] = (telecom['end_date'] - telecom['begin_date']).dt.days"
   ]
  },
  {
   "cell_type": "markdown",
   "metadata": {},
   "source": [
    "Для избежания утечки и мультиколлинеарности признаков удалим переменные *begin_date* и *end_date*."
   ]
  },
  {
   "cell_type": "code",
   "execution_count": 89,
   "metadata": {},
   "outputs": [],
   "source": [
    "telecom.drop(['begin_date', 'end_date'], axis=1, inplace=True)"
   ]
  },
  {
   "cell_type": "code",
   "execution_count": 90,
   "metadata": {},
   "outputs": [
    {
     "data": {
      "text/html": [
       "<div>\n",
       "<style scoped>\n",
       "    .dataframe tbody tr th:only-of-type {\n",
       "        vertical-align: middle;\n",
       "    }\n",
       "\n",
       "    .dataframe tbody tr th {\n",
       "        vertical-align: top;\n",
       "    }\n",
       "\n",
       "    .dataframe thead th {\n",
       "        text-align: right;\n",
       "    }\n",
       "</style>\n",
       "<table border=\"1\" class=\"dataframe\">\n",
       "  <thead>\n",
       "    <tr style=\"text-align: right;\">\n",
       "      <th></th>\n",
       "      <th>type</th>\n",
       "      <th>paperless_billing</th>\n",
       "      <th>payment_method</th>\n",
       "      <th>monthly_charges</th>\n",
       "      <th>total_charges</th>\n",
       "      <th>internet_service</th>\n",
       "      <th>online_security</th>\n",
       "      <th>online_backup</th>\n",
       "      <th>device_protection</th>\n",
       "      <th>tech_support</th>\n",
       "      <th>streaming_tv</th>\n",
       "      <th>streaming_movies</th>\n",
       "      <th>gender</th>\n",
       "      <th>senior_citizen</th>\n",
       "      <th>partner</th>\n",
       "      <th>dependents</th>\n",
       "      <th>multiple_lines</th>\n",
       "      <th>target</th>\n",
       "      <th>lifetime</th>\n",
       "    </tr>\n",
       "  </thead>\n",
       "  <tbody>\n",
       "    <tr>\n",
       "      <th>0</th>\n",
       "      <td>Month-to-month</td>\n",
       "      <td>1</td>\n",
       "      <td>Electronic check</td>\n",
       "      <td>29.85</td>\n",
       "      <td>29.85</td>\n",
       "      <td>DSL</td>\n",
       "      <td>1</td>\n",
       "      <td>1</td>\n",
       "      <td>1</td>\n",
       "      <td>1</td>\n",
       "      <td>1</td>\n",
       "      <td>1</td>\n",
       "      <td>0</td>\n",
       "      <td>0</td>\n",
       "      <td>1</td>\n",
       "      <td>1</td>\n",
       "      <td>0</td>\n",
       "      <td>0</td>\n",
       "      <td>31</td>\n",
       "    </tr>\n",
       "    <tr>\n",
       "      <th>1</th>\n",
       "      <td>One year</td>\n",
       "      <td>0</td>\n",
       "      <td>Mailed check</td>\n",
       "      <td>56.95</td>\n",
       "      <td>1889.50</td>\n",
       "      <td>DSL</td>\n",
       "      <td>1</td>\n",
       "      <td>1</td>\n",
       "      <td>1</td>\n",
       "      <td>1</td>\n",
       "      <td>1</td>\n",
       "      <td>1</td>\n",
       "      <td>0</td>\n",
       "      <td>0</td>\n",
       "      <td>1</td>\n",
       "      <td>1</td>\n",
       "      <td>1</td>\n",
       "      <td>0</td>\n",
       "      <td>1036</td>\n",
       "    </tr>\n",
       "    <tr>\n",
       "      <th>2</th>\n",
       "      <td>Month-to-month</td>\n",
       "      <td>1</td>\n",
       "      <td>Mailed check</td>\n",
       "      <td>53.85</td>\n",
       "      <td>108.15</td>\n",
       "      <td>DSL</td>\n",
       "      <td>1</td>\n",
       "      <td>1</td>\n",
       "      <td>1</td>\n",
       "      <td>1</td>\n",
       "      <td>1</td>\n",
       "      <td>1</td>\n",
       "      <td>0</td>\n",
       "      <td>0</td>\n",
       "      <td>1</td>\n",
       "      <td>1</td>\n",
       "      <td>1</td>\n",
       "      <td>1</td>\n",
       "      <td>61</td>\n",
       "    </tr>\n",
       "  </tbody>\n",
       "</table>\n",
       "</div>"
      ],
      "text/plain": [
       "             type  paperless_billing    payment_method  monthly_charges  \\\n",
       "0  Month-to-month                  1  Electronic check            29.85   \n",
       "1        One year                  0      Mailed check            56.95   \n",
       "2  Month-to-month                  1      Mailed check            53.85   \n",
       "\n",
       "   total_charges internet_service  online_security  online_backup  \\\n",
       "0          29.85              DSL                1              1   \n",
       "1        1889.50              DSL                1              1   \n",
       "2         108.15              DSL                1              1   \n",
       "\n",
       "   device_protection  tech_support  streaming_tv  streaming_movies  gender  \\\n",
       "0                  1             1             1                 1       0   \n",
       "1                  1             1             1                 1       0   \n",
       "2                  1             1             1                 1       0   \n",
       "\n",
       "   senior_citizen  partner  dependents  multiple_lines  target  lifetime  \n",
       "0               0        1           1               0       0        31  \n",
       "1               0        1           1               1       0      1036  \n",
       "2               0        1           1               1       1        61  "
      ]
     },
     "execution_count": 90,
     "metadata": {},
     "output_type": "execute_result"
    }
   ],
   "source": [
    "telecom.head(3)"
   ]
  },
  {
   "cell_type": "markdown",
   "metadata": {},
   "source": [
    "### Кодирование категориальных признаков"
   ]
  },
  {
   "cell_type": "code",
   "execution_count": 91,
   "metadata": {},
   "outputs": [
    {
     "name": "stdout",
     "output_type": "stream",
     "text": [
      "<class 'pandas.core.frame.DataFrame'>\n",
      "Int64Index: 7032 entries, 0 to 7031\n",
      "Data columns (total 19 columns):\n",
      " #   Column             Non-Null Count  Dtype  \n",
      "---  ------             --------------  -----  \n",
      " 0   type               7032 non-null   object \n",
      " 1   paperless_billing  7032 non-null   int64  \n",
      " 2   payment_method     7032 non-null   object \n",
      " 3   monthly_charges    7032 non-null   float64\n",
      " 4   total_charges      7032 non-null   float64\n",
      " 5   internet_service   7032 non-null   object \n",
      " 6   online_security    7032 non-null   int64  \n",
      " 7   online_backup      7032 non-null   int64  \n",
      " 8   device_protection  7032 non-null   int64  \n",
      " 9   tech_support       7032 non-null   int64  \n",
      " 10  streaming_tv       7032 non-null   int64  \n",
      " 11  streaming_movies   7032 non-null   int64  \n",
      " 12  gender             7032 non-null   int64  \n",
      " 13  senior_citizen     7032 non-null   int64  \n",
      " 14  partner            7032 non-null   int64  \n",
      " 15  dependents         7032 non-null   int64  \n",
      " 16  multiple_lines     7032 non-null   int64  \n",
      " 17  target             7032 non-null   int32  \n",
      " 18  lifetime           7032 non-null   int64  \n",
      "dtypes: float64(2), int32(1), int64(13), object(3)\n",
      "memory usage: 1.0+ MB\n"
     ]
    }
   ],
   "source": [
    "telecom.info()"
   ]
  },
  {
   "cell_type": "code",
   "execution_count": 92,
   "metadata": {},
   "outputs": [],
   "source": [
    "telecom = pd.get_dummies(telecom, drop_first=True)"
   ]
  },
  {
   "cell_type": "code",
   "execution_count": 93,
   "metadata": {},
   "outputs": [
    {
     "data": {
      "text/html": [
       "<div>\n",
       "<style scoped>\n",
       "    .dataframe tbody tr th:only-of-type {\n",
       "        vertical-align: middle;\n",
       "    }\n",
       "\n",
       "    .dataframe tbody tr th {\n",
       "        vertical-align: top;\n",
       "    }\n",
       "\n",
       "    .dataframe thead th {\n",
       "        text-align: right;\n",
       "    }\n",
       "</style>\n",
       "<table border=\"1\" class=\"dataframe\">\n",
       "  <thead>\n",
       "    <tr style=\"text-align: right;\">\n",
       "      <th></th>\n",
       "      <th>paperless_billing</th>\n",
       "      <th>monthly_charges</th>\n",
       "      <th>total_charges</th>\n",
       "      <th>online_security</th>\n",
       "      <th>online_backup</th>\n",
       "      <th>device_protection</th>\n",
       "      <th>tech_support</th>\n",
       "      <th>streaming_tv</th>\n",
       "      <th>streaming_movies</th>\n",
       "      <th>gender</th>\n",
       "      <th>...</th>\n",
       "      <th>multiple_lines</th>\n",
       "      <th>target</th>\n",
       "      <th>lifetime</th>\n",
       "      <th>type_One year</th>\n",
       "      <th>type_Two year</th>\n",
       "      <th>payment_method_Credit card (automatic)</th>\n",
       "      <th>payment_method_Electronic check</th>\n",
       "      <th>payment_method_Mailed check</th>\n",
       "      <th>internet_service_DSL</th>\n",
       "      <th>internet_service_Fiber optic</th>\n",
       "    </tr>\n",
       "  </thead>\n",
       "  <tbody>\n",
       "    <tr>\n",
       "      <th>0</th>\n",
       "      <td>1</td>\n",
       "      <td>29.85</td>\n",
       "      <td>29.85</td>\n",
       "      <td>1</td>\n",
       "      <td>1</td>\n",
       "      <td>1</td>\n",
       "      <td>1</td>\n",
       "      <td>1</td>\n",
       "      <td>1</td>\n",
       "      <td>0</td>\n",
       "      <td>...</td>\n",
       "      <td>0</td>\n",
       "      <td>0</td>\n",
       "      <td>31</td>\n",
       "      <td>0</td>\n",
       "      <td>0</td>\n",
       "      <td>0</td>\n",
       "      <td>1</td>\n",
       "      <td>0</td>\n",
       "      <td>1</td>\n",
       "      <td>0</td>\n",
       "    </tr>\n",
       "    <tr>\n",
       "      <th>1</th>\n",
       "      <td>0</td>\n",
       "      <td>56.95</td>\n",
       "      <td>1889.50</td>\n",
       "      <td>1</td>\n",
       "      <td>1</td>\n",
       "      <td>1</td>\n",
       "      <td>1</td>\n",
       "      <td>1</td>\n",
       "      <td>1</td>\n",
       "      <td>0</td>\n",
       "      <td>...</td>\n",
       "      <td>1</td>\n",
       "      <td>0</td>\n",
       "      <td>1036</td>\n",
       "      <td>1</td>\n",
       "      <td>0</td>\n",
       "      <td>0</td>\n",
       "      <td>0</td>\n",
       "      <td>1</td>\n",
       "      <td>1</td>\n",
       "      <td>0</td>\n",
       "    </tr>\n",
       "    <tr>\n",
       "      <th>2</th>\n",
       "      <td>1</td>\n",
       "      <td>53.85</td>\n",
       "      <td>108.15</td>\n",
       "      <td>1</td>\n",
       "      <td>1</td>\n",
       "      <td>1</td>\n",
       "      <td>1</td>\n",
       "      <td>1</td>\n",
       "      <td>1</td>\n",
       "      <td>0</td>\n",
       "      <td>...</td>\n",
       "      <td>1</td>\n",
       "      <td>1</td>\n",
       "      <td>61</td>\n",
       "      <td>0</td>\n",
       "      <td>0</td>\n",
       "      <td>0</td>\n",
       "      <td>0</td>\n",
       "      <td>1</td>\n",
       "      <td>1</td>\n",
       "      <td>0</td>\n",
       "    </tr>\n",
       "  </tbody>\n",
       "</table>\n",
       "<p>3 rows × 23 columns</p>\n",
       "</div>"
      ],
      "text/plain": [
       "   paperless_billing  monthly_charges  total_charges  online_security  \\\n",
       "0                  1            29.85          29.85                1   \n",
       "1                  0            56.95        1889.50                1   \n",
       "2                  1            53.85         108.15                1   \n",
       "\n",
       "   online_backup  device_protection  tech_support  streaming_tv  \\\n",
       "0              1                  1             1             1   \n",
       "1              1                  1             1             1   \n",
       "2              1                  1             1             1   \n",
       "\n",
       "   streaming_movies  gender  ...  multiple_lines  target  lifetime  \\\n",
       "0                 1       0  ...               0       0        31   \n",
       "1                 1       0  ...               1       0      1036   \n",
       "2                 1       0  ...               1       1        61   \n",
       "\n",
       "   type_One year  type_Two year  payment_method_Credit card (automatic)  \\\n",
       "0              0              0                                       0   \n",
       "1              1              0                                       0   \n",
       "2              0              0                                       0   \n",
       "\n",
       "   payment_method_Electronic check  payment_method_Mailed check  \\\n",
       "0                                1                            0   \n",
       "1                                0                            1   \n",
       "2                                0                            1   \n",
       "\n",
       "   internet_service_DSL  internet_service_Fiber optic  \n",
       "0                     1                             0  \n",
       "1                     1                             0  \n",
       "2                     1                             0  \n",
       "\n",
       "[3 rows x 23 columns]"
      ]
     },
     "execution_count": 93,
     "metadata": {},
     "output_type": "execute_result"
    }
   ],
   "source": [
    "telecom.head(3)"
   ]
  },
  {
   "cell_type": "markdown",
   "metadata": {},
   "source": [
    "### Кластеризация"
   ]
  },
  {
   "cell_type": "markdown",
   "metadata": {},
   "source": [
    "Проведем кластеризацию объектов, разделив клиентов на группы."
   ]
  },
  {
   "cell_type": "code",
   "execution_count": 94,
   "metadata": {},
   "outputs": [],
   "source": [
    "distortion = []\n",
    "K = range(1, 8)\n",
    "for k in K:\n",
    "    cluster_model = KMeans(n_clusters=k, random_state=7)\n",
    "    cluster_model.fit(telecom)\n",
    "    distortion.append(cluster_model.inertia_)"
   ]
  },
  {
   "cell_type": "code",
   "execution_count": 95,
   "metadata": {},
   "outputs": [
    {
     "data": {
      "image/png": "[encoded data removed]",
      "text/plain": [
       "<Figure size 864x576 with 1 Axes>"
      ]
     },
     "metadata": {},
     "output_type": "display_data"
    }
   ],
   "source": [
    "plt.figure(figsize=(12, 8))\n",
    "plt.plot(K, distortion, 'bx-')\n",
    "plt.xlabel('Количество кластеров')\n",
    "plt.ylabel('Значение целевой функции')\n",
    "plt.show()"
   ]
  },
  {
   "cell_type": "markdown",
   "metadata": {},
   "source": [
    "После 3 кластера значение целевой функции уже не так сильно изменяется, поэтому возьмем 3 кластера."
   ]
  },
  {
   "cell_type": "code",
   "execution_count": 96,
   "metadata": {},
   "outputs": [
    {
     "data": {
      "text/plain": [
       "KMeans(n_clusters=3, random_state=7)"
      ]
     },
     "execution_count": 96,
     "metadata": {},
     "output_type": "execute_result"
    }
   ],
   "source": [
    "three_clusters_model = KMeans(n_clusters=3, random_state=7)\n",
    "three_clusters_model.fit(telecom)"
   ]
  },
  {
   "cell_type": "code",
   "execution_count": 97,
   "metadata": {},
   "outputs": [],
   "source": [
    "centroids = pd.DataFrame(three_clusters_model.cluster_centers_, columns=telecom.columns)\n",
    "telecom['label'] = three_clusters_model.labels_.astype(str)\n",
    "centroids['label'] = ['0 centroid', '1 centoroid', '2 centroid']"
   ]
  },
  {
   "cell_type": "code",
   "execution_count": 98,
   "metadata": {},
   "outputs": [
    {
     "data": {
      "text/html": [
       "<div>\n",
       "<style scoped>\n",
       "    .dataframe tbody tr th:only-of-type {\n",
       "        vertical-align: middle;\n",
       "    }\n",
       "\n",
       "    .dataframe tbody tr th {\n",
       "        vertical-align: top;\n",
       "    }\n",
       "\n",
       "    .dataframe thead th {\n",
       "        text-align: right;\n",
       "    }\n",
       "</style>\n",
       "<table border=\"1\" class=\"dataframe\">\n",
       "  <thead>\n",
       "    <tr style=\"text-align: right;\">\n",
       "      <th></th>\n",
       "      <th>paperless_billing</th>\n",
       "      <th>monthly_charges</th>\n",
       "      <th>total_charges</th>\n",
       "      <th>online_security</th>\n",
       "      <th>online_backup</th>\n",
       "      <th>device_protection</th>\n",
       "      <th>tech_support</th>\n",
       "      <th>streaming_tv</th>\n",
       "      <th>streaming_movies</th>\n",
       "      <th>gender</th>\n",
       "      <th>...</th>\n",
       "      <th>target</th>\n",
       "      <th>lifetime</th>\n",
       "      <th>type_One year</th>\n",
       "      <th>type_Two year</th>\n",
       "      <th>payment_method_Credit card (automatic)</th>\n",
       "      <th>payment_method_Electronic check</th>\n",
       "      <th>payment_method_Mailed check</th>\n",
       "      <th>internet_service_DSL</th>\n",
       "      <th>internet_service_Fiber optic</th>\n",
       "      <th>label</th>\n",
       "    </tr>\n",
       "  </thead>\n",
       "  <tbody>\n",
       "    <tr>\n",
       "      <th>0</th>\n",
       "      <td>1</td>\n",
       "      <td>29.85</td>\n",
       "      <td>29.85</td>\n",
       "      <td>1</td>\n",
       "      <td>1</td>\n",
       "      <td>1</td>\n",
       "      <td>1</td>\n",
       "      <td>1</td>\n",
       "      <td>1</td>\n",
       "      <td>0</td>\n",
       "      <td>...</td>\n",
       "      <td>0</td>\n",
       "      <td>31</td>\n",
       "      <td>0</td>\n",
       "      <td>0</td>\n",
       "      <td>0</td>\n",
       "      <td>1</td>\n",
       "      <td>0</td>\n",
       "      <td>1</td>\n",
       "      <td>0</td>\n",
       "      <td>1</td>\n",
       "    </tr>\n",
       "    <tr>\n",
       "      <th>1</th>\n",
       "      <td>0</td>\n",
       "      <td>56.95</td>\n",
       "      <td>1889.50</td>\n",
       "      <td>1</td>\n",
       "      <td>1</td>\n",
       "      <td>1</td>\n",
       "      <td>1</td>\n",
       "      <td>1</td>\n",
       "      <td>1</td>\n",
       "      <td>0</td>\n",
       "      <td>...</td>\n",
       "      <td>0</td>\n",
       "      <td>1036</td>\n",
       "      <td>1</td>\n",
       "      <td>0</td>\n",
       "      <td>0</td>\n",
       "      <td>0</td>\n",
       "      <td>1</td>\n",
       "      <td>1</td>\n",
       "      <td>0</td>\n",
       "      <td>0</td>\n",
       "    </tr>\n",
       "    <tr>\n",
       "      <th>2</th>\n",
       "      <td>1</td>\n",
       "      <td>53.85</td>\n",
       "      <td>108.15</td>\n",
       "      <td>1</td>\n",
       "      <td>1</td>\n",
       "      <td>1</td>\n",
       "      <td>1</td>\n",
       "      <td>1</td>\n",
       "      <td>1</td>\n",
       "      <td>0</td>\n",
       "      <td>...</td>\n",
       "      <td>1</td>\n",
       "      <td>61</td>\n",
       "      <td>0</td>\n",
       "      <td>0</td>\n",
       "      <td>0</td>\n",
       "      <td>0</td>\n",
       "      <td>1</td>\n",
       "      <td>1</td>\n",
       "      <td>0</td>\n",
       "      <td>1</td>\n",
       "    </tr>\n",
       "    <tr>\n",
       "      <th>3</th>\n",
       "      <td>0</td>\n",
       "      <td>42.30</td>\n",
       "      <td>1840.75</td>\n",
       "      <td>1</td>\n",
       "      <td>1</td>\n",
       "      <td>1</td>\n",
       "      <td>1</td>\n",
       "      <td>1</td>\n",
       "      <td>1</td>\n",
       "      <td>0</td>\n",
       "      <td>...</td>\n",
       "      <td>0</td>\n",
       "      <td>1371</td>\n",
       "      <td>1</td>\n",
       "      <td>0</td>\n",
       "      <td>0</td>\n",
       "      <td>0</td>\n",
       "      <td>0</td>\n",
       "      <td>1</td>\n",
       "      <td>0</td>\n",
       "      <td>0</td>\n",
       "    </tr>\n",
       "    <tr>\n",
       "      <th>4</th>\n",
       "      <td>1</td>\n",
       "      <td>70.70</td>\n",
       "      <td>151.65</td>\n",
       "      <td>1</td>\n",
       "      <td>1</td>\n",
       "      <td>1</td>\n",
       "      <td>1</td>\n",
       "      <td>1</td>\n",
       "      <td>1</td>\n",
       "      <td>0</td>\n",
       "      <td>...</td>\n",
       "      <td>1</td>\n",
       "      <td>61</td>\n",
       "      <td>0</td>\n",
       "      <td>0</td>\n",
       "      <td>0</td>\n",
       "      <td>1</td>\n",
       "      <td>0</td>\n",
       "      <td>0</td>\n",
       "      <td>1</td>\n",
       "      <td>1</td>\n",
       "    </tr>\n",
       "  </tbody>\n",
       "</table>\n",
       "<p>5 rows × 24 columns</p>\n",
       "</div>"
      ],
      "text/plain": [
       "   paperless_billing  monthly_charges  total_charges  online_security  \\\n",
       "0                  1            29.85          29.85                1   \n",
       "1                  0            56.95        1889.50                1   \n",
       "2                  1            53.85         108.15                1   \n",
       "3                  0            42.30        1840.75                1   \n",
       "4                  1            70.70         151.65                1   \n",
       "\n",
       "   online_backup  device_protection  tech_support  streaming_tv  \\\n",
       "0              1                  1             1             1   \n",
       "1              1                  1             1             1   \n",
       "2              1                  1             1             1   \n",
       "3              1                  1             1             1   \n",
       "4              1                  1             1             1   \n",
       "\n",
       "   streaming_movies  gender  ...  target  lifetime  type_One year  \\\n",
       "0                 1       0  ...       0        31              0   \n",
       "1                 1       0  ...       0      1036              1   \n",
       "2                 1       0  ...       1        61              0   \n",
       "3                 1       0  ...       0      1371              1   \n",
       "4                 1       0  ...       1        61              0   \n",
       "\n",
       "   type_Two year  payment_method_Credit card (automatic)  \\\n",
       "0              0                                       0   \n",
       "1              0                                       0   \n",
       "2              0                                       0   \n",
       "3              0                                       0   \n",
       "4              0                                       0   \n",
       "\n",
       "   payment_method_Electronic check  payment_method_Mailed check  \\\n",
       "0                                1                            0   \n",
       "1                                0                            1   \n",
       "2                                0                            1   \n",
       "3                                0                            0   \n",
       "4                                1                            0   \n",
       "\n",
       "   internet_service_DSL  internet_service_Fiber optic  label  \n",
       "0                     1                             0      1  \n",
       "1                     1                             0      0  \n",
       "2                     1                             0      1  \n",
       "3                     1                             0      0  \n",
       "4                     0                             1      1  \n",
       "\n",
       "[5 rows x 24 columns]"
      ]
     },
     "execution_count": 98,
     "metadata": {},
     "output_type": "execute_result"
    }
   ],
   "source": [
    "telecom.head(5)"
   ]
  },
  {
   "cell_type": "markdown",
   "metadata": {},
   "source": [
    "### Разбиение выборки"
   ]
  },
  {
   "cell_type": "markdown",
   "metadata": {},
   "source": [
    "Разобьем выборку на две части: тренировочную и тестовую. Валидационная выборка будет выделяться при использовании метода кросс-валидации во время обучения."
   ]
  },
  {
   "cell_type": "code",
   "execution_count": 99,
   "metadata": {},
   "outputs": [],
   "source": [
    "y = telecom['target']\n",
    "X = telecom.drop(['target'], axis=1)"
   ]
  },
  {
   "cell_type": "code",
   "execution_count": 100,
   "metadata": {},
   "outputs": [],
   "source": [
    "X_train, X_test, y_train, y_test = train_test_split(X, y, test_size=0.2, random_state=7)"
   ]
  },
  {
   "cell_type": "markdown",
   "metadata": {},
   "source": [
    "### Масштабирование признаков"
   ]
  },
  {
   "cell_type": "markdown",
   "metadata": {},
   "source": [
    "Произведем масштабирование признаков с помощью метода стандартизации."
   ]
  },
  {
   "cell_type": "code",
   "execution_count": 101,
   "metadata": {},
   "outputs": [],
   "source": [
    "X_columns = X_train.columns.tolist()"
   ]
  },
  {
   "cell_type": "code",
   "execution_count": 102,
   "metadata": {},
   "outputs": [],
   "source": [
    "st_scaler = StandardScaler()\n",
    "st_scaler.fit(X_train[X_columns])\n",
    "X_train[X_columns] = st_scaler.transform(X_train[X_columns])\n",
    "X_test[X_columns] = st_scaler.transform(X_test[X_columns])"
   ]
  },
  {
   "cell_type": "markdown",
   "metadata": {},
   "source": [
    "## Баланс классов"
   ]
  },
  {
   "cell_type": "code",
   "execution_count": 103,
   "metadata": {},
   "outputs": [],
   "source": [
    "class_freq = y_train.value_counts(normalize=True)"
   ]
  },
  {
   "cell_type": "code",
   "execution_count": 104,
   "metadata": {},
   "outputs": [
    {
     "data": {
      "image/png": "[encoded data removed]",
      "text/plain": [
       "<Figure size 432x288 with 1 Axes>"
      ]
     },
     "metadata": {},
     "output_type": "display_data"
    }
   ],
   "source": [
    "fig, ax = plt.subplots()\n",
    "class_freq.plot(kind='bar', ax=ax)\n",
    "plt.show()"
   ]
  },
  {
   "cell_type": "markdown",
   "metadata": {},
   "source": [
    "Наблюдаем явный дисбаланс классов, где объектов класса 1 примерно в 3 раза меньше."
   ]
  },
  {
   "cell_type": "markdown",
   "metadata": {},
   "source": [
    "**Методы борьбы с дисбалансом классов:**\n",
    "- взвешивание классов;\n",
    "- увеличение выборки (upsampling);\n",
    "- уменьшение выборки (downsampling);\n",
    "- изменение порога вероятности."
   ]
  },
  {
   "cell_type": "markdown",
   "metadata": {},
   "source": [
    "Будем использовать данные подходы после того, как выберем лучшую модель без учета дисабаланса."
   ]
  },
  {
   "cell_type": "markdown",
   "metadata": {},
   "source": [
    "## Моделирование"
   ]
  },
  {
   "cell_type": "markdown",
   "metadata": {},
   "source": [
    "Рассмотрим следующие модели: kNN, Logisitic Regression, Random Forest."
   ]
  },
  {
   "cell_type": "markdown",
   "metadata": {},
   "source": [
    "При построении моделей будем использовать кросс-валидацию для получения более качественной и устойчивой модели."
   ]
  },
  {
   "cell_type": "code",
   "execution_count": 105,
   "metadata": {},
   "outputs": [],
   "source": [
    "cv = KFold(n_splits=10, shuffle=True, random_state=7)"
   ]
  },
  {
   "cell_type": "code",
   "execution_count": 106,
   "metadata": {},
   "outputs": [],
   "source": [
    "roc_auc_scorer = make_scorer(roc_auc_score, greater_is_better=True, needs_threshold=True)"
   ]
  },
  {
   "cell_type": "markdown",
   "metadata": {},
   "source": [
    "### kNN"
   ]
  },
  {
   "cell_type": "code",
   "execution_count": 107,
   "metadata": {},
   "outputs": [],
   "source": [
    "gs_knn = GridSearchCV(\n",
    "    KNeighborsClassifier(),\n",
    "    param_grid={\n",
    "        'n_neighbors': range(1, 20, 1),\n",
    "        'weights': ['distance'],\n",
    "        'p': range(1, 4, 1)\n",
    "    },\n",
    "    cv=cv,\n",
    "    scoring='roc_auc'\n",
    ")"
   ]
  },
  {
   "cell_type": "code",
   "execution_count": 108,
   "metadata": {},
   "outputs": [
    {
     "data": {
      "text/plain": [
       "GridSearchCV(cv=KFold(n_splits=10, random_state=7, shuffle=True),\n",
       "             estimator=KNeighborsClassifier(),\n",
       "             param_grid={'n_neighbors': range(1, 20), 'p': range(1, 4),\n",
       "                         'weights': ['distance']},\n",
       "             scoring='roc_auc')"
      ]
     },
     "execution_count": 108,
     "metadata": {},
     "output_type": "execute_result"
    }
   ],
   "source": [
    "gs_knn.fit(X_train, y_train)"
   ]
  },
  {
   "cell_type": "code",
   "execution_count": 109,
   "metadata": {},
   "outputs": [
    {
     "data": {
      "text/plain": [
       "{'n_neighbors': 19, 'p': 1, 'weights': 'distance'}"
      ]
     },
     "execution_count": 109,
     "metadata": {},
     "output_type": "execute_result"
    }
   ],
   "source": [
    "gs_knn.best_params_"
   ]
  },
  {
   "cell_type": "code",
   "execution_count": 110,
   "metadata": {},
   "outputs": [],
   "source": [
    "scores_knn = cross_val_score(KNeighborsClassifier(n_neighbors=19, p=1, weights='distance'), X_train, y_train, cv=cv, scoring='roc_auc')"
   ]
  },
  {
   "cell_type": "code",
   "execution_count": 111,
   "metadata": {},
   "outputs": [
    {
     "name": "stdout",
     "output_type": "stream",
     "text": [
      "Средняя оценка метрики качества ROC-AUC на модели kNN: 0.814\n",
      "Среднеквадратичное отклонение: 0.014637755611320821\n"
     ]
    }
   ],
   "source": [
    "print(f'Средняя оценка метрики качества ROC-AUC на модели kNN: {round(scores_knn.mean(), 3)}')\n",
    "print(f'Среднеквадратичное отклонение: {np.std(scores_knn)}')"
   ]
  },
  {
   "cell_type": "markdown",
   "metadata": {},
   "source": [
    "### Logistic Regression"
   ]
  },
  {
   "cell_type": "code",
   "execution_count": 112,
   "metadata": {},
   "outputs": [],
   "source": [
    "gs_lr = GridSearchCV(\n",
    "    LogisticRegression(),\n",
    "    param_grid={\n",
    "        'penalty': ['l1', 'l2'],\n",
    "        'C': range(1, 5, 1)\n",
    "    },\n",
    "    cv=cv,\n",
    "    scoring='roc_auc'\n",
    ")"
   ]
  },
  {
   "cell_type": "code",
   "execution_count": 113,
   "metadata": {},
   "outputs": [
    {
     "data": {
      "text/plain": [
       "GridSearchCV(cv=KFold(n_splits=10, random_state=7, shuffle=True),\n",
       "             estimator=LogisticRegression(),\n",
       "             param_grid={'C': range(1, 5), 'penalty': ['l1', 'l2']},\n",
       "             scoring='roc_auc')"
      ]
     },
     "execution_count": 113,
     "metadata": {},
     "output_type": "execute_result"
    }
   ],
   "source": [
    "gs_lr.fit(X_train, y_train)"
   ]
  },
  {
   "cell_type": "code",
   "execution_count": 114,
   "metadata": {},
   "outputs": [
    {
     "data": {
      "text/plain": [
       "{'C': 2, 'penalty': 'l2'}"
      ]
     },
     "execution_count": 114,
     "metadata": {},
     "output_type": "execute_result"
    }
   ],
   "source": [
    "gs_lr.best_params_"
   ]
  },
  {
   "cell_type": "code",
   "execution_count": 115,
   "metadata": {},
   "outputs": [],
   "source": [
    "scores_lr = cross_val_score(LogisticRegression(C=2, penalty='l2'), X_train, y_train, cv=cv, scoring='roc_auc')"
   ]
  },
  {
   "cell_type": "code",
   "execution_count": 116,
   "metadata": {},
   "outputs": [
    {
     "name": "stdout",
     "output_type": "stream",
     "text": [
      "Средняя оценка метрики качества ROC-AUC на модели Logistic Regression: 0.84\n",
      "Среднеквадратичное отклонение: 0.01523239803366415\n"
     ]
    }
   ],
   "source": [
    "print(f'Средняя оценка метрики качества ROC-AUC на модели Logistic Regression: {round(scores_lr.mean(), 3)}')\n",
    "print(f'Среднеквадратичное отклонение: {np.std(scores_lr)}')"
   ]
  },
  {
   "cell_type": "markdown",
   "metadata": {},
   "source": [
    "### Random Forest"
   ]
  },
  {
   "cell_type": "code",
   "execution_count": 117,
   "metadata": {},
   "outputs": [],
   "source": [
    "gs_forest = GridSearchCV(\n",
    "    RandomForestClassifier(),\n",
    "    param_grid={\n",
    "        'n_estimators': range(1, 100, 5),\n",
    "        'max_depth': [1, 2, 3, 4, 5, 6, 7, 8, 9, None],\n",
    "    },\n",
    "    cv=cv,\n",
    "    scoring='roc_auc'\n",
    ")"
   ]
  },
  {
   "cell_type": "code",
   "execution_count": 118,
   "metadata": {},
   "outputs": [
    {
     "data": {
      "text/plain": [
       "GridSearchCV(cv=KFold(n_splits=10, random_state=7, shuffle=True),\n",
       "             estimator=RandomForestClassifier(),\n",
       "             param_grid={'max_depth': [1, 2, 3, 4, 5, 6, 7, 8, 9, None],\n",
       "                         'n_estimators': range(1, 100, 5)},\n",
       "             scoring='roc_auc')"
      ]
     },
     "execution_count": 118,
     "metadata": {},
     "output_type": "execute_result"
    }
   ],
   "source": [
    "gs_forest.fit(X_train, y_train)"
   ]
  },
  {
   "cell_type": "code",
   "execution_count": 119,
   "metadata": {},
   "outputs": [
    {
     "data": {
      "text/plain": [
       "{'max_depth': 9, 'n_estimators': 61}"
      ]
     },
     "execution_count": 119,
     "metadata": {},
     "output_type": "execute_result"
    }
   ],
   "source": [
    "gs_forest.best_params_"
   ]
  },
  {
   "cell_type": "code",
   "execution_count": 120,
   "metadata": {},
   "outputs": [],
   "source": [
    "scores_forest = cross_val_score(RandomForestClassifier(n_estimators=96, max_depth=9), X_train, y_train, cv=cv, scoring='roc_auc')"
   ]
  },
  {
   "cell_type": "code",
   "execution_count": 154,
   "metadata": {},
   "outputs": [
    {
     "name": "stdout",
     "output_type": "stream",
     "text": [
      "Средняя оценка метрики качества ROC-AUC на модели Random Forest: 0.857\n",
      "Среднеквадратичное отклонение: 0.012174116422030628\n"
     ]
    }
   ],
   "source": [
    "print(f'Средняя оценка метрики качества ROC-AUC на модели Random Forest: {round(scores_forest.mean(), 3)}')\n",
    "print(f'Среднеквадратичное отклонение: {np.std(scores_forest)}')"
   ]
  },
  {
   "cell_type": "markdown",
   "metadata": {},
   "source": [
    "### Cat Boost"
   ]
  },
  {
   "cell_type": "code",
   "execution_count": 122,
   "metadata": {},
   "outputs": [],
   "source": [
    "X_train_2, X_valid, y_train_2, y_valid = train_test_split(X_train, y_train, test_size=0.25, random_state=7)"
   ]
  },
  {
   "cell_type": "code",
   "execution_count": 123,
   "metadata": {},
   "outputs": [],
   "source": [
    "estimators = list(range(50, 1500, 150))\n",
    "depths = list(range(3, 10, 1))\n",
    "learning_rates = [0.01, 0.05, 0.1, 0.2]"
   ]
  },
  {
   "cell_type": "code",
   "execution_count": 124,
   "metadata": {},
   "outputs": [
    {
     "name": "stdout",
     "output_type": "stream",
     "text": [
      "Learning rate set to 0.297098\n",
      "0:\tlearn: 0.5448758\ttotal: 76.5ms\tremaining: 3.75s\n",
      "49:\tlearn: 0.2874725\ttotal: 596ms\tremaining: 0us\n",
      "Learning rate set to 0.083332\n",
      "0:\tlearn: 0.6425305\ttotal: 9.79ms\tremaining: 1.95s\n",
      "100:\tlearn: 0.3385831\ttotal: 1.09s\tremaining: 1.06s\n",
      "199:\tlearn: 0.2743683\ttotal: 2.13s\tremaining: 0us\n",
      "Learning rate set to 0.049882\n",
      "0:\tlearn: 0.6619648\ttotal: 10.5ms\tremaining: 3.65s\n",
      "100:\tlearn: 0.3614121\ttotal: 1.02s\tremaining: 2.51s\n",
      "200:\tlearn: 0.3231974\ttotal: 2.14s\tremaining: 1.59s\n",
      "300:\tlearn: 0.2868245\ttotal: 2.99s\tremaining: 487ms\n",
      "349:\tlearn: 0.2723760\ttotal: 3.42s\tremaining: 0us\n",
      "Learning rate set to 0.035967\n",
      "0:\tlearn: 0.6703974\ttotal: 7.52ms\tremaining: 3.75s\n",
      "100:\tlearn: 0.3721766\ttotal: 818ms\tremaining: 3.23s\n",
      "200:\tlearn: 0.3433539\ttotal: 1.7s\tremaining: 2.53s\n",
      "300:\tlearn: 0.3151449\ttotal: 2.65s\tremaining: 1.75s\n",
      "400:\tlearn: 0.2900731\ttotal: 3.59s\tremaining: 887ms\n",
      "499:\tlearn: 0.2697676\ttotal: 4.66s\tremaining: 0us\n",
      "Learning rate set to 0.028276\n",
      "0:\tlearn: 0.6751464\ttotal: 7.26ms\tremaining: 4.71s\n",
      "100:\tlearn: 0.3817305\ttotal: 1.01s\tremaining: 5.51s\n",
      "200:\tlearn: 0.3579592\ttotal: 1.97s\tremaining: 4.39s\n",
      "300:\tlearn: 0.3352461\ttotal: 2.79s\tremaining: 3.24s\n",
      "400:\tlearn: 0.3117824\ttotal: 3.62s\tremaining: 2.24s\n",
      "500:\tlearn: 0.2914506\ttotal: 4.46s\tremaining: 1.33s\n",
      "600:\tlearn: 0.2758247\ttotal: 5.35s\tremaining: 436ms\n",
      "649:\tlearn: 0.2684199\ttotal: 5.8s\tremaining: 0us\n",
      "Learning rate set to 0.023373\n",
      "0:\tlearn: 0.6782067\ttotal: 8.02ms\tremaining: 6.41s\n",
      "100:\tlearn: 0.3889009\ttotal: 863ms\tremaining: 5.97s\n",
      "200:\tlearn: 0.3627188\ttotal: 1.71s\tremaining: 5.1s\n",
      "300:\tlearn: 0.3458411\ttotal: 2.62s\tremaining: 4.35s\n",
      "400:\tlearn: 0.3279458\ttotal: 3.51s\tremaining: 3.49s\n",
      "500:\tlearn: 0.3086598\ttotal: 4.42s\tremaining: 2.64s\n",
      "600:\tlearn: 0.2933359\ttotal: 5.45s\tremaining: 1.8s\n",
      "700:\tlearn: 0.2797518\ttotal: 6.37s\tremaining: 900ms\n",
      "799:\tlearn: 0.2681870\ttotal: 7.28s\tremaining: 0us\n",
      "Learning rate set to 0.019966\n",
      "0:\tlearn: 0.6803483\ttotal: 15.4ms\tremaining: 14.6s\n",
      "100:\tlearn: 0.3960847\ttotal: 966ms\tremaining: 8.12s\n",
      "200:\tlearn: 0.3696961\ttotal: 2.04s\tremaining: 7.59s\n",
      "300:\tlearn: 0.3532831\ttotal: 2.85s\tremaining: 6.16s\n",
      "400:\tlearn: 0.3390820\ttotal: 3.76s\tremaining: 5.15s\n",
      "500:\tlearn: 0.3217168\ttotal: 4.59s\tremaining: 4.11s\n",
      "600:\tlearn: 0.3059900\ttotal: 5.46s\tremaining: 3.17s\n",
      "700:\tlearn: 0.2923686\ttotal: 6.28s\tremaining: 2.23s\n",
      "800:\tlearn: 0.2807518\ttotal: 7.15s\tremaining: 1.33s\n",
      "900:\tlearn: 0.2700660\ttotal: 8.05s\tremaining: 438ms\n",
      "949:\tlearn: 0.2652331\ttotal: 8.45s\tremaining: 0us\n",
      "Learning rate set to 0.017454\n",
      "0:\tlearn: 0.6819353\ttotal: 7.63ms\tremaining: 8.39s\n",
      "100:\tlearn: 0.4033664\ttotal: 897ms\tremaining: 8.87s\n",
      "200:\tlearn: 0.3747911\ttotal: 1.77s\tremaining: 7.94s\n",
      "300:\tlearn: 0.3605342\ttotal: 2.61s\tremaining: 6.94s\n",
      "400:\tlearn: 0.3487095\ttotal: 3.42s\tremaining: 5.95s\n",
      "500:\tlearn: 0.3348861\ttotal: 4.33s\tremaining: 5.17s\n",
      "600:\tlearn: 0.3193215\ttotal: 5.28s\tremaining: 4.39s\n",
      "700:\tlearn: 0.3075925\ttotal: 6.25s\tremaining: 3.56s\n",
      "800:\tlearn: 0.2942622\ttotal: 7.2s\tremaining: 2.69s\n",
      "900:\tlearn: 0.2835423\ttotal: 8.15s\tremaining: 1.8s\n",
      "1000:\tlearn: 0.2748091\ttotal: 9.05s\tremaining: 895ms\n",
      "1099:\tlearn: 0.2657299\ttotal: 9.93s\tremaining: 0us\n",
      "Learning rate set to 0.015523\n",
      "0:\tlearn: 0.6831597\ttotal: 7.55ms\tremaining: 9.44s\n",
      "100:\tlearn: 0.4089902\ttotal: 928ms\tremaining: 10.6s\n",
      "200:\tlearn: 0.3783724\ttotal: 1.93s\tremaining: 10.1s\n",
      "300:\tlearn: 0.3633826\ttotal: 2.81s\tremaining: 8.85s\n",
      "400:\tlearn: 0.3522972\ttotal: 3.72s\tremaining: 7.87s\n",
      "500:\tlearn: 0.3411159\ttotal: 4.75s\tremaining: 7.11s\n",
      "600:\tlearn: 0.3290285\ttotal: 5.65s\tremaining: 6.1s\n",
      "700:\tlearn: 0.3160807\ttotal: 6.55s\tremaining: 5.13s\n",
      "800:\tlearn: 0.3047706\ttotal: 7.46s\tremaining: 4.18s\n",
      "900:\tlearn: 0.2936634\ttotal: 8.36s\tremaining: 3.24s\n",
      "1000:\tlearn: 0.2846234\ttotal: 9.23s\tremaining: 2.29s\n",
      "1100:\tlearn: 0.2761461\ttotal: 10.1s\tremaining: 1.37s\n",
      "1200:\tlearn: 0.2681950\ttotal: 11s\tremaining: 449ms\n",
      "1249:\tlearn: 0.2653299\ttotal: 11.5s\tremaining: 0us\n",
      "Learning rate set to 0.013991\n",
      "0:\tlearn: 0.6841340\ttotal: 7.29ms\tremaining: 10.2s\n",
      "100:\tlearn: 0.4134991\ttotal: 890ms\tremaining: 11.4s\n",
      "200:\tlearn: 0.3821780\ttotal: 1.82s\tremaining: 10.9s\n",
      "300:\tlearn: 0.3672331\ttotal: 2.65s\tremaining: 9.68s\n",
      "400:\tlearn: 0.3564030\ttotal: 3.46s\tremaining: 8.62s\n",
      "500:\tlearn: 0.3454978\ttotal: 4.25s\tremaining: 7.64s\n",
      "600:\tlearn: 0.3353875\ttotal: 5.08s\tremaining: 6.76s\n",
      "700:\tlearn: 0.3252545\ttotal: 5.89s\tremaining: 5.87s\n",
      "800:\tlearn: 0.3143048\ttotal: 6.71s\tremaining: 5.01s\n",
      "900:\tlearn: 0.3040687\ttotal: 7.5s\tremaining: 4.16s\n",
      "1000:\tlearn: 0.2948553\ttotal: 8.3s\tremaining: 3.31s\n",
      "1100:\tlearn: 0.2864659\ttotal: 9.1s\tremaining: 2.47s\n",
      "1200:\tlearn: 0.2787972\ttotal: 9.89s\tremaining: 1.64s\n",
      "1300:\tlearn: 0.2711432\ttotal: 10.7s\tremaining: 813ms\n",
      "1399:\tlearn: 0.2647108\ttotal: 11.5s\tremaining: 0us\n",
      "Learning rate set to 0.019048\n",
      "0:\tlearn: 0.6830409\ttotal: 4.71ms\tremaining: 4.71s\n",
      "100:\tlearn: 0.4169368\ttotal: 469ms\tremaining: 4.17s\n",
      "200:\tlearn: 0.3915668\ttotal: 982ms\tremaining: 3.9s\n",
      "300:\tlearn: 0.3802739\ttotal: 1.49s\tremaining: 3.46s\n",
      "400:\tlearn: 0.3718927\ttotal: 1.98s\tremaining: 2.96s\n",
      "500:\tlearn: 0.3624161\ttotal: 2.46s\tremaining: 2.45s\n",
      "600:\tlearn: 0.3524226\ttotal: 2.94s\tremaining: 1.95s\n",
      "700:\tlearn: 0.3439323\ttotal: 3.46s\tremaining: 1.47s\n",
      "800:\tlearn: 0.3382642\ttotal: 4.07s\tremaining: 1.01s\n",
      "900:\tlearn: 0.3313645\ttotal: 4.58s\tremaining: 503ms\n",
      "999:\tlearn: 0.3263894\ttotal: 5.13s\tremaining: 0us\n",
      "Learning rate set to 0.019048\n",
      "0:\tlearn: 0.6823650\ttotal: 5.36ms\tremaining: 5.36s\n",
      "100:\tlearn: 0.4112233\ttotal: 626ms\tremaining: 5.57s\n",
      "200:\tlearn: 0.3854407\ttotal: 1.29s\tremaining: 5.12s\n",
      "300:\tlearn: 0.3734828\ttotal: 2.02s\tremaining: 4.7s\n",
      "400:\tlearn: 0.3646671\ttotal: 2.73s\tremaining: 4.08s\n",
      "500:\tlearn: 0.3538028\ttotal: 3.43s\tremaining: 3.42s\n",
      "600:\tlearn: 0.3427419\ttotal: 4.11s\tremaining: 2.73s\n",
      "700:\tlearn: 0.3314506\ttotal: 4.77s\tremaining: 2.03s\n",
      "800:\tlearn: 0.3214914\ttotal: 5.45s\tremaining: 1.35s\n",
      "900:\tlearn: 0.3128384\ttotal: 6.1s\tremaining: 670ms\n",
      "999:\tlearn: 0.3043458\ttotal: 6.68s\tremaining: 0us\n",
      "Learning rate set to 0.019048\n",
      "0:\tlearn: 0.6820611\ttotal: 6.51ms\tremaining: 6.5s\n",
      "100:\tlearn: 0.4037549\ttotal: 720ms\tremaining: 6.41s\n",
      "200:\tlearn: 0.3783771\ttotal: 1.48s\tremaining: 5.88s\n",
      "300:\tlearn: 0.3643845\ttotal: 2.2s\tremaining: 5.12s\n",
      "400:\tlearn: 0.3535269\ttotal: 2.93s\tremaining: 4.38s\n",
      "500:\tlearn: 0.3387574\ttotal: 3.66s\tremaining: 3.65s\n",
      "600:\tlearn: 0.3261398\ttotal: 4.38s\tremaining: 2.91s\n",
      "700:\tlearn: 0.3140512\ttotal: 5.11s\tremaining: 2.18s\n",
      "800:\tlearn: 0.3031348\ttotal: 5.86s\tremaining: 1.45s\n",
      "900:\tlearn: 0.2938311\ttotal: 6.58s\tremaining: 723ms\n",
      "999:\tlearn: 0.2842080\ttotal: 7.28s\tremaining: 0us\n",
      "Learning rate set to 0.019048\n",
      "0:\tlearn: 0.6809275\ttotal: 7.22ms\tremaining: 7.21s\n",
      "100:\tlearn: 0.3985281\ttotal: 945ms\tremaining: 8.41s\n",
      "200:\tlearn: 0.3701680\ttotal: 1.95s\tremaining: 7.76s\n",
      "300:\tlearn: 0.3553003\ttotal: 2.88s\tremaining: 6.69s\n",
      "400:\tlearn: 0.3417257\ttotal: 3.77s\tremaining: 5.64s\n",
      "500:\tlearn: 0.3270191\ttotal: 4.63s\tremaining: 4.61s\n",
      "600:\tlearn: 0.3116436\ttotal: 5.54s\tremaining: 3.67s\n",
      "700:\tlearn: 0.2977345\ttotal: 6.33s\tremaining: 2.7s\n",
      "800:\tlearn: 0.2863454\ttotal: 7.14s\tremaining: 1.77s\n",
      "900:\tlearn: 0.2747616\ttotal: 7.94s\tremaining: 872ms\n",
      "999:\tlearn: 0.2655103\ttotal: 8.76s\tremaining: 0us\n",
      "Learning rate set to 0.019048\n",
      "0:\tlearn: 0.6806238\ttotal: 9.95ms\tremaining: 9.94s\n",
      "100:\tlearn: 0.3936006\ttotal: 1.09s\tremaining: 9.69s\n",
      "200:\tlearn: 0.3661637\ttotal: 2.15s\tremaining: 8.53s\n",
      "300:\tlearn: 0.3483681\ttotal: 3.18s\tremaining: 7.39s\n",
      "400:\tlearn: 0.3334796\ttotal: 4.21s\tremaining: 6.29s\n",
      "500:\tlearn: 0.3150147\ttotal: 5.26s\tremaining: 5.24s\n",
      "600:\tlearn: 0.2971576\ttotal: 6.33s\tremaining: 4.21s\n",
      "700:\tlearn: 0.2829022\ttotal: 7.4s\tremaining: 3.15s\n",
      "800:\tlearn: 0.2697001\ttotal: 8.52s\tremaining: 2.12s\n",
      "900:\tlearn: 0.2582591\ttotal: 9.62s\tremaining: 1.06s\n",
      "999:\tlearn: 0.2477163\ttotal: 10.7s\tremaining: 0us\n",
      "Learning rate set to 0.019048\n",
      "0:\tlearn: 0.6805395\ttotal: 12.8ms\tremaining: 12.8s\n",
      "100:\tlearn: 0.3871225\ttotal: 1.62s\tremaining: 14.4s\n",
      "200:\tlearn: 0.3533351\ttotal: 3.19s\tremaining: 12.7s\n",
      "300:\tlearn: 0.3349609\ttotal: 4.71s\tremaining: 10.9s\n",
      "400:\tlearn: 0.3184879\ttotal: 6.24s\tremaining: 9.31s\n",
      "500:\tlearn: 0.2999179\ttotal: 7.85s\tremaining: 7.82s\n",
      "600:\tlearn: 0.2814640\ttotal: 9.5s\tremaining: 6.31s\n",
      "700:\tlearn: 0.2663031\ttotal: 11.1s\tremaining: 4.73s\n",
      "800:\tlearn: 0.2533631\ttotal: 12.7s\tremaining: 3.16s\n",
      "900:\tlearn: 0.2407544\ttotal: 14.3s\tremaining: 1.57s\n"
     ]
    },
    {
     "name": "stdout",
     "output_type": "stream",
     "text": [
      "999:\tlearn: 0.2293597\ttotal: 15.9s\tremaining: 0us\n",
      "Learning rate set to 0.019048\n",
      "0:\tlearn: 0.6798750\ttotal: 21.4ms\tremaining: 21.4s\n",
      "100:\tlearn: 0.3821812\ttotal: 2.35s\tremaining: 21s\n",
      "200:\tlearn: 0.3479646\ttotal: 4.54s\tremaining: 18.1s\n",
      "300:\tlearn: 0.3268274\ttotal: 6.85s\tremaining: 15.9s\n",
      "400:\tlearn: 0.3079083\ttotal: 9.13s\tremaining: 13.6s\n",
      "500:\tlearn: 0.2876525\ttotal: 11.5s\tremaining: 11.4s\n",
      "600:\tlearn: 0.2691086\ttotal: 13.9s\tremaining: 9.25s\n",
      "700:\tlearn: 0.2520997\ttotal: 16.6s\tremaining: 7.06s\n",
      "800:\tlearn: 0.2378271\ttotal: 19.3s\tremaining: 4.8s\n",
      "900:\tlearn: 0.2246795\ttotal: 21.9s\tremaining: 2.41s\n",
      "999:\tlearn: 0.2125519\ttotal: 24.4s\tremaining: 0us\n",
      "0:\tlearn: 0.6866838\ttotal: 9.46ms\tremaining: 9.45s\n",
      "100:\tlearn: 0.4375074\ttotal: 827ms\tremaining: 7.36s\n",
      "200:\tlearn: 0.3955950\ttotal: 1.7s\tremaining: 6.75s\n",
      "300:\tlearn: 0.3786341\ttotal: 2.5s\tremaining: 5.8s\n",
      "400:\tlearn: 0.3677693\ttotal: 3.29s\tremaining: 4.91s\n",
      "500:\tlearn: 0.3602640\ttotal: 4.07s\tremaining: 4.06s\n",
      "600:\tlearn: 0.3532375\ttotal: 4.86s\tremaining: 3.23s\n",
      "700:\tlearn: 0.3462318\ttotal: 5.68s\tremaining: 2.42s\n",
      "800:\tlearn: 0.3379477\ttotal: 6.66s\tremaining: 1.65s\n",
      "900:\tlearn: 0.3307868\ttotal: 7.59s\tremaining: 834ms\n",
      "999:\tlearn: 0.3223324\ttotal: 8.47s\tremaining: 0us\n",
      "0:\tlearn: 0.6618941\ttotal: 7.71ms\tremaining: 7.7s\n",
      "100:\tlearn: 0.3622811\ttotal: 857ms\tremaining: 7.62s\n",
      "200:\tlearn: 0.3253212\ttotal: 1.83s\tremaining: 7.27s\n",
      "300:\tlearn: 0.2890003\ttotal: 2.65s\tremaining: 6.16s\n",
      "400:\tlearn: 0.2622393\ttotal: 3.55s\tremaining: 5.31s\n",
      "500:\tlearn: 0.2421062\ttotal: 4.36s\tremaining: 4.34s\n",
      "600:\tlearn: 0.2235207\ttotal: 5.16s\tremaining: 3.42s\n",
      "700:\tlearn: 0.2078125\ttotal: 5.98s\tremaining: 2.55s\n",
      "800:\tlearn: 0.1941405\ttotal: 6.78s\tremaining: 1.68s\n",
      "900:\tlearn: 0.1815493\ttotal: 7.66s\tremaining: 841ms\n",
      "999:\tlearn: 0.1719101\ttotal: 8.54s\tremaining: 0us\n",
      "0:\tlearn: 0.6332844\ttotal: 8.52ms\tremaining: 8.51s\n",
      "100:\tlearn: 0.3230750\ttotal: 801ms\tremaining: 7.13s\n",
      "200:\tlearn: 0.2586619\ttotal: 1.67s\tremaining: 6.62s\n",
      "300:\tlearn: 0.2198497\ttotal: 2.47s\tremaining: 5.74s\n",
      "400:\tlearn: 0.1926000\ttotal: 3.26s\tremaining: 4.87s\n",
      "500:\tlearn: 0.1692028\ttotal: 4.07s\tremaining: 4.05s\n",
      "600:\tlearn: 0.1510381\ttotal: 4.86s\tremaining: 3.23s\n",
      "700:\tlearn: 0.1366887\ttotal: 5.66s\tremaining: 2.41s\n",
      "800:\tlearn: 0.1239420\ttotal: 6.46s\tremaining: 1.6s\n",
      "900:\tlearn: 0.1132295\ttotal: 7.25s\tremaining: 797ms\n",
      "999:\tlearn: 0.1035569\ttotal: 8.03s\tremaining: 0us\n",
      "0:\tlearn: 0.5837619\ttotal: 7.71ms\tremaining: 7.71s\n",
      "100:\tlearn: 0.2543115\ttotal: 817ms\tremaining: 7.27s\n",
      "200:\tlearn: 0.1892393\ttotal: 1.69s\tremaining: 6.71s\n",
      "300:\tlearn: 0.1507240\ttotal: 2.5s\tremaining: 5.8s\n",
      "400:\tlearn: 0.1215569\ttotal: 3.3s\tremaining: 4.93s\n",
      "500:\tlearn: 0.1018123\ttotal: 4.12s\tremaining: 4.1s\n",
      "600:\tlearn: 0.0868555\ttotal: 4.92s\tremaining: 3.27s\n",
      "700:\tlearn: 0.0741361\ttotal: 5.75s\tremaining: 2.45s\n",
      "800:\tlearn: 0.0647557\ttotal: 6.58s\tremaining: 1.64s\n",
      "900:\tlearn: 0.0572958\ttotal: 7.39s\tremaining: 813ms\n",
      "999:\tlearn: 0.0514481\ttotal: 8.19s\tremaining: 0us\n"
     ]
    }
   ],
   "source": [
    "roc_auc_estimator = []\n",
    "roc_auc_depth = []\n",
    "roc_auc_learning_rate = []\n",
    "\n",
    "for estimator in estimators:\n",
    "    model = CatBoostClassifier(n_estimators=estimator, random_state=7)\n",
    "    model.fit(X_train_2, y_train_2, verbose=100)\n",
    "    y_pred_proba = model.predict_proba(X_valid)\n",
    "    y_pred_proba_one = y_pred_proba[:, 1]\n",
    "    roc_auc_estimator.append(np.sqrt(roc_auc_score(y_valid, y_pred_proba_one)))\n",
    "\n",
    "for depth in depths:\n",
    "    model = CatBoostClassifier(max_depth=depth, random_state=7)\n",
    "    model.fit(X_train_2, y_train_2, verbose=100)\n",
    "    y_pred_proba = model.predict_proba(X_valid)\n",
    "    roc_auc_depth.append(np.sqrt(roc_auc_score(y_valid, y_pred_proba_one)))\n",
    "\n",
    "for rate in learning_rates:\n",
    "    model = CatBoostClassifier(learning_rate=rate, random_state=7)\n",
    "    model.fit(X_train_2, y_train_2, verbose=100)\n",
    "    y_pred_proba = model.predict_proba(X_valid)\n",
    "    y_pred_proba_one = y_pred_proba[:, 1]\n",
    "    roc_auc_learning_rate.append(np.sqrt(roc_auc_score(y_valid, y_pred_proba_one)))"
   ]
  },
  {
   "cell_type": "code",
   "execution_count": 125,
   "metadata": {},
   "outputs": [
    {
     "data": {
      "image/png": "[encoded data removed]",
      "text/plain": [
       "<Figure size 1224x504 with 3 Axes>"
      ]
     },
     "metadata": {},
     "output_type": "display_data"
    }
   ],
   "source": [
    "fig, ax = plt.subplots(nrows=1, ncols=3, figsize=(17, 7))\n",
    "\n",
    "sns.lineplot(x=estimators, y=roc_auc_estimator, ax=ax[0])\n",
    "sns.lineplot(x=depths, y=roc_auc_depth, ax=ax[1])\n",
    "sns.lineplot(x=learning_rates, y=roc_auc_learning_rate, ax=ax[2])\n",
    "\n",
    "ax[2].set_xlabel('Learning rates')        \n",
    "ax[1].set_xlabel('Depths')\n",
    "ax[0].set_xlabel('Estimators')\n",
    "ax[0].set_ylabel('ROC-AUC')\n",
    "ax[0].grid()\n",
    "ax[1].grid()\n",
    "ax[2].grid()\n",
    "plt.show()"
   ]
  },
  {
   "cell_type": "markdown",
   "metadata": {},
   "source": [
    "Оптимальные гиперпараметры для модели Cat Boost:\n",
    "- n_estimators: 1400;\n",
    "- max_depth: 6 (не имеет значения);\n",
    "- learning_rate: 0.1."
   ]
  },
  {
   "cell_type": "code",
   "execution_count": 126,
   "metadata": {},
   "outputs": [],
   "source": [
    "scores_cbc = cross_val_score(CatBoostClassifier(n_estimators=600, max_depth=6, learning_rate=0.1, random_state=7), X_train, y_train, cv=cv, scoring='roc_auc', n_jobs=-1)"
   ]
  },
  {
   "cell_type": "code",
   "execution_count": 155,
   "metadata": {},
   "outputs": [
    {
     "name": "stdout",
     "output_type": "stream",
     "text": [
      "Средняя оценка метрики качества ROC-AUC на модели Cat Boost: 0.919\n",
      "Среднеквадратичное отклонение: 0.007676405398399327\n"
     ]
    }
   ],
   "source": [
    "print(f'Средняя оценка метрики качества ROC-AUC на модели Cat Boost: {round(scores_cbc.mean(), 3)}')\n",
    "print(f'Среднеквадратичное отклонение: {np.std(scores_cbc)}')"
   ]
  },
  {
   "cell_type": "markdown",
   "metadata": {},
   "source": [
    "#### Вывод"
   ]
  },
  {
   "cell_type": "markdown",
   "metadata": {},
   "source": [
    "Получаем, что наивысшее значение метрики качества ROC-AUC показала модель Cat Boost без учета дисбаланса классов. Возьмем ее в качестве дальнейшего исследования."
   ]
  },
  {
   "cell_type": "markdown",
   "metadata": {},
   "source": [
    "### Борьба с несбалансированной классификацией"
   ]
  },
  {
   "cell_type": "markdown",
   "metadata": {},
   "source": [
    "#### Взвешивание классов"
   ]
  },
  {
   "cell_type": "code",
   "execution_count": 128,
   "metadata": {},
   "outputs": [],
   "source": [
    "classes = np.unique(y_train)\n",
    "weights = compute_class_weight(class_weight='balanced', classes=classes, y=y_train)\n",
    "class_weights = dict(zip(classes, weights))"
   ]
  },
  {
   "cell_type": "code",
   "execution_count": 129,
   "metadata": {},
   "outputs": [],
   "source": [
    "scores = cross_val_score(CatBoostClassifier(class_weights=class_weights, n_estimators=600, max_depth=6, learning_rate=0.1, random_state=7), X_train, y_train, cv=cv, scoring='roc_auc', n_jobs=-1)"
   ]
  },
  {
   "cell_type": "code",
   "execution_count": 130,
   "metadata": {},
   "outputs": [
    {
     "name": "stdout",
     "output_type": "stream",
     "text": [
      "Средняя оценка метрики качества ROC-AUC при взвешивании классов: 0.916\n"
     ]
    }
   ],
   "source": [
    "print(f'Средняя оценка метрики качества ROC-AUC при взвешивании классов: {round(scores.mean(), 3)}')"
   ]
  },
  {
   "cell_type": "markdown",
   "metadata": {},
   "source": [
    "#### Увеличение выборки"
   ]
  },
  {
   "cell_type": "code",
   "execution_count": 131,
   "metadata": {},
   "outputs": [],
   "source": [
    "def upsample(X, y, repeat):\n",
    "    X_zeros = X[y == 0]\n",
    "    X_ones = X[y == 1]\n",
    "    y_zeros = y[y == 0]\n",
    "    y_ones = y[y == 1]\n",
    "    \n",
    "    X_upsampled = pd.concat([X_zeros] + [X_ones] * repeat)\n",
    "    y_upsampled = pd.concat([y_zeros] + [y_ones] * repeat)\n",
    "    \n",
    "    X_upsampled, y_upsampled = shuffle(X_upsampled, y_upsampled, random_state=7)\n",
    "    \n",
    "    return X_upsampled, y_upsampled"
   ]
  },
  {
   "cell_type": "markdown",
   "metadata": {},
   "source": [
    "Для выравнивания соотношения классов необходимо первый класс увеличить примерно в 3 раза."
   ]
  },
  {
   "cell_type": "code",
   "execution_count": 132,
   "metadata": {},
   "outputs": [],
   "source": [
    "X_train_up, y_train_up = upsample(X_train, y_train, 3)"
   ]
  },
  {
   "cell_type": "code",
   "execution_count": 133,
   "metadata": {},
   "outputs": [],
   "source": [
    "scores = cross_val_score(CatBoostClassifier(class_weights=class_weights, n_estimators=600, max_depth=6, learning_rate=0.1, random_state=7), X_train_up, y_train_up, cv=cv, scoring='roc_auc', n_jobs=-1)"
   ]
  },
  {
   "cell_type": "code",
   "execution_count": 134,
   "metadata": {},
   "outputs": [
    {
     "name": "stdout",
     "output_type": "stream",
     "text": [
      "Средняя оценка метрики качества ROC-AUC при увеличении выборки и взвешивании классов: 0.968\n"
     ]
    }
   ],
   "source": [
    "print(f'Средняя оценка метрики качества ROC-AUC при увеличении выборки и взвешивании классов: {round(scores.mean(), 3)}')"
   ]
  },
  {
   "cell_type": "markdown",
   "metadata": {},
   "source": [
    "#### Уменьшение выборки"
   ]
  },
  {
   "cell_type": "code",
   "execution_count": 135,
   "metadata": {},
   "outputs": [],
   "source": [
    "def downsample(X, y, fraction):\n",
    "    X_zeros = X[y == 0]\n",
    "    X_ones = X[y == 1]\n",
    "    y_zeros = y[y == 0]\n",
    "    y_ones = y[y == 1]\n",
    "    \n",
    "    X_downsampled = pd.concat([X_zeros.sample(frac=fraction, random_state=7)] + [X_ones])\n",
    "    y_downsampled = pd.concat([y_zeros.sample(frac=fraction, random_state=7)] + [y_ones])\n",
    "    \n",
    "    X_downsampled, y_downsampled = shuffle(X_downsampled, y_downsampled, random_state=7)\n",
    "\n",
    "    return X_downsampled, y_downsampled"
   ]
  },
  {
   "cell_type": "code",
   "execution_count": 136,
   "metadata": {},
   "outputs": [],
   "source": [
    "X_train_down, y_train_down = downsample(X_train, y_train, 0.33)"
   ]
  },
  {
   "cell_type": "code",
   "execution_count": 137,
   "metadata": {},
   "outputs": [],
   "source": [
    "scores = cross_val_score(CatBoostClassifier(class_weights=class_weights, n_estimators=600, max_depth=6, learning_rate=0.1, random_state=7), X_train_down, y_train_down, cv=cv, scoring='roc_auc', n_jobs=-1)"
   ]
  },
  {
   "cell_type": "code",
   "execution_count": 138,
   "metadata": {},
   "outputs": [
    {
     "name": "stdout",
     "output_type": "stream",
     "text": [
      "Средняя оценка метрики качества ROC-AUC при уменьшении выборки и взвешивании классов: 0.895\n"
     ]
    }
   ],
   "source": [
    "print(f'Средняя оценка метрики качества ROC-AUC при уменьшении выборки и взвешивании классов: {round(scores.mean(), 3)}')"
   ]
  },
  {
   "cell_type": "markdown",
   "metadata": {},
   "source": [
    "#### Изменение порога вероятности"
   ]
  },
  {
   "cell_type": "code",
   "execution_count": 139,
   "metadata": {},
   "outputs": [
    {
     "name": "stdout",
     "output_type": "stream",
     "text": [
      "0:\tlearn: 0.6464669\ttotal: 8.49ms\tremaining: 5.08s\n",
      "1:\tlearn: 0.6140027\ttotal: 16.2ms\tremaining: 4.84s\n",
      "2:\tlearn: 0.5876743\ttotal: 24.3ms\tremaining: 4.83s\n",
      "3:\tlearn: 0.5679983\ttotal: 33.9ms\tremaining: 5.05s\n",
      "4:\tlearn: 0.5506870\ttotal: 42.4ms\tremaining: 5.04s\n",
      "5:\tlearn: 0.5362820\ttotal: 50.6ms\tremaining: 5.01s\n",
      "6:\tlearn: 0.5263260\ttotal: 59.8ms\tremaining: 5.07s\n",
      "7:\tlearn: 0.5182316\ttotal: 69.3ms\tremaining: 5.13s\n",
      "8:\tlearn: 0.5084001\ttotal: 78.5ms\tremaining: 5.16s\n",
      "9:\tlearn: 0.5027880\ttotal: 87.8ms\tremaining: 5.18s\n",
      "10:\tlearn: 0.4952312\ttotal: 97.1ms\tremaining: 5.2s\n",
      "11:\tlearn: 0.4886004\ttotal: 106ms\tremaining: 5.2s\n",
      "12:\tlearn: 0.4859484\ttotal: 114ms\tremaining: 5.17s\n",
      "13:\tlearn: 0.4786715\ttotal: 123ms\tremaining: 5.15s\n",
      "14:\tlearn: 0.4737376\ttotal: 132ms\tremaining: 5.15s\n",
      "15:\tlearn: 0.4716943\ttotal: 141ms\tremaining: 5.13s\n",
      "16:\tlearn: 0.4692927\ttotal: 151ms\tremaining: 5.17s\n",
      "17:\tlearn: 0.4653728\ttotal: 162ms\tremaining: 5.25s\n",
      "18:\tlearn: 0.4635432\ttotal: 170ms\tremaining: 5.18s\n",
      "19:\tlearn: 0.4605822\ttotal: 177ms\tremaining: 5.12s\n",
      "20:\tlearn: 0.4588593\ttotal: 186ms\tremaining: 5.12s\n",
      "21:\tlearn: 0.4573073\ttotal: 197ms\tremaining: 5.17s\n",
      "22:\tlearn: 0.4552592\ttotal: 206ms\tremaining: 5.16s\n",
      "23:\tlearn: 0.4532667\ttotal: 212ms\tremaining: 5.09s\n",
      "24:\tlearn: 0.4521390\ttotal: 220ms\tremaining: 5.06s\n",
      "25:\tlearn: 0.4509742\ttotal: 227ms\tremaining: 5.02s\n",
      "26:\tlearn: 0.4481538\ttotal: 235ms\tremaining: 4.99s\n",
      "27:\tlearn: 0.4462572\ttotal: 245ms\tremaining: 5.01s\n",
      "28:\tlearn: 0.4454843\ttotal: 254ms\tremaining: 5s\n",
      "29:\tlearn: 0.4439244\ttotal: 263ms\tremaining: 4.99s\n",
      "30:\tlearn: 0.4422936\ttotal: 273ms\tremaining: 5.01s\n",
      "31:\tlearn: 0.4410522\ttotal: 281ms\tremaining: 4.99s\n",
      "32:\tlearn: 0.4403214\ttotal: 291ms\tremaining: 5s\n",
      "33:\tlearn: 0.4392715\ttotal: 299ms\tremaining: 4.98s\n",
      "34:\tlearn: 0.4384734\ttotal: 306ms\tremaining: 4.94s\n",
      "35:\tlearn: 0.4367098\ttotal: 314ms\tremaining: 4.91s\n",
      "36:\tlearn: 0.4356110\ttotal: 322ms\tremaining: 4.91s\n",
      "37:\tlearn: 0.4342793\ttotal: 333ms\tremaining: 4.92s\n",
      "38:\tlearn: 0.4335609\ttotal: 341ms\tremaining: 4.9s\n",
      "39:\tlearn: 0.4320600\ttotal: 347ms\tremaining: 4.86s\n",
      "40:\tlearn: 0.4313206\ttotal: 355ms\tremaining: 4.84s\n",
      "41:\tlearn: 0.4303762\ttotal: 363ms\tremaining: 4.82s\n",
      "42:\tlearn: 0.4299271\ttotal: 370ms\tremaining: 4.8s\n",
      "43:\tlearn: 0.4289565\ttotal: 378ms\tremaining: 4.78s\n",
      "44:\tlearn: 0.4267790\ttotal: 386ms\tremaining: 4.76s\n",
      "45:\tlearn: 0.4256199\ttotal: 394ms\tremaining: 4.74s\n",
      "46:\tlearn: 0.4249255\ttotal: 401ms\tremaining: 4.71s\n",
      "47:\tlearn: 0.4243877\ttotal: 408ms\tremaining: 4.7s\n",
      "48:\tlearn: 0.4230874\ttotal: 416ms\tremaining: 4.68s\n",
      "49:\tlearn: 0.4204528\ttotal: 423ms\tremaining: 4.65s\n",
      "50:\tlearn: 0.4201077\ttotal: 433ms\tremaining: 4.66s\n",
      "51:\tlearn: 0.4195507\ttotal: 441ms\tremaining: 4.65s\n",
      "52:\tlearn: 0.4179181\ttotal: 450ms\tremaining: 4.65s\n",
      "53:\tlearn: 0.4170026\ttotal: 456ms\tremaining: 4.61s\n",
      "54:\tlearn: 0.4158606\ttotal: 462ms\tremaining: 4.58s\n",
      "55:\tlearn: 0.4149107\ttotal: 470ms\tremaining: 4.57s\n",
      "56:\tlearn: 0.4130103\ttotal: 479ms\tremaining: 4.56s\n",
      "57:\tlearn: 0.4122152\ttotal: 488ms\tremaining: 4.56s\n",
      "58:\tlearn: 0.4115542\ttotal: 495ms\tremaining: 4.54s\n",
      "59:\tlearn: 0.4102461\ttotal: 502ms\tremaining: 4.52s\n",
      "60:\tlearn: 0.4075061\ttotal: 510ms\tremaining: 4.5s\n",
      "61:\tlearn: 0.4066904\ttotal: 519ms\tremaining: 4.5s\n",
      "62:\tlearn: 0.4051316\ttotal: 528ms\tremaining: 4.5s\n",
      "63:\tlearn: 0.4044614\ttotal: 535ms\tremaining: 4.48s\n",
      "64:\tlearn: 0.4043941\ttotal: 540ms\tremaining: 4.45s\n",
      "65:\tlearn: 0.4041686\ttotal: 547ms\tremaining: 4.42s\n",
      "66:\tlearn: 0.4036287\ttotal: 554ms\tremaining: 4.41s\n",
      "67:\tlearn: 0.4023502\ttotal: 560ms\tremaining: 4.38s\n",
      "68:\tlearn: 0.4017179\ttotal: 566ms\tremaining: 4.36s\n",
      "69:\tlearn: 0.4006516\ttotal: 573ms\tremaining: 4.33s\n",
      "70:\tlearn: 0.3997047\ttotal: 581ms\tremaining: 4.33s\n",
      "71:\tlearn: 0.3987394\ttotal: 589ms\tremaining: 4.32s\n",
      "72:\tlearn: 0.3981191\ttotal: 599ms\tremaining: 4.32s\n",
      "73:\tlearn: 0.3970304\ttotal: 607ms\tremaining: 4.31s\n",
      "74:\tlearn: 0.3966005\ttotal: 613ms\tremaining: 4.29s\n",
      "75:\tlearn: 0.3958698\ttotal: 618ms\tremaining: 4.26s\n",
      "76:\tlearn: 0.3956177\ttotal: 625ms\tremaining: 4.25s\n",
      "77:\tlearn: 0.3946772\ttotal: 645ms\tremaining: 4.32s\n",
      "78:\tlearn: 0.3940694\ttotal: 653ms\tremaining: 4.31s\n",
      "79:\tlearn: 0.3931854\ttotal: 661ms\tremaining: 4.3s\n",
      "80:\tlearn: 0.3919079\ttotal: 667ms\tremaining: 4.27s\n",
      "81:\tlearn: 0.3912884\ttotal: 674ms\tremaining: 4.26s\n",
      "82:\tlearn: 0.3907199\ttotal: 687ms\tremaining: 4.28s\n",
      "83:\tlearn: 0.3900010\ttotal: 697ms\tremaining: 4.28s\n",
      "84:\tlearn: 0.3890170\ttotal: 707ms\tremaining: 4.28s\n",
      "85:\tlearn: 0.3874227\ttotal: 713ms\tremaining: 4.26s\n",
      "86:\tlearn: 0.3863679\ttotal: 719ms\tremaining: 4.24s\n",
      "87:\tlearn: 0.3854791\ttotal: 727ms\tremaining: 4.23s\n",
      "88:\tlearn: 0.3844997\ttotal: 736ms\tremaining: 4.22s\n",
      "89:\tlearn: 0.3828124\ttotal: 743ms\tremaining: 4.21s\n",
      "90:\tlearn: 0.3816571\ttotal: 751ms\tremaining: 4.2s\n",
      "91:\tlearn: 0.3804203\ttotal: 759ms\tremaining: 4.19s\n",
      "92:\tlearn: 0.3796925\ttotal: 766ms\tremaining: 4.18s\n",
      "93:\tlearn: 0.3793967\ttotal: 773ms\tremaining: 4.16s\n",
      "94:\tlearn: 0.3790393\ttotal: 787ms\tremaining: 4.18s\n",
      "95:\tlearn: 0.3782058\ttotal: 799ms\tremaining: 4.19s\n",
      "96:\tlearn: 0.3771826\ttotal: 807ms\tremaining: 4.18s\n",
      "97:\tlearn: 0.3763244\ttotal: 815ms\tremaining: 4.17s\n",
      "98:\tlearn: 0.3750485\ttotal: 822ms\tremaining: 4.16s\n",
      "99:\tlearn: 0.3737743\ttotal: 831ms\tremaining: 4.15s\n",
      "100:\tlearn: 0.3731839\ttotal: 847ms\tremaining: 4.19s\n",
      "101:\tlearn: 0.3722326\ttotal: 858ms\tremaining: 4.19s\n",
      "102:\tlearn: 0.3716027\ttotal: 865ms\tremaining: 4.17s\n",
      "103:\tlearn: 0.3708219\ttotal: 873ms\tremaining: 4.16s\n",
      "104:\tlearn: 0.3700778\ttotal: 880ms\tremaining: 4.15s\n",
      "105:\tlearn: 0.3688773\ttotal: 889ms\tremaining: 4.14s\n",
      "106:\tlearn: 0.3677193\ttotal: 898ms\tremaining: 4.14s\n",
      "107:\tlearn: 0.3660406\ttotal: 918ms\tremaining: 4.18s\n",
      "108:\tlearn: 0.3651288\ttotal: 933ms\tremaining: 4.2s\n",
      "109:\tlearn: 0.3639931\ttotal: 942ms\tremaining: 4.19s\n",
      "110:\tlearn: 0.3629798\ttotal: 953ms\tremaining: 4.2s\n",
      "111:\tlearn: 0.3621073\ttotal: 974ms\tremaining: 4.24s\n",
      "112:\tlearn: 0.3603877\ttotal: 985ms\tremaining: 4.24s\n",
      "113:\tlearn: 0.3575689\ttotal: 992ms\tremaining: 4.23s\n",
      "114:\tlearn: 0.3558298\ttotal: 998ms\tremaining: 4.21s\n",
      "115:\tlearn: 0.3551587\ttotal: 1.01s\tremaining: 4.2s\n",
      "116:\tlearn: 0.3542925\ttotal: 1.02s\tremaining: 4.22s\n",
      "117:\tlearn: 0.3535981\ttotal: 1.05s\tremaining: 4.28s\n",
      "118:\tlearn: 0.3521548\ttotal: 1.06s\tremaining: 4.28s\n",
      "119:\tlearn: 0.3513811\ttotal: 1.07s\tremaining: 4.26s\n",
      "120:\tlearn: 0.3508531\ttotal: 1.07s\tremaining: 4.25s\n",
      "121:\tlearn: 0.3502864\ttotal: 1.08s\tremaining: 4.24s\n",
      "122:\tlearn: 0.3493513\ttotal: 1.09s\tremaining: 4.22s\n",
      "123:\tlearn: 0.3489191\ttotal: 1.09s\tremaining: 4.2s\n",
      "124:\tlearn: 0.3481395\ttotal: 1.1s\tremaining: 4.18s\n",
      "125:\tlearn: 0.3471814\ttotal: 1.13s\tremaining: 4.24s\n",
      "126:\tlearn: 0.3462485\ttotal: 1.14s\tremaining: 4.23s\n",
      "127:\tlearn: 0.3449279\ttotal: 1.14s\tremaining: 4.21s\n",
      "128:\tlearn: 0.3442119\ttotal: 1.15s\tremaining: 4.2s\n",
      "129:\tlearn: 0.3433330\ttotal: 1.16s\tremaining: 4.18s\n",
      "130:\tlearn: 0.3427827\ttotal: 1.16s\tremaining: 4.16s\n",
      "131:\tlearn: 0.3417741\ttotal: 1.17s\tremaining: 4.14s\n",
      "132:\tlearn: 0.3406228\ttotal: 1.18s\tremaining: 4.15s\n",
      "133:\tlearn: 0.3400065\ttotal: 1.19s\tremaining: 4.15s\n",
      "134:\tlearn: 0.3392216\ttotal: 1.2s\tremaining: 4.13s\n",
      "135:\tlearn: 0.3386646\ttotal: 1.21s\tremaining: 4.14s\n",
      "136:\tlearn: 0.3376488\ttotal: 1.22s\tremaining: 4.12s\n",
      "137:\tlearn: 0.3366500\ttotal: 1.22s\tremaining: 4.09s\n",
      "138:\tlearn: 0.3361761\ttotal: 1.23s\tremaining: 4.08s\n",
      "139:\tlearn: 0.3353025\ttotal: 1.23s\tremaining: 4.05s\n",
      "140:\tlearn: 0.3348838\ttotal: 1.25s\tremaining: 4.05s\n",
      "141:\tlearn: 0.3339228\ttotal: 1.26s\tremaining: 4.05s\n",
      "142:\tlearn: 0.3334161\ttotal: 1.26s\tremaining: 4.04s\n",
      "143:\tlearn: 0.3330222\ttotal: 1.27s\tremaining: 4.03s\n",
      "144:\tlearn: 0.3322262\ttotal: 1.28s\tremaining: 4.01s\n",
      "145:\tlearn: 0.3311301\ttotal: 1.28s\tremaining: 4s\n",
      "146:\tlearn: 0.3306729\ttotal: 1.3s\tremaining: 4.01s\n",
      "147:\tlearn: 0.3302103\ttotal: 1.31s\tremaining: 4.02s\n",
      "148:\tlearn: 0.3297009\ttotal: 1.32s\tremaining: 4.01s\n",
      "149:\tlearn: 0.3283878\ttotal: 1.33s\tremaining: 3.99s\n",
      "150:\tlearn: 0.3275739\ttotal: 1.34s\tremaining: 3.97s\n",
      "151:\tlearn: 0.3260730\ttotal: 1.34s\tremaining: 3.96s\n",
      "152:\tlearn: 0.3252236\ttotal: 1.35s\tremaining: 3.95s\n",
      "153:\tlearn: 0.3243832\ttotal: 1.37s\tremaining: 3.96s\n",
      "154:\tlearn: 0.3237124\ttotal: 1.38s\tremaining: 3.96s\n",
      "155:\tlearn: 0.3232521\ttotal: 1.39s\tremaining: 3.95s\n",
      "156:\tlearn: 0.3225412\ttotal: 1.4s\tremaining: 3.94s\n",
      "157:\tlearn: 0.3206812\ttotal: 1.4s\tremaining: 3.92s\n",
      "158:\tlearn: 0.3199483\ttotal: 1.41s\tremaining: 3.91s\n",
      "159:\tlearn: 0.3193786\ttotal: 1.42s\tremaining: 3.9s\n",
      "160:\tlearn: 0.3186771\ttotal: 1.42s\tremaining: 3.88s\n",
      "161:\tlearn: 0.3175576\ttotal: 1.43s\tremaining: 3.86s\n",
      "162:\tlearn: 0.3169128\ttotal: 1.44s\tremaining: 3.85s\n"
     ]
    },
    {
     "name": "stdout",
     "output_type": "stream",
     "text": [
      "163:\tlearn: 0.3163771\ttotal: 1.44s\tremaining: 3.84s\n",
      "164:\tlearn: 0.3160326\ttotal: 1.45s\tremaining: 3.83s\n",
      "165:\tlearn: 0.3156364\ttotal: 1.46s\tremaining: 3.81s\n",
      "166:\tlearn: 0.3150519\ttotal: 1.46s\tremaining: 3.79s\n",
      "167:\tlearn: 0.3143983\ttotal: 1.47s\tremaining: 3.79s\n",
      "168:\tlearn: 0.3134823\ttotal: 1.48s\tremaining: 3.78s\n",
      "169:\tlearn: 0.3126786\ttotal: 1.49s\tremaining: 3.77s\n",
      "170:\tlearn: 0.3120350\ttotal: 1.5s\tremaining: 3.75s\n",
      "171:\tlearn: 0.3114196\ttotal: 1.51s\tremaining: 3.75s\n",
      "172:\tlearn: 0.3096724\ttotal: 1.51s\tremaining: 3.74s\n",
      "173:\tlearn: 0.3091006\ttotal: 1.52s\tremaining: 3.73s\n",
      "174:\tlearn: 0.3083864\ttotal: 1.53s\tremaining: 3.72s\n",
      "175:\tlearn: 0.3079701\ttotal: 1.54s\tremaining: 3.71s\n",
      "176:\tlearn: 0.3072172\ttotal: 1.55s\tremaining: 3.7s\n",
      "177:\tlearn: 0.3067962\ttotal: 1.56s\tremaining: 3.69s\n",
      "178:\tlearn: 0.3060152\ttotal: 1.56s\tremaining: 3.68s\n",
      "179:\tlearn: 0.3054256\ttotal: 1.57s\tremaining: 3.67s\n",
      "180:\tlearn: 0.3043663\ttotal: 1.58s\tremaining: 3.66s\n",
      "181:\tlearn: 0.3035597\ttotal: 1.59s\tremaining: 3.65s\n",
      "182:\tlearn: 0.3032304\ttotal: 1.6s\tremaining: 3.64s\n",
      "183:\tlearn: 0.3026281\ttotal: 1.61s\tremaining: 3.63s\n",
      "184:\tlearn: 0.3017256\ttotal: 1.61s\tremaining: 3.62s\n",
      "185:\tlearn: 0.3013793\ttotal: 1.62s\tremaining: 3.62s\n",
      "186:\tlearn: 0.3008451\ttotal: 1.63s\tremaining: 3.61s\n",
      "187:\tlearn: 0.3003550\ttotal: 1.64s\tremaining: 3.59s\n",
      "188:\tlearn: 0.2990345\ttotal: 1.65s\tremaining: 3.58s\n",
      "189:\tlearn: 0.2986567\ttotal: 1.66s\tremaining: 3.57s\n",
      "190:\tlearn: 0.2981236\ttotal: 1.66s\tremaining: 3.56s\n",
      "191:\tlearn: 0.2976241\ttotal: 1.67s\tremaining: 3.55s\n",
      "192:\tlearn: 0.2970886\ttotal: 1.68s\tremaining: 3.55s\n",
      "193:\tlearn: 0.2966445\ttotal: 1.69s\tremaining: 3.54s\n",
      "194:\tlearn: 0.2958114\ttotal: 1.7s\tremaining: 3.52s\n",
      "195:\tlearn: 0.2950634\ttotal: 1.71s\tremaining: 3.52s\n",
      "196:\tlearn: 0.2944811\ttotal: 1.72s\tremaining: 3.51s\n",
      "197:\tlearn: 0.2938888\ttotal: 1.72s\tremaining: 3.5s\n",
      "198:\tlearn: 0.2924889\ttotal: 1.73s\tremaining: 3.49s\n",
      "199:\tlearn: 0.2911778\ttotal: 1.74s\tremaining: 3.49s\n",
      "200:\tlearn: 0.2906167\ttotal: 1.75s\tremaining: 3.48s\n",
      "201:\tlearn: 0.2901247\ttotal: 1.76s\tremaining: 3.47s\n",
      "202:\tlearn: 0.2897596\ttotal: 1.77s\tremaining: 3.46s\n",
      "203:\tlearn: 0.2894177\ttotal: 1.78s\tremaining: 3.46s\n",
      "204:\tlearn: 0.2890956\ttotal: 1.79s\tremaining: 3.45s\n",
      "205:\tlearn: 0.2885839\ttotal: 1.8s\tremaining: 3.44s\n",
      "206:\tlearn: 0.2876703\ttotal: 1.81s\tremaining: 3.44s\n",
      "207:\tlearn: 0.2872029\ttotal: 1.82s\tremaining: 3.43s\n",
      "208:\tlearn: 0.2863482\ttotal: 1.83s\tremaining: 3.42s\n",
      "209:\tlearn: 0.2858386\ttotal: 1.84s\tremaining: 3.42s\n",
      "210:\tlearn: 0.2855486\ttotal: 1.85s\tremaining: 3.41s\n",
      "211:\tlearn: 0.2851654\ttotal: 1.86s\tremaining: 3.4s\n",
      "212:\tlearn: 0.2848176\ttotal: 1.87s\tremaining: 3.39s\n",
      "213:\tlearn: 0.2844709\ttotal: 1.88s\tremaining: 3.38s\n",
      "214:\tlearn: 0.2842561\ttotal: 1.89s\tremaining: 3.38s\n",
      "215:\tlearn: 0.2836074\ttotal: 1.9s\tremaining: 3.37s\n",
      "216:\tlearn: 0.2831285\ttotal: 1.91s\tremaining: 3.36s\n",
      "217:\tlearn: 0.2826376\ttotal: 1.91s\tremaining: 3.35s\n",
      "218:\tlearn: 0.2823749\ttotal: 1.93s\tremaining: 3.35s\n",
      "219:\tlearn: 0.2819782\ttotal: 1.94s\tremaining: 3.35s\n",
      "220:\tlearn: 0.2815269\ttotal: 1.95s\tremaining: 3.34s\n",
      "221:\tlearn: 0.2812013\ttotal: 1.96s\tremaining: 3.33s\n",
      "222:\tlearn: 0.2808758\ttotal: 1.97s\tremaining: 3.32s\n",
      "223:\tlearn: 0.2800750\ttotal: 1.97s\tremaining: 3.31s\n",
      "224:\tlearn: 0.2795980\ttotal: 1.98s\tremaining: 3.3s\n",
      "225:\tlearn: 0.2793085\ttotal: 1.99s\tremaining: 3.29s\n",
      "226:\tlearn: 0.2789498\ttotal: 2s\tremaining: 3.28s\n",
      "227:\tlearn: 0.2784206\ttotal: 2.01s\tremaining: 3.27s\n",
      "228:\tlearn: 0.2775682\ttotal: 2.02s\tremaining: 3.27s\n",
      "229:\tlearn: 0.2772963\ttotal: 2.02s\tremaining: 3.25s\n",
      "230:\tlearn: 0.2770636\ttotal: 2.03s\tremaining: 3.24s\n",
      "231:\tlearn: 0.2767113\ttotal: 2.04s\tremaining: 3.23s\n",
      "232:\tlearn: 0.2760414\ttotal: 2.04s\tremaining: 3.22s\n",
      "233:\tlearn: 0.2755749\ttotal: 2.05s\tremaining: 3.21s\n",
      "234:\tlearn: 0.2747180\ttotal: 2.06s\tremaining: 3.2s\n",
      "235:\tlearn: 0.2742424\ttotal: 2.07s\tremaining: 3.19s\n",
      "236:\tlearn: 0.2736925\ttotal: 2.07s\tremaining: 3.17s\n",
      "237:\tlearn: 0.2733165\ttotal: 2.08s\tremaining: 3.17s\n",
      "238:\tlearn: 0.2728803\ttotal: 2.09s\tremaining: 3.16s\n",
      "239:\tlearn: 0.2721856\ttotal: 2.1s\tremaining: 3.15s\n",
      "240:\tlearn: 0.2718337\ttotal: 2.11s\tremaining: 3.14s\n",
      "241:\tlearn: 0.2712134\ttotal: 2.12s\tremaining: 3.13s\n",
      "242:\tlearn: 0.2699994\ttotal: 2.13s\tremaining: 3.13s\n",
      "243:\tlearn: 0.2691958\ttotal: 2.14s\tremaining: 3.12s\n",
      "244:\tlearn: 0.2681727\ttotal: 2.15s\tremaining: 3.11s\n",
      "245:\tlearn: 0.2678117\ttotal: 2.15s\tremaining: 3.1s\n",
      "246:\tlearn: 0.2671285\ttotal: 2.16s\tremaining: 3.09s\n",
      "247:\tlearn: 0.2663006\ttotal: 2.17s\tremaining: 3.08s\n",
      "248:\tlearn: 0.2658732\ttotal: 2.18s\tremaining: 3.08s\n",
      "249:\tlearn: 0.2653411\ttotal: 2.19s\tremaining: 3.07s\n",
      "250:\tlearn: 0.2648110\ttotal: 2.2s\tremaining: 3.06s\n",
      "251:\tlearn: 0.2642724\ttotal: 2.21s\tremaining: 3.05s\n",
      "252:\tlearn: 0.2638056\ttotal: 2.21s\tremaining: 3.04s\n",
      "253:\tlearn: 0.2634071\ttotal: 2.22s\tremaining: 3.03s\n",
      "254:\tlearn: 0.2628034\ttotal: 2.23s\tremaining: 3.02s\n",
      "255:\tlearn: 0.2623124\ttotal: 2.24s\tremaining: 3.01s\n",
      "256:\tlearn: 0.2618652\ttotal: 2.25s\tremaining: 3s\n",
      "257:\tlearn: 0.2612216\ttotal: 2.26s\tremaining: 2.99s\n",
      "258:\tlearn: 0.2608456\ttotal: 2.27s\tremaining: 2.98s\n",
      "259:\tlearn: 0.2604860\ttotal: 2.27s\tremaining: 2.98s\n",
      "260:\tlearn: 0.2599453\ttotal: 2.28s\tremaining: 2.96s\n",
      "261:\tlearn: 0.2595288\ttotal: 2.29s\tremaining: 2.96s\n",
      "262:\tlearn: 0.2587705\ttotal: 2.3s\tremaining: 2.95s\n",
      "263:\tlearn: 0.2580310\ttotal: 2.31s\tremaining: 2.94s\n",
      "264:\tlearn: 0.2575704\ttotal: 2.32s\tremaining: 2.93s\n",
      "265:\tlearn: 0.2572779\ttotal: 2.33s\tremaining: 2.92s\n",
      "266:\tlearn: 0.2567978\ttotal: 2.34s\tremaining: 2.92s\n",
      "267:\tlearn: 0.2565151\ttotal: 2.35s\tremaining: 2.91s\n",
      "268:\tlearn: 0.2561731\ttotal: 2.35s\tremaining: 2.9s\n",
      "269:\tlearn: 0.2555949\ttotal: 2.36s\tremaining: 2.89s\n",
      "270:\tlearn: 0.2550146\ttotal: 2.37s\tremaining: 2.88s\n",
      "271:\tlearn: 0.2543254\ttotal: 2.38s\tremaining: 2.87s\n",
      "272:\tlearn: 0.2540098\ttotal: 2.39s\tremaining: 2.86s\n",
      "273:\tlearn: 0.2534742\ttotal: 2.4s\tremaining: 2.86s\n",
      "274:\tlearn: 0.2531161\ttotal: 2.41s\tremaining: 2.85s\n",
      "275:\tlearn: 0.2528607\ttotal: 2.42s\tremaining: 2.84s\n",
      "276:\tlearn: 0.2524264\ttotal: 2.42s\tremaining: 2.83s\n",
      "277:\tlearn: 0.2519085\ttotal: 2.43s\tremaining: 2.82s\n",
      "278:\tlearn: 0.2517544\ttotal: 2.44s\tremaining: 2.81s\n",
      "279:\tlearn: 0.2513252\ttotal: 2.45s\tremaining: 2.8s\n",
      "280:\tlearn: 0.2504977\ttotal: 2.46s\tremaining: 2.8s\n",
      "281:\tlearn: 0.2502734\ttotal: 2.47s\tremaining: 2.79s\n",
      "282:\tlearn: 0.2494661\ttotal: 2.48s\tremaining: 2.78s\n",
      "283:\tlearn: 0.2489210\ttotal: 2.49s\tremaining: 2.77s\n",
      "284:\tlearn: 0.2482874\ttotal: 2.5s\tremaining: 2.76s\n",
      "285:\tlearn: 0.2478629\ttotal: 2.51s\tremaining: 2.75s\n",
      "286:\tlearn: 0.2472967\ttotal: 2.52s\tremaining: 2.75s\n",
      "287:\tlearn: 0.2469826\ttotal: 2.53s\tremaining: 2.74s\n",
      "288:\tlearn: 0.2467094\ttotal: 2.54s\tremaining: 2.73s\n",
      "289:\tlearn: 0.2464533\ttotal: 2.54s\tremaining: 2.72s\n",
      "290:\tlearn: 0.2459978\ttotal: 2.55s\tremaining: 2.71s\n",
      "291:\tlearn: 0.2456475\ttotal: 2.56s\tremaining: 2.7s\n",
      "292:\tlearn: 0.2452765\ttotal: 2.57s\tremaining: 2.69s\n",
      "293:\tlearn: 0.2447139\ttotal: 2.58s\tremaining: 2.69s\n",
      "294:\tlearn: 0.2440360\ttotal: 2.59s\tremaining: 2.68s\n",
      "295:\tlearn: 0.2437099\ttotal: 2.6s\tremaining: 2.67s\n",
      "296:\tlearn: 0.2434211\ttotal: 2.61s\tremaining: 2.66s\n",
      "297:\tlearn: 0.2428975\ttotal: 2.62s\tremaining: 2.65s\n",
      "298:\tlearn: 0.2423257\ttotal: 2.63s\tremaining: 2.65s\n",
      "299:\tlearn: 0.2418450\ttotal: 2.64s\tremaining: 2.64s\n",
      "300:\tlearn: 0.2408249\ttotal: 2.65s\tremaining: 2.63s\n",
      "301:\tlearn: 0.2404242\ttotal: 2.65s\tremaining: 2.62s\n",
      "302:\tlearn: 0.2398108\ttotal: 2.66s\tremaining: 2.61s\n",
      "303:\tlearn: 0.2395970\ttotal: 2.67s\tremaining: 2.6s\n",
      "304:\tlearn: 0.2393516\ttotal: 2.67s\tremaining: 2.59s\n",
      "305:\tlearn: 0.2391331\ttotal: 2.68s\tremaining: 2.58s\n",
      "306:\tlearn: 0.2386734\ttotal: 2.69s\tremaining: 2.57s\n",
      "307:\tlearn: 0.2379553\ttotal: 2.7s\tremaining: 2.56s\n",
      "308:\tlearn: 0.2375349\ttotal: 2.71s\tremaining: 2.55s\n",
      "309:\tlearn: 0.2372111\ttotal: 2.71s\tremaining: 2.54s\n",
      "310:\tlearn: 0.2367461\ttotal: 2.73s\tremaining: 2.53s\n",
      "311:\tlearn: 0.2364912\ttotal: 2.73s\tremaining: 2.52s\n",
      "312:\tlearn: 0.2362342\ttotal: 2.74s\tremaining: 2.52s\n",
      "313:\tlearn: 0.2358420\ttotal: 2.75s\tremaining: 2.5s\n",
      "314:\tlearn: 0.2353655\ttotal: 2.76s\tremaining: 2.5s\n",
      "315:\tlearn: 0.2349950\ttotal: 2.76s\tremaining: 2.48s\n",
      "316:\tlearn: 0.2344357\ttotal: 2.77s\tremaining: 2.47s\n",
      "317:\tlearn: 0.2339557\ttotal: 2.78s\tremaining: 2.46s\n",
      "318:\tlearn: 0.2334235\ttotal: 2.79s\tremaining: 2.45s\n",
      "319:\tlearn: 0.2332877\ttotal: 2.79s\tremaining: 2.44s\n",
      "320:\tlearn: 0.2328776\ttotal: 2.8s\tremaining: 2.44s\n",
      "321:\tlearn: 0.2324071\ttotal: 2.81s\tremaining: 2.43s\n",
      "322:\tlearn: 0.2320903\ttotal: 2.82s\tremaining: 2.42s\n",
      "323:\tlearn: 0.2318234\ttotal: 2.83s\tremaining: 2.41s\n",
      "324:\tlearn: 0.2312539\ttotal: 2.84s\tremaining: 2.4s\n",
      "325:\tlearn: 0.2307955\ttotal: 2.85s\tremaining: 2.4s\n"
     ]
    },
    {
     "name": "stdout",
     "output_type": "stream",
     "text": [
      "326:\tlearn: 0.2304859\ttotal: 2.86s\tremaining: 2.39s\n",
      "327:\tlearn: 0.2300988\ttotal: 2.87s\tremaining: 2.38s\n",
      "328:\tlearn: 0.2294964\ttotal: 2.88s\tremaining: 2.37s\n",
      "329:\tlearn: 0.2292560\ttotal: 2.89s\tremaining: 2.36s\n",
      "330:\tlearn: 0.2288749\ttotal: 2.9s\tremaining: 2.35s\n",
      "331:\tlearn: 0.2284202\ttotal: 2.91s\tremaining: 2.35s\n",
      "332:\tlearn: 0.2280570\ttotal: 2.92s\tremaining: 2.34s\n",
      "333:\tlearn: 0.2278524\ttotal: 2.92s\tremaining: 2.33s\n",
      "334:\tlearn: 0.2275913\ttotal: 2.93s\tremaining: 2.32s\n",
      "335:\tlearn: 0.2270509\ttotal: 2.94s\tremaining: 2.31s\n",
      "336:\tlearn: 0.2265957\ttotal: 2.95s\tremaining: 2.31s\n",
      "337:\tlearn: 0.2263368\ttotal: 2.96s\tremaining: 2.3s\n",
      "338:\tlearn: 0.2260882\ttotal: 2.98s\tremaining: 2.29s\n",
      "339:\tlearn: 0.2256788\ttotal: 2.98s\tremaining: 2.28s\n",
      "340:\tlearn: 0.2254142\ttotal: 3s\tremaining: 2.28s\n",
      "341:\tlearn: 0.2246046\ttotal: 3.01s\tremaining: 2.27s\n",
      "342:\tlearn: 0.2244485\ttotal: 3.02s\tremaining: 2.26s\n",
      "343:\tlearn: 0.2242090\ttotal: 3.02s\tremaining: 2.25s\n",
      "344:\tlearn: 0.2238017\ttotal: 3.04s\tremaining: 2.24s\n",
      "345:\tlearn: 0.2234693\ttotal: 3.04s\tremaining: 2.23s\n",
      "346:\tlearn: 0.2230991\ttotal: 3.05s\tremaining: 2.22s\n",
      "347:\tlearn: 0.2228091\ttotal: 3.06s\tremaining: 2.21s\n",
      "348:\tlearn: 0.2225119\ttotal: 3.07s\tremaining: 2.21s\n",
      "349:\tlearn: 0.2222710\ttotal: 3.08s\tremaining: 2.2s\n",
      "350:\tlearn: 0.2219155\ttotal: 3.08s\tremaining: 2.19s\n",
      "351:\tlearn: 0.2216739\ttotal: 3.09s\tremaining: 2.18s\n",
      "352:\tlearn: 0.2214906\ttotal: 3.1s\tremaining: 2.17s\n",
      "353:\tlearn: 0.2211116\ttotal: 3.11s\tremaining: 2.16s\n",
      "354:\tlearn: 0.2209737\ttotal: 3.12s\tremaining: 2.15s\n",
      "355:\tlearn: 0.2205359\ttotal: 3.13s\tremaining: 2.14s\n",
      "356:\tlearn: 0.2201898\ttotal: 3.14s\tremaining: 2.13s\n",
      "357:\tlearn: 0.2195106\ttotal: 3.14s\tremaining: 2.13s\n",
      "358:\tlearn: 0.2189268\ttotal: 3.15s\tremaining: 2.12s\n",
      "359:\tlearn: 0.2186672\ttotal: 3.16s\tremaining: 2.11s\n",
      "360:\tlearn: 0.2184883\ttotal: 3.17s\tremaining: 2.1s\n",
      "361:\tlearn: 0.2178080\ttotal: 3.18s\tremaining: 2.09s\n",
      "362:\tlearn: 0.2174938\ttotal: 3.19s\tremaining: 2.08s\n",
      "363:\tlearn: 0.2172208\ttotal: 3.2s\tremaining: 2.07s\n",
      "364:\tlearn: 0.2169002\ttotal: 3.21s\tremaining: 2.06s\n",
      "365:\tlearn: 0.2165427\ttotal: 3.22s\tremaining: 2.06s\n",
      "366:\tlearn: 0.2162665\ttotal: 3.23s\tremaining: 2.05s\n",
      "367:\tlearn: 0.2159859\ttotal: 3.23s\tremaining: 2.04s\n",
      "368:\tlearn: 0.2156767\ttotal: 3.24s\tremaining: 2.03s\n",
      "369:\tlearn: 0.2154397\ttotal: 3.25s\tremaining: 2.02s\n",
      "370:\tlearn: 0.2149813\ttotal: 3.26s\tremaining: 2.01s\n",
      "371:\tlearn: 0.2145247\ttotal: 3.27s\tremaining: 2s\n",
      "372:\tlearn: 0.2141015\ttotal: 3.28s\tremaining: 2s\n",
      "373:\tlearn: 0.2139414\ttotal: 3.29s\tremaining: 1.99s\n",
      "374:\tlearn: 0.2136693\ttotal: 3.29s\tremaining: 1.98s\n",
      "375:\tlearn: 0.2131895\ttotal: 3.3s\tremaining: 1.97s\n",
      "376:\tlearn: 0.2128707\ttotal: 3.31s\tremaining: 1.96s\n",
      "377:\tlearn: 0.2123814\ttotal: 3.32s\tremaining: 1.95s\n",
      "378:\tlearn: 0.2117575\ttotal: 3.33s\tremaining: 1.94s\n",
      "379:\tlearn: 0.2114368\ttotal: 3.34s\tremaining: 1.93s\n",
      "380:\tlearn: 0.2109817\ttotal: 3.35s\tremaining: 1.92s\n",
      "381:\tlearn: 0.2107373\ttotal: 3.35s\tremaining: 1.92s\n",
      "382:\tlearn: 0.2103361\ttotal: 3.36s\tremaining: 1.91s\n",
      "383:\tlearn: 0.2099873\ttotal: 3.37s\tremaining: 1.9s\n",
      "384:\tlearn: 0.2097232\ttotal: 3.38s\tremaining: 1.89s\n",
      "385:\tlearn: 0.2092577\ttotal: 3.39s\tremaining: 1.88s\n",
      "386:\tlearn: 0.2087471\ttotal: 3.39s\tremaining: 1.87s\n",
      "387:\tlearn: 0.2083691\ttotal: 3.4s\tremaining: 1.86s\n",
      "388:\tlearn: 0.2081047\ttotal: 3.41s\tremaining: 1.85s\n",
      "389:\tlearn: 0.2080327\ttotal: 3.42s\tremaining: 1.84s\n",
      "390:\tlearn: 0.2077645\ttotal: 3.43s\tremaining: 1.83s\n",
      "391:\tlearn: 0.2075063\ttotal: 3.43s\tremaining: 1.82s\n",
      "392:\tlearn: 0.2073243\ttotal: 3.44s\tremaining: 1.81s\n",
      "393:\tlearn: 0.2070994\ttotal: 3.45s\tremaining: 1.8s\n",
      "394:\tlearn: 0.2067445\ttotal: 3.46s\tremaining: 1.79s\n",
      "395:\tlearn: 0.2064264\ttotal: 3.46s\tremaining: 1.78s\n",
      "396:\tlearn: 0.2061537\ttotal: 3.47s\tremaining: 1.78s\n",
      "397:\tlearn: 0.2056195\ttotal: 3.48s\tremaining: 1.77s\n",
      "398:\tlearn: 0.2051635\ttotal: 3.49s\tremaining: 1.76s\n",
      "399:\tlearn: 0.2049455\ttotal: 3.5s\tremaining: 1.75s\n",
      "400:\tlearn: 0.2046714\ttotal: 3.51s\tremaining: 1.74s\n",
      "401:\tlearn: 0.2043091\ttotal: 3.51s\tremaining: 1.73s\n",
      "402:\tlearn: 0.2041249\ttotal: 3.52s\tremaining: 1.72s\n",
      "403:\tlearn: 0.2037829\ttotal: 3.53s\tremaining: 1.71s\n",
      "404:\tlearn: 0.2034212\ttotal: 3.54s\tremaining: 1.71s\n",
      "405:\tlearn: 0.2031327\ttotal: 3.55s\tremaining: 1.7s\n",
      "406:\tlearn: 0.2026831\ttotal: 3.56s\tremaining: 1.69s\n",
      "407:\tlearn: 0.2023934\ttotal: 3.57s\tremaining: 1.68s\n",
      "408:\tlearn: 0.2022001\ttotal: 3.58s\tremaining: 1.67s\n",
      "409:\tlearn: 0.2018530\ttotal: 3.59s\tremaining: 1.66s\n",
      "410:\tlearn: 0.2015763\ttotal: 3.6s\tremaining: 1.65s\n",
      "411:\tlearn: 0.2013452\ttotal: 3.6s\tremaining: 1.64s\n",
      "412:\tlearn: 0.2009487\ttotal: 3.61s\tremaining: 1.64s\n",
      "413:\tlearn: 0.2006527\ttotal: 3.62s\tremaining: 1.63s\n",
      "414:\tlearn: 0.2004711\ttotal: 3.63s\tremaining: 1.62s\n",
      "415:\tlearn: 0.2000468\ttotal: 3.64s\tremaining: 1.61s\n",
      "416:\tlearn: 0.1997261\ttotal: 3.64s\tremaining: 1.6s\n",
      "417:\tlearn: 0.1993314\ttotal: 3.65s\tremaining: 1.59s\n",
      "418:\tlearn: 0.1989217\ttotal: 3.66s\tremaining: 1.58s\n",
      "419:\tlearn: 0.1986546\ttotal: 3.67s\tremaining: 1.57s\n",
      "420:\tlearn: 0.1983247\ttotal: 3.68s\tremaining: 1.56s\n",
      "421:\tlearn: 0.1981400\ttotal: 3.69s\tremaining: 1.55s\n",
      "422:\tlearn: 0.1979089\ttotal: 3.69s\tremaining: 1.54s\n",
      "423:\tlearn: 0.1977237\ttotal: 3.7s\tremaining: 1.54s\n",
      "424:\tlearn: 0.1975639\ttotal: 3.71s\tremaining: 1.53s\n",
      "425:\tlearn: 0.1974345\ttotal: 3.72s\tremaining: 1.52s\n",
      "426:\tlearn: 0.1970846\ttotal: 3.72s\tremaining: 1.51s\n",
      "427:\tlearn: 0.1967260\ttotal: 3.73s\tremaining: 1.5s\n",
      "428:\tlearn: 0.1964818\ttotal: 3.74s\tremaining: 1.49s\n",
      "429:\tlearn: 0.1962233\ttotal: 3.75s\tremaining: 1.48s\n",
      "430:\tlearn: 0.1960834\ttotal: 3.76s\tremaining: 1.47s\n",
      "431:\tlearn: 0.1958744\ttotal: 3.77s\tremaining: 1.47s\n",
      "432:\tlearn: 0.1956869\ttotal: 3.78s\tremaining: 1.46s\n",
      "433:\tlearn: 0.1954118\ttotal: 3.78s\tremaining: 1.45s\n",
      "434:\tlearn: 0.1949966\ttotal: 3.79s\tremaining: 1.44s\n",
      "435:\tlearn: 0.1948211\ttotal: 3.8s\tremaining: 1.43s\n",
      "436:\tlearn: 0.1945916\ttotal: 3.81s\tremaining: 1.42s\n",
      "437:\tlearn: 0.1943619\ttotal: 3.82s\tremaining: 1.41s\n",
      "438:\tlearn: 0.1941172\ttotal: 3.83s\tremaining: 1.4s\n",
      "439:\tlearn: 0.1940024\ttotal: 3.83s\tremaining: 1.39s\n",
      "440:\tlearn: 0.1939344\ttotal: 3.84s\tremaining: 1.38s\n",
      "441:\tlearn: 0.1935822\ttotal: 3.85s\tremaining: 1.38s\n",
      "442:\tlearn: 0.1933699\ttotal: 3.86s\tremaining: 1.37s\n",
      "443:\tlearn: 0.1930597\ttotal: 3.87s\tremaining: 1.36s\n",
      "444:\tlearn: 0.1927137\ttotal: 3.87s\tremaining: 1.35s\n",
      "445:\tlearn: 0.1923496\ttotal: 3.88s\tremaining: 1.34s\n",
      "446:\tlearn: 0.1922552\ttotal: 3.89s\tremaining: 1.33s\n",
      "447:\tlearn: 0.1919817\ttotal: 3.9s\tremaining: 1.32s\n",
      "448:\tlearn: 0.1917329\ttotal: 3.91s\tremaining: 1.31s\n",
      "449:\tlearn: 0.1914146\ttotal: 3.92s\tremaining: 1.31s\n",
      "450:\tlearn: 0.1912458\ttotal: 3.93s\tremaining: 1.3s\n",
      "451:\tlearn: 0.1910001\ttotal: 3.93s\tremaining: 1.29s\n",
      "452:\tlearn: 0.1907825\ttotal: 3.95s\tremaining: 1.28s\n",
      "453:\tlearn: 0.1905987\ttotal: 3.96s\tremaining: 1.27s\n",
      "454:\tlearn: 0.1902563\ttotal: 3.97s\tremaining: 1.26s\n",
      "455:\tlearn: 0.1897849\ttotal: 3.97s\tremaining: 1.25s\n",
      "456:\tlearn: 0.1895335\ttotal: 3.98s\tremaining: 1.25s\n",
      "457:\tlearn: 0.1892091\ttotal: 3.99s\tremaining: 1.24s\n",
      "458:\tlearn: 0.1889011\ttotal: 4s\tremaining: 1.23s\n",
      "459:\tlearn: 0.1884037\ttotal: 4.01s\tremaining: 1.22s\n",
      "460:\tlearn: 0.1882220\ttotal: 4.01s\tremaining: 1.21s\n",
      "461:\tlearn: 0.1879096\ttotal: 4.02s\tremaining: 1.2s\n",
      "462:\tlearn: 0.1875186\ttotal: 4.03s\tremaining: 1.19s\n",
      "463:\tlearn: 0.1872627\ttotal: 4.04s\tremaining: 1.18s\n",
      "464:\tlearn: 0.1871434\ttotal: 4.05s\tremaining: 1.18s\n",
      "465:\tlearn: 0.1868570\ttotal: 4.06s\tremaining: 1.17s\n",
      "466:\tlearn: 0.1864250\ttotal: 4.06s\tremaining: 1.16s\n",
      "467:\tlearn: 0.1863308\ttotal: 4.07s\tremaining: 1.15s\n",
      "468:\tlearn: 0.1860921\ttotal: 4.08s\tremaining: 1.14s\n",
      "469:\tlearn: 0.1859065\ttotal: 4.09s\tremaining: 1.13s\n",
      "470:\tlearn: 0.1856390\ttotal: 4.1s\tremaining: 1.12s\n",
      "471:\tlearn: 0.1853664\ttotal: 4.11s\tremaining: 1.11s\n",
      "472:\tlearn: 0.1851059\ttotal: 4.12s\tremaining: 1.1s\n",
      "473:\tlearn: 0.1849499\ttotal: 4.13s\tremaining: 1.1s\n",
      "474:\tlearn: 0.1846264\ttotal: 4.13s\tremaining: 1.09s\n",
      "475:\tlearn: 0.1844768\ttotal: 4.14s\tremaining: 1.08s\n",
      "476:\tlearn: 0.1842577\ttotal: 4.15s\tremaining: 1.07s\n",
      "477:\tlearn: 0.1840549\ttotal: 4.16s\tremaining: 1.06s\n",
      "478:\tlearn: 0.1838752\ttotal: 4.17s\tremaining: 1.05s\n",
      "479:\tlearn: 0.1837609\ttotal: 4.17s\tremaining: 1.04s\n",
      "480:\tlearn: 0.1835980\ttotal: 4.18s\tremaining: 1.03s\n",
      "481:\tlearn: 0.1833477\ttotal: 4.19s\tremaining: 1.02s\n",
      "482:\tlearn: 0.1831953\ttotal: 4.2s\tremaining: 1.02s\n",
      "483:\tlearn: 0.1829298\ttotal: 4.21s\tremaining: 1.01s\n",
      "484:\tlearn: 0.1827639\ttotal: 4.21s\tremaining: 999ms\n",
      "485:\tlearn: 0.1826210\ttotal: 4.22s\tremaining: 990ms\n",
      "486:\tlearn: 0.1825332\ttotal: 4.23s\tremaining: 982ms\n",
      "487:\tlearn: 0.1823744\ttotal: 4.24s\tremaining: 973ms\n",
      "488:\tlearn: 0.1822254\ttotal: 4.25s\tremaining: 964ms\n",
      "489:\tlearn: 0.1819515\ttotal: 4.26s\tremaining: 956ms\n",
      "490:\tlearn: 0.1817274\ttotal: 4.26s\tremaining: 947ms\n",
      "491:\tlearn: 0.1815675\ttotal: 4.27s\tremaining: 938ms\n",
      "492:\tlearn: 0.1813854\ttotal: 4.28s\tremaining: 929ms\n"
     ]
    },
    {
     "name": "stdout",
     "output_type": "stream",
     "text": [
      "493:\tlearn: 0.1811352\ttotal: 4.29s\tremaining: 921ms\n",
      "494:\tlearn: 0.1809869\ttotal: 4.3s\tremaining: 912ms\n",
      "495:\tlearn: 0.1807675\ttotal: 4.31s\tremaining: 903ms\n",
      "496:\tlearn: 0.1805877\ttotal: 4.31s\tremaining: 894ms\n",
      "497:\tlearn: 0.1801542\ttotal: 4.32s\tremaining: 885ms\n",
      "498:\tlearn: 0.1799147\ttotal: 4.33s\tremaining: 877ms\n",
      "499:\tlearn: 0.1797692\ttotal: 4.34s\tremaining: 868ms\n",
      "500:\tlearn: 0.1796213\ttotal: 4.35s\tremaining: 859ms\n",
      "501:\tlearn: 0.1793325\ttotal: 4.36s\tremaining: 850ms\n",
      "502:\tlearn: 0.1791696\ttotal: 4.36s\tremaining: 842ms\n",
      "503:\tlearn: 0.1790583\ttotal: 4.37s\tremaining: 833ms\n",
      "504:\tlearn: 0.1787522\ttotal: 4.38s\tremaining: 824ms\n",
      "505:\tlearn: 0.1785083\ttotal: 4.39s\tremaining: 815ms\n",
      "506:\tlearn: 0.1782740\ttotal: 4.4s\tremaining: 806ms\n",
      "507:\tlearn: 0.1780725\ttotal: 4.4s\tremaining: 798ms\n",
      "508:\tlearn: 0.1780164\ttotal: 4.41s\tremaining: 789ms\n",
      "509:\tlearn: 0.1778185\ttotal: 4.42s\tremaining: 780ms\n",
      "510:\tlearn: 0.1776897\ttotal: 4.43s\tremaining: 771ms\n",
      "511:\tlearn: 0.1775833\ttotal: 4.44s\tremaining: 763ms\n",
      "512:\tlearn: 0.1774284\ttotal: 4.45s\tremaining: 754ms\n",
      "513:\tlearn: 0.1773531\ttotal: 4.45s\tremaining: 745ms\n",
      "514:\tlearn: 0.1771789\ttotal: 4.46s\tremaining: 736ms\n",
      "515:\tlearn: 0.1768936\ttotal: 4.47s\tremaining: 728ms\n",
      "516:\tlearn: 0.1766332\ttotal: 4.48s\tremaining: 719ms\n",
      "517:\tlearn: 0.1763996\ttotal: 4.49s\tremaining: 710ms\n",
      "518:\tlearn: 0.1761766\ttotal: 4.5s\tremaining: 702ms\n",
      "519:\tlearn: 0.1760585\ttotal: 4.5s\tremaining: 693ms\n",
      "520:\tlearn: 0.1759594\ttotal: 4.51s\tremaining: 684ms\n",
      "521:\tlearn: 0.1757548\ttotal: 4.52s\tremaining: 676ms\n",
      "522:\tlearn: 0.1756697\ttotal: 4.53s\tremaining: 667ms\n",
      "523:\tlearn: 0.1754617\ttotal: 4.54s\tremaining: 658ms\n",
      "524:\tlearn: 0.1753460\ttotal: 4.54s\tremaining: 649ms\n",
      "525:\tlearn: 0.1751077\ttotal: 4.55s\tremaining: 640ms\n",
      "526:\tlearn: 0.1748961\ttotal: 4.56s\tremaining: 632ms\n",
      "527:\tlearn: 0.1746437\ttotal: 4.57s\tremaining: 623ms\n",
      "528:\tlearn: 0.1745137\ttotal: 4.58s\tremaining: 614ms\n",
      "529:\tlearn: 0.1743040\ttotal: 4.58s\tremaining: 605ms\n",
      "530:\tlearn: 0.1741510\ttotal: 4.59s\tremaining: 597ms\n",
      "531:\tlearn: 0.1738818\ttotal: 4.6s\tremaining: 588ms\n",
      "532:\tlearn: 0.1737680\ttotal: 4.61s\tremaining: 579ms\n",
      "533:\tlearn: 0.1735629\ttotal: 4.62s\tremaining: 571ms\n",
      "534:\tlearn: 0.1732749\ttotal: 4.62s\tremaining: 562ms\n",
      "535:\tlearn: 0.1729771\ttotal: 4.63s\tremaining: 553ms\n",
      "536:\tlearn: 0.1727275\ttotal: 4.64s\tremaining: 544ms\n",
      "537:\tlearn: 0.1724302\ttotal: 4.65s\tremaining: 536ms\n",
      "538:\tlearn: 0.1721666\ttotal: 4.66s\tremaining: 527ms\n",
      "539:\tlearn: 0.1719691\ttotal: 4.67s\tremaining: 519ms\n",
      "540:\tlearn: 0.1717932\ttotal: 4.67s\tremaining: 510ms\n",
      "541:\tlearn: 0.1713324\ttotal: 4.68s\tremaining: 501ms\n",
      "542:\tlearn: 0.1710781\ttotal: 4.69s\tremaining: 493ms\n",
      "543:\tlearn: 0.1708833\ttotal: 4.7s\tremaining: 484ms\n",
      "544:\tlearn: 0.1706079\ttotal: 4.71s\tremaining: 475ms\n",
      "545:\tlearn: 0.1703968\ttotal: 4.71s\tremaining: 466ms\n",
      "546:\tlearn: 0.1701682\ttotal: 4.72s\tremaining: 458ms\n",
      "547:\tlearn: 0.1699570\ttotal: 4.73s\tremaining: 449ms\n",
      "548:\tlearn: 0.1696994\ttotal: 4.74s\tremaining: 440ms\n",
      "549:\tlearn: 0.1694946\ttotal: 4.75s\tremaining: 432ms\n",
      "550:\tlearn: 0.1693684\ttotal: 4.76s\tremaining: 423ms\n",
      "551:\tlearn: 0.1690464\ttotal: 4.77s\tremaining: 414ms\n",
      "552:\tlearn: 0.1689404\ttotal: 4.77s\tremaining: 406ms\n",
      "553:\tlearn: 0.1686261\ttotal: 4.78s\tremaining: 397ms\n",
      "554:\tlearn: 0.1683003\ttotal: 4.79s\tremaining: 388ms\n",
      "555:\tlearn: 0.1682368\ttotal: 4.8s\tremaining: 380ms\n",
      "556:\tlearn: 0.1680400\ttotal: 4.81s\tremaining: 371ms\n",
      "557:\tlearn: 0.1678220\ttotal: 4.82s\tremaining: 362ms\n",
      "558:\tlearn: 0.1676673\ttotal: 4.82s\tremaining: 354ms\n",
      "559:\tlearn: 0.1674638\ttotal: 4.83s\tremaining: 345ms\n",
      "560:\tlearn: 0.1672936\ttotal: 4.84s\tremaining: 336ms\n",
      "561:\tlearn: 0.1670299\ttotal: 4.85s\tremaining: 328ms\n",
      "562:\tlearn: 0.1668309\ttotal: 4.86s\tremaining: 319ms\n",
      "563:\tlearn: 0.1666836\ttotal: 4.87s\tremaining: 311ms\n",
      "564:\tlearn: 0.1664588\ttotal: 4.88s\tremaining: 302ms\n",
      "565:\tlearn: 0.1661468\ttotal: 4.88s\tremaining: 293ms\n",
      "566:\tlearn: 0.1658565\ttotal: 4.89s\tremaining: 285ms\n",
      "567:\tlearn: 0.1655994\ttotal: 4.9s\tremaining: 276ms\n",
      "568:\tlearn: 0.1653975\ttotal: 4.91s\tremaining: 267ms\n",
      "569:\tlearn: 0.1652373\ttotal: 4.92s\tremaining: 259ms\n",
      "570:\tlearn: 0.1650908\ttotal: 4.92s\tremaining: 250ms\n",
      "571:\tlearn: 0.1647172\ttotal: 4.93s\tremaining: 242ms\n",
      "572:\tlearn: 0.1644961\ttotal: 4.94s\tremaining: 233ms\n",
      "573:\tlearn: 0.1643654\ttotal: 4.95s\tremaining: 224ms\n",
      "574:\tlearn: 0.1642955\ttotal: 4.96s\tremaining: 216ms\n",
      "575:\tlearn: 0.1639875\ttotal: 4.97s\tremaining: 207ms\n",
      "576:\tlearn: 0.1638156\ttotal: 4.97s\tremaining: 198ms\n",
      "577:\tlearn: 0.1636203\ttotal: 4.98s\tremaining: 190ms\n",
      "578:\tlearn: 0.1634599\ttotal: 4.99s\tremaining: 181ms\n",
      "579:\tlearn: 0.1630285\ttotal: 5s\tremaining: 172ms\n",
      "580:\tlearn: 0.1626777\ttotal: 5s\tremaining: 164ms\n",
      "581:\tlearn: 0.1624632\ttotal: 5.01s\tremaining: 155ms\n",
      "582:\tlearn: 0.1622792\ttotal: 5.02s\tremaining: 146ms\n",
      "583:\tlearn: 0.1620717\ttotal: 5.03s\tremaining: 138ms\n",
      "584:\tlearn: 0.1619524\ttotal: 5.04s\tremaining: 129ms\n",
      "585:\tlearn: 0.1618044\ttotal: 5.05s\tremaining: 121ms\n",
      "586:\tlearn: 0.1615711\ttotal: 5.05s\tremaining: 112ms\n",
      "587:\tlearn: 0.1613906\ttotal: 5.06s\tremaining: 103ms\n",
      "588:\tlearn: 0.1612894\ttotal: 5.07s\tremaining: 94.7ms\n",
      "589:\tlearn: 0.1611168\ttotal: 5.09s\tremaining: 86.2ms\n",
      "590:\tlearn: 0.1610000\ttotal: 5.1s\tremaining: 77.7ms\n",
      "591:\tlearn: 0.1607768\ttotal: 5.11s\tremaining: 69ms\n",
      "592:\tlearn: 0.1606058\ttotal: 5.12s\tremaining: 60.4ms\n",
      "593:\tlearn: 0.1605207\ttotal: 5.13s\tremaining: 51.8ms\n",
      "594:\tlearn: 0.1602202\ttotal: 5.13s\tremaining: 43.1ms\n",
      "595:\tlearn: 0.1600027\ttotal: 5.14s\tremaining: 34.5ms\n",
      "596:\tlearn: 0.1597945\ttotal: 5.15s\tremaining: 25.9ms\n",
      "597:\tlearn: 0.1597206\ttotal: 5.16s\tremaining: 17.3ms\n",
      "598:\tlearn: 0.1596361\ttotal: 5.17s\tremaining: 8.62ms\n",
      "599:\tlearn: 0.1594995\ttotal: 5.17s\tremaining: 0us\n",
      "Для порога: 0.0\n",
      "Метрика качества: 0.5\n",
      "\n",
      "Для порога: 0.1\n",
      "Метрика качества: 0.7542292401049464\n",
      "\n",
      "Для порога: 0.2\n",
      "Метрика качества: 0.8023202472355014\n",
      "\n",
      "Для порога: 0.30000000000000004\n",
      "Метрика качества: 0.8163077244998148\n",
      "\n",
      "Для порога: 0.4\n",
      "Метрика качества: 0.8255347916364866\n",
      "\n",
      "Для порога: 0.5\n",
      "Метрика качества: 0.8219534179986157\n",
      "\n",
      "Для порога: 0.6000000000000001\n",
      "Метрика качества: 0.8112495372382378\n",
      "\n",
      "Для порога: 0.7000000000000001\n",
      "Метрика качества: 0.7864455067844898\n",
      "\n",
      "Для порога: 0.8\n",
      "Метрика качества: 0.7569052102950409\n",
      "\n",
      "Для порога: 0.9\n",
      "Метрика качества: 0.7080536642683535\n",
      "\n"
     ]
    }
   ],
   "source": [
    "model = CatBoostClassifier(class_weights=class_weights, n_estimators=600, max_depth=6, learning_rate=0.1, random_state=7)\n",
    "model.fit(X_train_2, y_train_2)\n",
    "probabilities = model.predict_proba(X_valid)\n",
    "probabilities_one = probabilities[:, 1]\n",
    "\n",
    "for threshold in np.arange(0, 1, 0.1):\n",
    "    y_predict = probabilities_one > threshold\n",
    "    print(f'Для порога: {threshold}')\n",
    "    print(f'Метрика качества: {roc_auc_score(y_valid, y_predict)}')\n",
    "    print()"
   ]
  },
  {
   "cell_type": "markdown",
   "metadata": {},
   "source": [
    "Наибольшее значение значение достигается при пороге 0.4."
   ]
  },
  {
   "cell_type": "markdown",
   "metadata": {},
   "source": [
    "#### Вывод"
   ]
  },
  {
   "cell_type": "markdown",
   "metadata": {},
   "source": [
    "В качестве борьбы с дисбалансом применим подход увеличения выборки и взвешивания классов."
   ]
  },
  {
   "cell_type": "markdown",
   "metadata": {},
   "source": [
    "## Тестирование модели"
   ]
  },
  {
   "cell_type": "code",
   "execution_count": 140,
   "metadata": {},
   "outputs": [],
   "source": [
    "final = CatBoostClassifier(class_weights=class_weights, n_estimators=600, max_depth=6, learning_rate=0.1, random_state=7, verbose=100)"
   ]
  },
  {
   "cell_type": "code",
   "execution_count": 141,
   "metadata": {},
   "outputs": [
    {
     "name": "stdout",
     "output_type": "stream",
     "text": [
      "0:\tlearn: 0.6303706\ttotal: 10.8ms\tremaining: 6.47s\n",
      "100:\tlearn: 0.2987119\ttotal: 1.22s\tremaining: 6.04s\n",
      "200:\tlearn: 0.2335087\ttotal: 2.37s\tremaining: 4.7s\n",
      "300:\tlearn: 0.1972708\ttotal: 3.5s\tremaining: 3.48s\n",
      "400:\tlearn: 0.1730989\ttotal: 4.63s\tremaining: 2.3s\n",
      "500:\tlearn: 0.1523864\ttotal: 5.76s\tremaining: 1.14s\n",
      "599:\tlearn: 0.1351886\ttotal: 6.89s\tremaining: 0us\n"
     ]
    },
    {
     "data": {
      "text/plain": [
       "<catboost.core.CatBoostClassifier at 0x1f588f86710>"
      ]
     },
     "execution_count": 141,
     "metadata": {},
     "output_type": "execute_result"
    }
   ],
   "source": [
    "final.fit(X_train_up, y_train_up)"
   ]
  },
  {
   "cell_type": "code",
   "execution_count": 142,
   "metadata": {},
   "outputs": [],
   "source": [
    "y_pred_proba = final.predict_proba(X_test)\n",
    "y_pred_proba_one = y_pred_proba[:, 1]"
   ]
  },
  {
   "cell_type": "code",
   "execution_count": 143,
   "metadata": {},
   "outputs": [
    {
     "name": "stdout",
     "output_type": "stream",
     "text": [
      "Качество модели ROC-AUC на тестовых данных 0.926\n"
     ]
    }
   ],
   "source": [
    "print(f'Качество модели ROC-AUC на тестовых данных {round(roc_auc_score(y_test, y_pred_proba_one), 3)}')"
   ]
  },
  {
   "cell_type": "code",
   "execution_count": 172,
   "metadata": {},
   "outputs": [
    {
     "name": "stdout",
     "output_type": "stream",
     "text": [
      "Качество модели accuracy на тестовых данных 0.613\n"
     ]
    }
   ],
   "source": [
    "print(f'Качество модели accuracy на тестовых данных {round(accuracy_score(y_test, y_pred_proba_one), 3)}')"
   ]
  },
  {
   "cell_type": "markdown",
   "metadata": {},
   "source": [
    "### Визуализация"
   ]
  },
  {
   "cell_type": "code",
   "execution_count": 144,
   "metadata": {},
   "outputs": [],
   "source": [
    "data_test = X_test.merge(y_test, how='inner', left_index=True, right_index=True)"
   ]
  },
  {
   "cell_type": "code",
   "execution_count": 145,
   "metadata": {},
   "outputs": [],
   "source": [
    "data_test.reset_index(drop=True, inplace=True)"
   ]
  },
  {
   "cell_type": "code",
   "execution_count": 146,
   "metadata": {},
   "outputs": [],
   "source": [
    "feat_cols = X_train.columns.tolist()\n",
    "pca = PCA(n_components=23)\n",
    "pca_result = pca.fit_transform(data_test[feat_cols].values)"
   ]
  },
  {
   "cell_type": "code",
   "execution_count": 147,
   "metadata": {},
   "outputs": [],
   "source": [
    "data_test['pca-one'] = pca_result[:,0]\n",
    "data_test['pca-two'] = pca_result[:,1]"
   ]
  },
  {
   "cell_type": "code",
   "execution_count": 148,
   "metadata": {},
   "outputs": [
    {
     "name": "stdout",
     "output_type": "stream",
     "text": [
      "[t-SNE] Computing 121 nearest neighbors...\n",
      "[t-SNE] Indexed 1407 samples in 0.016s...\n",
      "[t-SNE] Computed neighbors for 1407 samples in 0.238s...\n",
      "[t-SNE] Computed conditional probabilities for sample 1000 / 1407\n",
      "[t-SNE] Computed conditional probabilities for sample 1407 / 1407\n",
      "[t-SNE] Mean sigma: 1.224704\n",
      "[t-SNE] KL divergence after 250 iterations with early exaggeration: 55.195290\n",
      "[t-SNE] KL divergence after 300 iterations: 0.480187\n"
     ]
    }
   ],
   "source": [
    "tsne = TSNE(n_components=2, verbose=1, perplexity=40, n_iter=300)\n",
    "tsne_results = tsne.fit_transform(data_test)"
   ]
  },
  {
   "cell_type": "code",
   "execution_count": 149,
   "metadata": {},
   "outputs": [],
   "source": [
    "data_test['tsne-2d-one'] = tsne_results[:, 0]\n",
    "data_test['tsne-2d-two'] = tsne_results[:, 1]"
   ]
  },
  {
   "cell_type": "code",
   "execution_count": 150,
   "metadata": {},
   "outputs": [
    {
     "data": {
      "text/html": [
       "<div>\n",
       "<style scoped>\n",
       "    .dataframe tbody tr th:only-of-type {\n",
       "        vertical-align: middle;\n",
       "    }\n",
       "\n",
       "    .dataframe tbody tr th {\n",
       "        vertical-align: top;\n",
       "    }\n",
       "\n",
       "    .dataframe thead th {\n",
       "        text-align: right;\n",
       "    }\n",
       "</style>\n",
       "<table border=\"1\" class=\"dataframe\">\n",
       "  <thead>\n",
       "    <tr style=\"text-align: right;\">\n",
       "      <th></th>\n",
       "      <th>paperless_billing</th>\n",
       "      <th>monthly_charges</th>\n",
       "      <th>total_charges</th>\n",
       "      <th>online_security</th>\n",
       "      <th>online_backup</th>\n",
       "      <th>device_protection</th>\n",
       "      <th>tech_support</th>\n",
       "      <th>streaming_tv</th>\n",
       "      <th>streaming_movies</th>\n",
       "      <th>gender</th>\n",
       "      <th>...</th>\n",
       "      <th>payment_method_Electronic check</th>\n",
       "      <th>payment_method_Mailed check</th>\n",
       "      <th>internet_service_DSL</th>\n",
       "      <th>internet_service_Fiber optic</th>\n",
       "      <th>label</th>\n",
       "      <th>target</th>\n",
       "      <th>pca-one</th>\n",
       "      <th>pca-two</th>\n",
       "      <th>tsne-2d-one</th>\n",
       "      <th>tsne-2d-two</th>\n",
       "    </tr>\n",
       "  </thead>\n",
       "  <tbody>\n",
       "    <tr>\n",
       "      <th>0</th>\n",
       "      <td>0.832927</td>\n",
       "      <td>0.677818</td>\n",
       "      <td>1.199030</td>\n",
       "      <td>0.529021</td>\n",
       "      <td>0.529021</td>\n",
       "      <td>0.529021</td>\n",
       "      <td>0.529021</td>\n",
       "      <td>0.529021</td>\n",
       "      <td>0.529021</td>\n",
       "      <td>0.0</td>\n",
       "      <td>...</td>\n",
       "      <td>1.413083</td>\n",
       "      <td>-0.548250</td>\n",
       "      <td>1.374971</td>\n",
       "      <td>-0.878121</td>\n",
       "      <td>1.564910</td>\n",
       "      <td>0</td>\n",
       "      <td>-1.639999</td>\n",
       "      <td>1.079507</td>\n",
       "      <td>1.707181</td>\n",
       "      <td>6.430912</td>\n",
       "    </tr>\n",
       "    <tr>\n",
       "      <th>1</th>\n",
       "      <td>0.832927</td>\n",
       "      <td>0.709358</td>\n",
       "      <td>0.644359</td>\n",
       "      <td>0.529021</td>\n",
       "      <td>0.529021</td>\n",
       "      <td>0.529021</td>\n",
       "      <td>0.529021</td>\n",
       "      <td>0.529021</td>\n",
       "      <td>0.529021</td>\n",
       "      <td>0.0</td>\n",
       "      <td>...</td>\n",
       "      <td>-0.707673</td>\n",
       "      <td>-0.548250</td>\n",
       "      <td>-0.727288</td>\n",
       "      <td>1.138796</td>\n",
       "      <td>-1.348900</td>\n",
       "      <td>0</td>\n",
       "      <td>-1.556488</td>\n",
       "      <td>0.872959</td>\n",
       "      <td>-5.316369</td>\n",
       "      <td>-7.152475</td>\n",
       "    </tr>\n",
       "    <tr>\n",
       "      <th>2</th>\n",
       "      <td>0.832927</td>\n",
       "      <td>0.226305</td>\n",
       "      <td>-0.972409</td>\n",
       "      <td>0.529021</td>\n",
       "      <td>0.529021</td>\n",
       "      <td>0.529021</td>\n",
       "      <td>0.529021</td>\n",
       "      <td>0.529021</td>\n",
       "      <td>0.529021</td>\n",
       "      <td>0.0</td>\n",
       "      <td>...</td>\n",
       "      <td>-0.707673</td>\n",
       "      <td>1.823985</td>\n",
       "      <td>-0.727288</td>\n",
       "      <td>1.138796</td>\n",
       "      <td>0.108005</td>\n",
       "      <td>1</td>\n",
       "      <td>-0.877603</td>\n",
       "      <td>-1.271004</td>\n",
       "      <td>-16.594154</td>\n",
       "      <td>-5.762411</td>\n",
       "    </tr>\n",
       "    <tr>\n",
       "      <th>3</th>\n",
       "      <td>0.832927</td>\n",
       "      <td>0.883655</td>\n",
       "      <td>1.144959</td>\n",
       "      <td>0.529021</td>\n",
       "      <td>0.529021</td>\n",
       "      <td>0.529021</td>\n",
       "      <td>0.529021</td>\n",
       "      <td>0.529021</td>\n",
       "      <td>0.529021</td>\n",
       "      <td>0.0</td>\n",
       "      <td>...</td>\n",
       "      <td>1.413083</td>\n",
       "      <td>-0.548250</td>\n",
       "      <td>-0.727288</td>\n",
       "      <td>1.138796</td>\n",
       "      <td>1.564910</td>\n",
       "      <td>0</td>\n",
       "      <td>-2.187170</td>\n",
       "      <td>1.565823</td>\n",
       "      <td>13.663983</td>\n",
       "      <td>-10.507627</td>\n",
       "    </tr>\n",
       "    <tr>\n",
       "      <th>4</th>\n",
       "      <td>-1.200586</td>\n",
       "      <td>0.797337</td>\n",
       "      <td>1.807793</td>\n",
       "      <td>0.529021</td>\n",
       "      <td>0.529021</td>\n",
       "      <td>0.529021</td>\n",
       "      <td>0.529021</td>\n",
       "      <td>0.529021</td>\n",
       "      <td>0.529021</td>\n",
       "      <td>0.0</td>\n",
       "      <td>...</td>\n",
       "      <td>-0.707673</td>\n",
       "      <td>-0.548250</td>\n",
       "      <td>1.374971</td>\n",
       "      <td>-0.878121</td>\n",
       "      <td>1.564910</td>\n",
       "      <td>0</td>\n",
       "      <td>-1.247283</td>\n",
       "      <td>2.345615</td>\n",
       "      <td>4.292529</td>\n",
       "      <td>4.324867</td>\n",
       "    </tr>\n",
       "  </tbody>\n",
       "</table>\n",
       "<p>5 rows × 28 columns</p>\n",
       "</div>"
      ],
      "text/plain": [
       "   paperless_billing  monthly_charges  total_charges  online_security  \\\n",
       "0           0.832927         0.677818       1.199030         0.529021   \n",
       "1           0.832927         0.709358       0.644359         0.529021   \n",
       "2           0.832927         0.226305      -0.972409         0.529021   \n",
       "3           0.832927         0.883655       1.144959         0.529021   \n",
       "4          -1.200586         0.797337       1.807793         0.529021   \n",
       "\n",
       "   online_backup  device_protection  tech_support  streaming_tv  \\\n",
       "0       0.529021           0.529021      0.529021      0.529021   \n",
       "1       0.529021           0.529021      0.529021      0.529021   \n",
       "2       0.529021           0.529021      0.529021      0.529021   \n",
       "3       0.529021           0.529021      0.529021      0.529021   \n",
       "4       0.529021           0.529021      0.529021      0.529021   \n",
       "\n",
       "   streaming_movies  gender  ...  payment_method_Electronic check  \\\n",
       "0          0.529021     0.0  ...                         1.413083   \n",
       "1          0.529021     0.0  ...                        -0.707673   \n",
       "2          0.529021     0.0  ...                        -0.707673   \n",
       "3          0.529021     0.0  ...                         1.413083   \n",
       "4          0.529021     0.0  ...                        -0.707673   \n",
       "\n",
       "   payment_method_Mailed check  internet_service_DSL  \\\n",
       "0                    -0.548250              1.374971   \n",
       "1                    -0.548250             -0.727288   \n",
       "2                     1.823985             -0.727288   \n",
       "3                    -0.548250             -0.727288   \n",
       "4                    -0.548250              1.374971   \n",
       "\n",
       "   internet_service_Fiber optic     label  target   pca-one   pca-two  \\\n",
       "0                     -0.878121  1.564910       0 -1.639999  1.079507   \n",
       "1                      1.138796 -1.348900       0 -1.556488  0.872959   \n",
       "2                      1.138796  0.108005       1 -0.877603 -1.271004   \n",
       "3                      1.138796  1.564910       0 -2.187170  1.565823   \n",
       "4                     -0.878121  1.564910       0 -1.247283  2.345615   \n",
       "\n",
       "   tsne-2d-one  tsne-2d-two  \n",
       "0     1.707181     6.430912  \n",
       "1    -5.316369    -7.152475  \n",
       "2   -16.594154    -5.762411  \n",
       "3    13.663983   -10.507627  \n",
       "4     4.292529     4.324867  \n",
       "\n",
       "[5 rows x 28 columns]"
      ]
     },
     "execution_count": 150,
     "metadata": {},
     "output_type": "execute_result"
    }
   ],
   "source": [
    "data_test.head(5)"
   ]
  },
  {
   "cell_type": "code",
   "execution_count": 151,
   "metadata": {},
   "outputs": [],
   "source": [
    "data_test.loc[data_test['target'] == 0, 'target'] = '0'\n",
    "data_test.loc[data_test['target'] == 1, 'target'] = '1'"
   ]
  },
  {
   "cell_type": "code",
   "execution_count": 158,
   "metadata": {},
   "outputs": [
    {
     "data": {
      "image/png": "[encoded data removed]",
      "text/plain": [
       "<Figure size 1080x720 with 1 Axes>"
      ]
     },
     "metadata": {},
     "output_type": "display_data"
    }
   ],
   "source": [
    "fig, ax = plt.subplots(nrows=1, ncols=1, figsize=(15, 10))\n",
    "sns.scatterplot(\n",
    "    x=\"tsne-2d-one\",\n",
    "    y=\"tsne-2d-two\",\n",
    "    hue='target',\n",
    "    palette=sns.color_palette(\"hls\", 2),\n",
    "    data=data_test,\n",
    "    legend=\"full\"\n",
    ")\n",
    "plt.show()"
   ]
  },
  {
   "cell_type": "markdown",
   "metadata": {},
   "source": [
    "### Важность признаков"
   ]
  },
  {
   "cell_type": "markdown",
   "metadata": {},
   "source": [
    "https://towardsdatascience.com/deep-dive-into-catboost-functionalities-for-model-interpretation-7cdef669aeed"
   ]
  },
  {
   "cell_type": "code",
   "execution_count": 164,
   "metadata": {},
   "outputs": [],
   "source": [
    "feature_importances = pd.DataFrame(np.transpose(abs(final.get_feature_importance(type='FeatureImportance'))), index=feat_cols, columns=['weight_of_features'])"
   ]
  },
  {
   "cell_type": "code",
   "execution_count": 165,
   "metadata": {},
   "outputs": [],
   "source": [
    "feature_importances = feature_importances.sort_values(by='weight_of_features', ascending=False)"
   ]
  },
  {
   "cell_type": "code",
   "execution_count": 166,
   "metadata": {},
   "outputs": [
    {
     "data": {
      "text/html": [
       "<div>\n",
       "<style scoped>\n",
       "    .dataframe tbody tr th:only-of-type {\n",
       "        vertical-align: middle;\n",
       "    }\n",
       "\n",
       "    .dataframe tbody tr th {\n",
       "        vertical-align: top;\n",
       "    }\n",
       "\n",
       "    .dataframe thead th {\n",
       "        text-align: right;\n",
       "    }\n",
       "</style>\n",
       "<table border=\"1\" class=\"dataframe\">\n",
       "  <thead>\n",
       "    <tr style=\"text-align: right;\">\n",
       "      <th></th>\n",
       "      <th>weight_of_features</th>\n",
       "    </tr>\n",
       "  </thead>\n",
       "  <tbody>\n",
       "    <tr>\n",
       "      <th>lifetime</th>\n",
       "      <td>54.415416</td>\n",
       "    </tr>\n",
       "    <tr>\n",
       "      <th>total_charges</th>\n",
       "      <td>12.783609</td>\n",
       "    </tr>\n",
       "    <tr>\n",
       "      <th>monthly_charges</th>\n",
       "      <td>12.148991</td>\n",
       "    </tr>\n",
       "    <tr>\n",
       "      <th>type_Two year</th>\n",
       "      <td>3.528384</td>\n",
       "    </tr>\n",
       "    <tr>\n",
       "      <th>type_One year</th>\n",
       "      <td>2.773645</td>\n",
       "    </tr>\n",
       "    <tr>\n",
       "      <th>senior_citizen</th>\n",
       "      <td>2.058388</td>\n",
       "    </tr>\n",
       "    <tr>\n",
       "      <th>paperless_billing</th>\n",
       "      <td>1.991586</td>\n",
       "    </tr>\n",
       "    <tr>\n",
       "      <th>payment_method_Mailed check</th>\n",
       "      <td>1.599256</td>\n",
       "    </tr>\n",
       "    <tr>\n",
       "      <th>payment_method_Electronic check</th>\n",
       "      <td>1.591488</td>\n",
       "    </tr>\n",
       "    <tr>\n",
       "      <th>internet_service_Fiber optic</th>\n",
       "      <td>1.442721</td>\n",
       "    </tr>\n",
       "    <tr>\n",
       "      <th>label</th>\n",
       "      <td>1.418941</td>\n",
       "    </tr>\n",
       "    <tr>\n",
       "      <th>payment_method_Credit card (automatic)</th>\n",
       "      <td>1.115381</td>\n",
       "    </tr>\n",
       "    <tr>\n",
       "      <th>multiple_lines</th>\n",
       "      <td>0.929859</td>\n",
       "    </tr>\n",
       "    <tr>\n",
       "      <th>internet_service_DSL</th>\n",
       "      <td>0.909800</td>\n",
       "    </tr>\n",
       "    <tr>\n",
       "      <th>online_security</th>\n",
       "      <td>0.286094</td>\n",
       "    </tr>\n",
       "    <tr>\n",
       "      <th>streaming_movies</th>\n",
       "      <td>0.277430</td>\n",
       "    </tr>\n",
       "    <tr>\n",
       "      <th>device_protection</th>\n",
       "      <td>0.269721</td>\n",
       "    </tr>\n",
       "    <tr>\n",
       "      <th>tech_support</th>\n",
       "      <td>0.186703</td>\n",
       "    </tr>\n",
       "    <tr>\n",
       "      <th>online_backup</th>\n",
       "      <td>0.155424</td>\n",
       "    </tr>\n",
       "    <tr>\n",
       "      <th>streaming_tv</th>\n",
       "      <td>0.117163</td>\n",
       "    </tr>\n",
       "    <tr>\n",
       "      <th>gender</th>\n",
       "      <td>0.000000</td>\n",
       "    </tr>\n",
       "    <tr>\n",
       "      <th>dependents</th>\n",
       "      <td>0.000000</td>\n",
       "    </tr>\n",
       "    <tr>\n",
       "      <th>partner</th>\n",
       "      <td>0.000000</td>\n",
       "    </tr>\n",
       "  </tbody>\n",
       "</table>\n",
       "</div>"
      ],
      "text/plain": [
       "                                        weight_of_features\n",
       "lifetime                                         54.415416\n",
       "total_charges                                    12.783609\n",
       "monthly_charges                                  12.148991\n",
       "type_Two year                                     3.528384\n",
       "type_One year                                     2.773645\n",
       "senior_citizen                                    2.058388\n",
       "paperless_billing                                 1.991586\n",
       "payment_method_Mailed check                       1.599256\n",
       "payment_method_Electronic check                   1.591488\n",
       "internet_service_Fiber optic                      1.442721\n",
       "label                                             1.418941\n",
       "payment_method_Credit card (automatic)            1.115381\n",
       "multiple_lines                                    0.929859\n",
       "internet_service_DSL                              0.909800\n",
       "online_security                                   0.286094\n",
       "streaming_movies                                  0.277430\n",
       "device_protection                                 0.269721\n",
       "tech_support                                      0.186703\n",
       "online_backup                                     0.155424\n",
       "streaming_tv                                      0.117163\n",
       "gender                                            0.000000\n",
       "dependents                                        0.000000\n",
       "partner                                           0.000000"
      ]
     },
     "execution_count": 166,
     "metadata": {},
     "output_type": "execute_result"
    }
   ],
   "source": [
    "feature_importances"
   ]
  },
  {
   "cell_type": "code",
   "execution_count": 167,
   "metadata": {},
   "outputs": [
    {
     "data": {
      "image/png": "[encoded data removed]",
      "text/plain": [
       "<Figure size 2160x1080 with 1 Axes>"
      ]
     },
     "metadata": {},
     "output_type": "display_data"
    }
   ],
   "source": [
    "fig, ax = plt.subplots(nrows=1, ncols=1, figsize=(30, 15))\n",
    "sns.barplot(x=feature_importances.index, y=feature_importances['weight_of_features'], data=feature_importances, color='blue', ax=ax)\n",
    "plt.xticks(rotation=90)\n",
    "plt.show()"
   ]
  },
  {
   "cell_type": "markdown",
   "metadata": {},
   "source": [
    "#### Вывод"
   ]
  },
  {
   "cell_type": "markdown",
   "metadata": {},
   "source": [
    "Видим на графике, визуализирующем тестовые объекты, кластер голубого цвета (внизу немного слева), в котором находятся только клиенты, которые покинули компанию. Наиболее важными признаками оказались:\n",
    "- lifetime;\n",
    "- total_charges;\n",
    "- monthly_charges;\n",
    "- type_Two_year;\n",
    "- type_One_year."
   ]
  },
  {
   "cell_type": "markdown",
   "metadata": {},
   "source": [
    "## Проверка модели на адекватность"
   ]
  },
  {
   "cell_type": "code",
   "execution_count": 170,
   "metadata": {},
   "outputs": [
    {
     "name": "stdout",
     "output_type": "stream",
     "text": [
      "Dummy Classifier (на тесте): 0.5051845066597077\n"
     ]
    }
   ],
   "source": [
    "dc = DummyClassifier()\n",
    "dc = dc.fit(X_train, y_train)\n",
    "y_pred_proba = dc.predict_proba(X_test)\n",
    "y_pred_proba_one = y_pred_proba[:, 1]\n",
    "print(f'Dummy Classifier (на тесте): {roc_auc_score(y_pred_proba_one, y_test)}')"
   ]
  },
  {
   "cell_type": "markdown",
   "metadata": {},
   "source": [
    "#### Вывод"
   ]
  },
  {
   "cell_type": "markdown",
   "metadata": {},
   "source": [
    "Наша модель явно лучше, чем константная дамми-модель."
   ]
  },
  {
   "cell_type": "markdown",
   "metadata": {},
   "source": [
    "## Вывод"
   ]
  },
  {
   "cell_type": "markdown",
   "metadata": {},
   "source": [
    "Получили модель Cat Boost, имеющей метрики качества на тестовых данных:\n",
    "- ROC-AUC: 0.926;\n",
    "- accuracy: 0.613."
   ]
  },
  {
   "cell_type": "markdown",
   "metadata": {},
   "source": [
    "## Сохранение модели"
   ]
  },
  {
   "cell_type": "code",
   "execution_count": 175,
   "metadata": {},
   "outputs": [],
   "source": [
    "path = \"C:/Users/kiril/OneDrive/Рабочий стол/Дата Саенс/Проекты (в процессе)/Финальный проект/модель\""
   ]
  },
  {
   "cell_type": "code",
   "execution_count": null,
   "metadata": {},
   "outputs": [],
   "source": [
    "joblib.dump(final, filename=path)"
   ]
  },
  {
   "cell_type": "code",
   "execution_count": null,
   "metadata": {},
   "outputs": [],
   "source": []
  }
 ],
 "metadata": {
  "kernelspec": {
   "display_name": "Python 3",
   "language": "python",
   "name": "python3"
  },
  "language_info": {
   "codemirror_mode": {
    "name": "ipython",
    "version": 3
   },
   "file_extension": ".py",
   "mimetype": "text/x-python",
   "name": "python",
   "nbconvert_exporter": "python",
   "pygments_lexer": "ipython3",
   "version": "3.6.10"
  }
 },
 "nbformat": 4,
 "nbformat_minor": 4
}
