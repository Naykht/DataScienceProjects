{
 "cells": [
  {
   "cell_type": "markdown",
   "metadata": {
    "id": "-hfpIbb9tKwK"
   },
   "source": [
    "# Домашнее задание 3. \n",
    "\n",
    "## Предсказание пользовательской оценки отеля по тексту отзыва."
   ]
  },
  {
   "cell_type": "markdown",
   "metadata": {
    "id": "ptx3laQdtKwS"
   },
   "source": [
    "Мы собрали для вас отзывы по 1500 отелям из совершенно разных уголков мира. Что это за отели - секрет. Вам дан текст отзыва и пользовательская оценка отеля. Ваша задача - научиться предсказывать оценку отеля по отзыву. Данные можно скачать [тут](https://www.kaggle.com/c/hseds-texts-2020/data?select=train.csv)."
   ]
  },
  {
   "cell_type": "markdown",
   "metadata": {
    "id": "wGn2fqBctKwT"
   },
   "source": [
    "Главная метрика - Mean Absolute Error (MAE). Во всех частях домашней работы вам нужно получить значение MAE не превышающее 1. В противном случае мы будем вынуждены не засчитать задание :( "
   ]
  },
  {
   "cell_type": "markdown",
   "metadata": {
    "id": "uRtZUI1DtKwT"
   },
   "source": [
    "Для измерения качества вашей модели используйте разбиение данных на train и test и замеряйте качество на тестовой части."
   ]
  },
  {
   "cell_type": "markdown",
   "metadata": {
    "id": "X5ZPC-aStKwT"
   },
   "source": [
    "#### Про данные:\n",
    "Каждое ревью состоит из двух текстов: positive и negative - плюсы и минусы отеля. В столбце score находится оценка пользователя - вещественное число 0 до 10. Вам нужно извлечь признаки из этих текстов и предсказать по ним оценку."
   ]
  },
  {
   "cell_type": "markdown",
   "metadata": {
    "id": "wk98pttntKwU"
   },
   "source": [
    "Удачи! 💪"
   ]
  },
  {
   "cell_type": "markdown",
   "metadata": {
    "id": "nlEnSxs-tKwU"
   },
   "source": [
    "#### Использовать внешние данные для обучения строго запрещено. Можно использовать предобученные модели из torchvision."
   ]
  },
  {
   "cell_type": "code",
   "execution_count": 1,
   "metadata": {
    "colab": {
     "base_uri": "https://localhost:8080/"
    },
    "id": "OKHvZL0lewaQ",
    "outputId": "8a230589-6dfb-448d-cf0b-4d61d82890a1"
   },
   "outputs": [
    {
     "name": "stdout",
     "output_type": "stream",
     "text": [
      "--2020-12-21 01:29:17--  https://www.dropbox.com/s/ide2hj0nzk8mlw2/hseds-texts-2020.zip\n",
      "Resolving www.dropbox.com (www.dropbox.com)... 162.125.3.18, 2620:100:601b:18::a27d:812\n",
      "Connecting to www.dropbox.com (www.dropbox.com)|162.125.3.18|:443... connected.\n",
      "HTTP request sent, awaiting response... 301 Moved Permanently\n",
      "Location: /s/raw/ide2hj0nzk8mlw2/hseds-texts-2020.zip [following]\n",
      "--2020-12-21 01:29:17--  https://www.dropbox.com/s/raw/ide2hj0nzk8mlw2/hseds-texts-2020.zip\n",
      "Reusing existing connection to www.dropbox.com:443.\n",
      "HTTP request sent, awaiting response... 302 Found\n",
      "Location: https://uc2a92c1b490c577b7cce7c37da0.dl.dropboxusercontent.com/cd/0/inline/BFevpc8P3WD0lGhh-ved0YJ3rqUfguZEOpmjbKiaRizGXYUKiTd4S_PIbDp6qBjsCLNDzB4OuShJUH_Z17gkvKTo8xvwnyeLEss_98geWE5x9e0vppmrGRPXUsLCRut6R-o/file# [following]\n",
      "--2020-12-21 01:29:17--  https://uc2a92c1b490c577b7cce7c37da0.dl.dropboxusercontent.com/cd/0/inline/BFevpc8P3WD0lGhh-ved0YJ3rqUfguZEOpmjbKiaRizGXYUKiTd4S_PIbDp6qBjsCLNDzB4OuShJUH_Z17gkvKTo8xvwnyeLEss_98geWE5x9e0vppmrGRPXUsLCRut6R-o/file\n",
      "Resolving uc2a92c1b490c577b7cce7c37da0.dl.dropboxusercontent.com (uc2a92c1b490c577b7cce7c37da0.dl.dropboxusercontent.com)... 162.125.3.15, 2620:100:601b:15::a27d:80f\n",
      "Connecting to uc2a92c1b490c577b7cce7c37da0.dl.dropboxusercontent.com (uc2a92c1b490c577b7cce7c37da0.dl.dropboxusercontent.com)|162.125.3.15|:443... connected.\n",
      "HTTP request sent, awaiting response... 302 Found\n",
      "Location: /cd/0/inline2/BFeWt9lPa1-3yLEREgBgTSwg0WzNj9cSIuLaFQs5yPxUNCh_yxu9Hhm8UybK-WXLUMWQ6UR2HytPc4QYBWhkLmeZDSo5LJyfFd9U05GiSdA07eN9P-T7Oa5XcZQ5StDwl3JD2mu6fq2tS08B_egv06YIPeyHiTaerlwsOOmU89BjXX_IWYkDveL4RaQ5irFNtMK8rcUoSN1YPmj7R6dmoO83nQTGGYTtXGbyfKPa4A-MVY7fXy78UMPPG_Us3HOyfSSxLo6p2yuZAi6Vmc95zg1ArIo8SxCR60YbIZNK_ULAnsYjN5VTNoaqIP2c5c_yvRJkQlmQ3UFHZevRTW07KdzihJlkUpE-BA7e9h_KsGQIiA/file [following]\n",
      "--2020-12-21 01:29:18--  https://uc2a92c1b490c577b7cce7c37da0.dl.dropboxusercontent.com/cd/0/inline2/BFeWt9lPa1-3yLEREgBgTSwg0WzNj9cSIuLaFQs5yPxUNCh_yxu9Hhm8UybK-WXLUMWQ6UR2HytPc4QYBWhkLmeZDSo5LJyfFd9U05GiSdA07eN9P-T7Oa5XcZQ5StDwl3JD2mu6fq2tS08B_egv06YIPeyHiTaerlwsOOmU89BjXX_IWYkDveL4RaQ5irFNtMK8rcUoSN1YPmj7R6dmoO83nQTGGYTtXGbyfKPa4A-MVY7fXy78UMPPG_Us3HOyfSSxLo6p2yuZAi6Vmc95zg1ArIo8SxCR60YbIZNK_ULAnsYjN5VTNoaqIP2c5c_yvRJkQlmQ3UFHZevRTW07KdzihJlkUpE-BA7e9h_KsGQIiA/file\n",
      "Reusing existing connection to uc2a92c1b490c577b7cce7c37da0.dl.dropboxusercontent.com:443.\n",
      "HTTP request sent, awaiting response... 200 OK\n",
      "Length: 11417727 (11M) [application/zip]\n",
      "Saving to: ‘hseds-texts-2020.zip.1’\n",
      "\n",
      "hseds-texts-2020.zi 100%[===================>]  10.89M  40.9MB/s    in 0.3s    \n",
      "\n",
      "2020-12-21 01:29:19 (40.9 MB/s) - ‘hseds-texts-2020.zip.1’ saved [11417727/11417727]\n",
      "\n",
      "replace sample_submission(1).csv? [y]es, [n]o, [A]ll, [N]one, [r]ename: n\n",
      "replace test.csv? [y]es, [n]o, [A]ll, [N]one, [r]ename: n\n",
      "replace train.csv? [y]es, [n]o, [A]ll, [N]one, [r]ename: n\n",
      "total 49704\n",
      "-rw-r--r-- 1 root root 11417727 Dec 20 21:43  hseds-texts-2020.zip\n",
      "-rw-r--r-- 1 root root 11417727 Dec 21 01:29  hseds-texts-2020.zip.1\n",
      "drwxr-xr-x 1 root root     4096 Dec  2 22:04  sample_data\n",
      "-rw-r--r-- 1 root root   740016 Oct 12 11:12 'sample_submission(1).csv'\n",
      "-rw-r--r-- 1 root root  4497121 Oct 12 11:12  test.csv\n",
      "-rw-r--r-- 1 root root 22811739 Oct 12 11:12  train.csv\n"
     ]
    }
   ],
   "source": [
    "!wget https://www.dropbox.com/s/ide2hj0nzk8mlw2/hseds-texts-2020.zip\n",
    "!unzip -q hseds-texts-2020.zip\n",
    "!ls -l"
   ]
  },
  {
   "cell_type": "code",
   "execution_count": 64,
   "metadata": {
    "colab": {
     "base_uri": "https://localhost:8080/"
    },
    "id": "N8y9ECoofYRU",
    "outputId": "26e988fd-3a4d-42d7-c6f8-b0918233c564"
   },
   "outputs": [
    {
     "name": "stdout",
     "output_type": "stream",
     "text": [
      "[nltk_data] Downloading package punkt to /root/nltk_data...\n",
      "[nltk_data]   Package punkt is already up-to-date!\n",
      "[nltk_data] Downloading package wordnet to /root/nltk_data...\n",
      "[nltk_data]   Package wordnet is already up-to-date!\n",
      "[nltk_data] Downloading package stopwords to /root/nltk_data...\n",
      "[nltk_data]   Package stopwords is already up-to-date!\n"
     ]
    }
   ],
   "source": [
    "import torch\n",
    "import pandas as pd\n",
    "import numpy as np\n",
    "import matplotlib.pyplot as plt\n",
    "import seaborn as sns\n",
    "\n",
    "import string\n",
    "import nltk\n",
    "nltk.download('punkt')\n",
    "from nltk.tokenize import word_tokenize\n",
    "nltk.download('wordnet')\n",
    "nltk.download('stopwords')\n",
    "from nltk.stem import WordNetLemmatizer \n",
    "from nltk.corpus import stopwords\n",
    "\n",
    "from sklearn.model_selection import train_test_split\n",
    "\n",
    "from sklearn.feature_extraction.text import TfidfVectorizer\n",
    "from sklearn.linear_model import LinearRegression\n",
    "from sklearn.linear_model import LogisticRegression\n",
    "from sklearn.linear_model import SGDRegressor\n",
    "from sklearn.linear_model import Ridge, RidgeCV\n",
    "from sklearn.metrics import mean_absolute_error\n",
    "\n",
    "from gensim.models import Word2Vec\n",
    "from sklearn.feature_extraction.text import CountVectorizer"
   ]
  },
  {
   "cell_type": "code",
   "execution_count": 3,
   "metadata": {
    "id": "X2B9lcIwtKwV"
   },
   "outputs": [],
   "source": [
    "PATH_TO_TRAIN_DATA = './train.csv'"
   ]
  },
  {
   "cell_type": "code",
   "execution_count": 4,
   "metadata": {
    "colab": {
     "base_uri": "https://localhost:8080/",
     "height": 194
    },
    "id": "Ue2jdBCntKwV",
    "outputId": "286a90da-ba24-49a2-fcba-42f36eca3bdb"
   },
   "outputs": [
    {
     "data": {
      "text/html": [
       "<div>\n",
       "<style scoped>\n",
       "    .dataframe tbody tr th:only-of-type {\n",
       "        vertical-align: middle;\n",
       "    }\n",
       "\n",
       "    .dataframe tbody tr th {\n",
       "        vertical-align: top;\n",
       "    }\n",
       "\n",
       "    .dataframe thead th {\n",
       "        text-align: right;\n",
       "    }\n",
       "</style>\n",
       "<table border=\"1\" class=\"dataframe\">\n",
       "  <thead>\n",
       "    <tr style=\"text-align: right;\">\n",
       "      <th></th>\n",
       "      <th>review_id</th>\n",
       "      <th>negative</th>\n",
       "      <th>positive</th>\n",
       "      <th>score</th>\n",
       "    </tr>\n",
       "  </thead>\n",
       "  <tbody>\n",
       "    <tr>\n",
       "      <th>0</th>\n",
       "      <td>00003c6036f30f590c0ac435efb8739b</td>\n",
       "      <td>There were issues with the wifi connection</td>\n",
       "      <td>No Positive</td>\n",
       "      <td>7.1</td>\n",
       "    </tr>\n",
       "    <tr>\n",
       "      <th>1</th>\n",
       "      <td>00004d18f186bf2489590dc415876f73</td>\n",
       "      <td>TV not working</td>\n",
       "      <td>No Positive</td>\n",
       "      <td>7.5</td>\n",
       "    </tr>\n",
       "    <tr>\n",
       "      <th>2</th>\n",
       "      <td>0000cf900cbb8667fad33a717e9b1cf4</td>\n",
       "      <td>More pillows</td>\n",
       "      <td>Beautiful room Great location Lovely staff</td>\n",
       "      <td>10.0</td>\n",
       "    </tr>\n",
       "    <tr>\n",
       "      <th>3</th>\n",
       "      <td>0000df16edf19e7ad9dd8c5cd6f6925e</td>\n",
       "      <td>Very business</td>\n",
       "      <td>Location</td>\n",
       "      <td>5.4</td>\n",
       "    </tr>\n",
       "    <tr>\n",
       "      <th>4</th>\n",
       "      <td>00025e1aa3ac32edb496db49e76bbd00</td>\n",
       "      <td>Rooms could do with a bit of a refurbishment ...</td>\n",
       "      <td>Nice breakfast handy for Victoria train stati...</td>\n",
       "      <td>6.7</td>\n",
       "    </tr>\n",
       "  </tbody>\n",
       "</table>\n",
       "</div>"
      ],
      "text/plain": [
       "                          review_id  ... score\n",
       "0  00003c6036f30f590c0ac435efb8739b  ...   7.1\n",
       "1  00004d18f186bf2489590dc415876f73  ...   7.5\n",
       "2  0000cf900cbb8667fad33a717e9b1cf4  ...  10.0\n",
       "3  0000df16edf19e7ad9dd8c5cd6f6925e  ...   5.4\n",
       "4  00025e1aa3ac32edb496db49e76bbd00  ...   6.7\n",
       "\n",
       "[5 rows x 4 columns]"
      ]
     },
     "execution_count": 4,
     "metadata": {
      "tags": []
     },
     "output_type": "execute_result"
    }
   ],
   "source": [
    "df = pd.read_csv(PATH_TO_TRAIN_DATA)\n",
    "df.head()"
   ]
  },
  {
   "cell_type": "markdown",
   "metadata": {
    "id": "5ElLiOD0tKwX"
   },
   "source": [
    "Предобработка текста может сказываться на качестве вашей модели.\n",
    "Сделаем небольшой препроцессинг текстов: удалим знаки препинания, приведем все слова к нижнему регистру. \n",
    "Однако можно не ограничиваться этим набором преобразований. Подумайте, что еще можно сделать с текстами, чтобы помочь будущим моделям? Добавьте преобразования, которые могли бы помочь по вашему мнению."
   ]
  },
  {
   "cell_type": "markdown",
   "metadata": {
    "id": "HeUDpvbVtKwX"
   },
   "source": [
    "Также мы добавили разбиение текстов на токены. Теперь каждая строка-ревью стала массивом токенов."
   ]
  },
  {
   "cell_type": "code",
   "execution_count": 5,
   "metadata": {
    "id": "nxvEGo4ntKwY"
   },
   "outputs": [],
   "source": [
    "lemmatizer = WordNetLemmatizer()\n",
    "stop_words = set(stopwords.words('english'))\n",
    "\n",
    "def process_text(text):\n",
    "    return [lemmatizer.lemmatize(word) for word in word_tokenize(text.lower()) if (word not in string.punctuation) and (word not in stop_words)]"
   ]
  },
  {
   "cell_type": "code",
   "execution_count": 6,
   "metadata": {
    "id": "kiLuMIdvtKwY"
   },
   "outputs": [],
   "source": [
    "df['negative'] = df['negative'].apply(process_text)\n",
    "df['positive'] = df['positive'].apply(process_text)"
   ]
  },
  {
   "cell_type": "code",
   "execution_count": 7,
   "metadata": {
    "id": "588w7PKZtKwY"
   },
   "outputs": [],
   "source": [
    "df_train, df_test = train_test_split(df, random_state=7)"
   ]
  },
  {
   "cell_type": "code",
   "execution_count": 8,
   "metadata": {
    "colab": {
     "base_uri": "https://localhost:8080/",
     "height": 194
    },
    "id": "ou-m6SIzicnf",
    "outputId": "84087430-2903-421b-c5c2-d81c45c3b3bd"
   },
   "outputs": [
    {
     "data": {
      "text/html": [
       "<div>\n",
       "<style scoped>\n",
       "    .dataframe tbody tr th:only-of-type {\n",
       "        vertical-align: middle;\n",
       "    }\n",
       "\n",
       "    .dataframe tbody tr th {\n",
       "        vertical-align: top;\n",
       "    }\n",
       "\n",
       "    .dataframe thead th {\n",
       "        text-align: right;\n",
       "    }\n",
       "</style>\n",
       "<table border=\"1\" class=\"dataframe\">\n",
       "  <thead>\n",
       "    <tr style=\"text-align: right;\">\n",
       "      <th></th>\n",
       "      <th>review_id</th>\n",
       "      <th>negative</th>\n",
       "      <th>positive</th>\n",
       "      <th>score</th>\n",
       "    </tr>\n",
       "  </thead>\n",
       "  <tbody>\n",
       "    <tr>\n",
       "      <th>48918</th>\n",
       "      <td>7d780ebafd80cbc60668d5767bffb3b9</td>\n",
       "      <td>[room, hallway, look, little, dated, building,...</td>\n",
       "      <td>[quiet, hotel, close, city, centre, clean, bre...</td>\n",
       "      <td>8.3</td>\n",
       "    </tr>\n",
       "    <tr>\n",
       "      <th>11580</th>\n",
       "      <td>1df7393919c10d22daab9a24c0b333fe</td>\n",
       "      <td>[initial, check, staff, curt]</td>\n",
       "      <td>[positive]</td>\n",
       "      <td>9.2</td>\n",
       "    </tr>\n",
       "    <tr>\n",
       "      <th>55066</th>\n",
       "      <td>8cf44c93a0121361cc03c3728d1fa85e</td>\n",
       "      <td>[nothing, like]</td>\n",
       "      <td>[bed, really, comfortable, everywhere, clean, ...</td>\n",
       "      <td>9.2</td>\n",
       "    </tr>\n",
       "    <tr>\n",
       "      <th>7647</th>\n",
       "      <td>13fa8c3d3314da14afa14cb21857b841</td>\n",
       "      <td>[negative]</td>\n",
       "      <td>[hotel, quiet, comfortable, really, nice, area...</td>\n",
       "      <td>9.2</td>\n",
       "    </tr>\n",
       "    <tr>\n",
       "      <th>35031</th>\n",
       "      <td>5a0e4d195331de557776a1ebf168ce39</td>\n",
       "      <td>[none]</td>\n",
       "      <td>[nothing, special, everything, fine, excellent...</td>\n",
       "      <td>8.3</td>\n",
       "    </tr>\n",
       "  </tbody>\n",
       "</table>\n",
       "</div>"
      ],
      "text/plain": [
       "                              review_id  ... score\n",
       "48918  7d780ebafd80cbc60668d5767bffb3b9  ...   8.3\n",
       "11580  1df7393919c10d22daab9a24c0b333fe  ...   9.2\n",
       "55066  8cf44c93a0121361cc03c3728d1fa85e  ...   9.2\n",
       "7647   13fa8c3d3314da14afa14cb21857b841  ...   9.2\n",
       "35031  5a0e4d195331de557776a1ebf168ce39  ...   8.3\n",
       "\n",
       "[5 rows x 4 columns]"
      ]
     },
     "execution_count": 8,
     "metadata": {
      "tags": []
     },
     "output_type": "execute_result"
    }
   ],
   "source": [
    "df_train.head()"
   ]
  },
  {
   "cell_type": "markdown",
   "metadata": {
    "id": "HJiD8e4xtKwY"
   },
   "source": [
    "### Часть 1. 1 балл"
   ]
  },
  {
   "cell_type": "markdown",
   "metadata": {
    "id": "FSIhAGopilsj"
   },
   "source": [
    "Объединим вектора positive и negative. Отдельно выделим X_train, y_train, X_test, y_test."
   ]
  },
  {
   "cell_type": "code",
   "execution_count": 9,
   "metadata": {
    "id": "vW0i3b0-iyqh"
   },
   "outputs": [],
   "source": [
    "X_train = df_train['negative'] + df_train['positive']\n",
    "y_train = df_train['score']\n",
    "X_test = df_test['negative'] + df_test['positive']\n",
    "y_test = df_test['score']"
   ]
  },
  {
   "cell_type": "code",
   "execution_count": 10,
   "metadata": {
    "colab": {
     "base_uri": "https://localhost:8080/"
    },
    "id": "lxlyWcwzlDHm",
    "outputId": "4aa65e73-1c28-46a2-8f2b-438ca710e489"
   },
   "outputs": [
    {
     "data": {
      "text/plain": [
       "48918    [room, hallway, look, little, dated, building,...\n",
       "11580              [initial, check, staff, curt, positive]\n",
       "55066    [nothing, like, bed, really, comfortable, ever...\n",
       "7647     [negative, hotel, quiet, comfortable, really, ...\n",
       "35031    [none, nothing, special, everything, fine, exc...\n",
       "dtype: object"
      ]
     },
     "execution_count": 10,
     "metadata": {
      "tags": []
     },
     "output_type": "execute_result"
    }
   ],
   "source": [
    "X_train.head()"
   ]
  },
  {
   "cell_type": "code",
   "execution_count": 11,
   "metadata": {
    "id": "aLhnENl_p6GC"
   },
   "outputs": [],
   "source": [
    "X_train_text = [' '.join(i) for i in X_train]\n",
    "X_test_text = [' '.join(i) for i in X_test]"
   ]
  },
  {
   "cell_type": "code",
   "execution_count": 12,
   "metadata": {
    "colab": {
     "base_uri": "https://localhost:8080/"
    },
    "id": "OlzJ7lcwtXP5",
    "outputId": "6c11f3fc-f6a6-4a17-85ca-8b72cd507f88"
   },
   "outputs": [
    {
     "data": {
      "text/plain": [
       "['room hallway look little dated building quite dark quiet hotel close city centre clean breakfast average',\n",
       " 'initial check staff curt positive',\n",
       " 'nothing like bed really comfortable everywhere clean breakfast excellent',\n",
       " 'negative hotel quiet comfortable really nice area stone throw eiffel tower',\n",
       " 'none nothing special everything fine excellent location convenient small purchase cafe']"
      ]
     },
     "execution_count": 12,
     "metadata": {
      "tags": []
     },
     "output_type": "execute_result"
    }
   ],
   "source": [
    "X_train_text[:5]"
   ]
  },
  {
   "cell_type": "code",
   "execution_count": 13,
   "metadata": {
    "colab": {
     "base_uri": "https://localhost:8080/"
    },
    "id": "Rx6rWg7VueUl",
    "outputId": "dec35817-f3e9-4c14-cd25-76c793533a3b"
   },
   "outputs": [
    {
     "data": {
      "text/plain": [
       "75000"
      ]
     },
     "execution_count": 13,
     "metadata": {
      "tags": []
     },
     "output_type": "execute_result"
    }
   ],
   "source": [
    "len(X_train_text)"
   ]
  },
  {
   "cell_type": "markdown",
   "metadata": {
    "id": "19oe5Sc2upBz"
   },
   "source": [
    "Загружая такое количество данных, ОЗУ полностью заполняется, поэтому возьму часть данных."
   ]
  },
  {
   "cell_type": "code",
   "execution_count": 14,
   "metadata": {
    "id": "21jqIW3PunUf"
   },
   "outputs": [],
   "source": [
    "X_train_text_part = X_train_text[:40000]\n",
    "y_train_part = y_train[:40000]\n",
    "X_test_text_part = X_test_text[:20000]\n",
    "y_test_part = y_test[:20000]"
   ]
  },
  {
   "cell_type": "markdown",
   "metadata": {
    "id": "zGWCGemStKwZ"
   },
   "source": [
    "Обучите логистическую регрессию на TF-IDF векторах текстов."
   ]
  },
  {
   "cell_type": "code",
   "execution_count": 15,
   "metadata": {
    "id": "3tDzGuaLkW5V"
   },
   "outputs": [],
   "source": [
    "tfidf_vect = TfidfVectorizer()"
   ]
  },
  {
   "cell_type": "code",
   "execution_count": 16,
   "metadata": {
    "id": "1SBKhihHiMHr"
   },
   "outputs": [],
   "source": [
    "X_train_tfidf =  tfidf_vect.fit_transform(X_train_text_part)\n",
    "X_test_tfidf = tfidf_vect.transform(X_test_text_part)"
   ]
  },
  {
   "cell_type": "code",
   "execution_count": 17,
   "metadata": {
    "id": "tMt2jUW6rOGn"
   },
   "outputs": [],
   "source": [
    "X_train_tfidf = X_train_tfidf.toarray()"
   ]
  },
  {
   "cell_type": "code",
   "execution_count": 18,
   "metadata": {
    "id": "_IoALvafhcXz"
   },
   "outputs": [],
   "source": [
    "lin_model = SGDRegressor()\n",
    "lin_model.fit(X_train_tfidf, y_train_part)\n",
    "\n",
    "del X_train_tfidf"
   ]
  },
  {
   "cell_type": "code",
   "execution_count": 19,
   "metadata": {
    "colab": {
     "base_uri": "https://localhost:8080/"
    },
    "id": "ttSUyPrT0OAG",
    "outputId": "2f5ecade-40d4-438c-f215-18f5104223e7"
   },
   "outputs": [
    {
     "name": "stdout",
     "output_type": "stream",
     "text": [
      "MAE: 0.9522221976601526\n"
     ]
    }
   ],
   "source": [
    "X_test_tfidf = X_test_tfidf.toarray()\n",
    "y_pred = lin_model.predict(X_test_tfidf)\n",
    "print(f'MAE: {mean_absolute_error(y_test_part, y_pred)}')\n",
    "\n",
    "del X_test_tfidf"
   ]
  },
  {
   "cell_type": "markdown",
   "metadata": {
    "id": "EiYJKgz_tKwZ"
   },
   "source": [
    "### Часть 2. 3 балла"
   ]
  },
  {
   "cell_type": "markdown",
   "metadata": {
    "id": "GFCKIz7gtKwZ"
   },
   "source": [
    "Обучите логистическую регрессию на усредненных Word2Vec векторах. "
   ]
  },
  {
   "cell_type": "code",
   "execution_count": 20,
   "metadata": {
    "id": "pWDeHzFAPhbL"
   },
   "outputs": [],
   "source": [
    "X_train_part = X_train[:40000]\n",
    "X_test_part = X_test[:20000]"
   ]
  },
  {
   "cell_type": "code",
   "execution_count": 42,
   "metadata": {
    "id": "C6d37xmxtKwZ"
   },
   "outputs": [],
   "source": [
    "w2v = Word2Vec(X_train_part, min_count=1)"
   ]
  },
  {
   "cell_type": "code",
   "execution_count": 43,
   "metadata": {
    "colab": {
     "base_uri": "https://localhost:8080/"
    },
    "id": "cb3vXMJTPzsc",
    "outputId": "5ebb4145-775c-4333-aa4a-559535c599e3"
   },
   "outputs": [
    {
     "data": {
      "text/plain": [
       "48918    [room, hallway, look, little, dated, building,...\n",
       "11580              [initial, check, staff, curt, positive]\n",
       "55066    [nothing, like, bed, really, comfortable, ever...\n",
       "7647     [negative, hotel, quiet, comfortable, really, ...\n",
       "35031    [none, nothing, special, everything, fine, exc...\n",
       "dtype: object"
      ]
     },
     "execution_count": 43,
     "metadata": {
      "tags": []
     },
     "output_type": "execute_result"
    }
   ],
   "source": [
    "X_train_part[:5]"
   ]
  },
  {
   "cell_type": "code",
   "execution_count": 44,
   "metadata": {
    "id": "HvkJBADCMJ_0"
   },
   "outputs": [],
   "source": [
    "def calc_mean_embeds(X, size):\n",
    "  mean_embeds = []\n",
    "  for i in range(len(X)):\n",
    "    sum_embed = np.zeros(size)\n",
    "    sentence = np.array(X)[i]\n",
    "    len_sentence = len(sentence)\n",
    "    if len_sentence == 0:\n",
    "      mean_embeds.append(sum_embed)\n",
    "    else:\n",
    "      for j in sentence:\n",
    "          try:\n",
    "            word_embed = w2v[j]\n",
    "            sum_embed += word_embed\n",
    "          except KeyError:\n",
    "            continue\n",
    "\n",
    "      mean_embed = sum_embed / len_sentence\n",
    "      mean_embeds.append(mean_embed)\n",
    "\n",
    "  return np.array(mean_embeds)"
   ]
  },
  {
   "cell_type": "code",
   "execution_count": 45,
   "metadata": {
    "colab": {
     "base_uri": "https://localhost:8080/"
    },
    "id": "dsCiYMWggzTi",
    "outputId": "db56d714-6af2-48ce-9c91-2ee114a05d4b"
   },
   "outputs": [
    {
     "name": "stderr",
     "output_type": "stream",
     "text": [
      "/usr/local/lib/python3.6/dist-packages/ipykernel_launcher.py:12: DeprecationWarning: Call to deprecated `__getitem__` (Method will be removed in 4.0.0, use self.wv.__getitem__() instead).\n",
      "  if sys.path[0] == '':\n"
     ]
    }
   ],
   "source": [
    "X_train_mean_embeds = calc_mean_embeds(X_train_part, 100)"
   ]
  },
  {
   "cell_type": "code",
   "execution_count": 46,
   "metadata": {
    "colab": {
     "base_uri": "https://localhost:8080/"
    },
    "id": "C5McSvWJjBG6",
    "outputId": "5fd3065e-817d-47c9-e0e8-3a7caeb1877c"
   },
   "outputs": [
    {
     "name": "stderr",
     "output_type": "stream",
     "text": [
      "/usr/local/lib/python3.6/dist-packages/ipykernel_launcher.py:12: DeprecationWarning: Call to deprecated `__getitem__` (Method will be removed in 4.0.0, use self.wv.__getitem__() instead).\n",
      "  if sys.path[0] == '':\n"
     ]
    }
   ],
   "source": [
    "X_test_mean_embeds = calc_mean_embeds(X_test_part, 100)"
   ]
  },
  {
   "cell_type": "code",
   "execution_count": 47,
   "metadata": {
    "colab": {
     "base_uri": "https://localhost:8080/"
    },
    "id": "LbwEJ2BUhla4",
    "outputId": "b29a665c-424b-44e0-a519-56243a712f23"
   },
   "outputs": [
    {
     "data": {
      "text/plain": [
       "array([[-0.70328436, -0.47079123,  0.43118769, ..., -0.53426798,\n",
       "         0.21438275,  0.33311336],\n",
       "       [-0.4705393 , -0.45138839,  0.30432983, ..., -0.19943863,\n",
       "        -0.27657032,  0.00682743],\n",
       "       [-0.25757051, -0.68724644,  0.42336647, ..., -0.20546688,\n",
       "         0.76284878,  0.72255952],\n",
       "       ...,\n",
       "       [-0.72733141, -0.13699526,  0.38425547, ..., -0.62417981,\n",
       "         0.52860736, -0.3817087 ],\n",
       "       [ 0.06391368, -0.459142  ,  0.50438889, ..., -0.6809098 ,\n",
       "         0.55279067,  0.13077754],\n",
       "       [-0.22860216, -0.48160103,  0.27929893, ...,  0.05274016,\n",
       "         0.13866522,  0.1105703 ]])"
      ]
     },
     "execution_count": 47,
     "metadata": {
      "tags": []
     },
     "output_type": "execute_result"
    }
   ],
   "source": [
    "X_train_mean_embeds"
   ]
  },
  {
   "cell_type": "code",
   "execution_count": 48,
   "metadata": {
    "colab": {
     "base_uri": "https://localhost:8080/"
    },
    "id": "WPLzzRtEgPR1",
    "outputId": "aed57463-6665-4942-9465-1e4d2b07cba6"
   },
   "outputs": [
    {
     "data": {
      "text/plain": [
       "SGDRegressor(alpha=0.0001, average=False, early_stopping=False, epsilon=0.1,\n",
       "             eta0=0.01, fit_intercept=True, l1_ratio=0.15,\n",
       "             learning_rate='invscaling', loss='squared_loss', max_iter=1000,\n",
       "             n_iter_no_change=5, penalty='l2', power_t=0.25, random_state=None,\n",
       "             shuffle=True, tol=0.001, validation_fraction=0.1, verbose=0,\n",
       "             warm_start=False)"
      ]
     },
     "execution_count": 48,
     "metadata": {
      "tags": []
     },
     "output_type": "execute_result"
    }
   ],
   "source": [
    "lin_model = SGDRegressor()\n",
    "lin_model.fit(X_train_mean_embeds, y_train_part)"
   ]
  },
  {
   "cell_type": "code",
   "execution_count": 49,
   "metadata": {
    "colab": {
     "base_uri": "https://localhost:8080/"
    },
    "id": "amA1bSc6x060",
    "outputId": "2fa9511e-8996-4c7d-eeb7-3293e3a7f7a5"
   },
   "outputs": [
    {
     "name": "stdout",
     "output_type": "stream",
     "text": [
      "MAE: 1.0575566592514014\n"
     ]
    }
   ],
   "source": [
    "y_pred = lin_model.predict(X_test_mean_embeds)\n",
    "print(f'MAE: {mean_absolute_error(y_test_part, y_pred)}')"
   ]
  },
  {
   "cell_type": "markdown",
   "metadata": {
    "id": "bnbdnUCitKwa"
   },
   "source": [
    "Усредняя w2v вектора, мы предполагаем, что каждое слово имеет равноценный вклад в смысл предложения, однако это может быть не совсем так. Теперь попробуйте воспользоваться другой концепцией и перевзвесить слова при получении итогового эмбеддинга текста. В качестве весов используйте IDF (Inverse document frequency)"
   ]
  },
  {
   "cell_type": "code",
   "execution_count": 50,
   "metadata": {
    "id": "P3-8jn6LtKwa"
   },
   "outputs": [],
   "source": [
    "def calc_idf(texts):\n",
    "    tfidf_vect_def = TfidfVectorizer()\n",
    "    tfidf_vect_def.fit(texts)\n",
    "    return dict(zip(tfidf_vect_def.get_feature_names(), tfidf_vect_def.idf_))"
   ]
  },
  {
   "cell_type": "code",
   "execution_count": 51,
   "metadata": {
    "id": "1jOwJyadRUH_"
   },
   "outputs": [],
   "source": [
    "X_train_part_text = [' '.join(i) for i in X_train_part]\n",
    "X_train_part_idf = calc_idf(X_train_part_text)"
   ]
  },
  {
   "cell_type": "code",
   "execution_count": null,
   "metadata": {
    "id": "yKOtv7e7TF-V"
   },
   "outputs": [],
   "source": [
    "X_train_part_idf"
   ]
  },
  {
   "cell_type": "code",
   "execution_count": 53,
   "metadata": {
    "id": "D7YfZN4BTRNU"
   },
   "outputs": [],
   "source": [
    "def calc_idf_embeds(X, size):\n",
    "  idf_embeds = []\n",
    "  for i in range(len(X)):\n",
    "    sum_embed = np.zeros(size)\n",
    "    sentence = np.array(X)[i]\n",
    "    len_sentence = len(sentence)\n",
    "    if len_sentence == 0:\n",
    "      idf_embeds.append(sum_embed)\n",
    "    else:\n",
    "      for j in sentence:\n",
    "          try:\n",
    "            word_idf = X_train_part_idf[j]\n",
    "            word_embed = w2v[j]\n",
    "            sum_embed += word_embed * word_idf\n",
    "          except KeyError:\n",
    "            continue\n",
    "\n",
    "      idf_embed = sum_embed / len_sentence\n",
    "      idf_embeds.append(idf_embed)\n",
    "\n",
    "  return np.array(idf_embeds)"
   ]
  },
  {
   "cell_type": "code",
   "execution_count": 54,
   "metadata": {
    "colab": {
     "base_uri": "https://localhost:8080/"
    },
    "id": "ZlpmbavVW7eY",
    "outputId": "a4c9fedb-9bc4-4bea-ccce-70ec2a650b5e"
   },
   "outputs": [
    {
     "name": "stderr",
     "output_type": "stream",
     "text": [
      "/usr/local/lib/python3.6/dist-packages/ipykernel_launcher.py:13: DeprecationWarning: Call to deprecated `__getitem__` (Method will be removed in 4.0.0, use self.wv.__getitem__() instead).\n",
      "  del sys.path[0]\n"
     ]
    }
   ],
   "source": [
    "X_train_idf_embeds = calc_idf_embeds(X_train_part, 100)"
   ]
  },
  {
   "cell_type": "code",
   "execution_count": 55,
   "metadata": {
    "colab": {
     "base_uri": "https://localhost:8080/"
    },
    "id": "fADbSEdbXuue",
    "outputId": "85d36e6e-75ec-4c6f-ca7a-4db526e6ae87"
   },
   "outputs": [
    {
     "name": "stderr",
     "output_type": "stream",
     "text": [
      "/usr/local/lib/python3.6/dist-packages/ipykernel_launcher.py:13: DeprecationWarning: Call to deprecated `__getitem__` (Method will be removed in 4.0.0, use self.wv.__getitem__() instead).\n",
      "  del sys.path[0]\n"
     ]
    }
   ],
   "source": [
    "X_test_idf_embeds = calc_idf_embeds(X_test_part, 100)"
   ]
  },
  {
   "cell_type": "code",
   "execution_count": 56,
   "metadata": {
    "colab": {
     "base_uri": "https://localhost:8080/"
    },
    "id": "bzI49i6fX6u0",
    "outputId": "e9852b77-7f8a-4865-b4c6-d82a5bc40586"
   },
   "outputs": [
    {
     "data": {
      "text/plain": [
       "array([[-0.70328436, -0.47079123,  0.43118769, ..., -0.53426798,\n",
       "         0.21438275,  0.33311336],\n",
       "       [-0.4705393 , -0.45138839,  0.30432983, ..., -0.19943863,\n",
       "        -0.27657032,  0.00682743],\n",
       "       [-0.25757051, -0.68724644,  0.42336647, ..., -0.20546688,\n",
       "         0.76284878,  0.72255952],\n",
       "       ...,\n",
       "       [-0.72733141, -0.13699526,  0.38425547, ..., -0.62417981,\n",
       "         0.52860736, -0.3817087 ],\n",
       "       [ 0.06391368, -0.459142  ,  0.50438889, ..., -0.6809098 ,\n",
       "         0.55279067,  0.13077754],\n",
       "       [-0.22860216, -0.48160103,  0.27929893, ...,  0.05274016,\n",
       "         0.13866522,  0.1105703 ]])"
      ]
     },
     "execution_count": 56,
     "metadata": {
      "tags": []
     },
     "output_type": "execute_result"
    }
   ],
   "source": [
    "X_train_mean_embeds"
   ]
  },
  {
   "cell_type": "code",
   "execution_count": 57,
   "metadata": {
    "colab": {
     "base_uri": "https://localhost:8080/"
    },
    "id": "1ocpoibdX8yq",
    "outputId": "acdff69c-641e-489d-bda2-b8c58d36378d"
   },
   "outputs": [
    {
     "data": {
      "text/plain": [
       "SGDRegressor(alpha=0.0001, average=False, early_stopping=False, epsilon=0.1,\n",
       "             eta0=0.01, fit_intercept=True, l1_ratio=0.15,\n",
       "             learning_rate='invscaling', loss='squared_loss', max_iter=1000,\n",
       "             n_iter_no_change=5, penalty='l2', power_t=0.25, random_state=None,\n",
       "             shuffle=True, tol=0.001, validation_fraction=0.1, verbose=0,\n",
       "             warm_start=False)"
      ]
     },
     "execution_count": 57,
     "metadata": {
      "tags": []
     },
     "output_type": "execute_result"
    }
   ],
   "source": [
    "lin_model_idf = SGDRegressor()\n",
    "lin_model_idf.fit(X_train_idf_embeds, y_train_part)"
   ]
  },
  {
   "cell_type": "code",
   "execution_count": 58,
   "metadata": {
    "colab": {
     "base_uri": "https://localhost:8080/"
    },
    "id": "G1CIjaqqYGsM",
    "outputId": "64639e67-5569-48a8-a12b-92b1194af505"
   },
   "outputs": [
    {
     "name": "stdout",
     "output_type": "stream",
     "text": [
      "MAE: 3.165351632078932\n"
     ]
    }
   ],
   "source": [
    "y_pred = lin_model.predict(X_test_idf_embeds)\n",
    "print(f'MAE: {mean_absolute_error(y_test_part, y_pred)}')"
   ]
  },
  {
   "cell_type": "code",
   "execution_count": 59,
   "metadata": {
    "colab": {
     "base_uri": "https://localhost:8080/"
    },
    "id": "lZQy1BusZPz6",
    "outputId": "5158f1e5-f2e7-49ae-96fe-071c0a6c833a"
   },
   "outputs": [
    {
     "data": {
      "text/plain": [
       "[100, 150, 200, 250, 300]"
      ]
     },
     "execution_count": 59,
     "metadata": {
      "tags": []
     },
     "output_type": "execute_result"
    }
   ],
   "source": [
    "sizes = list(range(100, 350, 50))\n",
    "sizes"
   ]
  },
  {
   "cell_type": "markdown",
   "metadata": {
    "id": "BGrZ5iPeaHYH"
   },
   "source": [
    "Возьмем в этот раз полные выборки тренировочного и тестового датасетов без урезания."
   ]
  },
  {
   "cell_type": "code",
   "execution_count": 60,
   "metadata": {
    "colab": {
     "base_uri": "https://localhost:8080/"
    },
    "id": "27WQD6MtZ1z4",
    "outputId": "4c959efb-a8b4-48ae-b767-143f834b7ef8"
   },
   "outputs": [
    {
     "name": "stderr",
     "output_type": "stream",
     "text": [
      "/usr/local/lib/python3.6/dist-packages/ipykernel_launcher.py:12: DeprecationWarning: Call to deprecated `__getitem__` (Method will be removed in 4.0.0, use self.wv.__getitem__() instead).\n",
      "  if sys.path[0] == '':\n",
      "/usr/local/lib/python3.6/dist-packages/ipykernel_launcher.py:13: DeprecationWarning: Call to deprecated `__getitem__` (Method will be removed in 4.0.0, use self.wv.__getitem__() instead).\n",
      "  del sys.path[0]\n",
      "/usr/local/lib/python3.6/dist-packages/ipykernel_launcher.py:12: DeprecationWarning: Call to deprecated `__getitem__` (Method will be removed in 4.0.0, use self.wv.__getitem__() instead).\n",
      "  if sys.path[0] == '':\n",
      "/usr/local/lib/python3.6/dist-packages/ipykernel_launcher.py:13: DeprecationWarning: Call to deprecated `__getitem__` (Method will be removed in 4.0.0, use self.wv.__getitem__() instead).\n",
      "  del sys.path[0]\n",
      "/usr/local/lib/python3.6/dist-packages/ipykernel_launcher.py:12: DeprecationWarning: Call to deprecated `__getitem__` (Method will be removed in 4.0.0, use self.wv.__getitem__() instead).\n",
      "  if sys.path[0] == '':\n",
      "/usr/local/lib/python3.6/dist-packages/ipykernel_launcher.py:13: DeprecationWarning: Call to deprecated `__getitem__` (Method will be removed in 4.0.0, use self.wv.__getitem__() instead).\n",
      "  del sys.path[0]\n",
      "/usr/local/lib/python3.6/dist-packages/ipykernel_launcher.py:12: DeprecationWarning: Call to deprecated `__getitem__` (Method will be removed in 4.0.0, use self.wv.__getitem__() instead).\n",
      "  if sys.path[0] == '':\n",
      "/usr/local/lib/python3.6/dist-packages/ipykernel_launcher.py:13: DeprecationWarning: Call to deprecated `__getitem__` (Method will be removed in 4.0.0, use self.wv.__getitem__() instead).\n",
      "  del sys.path[0]\n",
      "/usr/local/lib/python3.6/dist-packages/ipykernel_launcher.py:12: DeprecationWarning: Call to deprecated `__getitem__` (Method will be removed in 4.0.0, use self.wv.__getitem__() instead).\n",
      "  if sys.path[0] == '':\n",
      "/usr/local/lib/python3.6/dist-packages/ipykernel_launcher.py:13: DeprecationWarning: Call to deprecated `__getitem__` (Method will be removed in 4.0.0, use self.wv.__getitem__() instead).\n",
      "  del sys.path[0]\n"
     ]
    }
   ],
   "source": [
    "mae_mean = []\n",
    "mae_idf = []\n",
    "for size in sizes:\n",
    "  w2v = Word2Vec(X_train, min_count=1, size=size)\n",
    "  X_train_mean_embeds = calc_mean_embeds(X_train, size)\n",
    "  X_test_mean_embeds = calc_mean_embeds(X_test, size)\n",
    "  X_train_idf_embeds = calc_idf_embeds(X_train, size)\n",
    "  X_test_idf_embeds = calc_idf_embeds(X_test, size)\n",
    "\n",
    "  lin_model_mean = SGDRegressor()\n",
    "  lin_model_mean.fit(X_train_mean_embeds, y_train)\n",
    "  lin_model_idf = SGDRegressor()\n",
    "  lin_model_idf.fit(X_train_idf_embeds, y_train)\n",
    "\n",
    "  y_pred_mean = lin_model_mean.predict(X_test_mean_embeds)\n",
    "  mae_mean.append(mean_absolute_error(y_test, y_pred_mean))\n",
    "  y_pred_idf = lin_model_idf.predict(X_test_idf_embeds)\n",
    "  mae_idf.append(mean_absolute_error(y_test, y_pred_idf))"
   ]
  },
  {
   "cell_type": "code",
   "execution_count": 61,
   "metadata": {
    "colab": {
     "base_uri": "https://localhost:8080/",
     "height": 513
    },
    "id": "1JvJFAIMcuXP",
    "outputId": "147c38e5-1ae9-4b34-d8bb-a54e8a2960a8"
   },
   "outputs": [
    {
     "data": {
      "image/png": "[encoded data removed]",
      "text/plain": [
       "<Figure size 1080x576 with 2 Axes>"
      ]
     },
     "metadata": {
      "needs_background": "light",
      "tags": []
     },
     "output_type": "display_data"
    }
   ],
   "source": [
    "fig, ax = plt.subplots(1, 2, figsize=(15, 8), sharey=True)\n",
    "sns.lineplot(x=sizes, y=mae_mean, ax=ax[0])\n",
    "sns.lineplot(x=sizes, y=mae_idf, ax=ax[1])\n",
    "ax[0].set_title('MEAN')\n",
    "ax[1].set_title('IDF')\n",
    "ax[0].set_xlabel('size')\n",
    "ax[1].set_xlabel('size')\n",
    "ax[0].set_ylabel('MAE')\n",
    "ax[0].grid()\n",
    "ax[1].grid()\n",
    "\n",
    "plt.show()"
   ]
  },
  {
   "cell_type": "markdown",
   "metadata": {
    "id": "OljJKpTHtKwa"
   },
   "source": [
    "Проведите эксперименты с размерностью эмбеддинга. Для каждого из двух методов постройте график зависимости качества модели от размерности эмбеддинга. \n",
    "#### Сделайте выводы: заметим, что на небольших размерностью эмбеддингах метрика качества MAE ниже при idf до 150. Только, начиная с эмбэддинга размерностью 300 снова, метрика качества ниже при idf, чем при усреднении. Поэтому имеет смысл взять эмбэддинг больше 300, чтобы добиться MAE меньше при использовании idf. Кроме этого, видим, что при усреднении метрика качества не снижается ниже, чем 1.01, а при idf - 1."
   ]
  },
  {
   "cell_type": "code",
   "execution_count": 62,
   "metadata": {
    "colab": {
     "base_uri": "https://localhost:8080/"
    },
    "id": "Cvwhbs8xvEM2",
    "outputId": "ba3bf433-d934-44f4-bded-7600a9f0df43"
   },
   "outputs": [
    {
     "name": "stderr",
     "output_type": "stream",
     "text": [
      "/usr/local/lib/python3.6/dist-packages/ipykernel_launcher.py:13: DeprecationWarning: Call to deprecated `__getitem__` (Method will be removed in 4.0.0, use self.wv.__getitem__() instead).\n",
      "  del sys.path[0]\n"
     ]
    }
   ],
   "source": [
    "w2v = Word2Vec(X_train, min_count=1, size=300)\n",
    "X_train_idf_embeds = calc_idf_embeds(X_train, 300)\n",
    "X_test_idf_embeds = calc_idf_embeds(X_test, 300)\n",
    "lin_model_idf = RidgeCV(cv=5)\n",
    "lin_model_idf.fit(X_train_idf_embeds, y_train)\n",
    "y_pred_idf = lin_model_idf.predict(X_test_idf_embeds)"
   ]
  },
  {
   "cell_type": "code",
   "execution_count": 63,
   "metadata": {
    "colab": {
     "base_uri": "https://localhost:8080/"
    },
    "id": "h_uAalQtx9ZH",
    "outputId": "0e9b5ceb-4a35-414d-cc77-fe2978c5e9cb"
   },
   "outputs": [
    {
     "name": "stdout",
     "output_type": "stream",
     "text": [
      "MAE: 0.9828782867762176\n"
     ]
    }
   ],
   "source": [
    "print(f'MAE: {mean_absolute_error(y_test, y_pred_idf)}')"
   ]
  },
  {
   "cell_type": "markdown",
   "metadata": {
    "id": "FWLm5ObctKwa"
   },
   "source": [
    "Теперь попробуйте обучить логистическую регрессию на любых других эмбеддингах размерности 300 и сравните качество с Word2Vec.\n",
    "#### Выводы:"
   ]
  },
  {
   "cell_type": "markdown",
   "metadata": {
    "id": "_7tRDz0ntKwa"
   },
   "source": [
    "### Часть 3. 6 баллов"
   ]
  },
  {
   "cell_type": "markdown",
   "metadata": {
    "id": "_4qFSyPftKwb"
   },
   "source": [
    "Теперь давайте воспользуемся более продвинутыми методами обработки текстовых данных, которые мы проходили в нашем курсе. Обучите RNN/Transformer для предсказания пользовательской оценки. Получите ошибку меньше, чем во всех вышеперечисленных методах."
   ]
  },
  {
   "cell_type": "markdown",
   "metadata": {
    "id": "8m5Hh_sdtKwb"
   },
   "source": [
    "Если будете обучать RNN, попробуйте ограничить максимальную длину предложения. Некоторые отзывы могут быть слишком длинные относительно остальных.\n",
    "\n",
    "Чтобы пользоваться DataLoader, все его элементы должны быть одинаковой размерности. Для этого вы можете добавить нулевой паддинг ко всем предложениям (см пример pad_sequence)"
   ]
  },
  {
   "cell_type": "code",
   "execution_count": null,
   "metadata": {
    "id": "ePMF_bKatKwb"
   },
   "outputs": [],
   "source": [
    "import torch\n",
    "from torch import nn\n",
    "from torch.nn import functional as F"
   ]
  },
  {
   "cell_type": "code",
   "execution_count": null,
   "metadata": {
    "id": "JBEjThqLtKwb"
   },
   "outputs": [],
   "source": [
    "WORDS = set()\n",
    "for sent in list(df['positive']):\n",
    "    for w in sent:\n",
    "        WORDS.add(w)\n",
    "        \n",
    "for sent in list(df['negative']):\n",
    "    for w in sent:\n",
    "        WORDS.add(w)"
   ]
  },
  {
   "cell_type": "code",
   "execution_count": null,
   "metadata": {
    "id": "w9-5t8PCtKwc"
   },
   "outputs": [],
   "source": [
    "int2word = dict(enumerate(tuple(WORDS)))\n",
    "word2int = {w: ii for ii, w in int2word.items()}"
   ]
  },
  {
   "cell_type": "code",
   "execution_count": null,
   "metadata": {
    "id": "_c4NC75rtKwc"
   },
   "outputs": [],
   "source": [
    "MAX_LEN = max(max(df['positive'].apply(len)), max(df['negative'].apply(len)))"
   ]
  },
  {
   "cell_type": "code",
   "execution_count": null,
   "metadata": {
    "id": "7o2g_azttKwc",
    "outputId": "e7d2f33d-1636-4cba-e591-3c46de78f7ff"
   },
   "outputs": [
    {
     "data": {
      "text/plain": [
       "399"
      ]
     },
     "execution_count": 19,
     "metadata": {
      "tags": []
     },
     "output_type": "execute_result"
    }
   ],
   "source": [
    "MAX_LEN"
   ]
  },
  {
   "cell_type": "code",
   "execution_count": null,
   "metadata": {
    "id": "t9xevTCItKwc"
   },
   "outputs": [],
   "source": [
    "from torch.nn.utils.rnn import pad_sequence\n",
    "\n",
    "train_pos_pad = pad_sequence([torch.as_tensor([word2int[w] for w in seq][:MAX_LEN]) for seq in df_train['positive']], \n",
    "                           batch_first=True)"
   ]
  },
  {
   "cell_type": "code",
   "execution_count": null,
   "metadata": {
    "id": "iczuaIYJtKwd"
   },
   "outputs": [],
   "source": [
    "class ReviewsDataset(torch.utils.data.Dataset):\n",
    "    def __init__(self, df):\n",
    "        ## TODO\n",
    "        pass\n",
    "        \n",
    "    def __len__(self):\n",
    "        ## TODO\n",
    "        pass\n",
    "    \n",
    "    def __getitem__(self, idx):\n",
    "        ## TODO\n",
    "        pass"
   ]
  },
  {
   "cell_type": "code",
   "execution_count": null,
   "metadata": {
    "id": "yfVsbvqGtKwd"
   },
   "outputs": [],
   "source": [
    "BATCH_SIZE = 1\n",
    "\n",
    "train_dataset = ReviewsDataset(df_train)\n",
    "test_dataset = ReviewsDataset(df_test)\n",
    "\n",
    "train_dataloader = torch.utils.data.DataLoader(train_dataset, batch_size=BATCH_SIZE)\n",
    "test_dataloader = torch.utils.data.DataLoader(test_dataset, batch_size=BATCH_SIZE)"
   ]
  },
  {
   "cell_type": "code",
   "execution_count": null,
   "metadata": {
    "id": "vwnWRapPtKwd"
   },
   "outputs": [],
   "source": [
    "NUM_EPOCHS = 1\n",
    "\n",
    "for n in range(NUM_EPOCHS):\n",
    "    model.train()\n",
    "    ## TODO"
   ]
  },
  {
   "cell_type": "markdown",
   "metadata": {
    "id": "ZWM9odBytKwd"
   },
   "source": [
    "### Бонус. 10 баллов\n",
    "\n",
    "Побейте качество 0.75 в [соревновании](https://www.kaggle.com/c/hseds-texts-2020/leaderboard). Можете воспользоваться вышеперечисленными методами или попробовать что-нибудь еще."
   ]
  },
  {
   "cell_type": "code",
   "execution_count": null,
   "metadata": {
    "id": "3PipbLRceuPe"
   },
   "outputs": [],
   "source": []
  }
 ],
 "metadata": {
  "colab": {
   "collapsed_sections": [],
   "name": "hw3.ipynb",
   "provenance": [],
   "toc_visible": true
  },
  "kernelspec": {
   "display_name": "Python 3",
   "language": "python",
   "name": "python3"
  },
  "language_info": {
   "codemirror_mode": {
    "name": "ipython",
    "version": 3
   },
   "file_extension": ".py",
   "mimetype": "text/x-python",
   "name": "python",
   "nbconvert_exporter": "python",
   "pygments_lexer": "ipython3",
   "version": "3.7.4"
  }
 },
 "nbformat": 4,
 "nbformat_minor": 1
}
